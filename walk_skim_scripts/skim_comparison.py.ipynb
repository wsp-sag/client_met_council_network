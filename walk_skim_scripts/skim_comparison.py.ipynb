{
 "cells": [
  {
   "cell_type": "markdown",
   "metadata": {},
   "source": [
    "Title:   Skim Comparison Script\n",
    "Author:  John Helsel\n",
    "Date:    February 14, 2019\n",
    "\n",
    "Description: This script deploys a number of heuristic approaches to help analysts understand whether new networks are missing important connections or have otherwise changed. It expects a CSV rendering of the difference between the new skim and the prior iteration. The script is agnostic as to the kind of skim."
   ]
  },
  {
   "cell_type": "code",
   "execution_count": null,
   "metadata": {},
   "outputs": [],
   "source": [
    "# Libraries\n",
    "import pandas as pd\n",
    "import numpy as np"
   ]
  },
  {
   "cell_type": "code",
   "execution_count": 7,
   "metadata": {},
   "outputs": [],
   "source": [
    "# IO\n",
    "skim_change = pd.read_csv(\"skim_comparison.csv\", header = None, names = ['i', 'j', 'm', 'difference'])\n",
    "original_skim = pd.read_csv(\"original_skim.csv\", header = None, names = ['i', 'j', 'm', 'time'])\n",
    "new_skim = pd.read_csv(\"new_skim.csv\", header = None, names = ['i', 'j', 'm', 'time'])"
   ]
  },
  {
   "cell_type": "code",
   "execution_count": 10,
   "metadata": {},
   "outputs": [
    {
     "data": {
      "text/plain": [
       "array([[<matplotlib.axes._subplots.AxesSubplot object at 0x00000242180250B8>]],\n",
       "      dtype=object)"
      ]
     },
     "execution_count": 10,
     "metadata": {},
     "output_type": "execute_result"
    },
    {
     "data": {
      "image/png": "[encoded data removed]",
      "text/plain": [
       "<Figure size 432x288 with 1 Axes>"
      ]
     },
     "metadata": {
      "needs_background": "light"
     },
     "output_type": "display_data"
    }
   ],
   "source": [
    "# Print Histogram of the difference\n",
    "skim_change.hist(column = 'difference', bins = 100)"
   ]
  },
  {
   "cell_type": "code",
   "execution_count": null,
   "metadata": {},
   "outputs": [],
   "source": [
    "# Give the difference as a ratio to the original skim to see if the high magnitude differences occur where \n",
    "# travel times are already long.\n",
    "\n",
    "skim_change['ratio'] = skim_change['difference'] / original_skim['time']\n",
    "\n",
    "skim_change.hist(column = 'ratio', bins = 100)"
   ]
  }
 ],
 "metadata": {
  "kernelspec": {
   "display_name": "Python 3",
   "language": "python",
   "name": "python3"
  },
  "language_info": {
   "codemirror_mode": {
    "name": "ipython",
    "version": 3
   },
   "file_extension": ".py",
   "mimetype": "text/x-python",
   "name": "python",
   "nbconvert_exporter": "python",
   "pygments_lexer": "ipython3",
   "version": "3.6.6"
  }
 },
 "nbformat": 4,
 "nbformat_minor": 2
}
