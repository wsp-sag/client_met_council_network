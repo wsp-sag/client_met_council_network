{
 "cells": [
  {
   "cell_type": "code",
   "execution_count": 1,
   "metadata": {},
   "outputs": [],
   "source": [
    "from geojson import FeatureCollection, Feature\n",
    "import http.client\n",
    "import pandas as pd\n",
    "import numpy as np\n",
    "import requests\n",
    "import json"
   ]
  },
  {
   "cell_type": "code",
   "execution_count": null,
   "metadata": {},
   "outputs": [],
   "source": [
    "# test with st paul shape\n",
    "with open('W:/Users/wangs1/Documents/Met_Council/Network Standard/stpaul_shape_test.geojson') as f:\n",
    "    data = json.load(f)"
   ]
  },
  {
   "cell_type": "code",
   "execution_count": null,
   "metadata": {},
   "outputs": [],
   "source": [
    "f = []\n",
    "for feature in data['features'][:10]:\n",
    "    f.append(Feature(geometry= feature['geometry'],\n",
    "           properties = feature['properties']))\n",
    "    fc = FeatureCollection(f)\n",
    "\n",
    "payload = str(fc).replace('\\'', '\\\"')\n",
    "    \n",
    "conn = http.client.HTTPSConnection(\"api.sharedstreets.io\")\n",
    "headers = { 'content-type': \"application/json\" }\n",
    "\n",
    "conn.request(\"POST\", \"/v0.1.0/match/geoms?authKey=bdd23fa1-7ac5-4158-b354-22ec946bb575\", payload, headers)\n",
    "\n",
    "res = conn.getresponse()\n",
    "return_data = res.read()\n",
    "\n",
    "#print(return_data.decode(\"utf-8\"))"
   ]
  }
 ],
 "metadata": {
  "kernelspec": {
   "display_name": "Python 3.7 (metC)",
   "language": "python",
   "name": "metc"
  },
  "language_info": {
   "codemirror_mode": {
    "name": "ipython",
    "version": 3
   },
   "file_extension": ".py",
   "mimetype": "text/x-python",
   "name": "python",
   "nbconvert_exporter": "python",
   "pygments_lexer": "ipython3",
   "version": "3.7.2"
  }
 },
 "nbformat": 4,
 "nbformat_minor": 2
}
