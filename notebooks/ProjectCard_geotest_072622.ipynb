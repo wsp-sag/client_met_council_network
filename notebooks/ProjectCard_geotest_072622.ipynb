{
 "cells": [
  {
   "cell_type": "code",
   "execution_count": 1,
   "id": "a8ff4262",
   "metadata": {},
   "outputs": [],
   "source": [
    "import os\n",
    "import sys\n",
    "import pickle\n",
    "from pyproj import CRS\n",
    "\n",
    "from network_wrangler import RoadwayNetwork\n",
    "from network_wrangler import TransitNetwork\n",
    "from network_wrangler import Scenario\n",
    "from network_wrangler import WranglerLogger\n",
    "\n",
    "from lasso import Parameters\n",
    "from lasso import metcouncil\n",
    "from lasso import ModelRoadwayNetwork\n",
    "from lasso import StandardTransit\n",
    "from lasso import util"
   ]
  },
  {
   "cell_type": "code",
   "execution_count": 2,
   "id": "eae97f13",
   "metadata": {},
   "outputs": [],
   "source": [
    "import logging\n",
    "logger = logging.getLogger(\"WranglerLogger\")\n",
    "logger.handlers[0].stream = sys.stdout\n",
    "logger.setLevel(logging.INFO)"
   ]
  },
  {
   "cell_type": "markdown",
   "id": "9e9dceb6",
   "metadata": {},
   "source": [
    "# remote i/o"
   ]
  },
  {
   "cell_type": "code",
   "execution_count": 3,
   "id": "7a435aea",
   "metadata": {},
   "outputs": [],
   "source": [
    "input_dir = os.path.join(\"C:/MetC_LassoData/data/processed/version_01\")\n",
    "lasso_dir = os.path.join(\"C:/Lasso\")\n",
    "output_dir = os.path.join(\"C:/NetworkManage/OutputNetworks\") #change this to output sandbox "
   ]
  },
  {
   "cell_type": "code",
   "execution_count": 4,
   "id": "db6fe84c",
   "metadata": {},
   "outputs": [],
   "source": [
    "project_card_dir = os.path.join(\"C:/project_card_registry/projects/GeoTest\")"
   ]
  },
  {
   "cell_type": "code",
   "execution_count": 5,
   "id": "3eb3ef0e",
   "metadata": {},
   "outputs": [
    {
     "name": "stdout",
     "output_type": "stream",
     "text": [
      "2022-08-01 14:40:34, INFO: Lasso base directory set as: C:/Lasso\n",
      "2022-08-01 14:40:34, INFO: Lasso base directory set as: C:/Lasso\n"
     ]
    }
   ],
   "source": [
    "parameters = Parameters(lasso_base_dir = lasso_dir)"
   ]
  },
  {
   "cell_type": "markdown",
   "id": "0e0199f5",
   "metadata": {},
   "source": [
    "# Load Version01 from pickle"
   ]
  },
  {
   "cell_type": "markdown",
   "id": "ee1867a3",
   "metadata": {},
   "source": [
    "version 01 pickle file has the standard networks with base corrections, rail links and nodes, external stations and connectors"
   ]
  },
  {
   "cell_type": "code",
   "execution_count": 6,
   "id": "c77eef0e",
   "metadata": {},
   "outputs": [],
   "source": [
    "version_01_pickle_file_name = os.path.join(input_dir, 'version_01_standard_network.pickle')\n",
    "version_01_scenario = pickle.load(open(version_01_pickle_file_name, 'rb'))"
   ]
  },
  {
   "cell_type": "code",
   "execution_count": 7,
   "id": "4c2f7f25",
   "metadata": {},
   "outputs": [
    {
     "data": {
      "text/plain": [
       "Index(['shstReferenceId', 'id', 'shstGeometryId', 'fromIntersectionId',\n",
       "       'toIntersectionId', 'u', 'v', 'nodeIds', 'wayId', 'roadClass', 'oneWay',\n",
       "       'roundabout', 'link', 'oneway', 'ref', 'name', 'highway', 'service',\n",
       "       'width', 'maxspeed', 'access', 'junction', 'bridge', 'tunnel',\n",
       "       'landuse', 'area', 'key', 'forward', 'backReferenceId', 'metadata',\n",
       "       'source', 'roadway', 'drive_access', 'walk_access', 'bike_access',\n",
       "       'county', 'length', 'A', 'B', 'model_link_id', 'locationReferences',\n",
       "       'rail_only', 'geometry', 'bus_only', 'centroidconnect', 'lanes',\n",
       "       'assign_group', 'roadway_class', 'area_type', 'ramp_flag', 'bike',\n",
       "       'walk'],\n",
       "      dtype='object')"
      ]
     },
     "execution_count": 7,
     "metadata": {},
     "output_type": "execute_result"
    }
   ],
   "source": [
    "#check columns\n",
    "version_01_scenario.road_net.links_df.columns\n"
   ]
  },
  {
   "cell_type": "markdown",
   "id": "943ed4a1",
   "metadata": {},
   "source": [
    "# Create Scenario 02"
   ]
  },
  {
   "cell_type": "code",
   "execution_count": 8,
   "id": "e1d69903",
   "metadata": {},
   "outputs": [
    {
     "name": "stdout",
     "output_type": "stream",
     "text": [
      "2022-08-01 14:41:21, INFO: Creating Scenario\n",
      "2022-08-01 14:41:21, INFO: Creating Scenario\n"
     ]
    }
   ],
   "source": [
    "version_02_scenario = Scenario.create_scenario(\n",
    "    base_scenario=version_01_scenario,\n",
    "    card_directory = project_card_dir,\n",
    "    validate_project_cards=False\n",
    ")"
   ]
  },
  {
   "cell_type": "code",
   "execution_count": 9,
   "id": "15f6461a",
   "metadata": {
    "scrolled": true
   },
   "outputs": [
    {
     "name": "stdout",
     "output_type": "stream",
     "text": [
      "2022-08-01 14:41:22, INFO: Applying demo on July 15 2022\n",
      "2022-08-01 14:41:22, INFO: Applying demo on July 15 2022\n",
      "2022-08-01 14:41:22, INFO: Applying demo on July 15 2022\n",
      "2022-08-01 14:41:22, INFO: Applying demo on July 15 2022\n",
      "2022-08-01 14:41:22, INFO: Applying Project to Roadway Network: demo on July 15 2022\n",
      "2022-08-01 14:41:22, INFO: Applying Project to Roadway Network: demo on July 15 2022\n"
     ]
    },
    {
     "name": "stderr",
     "output_type": "stream",
     "text": [
      "C:\\ProgramData\\Anaconda3\\envs\\lasso_env\\lib\\site-packages\\pandas\\core\\dtypes\\cast.py:118: ShapelyDeprecationWarning: The array interface is deprecated and will no longer work in Shapely 2.0. Convert the '.coords' to a numpy array instead.\n",
      "  arr = construct_1d_object_array_from_listlike(values)\n",
      "C:\\ProgramData\\Anaconda3\\envs\\lasso_env\\lib\\site-packages\\pandas\\core\\dtypes\\cast.py:118: ShapelyDeprecationWarning: The array interface is deprecated and will no longer work in Shapely 2.0. Convert the '.coords' to a numpy array instead.\n",
      "  arr = construct_1d_object_array_from_listlike(values)\n"
     ]
    },
    {
     "name": "stdout",
     "output_type": "stream",
     "text": [
      "2022-08-01 14:43:59, INFO: Applying demo on July 15 2022\n",
      "2022-08-01 14:43:59, INFO: Applying demo on July 15 2022\n",
      "2022-08-01 14:43:59, INFO: Applying Project to Roadway Network: demo on July 15 2022\n",
      "2022-08-01 14:43:59, INFO: Applying Project to Roadway Network: demo on July 15 2022\n",
      "2022-08-01 14:44:00, INFO: Applying Project to Transit Network: demo on July 15 2022\n",
      "2022-08-01 14:44:00, INFO: Applying Project to Transit Network: demo on July 15 2022\n",
      "2022-08-01 14:44:00, WARNING: Roadway Deletion not yet implemented in Transit; ignoring\n",
      "2022-08-01 14:44:00, WARNING: Roadway Deletion not yet implemented in Transit; ignoring\n",
      "2022-08-01 14:44:00, INFO: Applying demo on July 15 2022\n",
      "2022-08-01 14:44:00, INFO: Applying demo on July 15 2022\n",
      "2022-08-01 14:44:00, INFO: Applying Project to Roadway Network: demo on July 15 2022\n",
      "2022-08-01 14:44:00, INFO: Applying Project to Roadway Network: demo on July 15 2022\n",
      "2022-08-01 14:44:00, WARNING: Existing value defined for lanes_AM in project card does not match the value in the roadway network for the selected links\n",
      "2022-08-01 14:44:00, WARNING: Existing value defined for lanes_AM in project card does not match the value in the roadway network for the selected links\n",
      "2022-08-01 14:44:00, INFO: Applying demo on July 15 2022\n",
      "2022-08-01 14:44:00, INFO: Applying demo on July 15 2022\n",
      "2022-08-01 14:44:00, INFO: Applying Project to Roadway Network: demo on July 15 2022\n",
      "2022-08-01 14:44:00, INFO: Applying Project to Roadway Network: demo on July 15 2022\n",
      "2022-08-01 14:44:00, WARNING: Existing value defined for lanes_AM in project card does not match the value in the roadway network for the selected links\n",
      "2022-08-01 14:44:00, WARNING: Existing value defined for lanes_AM in project card does not match the value in the roadway network for the selected links\n",
      "2022-08-01 14:44:00, INFO: Applying demo on July 15 2022\n",
      "2022-08-01 14:44:00, INFO: Applying demo on July 15 2022\n",
      "2022-08-01 14:44:00, INFO: Applying Project to Roadway Network: demo on July 15 2022\n",
      "2022-08-01 14:44:00, INFO: Applying Project to Roadway Network: demo on July 15 2022\n",
      "2022-08-01 14:44:00, WARNING: Existing value defined for lanes_AM in project card does not match the value in the roadway network for the selected links\n",
      "2022-08-01 14:44:00, WARNING: Existing value defined for lanes_AM in project card does not match the value in the roadway network for the selected links\n",
      "2022-08-01 14:44:00, INFO: Applying demo on July 15 2022\n",
      "2022-08-01 14:44:00, INFO: Applying demo on July 15 2022\n",
      "2022-08-01 14:44:00, INFO: Applying Project to Roadway Network: demo on July 15 2022\n",
      "2022-08-01 14:44:00, INFO: Applying Project to Roadway Network: demo on July 15 2022\n",
      "2022-08-01 14:44:00, WARNING: Existing value defined for lanes_MD in project card does not match the value in the roadway network for the selected links\n",
      "2022-08-01 14:44:00, WARNING: Existing value defined for lanes_MD in project card does not match the value in the roadway network for the selected links\n",
      "2022-08-01 14:44:00, INFO: Applying demo on July 15 2022\n",
      "2022-08-01 14:44:00, INFO: Applying demo on July 15 2022\n",
      "2022-08-01 14:44:00, INFO: Applying Project to Roadway Network: demo on July 15 2022\n",
      "2022-08-01 14:44:00, INFO: Applying Project to Roadway Network: demo on July 15 2022\n",
      "2022-08-01 14:44:00, WARNING: Existing value defined for lanes_MD in project card does not match the value in the roadway network for the selected links\n",
      "2022-08-01 14:44:00, WARNING: Existing value defined for lanes_MD in project card does not match the value in the roadway network for the selected links\n",
      "2022-08-01 14:44:00, INFO: Applying demo on July 15 2022\n",
      "2022-08-01 14:44:00, INFO: Applying demo on July 15 2022\n",
      "2022-08-01 14:44:00, INFO: Applying Project to Roadway Network: demo on July 15 2022\n",
      "2022-08-01 14:44:00, INFO: Applying Project to Roadway Network: demo on July 15 2022\n",
      "2022-08-01 14:44:00, WARNING: Existing value defined for lanes_MD in project card does not match the value in the roadway network for the selected links\n",
      "2022-08-01 14:44:00, WARNING: Existing value defined for lanes_MD in project card does not match the value in the roadway network for the selected links\n"
     ]
    },
    {
     "name": "stderr",
     "output_type": "stream",
     "text": [
      "C:\\ProgramData\\Anaconda3\\envs\\lasso_env\\lib\\site-packages\\geopandas\\geodataframe.py:1351: SettingWithCopyWarning: \n",
      "A value is trying to be set on a copy of a slice from a DataFrame.\n",
      "Try using .loc[row_indexer,col_indexer] = value instead\n",
      "\n",
      "See the caveats in the documentation: https://pandas.pydata.org/pandas-docs/stable/user_guide/indexing.html#returning-a-view-versus-a-copy\n",
      "  super().__setitem__(key, value)\n",
      "C:\\ProgramData\\Anaconda3\\envs\\lasso_env\\lib\\site-packages\\geopandas\\geodataframe.py:1351: SettingWithCopyWarning: \n",
      "A value is trying to be set on a copy of a slice from a DataFrame.\n",
      "Try using .loc[row_indexer,col_indexer] = value instead\n",
      "\n",
      "See the caveats in the documentation: https://pandas.pydata.org/pandas-docs/stable/user_guide/indexing.html#returning-a-view-versus-a-copy\n",
      "  super().__setitem__(key, value)\n",
      "C:\\ProgramData\\Anaconda3\\envs\\lasso_env\\lib\\site-packages\\geopandas\\geodataframe.py:1351: SettingWithCopyWarning: \n",
      "A value is trying to be set on a copy of a slice from a DataFrame.\n",
      "Try using .loc[row_indexer,col_indexer] = value instead\n",
      "\n",
      "See the caveats in the documentation: https://pandas.pydata.org/pandas-docs/stable/user_guide/indexing.html#returning-a-view-versus-a-copy\n",
      "  super().__setitem__(key, value)\n"
     ]
    }
   ],
   "source": [
    "version_02_scenario.apply_all_projects()"
   ]
  },
  {
   "cell_type": "code",
   "execution_count": 10,
   "id": "e506e1e7",
   "metadata": {},
   "outputs": [
    {
     "data": {
      "text/plain": [
       "['correct year 2018 assignment group and roadway class',\n",
       " 'correct year 2018 assignment group',\n",
       " 'network cleanup remove link',\n",
       " 'Manual Changes to Assignment Group and Roadway Class',\n",
       " 'network cleanup 1 lanes 7',\n",
       " 'network cleanup 1 lanes 6',\n",
       " 'network cleanup 1 lanes 5',\n",
       " 'network cleanup 1 lanes 4',\n",
       " 'network cleanup 1 lanes 3',\n",
       " 'network cleanup 1 lanes 2e',\n",
       " 'network cleanup 1 lanes 2d part 2',\n",
       " 'network cleanup 1 lanes 2d',\n",
       " 'network cleanup 1 lanes 2c part 2',\n",
       " 'network cleanup 1 lanes 2c',\n",
       " 'network cleanup 1 lanes 2b',\n",
       " 'network cleanup 1 lanes 2a',\n",
       " 'network cleanup 1 lanes 1 h',\n",
       " 'network cleanup 1 lanes 1 g',\n",
       " 'network cleanup 1 lanes 1 f part 2',\n",
       " 'network cleanup 1 lanes 1 f',\n",
       " 'network cleanup 1 lanes 1 e part 2',\n",
       " 'network cleanup 1 lanes 1 e',\n",
       " 'network cleanup 1 lanes 1 d part 2',\n",
       " 'network cleanup 1 lanes 1 d',\n",
       " 'network cleanup 1 lanes 1 c part 2',\n",
       " 'network cleanup 1 lanes 1 c',\n",
       " 'network cleanup 1 lanes 1 b part 2',\n",
       " 'network cleanup 1 lanes 1 b',\n",
       " 'network cleanup 1 lanes 1 a part2',\n",
       " 'network cleanup 1 lanes 1 a',\n",
       " 'Year 2015 Add centroid connector at External Stations',\n",
       " 'network cleanup 1 asgngrp 7',\n",
       " 'network cleanup 1 asgngrp 6',\n",
       " 'network cleanup 1 asgngrp 50',\n",
       " 'network cleanup 1 asgngrp 4',\n",
       " 'network cleanup 1 asgngrp 2',\n",
       " 'network cleanup 1 asgngrp 15',\n",
       " 'network cleanup 1 asgngrp 1',\n",
       " 'Add walk and bike attributes',\n",
       " 'demo on July 15 2022']"
      ]
     },
     "execution_count": 10,
     "metadata": {},
     "output_type": "execute_result"
    }
   ],
   "source": [
    "# check project cards applied so far, this aslo includes the ones that were applied to version 01.\n",
    "version_02_scenario.applied_projects"
   ]
  },
  {
   "cell_type": "code",
   "execution_count": 11,
   "id": "6ff8ffdc",
   "metadata": {},
   "outputs": [
    {
     "data": {
      "text/plain": [
       "(1061713, 58)"
      ]
     },
     "execution_count": 11,
     "metadata": {},
     "output_type": "execute_result"
    }
   ],
   "source": [
    "version_02_scenario.road_net.links_df.shape"
   ]
  },
  {
   "cell_type": "code",
   "execution_count": 12,
   "id": "bc8b133b",
   "metadata": {},
   "outputs": [
    {
     "data": {
      "text/plain": [
       "1061713"
      ]
     },
     "execution_count": 12,
     "metadata": {},
     "output_type": "execute_result"
    }
   ],
   "source": [
    "version_02_scenario.road_net.links_df.model_link_id.nunique()"
   ]
  },
  {
   "cell_type": "code",
   "execution_count": 13,
   "id": "5b9c16b3",
   "metadata": {},
   "outputs": [
    {
     "data": {
      "text/plain": [
       "(414255, 11)"
      ]
     },
     "execution_count": 13,
     "metadata": {},
     "output_type": "execute_result"
    }
   ],
   "source": [
    "version_02_scenario.road_net.nodes_df.shape"
   ]
  },
  {
   "cell_type": "code",
   "execution_count": 14,
   "id": "e00bea23",
   "metadata": {},
   "outputs": [
    {
     "data": {
      "text/plain": [
       "414255"
      ]
     },
     "execution_count": 14,
     "metadata": {},
     "output_type": "execute_result"
    }
   ],
   "source": [
    "version_02_scenario.road_net.nodes_df.model_node_id.nunique()"
   ]
  },
  {
   "cell_type": "markdown",
   "id": "969b2a88",
   "metadata": {},
   "source": [
    "# Make Travel Model Network"
   ]
  },
  {
   "cell_type": "code",
   "execution_count": 15,
   "id": "9c99f537",
   "metadata": {},
   "outputs": [
    {
     "name": "stdout",
     "output_type": "stream",
     "text": [
      "2022-08-01 14:46:11, INFO: Lasso base directory set as: C:/Lasso\n",
      "2022-08-01 14:46:11, INFO: Lasso base directory set as: C:/Lasso\n"
     ]
    }
   ],
   "source": [
    "#from XZ \n",
    "\n",
    "#new_links_df = version_02_scenario.road_net.links_df\n",
    "#version_02_scenario.road_net.links_df = new_links_df.loc[:, new_links_df.columns!='managed']\n",
    "\n",
    "m_net = ModelRoadwayNetwork.from_RoadwayNetwork(\n",
    "    roadway_network_object = version_02_scenario.road_net, \n",
    "    parameters = parameters\n",
    ")"
   ]
  },
  {
   "cell_type": "code",
   "execution_count": 18,
   "id": "821c97e1",
   "metadata": {},
   "outputs": [],
   "source": [
    "#cut out steps on centriod and rail connections for simplicity "
   ]
  },
  {
   "cell_type": "markdown",
   "id": "6c51e216",
   "metadata": {},
   "source": [
    "# Write model network as shapefile"
   ]
  },
  {
   "cell_type": "code",
   "execution_count": 16,
   "id": "f8796619",
   "metadata": {},
   "outputs": [
    {
     "name": "stdout",
     "output_type": "stream",
     "text": [
      "2022-08-01 14:46:11, INFO: Writing Network as Shapefile\n",
      "2022-08-01 14:46:11, INFO: Writing Network as Shapefile\n",
      "2022-08-01 14:46:11, INFO: Renaming roadway attributes to be consistent with what metcouncil's model is expecting\n",
      "2022-08-01 14:46:11, INFO: Renaming roadway attributes to be consistent with what metcouncil's model is expecting\n",
      "2022-08-01 14:46:14, INFO: Creating calculated roadway variables.\n",
      "2022-08-01 14:46:14, INFO: Creating calculated roadway variables.\n",
      "2022-08-01 14:46:14, INFO: Area Type Variable 'area_type' already in network. Returning without overwriting.\n",
      "2022-08-01 14:46:14, INFO: Area Type Variable 'area_type' already in network. Returning without overwriting.\n",
      "2022-08-01 14:46:14, INFO: Overwriting existing County Variable 'county' already in network\n",
      "2022-08-01 14:46:14, INFO: Overwriting existing County Variable 'county' already in network\n",
      "2022-08-01 14:46:14, INFO: Adding roadway network variable for county using a spatial join with: C:/Lasso\\metcouncil_data\\county\\cb_2017_us_county_5m.shp\n",
      "2022-08-01 14:46:14, INFO: Adding roadway network variable for county using a spatial join with: C:/Lasso\\metcouncil_data\\county\\cb_2017_us_county_5m.shp\n"
     ]
    },
    {
     "name": "stderr",
     "output_type": "stream",
     "text": [
      "c:\\lasso\\lasso\\roadway.py:288: UserWarning: Geometry is in a geographic CRS. Results from 'centroid' are likely incorrect. Use 'GeoSeries.to_crs()' to re-project geometries to a projected CRS before this operation.\n",
      "\n",
      "  centroids_gdf[\"geometry\"] = centroids_gdf[\"geometry\"].centroid\n",
      "c:\\lasso\\lasso\\roadway.py:1226: FutureWarning: The `op` parameter is deprecated and will be removed in a future release. Please use the `predicate` parameter instead.\n",
      "  self.create_calculated_variables()\n",
      "c:\\lasso\\lasso\\roadway.py:292: UserWarning: CRS mismatch between the CRS of left geometries and the CRS of right geometries.\n",
      "Use `to_crs()` to reproject one of the input geometries to match the CRS of the other.\n",
      "\n",
      "Left CRS: EPSG:4326\n",
      "Right CRS: EPSG:4269\n",
      "\n",
      "  joined_gdf = gpd.sjoin(centroids_gdf, county_gdf, how=\"left\", op=\"intersects\")\n",
      "c:\\lasso\\lasso\\roadway.py:1226: FutureWarning: The `op` parameter is deprecated and will be removed in a future release. Please use the `predicate` parameter instead.\n",
      "  self.create_calculated_variables()\n",
      "c:\\lasso\\lasso\\roadway.py:304: UserWarning: CRS mismatch between the CRS of left geometries and the CRS of right geometries.\n",
      "Use `to_crs()` to reproject one of the input geometries to match the CRS of the other.\n",
      "\n",
      "Left CRS: EPSG:4326\n",
      "Right CRS: EPSG:4269\n",
      "\n",
      "  joined_gdf = gpd.sjoin(nodes_gdf, county_gdf, how=\"left\", op=\"intersects\")\n"
     ]
    },
    {
     "name": "stdout",
     "output_type": "stream",
     "text": [
      "2022-08-01 14:50:11, INFO: Finished Calculating county variable: county\n",
      "2022-08-01 14:50:11, INFO: Finished Calculating county variable: county\n",
      "2022-08-01 14:50:17, INFO: Calculating MPO as roadway network variable: mpo\n",
      "2022-08-01 14:50:17, INFO: Calculating MPO as roadway network variable: mpo\n",
      "2022-08-01 14:50:17, INFO: Finished calculating MPO variable: mpo\n",
      "2022-08-01 14:50:17, INFO: Finished calculating MPO variable: mpo\n",
      "2022-08-01 14:50:17, INFO: Adding Counts\n",
      "2022-08-01 14:50:17, INFO: Adding Counts\n",
      "2022-08-01 14:50:17, INFO: Adding Variable AADT using Shared Streets Reference from C:/Lasso\\metcouncil_data\\count_mn\\mn_count_ShSt_API_match.csv\n",
      "2022-08-01 14:50:17, INFO: Adding Variable AADT using Shared Streets Reference from C:/Lasso\\metcouncil_data\\count_mn\\mn_count_ShSt_API_match.csv\n",
      "2022-08-01 14:50:30, INFO: Added variable: AADT using Shared Streets Reference\n",
      "2022-08-01 14:50:30, INFO: Added variable: AADT using Shared Streets Reference\n",
      "2022-08-01 14:50:30, INFO: Adding Variable AADT using Shared Streets Reference from C:/Lasso\\metcouncil_data\\Wisconsin_Lanes_Counts_Median\\wi_count_ShSt_API_match.csv\n",
      "2022-08-01 14:50:30, INFO: Adding Variable AADT using Shared Streets Reference from C:/Lasso\\metcouncil_data\\Wisconsin_Lanes_Counts_Median\\wi_count_ShSt_API_match.csv\n",
      "2022-08-01 14:50:42, INFO: Added variable: AADT using Shared Streets Reference\n",
      "2022-08-01 14:50:42, INFO: Added variable: AADT using Shared Streets Reference\n",
      "2022-08-01 14:50:42, INFO: Finished adding counts variable: AADT\n",
      "2022-08-01 14:50:42, INFO: Finished adding counts variable: AADT\n",
      "2022-08-01 14:50:42, INFO: Finished creating ML lanes variable: ML_lanes\n",
      "2022-08-01 14:50:42, INFO: Finished creating ML lanes variable: ML_lanes\n",
      "2022-08-01 14:50:42, INFO: Hov corridor Variable 'segment_id' already in network. Returning without overwriting.\n",
      "2022-08-01 14:50:42, INFO: Hov corridor Variable 'segment_id' already in network. Returning without overwriting.\n",
      "2022-08-01 14:50:42, INFO: Managed Variable 'managed' already in network. Returning without overwriting.\n",
      "2022-08-01 14:50:42, INFO: Managed Variable 'managed' already in network. Returning without overwriting.\n",
      "2022-08-01 14:51:59, INFO: Calculating distance for all links\n",
      "2022-08-01 14:51:59, INFO: Calculating distance for all links\n",
      "2022-08-01 14:52:06, INFO: Filling nan for network from network wrangler\n",
      "2022-08-01 14:52:06, INFO: Filling nan for network from network wrangler\n",
      "2022-08-01 14:52:34, INFO: Splitting variables by time period and category\n",
      "2022-08-01 14:52:34, INFO: Splitting variables by time period and category\n",
      "2022-08-01 14:52:34, WARNING: Specified variable to split: trn_priority not in network variables: Index(['shstReferenceId', 'id', 'shstGeometryId', 'fromIntersectionId',\n",
      "       'toIntersectionId', 'u', 'v', 'nodeIds', 'wayId', 'roadClass', 'oneWay',\n",
      "       'roundabout', 'link', 'oneway', 'ref', 'name', 'highway', 'service',\n",
      "       'width', 'maxspeed', 'access', 'junction', 'bridge', 'tunnel',\n",
      "       'landuse', 'area', 'key', 'forward', 'backReferenceId', 'metadata',\n",
      "       'source', 'roadway', 'drive_access', 'walk_access', 'bike_access',\n",
      "       'county', 'length', 'A', 'B', 'model_link_id', 'locationReferences',\n",
      "       'rail_only', 'geometry', 'bus_only', 'centroidconnect', 'lanes',\n",
      "       'assign_group', 'roadway_class', 'area_type', 'ramp_flag', 'bike',\n",
      "       'walk', 'lanes_AM', 'lanes_MD', 'lanes_NT', 'lanes_PM', 'managed',\n",
      "       'segment_id', 'mpo', 'AADT', 'count_AM', 'count_MD', 'count_PM',\n",
      "       'count_NT', 'count_daily', 'count_year', 'distance'],\n",
      "      dtype='object'). Returning 0.\n",
      "2022-08-01 14:52:34, WARNING: Specified variable to split: trn_priority not in network variables: Index(['shstReferenceId', 'id', 'shstGeometryId', 'fromIntersectionId',\n",
      "       'toIntersectionId', 'u', 'v', 'nodeIds', 'wayId', 'roadClass', 'oneWay',\n",
      "       'roundabout', 'link', 'oneway', 'ref', 'name', 'highway', 'service',\n",
      "       'width', 'maxspeed', 'access', 'junction', 'bridge', 'tunnel',\n",
      "       'landuse', 'area', 'key', 'forward', 'backReferenceId', 'metadata',\n",
      "       'source', 'roadway', 'drive_access', 'walk_access', 'bike_access',\n",
      "       'county', 'length', 'A', 'B', 'model_link_id', 'locationReferences',\n",
      "       'rail_only', 'geometry', 'bus_only', 'centroidconnect', 'lanes',\n",
      "       'assign_group', 'roadway_class', 'area_type', 'ramp_flag', 'bike',\n",
      "       'walk', 'lanes_AM', 'lanes_MD', 'lanes_NT', 'lanes_PM', 'managed',\n",
      "       'segment_id', 'mpo', 'AADT', 'count_AM', 'count_MD', 'count_PM',\n",
      "       'count_NT', 'count_daily', 'count_year', 'distance'],\n",
      "      dtype='object'). Returning 0.\n",
      "2022-08-01 14:52:34, WARNING: Specified variable to split: ttime_assert not in network variables: Index(['shstReferenceId', 'id', 'shstGeometryId', 'fromIntersectionId',\n",
      "       'toIntersectionId', 'u', 'v', 'nodeIds', 'wayId', 'roadClass', 'oneWay',\n",
      "       'roundabout', 'link', 'oneway', 'ref', 'name', 'highway', 'service',\n",
      "       'width', 'maxspeed', 'access', 'junction', 'bridge', 'tunnel',\n",
      "       'landuse', 'area', 'key', 'forward', 'backReferenceId', 'metadata',\n",
      "       'source', 'roadway', 'drive_access', 'walk_access', 'bike_access',\n",
      "       'county', 'length', 'A', 'B', 'model_link_id', 'locationReferences',\n",
      "       'rail_only', 'geometry', 'bus_only', 'centroidconnect', 'lanes',\n",
      "       'assign_group', 'roadway_class', 'area_type', 'ramp_flag', 'bike',\n",
      "       'walk', 'lanes_AM', 'lanes_MD', 'lanes_NT', 'lanes_PM', 'managed',\n",
      "       'segment_id', 'mpo', 'AADT', 'count_AM', 'count_MD', 'count_PM',\n",
      "       'count_NT', 'count_daily', 'count_year', 'distance', 'trn_priority_AM',\n",
      "       'trn_priority_MD', 'trn_priority_PM', 'trn_priority_NT'],\n",
      "      dtype='object'). Returning 0.\n",
      "2022-08-01 14:52:34, WARNING: Specified variable to split: ttime_assert not in network variables: Index(['shstReferenceId', 'id', 'shstGeometryId', 'fromIntersectionId',\n",
      "       'toIntersectionId', 'u', 'v', 'nodeIds', 'wayId', 'roadClass', 'oneWay',\n",
      "       'roundabout', 'link', 'oneway', 'ref', 'name', 'highway', 'service',\n",
      "       'width', 'maxspeed', 'access', 'junction', 'bridge', 'tunnel',\n",
      "       'landuse', 'area', 'key', 'forward', 'backReferenceId', 'metadata',\n",
      "       'source', 'roadway', 'drive_access', 'walk_access', 'bike_access',\n",
      "       'county', 'length', 'A', 'B', 'model_link_id', 'locationReferences',\n",
      "       'rail_only', 'geometry', 'bus_only', 'centroidconnect', 'lanes',\n",
      "       'assign_group', 'roadway_class', 'area_type', 'ramp_flag', 'bike',\n",
      "       'walk', 'lanes_AM', 'lanes_MD', 'lanes_NT', 'lanes_PM', 'managed',\n",
      "       'segment_id', 'mpo', 'AADT', 'count_AM', 'count_MD', 'count_PM',\n",
      "       'count_NT', 'count_daily', 'count_year', 'distance', 'trn_priority_AM',\n",
      "       'trn_priority_MD', 'trn_priority_PM', 'trn_priority_NT'],\n",
      "      dtype='object'). Returning 0.\n",
      "2022-08-01 14:52:38, WARNING: Specified variable to split: ML_lanes not in network variables: Index(['shstReferenceId', 'id', 'shstGeometryId', 'fromIntersectionId',\n",
      "       'toIntersectionId', 'u', 'v', 'nodeIds', 'wayId', 'roadClass', 'oneWay',\n",
      "       'roundabout', 'link', 'oneway', 'ref', 'name', 'highway', 'service',\n",
      "       'width', 'maxspeed', 'access', 'junction', 'bridge', 'tunnel',\n",
      "       'landuse', 'area', 'key', 'forward', 'backReferenceId', 'metadata',\n",
      "       'source', 'roadway', 'drive_access', 'walk_access', 'bike_access',\n",
      "       'county', 'length', 'A', 'B', 'model_link_id', 'locationReferences',\n",
      "       'rail_only', 'geometry', 'bus_only', 'centroidconnect', 'lanes',\n",
      "       'assign_group', 'roadway_class', 'area_type', 'ramp_flag', 'bike',\n",
      "       'walk', 'lanes_AM', 'lanes_MD', 'lanes_NT', 'lanes_PM', 'managed',\n",
      "       'segment_id', 'mpo', 'AADT', 'count_AM', 'count_MD', 'count_PM',\n",
      "       'count_NT', 'count_daily', 'count_year', 'distance', 'trn_priority_AM',\n",
      "       'trn_priority_MD', 'trn_priority_PM', 'trn_priority_NT',\n",
      "       'ttime_assert_AM', 'ttime_assert_MD', 'ttime_assert_PM',\n",
      "       'ttime_assert_NT'],\n",
      "      dtype='object'). Returning 0.\n",
      "2022-08-01 14:52:38, WARNING: Specified variable to split: ML_lanes not in network variables: Index(['shstReferenceId', 'id', 'shstGeometryId', 'fromIntersectionId',\n",
      "       'toIntersectionId', 'u', 'v', 'nodeIds', 'wayId', 'roadClass', 'oneWay',\n",
      "       'roundabout', 'link', 'oneway', 'ref', 'name', 'highway', 'service',\n",
      "       'width', 'maxspeed', 'access', 'junction', 'bridge', 'tunnel',\n",
      "       'landuse', 'area', 'key', 'forward', 'backReferenceId', 'metadata',\n",
      "       'source', 'roadway', 'drive_access', 'walk_access', 'bike_access',\n",
      "       'county', 'length', 'A', 'B', 'model_link_id', 'locationReferences',\n",
      "       'rail_only', 'geometry', 'bus_only', 'centroidconnect', 'lanes',\n",
      "       'assign_group', 'roadway_class', 'area_type', 'ramp_flag', 'bike',\n",
      "       'walk', 'lanes_AM', 'lanes_MD', 'lanes_NT', 'lanes_PM', 'managed',\n",
      "       'segment_id', 'mpo', 'AADT', 'count_AM', 'count_MD', 'count_PM',\n",
      "       'count_NT', 'count_daily', 'count_year', 'distance', 'trn_priority_AM',\n",
      "       'trn_priority_MD', 'trn_priority_PM', 'trn_priority_NT',\n",
      "       'ttime_assert_AM', 'ttime_assert_MD', 'ttime_assert_PM',\n",
      "       'ttime_assert_NT'],\n",
      "      dtype='object'). Returning 0.\n"
     ]
    },
    {
     "name": "stdout",
     "output_type": "stream",
     "text": [
      "2022-08-01 14:52:38, WARNING: Specified variable to split: price not in network variables: Index(['shstReferenceId', 'id', 'shstGeometryId', 'fromIntersectionId',\n",
      "       'toIntersectionId', 'u', 'v', 'nodeIds', 'wayId', 'roadClass', 'oneWay',\n",
      "       'roundabout', 'link', 'oneway', 'ref', 'name', 'highway', 'service',\n",
      "       'width', 'maxspeed', 'access', 'junction', 'bridge', 'tunnel',\n",
      "       'landuse', 'area', 'key', 'forward', 'backReferenceId', 'metadata',\n",
      "       'source', 'roadway', 'drive_access', 'walk_access', 'bike_access',\n",
      "       'county', 'length', 'A', 'B', 'model_link_id', 'locationReferences',\n",
      "       'rail_only', 'geometry', 'bus_only', 'centroidconnect', 'lanes',\n",
      "       'assign_group', 'roadway_class', 'area_type', 'ramp_flag', 'bike',\n",
      "       'walk', 'lanes_AM', 'lanes_MD', 'lanes_NT', 'lanes_PM', 'managed',\n",
      "       'segment_id', 'mpo', 'AADT', 'count_AM', 'count_MD', 'count_PM',\n",
      "       'count_NT', 'count_daily', 'count_year', 'distance', 'trn_priority_AM',\n",
      "       'trn_priority_MD', 'trn_priority_PM', 'trn_priority_NT',\n",
      "       'ttime_assert_AM', 'ttime_assert_MD', 'ttime_assert_PM',\n",
      "       'ttime_assert_NT', 'ML_lanes_AM', 'ML_lanes_MD', 'ML_lanes_PM',\n",
      "       'ML_lanes_NT'],\n",
      "      dtype='object'). Returning 0.\n",
      "2022-08-01 14:52:38, WARNING: Specified variable to split: price not in network variables: Index(['shstReferenceId', 'id', 'shstGeometryId', 'fromIntersectionId',\n",
      "       'toIntersectionId', 'u', 'v', 'nodeIds', 'wayId', 'roadClass', 'oneWay',\n",
      "       'roundabout', 'link', 'oneway', 'ref', 'name', 'highway', 'service',\n",
      "       'width', 'maxspeed', 'access', 'junction', 'bridge', 'tunnel',\n",
      "       'landuse', 'area', 'key', 'forward', 'backReferenceId', 'metadata',\n",
      "       'source', 'roadway', 'drive_access', 'walk_access', 'bike_access',\n",
      "       'county', 'length', 'A', 'B', 'model_link_id', 'locationReferences',\n",
      "       'rail_only', 'geometry', 'bus_only', 'centroidconnect', 'lanes',\n",
      "       'assign_group', 'roadway_class', 'area_type', 'ramp_flag', 'bike',\n",
      "       'walk', 'lanes_AM', 'lanes_MD', 'lanes_NT', 'lanes_PM', 'managed',\n",
      "       'segment_id', 'mpo', 'AADT', 'count_AM', 'count_MD', 'count_PM',\n",
      "       'count_NT', 'count_daily', 'count_year', 'distance', 'trn_priority_AM',\n",
      "       'trn_priority_MD', 'trn_priority_PM', 'trn_priority_NT',\n",
      "       'ttime_assert_AM', 'ttime_assert_MD', 'ttime_assert_PM',\n",
      "       'ttime_assert_NT', 'ML_lanes_AM', 'ML_lanes_MD', 'ML_lanes_PM',\n",
      "       'ML_lanes_NT'],\n",
      "      dtype='object'). Returning 0.\n",
      "2022-08-01 14:52:41, INFO: Converting variable type to MetCouncil standard\n",
      "2022-08-01 14:52:41, INFO: Converting variable type to MetCouncil standard\n",
      "2022-08-01 14:52:55, INFO: Setting Coordinate Reference System to EPSG 26915\n",
      "2022-08-01 14:52:55, INFO: Setting Coordinate Reference System to EPSG 26915\n",
      "2022-08-01 14:54:49, INFO: Renaming DBF Node Variables\n",
      "2022-08-01 14:54:49, INFO: Renaming DBF Node Variables\n",
      "2022-08-01 14:54:49, INFO: Renaming variables so that they are DBF-safe\n",
      "2022-08-01 14:54:49, INFO: Renaming variables so that they are DBF-safe\n",
      "2022-08-01 14:55:03, INFO: Renaming DBF Link Variables\n",
      "2022-08-01 14:55:03, INFO: Renaming DBF Link Variables\n",
      "2022-08-01 14:55:03, INFO: Renaming variables so that they are DBF-safe\n",
      "2022-08-01 14:55:03, INFO: Renaming variables so that they are DBF-safe\n",
      "2022-08-01 14:55:04, INFO: Writing Node Shapes:\n",
      " - C:/Lasso\\tests\\scratch\\nodes.shp\n",
      "2022-08-01 14:55:04, INFO: Writing Node Shapes:\n",
      " - C:/Lasso\\tests\\scratch\\nodes.shp\n",
      "2022-08-01 14:56:26, INFO: Writing Link Shapes:\n",
      " - C:/NetworkManage/OutputNetworks\\diff_shapefile\\GeoTest2.shp\n",
      "2022-08-01 14:56:26, INFO: Writing Link Shapes:\n",
      " - C:/NetworkManage/OutputNetworks\\diff_shapefile\\GeoTest2.shp\n"
     ]
    }
   ],
   "source": [
    "out_cols = ['model_link_id',\"A\", \"B\", 'id', 'assign_group', 'drive_access', 'roadway_class',\n",
    "            'lanes_AM', 'lanes_MD', 'lanes_PM', 'lanes_NT', 'segment_id', 'HOV', \n",
    "            'price_sov_AM', 'geometry', 'managed']\n",
    "\n",
    "m_net.write_roadway_as_shp(\n",
    "    output_link_shp = os.path.join(output_dir, 'diff_shapefile', 'GeoTest2.shp'),\n",
    "    #output_node_shp = os.path.join(output_dir, 'model_networks', 'shapefiles', 'nodes.shp'),\n",
    "    link_output_variables = out_cols,\n",
    "    data_to_csv = False,\n",
    "    data_to_dbf = True,\n",
    "    export_drive_only = False, # if user only wants drive links/nodes in the shapefile\n",
    ")"
   ]
  },
  {
   "cell_type": "markdown",
   "id": "0b86c6c4",
   "metadata": {},
   "source": [
    "# Write model network for Cube"
   ]
  },
  {
   "cell_type": "code",
   "execution_count": 44,
   "id": "7df6d32c",
   "metadata": {},
   "outputs": [
    {
     "name": "stdout",
     "output_type": "stream",
     "text": [
      "2022-06-28 12:00:25, INFO: Starting fixed width conversion\n",
      "2022-06-28 12:00:25, INFO: Starting fixed width conversion\n",
      "2022-06-28 12:00:27, INFO: Writing out link database\n",
      "2022-06-28 12:00:27, INFO: Writing out link database\n",
      "2022-06-28 12:00:27, INFO: Writing out link header and width ----\n",
      "2022-06-28 12:00:27, INFO: Writing out link header and width ----\n",
      "2022-06-28 12:00:27, INFO: Starting fixed width conversion\n",
      "2022-06-28 12:00:27, INFO: Starting fixed width conversion\n",
      "2022-06-28 12:02:05, INFO: Writing out node database\n",
      "2022-06-28 12:02:05, INFO: Writing out node database\n",
      "2022-06-28 12:02:07, INFO: Writing out node header and width\n",
      "2022-06-28 12:02:07, INFO: Writing out node header and width\n"
     ]
    }
   ],
   "source": [
    "m_net.write_roadway_as_fixedwidth(\n",
    "    output_link_txt = os.path.join(output_dir, 'model_networks', 'links.txt'),\n",
    "    output_node_txt = os.path.join(output_dir, 'model_networks', 'nodes.txt'),\n",
    "    output_link_header_width_txt = os.path.join(output_dir, 'model_networks', 'links_header_width.txt'),\n",
    "    output_node_header_width_txt = os.path.join(output_dir, 'model_networks', 'nodes_header_width.txt'),\n",
    "    output_cube_network_script = os.path.join(output_dir, 'model_networks', 'make_complete_network_from_fixed_width_file.s'),\n",
    ")"
   ]
  },
  {
   "cell_type": "code",
   "execution_count": null,
   "id": "2b2718ba",
   "metadata": {},
   "outputs": [],
   "source": []
  }
 ],
 "metadata": {
  "kernelspec": {
   "display_name": "Python 3 (ipykernel)",
   "language": "python",
   "name": "python3"
  },
  "language_info": {
   "codemirror_mode": {
    "name": "ipython",
    "version": 3
   },
   "file_extension": ".py",
   "mimetype": "text/x-python",
   "name": "python",
   "nbconvert_exporter": "python",
   "pygments_lexer": "ipython3",
   "version": "3.7.12"
  }
 },
 "nbformat": 4,
 "nbformat_minor": 5
}
