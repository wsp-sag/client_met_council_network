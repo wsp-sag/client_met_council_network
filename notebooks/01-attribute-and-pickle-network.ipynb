{
 "cells": [
  {
   "cell_type": "markdown",
   "metadata": {},
   "source": [
    "# 01 Attribute and Pickle the Network\n",
    "Step 01: Add key attributes to the 'raw' network and create pickles"
   ]
  },
  {
   "cell_type": "code",
   "execution_count": 1,
   "metadata": {},
   "outputs": [],
   "source": [
    "import os\n",
    "import sys\n",
    "import pickle\n",
    "\n",
    "from network_wrangler import RoadwayNetwork\n",
    "from network_wrangler import TransitNetwork\n",
    "from network_wrangler import Scenario\n",
    "from network_wrangler import WranglerLogger\n",
    "\n",
    "from lasso import Parameters\n",
    "from lasso import metcouncil"
   ]
  },
  {
   "cell_type": "code",
   "execution_count": 2,
   "metadata": {},
   "outputs": [],
   "source": [
    "%load_ext autoreload\n",
    "%autoreload 2"
   ]
  },
  {
   "cell_type": "code",
   "execution_count": 3,
   "metadata": {},
   "outputs": [],
   "source": [
    "import logging\n",
    "logger = logging.getLogger(\"WranglerLogger\")\n",
    "logger.handlers[0].stream = sys.stdout\n",
    "logger.setLevel(logging.INFO)"
   ]
  },
  {
   "cell_type": "markdown",
   "metadata": {},
   "source": [
    "## Remote I/O"
   ]
  },
  {
   "cell_type": "code",
   "execution_count": 5,
   "metadata": {},
   "outputs": [],
   "source": [
    "input_dir = os.path.join(\"Z:/Data/Users/Sijia/Met_Council/client_met_council_network\", \"network_standard\")\n",
    "lasso_dir = os.path.join(\"C:/Users/wangs1/Lasso\")\n",
    "output_dir = input_dir"
   ]
  },
  {
   "cell_type": "markdown",
   "metadata": {},
   "source": [
    "## Read Roadway and Transit Networks"
   ]
  },
  {
   "cell_type": "code",
   "execution_count": 6,
   "metadata": {},
   "outputs": [
    {
     "name": "stdout",
     "output_type": "stream",
     "text": [
      "2021-07-20 16:33:06, INFO: Reading from following files:\n",
      "-Z:/Data/Users/Sijia/Met_Council/client_met_council_network\\network_standard\\link.json\n",
      "-Z:/Data/Users/Sijia/Met_Council/client_met_council_network\\network_standard\\node.geojson\n",
      "-Z:/Data/Users/Sijia/Met_Council/client_met_council_network\\network_standard\\shape.geojson.\n",
      "2021-07-20 16:33:06, INFO: Reading from following files:\n",
      "-Z:/Data/Users/Sijia/Met_Council/client_met_council_network\\network_standard\\link.json\n",
      "-Z:/Data/Users/Sijia/Met_Council/client_met_council_network\\network_standard\\node.geojson\n",
      "-Z:/Data/Users/Sijia/Met_Council/client_met_council_network\\network_standard\\shape.geojson.\n",
      "2021-07-20 16:38:00, INFO: Read 1134074 links from Z:/Data/Users/Sijia/Met_Council/client_met_council_network\\network_standard\\link.json\n",
      "2021-07-20 16:38:00, INFO: Read 1134074 links from Z:/Data/Users/Sijia/Met_Council/client_met_council_network\\network_standard\\link.json\n",
      "2021-07-20 16:38:00, INFO: Read 354346 nodes from Z:/Data/Users/Sijia/Met_Council/client_met_council_network\\network_standard\\node.geojson\n",
      "2021-07-20 16:38:00, INFO: Read 354346 nodes from Z:/Data/Users/Sijia/Met_Council/client_met_council_network\\network_standard\\node.geojson\n",
      "2021-07-20 16:38:00, INFO: Read 1134074 shapes from Z:/Data/Users/Sijia/Met_Council/client_met_council_network\\network_standard\\shape.geojson\n",
      "2021-07-20 16:38:00, INFO: Read 1134074 shapes from Z:/Data/Users/Sijia/Met_Council/client_met_council_network\\network_standard\\shape.geojson\n"
     ]
    }
   ],
   "source": [
    "link_file = os.path.join(input_dir, 'link.json')\n",
    "node_file = os.path.join(input_dir, 'node.geojson')\n",
    "shape_file = os.path.join(input_dir, 'shape.geojson')\n",
    "\n",
    "roadway_net = RoadwayNetwork.read(link_file = link_file, node_file = node_file, shape_file = shape_file)"
   ]
  },
  {
   "cell_type": "code",
   "execution_count": 7,
   "metadata": {},
   "outputs": [
    {
     "data": {
      "text/plain": [
       "Index(['model_link_id', 'osm_link_id', 'shstReferenceId', 'shstGeometryId',\n",
       "       'shape_id', 'u', 'v', 'A', 'B', 'locationReferences', 'distance',\n",
       "       'roadway', 'name', 'ref', 'bridge', 'tunnel', 'width', 'max_speed',\n",
       "       'bike_facility', 'drive_access', 'walk_access', 'bike_access',\n",
       "       'truck_access', 'bus_only', 'rail_only', 'lanes', 'access', 'price',\n",
       "       'trn_priority', 'ttime_assert', 'geometry'],\n",
       "      dtype='object')"
      ]
     },
     "execution_count": 7,
     "metadata": {},
     "output_type": "execute_result"
    }
   ],
   "source": [
    "roadway_net.links_df.columns"
   ]
  },
  {
   "cell_type": "code",
   "execution_count": 8,
   "metadata": {},
   "outputs": [
    {
     "name": "stdout",
     "output_type": "stream",
     "text": [
      "2021-07-20 16:41:27, INFO: Read in transit feed from: Z:/Data/Users/Sijia/Met_Council/client_met_council_network\\network_standard\n",
      "2021-07-20 16:41:27, INFO: Read in transit feed from: Z:/Data/Users/Sijia/Met_Council/client_met_council_network\\network_standard\n",
      "2021-07-20 16:41:27, INFO: Removing calendar.txt from transit network config because file not found\n",
      "2021-07-20 16:41:27, INFO: Removing calendar.txt from transit network config because file not found\n",
      "2021-07-20 16:41:27, INFO: Removing calendar_dates.txt from transit network config because file not found\n",
      "2021-07-20 16:41:27, INFO: Removing calendar_dates.txt from transit network config because file not found\n",
      "2021-07-20 16:41:28, INFO: Removing fare_attributes.txt from transit network config because file not found\n",
      "2021-07-20 16:41:28, INFO: Removing fare_attributes.txt from transit network config because file not found\n",
      "2021-07-20 16:41:28, INFO: Removing fare_rules.txt from transit network config because file not found\n",
      "2021-07-20 16:41:28, INFO: Removing fare_rules.txt from transit network config because file not found\n",
      "2021-07-20 16:41:29, INFO: Removing feed_info.txt from transit network config because file not found\n",
      "2021-07-20 16:41:29, INFO: Removing feed_info.txt from transit network config because file not found\n",
      "2021-07-20 16:41:29, WARNING: The following stop_ids from are referenced but missing from stops.txt: ['place_AVTS', 'place_157G', 'place_EATS', 'place_BTST', 'place_14CE', 'place_CE47', 'place_BHPR', 'place_DFME', 'place_PHPR']\n",
      "2021-07-20 16:41:29, WARNING: The following stop_ids from are referenced but missing from stops.txt: ['place_AVTS', 'place_157G', 'place_EATS', 'place_BTST', 'place_14CE', 'place_CE47', 'place_BHPR', 'place_DFME', 'place_PHPR']\n"
     ]
    }
   ],
   "source": [
    "transit_net = TransitNetwork.read(feed_path = input_dir)"
   ]
  },
  {
   "cell_type": "markdown",
   "metadata": {},
   "source": [
    "## Keep the Drive Links\n",
    "During the network updates, this allows for faster I/O. Also remove the legacy number of lanes coding, which is now computed via the `calculate_number_of_lanes` method."
   ]
  },
  {
   "cell_type": "code",
   "execution_count": 9,
   "metadata": {},
   "outputs": [],
   "source": [
    "# roadway_net.links_df = roadway_net.links_df[roadway_net.links_df['drive_access'] == 1]\n",
    "roadway_net.links_df = roadway_net.links_df.drop('lanes', axis = 1)"
   ]
  },
  {
   "cell_type": "markdown",
   "metadata": {},
   "source": [
    "## Attribute the Network"
   ]
  },
  {
   "cell_type": "code",
   "execution_count": 10,
   "metadata": {},
   "outputs": [
    {
     "name": "stdout",
     "output_type": "stream",
     "text": [
      "2021-07-20 16:41:30, INFO: Lasso base directory set as: C:/Users/wangs1/Lasso\n",
      "2021-07-20 16:41:30, INFO: Lasso base directory set as: C:/Users/wangs1/Lasso\n"
     ]
    }
   ],
   "source": [
    "parameters = Parameters(lasso_base_dir = lasso_dir)"
   ]
  },
  {
   "cell_type": "code",
   "execution_count": 11,
   "metadata": {},
   "outputs": [
    {
     "data": {
      "text/plain": [
       "False    779982\n",
       "True     354092\n",
       "Name: drive_access, dtype: int64"
      ]
     },
     "execution_count": 11,
     "metadata": {},
     "output_type": "execute_result"
    }
   ],
   "source": [
    "roadway_net.links_df.drive_access.value_counts()"
   ]
  },
  {
   "cell_type": "code",
   "execution_count": 12,
   "metadata": {},
   "outputs": [
    {
     "name": "stdout",
     "output_type": "stream",
     "text": [
      "2021-07-20 16:41:30, INFO: Calculating Number of Lanes as network variable: 'lanes'\n",
      "2021-07-20 16:41:30, INFO: Calculating Number of Lanes as network variable: 'lanes'\n",
      "2021-07-20 16:41:30, INFO: Lasso base directory set as: C:/Users/wangs1/Lasso\n",
      "2021-07-20 16:41:30, INFO: Lasso base directory set as: C:/Users/wangs1/Lasso\n",
      "2021-07-20 16:41:30, INFO: Calculating Centroid Connector and adding as roadway network variable: centroidconnect\n",
      "2021-07-20 16:41:30, INFO: Calculating Centroid Connector and adding as roadway network variable: centroidconnect\n",
      "2021-07-20 16:41:30, INFO: Finished calculating centroid connector variable: centroidconnect\n",
      "2021-07-20 16:41:30, INFO: Finished calculating centroid connector variable: centroidconnect\n",
      "2021-07-20 16:44:32, INFO: Finished calculating number of lanes to: lanes\n",
      "2021-07-20 16:44:32, INFO: Finished calculating number of lanes to: lanes\n"
     ]
    },
    {
     "data": {
      "text/plain": [
       "0    748890\n",
       "1    356273\n",
       "2     26560\n",
       "3      1734\n",
       "4       545\n",
       "5        66\n",
       "6         6\n",
       "Name: lanes, dtype: int64"
      ]
     },
     "execution_count": 12,
     "metadata": {},
     "output_type": "execute_result"
    }
   ],
   "source": [
    "r_net = metcouncil.calculate_number_of_lanes(\n",
    "        roadway_net=roadway_net,\n",
    "        parameters=parameters,\n",
    ")\n",
    "r_net.links_df.lanes.value_counts()"
   ]
  },
  {
   "cell_type": "code",
   "execution_count": 13,
   "metadata": {},
   "outputs": [
    {
     "name": "stdout",
     "output_type": "stream",
     "text": [
      "2021-07-20 16:44:32, INFO: Calculating Assignment Group and Roadway Class as network variables: 'assign_group' and 'roadway_class'\n",
      "2021-07-20 16:44:32, INFO: Calculating Assignment Group and Roadway Class as network variables: 'assign_group' and 'roadway_class'\n",
      "2021-07-20 16:44:32, INFO: Centroid Connector Variable 'centroidconnect' already in network. Returning without overwriting.\n",
      "2021-07-20 16:44:32, INFO: Centroid Connector Variable 'centroidconnect' already in network. Returning without overwriting.\n",
      "2021-07-20 16:51:26, INFO: Finished calculating assignment group variable assign_group and roadway class variable roadway_class\n",
      "2021-07-20 16:51:26, INFO: Finished calculating assignment group variable assign_group and roadway class variable roadway_class\n"
     ]
    },
    {
     "data": {
      "text/plain": [
       "101    748615\n",
       "50     223143\n",
       "9       55226\n",
       "7       54336\n",
       "6       44241\n",
       "4        4384\n",
       "2        1404\n",
       "1        1388\n",
       "15        937\n",
       "98        185\n",
       "11        123\n",
       "100        90\n",
       "8           2\n",
       "Name: assign_group, dtype: int64"
      ]
     },
     "execution_count": 13,
     "metadata": {},
     "output_type": "execute_result"
    }
   ],
   "source": [
    "r_net = metcouncil.calculate_assign_group_and_roadway_class(\n",
    "        roadway_net=r_net,\n",
    "        parameters=parameters,\n",
    ")\n",
    "r_net.links_df.assign_group.value_counts()"
   ]
  },
  {
   "cell_type": "code",
   "execution_count": 14,
   "metadata": {},
   "outputs": [
    {
     "data": {
      "text/plain": [
       "101    748615\n",
       "50     224774\n",
       "40      58710\n",
       "99      55226\n",
       "30      25958\n",
       "20      14812\n",
       "60       4384\n",
       "10       1390\n",
       "70        115\n",
       "100        90\n",
       "Name: roadway_class, dtype: int64"
      ]
     },
     "execution_count": 14,
     "metadata": {},
     "output_type": "execute_result"
    }
   ],
   "source": [
    "r_net.links_df.roadway_class.value_counts()"
   ]
  },
  {
   "cell_type": "markdown",
   "metadata": {},
   "source": [
    "## Create a Scenario"
   ]
  },
  {
   "cell_type": "code",
   "execution_count": 15,
   "metadata": {},
   "outputs": [],
   "source": [
    "base_scenario = {\"road_net\": r_net, \"transit_net\": transit_net}"
   ]
  },
  {
   "cell_type": "code",
   "execution_count": 16,
   "metadata": {},
   "outputs": [
    {
     "name": "stdout",
     "output_type": "stream",
     "text": [
      "2021-07-20 16:51:28, INFO: Creating Scenario\n",
      "2021-07-20 16:51:28, INFO: Creating Scenario\n"
     ]
    }
   ],
   "source": [
    "working_scenario = Scenario.create_scenario(base_scenario = base_scenario)"
   ]
  },
  {
   "cell_type": "markdown",
   "metadata": {},
   "source": [
    "## Make Pickles"
   ]
  },
  {
   "cell_type": "code",
   "execution_count": 17,
   "metadata": {},
   "outputs": [],
   "source": [
    "working_scenario_filename = os.path.join(output_dir, 'working_scenario_00.pickle')\n",
    "pickle.dump(working_scenario, open(working_scenario_filename, 'wb'))"
   ]
  }
 ],
 "metadata": {
  "kernelspec": {
   "display_name": "Python 3 (ipykernel)",
   "language": "python",
   "name": "python3"
  },
  "language_info": {
   "codemirror_mode": {
    "name": "ipython",
    "version": 3
   },
   "file_extension": ".py",
   "mimetype": "text/x-python",
   "name": "python",
   "nbconvert_exporter": "python",
   "pygments_lexer": "ipython3",
   "version": "3.7.10"
  }
 },
 "nbformat": 4,
 "nbformat_minor": 4
}
