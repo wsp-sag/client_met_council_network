{
 "cells": [
  {
   "cell_type": "markdown",
   "metadata": {},
   "source": [
    "# 01 Attribute and Pickle the Network\n",
    "Step 01: Add key attributes to the 'raw' network and create pickles"
   ]
  },
  {
   "cell_type": "code",
   "execution_count": 1,
   "metadata": {},
   "outputs": [],
   "source": [
    "import os\n",
    "import sys\n",
    "import pickle\n",
    "\n",
    "from network_wrangler import RoadwayNetwork\n",
    "from network_wrangler import TransitNetwork\n",
    "from network_wrangler import Scenario\n",
    "from network_wrangler import WranglerLogger\n",
    "\n",
    "from lasso import Parameters\n",
    "from lasso import metcouncil"
   ]
  },
  {
   "cell_type": "code",
   "execution_count": 2,
   "metadata": {},
   "outputs": [],
   "source": [
    "%load_ext autoreload\n",
    "%autoreload 2"
   ]
  },
  {
   "cell_type": "code",
   "execution_count": 3,
   "metadata": {},
   "outputs": [],
   "source": [
    "import logging\n",
    "logger = logging.getLogger(\"WranglerLogger\")\n",
    "logger.handlers[0].stream = sys.stdout\n",
    "logger.setLevel(logging.INFO)"
   ]
  },
  {
   "cell_type": "markdown",
   "metadata": {},
   "source": [
    "## Remote I/O"
   ]
  },
  {
   "cell_type": "code",
   "execution_count": 4,
   "metadata": {},
   "outputs": [],
   "source": [
    "input_dir = os.path.join(\"D:/metcouncil_network_rebuild/data/processed/version_01\")\n",
    "lasso_dir = os.path.join(\"Z:/Data/Users/Sijia/Met_Council/github/client_met_council_wrangler_utilities\")\n",
    "output_dir = input_dir"
   ]
  },
  {
   "cell_type": "markdown",
   "metadata": {},
   "source": [
    "## Read Roadway and Transit Networks"
   ]
  },
  {
   "cell_type": "code",
   "execution_count": 5,
   "metadata": {},
   "outputs": [
    {
     "name": "stdout",
     "output_type": "stream",
     "text": [
      "2022-03-21 18:29:33, INFO: Reading from following files:\n",
      "-D:/metcouncil_network_rebuild/data/processed/version_01\\standard_networks\\links.json\n",
      "-D:/metcouncil_network_rebuild/data/processed/version_01\\standard_networks\\nodes.geojson\n",
      "-D:/metcouncil_network_rebuild/data/processed/version_01\\standard_networks\\shapes.geojson.\n",
      "2022-03-21 18:29:33, INFO: Reading from following files:\n",
      "-D:/metcouncil_network_rebuild/data/processed/version_01\\standard_networks\\links.json\n",
      "-D:/metcouncil_network_rebuild/data/processed/version_01\\standard_networks\\nodes.geojson\n",
      "-D:/metcouncil_network_rebuild/data/processed/version_01\\standard_networks\\shapes.geojson.\n",
      "2022-03-21 18:32:08, INFO: Read 1056575 links from D:/metcouncil_network_rebuild/data/processed/version_01\\standard_networks\\links.json\n",
      "2022-03-21 18:32:08, INFO: Read 1056575 links from D:/metcouncil_network_rebuild/data/processed/version_01\\standard_networks\\links.json\n",
      "2022-03-21 18:32:08, INFO: Read 412227 nodes from D:/metcouncil_network_rebuild/data/processed/version_01\\standard_networks\\nodes.geojson\n",
      "2022-03-21 18:32:08, INFO: Read 412227 nodes from D:/metcouncil_network_rebuild/data/processed/version_01\\standard_networks\\nodes.geojson\n",
      "2022-03-21 18:32:08, INFO: Read 553939 shapes from D:/metcouncil_network_rebuild/data/processed/version_01\\standard_networks\\shapes.geojson\n",
      "2022-03-21 18:32:08, INFO: Read 553939 shapes from D:/metcouncil_network_rebuild/data/processed/version_01\\standard_networks\\shapes.geojson\n"
     ]
    }
   ],
   "source": [
    "link_file = os.path.join(input_dir, 'standard_networks', 'links.json')\n",
    "node_file = os.path.join(input_dir, 'standard_networks', 'nodes.geojson')\n",
    "shape_file = os.path.join(input_dir, 'standard_networks', 'shapes.geojson')\n",
    "\n",
    "roadway_net = RoadwayNetwork.read(link_file = link_file, node_file = node_file, shape_file = shape_file)"
   ]
  },
  {
   "cell_type": "code",
   "execution_count": 6,
   "metadata": {},
   "outputs": [
    {
     "data": {
      "text/plain": [
       "(1056575, 41)"
      ]
     },
     "execution_count": 6,
     "metadata": {},
     "output_type": "execute_result"
    }
   ],
   "source": [
    "roadway_net.links_df.shape"
   ]
  },
  {
   "cell_type": "code",
   "execution_count": 7,
   "metadata": {},
   "outputs": [
    {
     "data": {
      "text/plain": [
       "1056575"
      ]
     },
     "execution_count": 7,
     "metadata": {},
     "output_type": "execute_result"
    }
   ],
   "source": [
    "roadway_net.links_df.model_link_id.nunique()"
   ]
  },
  {
   "cell_type": "code",
   "execution_count": 8,
   "metadata": {},
   "outputs": [
    {
     "data": {
      "text/plain": [
       "1056575"
      ]
     },
     "execution_count": 8,
     "metadata": {},
     "output_type": "execute_result"
    }
   ],
   "source": [
    "roadway_net.links_df.shstReferenceId.nunique()"
   ]
  },
  {
   "cell_type": "code",
   "execution_count": 9,
   "metadata": {},
   "outputs": [
    {
     "name": "stdout",
     "output_type": "stream",
     "text": [
      "0\n",
      "412131\n"
     ]
    }
   ],
   "source": [
    "print(roadway_net.links_df.u.isnull().sum())\n",
    "print(roadway_net.links_df.u.nunique())"
   ]
  },
  {
   "cell_type": "code",
   "execution_count": 10,
   "metadata": {
    "scrolled": true
   },
   "outputs": [
    {
     "data": {
      "text/html": [
       "<div>\n",
       "<style scoped>\n",
       "    .dataframe tbody tr th:only-of-type {\n",
       "        vertical-align: middle;\n",
       "    }\n",
       "\n",
       "    .dataframe tbody tr th {\n",
       "        vertical-align: top;\n",
       "    }\n",
       "\n",
       "    .dataframe thead th {\n",
       "        text-align: right;\n",
       "    }\n",
       "</style>\n",
       "<table border=\"1\" class=\"dataframe\">\n",
       "  <thead>\n",
       "    <tr style=\"text-align: right;\">\n",
       "      <th></th>\n",
       "      <th>shstReferenceId</th>\n",
       "      <th>id</th>\n",
       "      <th>shstGeometryId</th>\n",
       "      <th>fromIntersectionId</th>\n",
       "      <th>toIntersectionId</th>\n",
       "      <th>u</th>\n",
       "      <th>v</th>\n",
       "      <th>nodeIds</th>\n",
       "      <th>wayId</th>\n",
       "      <th>roadClass</th>\n",
       "      <th>...</th>\n",
       "      <th>walk_access</th>\n",
       "      <th>bike_access</th>\n",
       "      <th>county</th>\n",
       "      <th>length</th>\n",
       "      <th>model_link_id</th>\n",
       "      <th>A</th>\n",
       "      <th>B</th>\n",
       "      <th>locationReferences</th>\n",
       "      <th>rail_only</th>\n",
       "      <th>geometry</th>\n",
       "    </tr>\n",
       "  </thead>\n",
       "  <tbody>\n",
       "  </tbody>\n",
       "</table>\n",
       "<p>0 rows × 41 columns</p>\n",
       "</div>"
      ],
      "text/plain": [
       "Empty GeoDataFrame\n",
       "Columns: [shstReferenceId, id, shstGeometryId, fromIntersectionId, toIntersectionId, u, v, nodeIds, wayId, roadClass, oneWay, roundabout, link, oneway, lanes, ref, name, highway, service, width, maxspeed, access, junction, bridge, tunnel, landuse, area, key, forward, roadway, drive_access, walk_access, bike_access, county, length, model_link_id, A, B, locationReferences, rail_only, geometry]\n",
       "Index: []\n",
       "\n",
       "[0 rows x 41 columns]"
      ]
     },
     "execution_count": 10,
     "metadata": {},
     "output_type": "execute_result"
    }
   ],
   "source": [
    "roadway_net.links_df[roadway_net.links_df.A < 3101]"
   ]
  },
  {
   "cell_type": "code",
   "execution_count": 11,
   "metadata": {},
   "outputs": [
    {
     "data": {
      "text/plain": [
       "shstReferenceId                        000030c9843ec7a7076fbcbbb0b79957\n",
       "id                                     c452f95293d9bda3e4788c9ef5843a59\n",
       "shstGeometryId                         c452f95293d9bda3e4788c9ef5843a59\n",
       "fromIntersectionId                     2c7945f906f016bb8248964cd14f597a\n",
       "toIntersectionId                       4698fe306022179796ea0bb24b76a22a\n",
       "u                                                             187058420\n",
       "v                                                             187070777\n",
       "nodeIds                                          [187058420, 187070777]\n",
       "wayId                                                          18102901\n",
       "roadClass                                                       Service\n",
       "oneWay                                                            False\n",
       "roundabout                                                        False\n",
       "link                                                              False\n",
       "oneway                                                            False\n",
       "lanes                                                               nan\n",
       "ref                                                                 nan\n",
       "name                                                                nan\n",
       "highway                                                         service\n",
       "service                                                             nan\n",
       "width                                                               nan\n",
       "maxspeed                                                            nan\n",
       "access                                                              nan\n",
       "junction                                                            nan\n",
       "bridge                                                              nan\n",
       "tunnel                                                              nan\n",
       "landuse                                                             nan\n",
       "area                                                                nan\n",
       "key                                                                 0.0\n",
       "forward                                                             1.0\n",
       "roadway                                                         service\n",
       "drive_access                                                      False\n",
       "walk_access                                                        True\n",
       "bike_access                                                        True\n",
       "county                                                           Isanti\n",
       "length                                                              NaN\n",
       "model_link_id                                                         1\n",
       "A                                                                  3101\n",
       "B                                                                347541\n",
       "locationReferences    [{'sequence': 1, 'point': [-93.2374931, 45.560...\n",
       "rail_only                                                         False\n",
       "geometry              LINESTRING (-93.2374931 45.5605696, -93.237512...\n",
       "Name: 0, dtype: object"
      ]
     },
     "execution_count": 11,
     "metadata": {},
     "output_type": "execute_result"
    }
   ],
   "source": [
    "roadway_net.links_df.iloc[0]"
   ]
  },
  {
   "cell_type": "code",
   "execution_count": 12,
   "metadata": {},
   "outputs": [
    {
     "data": {
      "text/plain": [
       "0"
      ]
     },
     "execution_count": 12,
     "metadata": {},
     "output_type": "execute_result"
    }
   ],
   "source": [
    "roadway_net.links_df.v.isnull().sum()"
   ]
  },
  {
   "cell_type": "code",
   "execution_count": 13,
   "metadata": {},
   "outputs": [
    {
     "data": {
      "text/plain": [
       "(412227, 11)"
      ]
     },
     "execution_count": 13,
     "metadata": {},
     "output_type": "execute_result"
    }
   ],
   "source": [
    "roadway_net.nodes_df.shape"
   ]
  },
  {
   "cell_type": "code",
   "execution_count": 14,
   "metadata": {},
   "outputs": [
    {
     "data": {
      "text/plain": [
       "412227"
      ]
     },
     "execution_count": 14,
     "metadata": {},
     "output_type": "execute_result"
    }
   ],
   "source": [
    "roadway_net.nodes_df.model_node_id.nunique()"
   ]
  },
  {
   "cell_type": "code",
   "execution_count": 15,
   "metadata": {},
   "outputs": [
    {
     "data": {
      "text/plain": [
       "412227"
      ]
     },
     "execution_count": 15,
     "metadata": {},
     "output_type": "execute_result"
    }
   ],
   "source": [
    "roadway_net.nodes_df.shst_node_id.nunique()"
   ]
  },
  {
   "cell_type": "code",
   "execution_count": 16,
   "metadata": {},
   "outputs": [
    {
     "data": {
      "text/plain": [
       "412227"
      ]
     },
     "execution_count": 16,
     "metadata": {},
     "output_type": "execute_result"
    }
   ],
   "source": [
    "roadway_net.nodes_df.osm_node_id.nunique()"
   ]
  },
  {
   "cell_type": "code",
   "execution_count": 17,
   "metadata": {},
   "outputs": [
    {
     "data": {
      "text/plain": [
       "Index(['osm_node_id', 'shst_node_id', 'county', 'drive_access', 'walk_access',\n",
       "       'bike_access', 'model_node_id', 'rail_only', 'geometry', 'X', 'Y'],\n",
       "      dtype='object')"
      ]
     },
     "execution_count": 17,
     "metadata": {},
     "output_type": "execute_result"
    }
   ],
   "source": [
    "roadway_net.nodes_df.columns"
   ]
  },
  {
   "cell_type": "code",
   "execution_count": 18,
   "metadata": {},
   "outputs": [
    {
     "data": {
      "text/plain": [
       "Index(['shstReferenceId', 'id', 'shstGeometryId', 'fromIntersectionId',\n",
       "       'toIntersectionId', 'u', 'v', 'nodeIds', 'wayId', 'roadClass', 'oneWay',\n",
       "       'roundabout', 'link', 'oneway', 'lanes', 'ref', 'name', 'highway',\n",
       "       'service', 'width', 'maxspeed', 'access', 'junction', 'bridge',\n",
       "       'tunnel', 'landuse', 'area', 'key', 'forward', 'roadway',\n",
       "       'drive_access', 'walk_access', 'bike_access', 'county', 'length',\n",
       "       'model_link_id', 'A', 'B', 'locationReferences', 'rail_only',\n",
       "       'geometry'],\n",
       "      dtype='object')"
      ]
     },
     "execution_count": 18,
     "metadata": {},
     "output_type": "execute_result"
    }
   ],
   "source": [
    "roadway_net.links_df.columns"
   ]
  },
  {
   "cell_type": "code",
   "execution_count": 19,
   "metadata": {},
   "outputs": [
    {
     "name": "stdout",
     "output_type": "stream",
     "text": [
      "2022-03-21 18:33:30, INFO: Read in transit feed from: D:/metcouncil_network_rebuild/data/processed/version_01\\standard_networks\\transit\n",
      "2022-03-21 18:33:30, INFO: Read in transit feed from: D:/metcouncil_network_rebuild/data/processed/version_01\\standard_networks\\transit\n",
      "2022-03-21 18:33:30, INFO: Removing calendar.txt from transit network config because file not found\n",
      "2022-03-21 18:33:30, INFO: Removing calendar.txt from transit network config because file not found\n",
      "2022-03-21 18:33:30, INFO: Removing calendar_dates.txt from transit network config because file not found\n",
      "2022-03-21 18:33:30, INFO: Removing calendar_dates.txt from transit network config because file not found\n",
      "2022-03-21 18:33:31, INFO: Removing fare_attributes.txt from transit network config because file not found\n",
      "2022-03-21 18:33:31, INFO: Removing fare_attributes.txt from transit network config because file not found\n",
      "2022-03-21 18:33:31, INFO: Removing fare_rules.txt from transit network config because file not found\n",
      "2022-03-21 18:33:31, INFO: Removing fare_rules.txt from transit network config because file not found\n",
      "2022-03-21 18:33:32, INFO: Removing transfers.txt from transit network config because file not found\n",
      "2022-03-21 18:33:32, INFO: Removing transfers.txt from transit network config because file not found\n",
      "2022-03-21 18:33:32, INFO: Removing feed_info.txt from transit network config because file not found\n",
      "2022-03-21 18:33:32, INFO: Removing feed_info.txt from transit network config because file not found\n",
      "2022-03-21 18:33:32, WARNING: The following stop_ids from are referenced but missing from stops.txt: ['place_14CE', 'place_DFME', 'place_BHPR', 'place_AVTS', 'place_CE47', 'place_PHPR', 'place_BTST', 'place_EATS', 'place_157G']\n",
      "2022-03-21 18:33:32, WARNING: The following stop_ids from are referenced but missing from stops.txt: ['place_14CE', 'place_DFME', 'place_BHPR', 'place_AVTS', 'place_CE47', 'place_PHPR', 'place_BTST', 'place_EATS', 'place_157G']\n"
     ]
    }
   ],
   "source": [
    "transit_net = TransitNetwork.read(feed_path = os.path.join(input_dir, 'standard_networks', 'transit'))"
   ]
  },
  {
   "cell_type": "markdown",
   "metadata": {},
   "source": [
    "## Keep the Drive Links\n",
    "During the network updates, this allows for faster I/O. Also remove the legacy number of lanes coding, which is now computed via the `calculate_number_of_lanes` method."
   ]
  },
  {
   "cell_type": "code",
   "execution_count": 20,
   "metadata": {},
   "outputs": [],
   "source": [
    "# roadway_net.links_df = roadway_net.links_df[roadway_net.links_df['drive_access'] == 1]\n",
    "roadway_net.links_df = roadway_net.links_df.drop('lanes', axis = 1)"
   ]
  },
  {
   "cell_type": "markdown",
   "metadata": {},
   "source": [
    "## Attribute the Network"
   ]
  },
  {
   "cell_type": "code",
   "execution_count": 21,
   "metadata": {},
   "outputs": [
    {
     "name": "stdout",
     "output_type": "stream",
     "text": [
      "2022-03-21 18:33:34, INFO: Lasso base directory set as: Z:/Data/Users/Sijia/Met_Council/github/client_met_council_wrangler_utilities\n",
      "2022-03-21 18:33:34, INFO: Lasso base directory set as: Z:/Data/Users/Sijia/Met_Council/github/client_met_council_wrangler_utilities\n"
     ]
    }
   ],
   "source": [
    "parameters = Parameters(lasso_base_dir = lasso_dir)"
   ]
  },
  {
   "cell_type": "code",
   "execution_count": 22,
   "metadata": {},
   "outputs": [
    {
     "data": {
      "text/plain": [
       "True     652933\n",
       "False    403642\n",
       "Name: drive_access, dtype: int64"
      ]
     },
     "execution_count": 22,
     "metadata": {},
     "output_type": "execute_result"
    }
   ],
   "source": [
    "roadway_net.links_df.drive_access.value_counts()"
   ]
  },
  {
   "cell_type": "code",
   "execution_count": 23,
   "metadata": {},
   "outputs": [
    {
     "name": "stdout",
     "output_type": "stream",
     "text": [
      "2022-03-21 18:33:34, INFO: Calculating Number of Lanes as network variable: 'lanes'\n",
      "2022-03-21 18:33:34, INFO: Calculating Number of Lanes as network variable: 'lanes'\n",
      "2022-03-21 18:33:34, INFO: Lasso base directory set as: Z:/Data/Users/Sijia/Met_Council/github/client_met_council_wrangler_utilities\n",
      "2022-03-21 18:33:34, INFO: Lasso base directory set as: Z:/Data/Users/Sijia/Met_Council/github/client_met_council_wrangler_utilities\n",
      "2022-03-21 18:33:34, INFO: Calculating Centroid Connector and adding as roadway network variable: centroidconnect\n",
      "2022-03-21 18:33:34, INFO: Calculating Centroid Connector and adding as roadway network variable: centroidconnect\n",
      "2022-03-21 18:33:34, INFO: Finished calculating centroid connector variable: centroidconnect\n",
      "2022-03-21 18:33:34, INFO: Finished calculating centroid connector variable: centroidconnect\n",
      "2022-03-21 18:34:32, INFO: Finished calculating number of lanes to: lanes\n",
      "2022-03-21 18:34:32, INFO: Finished calculating number of lanes to: lanes\n"
     ]
    },
    {
     "data": {
      "text/plain": [
       "1.0    1021569\n",
       "2.0      31969\n",
       "3.0       2591\n",
       "4.0        369\n",
       "5.0         71\n",
       "6.0          5\n",
       "7.0          1\n",
       "Name: lanes, dtype: int64"
      ]
     },
     "execution_count": 23,
     "metadata": {},
     "output_type": "execute_result"
    }
   ],
   "source": [
    "r_net = metcouncil.calculate_number_of_lanes_from_reviewed_network(\n",
    "    roadway_net=roadway_net,\n",
    "    parameters=parameters,\n",
    ")\n",
    "r_net.links_df.lanes.value_counts()"
   ]
  },
  {
   "cell_type": "code",
   "execution_count": 24,
   "metadata": {},
   "outputs": [
    {
     "data": {
      "text/plain": [
       "shstReferenceId                        000030c9843ec7a7076fbcbbb0b79957\n",
       "id                                     c452f95293d9bda3e4788c9ef5843a59\n",
       "shstGeometryId                         c452f95293d9bda3e4788c9ef5843a59\n",
       "fromIntersectionId                     2c7945f906f016bb8248964cd14f597a\n",
       "toIntersectionId                       4698fe306022179796ea0bb24b76a22a\n",
       "u                                                             187058420\n",
       "v                                                             187070777\n",
       "nodeIds                                          [187058420, 187070777]\n",
       "wayId                                                          18102901\n",
       "roadClass                                                       Service\n",
       "oneWay                                                            False\n",
       "roundabout                                                        False\n",
       "link                                                              False\n",
       "oneway                                                            False\n",
       "ref                                                                 nan\n",
       "name                                                                nan\n",
       "highway                                                         service\n",
       "service                                                             nan\n",
       "width                                                               nan\n",
       "maxspeed                                                            nan\n",
       "access                                                              nan\n",
       "junction                                                            nan\n",
       "bridge                                                              nan\n",
       "tunnel                                                              nan\n",
       "landuse                                                             nan\n",
       "area                                                                nan\n",
       "key                                                                 0.0\n",
       "forward                                                             1.0\n",
       "roadway                                                         service\n",
       "drive_access                                                      False\n",
       "walk_access                                                        True\n",
       "bike_access                                                        True\n",
       "county                                                           Isanti\n",
       "length                                                              NaN\n",
       "model_link_id                                                         1\n",
       "A                                                                  3101\n",
       "B                                                                347541\n",
       "locationReferences    [{'sequence': 1, 'point': [-93.2374931, 45.560...\n",
       "rail_only                                                         False\n",
       "geometry              LINESTRING (-93.2374931 45.5605696, -93.237512...\n",
       "centroidconnect                                                       0\n",
       "lanes                                                               1.0\n",
       "Name: 0, dtype: object"
      ]
     },
     "execution_count": 24,
     "metadata": {},
     "output_type": "execute_result"
    }
   ],
   "source": [
    "r_net.links_df.iloc[0]"
   ]
  },
  {
   "cell_type": "code",
   "execution_count": 25,
   "metadata": {},
   "outputs": [],
   "source": [
    "r_net.links_df['bus_only'] = 0"
   ]
  },
  {
   "cell_type": "code",
   "execution_count": 26,
   "metadata": {},
   "outputs": [
    {
     "name": "stdout",
     "output_type": "stream",
     "text": [
      "2022-03-21 18:34:33, INFO: Calculating Assignment Group and Roadway Class as network variables: 'assign_group' and 'roadway_class'\n",
      "2022-03-21 18:34:33, INFO: Calculating Assignment Group and Roadway Class as network variables: 'assign_group' and 'roadway_class'\n",
      "2022-03-21 18:34:33, INFO: Centroid Connector Variable 'centroidconnect' already in network. Returning without overwriting.\n",
      "2022-03-21 18:34:33, INFO: Centroid Connector Variable 'centroidconnect' already in network. Returning without overwriting.\n",
      "2022-03-21 18:36:31, INFO: Finished calculating assignment group variable assign_group and roadway class variable roadway_class\n",
      "2022-03-21 18:36:31, INFO: Finished calculating assignment group variable assign_group and roadway class variable roadway_class\n"
     ]
    },
    {
     "data": {
      "text/plain": [
       "101.0    403642\n",
       "50.0     291998\n",
       "7.0      101402\n",
       "6.0       76353\n",
       "5.0       14986\n",
       "15.0       3045\n",
       "3.0        2590\n",
       "1.0        2450\n",
       "4.0        2031\n",
       "2.0        1256\n",
       "11.0        153\n",
       "Name: assign_group, dtype: int64"
      ]
     },
     "execution_count": 26,
     "metadata": {},
     "output_type": "execute_result"
    }
   ],
   "source": [
    "r_net = metcouncil.calculate_assign_group_and_roadway_class_from_reviewed_network(\n",
    "        roadway_net=r_net,\n",
    "        parameters=parameters,\n",
    ")\n",
    "r_net.links_df.assign_group.value_counts()"
   ]
  },
  {
   "cell_type": "code",
   "execution_count": 27,
   "metadata": {},
   "outputs": [
    {
     "data": {
      "text/plain": [
       "101.0    403642\n",
       "50.0     301921\n",
       "40.0     124531\n",
       "30.0      42088\n",
       "20.0      20421\n",
       "60.0       5411\n",
       "10.0       1773\n",
       "70.0        119\n",
       "Name: roadway_class, dtype: int64"
      ]
     },
     "execution_count": 27,
     "metadata": {},
     "output_type": "execute_result"
    }
   ],
   "source": [
    "r_net.links_df.roadway_class.value_counts()"
   ]
  },
  {
   "cell_type": "code",
   "execution_count": 28,
   "metadata": {},
   "outputs": [
    {
     "data": {
      "text/plain": [
       "shstReferenceId                        000030c9843ec7a7076fbcbbb0b79957\n",
       "id                                     c452f95293d9bda3e4788c9ef5843a59\n",
       "shstGeometryId                         c452f95293d9bda3e4788c9ef5843a59\n",
       "fromIntersectionId                     2c7945f906f016bb8248964cd14f597a\n",
       "toIntersectionId                       4698fe306022179796ea0bb24b76a22a\n",
       "u                                                             187058420\n",
       "v                                                             187070777\n",
       "nodeIds                                          [187058420, 187070777]\n",
       "wayId                                                          18102901\n",
       "roadClass                                                       Service\n",
       "oneWay                                                            False\n",
       "roundabout                                                        False\n",
       "link                                                              False\n",
       "oneway                                                            False\n",
       "ref                                                                 nan\n",
       "name                                                                nan\n",
       "highway                                                         service\n",
       "service                                                             nan\n",
       "width                                                               nan\n",
       "maxspeed                                                            nan\n",
       "access                                                              nan\n",
       "junction                                                            nan\n",
       "bridge                                                              nan\n",
       "tunnel                                                              nan\n",
       "landuse                                                             nan\n",
       "area                                                                nan\n",
       "key                                                                 0.0\n",
       "forward                                                             1.0\n",
       "roadway                                                         service\n",
       "drive_access                                                      False\n",
       "walk_access                                                        True\n",
       "bike_access                                                        True\n",
       "county                                                           Isanti\n",
       "length                                                              NaN\n",
       "model_link_id                                                         1\n",
       "A                                                                  3101\n",
       "B                                                                347541\n",
       "locationReferences    [{'sequence': 1, 'point': [-93.2374931, 45.560...\n",
       "rail_only                                                         False\n",
       "geometry              LINESTRING (-93.2374931 45.5605696, -93.237512...\n",
       "centroidconnect                                                       0\n",
       "lanes                                                               1.0\n",
       "bus_only                                                              0\n",
       "assign_group                                                      101.0\n",
       "roadway_class                                                     101.0\n",
       "Name: 0, dtype: object"
      ]
     },
     "execution_count": 28,
     "metadata": {},
     "output_type": "execute_result"
    }
   ],
   "source": [
    "r_net.links_df.iloc[0]"
   ]
  },
  {
   "cell_type": "markdown",
   "metadata": {},
   "source": [
    "### add rail links and nodes"
   ]
  },
  {
   "cell_type": "code",
   "execution_count": 29,
   "metadata": {},
   "outputs": [
    {
     "name": "stdout",
     "output_type": "stream",
     "text": [
      "2022-03-21 18:36:32, INFO: Adding centroid and centroid connector to standard network\n",
      "2022-03-21 18:36:32, INFO: Adding centroid and centroid connector to standard network\n",
      "2022-03-21 18:36:32, INFO: Lasso base directory set as: Z:/Data/Users/Sijia/Met_Council/github/client_met_council_wrangler_utilities\n",
      "2022-03-21 18:36:32, INFO: Lasso base directory set as: Z:/Data/Users/Sijia/Met_Council/github/client_met_council_wrangler_utilities\n",
      "1056575\n",
      "  agency_raw_name shape_id from_stop_id to_stop_id  rail_only  \\\n",
      "0          MT2019  8880001        53342      53343          1   \n",
      "1          MT2019  8880001        53343      53344          1   \n",
      "2          MT2019  8880001        53344      53345          1   \n",
      "\n",
      "  fromIntersectionId toIntersectionId  \\\n",
      "0       MT2019_53342     MT2019_53343   \n",
      "1       MT2019_53343     MT2019_53344   \n",
      "2       MT2019_53344     MT2019_53345   \n",
      "\n",
      "                                            geometry  lanes  assign_group  \\\n",
      "0  LINESTRING (-93.27701 44.98332, -93.27647 44.9...      1           100   \n",
      "1  LINESTRING (-93.27087 45.07865, -93.27094 45.0...      1           100   \n",
      "2  LINESTRING (-93.35172 45.19126, -93.35826 45.1...      1           100   \n",
      "\n",
      "   roadway_class  centroidconnect  managed  model_link_id  \n",
      "0            100                0        0              1  \n",
      "1            100                0        0              2  \n",
      "2            100                0        0              3  \n",
      "2022-03-21 18:36:34, INFO: Finished adding rail links and nodes connectors\n",
      "2022-03-21 18:36:34, INFO: Finished adding rail links and nodes connectors\n"
     ]
    }
   ],
   "source": [
    "r_net = metcouncil.add_rail_links_and_nodes(\n",
    "    roadway_network = r_net,\n",
    "    parameters = parameters,\n",
    "    rail_links_file = os.path.join(input_dir, 'standard_networks', 'rail_links.geojson'),\n",
    "    rail_nodes_file = os.path.join(input_dir, 'standard_networks', 'rail_nodes.geojson'),\n",
    ")"
   ]
  },
  {
   "cell_type": "code",
   "execution_count": 30,
   "metadata": {},
   "outputs": [
    {
     "name": "stdout",
     "output_type": "stream",
     "text": [
      "0\n",
      "412318\n",
      "91\n",
      "float64\n",
      "Empty GeoDataFrame\n",
      "Columns: [osm_node_id, shst_node_id, county, drive_access, walk_access, bike_access, model_node_id, rail_only, geometry, X, Y]\n",
      "Index: []\n",
      "412227\n",
      "412318\n",
      "0\n",
      "1056665\n",
      "1056665\n",
      "0\n",
      "0\n",
      "90\n",
      "Empty GeoDataFrame\n",
      "Columns: [shstReferenceId, id, shstGeometryId, fromIntersectionId, toIntersectionId, u, v, nodeIds, wayId, roadClass, oneWay, roundabout, link, oneway, ref, name, highway, service, width, maxspeed, access, junction, bridge, tunnel, landuse, area, key, forward, roadway, drive_access, walk_access, bike_access, county, length, model_link_id, A, B, locationReferences, rail_only, geometry, centroidconnect, lanes, bus_only, assign_group, roadway_class]\n",
      "Index: []\n",
      "\n",
      "[0 rows x 45 columns]\n",
      "90\n",
      "Empty GeoDataFrame\n",
      "Columns: [shstReferenceId, id, shstGeometryId, fromIntersectionId, toIntersectionId, u, v, nodeIds, wayId, roadClass, oneWay, roundabout, link, oneway, ref, name, highway, service, width, maxspeed, access, junction, bridge, tunnel, landuse, area, key, forward, roadway, drive_access, walk_access, bike_access, county, length, model_link_id, A, B, locationReferences, rail_only, geometry, centroidconnect, lanes, bus_only, assign_group, roadway_class]\n",
      "Index: []\n",
      "\n",
      "[0 rows x 45 columns]\n"
     ]
    }
   ],
   "source": [
    "# check if missing IDs\n",
    "# rail nodes does not have osm IDs, they have shst IDs\n",
    "# rail links does not have osm IDs, they have shst IDs\n",
    "\n",
    "# if node missing shst id\n",
    "print(r_net.nodes_df.shst_node_id.isnull().sum())\n",
    "print(r_net.nodes_df.shst_node_id.nunique())\n",
    "# if node missing osm id\n",
    "print(r_net.nodes_df.osm_node_id.isnull().sum())\n",
    "# if node missing osm id\n",
    "print(r_net.nodes_df.osm_node_id.dtype)\n",
    "print(r_net.nodes_df[r_net.nodes_df.osm_node_id == 0])\n",
    "print(r_net.nodes_df.osm_node_id.nunique())\n",
    "# if node missing model node id\n",
    "print(r_net.nodes_df.model_node_id.nunique())\n",
    "\n",
    "# if link missing \n",
    "print(r_net.links_df.shstReferenceId.isnull().sum())\n",
    "print(r_net.links_df.shstReferenceId.nunique())\n",
    "print(r_net.links_df.model_link_id.nunique())\n",
    "\n",
    "# if link missing node id\n",
    "print(r_net.links_df.fromIntersectionId.isnull().sum())\n",
    "print(r_net.links_df.toIntersectionId.isnull().sum())\n",
    "print(r_net.links_df.u.isnull().sum())\n",
    "print(r_net.links_df[r_net.links_df.u == 0])\n",
    "print(r_net.links_df.v.isnull().sum())\n",
    "print(r_net.links_df[r_net.links_df.v == 0])"
   ]
  },
  {
   "cell_type": "markdown",
   "metadata": {},
   "source": [
    "## Create a Scenario"
   ]
  },
  {
   "cell_type": "code",
   "execution_count": 31,
   "metadata": {},
   "outputs": [],
   "source": [
    "base_scenario = {\"road_net\": r_net, \"transit_net\": transit_net}"
   ]
  },
  {
   "cell_type": "code",
   "execution_count": 32,
   "metadata": {},
   "outputs": [
    {
     "name": "stdout",
     "output_type": "stream",
     "text": [
      "2022-03-21 18:36:38, INFO: Creating Scenario\n",
      "2022-03-21 18:36:38, INFO: Creating Scenario\n"
     ]
    }
   ],
   "source": [
    "working_scenario = Scenario.create_scenario(base_scenario = base_scenario)"
   ]
  },
  {
   "cell_type": "markdown",
   "metadata": {},
   "source": [
    "## Make Pickles"
   ]
  },
  {
   "cell_type": "code",
   "execution_count": 33,
   "metadata": {},
   "outputs": [],
   "source": [
    "working_scenario_filename = os.path.join(output_dir, 'working_scenario_00.pickle')\n",
    "pickle.dump(working_scenario, open(working_scenario_filename, 'wb'))"
   ]
  }
 ],
 "metadata": {
  "kernelspec": {
   "display_name": "Python 3 (ipykernel)",
   "language": "python",
   "name": "python3"
  },
  "language_info": {
   "codemirror_mode": {
    "name": "ipython",
    "version": 3
   },
   "file_extension": ".py",
   "mimetype": "text/x-python",
   "name": "python",
   "nbconvert_exporter": "python",
   "pygments_lexer": "ipython3",
   "version": "3.7.12"
  }
 },
 "nbformat": 4,
 "nbformat_minor": 4
}
