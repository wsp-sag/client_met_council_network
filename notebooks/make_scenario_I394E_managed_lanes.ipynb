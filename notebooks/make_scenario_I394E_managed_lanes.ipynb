{
 "cells": [
  {
   "cell_type": "markdown",
   "metadata": {},
   "source": [
    "# I394E managed lanes.\n",
    "\n",
    "In this notebook we will run through:\n",
    "\n",
    "1. Using a configuration file to run lasso  \n",
    "2. Setting up a base scenario and applying projects  \n",
    "3. Transforming the standard network format to the MetCouncil expected format    \n",
    "4. Exporting the network to a shapefile and csvs  "
   ]
  },
  {
   "cell_type": "code",
   "execution_count": 8,
   "metadata": {},
   "outputs": [],
   "source": [
    "import os\n",
    "import sys\n",
    "import yaml\n",
    "\n",
    "import pandas as pd\n",
    "\n",
    "from network_wrangler import RoadwayNetwork\n",
    "from network_wrangler import TransitNetwork\n",
    "from network_wrangler import ProjectCard\n",
    "from network_wrangler import Scenario\n",
    "from network_wrangler import WranglerLogger\n",
    "\n",
    "from lasso import ModelRoadwayNetwork\n",
    "from lasso import StandardTransit"
   ]
  },
  {
   "cell_type": "code",
   "execution_count": 9,
   "metadata": {},
   "outputs": [
    {
     "name": "stdout",
     "output_type": "stream",
     "text": [
      "The autoreload extension is already loaded. To reload it, use:\n",
      "  %reload_ext autoreload\n"
     ]
    }
   ],
   "source": [
    "%load_ext autoreload\n",
    "%autoreload 2\n",
    "%config IPCompleter.greedy=True"
   ]
  },
  {
   "cell_type": "code",
   "execution_count": 10,
   "metadata": {},
   "outputs": [],
   "source": [
    "import logging\n",
    "logger = logging.getLogger(\"WranglerLogger\")\n",
    "logger.handlers[0].stream = sys.stdout\n",
    "# if you don't want to see so much detail, set to logging.INFO or DEBUG\n",
    "logger.setLevel(logging.DEBUG)"
   ]
  },
  {
   "cell_type": "markdown",
   "metadata": {},
   "source": [
    "## Read a Config File\n",
    "\n",
    "Let's examine the configuration file and store it as `my_config` variable.  \n",
    "\n",
    "Configuration files are written in YAML and read in as python dictionaries."
   ]
  },
  {
   "cell_type": "code",
   "execution_count": 24,
   "metadata": {},
   "outputs": [
    {
     "name": "stdout",
     "output_type": "stream",
     "text": [
      "{\n",
      "  \"base_scenario\": {\n",
      "    \"input_dir\": \"C:/projects/met_council_git/data/interim/networks/base_network\",\n",
      "    \"shape_file_name\": \"shape.geojson\",\n",
      "    \"link_file_name\": \"link.json\",\n",
      "    \"node_file_name\": \"node.geojson\",\n",
      "    \"transit_directory\": \"\",\n",
      "    \"validate_network\": false,\n",
      "    \"lasso_base_dir\": \"D:/lasso\"\n",
      "  },\n",
      "  \"scenario\": {\n",
      "    \"project_cards_filenames\": [\n",
      "      \"C:/projects/met_council_git/project_cards/managed_lane_examples/hov_ramp_managed_lane.yml\",\n",
      "      \"C:/projects/met_council_git/project_cards/managed_lane_examples/i394E_parallel_managed_lane.yml\",\n",
      "      \"C:/projects/met_council_git/project_cards/managed_lane_examples/i394E_reversible_managed_lane.yml\",\n",
      "      \"C:/projects/met_council_git/project_cards/year_2018_corrections_assign_group_roadway_class.yml\",\n",
      "      \"C:/projects/met_council_git/project_cards/year_2018_corrections_assign_group.yml\"\n",
      "    ],\n",
      "    \"card_directory\": [],\n",
      "    \"glob_search\": [],\n",
      "    \"tags\": []\n",
      "  },\n",
      "  \"output\": {\n",
      "    \"format\": \"geojson\",\n",
      "    \"directory\": \"\",\n",
      "    \"prefix\": \"\"\n",
      "  }\n",
      "}\n"
     ]
    }
   ],
   "source": [
    "MY_CONFIG_FILE = \"C:/projects/met_council_git/project_cards/config_year_2018_corrections_and_managed_lanes.yml\"\n",
    "\n",
    "with open(MY_CONFIG_FILE) as f:\n",
    "        my_config = yaml.safe_load(f)\n",
    "        \n",
    "import json\n",
    "print(json.dumps(my_config, indent=2))\n",
    "\n",
    "## Alternatively this could be written in the notebook our selected via a notebook GUI"
   ]
  },
  {
   "cell_type": "markdown",
   "metadata": {},
   "source": [
    "## Create a Base Scenario\n",
    "\n",
    "Base scenarios must at the least specify a highway network but can also specify a directory where transit networks can be found.  \n",
    "\n",
    "In this step the highway and transit networks are read in and validated to each other.  \n",
    "\n",
    "In some cases, you may want to override the validation (after reviewing the errors) using the flag: `validate = False`."
   ]
  },
  {
   "cell_type": "code",
   "execution_count": 37,
   "metadata": {
    "scrolled": true
   },
   "outputs": [
    {
     "name": "stdout",
     "output_type": "stream",
     "text": [
      "2020-07-21 16:56:31, INFO: Base Wrangler Path: C:\\projects\\network_wrangler\n"
     ]
    },
    {
     "ename": "TypeError",
     "evalue": "create_base_scenario() got an unexpected keyword argument 'lasso_base_dir'",
     "output_type": "error",
     "traceback": [
      "\u001b[1;31m---------------------------------------------------------------------------\u001b[0m",
      "\u001b[1;31mTypeError\u001b[0m                                 Traceback (most recent call last)",
      "\u001b[1;32m<ipython-input-37-045cce6c0220>\u001b[0m in \u001b[0;36m<module>\u001b[1;34m\u001b[0m\n\u001b[0;32m      9\u001b[0m         \u001b[0mtransit_dir\u001b[0m\u001b[1;33m=\u001b[0m\u001b[0mmy_config\u001b[0m\u001b[1;33m[\u001b[0m\u001b[1;34m\"base_scenario\"\u001b[0m\u001b[1;33m]\u001b[0m\u001b[1;33m[\u001b[0m\u001b[1;34m\"input_dir\"\u001b[0m\u001b[1;33m]\u001b[0m\u001b[1;33m,\u001b[0m\u001b[1;33m\u001b[0m\u001b[1;33m\u001b[0m\u001b[0m\n\u001b[0;32m     10\u001b[0m         \u001b[0mlasso_base_dir\u001b[0m \u001b[1;33m=\u001b[0m \u001b[1;34m\"D:\\lasso\"\u001b[0m\u001b[1;33m,\u001b[0m\u001b[1;33m\u001b[0m\u001b[1;33m\u001b[0m\u001b[0m\n\u001b[1;32m---> 11\u001b[1;33m         \u001b[0mvalidate\u001b[0m \u001b[1;33m=\u001b[0m \u001b[1;32mFalse\u001b[0m\u001b[1;33m,\u001b[0m\u001b[1;33m\u001b[0m\u001b[1;33m\u001b[0m\u001b[0m\n\u001b[0m\u001b[0;32m     12\u001b[0m \u001b[1;33m\u001b[0m\u001b[0m\n\u001b[0;32m     13\u001b[0m     )\n",
      "\u001b[1;31mTypeError\u001b[0m: create_base_scenario() got an unexpected keyword argument 'lasso_base_dir'"
     ]
    }
   ],
   "source": [
    "base_wrangler_path = os.path.join(os.path.dirname((os.path.dirname(os.path.abspath('')))),\"network_wrangler\")\n",
    "WranglerLogger.info(\"Base Wrangler Path: {}\".format(base_wrangler_path))\n",
    "\n",
    "base_scenario = Scenario.create_base_scenario(\n",
    "        my_config[\"base_scenario\"][\"shape_file_name\"],\n",
    "        my_config[\"base_scenario\"][\"link_file_name\"],\n",
    "        my_config[\"base_scenario\"][\"node_file_name\"],\n",
    "        roadway_dir=my_config[\"base_scenario\"][\"input_dir\"],\n",
    "        transit_dir=my_config[\"base_scenario\"][\"input_dir\"],\n",
    "        validate = False,\n",
    "    \n",
    "    )"
   ]
  },
  {
   "cell_type": "code",
   "execution_count": null,
   "metadata": {},
   "outputs": [],
   "source": []
  },
  {
   "cell_type": "markdown",
   "metadata": {},
   "source": [
    "#### Create project cards from projects that are explicitely specified in config\n"
   ]
  },
  {
   "cell_type": "code",
   "execution_count": 13,
   "metadata": {
    "scrolled": true
   },
   "outputs": [
    {
     "data": {
      "text/plain": [
       "[<network_wrangler.projectcard.ProjectCard at 0x2b86e567a88>,\n",
       " <network_wrangler.projectcard.ProjectCard at 0x2b65408a848>,\n",
       " <network_wrangler.projectcard.ProjectCard at 0x2b653f76c08>,\n",
       " <network_wrangler.projectcard.ProjectCard at 0x2b653f76c48>,\n",
       " <network_wrangler.projectcard.ProjectCard at 0x2b64eeaad88>]"
      ]
     },
     "execution_count": 13,
     "metadata": {},
     "output_type": "execute_result"
    }
   ],
   "source": [
    "if len(my_config[\"scenario\"][\"project_cards_filenames\"]) > 0:\n",
    "    project_cards_list = [\n",
    "        ProjectCard.read(filename, validate=False)\n",
    "        for filename in my_config[\"scenario\"][\"project_cards_filenames\"]\n",
    "    ]\n",
    "else: \n",
    "    project_cards_list = []\n",
    "project_cards_list\n"
   ]
  },
  {
   "cell_type": "markdown",
   "metadata": {},
   "source": [
    "## Create Scenario\n",
    "\n",
    "A scenario is constructed with a base scenario and then selecting project cards to be added to that base scenario to create the new scenario.\n",
    "\n",
    "Projects can be added a variety of ways:\n",
    "\n",
    " 1. `card_directory` + `tags` will search a directory add project's who's project tags match *at least one of* the tags in the keyword.\n",
    " 2. `card_directory` + `glob_search` will search a directory add project's who's file name matches the [glob search text](https://docs.python.org/3/library/glob.html)\n",
    " 3. `project_cards_list` is a list of ProjectCard objects\n",
    " \n",
    "Optionally, you may specify that project card formats are not validated by setting they keyword: \n",
    "   `validate = False`\n",
    "   \n",
    "Projects that are not added in the initial scenario development can be added by using the following methods:  \n",
    "\n",
    " - `add_project_card_from_file()`  \n",
    " - `add_project_cards_from_directory()`  \n",
    " - `add_project_cards_from_tags`\n",
    " \n",
    "Or by directly adding the project to the scenario's project attribute by running:\n",
    "\n",
    "```python\n",
    "my_project = ProjectCard.read(path_to_card)\n",
    "my_scenario.projects += my_project\n",
    "\n",
    "```\n"
   ]
  },
  {
   "cell_type": "code",
   "execution_count": 31,
   "metadata": {},
   "outputs": [],
   "source": []
  },
  {
   "cell_type": "code",
   "execution_count": 38,
   "metadata": {},
   "outputs": [
    {
     "ename": "TypeError",
     "evalue": "create_scenario() got an unexpected keyword argument 'lasso_base_dir'",
     "output_type": "error",
     "traceback": [
      "\u001b[1;31m---------------------------------------------------------------------------\u001b[0m",
      "\u001b[1;31mTypeError\u001b[0m                                 Traceback (most recent call last)",
      "\u001b[1;32m<ipython-input-38-45b52836ae0e>\u001b[0m in \u001b[0;36m<module>\u001b[1;34m\u001b[0m\n\u001b[0;32m      6\u001b[0m \u001b[1;33m\u001b[0m\u001b[0m\n\u001b[0;32m      7\u001b[0m         \u001b[0mlasso_base_dir\u001b[0m \u001b[1;33m=\u001b[0m \u001b[1;34m\"D:\\lasso\"\u001b[0m\u001b[1;33m,\u001b[0m\u001b[1;33m\u001b[0m\u001b[1;33m\u001b[0m\u001b[0m\n\u001b[1;32m----> 8\u001b[1;33m     \u001b[0mvalidate_project_cards\u001b[0m\u001b[1;33m=\u001b[0m\u001b[1;32mFalse\u001b[0m\u001b[1;33m,\u001b[0m\u001b[1;33m\u001b[0m\u001b[1;33m\u001b[0m\u001b[0m\n\u001b[0m\u001b[0;32m      9\u001b[0m )\n",
      "\u001b[1;31mTypeError\u001b[0m: create_scenario() got an unexpected keyword argument 'lasso_base_dir'"
     ]
    }
   ],
   "source": [
    "my_scenario=None\n",
    "\n",
    "my_scenario = Scenario.create_scenario(\n",
    "    base_scenario=base_scenario,\n",
    "    project_cards_list=project_cards_list,\n",
    "    validate_project_cards=False,\n",
    ")"
   ]
  },
  {
   "cell_type": "markdown",
   "metadata": {},
   "source": [
    "### Apply all projects in scenario"
   ]
  },
  {
   "cell_type": "code",
   "execution_count": 33,
   "metadata": {},
   "outputs": [
    {
     "name": "stdout",
     "output_type": "stream",
     "text": [
      "2020-07-21 16:39:58, INFO: \n",
      "Projects in queue to be applied: \n",
      " - HOV ramp refactor\n",
      " - I394 Parallel Lanes\n",
      " - I394E Reversible Lanes\n",
      " - Correct Year 2018 Assignment Group and Roadway Class\n",
      " - Correct Year 2018 Assignment Group\n",
      "2020-07-21 16:39:58, INFO: \n",
      "[Before] Applied Projects: \n",
      " - \n",
      "2020-07-21 16:39:58, DEBUG: Ordered Project Cards: {'correct year 2018 assignment group': <network_wrangler.projectcard.ProjectCard object at 0x000002B64EEAAD88>, 'correct year 2018 assignment group and roadway class': <network_wrangler.projectcard.ProjectCard object at 0x000002B653F76C48>, 'i394e reversible lanes': <network_wrangler.projectcard.ProjectCard object at 0x000002B653F76C08>, 'i394 parallel lanes': <network_wrangler.projectcard.ProjectCard object at 0x000002B65408A848>, 'hov ramp refactor': <network_wrangler.projectcard.ProjectCard object at 0x000002B86E567A88>}\n",
      "2020-07-21 16:39:58, DEBUG: Project Cards: [<network_wrangler.projectcard.ProjectCard object at 0x000002B64EEAAD88>, <network_wrangler.projectcard.ProjectCard object at 0x000002B653F76C48>, <network_wrangler.projectcard.ProjectCard object at 0x000002B653F76C08>, <network_wrangler.projectcard.ProjectCard object at 0x000002B65408A848>, <network_wrangler.projectcard.ProjectCard object at 0x000002B86E567A88>]\n",
      "2020-07-21 16:39:58, INFO: Applying Correct Year 2018 Assignment Group\n",
      "2020-07-21 16:39:58, INFO: Applying Correct Year 2018 Assignment Group\n",
      "2020-07-21 16:39:58, INFO: Applying Correct Year 2018 Assignment Group\n",
      "2020-07-21 16:39:58, INFO: Applying Correct Year 2018 Assignment Group\n",
      "2020-07-21 16:39:58, INFO: Applying Correct Year 2018 Assignment Group\n",
      "2020-07-21 16:39:58, INFO: Applying Correct Year 2018 Assignment Group\n",
      "2020-07-21 16:39:58, INFO: Applying Correct Year 2018 Assignment Group\n",
      "2020-07-21 16:39:58, INFO: Applying Correct Year 2018 Assignment Group\n",
      "2020-07-21 16:39:58, INFO: Applying Correct Year 2018 Assignment Group\n",
      "2020-07-21 16:39:58, INFO: Applying Correct Year 2018 Assignment Group\n",
      "2020-07-21 16:39:58, INFO: Applying Correct Year 2018 Assignment Group\n",
      "2020-07-21 16:39:58, INFO: Applying Correct Year 2018 Assignment Group\n",
      "2020-07-21 16:39:58, INFO: Applying Correct Year 2018 Assignment Group\n",
      "2020-07-21 16:39:58, INFO: Applying Correct Year 2018 Assignment Group\n",
      "2020-07-21 16:39:58, INFO: Applying Correct Year 2018 Assignment Group\n",
      "2020-07-21 16:39:58, INFO: Applying Correct Year 2018 Assignment Group\n",
      "2020-07-21 16:39:58, INFO: Applying Correct Year 2018 Assignment Group\n",
      "2020-07-21 16:39:58, INFO: Applying Correct Year 2018 Assignment Group and Roadway Class\n",
      "2020-07-21 16:39:58, INFO: Applying Correct Year 2018 Assignment Group and Roadway Class\n",
      "2020-07-21 16:39:58, INFO: Applying I394E Reversible Lanes\n",
      "2020-07-21 16:39:58, INFO: Applying Project to Roadway Network: I394E Reversible Lanes\n",
      "2020-07-21 16:39:58, DEBUG: validating selection\n",
      "2020-07-21 16:39:58, DEBUG: Selection Key: ((model_link_id==394063 or model_link_id==404192 or model_link_id==403006 or model_link_id==402701 or model_link_id==402700 or model_link_id==403289 or model_link_id==382272 or model_link_id==419239 or model_link_id==419238))\n",
      "2020-07-21 16:39:58, DEBUG: Building selection query\n",
      "2020-07-21 16:39:58, DEBUG: Selecting features:\n",
      "((model_link_id==394063 or model_link_id==404192 or model_link_id==403006 or model_link_id==402701 or model_link_id==402700 or model_link_id==403289 or model_link_id==382272 or model_link_id==419239 or model_link_id==419238))\n",
      "2020-07-21 16:39:58, DEBUG: Completed query\n"
     ]
    },
    {
     "name": "stderr",
     "output_type": "stream",
     "text": [
      "d:\\network_wrangler\\network_wrangler\\roadwaynetwork.py:859: SettingWithCopyWarning: \n",
      "A value is trying to be set on a copy of a slice from a DataFrame.\n",
      "Try using .loc[row_indexer,col_indexer] = value instead\n",
      "\n",
      "See the caveats in the documentation: https://pandas.pydata.org/pandas-docs/stable/user_guide/indexing.html#returning-a-view-versus-a-copy\n",
      "  candidate_links[\"i\"] = 0\n"
     ]
    },
    {
     "name": "stdout",
     "output_type": "stream",
     "text": [
      "2020-07-21 16:39:59, INFO: Applying I394 Parallel Lanes\n",
      "2020-07-21 16:39:59, INFO: Applying Project to Roadway Network: I394 Parallel Lanes\n",
      "2020-07-21 16:39:59, DEBUG: validating selection\n",
      "2020-07-21 16:39:59, DEBUG: Selection Key: ((model_link_id==416366 or model_link_id==414813 or model_link_id==381248 or model_link_id==381223 or model_link_id==417878 or model_link_id==418556 or model_link_id==418512 or model_link_id==419032 or model_link_id==419044 or model_link_id==419040 or model_link_id==419637 or model_link_id==419634 or model_link_id==417947 or model_link_id==420448 or model_link_id==420447 or model_link_id==394057))\n",
      "2020-07-21 16:39:59, DEBUG: Building selection query\n",
      "2020-07-21 16:39:59, DEBUG: Selecting features:\n",
      "((model_link_id==416366 or model_link_id==414813 or model_link_id==381248 or model_link_id==381223 or model_link_id==417878 or model_link_id==418556 or model_link_id==418512 or model_link_id==419032 or model_link_id==419044 or model_link_id==419040 or model_link_id==419637 or model_link_id==419634 or model_link_id==417947 or model_link_id==420448 or model_link_id==420447 or model_link_id==394057))\n",
      "2020-07-21 16:40:00, DEBUG: Completed query\n",
      "2020-07-21 16:40:00, INFO: Applying HOV ramp refactor\n",
      "2020-07-21 16:40:00, INFO: Applying Project to Roadway Network: HOV ramp refactor\n",
      "2020-07-21 16:40:00, DEBUG: validating selection\n",
      "2020-07-21 16:40:00, DEBUG: Selection Key: ((model_link_id==392864 or model_link_id==384757 or model_link_id==384163 or model_link_id==401837 or model_link_id==415655 or model_link_id==398222 or model_link_id==418190 or model_link_id==413528 or model_link_id==387620 or model_link_id==398187 or model_link_id==401393 or model_link_id==382393 or model_link_id==401284 or model_link_id==409974 or model_link_id==411302 or model_link_id==419089 or model_link_id==391566 or model_link_id==398604))\n",
      "2020-07-21 16:40:00, DEBUG: Building selection query\n",
      "2020-07-21 16:40:00, DEBUG: Selecting features:\n",
      "((model_link_id==392864 or model_link_id==384757 or model_link_id==384163 or model_link_id==401837 or model_link_id==415655 or model_link_id==398222 or model_link_id==418190 or model_link_id==413528 or model_link_id==387620 or model_link_id==398187 or model_link_id==401393 or model_link_id==382393 or model_link_id==401284 or model_link_id==409974 or model_link_id==411302 or model_link_id==419089 or model_link_id==391566 or model_link_id==398604))\n",
      "2020-07-21 16:40:00, DEBUG: Completed query\n",
      "2020-07-21 16:40:01, INFO: \n",
      "[After] Applied Projects: \n",
      " - Correct Year 2018 Assignment Group\n",
      " - Correct Year 2018 Assignment Group and Roadway Class\n",
      " - I394E Reversible Lanes\n",
      " - I394 Parallel Lanes\n",
      " - HOV ramp refactor\n"
     ]
    }
   ],
   "source": [
    "WranglerLogger.info(\"\\nProjects in queue to be applied: \\n - {}\".format(\"\\n - \".join(my_scenario.get_project_names())))\n",
    "WranglerLogger.info(\"\\n[Before] Applied Projects: \\n - {}\".format(\"\\n - \".join(my_scenario.applied_projects)))\n",
    "\n",
    "my_scenario.apply_all_projects()\n",
    "\n",
    "WranglerLogger.info(\"\\n[After] Applied Projects: \\n - {}\".format(\"\\n - \".join(my_scenario.applied_projects)))"
   ]
  },
  {
   "cell_type": "code",
   "execution_count": 16,
   "metadata": {
    "scrolled": false
   },
   "outputs": [],
   "source": [
    "#my_scenario.road_net.links_df.info()"
   ]
  },
  {
   "cell_type": "code",
   "execution_count": 17,
   "metadata": {},
   "outputs": [],
   "source": [
    "#my_scenario.road_net.links_df[my_scenario.road_net.links_df[\"segment_id\"] == 5]"
   ]
  },
  {
   "cell_type": "markdown",
   "metadata": {},
   "source": [
    "# Write out as MetCouncil Model Roadway Network\n",
    "Everything above was done in \"pure wrangler\" rather than lasso.  However, we will need Lasso in order to add the MetCouncil specific variables. You can create a lasso ModelRoadwayNetwork object from the roadway network object and feed it any additional parameters from that `my_config` variable.\n",
    "\n",
    "You can see that the link variables for this network are the same as the standard roadway network at this point but that will change.\n",
    "\n",
    "Since this is a GeoDataFrame you can also use build-in Geopandas features to make simple plots based on these variables."
   ]
  },
  {
   "cell_type": "code",
   "execution_count": 26,
   "metadata": {},
   "outputs": [
    {
     "data": {
      "text/plain": [
       "{'base_scenario': {'input_dir': 'C:/projects/met_council_git/data/interim/networks/base_network',\n",
       "  'shape_file_name': 'shape.geojson',\n",
       "  'link_file_name': 'link.json',\n",
       "  'node_file_name': 'node.geojson',\n",
       "  'transit_directory': '',\n",
       "  'validate_network': False,\n",
       "  'lasso_base_dir': 'D:/lasso'},\n",
       " 'scenario': {'project_cards_filenames': ['C:/projects/met_council_git/project_cards/managed_lane_examples/hov_ramp_managed_lane.yml',\n",
       "   'C:/projects/met_council_git/project_cards/managed_lane_examples/i394E_parallel_managed_lane.yml',\n",
       "   'C:/projects/met_council_git/project_cards/managed_lane_examples/i394E_reversible_managed_lane.yml',\n",
       "   'C:/projects/met_council_git/project_cards/year_2018_corrections_assign_group_roadway_class.yml',\n",
       "   'C:/projects/met_council_git/project_cards/year_2018_corrections_assign_group.yml'],\n",
       "  'card_directory': [],\n",
       "  'glob_search': [],\n",
       "  'tags': []},\n",
       " 'output': {'format': 'geojson', 'directory': '', 'prefix': ''}}"
      ]
     },
     "execution_count": 26,
     "metadata": {},
     "output_type": "execute_result"
    }
   ],
   "source": [
    "my_config"
   ]
  },
  {
   "cell_type": "code",
   "execution_count": 39,
   "metadata": {},
   "outputs": [
    {
     "ename": "AttributeError",
     "evalue": "'NoneType' object has no attribute 'road_net'",
     "output_type": "error",
     "traceback": [
      "\u001b[1;31m---------------------------------------------------------------------------\u001b[0m",
      "\u001b[1;31mAttributeError\u001b[0m                            Traceback (most recent call last)",
      "\u001b[1;32m<ipython-input-39-82b730758309>\u001b[0m in \u001b[0;36m<module>\u001b[1;34m\u001b[0m\n\u001b[0;32m      1\u001b[0m model_road_net = ModelRoadwayNetwork.from_RoadwayNetwork(\n\u001b[1;32m----> 2\u001b[1;33m     \u001b[0mmy_scenario\u001b[0m\u001b[1;33m.\u001b[0m\u001b[0mroad_net\u001b[0m\u001b[1;33m,\u001b[0m \u001b[0mparameters\u001b[0m\u001b[1;33m=\u001b[0m\u001b[0mmy_config\u001b[0m\u001b[1;33m.\u001b[0m\u001b[0mget\u001b[0m\u001b[1;33m(\u001b[0m\u001b[1;34m\"my_parameters\"\u001b[0m\u001b[1;33m,\u001b[0m \u001b[1;33m{\u001b[0m\u001b[1;33m}\u001b[0m\u001b[1;33m)\u001b[0m\u001b[1;33m,\u001b[0m\u001b[1;33m\u001b[0m\u001b[1;33m\u001b[0m\u001b[0m\n\u001b[0m\u001b[0;32m      3\u001b[0m \u001b[1;33m\u001b[0m\u001b[0m\n\u001b[0;32m      4\u001b[0m         \u001b[0mlasso_base_dir\u001b[0m \u001b[1;33m=\u001b[0m \u001b[1;34m\"D:\\lasso\"\u001b[0m\u001b[1;33m,\u001b[0m\u001b[1;33m\u001b[0m\u001b[1;33m\u001b[0m\u001b[0m\n\u001b[0;32m      5\u001b[0m )\n",
      "\u001b[1;31mAttributeError\u001b[0m: 'NoneType' object has no attribute 'road_net'"
     ]
    }
   ],
   "source": [
    "model_road_net = ModelRoadwayNetwork.from_RoadwayNetwork(\n",
    "    my_scenario.road_net, parameters=my_config.get(\"my_parameters\", {})\n",
    ")"
   ]
  },
  {
   "cell_type": "code",
   "execution_count": null,
   "metadata": {},
   "outputs": [],
   "source": [
    "#model_road_net.links_df.info()"
   ]
  },
  {
   "cell_type": "code",
   "execution_count": null,
   "metadata": {},
   "outputs": [],
   "source": [
    "#model_road_net.links_df.loc[model_road_net.links_df[\"HOV\"] == \"NaN\", \"HOV\"] = \"0\""
   ]
  },
  {
   "cell_type": "code",
   "execution_count": null,
   "metadata": {},
   "outputs": [],
   "source": []
  },
  {
   "cell_type": "code",
   "execution_count": null,
   "metadata": {},
   "outputs": [],
   "source": [
    "#model_road_net.links_df[model_road_net.links_df[\"HOV\"] != \"0\"]"
   ]
  },
  {
   "cell_type": "code",
   "execution_count": null,
   "metadata": {},
   "outputs": [],
   "source": [
    "#model_road_net.nodes_df.info()"
   ]
  },
  {
   "cell_type": "markdown",
   "metadata": {},
   "source": [
    "## Add MetCouncil variables\n",
    "At this point, we need to calculate all the variables into what MetCouncil's model is expecting. The method `roadway_standard_to_met_council_network()` broadly does the following:  \n",
    " \n",
    "- creates a parallel managed lane network\n",
    "- calculates additional variables based on geography or other variables (i.e. county, assignment group, area type, etc)\n",
    "- flattens variables stored as continuous time values and determines their value by time period (i.e. lanes_am)   \n",
    "- reprojects into MetCouncil's projection"
   ]
  },
  {
   "cell_type": "code",
   "execution_count": null,
   "metadata": {
    "scrolled": false
   },
   "outputs": [],
   "source": [
    "model_road_net.roadway_standard_to_met_council_network()"
   ]
  },
  {
   "cell_type": "code",
   "execution_count": null,
   "metadata": {},
   "outputs": [],
   "source": [
    "#model_road_net.links_metcouncil_df.query('lanes == 0 & drive_access == 1 & centroidconnect')"
   ]
  },
  {
   "cell_type": "code",
   "execution_count": null,
   "metadata": {},
   "outputs": [],
   "source": [
    "#pd.options.display.max_columns = None\n",
    "#model_road_net.links_metcouncil_df[model_road_net.links_metcouncil_df[\"model_link_id\"] == 1390975][\"segment_id\"]\n"
   ]
  },
  {
   "cell_type": "code",
   "execution_count": null,
   "metadata": {},
   "outputs": [],
   "source": [
    "#model_road_net.links_metcouncil_df[model_road_net.links_metcouncil_df.model_link_id.isin([390975])]"
   ]
  },
  {
   "cell_type": "code",
   "execution_count": null,
   "metadata": {},
   "outputs": [],
   "source": [
    "#model_road_net.links_metcouncil_df.segment_id.value_counts()\n",
    "pd.crosstab(model_road_net.links_metcouncil_df.segment_id, model_road_net.links_metcouncil_df.managed)"
   ]
  },
  {
   "cell_type": "code",
   "execution_count": null,
   "metadata": {},
   "outputs": [],
   "source": [
    "#model_road_net.links_metcouncil_df.plot(\"lanes_AM\")"
   ]
  },
  {
   "cell_type": "markdown",
   "metadata": {},
   "source": [
    "## Export to shapefile\n",
    "\n",
    "As a last step, the network can be exported to a shapefile and paired CSVs after removing extraneous variables.\n",
    "\n",
    "(note that this step will also run the `roadway_standard_to_met_council_network()` method but I wanted to show it to you piecewise)"
   ]
  },
  {
   "cell_type": "code",
   "execution_count": null,
   "metadata": {},
   "outputs": [],
   "source": [
    "model_road_net.write_roadway_as_shp(\n",
    "    output_link_shp = \"C:/projects/met_council_git/data/interim/networks/fixed_width/link.shp\",\n",
    "    output_node_shp = \"C:/projects/met_council_git/data/interim/networks/fixed_width/node.shp\"\n",
    ")"
   ]
  },
  {
   "cell_type": "markdown",
   "metadata": {},
   "source": [
    "# Export to fixed width file"
   ]
  },
  {
   "cell_type": "code",
   "execution_count": null,
   "metadata": {},
   "outputs": [],
   "source": [
    "model_road_net.write_roadway_as_fixedwidth(\n",
    "    output_link_txt = \"C:/projects/met_council_git/data/interim/networks/fixed_width/link.txt\",\n",
    "    output_node_txt = \"C:/projects/met_council_git/data/interim/networks/fixed_width/node.txt\",\n",
    "    output_link_header_width_txt = \"C:/projects/met_council_git/data/interim/networks/fixed_width/link_header.csv\",\n",
    "    output_node_header_width_txt = \"C:/projects/met_council_git/data/interim/networks/fixed_width/node_header.csv\",\n",
    "    output_cube_network_script = \"C:/projects/met_council_git/data/interim/networks/fixed_width/make_complete_network_from_fixed_width_file.s\"\n",
    ")"
   ]
  },
  {
   "cell_type": "markdown",
   "metadata": {},
   "source": [
    "# Write out as MetCouncil Model Transit Network\n",
    "\n",
    "Similar to the roadway network, the first step is to convert it to a Lasso object, and then write it to a cube line file.  Optionally, you could also export it to a shapefile to inspect using other means. "
   ]
  },
  {
   "cell_type": "code",
   "execution_count": null,
   "metadata": {},
   "outputs": [],
   "source": [
    "#standard_transit = StandardTransit.fromTransitNetwork(my_scenario.transit_net)\n",
    "#standard_transit.feed"
   ]
  },
  {
   "cell_type": "markdown",
   "metadata": {},
   "source": [
    "Write out the StandardTransit Lasso object to a cube line file:"
   ]
  },
  {
   "cell_type": "code",
   "execution_count": null,
   "metadata": {},
   "outputs": [],
   "source": [
    "#standard_transit.write_as_cube_lin()"
   ]
  },
  {
   "cell_type": "code",
   "execution_count": null,
   "metadata": {},
   "outputs": [],
   "source": []
  },
  {
   "cell_type": "code",
   "execution_count": null,
   "metadata": {},
   "outputs": [],
   "source": []
  }
 ],
 "metadata": {
  "kernelspec": {
   "display_name": "Python 3",
   "language": "python",
   "name": "python3"
  },
  "language_info": {
   "codemirror_mode": {
    "name": "ipython",
    "version": 3
   },
   "file_extension": ".py",
   "mimetype": "text/x-python",
   "name": "python",
   "nbconvert_exporter": "python",
   "pygments_lexer": "ipython3",
   "version": "3.7.6"
  }
 },
 "nbformat": 4,
 "nbformat_minor": 2
}
