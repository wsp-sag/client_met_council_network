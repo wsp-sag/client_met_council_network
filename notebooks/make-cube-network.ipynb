{
 "cells": [
  {
   "cell_type": "markdown",
   "metadata": {},
   "source": [
    "# Make Cube Network"
   ]
  },
  {
   "cell_type": "code",
   "execution_count": 36,
   "metadata": {},
   "outputs": [],
   "source": [
    "import os\n",
    "import sys\n",
    "import yaml\n",
    "from subprocess import Popen\n",
    "\n",
    "import pandas as pd\n",
    "\n",
    "from network_wrangler import RoadwayNetwork\n",
    "from network_wrangler import TransitNetwork\n",
    "from network_wrangler import WranglerLogger\n",
    "\n",
    "from lasso import ModelRoadwayNetwork\n",
    "from lasso import StandardTransit\n",
    "from lasso import Parameters"
   ]
  },
  {
   "cell_type": "code",
   "execution_count": 37,
   "metadata": {},
   "outputs": [
    {
     "name": "stdout",
     "output_type": "stream",
     "text": [
      "The autoreload extension is already loaded. To reload it, use:\n",
      "  %reload_ext autoreload\n"
     ]
    }
   ],
   "source": [
    "%load_ext autoreload\n",
    "%autoreload 2"
   ]
  },
  {
   "cell_type": "code",
   "execution_count": 38,
   "metadata": {},
   "outputs": [],
   "source": [
    "import logging\n",
    "logger = logging.getLogger(\"WranglerLogger\")\n",
    "logger.handlers[0].stream = sys.stdout\n",
    "logger.setLevel(logging.INFO)"
   ]
  },
  {
   "cell_type": "markdown",
   "metadata": {},
   "source": [
    "## Remote I/O and Parameters"
   ]
  },
  {
   "cell_type": "code",
   "execution_count": 39,
   "metadata": {},
   "outputs": [],
   "source": [
    "input_dir = os.path.join('C:/Users', 'david.ory', 'Documents', 'GitHub', 'network_wrangler', 'examples', 'stpaul')\n",
    "output_dir = os.path.join('C:/Users', 'david.ory', 'Documents', 'GitHub', 'network_wrangler', 'examples', 'stpaul', 'cube')\n",
    "lasso_dir = os.path.join('C:/Users', 'david.ory', 'Documents', 'GitHub', 'lasso')"
   ]
  },
  {
   "cell_type": "code",
   "execution_count": 40,
   "metadata": {},
   "outputs": [
    {
     "name": "stdout",
     "output_type": "stream",
     "text": [
      "2020-07-24 12:37:18, INFO: Lasso base directory set as: C:/Users\\david.ory\\Documents\\GitHub\\lasso\n"
     ]
    },
    {
     "data": {
      "text/plain": [
       "dict_items([('time_period_to_time', {'AM': ('6:00', '9:00'), 'MD': ('9:00', '16:00'), 'PM': ('16:00', '19:00'), 'NT': ('19:00', '6:00')}), ('route_type_bus_mode_dict', {'Urb Loc': 5, 'Sub Loc': 6, 'Express': 7}), ('route_type_mode_dict', {0: 8, 2: 9}), ('cube_time_periods', {'1': 'AM', '2': 'MD'}), ('cube_time_periods_name', {'AM': 'pk', 'MD': 'op'}), ('categories', {'sov': ['sov', 'default'], 'hov2': ['hov2', 'default', 'sov'], 'hov3': ['hov3', 'hov2', 'default', 'sov'], 'truck': ['trk', 'sov', 'default']}), ('properties_to_split', {'trn_priority': {'v': 'trn_priority', 'time_periods': {'AM': ('6:00', '9:00'), 'MD': ('9:00', '16:00'), 'PM': ('16:00', '19:00'), 'NT': ('19:00', '6:00')}}, 'ttime_assert': {'v': 'ttime_assert', 'time_periods': {'AM': ('6:00', '9:00'), 'MD': ('9:00', '16:00'), 'PM': ('16:00', '19:00'), 'NT': ('19:00', '6:00')}}, 'lanes': {'v': 'lanes', 'time_periods': {'AM': ('6:00', '9:00'), 'MD': ('9:00', '16:00'), 'PM': ('16:00', '19:00'), 'NT': ('19:00', '6:00')}}, 'ML_lanes': {'v': 'ML_lanes', 'time_periods': {'AM': ('6:00', '9:00'), 'MD': ('9:00', '16:00'), 'PM': ('16:00', '19:00'), 'NT': ('19:00', '6:00')}}, 'price': {'v': 'price', 'time_periods': {'AM': ('6:00', '9:00'), 'MD': ('9:00', '16:00'), 'PM': ('16:00', '19:00'), 'NT': ('19:00', '6:00')}, 'categories': {'sov': ['sov', 'default'], 'hov2': ['hov2', 'default', 'sov'], 'hov3': ['hov3', 'hov2', 'default', 'sov'], 'truck': ['trk', 'sov', 'default']}}, 'access': {'v': 'access', 'time_periods': {'AM': ('6:00', '9:00'), 'MD': ('9:00', '16:00'), 'PM': ('16:00', '19:00'), 'NT': ('19:00', '6:00')}}}), ('base_dir', 'C:/Users\\\\david.ory\\\\Documents\\\\GitHub\\\\lasso'), ('data_file_location', 'C:/Users\\\\david.ory\\\\Documents\\\\GitHub\\\\lasso\\\\metcouncil_data'), ('settings_location', 'C:/Users\\\\david.ory\\\\Documents\\\\GitHub\\\\lasso\\\\examples\\\\settings'), ('scratch_location', 'C:/Users\\\\david.ory\\\\Documents\\\\GitHub\\\\lasso\\\\tests\\\\scratch'), ('county_shape', 'C:/Users\\\\david.ory\\\\Documents\\\\GitHub\\\\lasso\\\\metcouncil_data\\\\county\\\\cb_2017_us_county_5m.shp'), ('county_variable_shp', 'NAME'), ('county_code_dict', {'Anoka': 1, 'Carver': 2, 'Dakota': 3, 'Hennepin': 4, 'Ramsey': 5, 'Scott': 6, 'Washington': 7, 'external': 10, 'Chisago': 11, 'Goodhue': 12, 'Isanti': 13, 'Le Sueur': 14, 'McLeod': 15, 'Pierce': 16, 'Polk': 17, 'Rice': 18, 'Sherburne': 19, 'Sibley': 20, 'St. Croix': 21, 'Wright': 22}), ('mpo_counties', [1, 3, 4, 5, 6, 7, 2]), ('taz_shape', 'C:/Users\\\\david.ory\\\\Documents\\\\GitHub\\\\lasso\\\\metcouncil_data\\\\TAZ\\\\TAZOfficialWCurrentForecasts.shp'), ('taz_data', None), ('highest_taz_number', 3100), ('area_type_shape', 'C:/Users\\\\david.ory\\\\Documents\\\\GitHub\\\\lasso\\\\metcouncil_data\\\\area_type\\\\ThriveMSP2040CommunityDesignation.shp'), ('area_type_variable_shp', 'COMDES2040'), ('area_type_code_dict', {23: 4, 24: 3, 25: 2, 35: 2, 36: 1, 41: 1, 51: 1, 52: 1, 53: 1, 60: 1}), ('osm_assgngrp_dict', 'C:/Users\\\\david.ory\\\\Documents\\\\GitHub\\\\lasso\\\\metcouncil_data\\\\lookups\\\\osm_highway_asgngrp_crosswalk.csv'), ('mrcc_roadway_class_shape', 'C:/Users\\\\david.ory\\\\Documents\\\\GitHub\\\\lasso\\\\metcouncil_data\\\\mrcc\\\\trans_mrcc_centerlines.shp'), ('mrcc_roadway_class_variable_shp', 'ROUTE_SYS'), ('mrcc_assgngrp_dict', 'C:/Users\\\\david.ory\\\\Documents\\\\GitHub\\\\lasso\\\\metcouncil_data\\\\lookups\\\\mrcc_route_sys_asgngrp_crosswalk.csv'), ('mrcc_shst_data', 'C:/Users\\\\david.ory\\\\Documents\\\\GitHub\\\\lasso\\\\metcouncil_data\\\\mrcc\\\\mrcc.out.matched.csv'), ('widot_roadway_class_shape', 'C:/Users\\\\david.ory\\\\Documents\\\\GitHub\\\\lasso\\\\metcouncil_data\\\\Wisconsin_Lanes_Counts_Median\\\\WISLR.shp'), ('widot_roadway_class_variable_shp', 'RDWY_CTGY_'), ('widot_assgngrp_dict', 'C:/Users\\\\david.ory\\\\Documents\\\\GitHub\\\\lasso\\\\metcouncil_data\\\\lookups\\\\widot_ctgy_asgngrp_crosswalk.csv'), ('widot_shst_data', 'C:/Users\\\\david.ory\\\\Documents\\\\GitHub\\\\lasso\\\\metcouncil_data\\\\Wisconsin_Lanes_Counts_Median\\\\widot.out.matched.geojson'), ('roadway_class_dict', 'C:/Users\\\\david.ory\\\\Documents\\\\GitHub\\\\lasso\\\\metcouncil_data\\\\lookups\\\\asgngrp_rc_num_crosswalk.csv'), ('mndot_count_shape', 'C:/Users\\\\david.ory\\\\Documents\\\\GitHub\\\\lasso\\\\metcouncil_data\\\\count_mn\\\\AADT_2017_Count_Locations.shp'), ('mndot_count_shst_data', 'C:/Users\\\\david.ory\\\\Documents\\\\GitHub\\\\lasso\\\\metcouncil_data\\\\count_mn\\\\mn_count_ShSt_API_match.csv'), ('mndot_count_variable_shp', 'AADT_mn'), ('widot_county_shape', 'C:/Users\\\\david.ory\\\\Documents\\\\GitHub\\\\lasso\\\\metcouncil_data\\\\Wisconsin_Lanes_Counts_Median\\\\TRADAS_(counts).shp'), ('widot_count_shst_data', 'C:/Users\\\\david.ory\\\\Documents\\\\GitHub\\\\lasso\\\\metcouncil_data\\\\Wisconsin_Lanes_Counts_Median\\\\wi_count_ShSt_API_match.csv'), ('widot_count_variable_shp', 'AADT_wi'), ('net_to_dbf_crosswalk', 'C:/Users\\\\david.ory\\\\Documents\\\\GitHub\\\\lasso\\\\examples\\\\settings\\\\net_to_dbf.csv'), ('log_to_net_crosswalk', 'C:/Users\\\\david.ory\\\\Documents\\\\GitHub\\\\lasso\\\\examples\\\\settings\\\\log_to_net.csv'), ('output_variables', ['model_link_id', 'link_id', 'A', 'B', 'shstGeometryId', 'shape_id', 'distance', 'roadway', 'name', 'roadway_class', 'bike_access', 'walk_access', 'drive_access', 'truck_access', 'trn_priority_AM', 'trn_priority_MD', 'trn_priority_PM', 'trn_priority_NT', 'ttime_assert_AM', 'ttime_assert_MD', 'ttime_assert_PM', 'ttime_assert_NT', 'lanes_AM', 'lanes_MD', 'lanes_PM', 'lanes_NT', 'price_sov_AM', 'price_hov2_AM', 'price_hov3_AM', 'price_truck_AM', 'price_sov_MD', 'price_hov2_MD', 'price_hov3_MD', 'price_truck_MD', 'price_sov_PM', 'price_hov2_PM', 'price_hov3_PM', 'price_truck_PM', 'price_sov_NT', 'price_hov2_NT', 'price_hov3_NT', 'price_truck_NT', 'roadway_class_idx', 'assign_group', 'access_AM', 'access_MD', 'access_PM', 'access_NT', 'mpo', 'area_type', 'county', 'centroidconnect', 'AADT', 'count_year', 'count_AM', 'count_MD', 'count_PM', 'count_NT', 'count_daily', 'model_node_id', 'N', 'osm_node_id', 'bike_node', 'transit_node', 'walk_node', 'drive_node', 'geometry', 'X', 'Y', 'ML_lanes_AM', 'ML_lanes_MD', 'ML_lanes_PM', 'ML_lanes_NT', 'segment_id', 'managed', 'bus_only', 'rail_only']), ('output_link_shp', 'C:/Users\\\\david.ory\\\\Documents\\\\GitHub\\\\lasso\\\\tests\\\\scratch\\\\links.shp'), ('output_node_shp', 'C:/Users\\\\david.ory\\\\Documents\\\\GitHub\\\\lasso\\\\tests\\\\scratch\\\\nodes.shp'), ('output_link_csv', 'C:/Users\\\\david.ory\\\\Documents\\\\GitHub\\\\lasso\\\\tests\\\\scratch\\\\links.csv'), ('output_node_csv', 'C:/Users\\\\david.ory\\\\Documents\\\\GitHub\\\\lasso\\\\tests\\\\scratch\\\\nodes.csv'), ('output_link_txt', 'C:/Users\\\\david.ory\\\\Documents\\\\GitHub\\\\lasso\\\\tests\\\\scratch\\\\links.txt'), ('output_node_txt', 'C:/Users\\\\david.ory\\\\Documents\\\\GitHub\\\\lasso\\\\tests\\\\scratch\\\\nodes.txt'), ('output_link_header_width_txt', 'C:/Users\\\\david.ory\\\\Documents\\\\GitHub\\\\lasso\\\\tests\\\\scratch\\\\links_header_width.txt'), ('output_node_header_width_txt', 'C:/Users\\\\david.ory\\\\Documents\\\\GitHub\\\\lasso\\\\tests\\\\scratch\\\\nodes_header_width.txt'), ('output_cube_network_script', 'C:/Users\\\\david.ory\\\\Documents\\\\GitHub\\\\lasso\\\\tests\\\\scratch\\\\make_complete_network_from_fixed_width_file.s'), ('output_dir', 'C:/Users\\\\david.ory\\\\Documents\\\\GitHub\\\\lasso\\\\tests\\\\scratch'), ('output_epsg', 26915), ('time_period_properties_list', ['HEADWAY[1]', 'HEADWAY[2]', 'FREQ[1]', 'FREQ[2]']), ('int_col', ['model_link_id', 'model_node_id', 'A', 'B', 'lanes_AM', 'lanes_MD', 'lanes_PM', 'lanes_NT', 'roadway_class', 'assign_group', 'county', 'area_type', 'trn_priority', 'AADT', 'count_AM', 'count_MD', 'count_PM', 'count_NT', 'count_daily', 'centroidconnect', 'bike_facility', 'drive_access', 'walk_access', 'bike_access', 'truck_access', 'drive_node', 'walk_node', 'bike_node', 'transit_node', 'ML_lanes_AM', 'ML_lanes_MD', 'ML_lanes_PM', 'ML_lanes_NT', 'segment_id', 'managed', 'bus_only', 'rail_only']), ('float_col', ['distance', 'ttime_assert', 'price', 'X', 'Y']), ('string_col', ['osm_node_id', 'name', 'roadway', 'shstGeometryId', 'access_AM', 'access_MD', 'access_PM', 'access_NT']), ('lasso_base_dir', 'C:/Users\\\\david.ory\\\\Documents\\\\GitHub\\\\lasso')])"
      ]
     },
     "execution_count": 40,
     "metadata": {},
     "output_type": "execute_result"
    }
   ],
   "source": [
    "parameters = Parameters(lasso_base_dir = lasso_dir)"
   ]
  },
  {
   "cell_type": "markdown",
   "metadata": {},
   "source": [
    "## Read Roadway and Transit Networks"
   ]
  },
  {
   "cell_type": "code",
   "execution_count": 41,
   "metadata": {},
   "outputs": [
    {
     "name": "stdout",
     "output_type": "stream",
     "text": [
      "2020-07-24 12:37:30, INFO: Reading from following files:\n",
      "-C:/Users\\david.ory\\Documents\\GitHub\\network_wrangler\\examples\\stpaul\\link.json\n",
      "-C:/Users\\david.ory\\Documents\\GitHub\\network_wrangler\\examples\\stpaul\\node.geojson\n",
      "-C:/Users\\david.ory\\Documents\\GitHub\\network_wrangler\\examples\\stpaul\\shape.geojson.\n",
      "2020-07-24 12:37:42, INFO: Read 66253 links from C:/Users\\david.ory\\Documents\\GitHub\\network_wrangler\\examples\\stpaul\\link.json\n",
      "2020-07-24 12:37:42, INFO: Read 17159 nodes from C:/Users\\david.ory\\Documents\\GitHub\\network_wrangler\\examples\\stpaul\\node.geojson\n",
      "2020-07-24 12:37:42, INFO: Read 66253 shapes from C:/Users\\david.ory\\Documents\\GitHub\\network_wrangler\\examples\\stpaul\\shape.geojson\n"
     ]
    }
   ],
   "source": [
    "link_file = os.path.join(input_dir, 'link.json')\n",
    "node_file = os.path.join(input_dir, 'node.geojson')\n",
    "shape_file = os.path.join(input_dir, 'shape.geojson')\n",
    "\n",
    "roadway_net = RoadwayNetwork.read(link_file = link_file, node_file = node_file, shape_file = shape_file)"
   ]
  },
  {
   "cell_type": "code",
   "execution_count": null,
   "metadata": {},
   "outputs": [],
   "source": [
    "# transit_net = TransitNetwork.read(feed_path = input_dir)"
   ]
  },
  {
   "cell_type": "markdown",
   "metadata": {},
   "source": [
    "## Make Travel Model Networks"
   ]
  },
  {
   "cell_type": "code",
   "execution_count": 42,
   "metadata": {},
   "outputs": [
    {
     "name": "stdout",
     "output_type": "stream",
     "text": [
      "2020-07-24 12:38:27, INFO: Lasso base directory set as: C:/Users\\david.ory\\Documents\\GitHub\\lasso\n",
      "2020-07-24 12:38:28, INFO: Renaming roadway attributes to be consistent with what metcouncil's model is expecting\n",
      "2020-07-24 12:38:28, INFO: Didn't detect managed lanes in network.\n",
      "2020-07-24 12:38:28, INFO: Creating calculated roadway variables.\n",
      "2020-07-24 12:38:28, INFO: Calculating Area Type from Spatial Data and adding as roadway network variable: area_type\n"
     ]
    },
    {
     "name": "stderr",
     "output_type": "stream",
     "text": [
      "c:\\users\\david.ory\\documents\\github\\lasso\\lasso\\roadway.py:384: UserWarning: Geometry is in a geographic CRS. Results from 'centroid' are likely incorrect. Use 'GeoSeries.to_crs()' to re-project geometries to a projected CRS before this operation.\n",
      "\n",
      "  centroids_gdf[\"geometry\"] = centroids_gdf[\"geometry\"].centroid\n"
     ]
    },
    {
     "name": "stdout",
     "output_type": "stream",
     "text": [
      "2020-07-24 12:38:36, INFO: Finished Calculating Area Type from Spatial Data into variable: area_type\n",
      "2020-07-24 12:38:37, INFO: Adding roadway network variable for county using a spatial join with: C:/Users\\david.ory\\Documents\\GitHub\\lasso\\metcouncil_data\\county\\cb_2017_us_county_5m.shp\n"
     ]
    },
    {
     "name": "stderr",
     "output_type": "stream",
     "text": [
      "c:\\users\\david.ory\\documents\\github\\lasso\\lasso\\roadway.py:276: UserWarning: Geometry is in a geographic CRS. Results from 'centroid' are likely incorrect. Use 'GeoSeries.to_crs()' to re-project geometries to a projected CRS before this operation.\n",
      "\n",
      "  centroids_gdf[\"geometry\"] = centroids_gdf[\"geometry\"].centroid\n"
     ]
    },
    {
     "name": "stdout",
     "output_type": "stream",
     "text": [
      "2020-07-24 12:38:47, INFO: Finished Calculating county variable: county\n",
      "2020-07-24 12:38:47, INFO: Calculating Centroid Connector and adding as roadway network variable: centroidconnect\n",
      "2020-07-24 12:38:47, INFO: Finished calculating centroid connector variable: centroidconnect\n",
      "2020-07-24 12:38:47, INFO: Calculating MPO as roadway network variable: mpo\n",
      "2020-07-24 12:38:47, INFO: Finished calculating MPO variable: mpo\n",
      "2020-07-24 12:38:47, INFO: Calculating Assignment Group as network variable: assign_group\n",
      "2020-07-24 12:38:47, INFO: Centroid Connector Variable 'centroidconnect' already in network. Returning without overwriting.\n",
      "2020-07-24 12:39:33, INFO: Finished calculating assignment group variable: assign_group\n",
      "2020-07-24 12:39:34, INFO: Calculating Roadway Class\n",
      "2020-07-24 12:39:34, INFO: Finished calculating roadway class variable: roadway_class\n",
      "2020-07-24 12:39:34, INFO: Adding Counts\n",
      "2020-07-24 12:39:34, INFO: Adding Variable AADT using Shared Streets Reference from C:/Users\\david.ory\\Documents\\GitHub\\lasso\\metcouncil_data\\count_mn\\mn_count_ShSt_API_match.csv\n",
      "2020-07-24 12:39:34, INFO: Added variable: AADT using Shared Streets Reference\n",
      "2020-07-24 12:39:34, INFO: Adding Variable AADT using Shared Streets Reference from C:/Users\\david.ory\\Documents\\GitHub\\lasso\\metcouncil_data\\Wisconsin_Lanes_Counts_Median\\wi_count_ShSt_API_match.csv\n",
      "2020-07-24 12:39:35, INFO: Added variable: AADT using Shared Streets Reference\n",
      "2020-07-24 12:39:35, INFO: Finished adding counts variable: AADT\n",
      "2020-07-24 12:39:35, INFO: Finished creating ML lanes variable: ML_lanes\n",
      "2020-07-24 12:39:35, INFO: Finished creating hov corridor variable: segment_id\n",
      "2020-07-24 12:39:35, INFO: Finished creating managed variable: managed\n",
      "2020-07-24 12:39:35, INFO: Overwriting existing distance Variable 'distance' already in network\n",
      "2020-07-24 12:39:39, INFO: Calculating distance for centroid connectors\n",
      "2020-07-24 12:39:39, INFO: Filling nan for network from network wrangler\n",
      "2020-07-24 12:39:41, INFO: Splitting variables by time period and category\n",
      "2020-07-24 12:39:42, WARNING: Specified variable to split: ML_lanes not in network variables: Index(['model_link_id', 'osm_link_id', 'shstReferenceId', 'shstGeometryId',\n",
      "       'shape_id', 'u', 'v', 'A', 'B', 'locationReferences', 'distance',\n",
      "       'roadway', 'name', 'ref', 'bridge', 'tunnel', 'width', 'max_speed',\n",
      "       'bike_facility', 'drive_access', 'walk_access', 'bike_access',\n",
      "       'truck_access', 'bus_only', 'rail_only', 'lanes', 'access', 'price',\n",
      "       'trn_priority', 'ttime_assert', 'geometry', 'area_type', 'county',\n",
      "       'centroidconnect', 'mpo', 'assign_group', 'roadway_class', 'AADT',\n",
      "       'count_AM', 'count_MD', 'count_PM', 'count_NT', 'count_daily',\n",
      "       'count_year', 'segment_id', 'managed', 'trn_priority_AM',\n",
      "       'trn_priority_MD', 'trn_priority_PM', 'trn_priority_NT',\n",
      "       'ttime_assert_AM', 'ttime_assert_MD', 'ttime_assert_PM',\n",
      "       'ttime_assert_NT', 'lanes_AM', 'lanes_MD', 'lanes_PM', 'lanes_NT'],\n",
      "      dtype='object'). Returning 0.\n",
      "2020-07-24 12:39:43, INFO: Converting variable type to MetCouncil standard\n",
      "2020-07-24 12:39:43, INFO: Setting Coordinate Reference System to EPSG 26915\n"
     ]
    }
   ],
   "source": [
    "model_roadway_net = ModelRoadwayNetwork.from_RoadwayNetwork(roadway_network_object = roadway_net, parameters = parameters)\n",
    "model_roadway_net.roadway_standard_to_met_council_network()"
   ]
  },
  {
   "cell_type": "markdown",
   "metadata": {},
   "source": [
    "## Write Networks to Disk as SHP and TXT"
   ]
  },
  {
   "cell_type": "code",
   "execution_count": 43,
   "metadata": {},
   "outputs": [
    {
     "name": "stdout",
     "output_type": "stream",
     "text": [
      "2020-07-24 12:39:57, INFO: Writing Network as Shapefile\n",
      "2020-07-24 12:39:57, INFO: Renaming DBF Node Variables\n",
      "2020-07-24 12:39:57, INFO: Renaming variables so that they are DBF-safe\n",
      "2020-07-24 12:39:57, INFO: Renaming DBF Link Variables\n",
      "2020-07-24 12:39:57, INFO: Renaming variables so that they are DBF-safe\n",
      "2020-07-24 12:39:57, INFO: Writing Node Shapes:\n",
      " - C:/Users\\david.ory\\Documents\\GitHub\\network_wrangler\\examples\\stpaul\\cube\\nodes.shp\n",
      "2020-07-24 12:40:01, INFO: Writing Link Shapes:\n",
      " - C:/Users\\david.ory\\Documents\\GitHub\\network_wrangler\\examples\\stpaul\\cube\\links.shp\n",
      "2020-07-24 12:40:08, INFO: Writing Network Data to CSVs:\n",
      " - C:/Users\\david.ory\\Documents\\GitHub\\network_wrangler\\examples\\stpaul\\cube\\links.csv\n",
      " - C:/Users\\david.ory\\Documents\\GitHub\\network_wrangler\\examples\\stpaul\\cube\\nodes.csv\n"
     ]
    }
   ],
   "source": [
    "model_roadway_net.write_roadway_as_shp(\n",
    "    output_link_shp = os.path.join(output_dir, 'links.shp'),\n",
    "    output_node_shp = os.path.join(output_dir, 'nodes.shp'),\n",
    "    output_link_csv = os.path.join(output_dir, 'links.csv'),\n",
    "    output_node_csv = os.path.join(output_dir, 'nodes.csv'),\n",
    ")"
   ]
  },
  {
   "cell_type": "code",
   "execution_count": 44,
   "metadata": {},
   "outputs": [
    {
     "name": "stdout",
     "output_type": "stream",
     "text": [
      "2020-07-24 12:40:18, INFO: Starting fixed width convertion\n",
      "2020-07-24 12:43:06, INFO: Writing out link database\n",
      "2020-07-24 12:43:08, INFO: Writing out link header and width ----\n",
      "2020-07-24 12:43:08, INFO: Starting fixed width convertion\n",
      "2020-07-24 12:43:14, INFO: Writing out node database\n",
      "2020-07-24 12:43:14, INFO: Writing out node header and width\n"
     ]
    }
   ],
   "source": [
    "model_roadway_net.write_roadway_as_fixedwidth(\n",
    "    output_link_txt = os.path.join(output_dir, 'links.txt'),\n",
    "    output_node_txt = os.path.join(output_dir, 'nodes.txt'),\n",
    "    output_link_header_width_txt = os.path.join(output_dir, 'links_header_width.txt'),\n",
    "    output_node_header_width_txt = os.path.join(output_dir, 'nodes_header_width.txt'),\n",
    "    output_cube_network_script = os.path.join(output_dir, 'make_complete_network_from_fixed_width_file.s'),\n",
    ")"
   ]
  },
  {
   "cell_type": "code",
   "execution_count": null,
   "metadata": {},
   "outputs": [],
   "source": [
    "# standard_transit_net = StandardTransit.fromTransitNetwork(transit_net)\n",
    "# standard_transit_net.write_as_cube_lin(outpath = os.path.join(output_dir, \"transit.lin\"))"
   ]
  },
  {
   "cell_type": "markdown",
   "metadata": {},
   "source": [
    "## Make Cube .net File"
   ]
  },
  {
   "cell_type": "code",
   "execution_count": null,
   "metadata": {},
   "outputs": [],
   "source": [
    "os.chdir(output_dir)\n",
    "p = Popen(\"make_cube.bat\")\n",
    "p.communicate()"
   ]
  },
  {
   "cell_type": "code",
   "execution_count": null,
   "metadata": {},
   "outputs": [],
   "source": []
  }
 ],
 "metadata": {
  "kernelspec": {
   "display_name": "Python 3",
   "language": "python",
   "name": "python3"
  },
  "language_info": {
   "codemirror_mode": {
    "name": "ipython",
    "version": 3
   },
   "file_extension": ".py",
   "mimetype": "text/x-python",
   "name": "python",
   "nbconvert_exporter": "python",
   "pygments_lexer": "ipython3",
   "version": "3.7.7"
  }
 },
 "nbformat": 4,
 "nbformat_minor": 4
}
