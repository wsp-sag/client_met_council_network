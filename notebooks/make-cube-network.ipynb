{
 "cells": [
  {
   "cell_type": "markdown",
   "metadata": {},
   "source": [
    "# Make Cube Network"
   ]
  },
  {
   "cell_type": "code",
   "execution_count": 128,
   "metadata": {},
   "outputs": [],
   "source": [
    "import os\n",
    "import sys\n",
    "import yaml\n",
    "from subprocess import Popen\n",
    "\n",
    "import pandas as pd\n",
    "import numpy as np\n",
    "\n",
    "from network_wrangler import RoadwayNetwork\n",
    "from network_wrangler import TransitNetwork\n",
    "from network_wrangler import WranglerLogger\n",
    "\n",
    "from lasso import ModelRoadwayNetwork\n",
    "from lasso import StandardTransit\n",
    "from lasso import Parameters"
   ]
  },
  {
   "cell_type": "code",
   "execution_count": 129,
   "metadata": {},
   "outputs": [
    {
     "name": "stdout",
     "output_type": "stream",
     "text": [
      "The autoreload extension is already loaded. To reload it, use:\n",
      "  %reload_ext autoreload\n"
     ]
    }
   ],
   "source": [
    "%load_ext autoreload\n",
    "%autoreload 2"
   ]
  },
  {
   "cell_type": "code",
   "execution_count": 130,
   "metadata": {},
   "outputs": [],
   "source": [
    "import logging\n",
    "logger = logging.getLogger(\"WranglerLogger\")\n",
    "logger.handlers[0].stream = sys.stdout\n",
    "logger.setLevel(logging.INFO)"
   ]
  },
  {
   "cell_type": "markdown",
   "metadata": {},
   "source": [
    "## Remote I/O and Parameters"
   ]
  },
  {
   "cell_type": "code",
   "execution_count": 131,
   "metadata": {},
   "outputs": [],
   "source": [
    "input_dir = os.path.join('/Users', 'wsp', 'Documents', 'GitHub', 'network_wrangler', 'examples', 'stpaul')\n",
    "output_dir = os.path.join('/Users', 'wsp', 'Documents', 'GitHub', 'network_wrangler', 'examples', 'stpaul', 'cube')\n",
    "lasso_dir = os.path.join('/Users', 'wsp', 'Documents', 'GitHub', 'lasso')"
   ]
  },
  {
   "cell_type": "code",
   "execution_count": 132,
   "metadata": {},
   "outputs": [
    {
     "name": "stdout",
     "output_type": "stream",
     "text": [
      "2020-08-12 20:54:26, INFO: Lasso base directory set as: /Users/wsp/Documents/GitHub/lasso\n",
      "2020-08-12 20:54:26, INFO: Lasso base directory set as: /Users/wsp/Documents/GitHub/lasso\n"
     ]
    }
   ],
   "source": [
    "parameters = Parameters(lasso_base_dir = lasso_dir)"
   ]
  },
  {
   "cell_type": "markdown",
   "metadata": {},
   "source": [
    "## Read Roadway and Transit Networks"
   ]
  },
  {
   "cell_type": "code",
   "execution_count": 133,
   "metadata": {},
   "outputs": [
    {
     "name": "stdout",
     "output_type": "stream",
     "text": [
      "2020-08-12 20:54:27, INFO: Reading from following files:\n",
      "-/Users/wsp/Documents/GitHub/network_wrangler/examples/stpaul/link.json\n",
      "-/Users/wsp/Documents/GitHub/network_wrangler/examples/stpaul/node.geojson\n",
      "-/Users/wsp/Documents/GitHub/network_wrangler/examples/stpaul/shape.geojson.\n",
      "2020-08-12 20:54:27, INFO: Reading from following files:\n",
      "-/Users/wsp/Documents/GitHub/network_wrangler/examples/stpaul/link.json\n",
      "-/Users/wsp/Documents/GitHub/network_wrangler/examples/stpaul/node.geojson\n",
      "-/Users/wsp/Documents/GitHub/network_wrangler/examples/stpaul/shape.geojson.\n",
      "2020-08-12 20:54:32, INFO: Read 66253 links from /Users/wsp/Documents/GitHub/network_wrangler/examples/stpaul/link.json\n",
      "2020-08-12 20:54:32, INFO: Read 66253 links from /Users/wsp/Documents/GitHub/network_wrangler/examples/stpaul/link.json\n",
      "2020-08-12 20:54:32, INFO: Read 17159 nodes from /Users/wsp/Documents/GitHub/network_wrangler/examples/stpaul/node.geojson\n",
      "2020-08-12 20:54:32, INFO: Read 17159 nodes from /Users/wsp/Documents/GitHub/network_wrangler/examples/stpaul/node.geojson\n",
      "2020-08-12 20:54:32, INFO: Read 66253 shapes from /Users/wsp/Documents/GitHub/network_wrangler/examples/stpaul/shape.geojson\n",
      "2020-08-12 20:54:32, INFO: Read 66253 shapes from /Users/wsp/Documents/GitHub/network_wrangler/examples/stpaul/shape.geojson\n"
     ]
    }
   ],
   "source": [
    "link_file = os.path.join(input_dir, 'link.json')\n",
    "node_file = os.path.join(input_dir, 'node.geojson')\n",
    "shape_file = os.path.join(input_dir, 'shape.geojson')\n",
    "\n",
    "roadway_net = RoadwayNetwork.read(link_file = link_file, node_file = node_file, shape_file = shape_file)"
   ]
  },
  {
   "cell_type": "code",
   "execution_count": null,
   "metadata": {},
   "outputs": [],
   "source": [
    "# transit_net = TransitNetwork.read(feed_path = input_dir)"
   ]
  },
  {
   "cell_type": "markdown",
   "metadata": {},
   "source": [
    "## Make Travel Model Networks"
   ]
  },
  {
   "cell_type": "code",
   "execution_count": 134,
   "metadata": {},
   "outputs": [
    {
     "name": "stdout",
     "output_type": "stream",
     "text": [
      "2020-08-12 20:55:49, INFO: Lasso base directory set as: /Users/wsp/Documents/GitHub/lasso\n",
      "2020-08-12 20:55:49, INFO: Lasso base directory set as: /Users/wsp/Documents/GitHub/lasso\n"
     ]
    }
   ],
   "source": [
    "m_net = ModelRoadwayNetwork.from_RoadwayNetwork(roadway_network_object = roadway_net, parameters = parameters)"
   ]
  },
  {
   "cell_type": "code",
   "execution_count": 135,
   "metadata": {},
   "outputs": [
    {
     "name": "stdout",
     "output_type": "stream",
     "text": [
      "2020-08-12 20:55:50, INFO: Renaming roadway attributes to be consistent with what metcouncil's model is expecting\n",
      "2020-08-12 20:55:50, INFO: Renaming roadway attributes to be consistent with what metcouncil's model is expecting\n",
      "2020-08-12 20:55:50, INFO: Didn't detect managed lanes in network.\n",
      "2020-08-12 20:55:50, INFO: Didn't detect managed lanes in network.\n",
      "2020-08-12 20:55:50, INFO: Creating calculated roadway variables.\n",
      "2020-08-12 20:55:50, INFO: Creating calculated roadway variables.\n",
      "2020-08-12 20:55:50, INFO: Calculating Area Type from Spatial Data and adding as roadway network variable: area_type\n",
      "2020-08-12 20:55:50, INFO: Calculating Area Type from Spatial Data and adding as roadway network variable: area_type\n"
     ]
    },
    {
     "name": "stderr",
     "output_type": "stream",
     "text": [
      "/Users/wsp/Documents/GitHub/Lasso/lasso/roadway.py:384: UserWarning: Geometry is in a geographic CRS. Results from 'centroid' are likely incorrect. Use 'GeoSeries.to_crs()' to re-project geometries to a projected CRS before this operation.\n",
      "\n",
      "  centroids_gdf[\"geometry\"] = centroids_gdf[\"geometry\"].centroid\n"
     ]
    },
    {
     "name": "stdout",
     "output_type": "stream",
     "text": [
      "2020-08-12 20:55:56, INFO: Finished Calculating Area Type from Spatial Data into variable: area_type\n",
      "2020-08-12 20:55:56, INFO: Finished Calculating Area Type from Spatial Data into variable: area_type\n",
      "2020-08-12 20:55:56, INFO: Adding roadway network variable for county using a spatial join with: /Users/wsp/Documents/GitHub/lasso/metcouncil_data/county/cb_2017_us_county_5m.shp\n",
      "2020-08-12 20:55:56, INFO: Adding roadway network variable for county using a spatial join with: /Users/wsp/Documents/GitHub/lasso/metcouncil_data/county/cb_2017_us_county_5m.shp\n"
     ]
    },
    {
     "name": "stderr",
     "output_type": "stream",
     "text": [
      "/Users/wsp/Documents/GitHub/Lasso/lasso/roadway.py:276: UserWarning: Geometry is in a geographic CRS. Results from 'centroid' are likely incorrect. Use 'GeoSeries.to_crs()' to re-project geometries to a projected CRS before this operation.\n",
      "\n",
      "  centroids_gdf[\"geometry\"] = centroids_gdf[\"geometry\"].centroid\n"
     ]
    },
    {
     "name": "stdout",
     "output_type": "stream",
     "text": [
      "2020-08-12 20:56:02, INFO: Finished Calculating county variable: county\n",
      "2020-08-12 20:56:02, INFO: Finished Calculating county variable: county\n",
      "2020-08-12 20:56:02, INFO: Calculating Centroid Connector and adding as roadway network variable: centroidconnect\n",
      "2020-08-12 20:56:02, INFO: Calculating Centroid Connector and adding as roadway network variable: centroidconnect\n",
      "2020-08-12 20:56:02, INFO: Finished calculating centroid connector variable: centroidconnect\n",
      "2020-08-12 20:56:02, INFO: Finished calculating centroid connector variable: centroidconnect\n",
      "2020-08-12 20:56:02, INFO: Calculating MPO as roadway network variable: mpo\n",
      "2020-08-12 20:56:02, INFO: Calculating MPO as roadway network variable: mpo\n",
      "2020-08-12 20:56:02, INFO: Finished calculating MPO variable: mpo\n",
      "2020-08-12 20:56:02, INFO: Finished calculating MPO variable: mpo\n",
      "2020-08-12 20:56:02, INFO: Calculating Assignment Group as network variable: assign_group\n",
      "2020-08-12 20:56:02, INFO: Calculating Assignment Group as network variable: assign_group\n",
      "2020-08-12 20:56:02, INFO: Centroid Connector Variable 'centroidconnect' already in network. Returning without overwriting.\n",
      "2020-08-12 20:56:02, INFO: Centroid Connector Variable 'centroidconnect' already in network. Returning without overwriting.\n",
      "2020-08-12 20:56:28, INFO: Finished calculating assignment group variable: assign_group\n",
      "2020-08-12 20:56:28, INFO: Finished calculating assignment group variable: assign_group\n",
      "2020-08-12 20:56:29, INFO: Calculating Roadway Class\n",
      "2020-08-12 20:56:29, INFO: Calculating Roadway Class\n",
      "2020-08-12 20:56:29, INFO: Finished calculating roadway class variable: roadway_class\n",
      "2020-08-12 20:56:29, INFO: Finished calculating roadway class variable: roadway_class\n",
      "2020-08-12 20:56:29, INFO: Adding Counts\n",
      "2020-08-12 20:56:29, INFO: Adding Counts\n",
      "2020-08-12 20:56:29, INFO: Adding Variable AADT using Shared Streets Reference from /Users/wsp/Documents/GitHub/lasso/metcouncil_data/count_mn/mn_count_ShSt_API_match.csv\n",
      "2020-08-12 20:56:29, INFO: Adding Variable AADT using Shared Streets Reference from /Users/wsp/Documents/GitHub/lasso/metcouncil_data/count_mn/mn_count_ShSt_API_match.csv\n",
      "2020-08-12 20:56:29, INFO: Added variable: AADT using Shared Streets Reference\n",
      "2020-08-12 20:56:29, INFO: Added variable: AADT using Shared Streets Reference\n",
      "2020-08-12 20:56:29, INFO: Adding Variable AADT using Shared Streets Reference from /Users/wsp/Documents/GitHub/lasso/metcouncil_data/Wisconsin_Lanes_Counts_Median/wi_count_ShSt_API_match.csv\n",
      "2020-08-12 20:56:29, INFO: Adding Variable AADT using Shared Streets Reference from /Users/wsp/Documents/GitHub/lasso/metcouncil_data/Wisconsin_Lanes_Counts_Median/wi_count_ShSt_API_match.csv\n",
      "2020-08-12 20:56:29, INFO: Added variable: AADT using Shared Streets Reference\n",
      "2020-08-12 20:56:29, INFO: Added variable: AADT using Shared Streets Reference\n",
      "2020-08-12 20:56:29, INFO: Finished adding counts variable: AADT\n",
      "2020-08-12 20:56:29, INFO: Finished adding counts variable: AADT\n",
      "2020-08-12 20:56:29, INFO: Finished creating ML lanes variable: ML_lanes\n",
      "2020-08-12 20:56:29, INFO: Finished creating ML lanes variable: ML_lanes\n",
      "2020-08-12 20:56:29, INFO: Finished creating hov corridor variable: segment_id\n",
      "2020-08-12 20:56:29, INFO: Finished creating hov corridor variable: segment_id\n",
      "2020-08-12 20:56:29, INFO: Finished creating managed variable: managed\n",
      "2020-08-12 20:56:29, INFO: Finished creating managed variable: managed\n",
      "2020-08-12 20:56:29, INFO: Overwriting existing distance Variable 'distance' already in network\n",
      "2020-08-12 20:56:29, INFO: Overwriting existing distance Variable 'distance' already in network\n",
      "2020-08-12 20:56:31, INFO: Calculating distance for centroid connectors\n",
      "2020-08-12 20:56:31, INFO: Calculating distance for centroid connectors\n",
      "2020-08-12 20:56:31, INFO: Filling nan for network from network wrangler\n",
      "2020-08-12 20:56:31, INFO: Filling nan for network from network wrangler\n",
      "2020-08-12 20:56:32, INFO: Splitting variables by time period and category\n",
      "2020-08-12 20:56:32, INFO: Splitting variables by time period and category\n",
      "2020-08-12 20:56:32, WARNING: Specified variable to split: ML_lanes not in network variables: Index(['model_link_id', 'osm_link_id', 'shstReferenceId', 'shstGeometryId',\n",
      "       'shape_id', 'u', 'v', 'A', 'B', 'locationReferences', 'distance',\n",
      "       'roadway', 'name', 'ref', 'bridge', 'tunnel', 'width', 'max_speed',\n",
      "       'bike_facility', 'drive_access', 'walk_access', 'bike_access',\n",
      "       'truck_access', 'bus_only', 'rail_only', 'lanes', 'access', 'price',\n",
      "       'trn_priority', 'ttime_assert', 'geometry', 'area_type', 'county',\n",
      "       'centroidconnect', 'mpo', 'assign_group', 'roadway_class', 'AADT',\n",
      "       'count_AM', 'count_MD', 'count_PM', 'count_NT', 'count_daily',\n",
      "       'count_year', 'segment_id', 'managed', 'trn_priority_AM',\n",
      "       'trn_priority_MD', 'trn_priority_PM', 'trn_priority_NT',\n",
      "       'ttime_assert_AM', 'ttime_assert_MD', 'ttime_assert_PM',\n",
      "       'ttime_assert_NT', 'lanes_AM', 'lanes_MD', 'lanes_PM', 'lanes_NT'],\n",
      "      dtype='object'). Returning 0.\n",
      "2020-08-12 20:56:32, WARNING: Specified variable to split: ML_lanes not in network variables: Index(['model_link_id', 'osm_link_id', 'shstReferenceId', 'shstGeometryId',\n",
      "       'shape_id', 'u', 'v', 'A', 'B', 'locationReferences', 'distance',\n",
      "       'roadway', 'name', 'ref', 'bridge', 'tunnel', 'width', 'max_speed',\n",
      "       'bike_facility', 'drive_access', 'walk_access', 'bike_access',\n",
      "       'truck_access', 'bus_only', 'rail_only', 'lanes', 'access', 'price',\n",
      "       'trn_priority', 'ttime_assert', 'geometry', 'area_type', 'county',\n",
      "       'centroidconnect', 'mpo', 'assign_group', 'roadway_class', 'AADT',\n",
      "       'count_AM', 'count_MD', 'count_PM', 'count_NT', 'count_daily',\n",
      "       'count_year', 'segment_id', 'managed', 'trn_priority_AM',\n",
      "       'trn_priority_MD', 'trn_priority_PM', 'trn_priority_NT',\n",
      "       'ttime_assert_AM', 'ttime_assert_MD', 'ttime_assert_PM',\n",
      "       'ttime_assert_NT', 'lanes_AM', 'lanes_MD', 'lanes_PM', 'lanes_NT'],\n",
      "      dtype='object'). Returning 0.\n",
      "2020-08-12 20:56:33, INFO: Converting variable type to MetCouncil standard\n",
      "2020-08-12 20:56:33, INFO: Converting variable type to MetCouncil standard\n",
      "2020-08-12 20:56:33, INFO: Setting Coordinate Reference System to EPSG 26915\n",
      "2020-08-12 20:56:33, INFO: Setting Coordinate Reference System to EPSG 26915\n"
     ]
    }
   ],
   "source": [
    "m_net.roadway_standard_to_met_council_network()"
   ]
  },
  {
   "cell_type": "markdown",
   "metadata": {},
   "source": [
    "#### Change 01\n",
    "ROADWAY=motorway\n",
    "in Areatypes 2, 3, 4, 5 -  assign_group= 1 (metered freeway)\n",
    "In other areatype -  assign_group = 2 (unmetered freeway)"
   ]
  },
  {
   "cell_type": "code",
   "execution_count": 136,
   "metadata": {},
   "outputs": [],
   "source": [
    "m_net.links_df.loc[(m_net.links_df['roadway'] == 'motorway') & (m_net.links_df['area_type'].isin([2,3,4,5])), 'assign_group'] = 1\n",
    "m_net.links_df.loc[(m_net.links_df['roadway'] == 'motorway') & (~m_net.links_df['area_type'].isin([2,3,4,5])), 'assign_group'] = 2"
   ]
  },
  {
   "cell_type": "markdown",
   "metadata": {},
   "source": [
    "#### Change 02\n",
    "ROADWAY = trunk\n",
    "Asgngrp=15 (expressway)"
   ]
  },
  {
   "cell_type": "code",
   "execution_count": 137,
   "metadata": {},
   "outputs": [],
   "source": [
    "m_net.links_df.loc[m_net.links_df['roadway'] == 'trunk', 'assign_group'] = 15"
   ]
  },
  {
   "cell_type": "markdown",
   "metadata": {},
   "source": [
    "#### Change 03\n",
    "Ramps - ROADWAY_CLASS=60 is supposed to equal Ramp, but finding some issues\n",
    " \n",
    "       ROADWAY_CLASS= 60 & ROADWAY='motorway'\n",
    "in Areatypes 2 3 4 5 - asgngrp 3 (metered ramp)\n",
    " \n",
    "In other area types -  asgngrp =4 (unmetered ramp)"
   ]
  },
  {
   "cell_type": "code",
   "execution_count": 138,
   "metadata": {},
   "outputs": [],
   "source": [
    "m_net.links_df.loc[(m_net.links_df['roadway_class'] == 60) & (m_net.links_df['roadway'] == 'motorway') & (m_net.links_df['area_type'].isin([2,3,4,5])), 'assign_group'] = 3\n",
    "m_net.links_df.loc[(m_net.links_df['roadway_class'] == 60) & (m_net.links_df['roadway'] == 'motorway') & (~m_net.links_df['area_type'].isin([2,3,4,5])), 'assign_group'] = 4"
   ]
  },
  {
   "cell_type": "markdown",
   "metadata": {},
   "source": [
    "#### Change 04\n",
    "ROADWAY_CLASS= 60 & ROADWAY='trunk'\n",
    "Appears to be slip ramps and acceleration lanes on expressways. Set as assign_group=4  (might need to revisit)"
   ]
  },
  {
   "cell_type": "code",
   "execution_count": 139,
   "metadata": {},
   "outputs": [],
   "source": [
    "m_net.links_df.loc[(m_net.links_df['roadway_class'] == 60) & (m_net.links_df['roadway'] == 'trunk'), 'assign_group'] = 4"
   ]
  },
  {
   "cell_type": "markdown",
   "metadata": {},
   "source": [
    "#### Change 05\n",
    "ROADWAY_CLASS= 60 & ROADWAY is not 'trunk' or 'motorway'\n",
    "These appear to be noise and should be tagged according to the crosswalk for ROADWAY not based on their “ramp” status"
   ]
  },
  {
   "cell_type": "code",
   "execution_count": 140,
   "metadata": {},
   "outputs": [],
   "source": [
    "def func(a, b, c, d):\n",
    "    if a == 60:\n",
    "        if b == 'trunk':\n",
    "            if b == 'motorway':\n",
    "                return c\n",
    "    return d\n",
    "\n",
    "df = pd.read_csv(parameters.osm_assgngrp_dict).rename(columns = {'assign_group': 'temp'})\n",
    "m_net.links_df = pd.merge(m_net.links_df, df, how = 'left', on = 'roadway')\n",
    "m_net.links_df['assign_group'] = np.vectorize(func)(\n",
    "    m_net.links_df.roadway_class, \n",
    "    m_net.links_df.roadway, \n",
    "    m_net.links_df.temp, \n",
    "    m_net.links_df.assign_group\n",
    ")\n",
    "m_net.links_df = m_net.links_df.drop(columns = ['temp'])"
   ]
  },
  {
   "cell_type": "markdown",
   "metadata": {},
   "source": [
    "#### Change 06\n",
    "Check for any links that are coded as assign_group = 3, 4 , 13 , 14 that don't attach to asgngrp= 1, 2, or 15 – ie ramps that don’t connect to freeway or expressway\n",
    "These should be flagged for review"
   ]
  },
  {
   "cell_type": "code",
   "execution_count": 141,
   "metadata": {},
   "outputs": [],
   "source": [
    "join_df = pd.merge(\n",
    "    m_net.links_df.loc[m_net.links_df['assign_group'].isin([3, 4, 13, 14])][['A', 'B', 'assign_group']], \n",
    "    m_net.links_df[['A', 'B', 'assign_group']].rename(columns = {'assign_group': 'next_assign_group'}),\n",
    "    how = 'left', \n",
    "    left_on = 'B',  \n",
    "    right_on = 'A',\n",
    ").drop(columns = ['A_y', 'B_y']).rename(columns = {'A_x': 'A', 'B_x': 'B'}).dropna().astype(int)\n",
    "\n",
    "join_df = pd.merge(\n",
    "    join_df,\n",
    "    m_net.links_df[['A', 'B', 'assign_group']].rename(columns = {'assign_group': 'prev_assign_group'}),\n",
    "    how = 'left',\n",
    "    left_on = 'A',\n",
    "    right_on = 'B',\n",
    ").drop(columns = ['A_y', 'B_y']).rename(columns = {'A_x': 'A', 'B_x': 'B'}).dropna().astype(int)\n",
    "\n",
    "def func(n, p):\n",
    "    if np.in1d(n, [1, 2, 15]):\n",
    "        return int(1)\n",
    "    elif np.in1d(p, [1, 2, 15]):\n",
    "        return int (1)\n",
    "    return int(0)\n",
    "\n",
    "join_df['ramp_flag'] = np.vectorize(func)(\n",
    "    join_df.next_assign_group.astype(int),\n",
    "    join_df.prev_assign_group.astype(int)\n",
    ")\n",
    "    \n",
    "join_back_df = join_df.groupby(['A','B'])['ramp_flag'].sum().reset_index()\n",
    "join_back_df['ramp_flag'] = np.where(join_back_df['ramp_flag'] > 0, 'Connected', 'Need to Examine')\n",
    "\n",
    "m_net.links_df = pd.merge(\n",
    "    m_net.links_df,\n",
    "    join_back_df,\n",
    "    how = 'left',\n",
    "    on = ['A', 'B'])\n"
   ]
  },
  {
   "cell_type": "markdown",
   "metadata": {},
   "source": [
    "#### Change 07\n",
    "Arterials – we have most of the major roads tagged as Assign_Group=6 (undivided artertial)\n",
    " \n",
    "Assign_group = 6 and there is no reverse value (no B-A) then set  Assign_group = 5 (divided arterial)\n",
    "If assign_group = 6 and Assign_group.R=6, then keep assign_group=6 (undivided arterial)"
   ]
  },
  {
   "cell_type": "code",
   "execution_count": 142,
   "metadata": {},
   "outputs": [],
   "source": [
    "reverse_df = m_net.links_df[['A', 'B']].copy()\n",
    "reverse_df['reverse'] = 1\n",
    "\n",
    "join_df = pd.merge(\n",
    "    m_net.links_df.loc[m_net.links_df['assign_group'] == 6][['A', 'B', 'assign_group']], \n",
    "    reverse_df,\n",
    "    how = 'left', \n",
    "    left_on = ['A', 'B'],  \n",
    "    right_on = ['B', 'A'],\n",
    ").drop(columns = ['A_y', 'B_y']).rename(columns = {'A_x': 'A', 'B_x': 'B'})\n",
    "\n",
    "join_df['assign_group'] = np.where(join_df['reverse'] == 1.0, 6, 5)\n",
    "m_net.links_df = pd.merge(\n",
    "    m_net.links_df,\n",
    "    join_df.drop(columns = ['reverse']),\n",
    "    how = 'left',\n",
    "    on = ['A', 'B'],\n",
    ")"
   ]
  },
  {
   "cell_type": "markdown",
   "metadata": {},
   "source": [
    "#### Change 08\n",
    "Lastly ,we need a new assign_Group value for local streets. We currently have all low level roads tagged as assign_group=7 (collector). This will give local streets too much capacity and too high of speed. I fear our assignment will be funky as the model loads too many trips onto these side streets with artificially high speeds.\n",
    " \n",
    "ROADWAY=residential , set to assign_group=40 (new assigngroup for residential)  "
   ]
  },
  {
   "cell_type": "code",
   "execution_count": 143,
   "metadata": {},
   "outputs": [],
   "source": [
    "# updated in lookup table, update again here for those that may be overwritten\n",
    "m_net.links_df.loc[m_net.links_df['roadway'] == 'residential', 'assign_group'] = 40"
   ]
  },
  {
   "cell_type": "code",
   "execution_count": 144,
   "metadata": {},
   "outputs": [
    {
     "data": {
      "text/plain": [
       "Index(['model_link_id', 'osm_link_id', 'shstReferenceId', 'shstGeometryId',\n",
       "       'shape_id', 'u', 'v', 'A', 'B', 'locationReferences', 'distance',\n",
       "       'roadway', 'name', 'ref', 'bridge', 'tunnel', 'width', 'max_speed',\n",
       "       'bike_facility', 'drive_access', 'walk_access', 'bike_access',\n",
       "       'truck_access', 'bus_only', 'rail_only', 'lanes', 'access', 'price',\n",
       "       'trn_priority', 'ttime_assert', 'geometry', 'area_type', 'county',\n",
       "       'centroidconnect', 'mpo', 'assign_group_x', 'roadway_class', 'AADT',\n",
       "       'count_AM', 'count_MD', 'count_PM', 'count_NT', 'count_daily',\n",
       "       'count_year', 'segment_id', 'managed', 'trn_priority_AM',\n",
       "       'trn_priority_MD', 'trn_priority_PM', 'trn_priority_NT',\n",
       "       'ttime_assert_AM', 'ttime_assert_MD', 'ttime_assert_PM',\n",
       "       'ttime_assert_NT', 'lanes_AM', 'lanes_MD', 'lanes_PM', 'lanes_NT',\n",
       "       'ML_lanes_AM', 'ML_lanes_MD', 'ML_lanes_PM', 'ML_lanes_NT',\n",
       "       'price_sov_AM', 'price_hov2_AM', 'price_hov3_AM', 'price_truck_AM',\n",
       "       'price_sov_MD', 'price_hov2_MD', 'price_hov3_MD', 'price_truck_MD',\n",
       "       'price_sov_PM', 'price_hov2_PM', 'price_hov3_PM', 'price_truck_PM',\n",
       "       'price_sov_NT', 'price_hov2_NT', 'price_hov3_NT', 'price_truck_NT',\n",
       "       'access_AM', 'access_MD', 'access_PM', 'access_NT', 'ramp_flag',\n",
       "       'assign_group_y', 'assign_group'],\n",
       "      dtype='object')"
      ]
     },
     "execution_count": 144,
     "metadata": {},
     "output_type": "execute_result"
    }
   ],
   "source": [
    "m_net.links_df.columns"
   ]
  },
  {
   "cell_type": "markdown",
   "metadata": {},
   "source": [
    "## Write Networks to Disk as SHP and TXT"
   ]
  },
  {
   "cell_type": "code",
   "execution_count": null,
   "metadata": {},
   "outputs": [],
   "source": [
    "model_roadway_net.write_roadway_as_shp(\n",
    "    output_link_shp = os.path.join(output_dir, 'links.shp'),\n",
    "    output_node_shp = os.path.join(output_dir, 'nodes.shp'),\n",
    "    output_link_csv = os.path.join(output_dir, 'links.csv'),\n",
    "    output_node_csv = os.path.join(output_dir, 'nodes.csv'),\n",
    ")"
   ]
  },
  {
   "cell_type": "code",
   "execution_count": null,
   "metadata": {},
   "outputs": [],
   "source": [
    "model_roadway_net.write_roadway_as_fixedwidth(\n",
    "    output_link_txt = os.path.join(output_dir, 'links.txt'),\n",
    "    output_node_txt = os.path.join(output_dir, 'nodes.txt'),\n",
    "    output_link_header_width_txt = os.path.join(output_dir, 'links_header_width.txt'),\n",
    "    output_node_header_width_txt = os.path.join(output_dir, 'nodes_header_width.txt'),\n",
    "    output_cube_network_script = os.path.join(output_dir, 'make_complete_network_from_fixed_width_file.s'),\n",
    ")"
   ]
  },
  {
   "cell_type": "code",
   "execution_count": null,
   "metadata": {},
   "outputs": [],
   "source": [
    "# standard_transit_net = StandardTransit.fromTransitNetwork(transit_net)\n",
    "# standard_transit_net.write_as_cube_lin(outpath = os.path.join(output_dir, \"transit.lin\"))"
   ]
  },
  {
   "cell_type": "markdown",
   "metadata": {},
   "source": [
    "## Make Cube .net File"
   ]
  },
  {
   "cell_type": "code",
   "execution_count": null,
   "metadata": {},
   "outputs": [],
   "source": [
    "os.chdir(output_dir)\n",
    "p = Popen(\"make_cube.bat\")\n",
    "p.communicate()"
   ]
  },
  {
   "cell_type": "code",
   "execution_count": null,
   "metadata": {},
   "outputs": [],
   "source": []
  }
 ],
 "metadata": {
  "kernelspec": {
   "display_name": "Python 3",
   "language": "python",
   "name": "python3"
  },
  "language_info": {
   "codemirror_mode": {
    "name": "ipython",
    "version": 3
   },
   "file_extension": ".py",
   "mimetype": "text/x-python",
   "name": "python",
   "nbconvert_exporter": "python",
   "pygments_lexer": "ipython3",
   "version": "3.7.7"
  }
 },
 "nbformat": 4,
 "nbformat_minor": 4
}
