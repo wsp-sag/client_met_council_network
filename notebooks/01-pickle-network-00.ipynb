{
 "cells": [
  {
   "cell_type": "markdown",
   "metadata": {},
   "source": [
    "# 01 Pickle Network Version 00\n",
    "Step 01: Create a pickle of the raw networks, which we'll call \"version 00\"."
   ]
  },
  {
   "cell_type": "code",
   "execution_count": 1,
   "metadata": {},
   "outputs": [],
   "source": [
    "import os\n",
    "import sys\n",
    "import pickle\n",
    "\n",
    "from network_wrangler import RoadwayNetwork\n",
    "from network_wrangler import TransitNetwork\n",
    "from network_wrangler import Scenario\n",
    "from network_wrangler import WranglerLogger"
   ]
  },
  {
   "cell_type": "code",
   "execution_count": 2,
   "metadata": {},
   "outputs": [],
   "source": [
    "%load_ext autoreload\n",
    "%autoreload 2"
   ]
  },
  {
   "cell_type": "code",
   "execution_count": 3,
   "metadata": {},
   "outputs": [],
   "source": [
    "import logging\n",
    "logger = logging.getLogger(\"WranglerLogger\")\n",
    "logger.handlers[0].stream = sys.stdout\n",
    "logger.setLevel(logging.INFO)"
   ]
  },
  {
   "cell_type": "markdown",
   "metadata": {},
   "source": [
    "## Remote I/O"
   ]
  },
  {
   "cell_type": "code",
   "execution_count": 4,
   "metadata": {},
   "outputs": [],
   "source": [
    "input_dir = os.path.join('/Users', 'wsp', 'Documents', 'GitHub', 'client_met_council_network', 'network_standard')\n",
    "output_dir = os.path.join(input_dir, 'pickles')"
   ]
  },
  {
   "cell_type": "markdown",
   "metadata": {},
   "source": [
    "## Read Roadway and Transit Networks"
   ]
  },
  {
   "cell_type": "code",
   "execution_count": 5,
   "metadata": {},
   "outputs": [
    {
     "name": "stdout",
     "output_type": "stream",
     "text": [
      "2020-08-22 19:05:32, INFO: Reading from following files:\n",
      "-/Users/wsp/Documents/GitHub/client_met_council_network/network_standard/link.json\n",
      "-/Users/wsp/Documents/GitHub/client_met_council_network/network_standard/node.geojson\n",
      "-/Users/wsp/Documents/GitHub/client_met_council_network/network_standard/shape.geojson.\n",
      "2020-08-22 19:05:32, INFO: Reading from following files:\n",
      "-/Users/wsp/Documents/GitHub/client_met_council_network/network_standard/link.json\n",
      "-/Users/wsp/Documents/GitHub/client_met_council_network/network_standard/node.geojson\n",
      "-/Users/wsp/Documents/GitHub/client_met_council_network/network_standard/shape.geojson.\n",
      "2020-08-22 19:07:23, INFO: Read 1134074 links from /Users/wsp/Documents/GitHub/client_met_council_network/network_standard/link.json\n",
      "2020-08-22 19:07:23, INFO: Read 1134074 links from /Users/wsp/Documents/GitHub/client_met_council_network/network_standard/link.json\n",
      "2020-08-22 19:07:23, INFO: Read 354346 nodes from /Users/wsp/Documents/GitHub/client_met_council_network/network_standard/node.geojson\n",
      "2020-08-22 19:07:23, INFO: Read 354346 nodes from /Users/wsp/Documents/GitHub/client_met_council_network/network_standard/node.geojson\n",
      "2020-08-22 19:07:23, INFO: Read 1134074 shapes from /Users/wsp/Documents/GitHub/client_met_council_network/network_standard/shape.geojson\n",
      "2020-08-22 19:07:23, INFO: Read 1134074 shapes from /Users/wsp/Documents/GitHub/client_met_council_network/network_standard/shape.geojson\n"
     ]
    }
   ],
   "source": [
    "link_file = os.path.join(input_dir, 'link.json')\n",
    "node_file = os.path.join(input_dir, 'node.geojson')\n",
    "shape_file = os.path.join(input_dir, 'shape.geojson')\n",
    "\n",
    "roadway_net = RoadwayNetwork.read(link_file = link_file, node_file = node_file, shape_file = shape_file)"
   ]
  },
  {
   "cell_type": "code",
   "execution_count": 8,
   "metadata": {},
   "outputs": [
    {
     "name": "stdout",
     "output_type": "stream",
     "text": [
      "2020-08-22 19:12:35, INFO: Read in transit feed from: /Users/wsp/Documents/GitHub/client_met_council_network/network_standard\n",
      "2020-08-22 19:12:35, INFO: Read in transit feed from: /Users/wsp/Documents/GitHub/client_met_council_network/network_standard\n",
      "2020-08-22 19:12:35, INFO: Removing calendar.txt from transit network config because file not found\n",
      "2020-08-22 19:12:35, INFO: Removing calendar.txt from transit network config because file not found\n",
      "2020-08-22 19:12:35, INFO: Removing calendar_dates.txt from transit network config because file not found\n",
      "2020-08-22 19:12:35, INFO: Removing calendar_dates.txt from transit network config because file not found\n",
      "2020-08-22 19:12:35, INFO: Removing fare_attributes.txt from transit network config because file not found\n",
      "2020-08-22 19:12:35, INFO: Removing fare_attributes.txt from transit network config because file not found\n",
      "2020-08-22 19:12:35, INFO: Removing fare_rules.txt from transit network config because file not found\n",
      "2020-08-22 19:12:35, INFO: Removing fare_rules.txt from transit network config because file not found\n",
      "2020-08-22 19:12:36, INFO: Removing feed_info.txt from transit network config because file not found\n",
      "2020-08-22 19:12:36, INFO: Removing feed_info.txt from transit network config because file not found\n",
      "2020-08-22 19:12:36, WARNING: The following stop_ids from are referenced but missing from stops.txt: ['place_14CE', 'place_157G', 'place_EATS', 'place_PHPR', 'place_DFME', 'place_BTST', 'place_AVTS', 'place_BHPR', 'place_CE47']\n",
      "2020-08-22 19:12:36, WARNING: The following stop_ids from are referenced but missing from stops.txt: ['place_14CE', 'place_157G', 'place_EATS', 'place_PHPR', 'place_DFME', 'place_BTST', 'place_AVTS', 'place_BHPR', 'place_CE47']\n"
     ]
    }
   ],
   "source": [
    "transit_net = TransitNetwork.read(feed_path = input_dir)"
   ]
  },
  {
   "cell_type": "markdown",
   "metadata": {},
   "source": [
    "## Create a Scenario"
   ]
  },
  {
   "cell_type": "code",
   "execution_count": 9,
   "metadata": {},
   "outputs": [],
   "source": [
    "base_scenario = {\"road_net\": roadway_net, \"transit_net\": transit_net}"
   ]
  },
  {
   "cell_type": "code",
   "execution_count": 10,
   "metadata": {},
   "outputs": [
    {
     "name": "stdout",
     "output_type": "stream",
     "text": [
      "2020-08-22 19:17:17, INFO: Creating Scenario\n",
      "2020-08-22 19:17:17, INFO: Creating Scenario\n"
     ]
    }
   ],
   "source": [
    "working_scenario = Scenario.create_scenario(base_scenario = base_scenario)"
   ]
  },
  {
   "cell_type": "markdown",
   "metadata": {},
   "source": [
    "## Make Pickles"
   ]
  },
  {
   "cell_type": "code",
   "execution_count": 11,
   "metadata": {},
   "outputs": [],
   "source": [
    "working_scenario_filename = os.path.join(output_dir, 'working_scenario_00.pickle')\n",
    "pickle.dump(working_scenario, open(working_scenario_filename, 'wb'))"
   ]
  },
  {
   "cell_type": "code",
   "execution_count": 12,
   "metadata": {},
   "outputs": [],
   "source": [
    "roadway_net_filename = os.path.join(output_dir, 'roadway_network_00.pickle')\n",
    "pickle.dump(roadway_net, open(roadway_net_filename, 'wb'))"
   ]
  },
  {
   "cell_type": "code",
   "execution_count": 13,
   "metadata": {},
   "outputs": [],
   "source": [
    "transit_net_filename = os.path.join(output_dir, 'transit_network_00.pickle')\n",
    "pickle.dump(transit_net, open(transit_net_filename, 'wb'))"
   ]
  },
  {
   "cell_type": "code",
   "execution_count": null,
   "metadata": {},
   "outputs": [],
   "source": []
  }
 ],
 "metadata": {
  "kernelspec": {
   "display_name": "lasso_x",
   "language": "python",
   "name": "lasso_x"
  },
  "language_info": {
   "codemirror_mode": {
    "name": "ipython",
    "version": 3
   },
   "file_extension": ".py",
   "mimetype": "text/x-python",
   "name": "python",
   "nbconvert_exporter": "python",
   "pygments_lexer": "ipython3",
   "version": "3.7.7"
  }
 },
 "nbformat": 4,
 "nbformat_minor": 4
}
