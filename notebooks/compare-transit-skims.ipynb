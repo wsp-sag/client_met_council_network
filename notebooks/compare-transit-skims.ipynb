{
 "cells": [
  {
   "cell_type": "markdown",
   "metadata": {},
   "source": [
    "# Compare Transit Skims"
   ]
  },
  {
   "cell_type": "code",
   "execution_count": 1,
   "metadata": {},
   "outputs": [],
   "source": [
    "import os\n",
    "import pandas as pd\n",
    "import numpy as np\n",
    "from functools import reduce\n",
    "import openmatrix as omx "
   ]
  },
  {
   "cell_type": "markdown",
   "metadata": {},
   "source": [
    "### Remote I/O"
   ]
  },
  {
   "cell_type": "code",
   "execution_count": 2,
   "metadata": {},
   "outputs": [],
   "source": [
    "legacy_dir = os.path.join(\"C:/\", \"projects\", \"met_council\", \"model_files\", \"outputs2015\", \"outputs\")\n",
    "new_dir = os.path.join(\"D:/\", \"david_ory_github\", \"client_met_council_network\", \"data\", \"test_new_network_outputs\")\n",
    "compare_dir = os.path.join(\"D:/\", \"david_ory_github\", \"client_met_council_network\", \"data\", \"interim\")\n",
    "\n",
    "out_filename = os.path.join(compare_dir, \"compare-transit.csv\")"
   ]
  },
  {
   "cell_type": "markdown",
   "metadata": {},
   "source": [
    "### Start with walk transit"
   ]
  },
  {
   "cell_type": "code",
   "execution_count": 3,
   "metadata": {},
   "outputs": [],
   "source": [
    "filename = os.path.join(legacy_dir, \"XIT_WK_SKIM_4_PK.OMX\")\n",
    "legacy_omx = omx.open_file(filename)\n",
    "\n",
    "filename = os.path.join(new_dir, \"XIT_WK_SKIM_4_PK.OMX\")\n",
    "new_omx = omx.open_file(filename)\n",
    "\n",
    "filename = os.path.join(legacy_dir, \"XIT_TRIP_4_PK_CLEAN.OMX\")\n",
    "demand_omx = omx.open_file(filename)"
   ]
  },
  {
   "cell_type": "code",
   "execution_count": 4,
   "metadata": {},
   "outputs": [
    {
     "data": {
      "text/plain": [
       "['FARE',\n",
       " 'FAREP',\n",
       " 'FARER',\n",
       " 'FARES',\n",
       " 'IWAIT',\n",
       " 'TRNTIME',\n",
       " 'WLKACC',\n",
       " 'WLKEGR',\n",
       " 'WLKXFER',\n",
       " 'XFERS',\n",
       " 'XWAIT']"
      ]
     },
     "execution_count": 4,
     "metadata": {},
     "output_type": "execute_result"
    }
   ],
   "source": [
    "legacy_omx.list_matrices()"
   ]
  },
  {
   "cell_type": "code",
   "execution_count": 5,
   "metadata": {},
   "outputs": [
    {
     "data": {
      "text/plain": [
       "['FARE',\n",
       " 'FAREP',\n",
       " 'FARER',\n",
       " 'FARES',\n",
       " 'IWAIT',\n",
       " 'TRNTIME',\n",
       " 'WLKACC',\n",
       " 'WLKEGR',\n",
       " 'WLKXFER',\n",
       " 'XFERS',\n",
       " 'XWAIT']"
      ]
     },
     "execution_count": 5,
     "metadata": {},
     "output_type": "execute_result"
    }
   ],
   "source": [
    "new_omx.list_matrices()"
   ]
  },
  {
   "cell_type": "code",
   "execution_count": 6,
   "metadata": {},
   "outputs": [
    {
     "data": {
      "text/plain": [
       "['DriveToTransit', 'WalkToTransit']"
      ]
     },
     "execution_count": 6,
     "metadata": {},
     "output_type": "execute_result"
    }
   ],
   "source": [
    "demand_omx.list_matrices()"
   ]
  },
  {
   "cell_type": "code",
   "execution_count": 7,
   "metadata": {},
   "outputs": [],
   "source": [
    "def make_dataframe(input_mtx, column_name):\n",
    "    df = pd.DataFrame(input_mtx)\n",
    "    df = df.add_prefix('dest_')\n",
    "    df['orig'] = df.index\n",
    "    df = pd.wide_to_long(df, 'dest_', 'orig', 'dest')\n",
    "    df = df.reset_index().rename(columns = {'dest_': column_name})\n",
    "    df['orig'] = df['orig'] + 1\n",
    "    df['dest'] = df['dest'] + 1\n",
    "    \n",
    "    return df"
   ]
  },
  {
   "cell_type": "code",
   "execution_count": 8,
   "metadata": {},
   "outputs": [],
   "source": [
    "leg_ivtt_df = make_dataframe(legacy_omx['TRNTIME'], 'legacy_ivtt')\n",
    "leg_iwait_df = make_dataframe(legacy_omx['IWAIT'], 'legacy_iwait')\n",
    "leg_xwait_df = make_dataframe(legacy_omx['XWAIT'], 'legacy_xwait')\n",
    "leg_wlkacc_df = make_dataframe(legacy_omx['WLKACC'], 'legacy_wlkacc')\n",
    "leg_wlkegr_df = make_dataframe(legacy_omx['WLKEGR'], 'legacy_wlkegr')\n",
    "leg_wlkxfer_df = make_dataframe(legacy_omx['WLKXFER'], 'legacy_wlkxfer')\n",
    "leg_xfers_df = make_dataframe(legacy_omx['XFERS'], 'legacy_xfers')"
   ]
  },
  {
   "cell_type": "code",
   "execution_count": 9,
   "metadata": {},
   "outputs": [],
   "source": [
    "new_ivtt_df = make_dataframe(new_omx['TRNTIME'], 'new_ivtt')\n",
    "new_iwait_df = make_dataframe(new_omx['IWAIT'], 'new_iwait')\n",
    "new_xwait_df = make_dataframe(new_omx['XWAIT'], 'new_xwait')\n",
    "new_wlkacc_df = make_dataframe(new_omx['WLKACC'], 'new_wlkacc')\n",
    "new_wlkegr_df = make_dataframe(new_omx['WLKEGR'], 'new_wlkegr')\n",
    "new_wlkxfer_df = make_dataframe(new_omx['WLKXFER'], 'new_wlkxfer')\n",
    "new_xfers_df = make_dataframe(new_omx['XFERS'], 'new_xfers')"
   ]
  },
  {
   "cell_type": "code",
   "execution_count": 10,
   "metadata": {},
   "outputs": [],
   "source": [
    "walk_df = make_dataframe(demand_omx['WalkToTransit'], 'walk')\n",
    "drive_df = make_dataframe(demand_omx['DriveToTransit'], 'drive')"
   ]
  },
  {
   "cell_type": "code",
   "execution_count": 11,
   "metadata": {},
   "outputs": [],
   "source": [
    "df_list = [leg_iwait_df, leg_xwait_df, leg_wlkacc_df, leg_wlkegr_df, leg_wlkxfer_df]\n",
    "leg_ovtt_df = reduce(lambda left,right: pd.merge(left,right,on=[\"orig\", \"dest\"]), df_list)"
   ]
  },
  {
   "cell_type": "code",
   "execution_count": 12,
   "metadata": {},
   "outputs": [
    {
     "data": {
      "text/html": [
       "<div>\n",
       "<style scoped>\n",
       "    .dataframe tbody tr th:only-of-type {\n",
       "        vertical-align: middle;\n",
       "    }\n",
       "\n",
       "    .dataframe tbody tr th {\n",
       "        vertical-align: top;\n",
       "    }\n",
       "\n",
       "    .dataframe thead th {\n",
       "        text-align: right;\n",
       "    }\n",
       "</style>\n",
       "<table border=\"1\" class=\"dataframe\">\n",
       "  <thead>\n",
       "    <tr style=\"text-align: right;\">\n",
       "      <th></th>\n",
       "      <th>orig</th>\n",
       "      <th>dest</th>\n",
       "      <th>legacy_ovtt</th>\n",
       "    </tr>\n",
       "  </thead>\n",
       "  <tbody>\n",
       "    <tr>\n",
       "      <th>165360</th>\n",
       "      <td>67</td>\n",
       "      <td>55</td>\n",
       "      <td>60.08</td>\n",
       "    </tr>\n",
       "    <tr>\n",
       "      <th>165361</th>\n",
       "      <td>68</td>\n",
       "      <td>55</td>\n",
       "      <td>56.96</td>\n",
       "    </tr>\n",
       "    <tr>\n",
       "      <th>165362</th>\n",
       "      <td>69</td>\n",
       "      <td>55</td>\n",
       "      <td>59.19</td>\n",
       "    </tr>\n",
       "    <tr>\n",
       "      <th>165363</th>\n",
       "      <td>70</td>\n",
       "      <td>55</td>\n",
       "      <td>59.06</td>\n",
       "    </tr>\n",
       "    <tr>\n",
       "      <th>165364</th>\n",
       "      <td>71</td>\n",
       "      <td>55</td>\n",
       "      <td>82.70</td>\n",
       "    </tr>\n",
       "  </tbody>\n",
       "</table>\n",
       "</div>"
      ],
      "text/plain": [
       "        orig  dest  legacy_ovtt\n",
       "165360    67    55        60.08\n",
       "165361    68    55        56.96\n",
       "165362    69    55        59.19\n",
       "165363    70    55        59.06\n",
       "165364    71    55        82.70"
      ]
     },
     "execution_count": 12,
     "metadata": {},
     "output_type": "execute_result"
    }
   ],
   "source": [
    "leg_ovtt_df[\"legacy_ovtt\"] = leg_ovtt_df[\"legacy_iwait\"] + leg_ovtt_df[\"legacy_xwait\"] + leg_ovtt_df[\"legacy_wlkacc\"] + leg_ovtt_df[\"legacy_wlkegr\"] + leg_ovtt_df[\"legacy_wlkxfer\"]\n",
    "                \n",
    "leg_ovtt_df = leg_ovtt_df[leg_ovtt_df[\"legacy_iwait\"] > 0]            \n",
    "leg_ovtt_df = leg_ovtt_df[[\"orig\", \"dest\", \"legacy_ovtt\"]]\n",
    "leg_ovtt_df.head()"
   ]
  },
  {
   "cell_type": "code",
   "execution_count": 13,
   "metadata": {},
   "outputs": [],
   "source": [
    "df_list = [new_iwait_df, new_xwait_df, new_wlkacc_df, new_wlkegr_df, new_wlkxfer_df]\n",
    "new_ovtt_df = reduce(lambda left,right: pd.merge(left,right,on=[\"orig\", \"dest\"]), df_list)"
   ]
  },
  {
   "cell_type": "code",
   "execution_count": 14,
   "metadata": {},
   "outputs": [
    {
     "data": {
      "text/html": [
       "<div>\n",
       "<style scoped>\n",
       "    .dataframe tbody tr th:only-of-type {\n",
       "        vertical-align: middle;\n",
       "    }\n",
       "\n",
       "    .dataframe tbody tr th {\n",
       "        vertical-align: top;\n",
       "    }\n",
       "\n",
       "    .dataframe thead th {\n",
       "        text-align: right;\n",
       "    }\n",
       "</style>\n",
       "<table border=\"1\" class=\"dataframe\">\n",
       "  <thead>\n",
       "    <tr style=\"text-align: right;\">\n",
       "      <th></th>\n",
       "      <th>orig</th>\n",
       "      <th>dest</th>\n",
       "      <th>new_ovtt</th>\n",
       "    </tr>\n",
       "  </thead>\n",
       "  <tbody>\n",
       "    <tr>\n",
       "      <th>162287</th>\n",
       "      <td>55</td>\n",
       "      <td>54</td>\n",
       "      <td>67.79</td>\n",
       "    </tr>\n",
       "    <tr>\n",
       "      <th>162288</th>\n",
       "      <td>56</td>\n",
       "      <td>54</td>\n",
       "      <td>89.17</td>\n",
       "    </tr>\n",
       "    <tr>\n",
       "      <th>162289</th>\n",
       "      <td>57</td>\n",
       "      <td>54</td>\n",
       "      <td>104.33</td>\n",
       "    </tr>\n",
       "    <tr>\n",
       "      <th>162296</th>\n",
       "      <td>64</td>\n",
       "      <td>54</td>\n",
       "      <td>91.00</td>\n",
       "    </tr>\n",
       "    <tr>\n",
       "      <th>162297</th>\n",
       "      <td>65</td>\n",
       "      <td>54</td>\n",
       "      <td>97.59</td>\n",
       "    </tr>\n",
       "  </tbody>\n",
       "</table>\n",
       "</div>"
      ],
      "text/plain": [
       "        orig  dest  new_ovtt\n",
       "162287    55    54     67.79\n",
       "162288    56    54     89.17\n",
       "162289    57    54    104.33\n",
       "162296    64    54     91.00\n",
       "162297    65    54     97.59"
      ]
     },
     "execution_count": 14,
     "metadata": {},
     "output_type": "execute_result"
    }
   ],
   "source": [
    "new_ovtt_df[\"new_ovtt\"] = new_ovtt_df[\"new_iwait\"] + new_ovtt_df[\"new_xwait\"] + new_ovtt_df[\"new_wlkacc\"] + new_ovtt_df[\"new_wlkegr\"] + new_ovtt_df[\"new_wlkxfer\"]\n",
    "                \n",
    "new_ovtt_df = new_ovtt_df[new_ovtt_df[\"new_iwait\"] > 0]            \n",
    "new_ovtt_df = new_ovtt_df[[\"orig\", \"dest\", \"new_ovtt\"]]\n",
    "new_ovtt_df.head()"
   ]
  },
  {
   "cell_type": "code",
   "execution_count": 15,
   "metadata": {},
   "outputs": [
    {
     "data": {
      "text/html": [
       "<div>\n",
       "<style scoped>\n",
       "    .dataframe tbody tr th:only-of-type {\n",
       "        vertical-align: middle;\n",
       "    }\n",
       "\n",
       "    .dataframe tbody tr th {\n",
       "        vertical-align: top;\n",
       "    }\n",
       "\n",
       "    .dataframe thead th {\n",
       "        text-align: right;\n",
       "    }\n",
       "</style>\n",
       "<table border=\"1\" class=\"dataframe\">\n",
       "  <thead>\n",
       "    <tr style=\"text-align: right;\">\n",
       "      <th></th>\n",
       "      <th>orig</th>\n",
       "      <th>dest</th>\n",
       "      <th>demand</th>\n",
       "    </tr>\n",
       "  </thead>\n",
       "  <tbody>\n",
       "    <tr>\n",
       "      <th>0</th>\n",
       "      <td>1</td>\n",
       "      <td>1</td>\n",
       "      <td>0.0</td>\n",
       "    </tr>\n",
       "    <tr>\n",
       "      <th>1</th>\n",
       "      <td>2</td>\n",
       "      <td>1</td>\n",
       "      <td>0.0</td>\n",
       "    </tr>\n",
       "    <tr>\n",
       "      <th>2</th>\n",
       "      <td>3</td>\n",
       "      <td>1</td>\n",
       "      <td>0.0</td>\n",
       "    </tr>\n",
       "    <tr>\n",
       "      <th>3</th>\n",
       "      <td>4</td>\n",
       "      <td>1</td>\n",
       "      <td>0.0</td>\n",
       "    </tr>\n",
       "    <tr>\n",
       "      <th>4</th>\n",
       "      <td>5</td>\n",
       "      <td>1</td>\n",
       "      <td>0.0</td>\n",
       "    </tr>\n",
       "  </tbody>\n",
       "</table>\n",
       "</div>"
      ],
      "text/plain": [
       "   orig  dest  demand\n",
       "0     1     1     0.0\n",
       "1     2     1     0.0\n",
       "2     3     1     0.0\n",
       "3     4     1     0.0\n",
       "4     5     1     0.0"
      ]
     },
     "execution_count": 15,
     "metadata": {},
     "output_type": "execute_result"
    }
   ],
   "source": [
    "demand_df = pd.merge(\n",
    "   walk_df,\n",
    "   drive_df,\n",
    "   how = \"inner\",\n",
    "   on = [\"orig\", \"dest\"]\n",
    ")\n",
    "\n",
    "demand_df[\"demand\"] = demand_df[\"walk\"] + demand_df[\"drive\"]\n",
    "demand_df = demand_df[[\"orig\", \"dest\", \"demand\"]]\n",
    "demand_df.head()"
   ]
  },
  {
   "cell_type": "code",
   "execution_count": 16,
   "metadata": {},
   "outputs": [
    {
     "data": {
      "text/html": [
       "<div>\n",
       "<style scoped>\n",
       "    .dataframe tbody tr th:only-of-type {\n",
       "        vertical-align: middle;\n",
       "    }\n",
       "\n",
       "    .dataframe tbody tr th {\n",
       "        vertical-align: top;\n",
       "    }\n",
       "\n",
       "    .dataframe thead th {\n",
       "        text-align: right;\n",
       "    }\n",
       "</style>\n",
       "<table border=\"1\" class=\"dataframe\">\n",
       "  <thead>\n",
       "    <tr style=\"text-align: right;\">\n",
       "      <th></th>\n",
       "      <th>orig</th>\n",
       "      <th>dest</th>\n",
       "      <th>legacy_ivtt</th>\n",
       "      <th>new_ivtt</th>\n",
       "      <th>legacy_ovtt</th>\n",
       "      <th>new_ovtt</th>\n",
       "      <th>legacy_xfers</th>\n",
       "      <th>new_xfers</th>\n",
       "      <th>demand</th>\n",
       "    </tr>\n",
       "  </thead>\n",
       "  <tbody>\n",
       "    <tr>\n",
       "      <th>0</th>\n",
       "      <td>1</td>\n",
       "      <td>1</td>\n",
       "      <td>0.0</td>\n",
       "      <td>0.0</td>\n",
       "      <td>NaN</td>\n",
       "      <td>NaN</td>\n",
       "      <td>0.0</td>\n",
       "      <td>0.0</td>\n",
       "      <td>0.0</td>\n",
       "    </tr>\n",
       "    <tr>\n",
       "      <th>1</th>\n",
       "      <td>2</td>\n",
       "      <td>1</td>\n",
       "      <td>0.0</td>\n",
       "      <td>0.0</td>\n",
       "      <td>NaN</td>\n",
       "      <td>NaN</td>\n",
       "      <td>0.0</td>\n",
       "      <td>0.0</td>\n",
       "      <td>0.0</td>\n",
       "    </tr>\n",
       "    <tr>\n",
       "      <th>2</th>\n",
       "      <td>3</td>\n",
       "      <td>1</td>\n",
       "      <td>0.0</td>\n",
       "      <td>0.0</td>\n",
       "      <td>NaN</td>\n",
       "      <td>NaN</td>\n",
       "      <td>0.0</td>\n",
       "      <td>0.0</td>\n",
       "      <td>0.0</td>\n",
       "    </tr>\n",
       "    <tr>\n",
       "      <th>3</th>\n",
       "      <td>4</td>\n",
       "      <td>1</td>\n",
       "      <td>0.0</td>\n",
       "      <td>0.0</td>\n",
       "      <td>NaN</td>\n",
       "      <td>NaN</td>\n",
       "      <td>0.0</td>\n",
       "      <td>0.0</td>\n",
       "      <td>0.0</td>\n",
       "    </tr>\n",
       "    <tr>\n",
       "      <th>4</th>\n",
       "      <td>5</td>\n",
       "      <td>1</td>\n",
       "      <td>0.0</td>\n",
       "      <td>0.0</td>\n",
       "      <td>NaN</td>\n",
       "      <td>NaN</td>\n",
       "      <td>0.0</td>\n",
       "      <td>0.0</td>\n",
       "      <td>0.0</td>\n",
       "    </tr>\n",
       "  </tbody>\n",
       "</table>\n",
       "</div>"
      ],
      "text/plain": [
       "   orig  dest  legacy_ivtt  new_ivtt  legacy_ovtt  new_ovtt  legacy_xfers  \\\n",
       "0     1     1          0.0       0.0          NaN       NaN           0.0   \n",
       "1     2     1          0.0       0.0          NaN       NaN           0.0   \n",
       "2     3     1          0.0       0.0          NaN       NaN           0.0   \n",
       "3     4     1          0.0       0.0          NaN       NaN           0.0   \n",
       "4     5     1          0.0       0.0          NaN       NaN           0.0   \n",
       "\n",
       "   new_xfers  demand  \n",
       "0        0.0     0.0  \n",
       "1        0.0     0.0  \n",
       "2        0.0     0.0  \n",
       "3        0.0     0.0  \n",
       "4        0.0     0.0  "
      ]
     },
     "execution_count": 16,
     "metadata": {},
     "output_type": "execute_result"
    }
   ],
   "source": [
    "df_list = [leg_ivtt_df, new_ivtt_df, leg_ovtt_df, new_ovtt_df, leg_xfers_df, new_xfers_df, demand_df]\n",
    "t_df = reduce(lambda left, right: pd.merge(left, right, how=\"outer\", on=[\"orig\", \"dest\"]), df_list)\n",
    "t_df.head()"
   ]
  },
  {
   "cell_type": "code",
   "execution_count": 17,
   "metadata": {},
   "outputs": [
    {
     "data": {
      "text/html": [
       "<div>\n",
       "<style scoped>\n",
       "    .dataframe tbody tr th:only-of-type {\n",
       "        vertical-align: middle;\n",
       "    }\n",
       "\n",
       "    .dataframe tbody tr th {\n",
       "        vertical-align: top;\n",
       "    }\n",
       "\n",
       "    .dataframe thead th {\n",
       "        text-align: right;\n",
       "    }\n",
       "</style>\n",
       "<table border=\"1\" class=\"dataframe\">\n",
       "  <thead>\n",
       "    <tr style=\"text-align: right;\">\n",
       "      <th></th>\n",
       "      <th>orig</th>\n",
       "      <th>dest</th>\n",
       "      <th>legacy_ivtt</th>\n",
       "      <th>new_ivtt</th>\n",
       "      <th>legacy_ovtt</th>\n",
       "      <th>new_ovtt</th>\n",
       "      <th>legacy_xfers</th>\n",
       "      <th>new_xfers</th>\n",
       "      <th>demand</th>\n",
       "    </tr>\n",
       "  </thead>\n",
       "  <tbody>\n",
       "    <tr>\n",
       "      <th>0</th>\n",
       "      <td>1</td>\n",
       "      <td>1</td>\n",
       "      <td>0.0</td>\n",
       "      <td>0.0</td>\n",
       "      <td>NaN</td>\n",
       "      <td>NaN</td>\n",
       "      <td>0.0</td>\n",
       "      <td>0.0</td>\n",
       "      <td>0.0</td>\n",
       "    </tr>\n",
       "    <tr>\n",
       "      <th>1</th>\n",
       "      <td>2</td>\n",
       "      <td>1</td>\n",
       "      <td>0.0</td>\n",
       "      <td>0.0</td>\n",
       "      <td>NaN</td>\n",
       "      <td>NaN</td>\n",
       "      <td>0.0</td>\n",
       "      <td>0.0</td>\n",
       "      <td>0.0</td>\n",
       "    </tr>\n",
       "    <tr>\n",
       "      <th>2</th>\n",
       "      <td>3</td>\n",
       "      <td>1</td>\n",
       "      <td>0.0</td>\n",
       "      <td>0.0</td>\n",
       "      <td>NaN</td>\n",
       "      <td>NaN</td>\n",
       "      <td>0.0</td>\n",
       "      <td>0.0</td>\n",
       "      <td>0.0</td>\n",
       "    </tr>\n",
       "    <tr>\n",
       "      <th>3</th>\n",
       "      <td>4</td>\n",
       "      <td>1</td>\n",
       "      <td>0.0</td>\n",
       "      <td>0.0</td>\n",
       "      <td>NaN</td>\n",
       "      <td>NaN</td>\n",
       "      <td>0.0</td>\n",
       "      <td>0.0</td>\n",
       "      <td>0.0</td>\n",
       "    </tr>\n",
       "    <tr>\n",
       "      <th>4</th>\n",
       "      <td>5</td>\n",
       "      <td>1</td>\n",
       "      <td>0.0</td>\n",
       "      <td>0.0</td>\n",
       "      <td>NaN</td>\n",
       "      <td>NaN</td>\n",
       "      <td>0.0</td>\n",
       "      <td>0.0</td>\n",
       "      <td>0.0</td>\n",
       "    </tr>\n",
       "  </tbody>\n",
       "</table>\n",
       "</div>"
      ],
      "text/plain": [
       "   orig  dest  legacy_ivtt  new_ivtt  legacy_ovtt  new_ovtt  legacy_xfers  \\\n",
       "0     1     1          0.0       0.0          NaN       NaN           0.0   \n",
       "1     2     1          0.0       0.0          NaN       NaN           0.0   \n",
       "2     3     1          0.0       0.0          NaN       NaN           0.0   \n",
       "3     4     1          0.0       0.0          NaN       NaN           0.0   \n",
       "4     5     1          0.0       0.0          NaN       NaN           0.0   \n",
       "\n",
       "   new_xfers  demand  \n",
       "0        0.0     0.0  \n",
       "1        0.0     0.0  \n",
       "2        0.0     0.0  \n",
       "3        0.0     0.0  \n",
       "4        0.0     0.0  "
      ]
     },
     "execution_count": 17,
     "metadata": {},
     "output_type": "execute_result"
    }
   ],
   "source": [
    "t_df.head()"
   ]
  },
  {
   "cell_type": "code",
   "execution_count": 18,
   "metadata": {},
   "outputs": [],
   "source": [
    "out_df = t_df[(t_df['legacy_ivtt'] !=0) | (t_df['new_ivtt'] !=0)]"
   ]
  },
  {
   "cell_type": "code",
   "execution_count": 19,
   "metadata": {},
   "outputs": [
    {
     "data": {
      "text/plain": [
       "(3128176, 9)"
      ]
     },
     "execution_count": 19,
     "metadata": {},
     "output_type": "execute_result"
    }
   ],
   "source": [
    "out_df.shape"
   ]
  },
  {
   "cell_type": "code",
   "execution_count": 20,
   "metadata": {},
   "outputs": [
    {
     "data": {
      "text/plain": [
       "(9369721, 9)"
      ]
     },
     "execution_count": 20,
     "metadata": {},
     "output_type": "execute_result"
    }
   ],
   "source": [
    "t_df.shape"
   ]
  },
  {
   "cell_type": "code",
   "execution_count": 21,
   "metadata": {},
   "outputs": [],
   "source": [
    "out_df.to_csv(out_filename, index = False)"
   ]
  },
  {
   "cell_type": "code",
   "execution_count": null,
   "metadata": {},
   "outputs": [],
   "source": []
  }
 ],
 "metadata": {
  "kernelspec": {
   "display_name": "Python 3",
   "language": "python",
   "name": "python3"
  },
  "language_info": {
   "codemirror_mode": {
    "name": "ipython",
    "version": 3
   },
   "file_extension": ".py",
   "mimetype": "text/x-python",
   "name": "python",
   "nbconvert_exporter": "python",
   "pygments_lexer": "ipython3",
   "version": "3.7.6"
  }
 },
 "nbformat": 4,
 "nbformat_minor": 4
}
