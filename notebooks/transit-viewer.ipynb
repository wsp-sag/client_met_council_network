{
 "cells": [
  {
   "cell_type": "code",
   "execution_count": 1,
   "metadata": {},
   "outputs": [],
   "source": [
    "import pandas as pd\n",
    "import geopandas as gpd\n",
    "import numpy as np\n",
    "import os\n",
    "\n",
    "from shapely.geometry import LineString"
   ]
  },
  {
   "cell_type": "markdown",
   "metadata": {},
   "source": [
    "# remote i/o"
   ]
  },
  {
   "cell_type": "code",
   "execution_count": 2,
   "metadata": {},
   "outputs": [],
   "source": [
    "# project directory\n",
    "root_dir = os.path.join(\"D:/metcouncil_network_rebuild\")\n",
    "\n",
    "external_dir = os.path.join(root_dir, \"data\", \"external\")\n",
    "interim_dir = os.path.join(root_dir, \"data\", \"interim\")"
   ]
  },
  {
   "cell_type": "code",
   "execution_count": 3,
   "metadata": {},
   "outputs": [],
   "source": [
    "routing_result_dir = interim_dir"
   ]
  },
  {
   "cell_type": "code",
   "execution_count": 6,
   "metadata": {},
   "outputs": [],
   "source": [
    "gtfs_input_dir = os.path.join(external_dir, 'gtfs')\n",
    "\n",
    "gtfs_feed_names = ['MT2019', 'MV2019']"
   ]
  },
  {
   "cell_type": "markdown",
   "metadata": {},
   "source": [
    "# read gtfs and routing results"
   ]
  },
  {
   "cell_type": "code",
   "execution_count": 37,
   "metadata": {},
   "outputs": [],
   "source": [
    "routing_df = gpd.read_file(os.path.join(routing_result_dir, 'bus_routing.geojson'))\n",
    "routing_df.rename(columns = {'source':'routing_method'}, inplace = True)\n",
    "\n",
    "stop_times_df = pd.DataFrame()\n",
    "stops_df = pd.DataFrame()\n",
    "routes_df = pd.DataFrame()\n",
    "trips_df = pd.DataFrame()\n",
    "shapes_df = pd.DataFrame()\n",
    "\n",
    "for feed in gtfs_feed_names:\n",
    "    temp_stop_times_df = pd.read_csv(\n",
    "        os.path.join(gtfs_input_dir, feed, 'stop_times.txt'), dtype = {'trip_id':object, 'stop_id':object}\n",
    "    )\n",
    "    temp_stop_times_df['agency_raw_name'] = feed\n",
    "    \n",
    "    stop_times_df = stop_times_df.append(temp_stop_times_df, sort = False, ignore_index = True)\n",
    "\n",
    "    temp_stops_df = pd.read_csv(\n",
    "        os.path.join(gtfs_input_dir, feed, 'stops.txt'), dtype = {'stop_id':object}\n",
    "    )\n",
    "    temp_stops_df['agency_raw_name'] = feed\n",
    "    \n",
    "    stops_df = stops_df.append(temp_stops_df, sort = False, ignore_index = True)\n",
    "\n",
    "    temp_routes_df = pd.read_csv(\n",
    "        os.path.join(gtfs_input_dir, feed, 'routes.txt')\n",
    "    )\n",
    "    temp_routes_df['agency_raw_name'] = feed\n",
    "    \n",
    "    routes_df = routes_df.append(temp_routes_df, sort = False, ignore_index = True)\n",
    "\n",
    "    temp_trips_df = pd.read_csv(\n",
    "        os.path.join(gtfs_input_dir, feed, 'trips.txt'), dtype = {'trip_id':object, 'shape_id':object}\n",
    "    )\n",
    "    temp_trips_df['agency_raw_name'] = feed\n",
    "    \n",
    "    trips_df = trips_df.append(temp_trips_df, sort = False, ignore_index = True)\n",
    "\n",
    "    temp_shapes_df = pd.read_csv(\n",
    "        os.path.join(gtfs_input_dir, feed, 'shapes.txt'), dtype = {'shape_id':object}\n",
    "    )\n",
    "    temp_shapes_df['agency_raw_name'] = feed\n",
    "    \n",
    "    shapes_df = shapes_df.append(temp_shapes_df, sort = False, ignore_index = True)"
   ]
  },
  {
   "cell_type": "code",
   "execution_count": 38,
   "metadata": {
    "scrolled": true
   },
   "outputs": [
    {
     "data": {
      "text/html": [
       "<div>\n",
       "<style scoped>\n",
       "    .dataframe tbody tr th:only-of-type {\n",
       "        vertical-align: middle;\n",
       "    }\n",
       "\n",
       "    .dataframe tbody tr th {\n",
       "        vertical-align: top;\n",
       "    }\n",
       "\n",
       "    .dataframe thead th {\n",
       "        text-align: right;\n",
       "    }\n",
       "</style>\n",
       "<table border=\"1\" class=\"dataframe\">\n",
       "  <thead>\n",
       "    <tr style=\"text-align: right;\">\n",
       "      <th></th>\n",
       "      <th>stop_id</th>\n",
       "      <th>stop_code</th>\n",
       "      <th>stop_name</th>\n",
       "      <th>stop_desc</th>\n",
       "      <th>stop_lat</th>\n",
       "      <th>stop_lon</th>\n",
       "      <th>zone_id</th>\n",
       "      <th>stop_url</th>\n",
       "      <th>location_type</th>\n",
       "      <th>wheelchair_boarding</th>\n",
       "      <th>agency_raw_name</th>\n",
       "      <th>parent_station</th>\n",
       "    </tr>\n",
       "  </thead>\n",
       "  <tbody>\n",
       "    <tr>\n",
       "      <th>0</th>\n",
       "      <td>1000</td>\n",
       "      <td>NaN</td>\n",
       "      <td>50th St W &amp; Upton Ave S</td>\n",
       "      <td>Near side E</td>\n",
       "      <td>44.912365</td>\n",
       "      <td>-93.315179</td>\n",
       "      <td>NaN</td>\n",
       "      <td>http://www.metrotransit.org/NexTripBadge.aspx?...</td>\n",
       "      <td>0</td>\n",
       "      <td>1.0</td>\n",
       "      <td>MT2019</td>\n",
       "      <td>NaN</td>\n",
       "    </tr>\n",
       "    <tr>\n",
       "      <th>1</th>\n",
       "      <td>10000</td>\n",
       "      <td>NaN</td>\n",
       "      <td>Carmen Ave &amp; Claude Way E</td>\n",
       "      <td>Across from S</td>\n",
       "      <td>44.857531</td>\n",
       "      <td>-93.041008</td>\n",
       "      <td>NaN</td>\n",
       "      <td>http://www.metrotransit.org/NexTripBadge.aspx?...</td>\n",
       "      <td>0</td>\n",
       "      <td>1.0</td>\n",
       "      <td>MT2019</td>\n",
       "      <td>NaN</td>\n",
       "    </tr>\n",
       "    <tr>\n",
       "      <th>2</th>\n",
       "      <td>10001</td>\n",
       "      <td>NaN</td>\n",
       "      <td>Carmen Ave &amp; 65th St E</td>\n",
       "      <td>Far side S</td>\n",
       "      <td>44.855001</td>\n",
       "      <td>-93.042491</td>\n",
       "      <td>NaN</td>\n",
       "      <td>http://www.metrotransit.org/NexTripBadge.aspx?...</td>\n",
       "      <td>0</td>\n",
       "      <td>1.0</td>\n",
       "      <td>MT2019</td>\n",
       "      <td>NaN</td>\n",
       "    </tr>\n",
       "    <tr>\n",
       "      <th>3</th>\n",
       "      <td>10002</td>\n",
       "      <td>NaN</td>\n",
       "      <td>Carmen Ave &amp; Village Square Center</td>\n",
       "      <td>Near side S</td>\n",
       "      <td>44.853643</td>\n",
       "      <td>-93.042243</td>\n",
       "      <td>NaN</td>\n",
       "      <td>http://www.metrotransit.org/NexTripBadge.aspx?...</td>\n",
       "      <td>0</td>\n",
       "      <td>1.0</td>\n",
       "      <td>MT2019</td>\n",
       "      <td>NaN</td>\n",
       "    </tr>\n",
       "    <tr>\n",
       "      <th>4</th>\n",
       "      <td>10003</td>\n",
       "      <td>NaN</td>\n",
       "      <td>Carmen Ave &amp; Lake Bridge Apts</td>\n",
       "      <td>Across from E</td>\n",
       "      <td>44.853399</td>\n",
       "      <td>-93.040785</td>\n",
       "      <td>NaN</td>\n",
       "      <td>http://www.metrotransit.org/NexTripBadge.aspx?...</td>\n",
       "      <td>0</td>\n",
       "      <td>2.0</td>\n",
       "      <td>MT2019</td>\n",
       "      <td>NaN</td>\n",
       "    </tr>\n",
       "    <tr>\n",
       "      <th>...</th>\n",
       "      <td>...</td>\n",
       "      <td>...</td>\n",
       "      <td>...</td>\n",
       "      <td>...</td>\n",
       "      <td>...</td>\n",
       "      <td>...</td>\n",
       "      <td>...</td>\n",
       "      <td>...</td>\n",
       "      <td>...</td>\n",
       "      <td>...</td>\n",
       "      <td>...</td>\n",
       "      <td>...</td>\n",
       "    </tr>\n",
       "    <tr>\n",
       "      <th>13844</th>\n",
       "      <td>place_BTST</td>\n",
       "      <td>NaN</td>\n",
       "      <td>Burnsville Transit Station</td>\n",
       "      <td>NaN</td>\n",
       "      <td>44.778813</td>\n",
       "      <td>-93.276049</td>\n",
       "      <td>NaN</td>\n",
       "      <td>NaN</td>\n",
       "      <td>1</td>\n",
       "      <td>NaN</td>\n",
       "      <td>MV2019</td>\n",
       "      <td>NaN</td>\n",
       "    </tr>\n",
       "    <tr>\n",
       "      <th>13845</th>\n",
       "      <td>place_CE47</td>\n",
       "      <td>NaN</td>\n",
       "      <td>Cedar &amp; 147th (BRT)</td>\n",
       "      <td>NaN</td>\n",
       "      <td>44.735146</td>\n",
       "      <td>-93.217624</td>\n",
       "      <td>NaN</td>\n",
       "      <td>NaN</td>\n",
       "      <td>1</td>\n",
       "      <td>NaN</td>\n",
       "      <td>MV2019</td>\n",
       "      <td>NaN</td>\n",
       "    </tr>\n",
       "    <tr>\n",
       "      <th>13846</th>\n",
       "      <td>place_DFME</td>\n",
       "      <td>NaN</td>\n",
       "      <td>Diffley Rd @ Metcalf JHS</td>\n",
       "      <td>NaN</td>\n",
       "      <td>44.804841</td>\n",
       "      <td>-93.226214</td>\n",
       "      <td>NaN</td>\n",
       "      <td>NaN</td>\n",
       "      <td>1</td>\n",
       "      <td>NaN</td>\n",
       "      <td>MV2019</td>\n",
       "      <td>NaN</td>\n",
       "    </tr>\n",
       "    <tr>\n",
       "      <th>13847</th>\n",
       "      <td>place_EATS</td>\n",
       "      <td>NaN</td>\n",
       "      <td>Eagan Transit Station</td>\n",
       "      <td>NaN</td>\n",
       "      <td>44.831925</td>\n",
       "      <td>-93.166537</td>\n",
       "      <td>NaN</td>\n",
       "      <td>NaN</td>\n",
       "      <td>1</td>\n",
       "      <td>NaN</td>\n",
       "      <td>MV2019</td>\n",
       "      <td>NaN</td>\n",
       "    </tr>\n",
       "    <tr>\n",
       "      <th>13848</th>\n",
       "      <td>place_PHPR</td>\n",
       "      <td>NaN</td>\n",
       "      <td>Palomino Hills P&amp;R</td>\n",
       "      <td>NaN</td>\n",
       "      <td>44.764639</td>\n",
       "      <td>-93.219859</td>\n",
       "      <td>NaN</td>\n",
       "      <td>NaN</td>\n",
       "      <td>1</td>\n",
       "      <td>NaN</td>\n",
       "      <td>MV2019</td>\n",
       "      <td>NaN</td>\n",
       "    </tr>\n",
       "  </tbody>\n",
       "</table>\n",
       "<p>13849 rows × 12 columns</p>\n",
       "</div>"
      ],
      "text/plain": [
       "          stop_id  stop_code                           stop_name  \\\n",
       "0            1000        NaN             50th St W & Upton Ave S   \n",
       "1           10000        NaN           Carmen Ave & Claude Way E   \n",
       "2           10001        NaN              Carmen Ave & 65th St E   \n",
       "3           10002        NaN  Carmen Ave & Village Square Center   \n",
       "4           10003        NaN       Carmen Ave & Lake Bridge Apts   \n",
       "...           ...        ...                                 ...   \n",
       "13844  place_BTST        NaN          Burnsville Transit Station   \n",
       "13845  place_CE47        NaN                 Cedar & 147th (BRT)   \n",
       "13846  place_DFME        NaN            Diffley Rd @ Metcalf JHS   \n",
       "13847  place_EATS        NaN               Eagan Transit Station   \n",
       "13848  place_PHPR        NaN                  Palomino Hills P&R   \n",
       "\n",
       "           stop_desc   stop_lat   stop_lon  zone_id  \\\n",
       "0        Near side E  44.912365 -93.315179      NaN   \n",
       "1      Across from S  44.857531 -93.041008      NaN   \n",
       "2         Far side S  44.855001 -93.042491      NaN   \n",
       "3        Near side S  44.853643 -93.042243      NaN   \n",
       "4      Across from E  44.853399 -93.040785      NaN   \n",
       "...              ...        ...        ...      ...   \n",
       "13844            NaN  44.778813 -93.276049      NaN   \n",
       "13845            NaN  44.735146 -93.217624      NaN   \n",
       "13846            NaN  44.804841 -93.226214      NaN   \n",
       "13847            NaN  44.831925 -93.166537      NaN   \n",
       "13848            NaN  44.764639 -93.219859      NaN   \n",
       "\n",
       "                                                stop_url  location_type  \\\n",
       "0      http://www.metrotransit.org/NexTripBadge.aspx?...              0   \n",
       "1      http://www.metrotransit.org/NexTripBadge.aspx?...              0   \n",
       "2      http://www.metrotransit.org/NexTripBadge.aspx?...              0   \n",
       "3      http://www.metrotransit.org/NexTripBadge.aspx?...              0   \n",
       "4      http://www.metrotransit.org/NexTripBadge.aspx?...              0   \n",
       "...                                                  ...            ...   \n",
       "13844                                                NaN              1   \n",
       "13845                                                NaN              1   \n",
       "13846                                                NaN              1   \n",
       "13847                                                NaN              1   \n",
       "13848                                                NaN              1   \n",
       "\n",
       "       wheelchair_boarding agency_raw_name parent_station  \n",
       "0                      1.0          MT2019            NaN  \n",
       "1                      1.0          MT2019            NaN  \n",
       "2                      1.0          MT2019            NaN  \n",
       "3                      1.0          MT2019            NaN  \n",
       "4                      2.0          MT2019            NaN  \n",
       "...                    ...             ...            ...  \n",
       "13844                  NaN          MV2019            NaN  \n",
       "13845                  NaN          MV2019            NaN  \n",
       "13846                  NaN          MV2019            NaN  \n",
       "13847                  NaN          MV2019            NaN  \n",
       "13848                  NaN          MV2019            NaN  \n",
       "\n",
       "[13849 rows x 12 columns]"
      ]
     },
     "execution_count": 38,
     "metadata": {},
     "output_type": "execute_result"
    }
   ],
   "source": [
    "stops_df"
   ]
  },
  {
   "cell_type": "code",
   "execution_count": 39,
   "metadata": {},
   "outputs": [
    {
     "name": "stdout",
     "output_type": "stream",
     "text": [
      "<class 'geopandas.geodataframe.GeoDataFrame'>\n",
      "RangeIndex: 223534 entries, 0 to 223533\n",
      "Data columns (total 12 columns):\n",
      " #   Column              Non-Null Count   Dtype   \n",
      "---  ------              --------------   -----   \n",
      " 0   u                   223534 non-null  int64   \n",
      " 1   v                   223534 non-null  int64   \n",
      " 2   agency_raw_name     223534 non-null  object  \n",
      " 3   shape_id            223534 non-null  object  \n",
      " 4   trip_id             223534 non-null  object  \n",
      " 5   fromIntersectionId  223534 non-null  object  \n",
      " 6   toIntersectionId    223534 non-null  object  \n",
      " 7   shstReferenceId     223534 non-null  object  \n",
      " 8   shstGeometryId      223534 non-null  object  \n",
      " 9   agency_shape_id     223534 non-null  object  \n",
      " 10  method              223534 non-null  object  \n",
      " 11  geometry            223534 non-null  geometry\n",
      "dtypes: geometry(1), int64(2), object(9)\n",
      "memory usage: 20.5+ MB\n"
     ]
    }
   ],
   "source": [
    "routing_df.info()"
   ]
  },
  {
   "cell_type": "markdown",
   "metadata": {},
   "source": [
    "# add route name to trips"
   ]
  },
  {
   "cell_type": "code",
   "execution_count": 40,
   "metadata": {},
   "outputs": [],
   "source": [
    "# add route names to trips\n",
    "\n",
    "trips_df = pd.merge(\n",
    "    trips_df,\n",
    "    routes_df[['agency_raw_name','route_id', 'route_short_name', 'route_long_name']],\n",
    "    how = 'left',\n",
    "    on = ['agency_raw_name','route_id']\n",
    ")"
   ]
  },
  {
   "cell_type": "code",
   "execution_count": 41,
   "metadata": {},
   "outputs": [
    {
     "name": "stdout",
     "output_type": "stream",
     "text": [
      "<class 'pandas.core.frame.DataFrame'>\n",
      "Int64Index: 52053 entries, 0 to 52052\n",
      "Data columns (total 16 columns):\n",
      " #   Column                 Non-Null Count  Dtype  \n",
      "---  ------                 --------------  -----  \n",
      " 0   route_id               52053 non-null  object \n",
      " 1   service_id             52053 non-null  object \n",
      " 2   trip_id                52053 non-null  object \n",
      " 3   trip_headsign          52053 non-null  object \n",
      " 4   direction_id           52053 non-null  int64  \n",
      " 5   block_id               52049 non-null  float64\n",
      " 6   shape_id               52053 non-null  object \n",
      " 7   wheelchair_accessible  49731 non-null  float64\n",
      " 8   agency_raw_name        52053 non-null  object \n",
      " 9   trip_destination       2322 non-null   object \n",
      " 10  trip_short_name        2322 non-null   object \n",
      " 11  trip_route_name        2322 non-null   object \n",
      " 12  pub_dir_id             2322 non-null   object \n",
      " 13  rm_block_id            2318 non-null   object \n",
      " 14  route_short_name       52053 non-null  object \n",
      " 15  route_long_name        52053 non-null  object \n",
      "dtypes: float64(2), int64(1), object(13)\n",
      "memory usage: 6.8+ MB\n"
     ]
    }
   ],
   "source": [
    "trips_df.info()"
   ]
  },
  {
   "cell_type": "markdown",
   "metadata": {},
   "source": [
    "# add trip info to ranch routing result"
   ]
  },
  {
   "cell_type": "code",
   "execution_count": 42,
   "metadata": {},
   "outputs": [],
   "source": [
    "# add trip info to routing result\n",
    "\n",
    "routing_df = pd.merge(\n",
    "    routing_df,\n",
    "    trips_df[['agency_raw_name', 'trip_id', 'shape_id', 'route_id', 'direction_id', 'route_short_name', 'route_long_name']],\n",
    "    how='left',\n",
    "    on =['agency_raw_name', 'trip_id', 'shape_id']\n",
    ")\n",
    "\n",
    "routing_df['source'] = 'routing'"
   ]
  },
  {
   "cell_type": "code",
   "execution_count": 43,
   "metadata": {},
   "outputs": [
    {
     "name": "stdout",
     "output_type": "stream",
     "text": [
      "<class 'geopandas.geodataframe.GeoDataFrame'>\n",
      "Int64Index: 223534 entries, 0 to 223533\n",
      "Data columns (total 17 columns):\n",
      " #   Column              Non-Null Count   Dtype   \n",
      "---  ------              --------------   -----   \n",
      " 0   u                   223534 non-null  int64   \n",
      " 1   v                   223534 non-null  int64   \n",
      " 2   agency_raw_name     223534 non-null  object  \n",
      " 3   shape_id            223534 non-null  object  \n",
      " 4   trip_id             223534 non-null  object  \n",
      " 5   fromIntersectionId  223534 non-null  object  \n",
      " 6   toIntersectionId    223534 non-null  object  \n",
      " 7   shstReferenceId     223534 non-null  object  \n",
      " 8   shstGeometryId      223534 non-null  object  \n",
      " 9   agency_shape_id     223534 non-null  object  \n",
      " 10  method              223534 non-null  object  \n",
      " 11  geometry            223534 non-null  geometry\n",
      " 12  route_id            223534 non-null  object  \n",
      " 13  direction_id        223534 non-null  int64   \n",
      " 14  route_short_name    223534 non-null  object  \n",
      " 15  route_long_name     223534 non-null  object  \n",
      " 16  source              223534 non-null  object  \n",
      "dtypes: geometry(1), int64(3), object(13)\n",
      "memory usage: 30.7+ MB\n"
     ]
    }
   ],
   "source": [
    "routing_df.info()"
   ]
  },
  {
   "cell_type": "code",
   "execution_count": 44,
   "metadata": {},
   "outputs": [],
   "source": [
    "trips_df = trips_df[trips_df.trip_id.isin(routing_df.trip_id.unique())]"
   ]
  },
  {
   "cell_type": "code",
   "execution_count": 45,
   "metadata": {},
   "outputs": [
    {
     "name": "stdout",
     "output_type": "stream",
     "text": [
      "<class 'pandas.core.frame.DataFrame'>\n",
      "Int64Index: 865 entries, 2 to 51798\n",
      "Data columns (total 16 columns):\n",
      " #   Column                 Non-Null Count  Dtype  \n",
      "---  ------                 --------------  -----  \n",
      " 0   route_id               865 non-null    object \n",
      " 1   service_id             865 non-null    object \n",
      " 2   trip_id                865 non-null    object \n",
      " 3   trip_headsign          865 non-null    object \n",
      " 4   direction_id           865 non-null    int64  \n",
      " 5   block_id               865 non-null    float64\n",
      " 6   shape_id               865 non-null    object \n",
      " 7   wheelchair_accessible  625 non-null    float64\n",
      " 8   agency_raw_name        865 non-null    object \n",
      " 9   trip_destination       240 non-null    object \n",
      " 10  trip_short_name        240 non-null    object \n",
      " 11  trip_route_name        240 non-null    object \n",
      " 12  pub_dir_id             240 non-null    object \n",
      " 13  rm_block_id            240 non-null    object \n",
      " 14  route_short_name       865 non-null    object \n",
      " 15  route_long_name        865 non-null    object \n",
      "dtypes: float64(2), int64(1), object(13)\n",
      "memory usage: 114.9+ KB\n"
     ]
    }
   ],
   "source": [
    "trips_df.info()"
   ]
  },
  {
   "cell_type": "markdown",
   "metadata": {},
   "source": [
    "# create stop time shapes from gtfs"
   ]
  },
  {
   "cell_type": "code",
   "execution_count": 50,
   "metadata": {},
   "outputs": [
    {
     "data": {
      "text/html": [
       "<div>\n",
       "<style scoped>\n",
       "    .dataframe tbody tr th:only-of-type {\n",
       "        vertical-align: middle;\n",
       "    }\n",
       "\n",
       "    .dataframe tbody tr th {\n",
       "        vertical-align: top;\n",
       "    }\n",
       "\n",
       "    .dataframe thead th {\n",
       "        text-align: right;\n",
       "    }\n",
       "</style>\n",
       "<table border=\"1\" class=\"dataframe\">\n",
       "  <thead>\n",
       "    <tr style=\"text-align: right;\">\n",
       "      <th></th>\n",
       "      <th>geometry</th>\n",
       "    </tr>\n",
       "    <tr>\n",
       "      <th>trip_id</th>\n",
       "      <th></th>\n",
       "    </tr>\n",
       "  </thead>\n",
       "  <tbody>\n",
       "    <tr>\n",
       "      <th>--411.0N-1721-20190518-Weekday-04</th>\n",
       "      <td>LINESTRING (-93.47152 44.73090, -93.50657 44.7...</td>\n",
       "    </tr>\n",
       "    <tr>\n",
       "      <th>--411.0N-1721-20190518-Weekend-01</th>\n",
       "      <td>LINESTRING (-93.47152 44.73090, -93.50657 44.7...</td>\n",
       "    </tr>\n",
       "    <tr>\n",
       "      <th>--411.0N-1721-20190914-Weekday-03</th>\n",
       "      <td>LINESTRING (-93.47152 44.73090, -93.50657 44.7...</td>\n",
       "    </tr>\n",
       "    <tr>\n",
       "      <th>--411.0N-1721-20190914-Weekend-02</th>\n",
       "      <td>LINESTRING (-93.47152 44.73090, -93.50657 44.7...</td>\n",
       "    </tr>\n",
       "    <tr>\n",
       "      <th>001-S1-420.3E-0705-20190518-Weekday-04</th>\n",
       "      <td>LINESTRING (-93.21791 44.72575, -93.12380 44.7...</td>\n",
       "    </tr>\n",
       "    <tr>\n",
       "      <th>...</th>\n",
       "      <td>...</td>\n",
       "    </tr>\n",
       "    <tr>\n",
       "      <th>952--411.0S-2134-20190914-Weekend-02</th>\n",
       "      <td>LINESTRING (-93.50657 44.77599, -93.47152 44.7...</td>\n",
       "    </tr>\n",
       "    <tr>\n",
       "      <th>952--411.0S-2326-20190518-Weekday-04</th>\n",
       "      <td>LINESTRING (-93.50657 44.77599, -93.47152 44.7...</td>\n",
       "    </tr>\n",
       "    <tr>\n",
       "      <th>952--411.0S-2326-20190518-Weekend-01</th>\n",
       "      <td>LINESTRING (-93.50657 44.77599, -93.47152 44.7...</td>\n",
       "    </tr>\n",
       "    <tr>\n",
       "      <th>952--411.0S-2326-20190914-Weekday-03</th>\n",
       "      <td>LINESTRING (-93.50657 44.77599, -93.47152 44.7...</td>\n",
       "    </tr>\n",
       "    <tr>\n",
       "      <th>952--411.0S-2326-20190914-Weekend-02</th>\n",
       "      <td>LINESTRING (-93.50657 44.77599, -93.47152 44.7...</td>\n",
       "    </tr>\n",
       "  </tbody>\n",
       "</table>\n",
       "<p>52053 rows × 1 columns</p>\n",
       "</div>"
      ],
      "text/plain": [
       "                                                                                 geometry\n",
       "trip_id                                                                                  \n",
       "--411.0N-1721-20190518-Weekday-04       LINESTRING (-93.47152 44.73090, -93.50657 44.7...\n",
       "--411.0N-1721-20190518-Weekend-01       LINESTRING (-93.47152 44.73090, -93.50657 44.7...\n",
       "--411.0N-1721-20190914-Weekday-03       LINESTRING (-93.47152 44.73090, -93.50657 44.7...\n",
       "--411.0N-1721-20190914-Weekend-02       LINESTRING (-93.47152 44.73090, -93.50657 44.7...\n",
       "001-S1-420.3E-0705-20190518-Weekday-04  LINESTRING (-93.21791 44.72575, -93.12380 44.7...\n",
       "...                                                                                   ...\n",
       "952--411.0S-2134-20190914-Weekend-02    LINESTRING (-93.50657 44.77599, -93.47152 44.7...\n",
       "952--411.0S-2326-20190518-Weekday-04    LINESTRING (-93.50657 44.77599, -93.47152 44.7...\n",
       "952--411.0S-2326-20190518-Weekend-01    LINESTRING (-93.50657 44.77599, -93.47152 44.7...\n",
       "952--411.0S-2326-20190914-Weekday-03    LINESTRING (-93.50657 44.77599, -93.47152 44.7...\n",
       "952--411.0S-2326-20190914-Weekend-02    LINESTRING (-93.50657 44.77599, -93.47152 44.7...\n",
       "\n",
       "[52053 rows x 1 columns]"
      ]
     },
     "execution_count": 50,
     "metadata": {},
     "output_type": "execute_result"
    }
   ],
   "source": [
    "stop_times_line_gdf"
   ]
  },
  {
   "cell_type": "code",
   "execution_count": 51,
   "metadata": {},
   "outputs": [],
   "source": [
    "stop_times_df = pd.merge(\n",
    "    stop_times_df,\n",
    "    stops_df[['agency_raw_name', 'stop_id', 'stop_lat', 'stop_lon']],\n",
    "    how='left',\n",
    "    on =['agency_raw_name', 'stop_id']\n",
    ")\n",
    "\n",
    "stop_times_gdf = gpd.GeoDataFrame(\n",
    "    stop_times_df,\n",
    "    geometry = gpd.points_from_xy(stop_times_df['stop_lon'], stop_times_df['stop_lat']),\n",
    "    crs = routing_df.crs\n",
    ")\n",
    "\n",
    "stop_times_line_gdf = stop_times_gdf.sort_values(by=['stop_sequence']).groupby(\n",
    "    ['agency_raw_name', 'trip_id']\n",
    ")['geometry'].apply(\n",
    "    lambda x: LineString(x.tolist())\n",
    ")\n",
    "\n",
    "stop_times_line_gdf = gpd.GeoDataFrame(stop_times_line_gdf, geometry = 'geometry')\n",
    "\n",
    "stop_times_line_gdf = pd.merge(\n",
    "    stop_times_line_gdf,\n",
    "    trips_df[['agency_raw_name', 'trip_id', 'shape_id', 'route_id', 'direction_id', 'route_short_name', 'route_long_name']],\n",
    "    how='inner',\n",
    "    on =['agency_raw_name', 'trip_id']\n",
    ")\n",
    "\n",
    "stop_times_line_gdf['source'] = 'stop_times'"
   ]
  },
  {
   "cell_type": "markdown",
   "metadata": {},
   "source": [
    "shapes_df = pd.merge(\n",
    "    shapes_df,\n",
    "    trips_df[['trip_id', 'shape_id', 'route_id', 'direction_id', 'route_short_name', 'route_long_name']],\n",
    "    how = 'inner',\n",
    "    on = ['shape_id']\n",
    ")"
   ]
  },
  {
   "cell_type": "markdown",
   "metadata": {},
   "source": [
    "# create shapes from gtfs"
   ]
  },
  {
   "cell_type": "code",
   "execution_count": 52,
   "metadata": {},
   "outputs": [],
   "source": [
    "shapes_gdf = gpd.GeoDataFrame(\n",
    "    shapes_df,\n",
    "    geometry = gpd.points_from_xy(shapes_df['shape_pt_lon'], shapes_df['shape_pt_lat']),\n",
    "    crs = routing_df.crs\n",
    ")\n",
    "\n",
    "shapes_line_gdf = shapes_gdf.sort_values(by=['shape_pt_sequence']).groupby(['agency_raw_name' ,'shape_id'])['geometry'].apply(\n",
    "    lambda x: LineString(x.tolist())\n",
    ")\n",
    "\n",
    "shapes_line_gdf = gpd.GeoDataFrame(shapes_line_gdf, geometry = 'geometry')\n",
    "\n",
    "shapes_line_gdf = pd.merge(\n",
    "    shapes_line_gdf,\n",
    "    trips_df[['agency_raw_name', 'trip_id', 'shape_id', 'route_id', 'direction_id', 'route_short_name', 'route_long_name']],\n",
    "    how = 'inner',\n",
    "    on = ['agency_raw_name', 'shape_id']\n",
    ")\n",
    "\n",
    "shapes_line_gdf['source'] ='shapes'"
   ]
  },
  {
   "cell_type": "markdown",
   "metadata": {},
   "source": [
    "# combining the 3 data"
   ]
  },
  {
   "cell_type": "code",
   "execution_count": 53,
   "metadata": {},
   "outputs": [
    {
     "name": "stdout",
     "output_type": "stream",
     "text": [
      "Index(['u', 'v', 'agency_raw_name', 'shape_id', 'trip_id',\n",
      "       'fromIntersectionId', 'toIntersectionId', 'shstReferenceId',\n",
      "       'shstGeometryId', 'agency_shape_id', 'method', 'geometry', 'route_id',\n",
      "       'direction_id', 'route_short_name', 'route_long_name', 'source'],\n",
      "      dtype='object')\n",
      "Index(['agency_raw_name', 'trip_id', 'geometry', 'shape_id', 'route_id',\n",
      "       'direction_id', 'route_short_name', 'route_long_name', 'source'],\n",
      "      dtype='object')\n",
      "Index(['agency_raw_name', 'shape_id', 'geometry', 'trip_id', 'route_id',\n",
      "       'direction_id', 'route_short_name', 'route_long_name', 'source'],\n",
      "      dtype='object')\n"
     ]
    }
   ],
   "source": [
    "print(routing_df.columns)\n",
    "print(stop_times_line_gdf.columns)\n",
    "print(shapes_line_gdf.columns)"
   ]
  },
  {
   "cell_type": "code",
   "execution_count": 54,
   "metadata": {},
   "outputs": [
    {
     "data": {
      "text/plain": [
       "865"
      ]
     },
     "execution_count": 54,
     "metadata": {},
     "output_type": "execute_result"
    }
   ],
   "source": [
    "routing_df.trip_id.nunique()"
   ]
  },
  {
   "cell_type": "code",
   "execution_count": 55,
   "metadata": {},
   "outputs": [
    {
     "data": {
      "text/plain": [
       "865"
      ]
     },
     "execution_count": 55,
     "metadata": {},
     "output_type": "execute_result"
    }
   ],
   "source": [
    "stop_times_line_gdf.trip_id.nunique()"
   ]
  },
  {
   "cell_type": "code",
   "execution_count": 56,
   "metadata": {},
   "outputs": [
    {
     "data": {
      "text/plain": [
       "865"
      ]
     },
     "execution_count": 56,
     "metadata": {},
     "output_type": "execute_result"
    }
   ],
   "source": [
    "shapes_line_gdf.trip_id.nunique()"
   ]
  },
  {
   "cell_type": "code",
   "execution_count": 57,
   "metadata": {},
   "outputs": [
    {
     "data": {
      "text/plain": [
       "578"
      ]
     },
     "execution_count": 57,
     "metadata": {},
     "output_type": "execute_result"
    }
   ],
   "source": [
    "shapes_line_gdf.shape_id.nunique()"
   ]
  },
  {
   "cell_type": "code",
   "execution_count": 58,
   "metadata": {},
   "outputs": [
    {
     "data": {
      "text/plain": [
       "578"
      ]
     },
     "execution_count": 58,
     "metadata": {},
     "output_type": "execute_result"
    }
   ],
   "source": [
    "routing_df.shape_id.nunique()"
   ]
  },
  {
   "cell_type": "code",
   "execution_count": 59,
   "metadata": {},
   "outputs": [],
   "source": [
    "out_df = pd.concat(\n",
    "    [routing_df, stop_times_line_gdf, shapes_line_gdf],\n",
    "    sort = False,\n",
    "    ignore_index = True\n",
    ")"
   ]
  },
  {
   "cell_type": "markdown",
   "metadata": {},
   "source": [
    "# write out tableau data"
   ]
  },
  {
   "cell_type": "code",
   "execution_count": 60,
   "metadata": {},
   "outputs": [],
   "source": [
    "out_df.to_file(os.path.join(routing_result_dir, 'routing-reivew.geojson'), driver = 'GeoJSON')"
   ]
  },
  {
   "cell_type": "code",
   "execution_count": null,
   "metadata": {},
   "outputs": [],
   "source": []
  }
 ],
 "metadata": {
  "kernelspec": {
   "display_name": "Python 3 (ipykernel)",
   "language": "python",
   "name": "python3"
  },
  "language_info": {
   "codemirror_mode": {
    "name": "ipython",
    "version": 3
   },
   "file_extension": ".py",
   "mimetype": "text/x-python",
   "name": "python",
   "nbconvert_exporter": "python",
   "pygments_lexer": "ipython3",
   "version": "3.7.10"
  }
 },
 "nbformat": 4,
 "nbformat_minor": 2
}
