{
 "cells": [
  {
   "cell_type": "markdown",
   "metadata": {},
   "source": [
    "# 02 Make Network Version 01\n",
    "Step 2 applies project cards, makes Python changes, and writes out a pickle of the version 01 network"
   ]
  },
  {
   "cell_type": "code",
   "execution_count": 27,
   "metadata": {},
   "outputs": [],
   "source": [
    "import os\n",
    "import sys\n",
    "import yaml\n",
    "from subprocess import Popen\n",
    "import pickle\n",
    "\n",
    "import pandas as pd\n",
    "import geopandas as gpd\n",
    "import numpy as np\n",
    "\n",
    "\n",
    "from network_wrangler import RoadwayNetwork\n",
    "from network_wrangler import TransitNetwork\n",
    "from network_wrangler import WranglerLogger\n",
    "from network_wrangler import ProjectCard\n",
    "\n",
    "from lasso import ModelRoadwayNetwork\n",
    "from lasso import StandardTransit\n",
    "from lasso import Parameters"
   ]
  },
  {
   "cell_type": "code",
   "execution_count": 28,
   "metadata": {},
   "outputs": [
    {
     "name": "stdout",
     "output_type": "stream",
     "text": [
      "The autoreload extension is already loaded. To reload it, use:\n",
      "  %reload_ext autoreload\n"
     ]
    }
   ],
   "source": [
    "%load_ext autoreload\n",
    "%autoreload 2"
   ]
  },
  {
   "cell_type": "code",
   "execution_count": 29,
   "metadata": {},
   "outputs": [],
   "source": [
    "import logging\n",
    "logger = logging.getLogger(\"WranglerLogger\")\n",
    "logger.handlers[0].stream = sys.stdout\n",
    "logger.setLevel(logging.INFO)"
   ]
  },
  {
   "cell_type": "markdown",
   "metadata": {},
   "source": [
    "### Remote I/O and Parameters"
   ]
  },
  {
   "cell_type": "code",
   "execution_count": 30,
   "metadata": {},
   "outputs": [],
   "source": [
    "input_dir = os.path.join('/Users', 'wsp', 'Documents', 'GitHub', 'client_met_council_network')\n",
    "pickle_dir = os.path.join(input_dir, 'network_standard')\n",
    "output_dir = os.path.join(input_dir, 'network_standard')\n",
    "card_dir = os.path.join(input_dir, 'project_cards')\n",
    "lasso_dir = os.path.join('/Users', 'wsp', 'Documents', 'GitHub', 'lasso')"
   ]
  },
  {
   "cell_type": "code",
   "execution_count": 31,
   "metadata": {},
   "outputs": [
    {
     "name": "stdout",
     "output_type": "stream",
     "text": [
      "2020-08-24 20:21:52, INFO: Lasso base directory set as: /Users/wsp/Documents/GitHub/lasso\n",
      "2020-08-24 20:21:52, INFO: Lasso base directory set as: /Users/wsp/Documents/GitHub/lasso\n"
     ]
    }
   ],
   "source": [
    "parameters = Parameters(lasso_base_dir = lasso_dir)"
   ]
  },
  {
   "cell_type": "markdown",
   "metadata": {},
   "source": [
    "### Read Version 00 Scenario"
   ]
  },
  {
   "cell_type": "code",
   "execution_count": 32,
   "metadata": {},
   "outputs": [],
   "source": [
    "version_00_pickle_file_name = os.path.join(pickle_dir, 'working_scenario_00.pickle')\n",
    "v_01_scenario = pickle.load(open(version_00_pickle_file_name, 'rb'))"
   ]
  },
  {
   "cell_type": "markdown",
   "metadata": {},
   "source": [
    "### Apply Project Cards"
   ]
  },
  {
   "cell_type": "code",
   "execution_count": 33,
   "metadata": {},
   "outputs": [],
   "source": [
    "project_card_list = []\n",
    "card_01_file_name = os.path.join(card_dir, 'year_2018_corrections_assign_group_roadway_class.yml')\n",
    "card_02_file_name = os.path.join(card_dir, 'year_2018_corrections_assign_group.yml')\n",
    "\n",
    "card = ProjectCard.read(card_01_file_name, validate = False)\n",
    "project_card_list.append(card)\n",
    "\n",
    "card = ProjectCard.read(card_02_file_name, validate = False)\n",
    "project_card_list.append(card)"
   ]
  },
  {
   "cell_type": "code",
   "execution_count": 34,
   "metadata": {},
   "outputs": [
    {
     "name": "stdout",
     "output_type": "stream",
     "text": [
      "2020-08-24 20:22:12, INFO: Applying Correct Year 2018 Assignment Group and Roadway Class\n",
      "2020-08-24 20:22:12, INFO: Applying Correct Year 2018 Assignment Group and Roadway Class\n",
      "2020-08-24 20:22:12, INFO: Applying Correct Year 2018 Assignment Group and Roadway Class\n",
      "2020-08-24 20:22:12, INFO: Applying Correct Year 2018 Assignment Group and Roadway Class\n",
      "2020-08-24 20:22:12, INFO: Applying Project to Roadway Network: Correct Year 2018 Assignment Group and Roadway Class\n",
      "2020-08-24 20:22:12, INFO: Applying Project to Roadway Network: Correct Year 2018 Assignment Group and Roadway Class\n",
      "2020-08-24 20:22:12, INFO: Applying Correct Year 2018 Assignment Group\n",
      "2020-08-24 20:22:12, INFO: Applying Correct Year 2018 Assignment Group\n",
      "2020-08-24 20:22:12, INFO: Applying Correct Year 2018 Assignment Group\n",
      "2020-08-24 20:22:12, INFO: Applying Correct Year 2018 Assignment Group\n",
      "2020-08-24 20:22:12, INFO: Applying Project to Roadway Network: Correct Year 2018 Assignment Group\n",
      "2020-08-24 20:22:12, INFO: Applying Project to Roadway Network: Correct Year 2018 Assignment Group\n"
     ]
    },
    {
     "name": "stderr",
     "output_type": "stream",
     "text": [
      "/Users/wsp/opt/anaconda3/envs/lasso_x/lib/python3.7/site-packages/geopandas/geodataframe.py:853: SettingWithCopyWarning: \n",
      "A value is trying to be set on a copy of a slice from a DataFrame.\n",
      "Try using .loc[row_indexer,col_indexer] = value instead\n",
      "\n",
      "See the caveats in the documentation: https://pandas.pydata.org/pandas-docs/stable/user_guide/indexing.html#returning-a-view-versus-a-copy\n",
      "  super(GeoDataFrame, self).__setitem__(key, value)\n",
      "/Users/wsp/opt/anaconda3/envs/lasso_x/lib/python3.7/site-packages/pandas/core/indexing.py:1765: SettingWithCopyWarning: \n",
      "A value is trying to be set on a copy of a slice from a DataFrame.\n",
      "Try using .loc[row_indexer,col_indexer] = value instead\n",
      "\n",
      "See the caveats in the documentation: https://pandas.pydata.org/pandas-docs/stable/user_guide/indexing.html#returning-a-view-versus-a-copy\n",
      "  isetter(loc, value)\n"
     ]
    },
    {
     "name": "stdout",
     "output_type": "stream",
     "text": [
      "2020-08-24 20:22:15, INFO: Applying Correct Year 2018 Assignment Group\n",
      "2020-08-24 20:22:15, INFO: Applying Correct Year 2018 Assignment Group\n",
      "2020-08-24 20:22:15, INFO: Applying Project to Roadway Network: Correct Year 2018 Assignment Group\n",
      "2020-08-24 20:22:15, INFO: Applying Project to Roadway Network: Correct Year 2018 Assignment Group\n"
     ]
    },
    {
     "name": "stderr",
     "output_type": "stream",
     "text": [
      "/Users/wsp/opt/anaconda3/envs/lasso_x/lib/python3.7/site-packages/geopandas/geodataframe.py:853: SettingWithCopyWarning: \n",
      "A value is trying to be set on a copy of a slice from a DataFrame.\n",
      "Try using .loc[row_indexer,col_indexer] = value instead\n",
      "\n",
      "See the caveats in the documentation: https://pandas.pydata.org/pandas-docs/stable/user_guide/indexing.html#returning-a-view-versus-a-copy\n",
      "  super(GeoDataFrame, self).__setitem__(key, value)\n",
      "/Users/wsp/opt/anaconda3/envs/lasso_x/lib/python3.7/site-packages/pandas/core/indexing.py:1765: SettingWithCopyWarning: \n",
      "A value is trying to be set on a copy of a slice from a DataFrame.\n",
      "Try using .loc[row_indexer,col_indexer] = value instead\n",
      "\n",
      "See the caveats in the documentation: https://pandas.pydata.org/pandas-docs/stable/user_guide/indexing.html#returning-a-view-versus-a-copy\n",
      "  isetter(loc, value)\n"
     ]
    },
    {
     "name": "stdout",
     "output_type": "stream",
     "text": [
      "2020-08-24 20:22:18, INFO: Applying Correct Year 2018 Assignment Group\n",
      "2020-08-24 20:22:18, INFO: Applying Correct Year 2018 Assignment Group\n",
      "2020-08-24 20:22:18, INFO: Applying Project to Roadway Network: Correct Year 2018 Assignment Group\n",
      "2020-08-24 20:22:18, INFO: Applying Project to Roadway Network: Correct Year 2018 Assignment Group\n",
      "2020-08-24 20:22:18, INFO: Applying Correct Year 2018 Assignment Group\n",
      "2020-08-24 20:22:18, INFO: Applying Correct Year 2018 Assignment Group\n",
      "2020-08-24 20:22:18, INFO: Applying Project to Roadway Network: Correct Year 2018 Assignment Group\n",
      "2020-08-24 20:22:18, INFO: Applying Project to Roadway Network: Correct Year 2018 Assignment Group\n",
      "2020-08-24 20:22:18, INFO: Applying Correct Year 2018 Assignment Group\n",
      "2020-08-24 20:22:18, INFO: Applying Correct Year 2018 Assignment Group\n",
      "2020-08-24 20:22:18, INFO: Applying Project to Roadway Network: Correct Year 2018 Assignment Group\n",
      "2020-08-24 20:22:18, INFO: Applying Project to Roadway Network: Correct Year 2018 Assignment Group\n",
      "2020-08-24 20:22:18, INFO: Applying Correct Year 2018 Assignment Group\n",
      "2020-08-24 20:22:18, INFO: Applying Correct Year 2018 Assignment Group\n",
      "2020-08-24 20:22:18, INFO: Applying Project to Roadway Network: Correct Year 2018 Assignment Group\n",
      "2020-08-24 20:22:18, INFO: Applying Project to Roadway Network: Correct Year 2018 Assignment Group\n"
     ]
    },
    {
     "name": "stderr",
     "output_type": "stream",
     "text": [
      "/Users/wsp/opt/anaconda3/envs/lasso_x/lib/python3.7/site-packages/geopandas/geodataframe.py:853: SettingWithCopyWarning: \n",
      "A value is trying to be set on a copy of a slice from a DataFrame.\n",
      "Try using .loc[row_indexer,col_indexer] = value instead\n",
      "\n",
      "See the caveats in the documentation: https://pandas.pydata.org/pandas-docs/stable/user_guide/indexing.html#returning-a-view-versus-a-copy\n",
      "  super(GeoDataFrame, self).__setitem__(key, value)\n",
      "/Users/wsp/opt/anaconda3/envs/lasso_x/lib/python3.7/site-packages/pandas/core/indexing.py:1765: SettingWithCopyWarning: \n",
      "A value is trying to be set on a copy of a slice from a DataFrame.\n",
      "Try using .loc[row_indexer,col_indexer] = value instead\n",
      "\n",
      "See the caveats in the documentation: https://pandas.pydata.org/pandas-docs/stable/user_guide/indexing.html#returning-a-view-versus-a-copy\n",
      "  isetter(loc, value)\n",
      "/Users/wsp/opt/anaconda3/envs/lasso_x/lib/python3.7/site-packages/geopandas/geodataframe.py:853: SettingWithCopyWarning: \n",
      "A value is trying to be set on a copy of a slice from a DataFrame.\n",
      "Try using .loc[row_indexer,col_indexer] = value instead\n",
      "\n",
      "See the caveats in the documentation: https://pandas.pydata.org/pandas-docs/stable/user_guide/indexing.html#returning-a-view-versus-a-copy\n",
      "  super(GeoDataFrame, self).__setitem__(key, value)\n",
      "/Users/wsp/opt/anaconda3/envs/lasso_x/lib/python3.7/site-packages/pandas/core/indexing.py:1765: SettingWithCopyWarning: \n",
      "A value is trying to be set on a copy of a slice from a DataFrame.\n",
      "Try using .loc[row_indexer,col_indexer] = value instead\n",
      "\n",
      "See the caveats in the documentation: https://pandas.pydata.org/pandas-docs/stable/user_guide/indexing.html#returning-a-view-versus-a-copy\n",
      "  isetter(loc, value)\n",
      "/Users/wsp/opt/anaconda3/envs/lasso_x/lib/python3.7/site-packages/geopandas/geodataframe.py:853: SettingWithCopyWarning: \n",
      "A value is trying to be set on a copy of a slice from a DataFrame.\n",
      "Try using .loc[row_indexer,col_indexer] = value instead\n",
      "\n",
      "See the caveats in the documentation: https://pandas.pydata.org/pandas-docs/stable/user_guide/indexing.html#returning-a-view-versus-a-copy\n",
      "  super(GeoDataFrame, self).__setitem__(key, value)\n",
      "/Users/wsp/opt/anaconda3/envs/lasso_x/lib/python3.7/site-packages/pandas/core/indexing.py:1765: SettingWithCopyWarning: \n",
      "A value is trying to be set on a copy of a slice from a DataFrame.\n",
      "Try using .loc[row_indexer,col_indexer] = value instead\n",
      "\n",
      "See the caveats in the documentation: https://pandas.pydata.org/pandas-docs/stable/user_guide/indexing.html#returning-a-view-versus-a-copy\n",
      "  isetter(loc, value)\n",
      "/Users/wsp/opt/anaconda3/envs/lasso_x/lib/python3.7/site-packages/geopandas/geodataframe.py:853: SettingWithCopyWarning: \n",
      "A value is trying to be set on a copy of a slice from a DataFrame.\n",
      "Try using .loc[row_indexer,col_indexer] = value instead\n",
      "\n",
      "See the caveats in the documentation: https://pandas.pydata.org/pandas-docs/stable/user_guide/indexing.html#returning-a-view-versus-a-copy\n",
      "  super(GeoDataFrame, self).__setitem__(key, value)\n",
      "/Users/wsp/opt/anaconda3/envs/lasso_x/lib/python3.7/site-packages/pandas/core/indexing.py:1765: SettingWithCopyWarning: \n",
      "A value is trying to be set on a copy of a slice from a DataFrame.\n",
      "Try using .loc[row_indexer,col_indexer] = value instead\n",
      "\n",
      "See the caveats in the documentation: https://pandas.pydata.org/pandas-docs/stable/user_guide/indexing.html#returning-a-view-versus-a-copy\n",
      "  isetter(loc, value)\n"
     ]
    },
    {
     "name": "stdout",
     "output_type": "stream",
     "text": [
      "2020-08-24 20:22:18, INFO: Applying Correct Year 2018 Assignment Group\n",
      "2020-08-24 20:22:18, INFO: Applying Correct Year 2018 Assignment Group\n",
      "2020-08-24 20:22:18, INFO: Applying Project to Roadway Network: Correct Year 2018 Assignment Group\n",
      "2020-08-24 20:22:18, INFO: Applying Project to Roadway Network: Correct Year 2018 Assignment Group\n",
      "2020-08-24 20:22:18, INFO: Applying Correct Year 2018 Assignment Group\n",
      "2020-08-24 20:22:18, INFO: Applying Correct Year 2018 Assignment Group\n",
      "2020-08-24 20:22:18, INFO: Applying Project to Roadway Network: Correct Year 2018 Assignment Group\n",
      "2020-08-24 20:22:18, INFO: Applying Project to Roadway Network: Correct Year 2018 Assignment Group\n"
     ]
    },
    {
     "name": "stderr",
     "output_type": "stream",
     "text": [
      "/Users/wsp/opt/anaconda3/envs/lasso_x/lib/python3.7/site-packages/geopandas/geodataframe.py:853: SettingWithCopyWarning: \n",
      "A value is trying to be set on a copy of a slice from a DataFrame.\n",
      "Try using .loc[row_indexer,col_indexer] = value instead\n",
      "\n",
      "See the caveats in the documentation: https://pandas.pydata.org/pandas-docs/stable/user_guide/indexing.html#returning-a-view-versus-a-copy\n",
      "  super(GeoDataFrame, self).__setitem__(key, value)\n",
      "/Users/wsp/opt/anaconda3/envs/lasso_x/lib/python3.7/site-packages/pandas/core/indexing.py:1765: SettingWithCopyWarning: \n",
      "A value is trying to be set on a copy of a slice from a DataFrame.\n",
      "Try using .loc[row_indexer,col_indexer] = value instead\n",
      "\n",
      "See the caveats in the documentation: https://pandas.pydata.org/pandas-docs/stable/user_guide/indexing.html#returning-a-view-versus-a-copy\n",
      "  isetter(loc, value)\n",
      "/Users/wsp/opt/anaconda3/envs/lasso_x/lib/python3.7/site-packages/geopandas/geodataframe.py:853: SettingWithCopyWarning: \n",
      "A value is trying to be set on a copy of a slice from a DataFrame.\n",
      "Try using .loc[row_indexer,col_indexer] = value instead\n",
      "\n",
      "See the caveats in the documentation: https://pandas.pydata.org/pandas-docs/stable/user_guide/indexing.html#returning-a-view-versus-a-copy\n",
      "  super(GeoDataFrame, self).__setitem__(key, value)\n",
      "/Users/wsp/opt/anaconda3/envs/lasso_x/lib/python3.7/site-packages/pandas/core/indexing.py:1765: SettingWithCopyWarning: \n",
      "A value is trying to be set on a copy of a slice from a DataFrame.\n",
      "Try using .loc[row_indexer,col_indexer] = value instead\n",
      "\n",
      "See the caveats in the documentation: https://pandas.pydata.org/pandas-docs/stable/user_guide/indexing.html#returning-a-view-versus-a-copy\n",
      "  isetter(loc, value)\n"
     ]
    },
    {
     "name": "stdout",
     "output_type": "stream",
     "text": [
      "2020-08-24 20:22:18, INFO: Applying Correct Year 2018 Assignment Group\n",
      "2020-08-24 20:22:18, INFO: Applying Correct Year 2018 Assignment Group\n",
      "2020-08-24 20:22:18, INFO: Applying Project to Roadway Network: Correct Year 2018 Assignment Group\n",
      "2020-08-24 20:22:18, INFO: Applying Project to Roadway Network: Correct Year 2018 Assignment Group\n"
     ]
    },
    {
     "name": "stderr",
     "output_type": "stream",
     "text": [
      "/Users/wsp/opt/anaconda3/envs/lasso_x/lib/python3.7/site-packages/geopandas/geodataframe.py:853: SettingWithCopyWarning: \n",
      "A value is trying to be set on a copy of a slice from a DataFrame.\n",
      "Try using .loc[row_indexer,col_indexer] = value instead\n",
      "\n",
      "See the caveats in the documentation: https://pandas.pydata.org/pandas-docs/stable/user_guide/indexing.html#returning-a-view-versus-a-copy\n",
      "  super(GeoDataFrame, self).__setitem__(key, value)\n",
      "/Users/wsp/opt/anaconda3/envs/lasso_x/lib/python3.7/site-packages/pandas/core/indexing.py:1765: SettingWithCopyWarning: \n",
      "A value is trying to be set on a copy of a slice from a DataFrame.\n",
      "Try using .loc[row_indexer,col_indexer] = value instead\n",
      "\n",
      "See the caveats in the documentation: https://pandas.pydata.org/pandas-docs/stable/user_guide/indexing.html#returning-a-view-versus-a-copy\n",
      "  isetter(loc, value)\n"
     ]
    },
    {
     "name": "stdout",
     "output_type": "stream",
     "text": [
      "2020-08-24 20:22:19, INFO: Applying Correct Year 2018 Assignment Group\n",
      "2020-08-24 20:22:19, INFO: Applying Correct Year 2018 Assignment Group\n",
      "2020-08-24 20:22:19, INFO: Applying Project to Roadway Network: Correct Year 2018 Assignment Group\n",
      "2020-08-24 20:22:19, INFO: Applying Project to Roadway Network: Correct Year 2018 Assignment Group\n",
      "2020-08-24 20:22:19, INFO: Applying Correct Year 2018 Assignment Group\n",
      "2020-08-24 20:22:19, INFO: Applying Correct Year 2018 Assignment Group\n",
      "2020-08-24 20:22:19, INFO: Applying Project to Roadway Network: Correct Year 2018 Assignment Group\n",
      "2020-08-24 20:22:19, INFO: Applying Project to Roadway Network: Correct Year 2018 Assignment Group\n",
      "2020-08-24 20:22:19, INFO: Applying Correct Year 2018 Assignment Group\n",
      "2020-08-24 20:22:19, INFO: Applying Correct Year 2018 Assignment Group\n",
      "2020-08-24 20:22:19, INFO: Applying Project to Roadway Network: Correct Year 2018 Assignment Group\n",
      "2020-08-24 20:22:19, INFO: Applying Project to Roadway Network: Correct Year 2018 Assignment Group\n"
     ]
    },
    {
     "name": "stderr",
     "output_type": "stream",
     "text": [
      "/Users/wsp/opt/anaconda3/envs/lasso_x/lib/python3.7/site-packages/geopandas/geodataframe.py:853: SettingWithCopyWarning: \n",
      "A value is trying to be set on a copy of a slice from a DataFrame.\n",
      "Try using .loc[row_indexer,col_indexer] = value instead\n",
      "\n",
      "See the caveats in the documentation: https://pandas.pydata.org/pandas-docs/stable/user_guide/indexing.html#returning-a-view-versus-a-copy\n",
      "  super(GeoDataFrame, self).__setitem__(key, value)\n",
      "/Users/wsp/opt/anaconda3/envs/lasso_x/lib/python3.7/site-packages/pandas/core/indexing.py:1765: SettingWithCopyWarning: \n",
      "A value is trying to be set on a copy of a slice from a DataFrame.\n",
      "Try using .loc[row_indexer,col_indexer] = value instead\n",
      "\n",
      "See the caveats in the documentation: https://pandas.pydata.org/pandas-docs/stable/user_guide/indexing.html#returning-a-view-versus-a-copy\n",
      "  isetter(loc, value)\n",
      "/Users/wsp/opt/anaconda3/envs/lasso_x/lib/python3.7/site-packages/geopandas/geodataframe.py:853: SettingWithCopyWarning: \n",
      "A value is trying to be set on a copy of a slice from a DataFrame.\n",
      "Try using .loc[row_indexer,col_indexer] = value instead\n",
      "\n",
      "See the caveats in the documentation: https://pandas.pydata.org/pandas-docs/stable/user_guide/indexing.html#returning-a-view-versus-a-copy\n",
      "  super(GeoDataFrame, self).__setitem__(key, value)\n",
      "/Users/wsp/opt/anaconda3/envs/lasso_x/lib/python3.7/site-packages/pandas/core/indexing.py:1765: SettingWithCopyWarning: \n",
      "A value is trying to be set on a copy of a slice from a DataFrame.\n",
      "Try using .loc[row_indexer,col_indexer] = value instead\n",
      "\n",
      "See the caveats in the documentation: https://pandas.pydata.org/pandas-docs/stable/user_guide/indexing.html#returning-a-view-versus-a-copy\n",
      "  isetter(loc, value)\n",
      "/Users/wsp/opt/anaconda3/envs/lasso_x/lib/python3.7/site-packages/geopandas/geodataframe.py:853: SettingWithCopyWarning: \n",
      "A value is trying to be set on a copy of a slice from a DataFrame.\n",
      "Try using .loc[row_indexer,col_indexer] = value instead\n",
      "\n",
      "See the caveats in the documentation: https://pandas.pydata.org/pandas-docs/stable/user_guide/indexing.html#returning-a-view-versus-a-copy\n",
      "  super(GeoDataFrame, self).__setitem__(key, value)\n",
      "/Users/wsp/opt/anaconda3/envs/lasso_x/lib/python3.7/site-packages/pandas/core/indexing.py:1765: SettingWithCopyWarning: \n",
      "A value is trying to be set on a copy of a slice from a DataFrame.\n",
      "Try using .loc[row_indexer,col_indexer] = value instead\n",
      "\n",
      "See the caveats in the documentation: https://pandas.pydata.org/pandas-docs/stable/user_guide/indexing.html#returning-a-view-versus-a-copy\n",
      "  isetter(loc, value)\n"
     ]
    },
    {
     "name": "stdout",
     "output_type": "stream",
     "text": [
      "2020-08-24 20:22:19, INFO: Applying Correct Year 2018 Assignment Group\n",
      "2020-08-24 20:22:19, INFO: Applying Correct Year 2018 Assignment Group\n",
      "2020-08-24 20:22:19, INFO: Applying Project to Roadway Network: Correct Year 2018 Assignment Group\n",
      "2020-08-24 20:22:19, INFO: Applying Project to Roadway Network: Correct Year 2018 Assignment Group\n",
      "2020-08-24 20:22:19, INFO: Applying Correct Year 2018 Assignment Group\n",
      "2020-08-24 20:22:19, INFO: Applying Correct Year 2018 Assignment Group\n",
      "2020-08-24 20:22:19, INFO: Applying Project to Roadway Network: Correct Year 2018 Assignment Group\n",
      "2020-08-24 20:22:19, INFO: Applying Project to Roadway Network: Correct Year 2018 Assignment Group\n"
     ]
    },
    {
     "name": "stderr",
     "output_type": "stream",
     "text": [
      "/Users/wsp/opt/anaconda3/envs/lasso_x/lib/python3.7/site-packages/geopandas/geodataframe.py:853: SettingWithCopyWarning: \n",
      "A value is trying to be set on a copy of a slice from a DataFrame.\n",
      "Try using .loc[row_indexer,col_indexer] = value instead\n",
      "\n",
      "See the caveats in the documentation: https://pandas.pydata.org/pandas-docs/stable/user_guide/indexing.html#returning-a-view-versus-a-copy\n",
      "  super(GeoDataFrame, self).__setitem__(key, value)\n",
      "/Users/wsp/opt/anaconda3/envs/lasso_x/lib/python3.7/site-packages/pandas/core/indexing.py:1765: SettingWithCopyWarning: \n",
      "A value is trying to be set on a copy of a slice from a DataFrame.\n",
      "Try using .loc[row_indexer,col_indexer] = value instead\n",
      "\n",
      "See the caveats in the documentation: https://pandas.pydata.org/pandas-docs/stable/user_guide/indexing.html#returning-a-view-versus-a-copy\n",
      "  isetter(loc, value)\n",
      "/Users/wsp/opt/anaconda3/envs/lasso_x/lib/python3.7/site-packages/geopandas/geodataframe.py:853: SettingWithCopyWarning: \n",
      "A value is trying to be set on a copy of a slice from a DataFrame.\n",
      "Try using .loc[row_indexer,col_indexer] = value instead\n",
      "\n",
      "See the caveats in the documentation: https://pandas.pydata.org/pandas-docs/stable/user_guide/indexing.html#returning-a-view-versus-a-copy\n",
      "  super(GeoDataFrame, self).__setitem__(key, value)\n",
      "/Users/wsp/opt/anaconda3/envs/lasso_x/lib/python3.7/site-packages/pandas/core/indexing.py:1765: SettingWithCopyWarning: \n",
      "A value is trying to be set on a copy of a slice from a DataFrame.\n",
      "Try using .loc[row_indexer,col_indexer] = value instead\n",
      "\n",
      "See the caveats in the documentation: https://pandas.pydata.org/pandas-docs/stable/user_guide/indexing.html#returning-a-view-versus-a-copy\n",
      "  isetter(loc, value)\n"
     ]
    },
    {
     "name": "stdout",
     "output_type": "stream",
     "text": [
      "2020-08-24 20:22:19, INFO: Applying Correct Year 2018 Assignment Group\n",
      "2020-08-24 20:22:19, INFO: Applying Correct Year 2018 Assignment Group\n",
      "2020-08-24 20:22:19, INFO: Applying Project to Roadway Network: Correct Year 2018 Assignment Group\n",
      "2020-08-24 20:22:19, INFO: Applying Project to Roadway Network: Correct Year 2018 Assignment Group\n"
     ]
    },
    {
     "name": "stderr",
     "output_type": "stream",
     "text": [
      "/Users/wsp/opt/anaconda3/envs/lasso_x/lib/python3.7/site-packages/geopandas/geodataframe.py:853: SettingWithCopyWarning: \n",
      "A value is trying to be set on a copy of a slice from a DataFrame.\n",
      "Try using .loc[row_indexer,col_indexer] = value instead\n",
      "\n",
      "See the caveats in the documentation: https://pandas.pydata.org/pandas-docs/stable/user_guide/indexing.html#returning-a-view-versus-a-copy\n",
      "  super(GeoDataFrame, self).__setitem__(key, value)\n",
      "/Users/wsp/opt/anaconda3/envs/lasso_x/lib/python3.7/site-packages/pandas/core/indexing.py:1765: SettingWithCopyWarning: \n",
      "A value is trying to be set on a copy of a slice from a DataFrame.\n",
      "Try using .loc[row_indexer,col_indexer] = value instead\n",
      "\n",
      "See the caveats in the documentation: https://pandas.pydata.org/pandas-docs/stable/user_guide/indexing.html#returning-a-view-versus-a-copy\n",
      "  isetter(loc, value)\n"
     ]
    },
    {
     "name": "stdout",
     "output_type": "stream",
     "text": [
      "2020-08-24 20:22:22, INFO: Applying Correct Year 2018 Assignment Group\n",
      "2020-08-24 20:22:22, INFO: Applying Correct Year 2018 Assignment Group\n",
      "2020-08-24 20:22:22, INFO: Applying Project to Roadway Network: Correct Year 2018 Assignment Group\n",
      "2020-08-24 20:22:22, INFO: Applying Project to Roadway Network: Correct Year 2018 Assignment Group\n"
     ]
    },
    {
     "name": "stderr",
     "output_type": "stream",
     "text": [
      "/Users/wsp/opt/anaconda3/envs/lasso_x/lib/python3.7/site-packages/geopandas/geodataframe.py:853: SettingWithCopyWarning: \n",
      "A value is trying to be set on a copy of a slice from a DataFrame.\n",
      "Try using .loc[row_indexer,col_indexer] = value instead\n",
      "\n",
      "See the caveats in the documentation: https://pandas.pydata.org/pandas-docs/stable/user_guide/indexing.html#returning-a-view-versus-a-copy\n",
      "  super(GeoDataFrame, self).__setitem__(key, value)\n",
      "/Users/wsp/opt/anaconda3/envs/lasso_x/lib/python3.7/site-packages/pandas/core/indexing.py:1765: SettingWithCopyWarning: \n",
      "A value is trying to be set on a copy of a slice from a DataFrame.\n",
      "Try using .loc[row_indexer,col_indexer] = value instead\n",
      "\n",
      "See the caveats in the documentation: https://pandas.pydata.org/pandas-docs/stable/user_guide/indexing.html#returning-a-view-versus-a-copy\n",
      "  isetter(loc, value)\n"
     ]
    },
    {
     "name": "stdout",
     "output_type": "stream",
     "text": [
      "2020-08-24 20:22:25, INFO: Applying Correct Year 2018 Assignment Group\n",
      "2020-08-24 20:22:25, INFO: Applying Correct Year 2018 Assignment Group\n",
      "2020-08-24 20:22:25, INFO: Applying Project to Roadway Network: Correct Year 2018 Assignment Group\n",
      "2020-08-24 20:22:25, INFO: Applying Project to Roadway Network: Correct Year 2018 Assignment Group\n"
     ]
    },
    {
     "name": "stderr",
     "output_type": "stream",
     "text": [
      "/Users/wsp/opt/anaconda3/envs/lasso_x/lib/python3.7/site-packages/geopandas/geodataframe.py:853: SettingWithCopyWarning: \n",
      "A value is trying to be set on a copy of a slice from a DataFrame.\n",
      "Try using .loc[row_indexer,col_indexer] = value instead\n",
      "\n",
      "See the caveats in the documentation: https://pandas.pydata.org/pandas-docs/stable/user_guide/indexing.html#returning-a-view-versus-a-copy\n",
      "  super(GeoDataFrame, self).__setitem__(key, value)\n",
      "/Users/wsp/opt/anaconda3/envs/lasso_x/lib/python3.7/site-packages/pandas/core/indexing.py:1765: SettingWithCopyWarning: \n",
      "A value is trying to be set on a copy of a slice from a DataFrame.\n",
      "Try using .loc[row_indexer,col_indexer] = value instead\n",
      "\n",
      "See the caveats in the documentation: https://pandas.pydata.org/pandas-docs/stable/user_guide/indexing.html#returning-a-view-versus-a-copy\n",
      "  isetter(loc, value)\n"
     ]
    },
    {
     "name": "stdout",
     "output_type": "stream",
     "text": [
      "2020-08-24 20:22:28, INFO: Applying Correct Year 2018 Assignment Group\n",
      "2020-08-24 20:22:28, INFO: Applying Correct Year 2018 Assignment Group\n",
      "2020-08-24 20:22:28, INFO: Applying Project to Roadway Network: Correct Year 2018 Assignment Group\n",
      "2020-08-24 20:22:28, INFO: Applying Project to Roadway Network: Correct Year 2018 Assignment Group\n"
     ]
    },
    {
     "name": "stderr",
     "output_type": "stream",
     "text": [
      "/Users/wsp/opt/anaconda3/envs/lasso_x/lib/python3.7/site-packages/geopandas/geodataframe.py:853: SettingWithCopyWarning: \n",
      "A value is trying to be set on a copy of a slice from a DataFrame.\n",
      "Try using .loc[row_indexer,col_indexer] = value instead\n",
      "\n",
      "See the caveats in the documentation: https://pandas.pydata.org/pandas-docs/stable/user_guide/indexing.html#returning-a-view-versus-a-copy\n",
      "  super(GeoDataFrame, self).__setitem__(key, value)\n",
      "/Users/wsp/opt/anaconda3/envs/lasso_x/lib/python3.7/site-packages/pandas/core/indexing.py:1765: SettingWithCopyWarning: \n",
      "A value is trying to be set on a copy of a slice from a DataFrame.\n",
      "Try using .loc[row_indexer,col_indexer] = value instead\n",
      "\n",
      "See the caveats in the documentation: https://pandas.pydata.org/pandas-docs/stable/user_guide/indexing.html#returning-a-view-versus-a-copy\n",
      "  isetter(loc, value)\n"
     ]
    },
    {
     "name": "stdout",
     "output_type": "stream",
     "text": [
      "2020-08-24 20:22:31, INFO: Applying Correct Year 2018 Assignment Group\n",
      "2020-08-24 20:22:31, INFO: Applying Correct Year 2018 Assignment Group\n",
      "2020-08-24 20:22:31, INFO: Applying Project to Roadway Network: Correct Year 2018 Assignment Group\n",
      "2020-08-24 20:22:31, INFO: Applying Project to Roadway Network: Correct Year 2018 Assignment Group\n"
     ]
    },
    {
     "name": "stderr",
     "output_type": "stream",
     "text": [
      "/Users/wsp/opt/anaconda3/envs/lasso_x/lib/python3.7/site-packages/geopandas/geodataframe.py:853: SettingWithCopyWarning: \n",
      "A value is trying to be set on a copy of a slice from a DataFrame.\n",
      "Try using .loc[row_indexer,col_indexer] = value instead\n",
      "\n",
      "See the caveats in the documentation: https://pandas.pydata.org/pandas-docs/stable/user_guide/indexing.html#returning-a-view-versus-a-copy\n",
      "  super(GeoDataFrame, self).__setitem__(key, value)\n",
      "/Users/wsp/opt/anaconda3/envs/lasso_x/lib/python3.7/site-packages/pandas/core/indexing.py:1765: SettingWithCopyWarning: \n",
      "A value is trying to be set on a copy of a slice from a DataFrame.\n",
      "Try using .loc[row_indexer,col_indexer] = value instead\n",
      "\n",
      "See the caveats in the documentation: https://pandas.pydata.org/pandas-docs/stable/user_guide/indexing.html#returning-a-view-versus-a-copy\n",
      "  isetter(loc, value)\n"
     ]
    },
    {
     "name": "stdout",
     "output_type": "stream",
     "text": [
      "2020-08-24 20:22:34, INFO: Applying Correct Year 2018 Assignment Group\n",
      "2020-08-24 20:22:34, INFO: Applying Correct Year 2018 Assignment Group\n",
      "2020-08-24 20:22:34, INFO: Applying Project to Roadway Network: Correct Year 2018 Assignment Group\n",
      "2020-08-24 20:22:34, INFO: Applying Project to Roadway Network: Correct Year 2018 Assignment Group\n"
     ]
    },
    {
     "name": "stderr",
     "output_type": "stream",
     "text": [
      "/Users/wsp/opt/anaconda3/envs/lasso_x/lib/python3.7/site-packages/geopandas/geodataframe.py:853: SettingWithCopyWarning: \n",
      "A value is trying to be set on a copy of a slice from a DataFrame.\n",
      "Try using .loc[row_indexer,col_indexer] = value instead\n",
      "\n",
      "See the caveats in the documentation: https://pandas.pydata.org/pandas-docs/stable/user_guide/indexing.html#returning-a-view-versus-a-copy\n",
      "  super(GeoDataFrame, self).__setitem__(key, value)\n",
      "/Users/wsp/opt/anaconda3/envs/lasso_x/lib/python3.7/site-packages/pandas/core/indexing.py:1765: SettingWithCopyWarning: \n",
      "A value is trying to be set on a copy of a slice from a DataFrame.\n",
      "Try using .loc[row_indexer,col_indexer] = value instead\n",
      "\n",
      "See the caveats in the documentation: https://pandas.pydata.org/pandas-docs/stable/user_guide/indexing.html#returning-a-view-versus-a-copy\n",
      "  isetter(loc, value)\n"
     ]
    },
    {
     "name": "stdout",
     "output_type": "stream",
     "text": [
      "2020-08-24 20:22:37, INFO: Applying Correct Year 2018 Assignment Group\n",
      "2020-08-24 20:22:37, INFO: Applying Correct Year 2018 Assignment Group\n",
      "2020-08-24 20:22:37, INFO: Applying Project to Roadway Network: Correct Year 2018 Assignment Group\n",
      "2020-08-24 20:22:37, INFO: Applying Project to Roadway Network: Correct Year 2018 Assignment Group\n"
     ]
    },
    {
     "name": "stderr",
     "output_type": "stream",
     "text": [
      "/Users/wsp/opt/anaconda3/envs/lasso_x/lib/python3.7/site-packages/geopandas/geodataframe.py:853: SettingWithCopyWarning: \n",
      "A value is trying to be set on a copy of a slice from a DataFrame.\n",
      "Try using .loc[row_indexer,col_indexer] = value instead\n",
      "\n",
      "See the caveats in the documentation: https://pandas.pydata.org/pandas-docs/stable/user_guide/indexing.html#returning-a-view-versus-a-copy\n",
      "  super(GeoDataFrame, self).__setitem__(key, value)\n",
      "/Users/wsp/opt/anaconda3/envs/lasso_x/lib/python3.7/site-packages/pandas/core/indexing.py:1765: SettingWithCopyWarning: \n",
      "A value is trying to be set on a copy of a slice from a DataFrame.\n",
      "Try using .loc[row_indexer,col_indexer] = value instead\n",
      "\n",
      "See the caveats in the documentation: https://pandas.pydata.org/pandas-docs/stable/user_guide/indexing.html#returning-a-view-versus-a-copy\n",
      "  isetter(loc, value)\n"
     ]
    },
    {
     "name": "stdout",
     "output_type": "stream",
     "text": [
      "2020-08-24 20:22:40, INFO: Applying Correct Year 2018 Assignment Group\n",
      "2020-08-24 20:22:40, INFO: Applying Correct Year 2018 Assignment Group\n",
      "2020-08-24 20:22:40, INFO: Applying Project to Roadway Network: Correct Year 2018 Assignment Group\n",
      "2020-08-24 20:22:40, INFO: Applying Project to Roadway Network: Correct Year 2018 Assignment Group\n"
     ]
    },
    {
     "name": "stderr",
     "output_type": "stream",
     "text": [
      "/Users/wsp/opt/anaconda3/envs/lasso_x/lib/python3.7/site-packages/geopandas/geodataframe.py:853: SettingWithCopyWarning: \n",
      "A value is trying to be set on a copy of a slice from a DataFrame.\n",
      "Try using .loc[row_indexer,col_indexer] = value instead\n",
      "\n",
      "See the caveats in the documentation: https://pandas.pydata.org/pandas-docs/stable/user_guide/indexing.html#returning-a-view-versus-a-copy\n",
      "  super(GeoDataFrame, self).__setitem__(key, value)\n",
      "/Users/wsp/opt/anaconda3/envs/lasso_x/lib/python3.7/site-packages/pandas/core/indexing.py:1765: SettingWithCopyWarning: \n",
      "A value is trying to be set on a copy of a slice from a DataFrame.\n",
      "Try using .loc[row_indexer,col_indexer] = value instead\n",
      "\n",
      "See the caveats in the documentation: https://pandas.pydata.org/pandas-docs/stable/user_guide/indexing.html#returning-a-view-versus-a-copy\n",
      "  isetter(loc, value)\n"
     ]
    },
    {
     "name": "stdout",
     "output_type": "stream",
     "text": [
      "2020-08-24 20:22:43, INFO: Applying Correct Year 2018 Assignment Group\n",
      "2020-08-24 20:22:43, INFO: Applying Correct Year 2018 Assignment Group\n",
      "2020-08-24 20:22:43, INFO: Applying Project to Roadway Network: Correct Year 2018 Assignment Group\n",
      "2020-08-24 20:22:43, INFO: Applying Project to Roadway Network: Correct Year 2018 Assignment Group\n"
     ]
    },
    {
     "name": "stderr",
     "output_type": "stream",
     "text": [
      "/Users/wsp/opt/anaconda3/envs/lasso_x/lib/python3.7/site-packages/geopandas/geodataframe.py:853: SettingWithCopyWarning: \n",
      "A value is trying to be set on a copy of a slice from a DataFrame.\n",
      "Try using .loc[row_indexer,col_indexer] = value instead\n",
      "\n",
      "See the caveats in the documentation: https://pandas.pydata.org/pandas-docs/stable/user_guide/indexing.html#returning-a-view-versus-a-copy\n",
      "  super(GeoDataFrame, self).__setitem__(key, value)\n",
      "/Users/wsp/opt/anaconda3/envs/lasso_x/lib/python3.7/site-packages/pandas/core/indexing.py:1765: SettingWithCopyWarning: \n",
      "A value is trying to be set on a copy of a slice from a DataFrame.\n",
      "Try using .loc[row_indexer,col_indexer] = value instead\n",
      "\n",
      "See the caveats in the documentation: https://pandas.pydata.org/pandas-docs/stable/user_guide/indexing.html#returning-a-view-versus-a-copy\n",
      "  isetter(loc, value)\n"
     ]
    },
    {
     "name": "stdout",
     "output_type": "stream",
     "text": [
      "2020-08-24 20:22:46, INFO: Applying Correct Year 2018 Assignment Group\n",
      "2020-08-24 20:22:46, INFO: Applying Correct Year 2018 Assignment Group\n",
      "2020-08-24 20:22:46, INFO: Applying Project to Roadway Network: Correct Year 2018 Assignment Group\n",
      "2020-08-24 20:22:46, INFO: Applying Project to Roadway Network: Correct Year 2018 Assignment Group\n"
     ]
    },
    {
     "name": "stderr",
     "output_type": "stream",
     "text": [
      "/Users/wsp/opt/anaconda3/envs/lasso_x/lib/python3.7/site-packages/geopandas/geodataframe.py:853: SettingWithCopyWarning: \n",
      "A value is trying to be set on a copy of a slice from a DataFrame.\n",
      "Try using .loc[row_indexer,col_indexer] = value instead\n",
      "\n",
      "See the caveats in the documentation: https://pandas.pydata.org/pandas-docs/stable/user_guide/indexing.html#returning-a-view-versus-a-copy\n",
      "  super(GeoDataFrame, self).__setitem__(key, value)\n",
      "/Users/wsp/opt/anaconda3/envs/lasso_x/lib/python3.7/site-packages/pandas/core/indexing.py:1765: SettingWithCopyWarning: \n",
      "A value is trying to be set on a copy of a slice from a DataFrame.\n",
      "Try using .loc[row_indexer,col_indexer] = value instead\n",
      "\n",
      "See the caveats in the documentation: https://pandas.pydata.org/pandas-docs/stable/user_guide/indexing.html#returning-a-view-versus-a-copy\n",
      "  isetter(loc, value)\n"
     ]
    },
    {
     "name": "stdout",
     "output_type": "stream",
     "text": [
      "2020-08-24 20:22:49, INFO: Applying Correct Year 2018 Assignment Group\n",
      "2020-08-24 20:22:49, INFO: Applying Correct Year 2018 Assignment Group\n",
      "2020-08-24 20:22:49, INFO: Applying Project to Roadway Network: Correct Year 2018 Assignment Group\n",
      "2020-08-24 20:22:49, INFO: Applying Project to Roadway Network: Correct Year 2018 Assignment Group\n"
     ]
    },
    {
     "name": "stderr",
     "output_type": "stream",
     "text": [
      "/Users/wsp/opt/anaconda3/envs/lasso_x/lib/python3.7/site-packages/geopandas/geodataframe.py:853: SettingWithCopyWarning: \n",
      "A value is trying to be set on a copy of a slice from a DataFrame.\n",
      "Try using .loc[row_indexer,col_indexer] = value instead\n",
      "\n",
      "See the caveats in the documentation: https://pandas.pydata.org/pandas-docs/stable/user_guide/indexing.html#returning-a-view-versus-a-copy\n",
      "  super(GeoDataFrame, self).__setitem__(key, value)\n",
      "/Users/wsp/opt/anaconda3/envs/lasso_x/lib/python3.7/site-packages/pandas/core/indexing.py:1765: SettingWithCopyWarning: \n",
      "A value is trying to be set on a copy of a slice from a DataFrame.\n",
      "Try using .loc[row_indexer,col_indexer] = value instead\n",
      "\n",
      "See the caveats in the documentation: https://pandas.pydata.org/pandas-docs/stable/user_guide/indexing.html#returning-a-view-versus-a-copy\n",
      "  isetter(loc, value)\n"
     ]
    },
    {
     "name": "stdout",
     "output_type": "stream",
     "text": [
      "2020-08-24 20:22:52, INFO: Applying Correct Year 2018 Assignment Group\n",
      "2020-08-24 20:22:52, INFO: Applying Correct Year 2018 Assignment Group\n",
      "2020-08-24 20:22:52, INFO: Applying Project to Roadway Network: Correct Year 2018 Assignment Group\n",
      "2020-08-24 20:22:52, INFO: Applying Project to Roadway Network: Correct Year 2018 Assignment Group\n"
     ]
    },
    {
     "name": "stderr",
     "output_type": "stream",
     "text": [
      "/Users/wsp/opt/anaconda3/envs/lasso_x/lib/python3.7/site-packages/geopandas/geodataframe.py:853: SettingWithCopyWarning: \n",
      "A value is trying to be set on a copy of a slice from a DataFrame.\n",
      "Try using .loc[row_indexer,col_indexer] = value instead\n",
      "\n",
      "See the caveats in the documentation: https://pandas.pydata.org/pandas-docs/stable/user_guide/indexing.html#returning-a-view-versus-a-copy\n",
      "  super(GeoDataFrame, self).__setitem__(key, value)\n",
      "/Users/wsp/opt/anaconda3/envs/lasso_x/lib/python3.7/site-packages/pandas/core/indexing.py:1765: SettingWithCopyWarning: \n",
      "A value is trying to be set on a copy of a slice from a DataFrame.\n",
      "Try using .loc[row_indexer,col_indexer] = value instead\n",
      "\n",
      "See the caveats in the documentation: https://pandas.pydata.org/pandas-docs/stable/user_guide/indexing.html#returning-a-view-versus-a-copy\n",
      "  isetter(loc, value)\n"
     ]
    },
    {
     "name": "stdout",
     "output_type": "stream",
     "text": [
      "2020-08-24 20:22:53, INFO: Applying Correct Year 2018 Assignment Group\n",
      "2020-08-24 20:22:53, INFO: Applying Correct Year 2018 Assignment Group\n",
      "2020-08-24 20:22:53, INFO: Applying Project to Roadway Network: Correct Year 2018 Assignment Group\n",
      "2020-08-24 20:22:53, INFO: Applying Project to Roadway Network: Correct Year 2018 Assignment Group\n"
     ]
    },
    {
     "name": "stderr",
     "output_type": "stream",
     "text": [
      "/Users/wsp/opt/anaconda3/envs/lasso_x/lib/python3.7/site-packages/geopandas/geodataframe.py:853: SettingWithCopyWarning: \n",
      "A value is trying to be set on a copy of a slice from a DataFrame.\n",
      "Try using .loc[row_indexer,col_indexer] = value instead\n",
      "\n",
      "See the caveats in the documentation: https://pandas.pydata.org/pandas-docs/stable/user_guide/indexing.html#returning-a-view-versus-a-copy\n",
      "  super(GeoDataFrame, self).__setitem__(key, value)\n",
      "/Users/wsp/opt/anaconda3/envs/lasso_x/lib/python3.7/site-packages/pandas/core/indexing.py:1765: SettingWithCopyWarning: \n",
      "A value is trying to be set on a copy of a slice from a DataFrame.\n",
      "Try using .loc[row_indexer,col_indexer] = value instead\n",
      "\n",
      "See the caveats in the documentation: https://pandas.pydata.org/pandas-docs/stable/user_guide/indexing.html#returning-a-view-versus-a-copy\n",
      "  isetter(loc, value)\n"
     ]
    },
    {
     "name": "stdout",
     "output_type": "stream",
     "text": [
      "2020-08-24 20:22:53, INFO: Applying Correct Year 2018 Assignment Group\n",
      "2020-08-24 20:22:53, INFO: Applying Correct Year 2018 Assignment Group\n",
      "2020-08-24 20:22:53, INFO: Applying Project to Roadway Network: Correct Year 2018 Assignment Group\n",
      "2020-08-24 20:22:53, INFO: Applying Project to Roadway Network: Correct Year 2018 Assignment Group\n",
      "2020-08-24 20:22:53, INFO: Applying Correct Year 2018 Assignment Group\n",
      "2020-08-24 20:22:53, INFO: Applying Correct Year 2018 Assignment Group\n",
      "2020-08-24 20:22:53, INFO: Applying Project to Roadway Network: Correct Year 2018 Assignment Group\n",
      "2020-08-24 20:22:53, INFO: Applying Project to Roadway Network: Correct Year 2018 Assignment Group\n",
      "2020-08-24 20:22:53, INFO: Applying Correct Year 2018 Assignment Group\n",
      "2020-08-24 20:22:53, INFO: Applying Correct Year 2018 Assignment Group\n",
      "2020-08-24 20:22:53, INFO: Applying Project to Roadway Network: Correct Year 2018 Assignment Group\n",
      "2020-08-24 20:22:53, INFO: Applying Project to Roadway Network: Correct Year 2018 Assignment Group\n"
     ]
    },
    {
     "name": "stderr",
     "output_type": "stream",
     "text": [
      "/Users/wsp/opt/anaconda3/envs/lasso_x/lib/python3.7/site-packages/geopandas/geodataframe.py:853: SettingWithCopyWarning: \n",
      "A value is trying to be set on a copy of a slice from a DataFrame.\n",
      "Try using .loc[row_indexer,col_indexer] = value instead\n",
      "\n",
      "See the caveats in the documentation: https://pandas.pydata.org/pandas-docs/stable/user_guide/indexing.html#returning-a-view-versus-a-copy\n",
      "  super(GeoDataFrame, self).__setitem__(key, value)\n",
      "/Users/wsp/opt/anaconda3/envs/lasso_x/lib/python3.7/site-packages/pandas/core/indexing.py:1765: SettingWithCopyWarning: \n",
      "A value is trying to be set on a copy of a slice from a DataFrame.\n",
      "Try using .loc[row_indexer,col_indexer] = value instead\n",
      "\n",
      "See the caveats in the documentation: https://pandas.pydata.org/pandas-docs/stable/user_guide/indexing.html#returning-a-view-versus-a-copy\n",
      "  isetter(loc, value)\n",
      "/Users/wsp/opt/anaconda3/envs/lasso_x/lib/python3.7/site-packages/geopandas/geodataframe.py:853: SettingWithCopyWarning: \n",
      "A value is trying to be set on a copy of a slice from a DataFrame.\n",
      "Try using .loc[row_indexer,col_indexer] = value instead\n",
      "\n",
      "See the caveats in the documentation: https://pandas.pydata.org/pandas-docs/stable/user_guide/indexing.html#returning-a-view-versus-a-copy\n",
      "  super(GeoDataFrame, self).__setitem__(key, value)\n",
      "/Users/wsp/opt/anaconda3/envs/lasso_x/lib/python3.7/site-packages/pandas/core/indexing.py:1765: SettingWithCopyWarning: \n",
      "A value is trying to be set on a copy of a slice from a DataFrame.\n",
      "Try using .loc[row_indexer,col_indexer] = value instead\n",
      "\n",
      "See the caveats in the documentation: https://pandas.pydata.org/pandas-docs/stable/user_guide/indexing.html#returning-a-view-versus-a-copy\n",
      "  isetter(loc, value)\n",
      "/Users/wsp/opt/anaconda3/envs/lasso_x/lib/python3.7/site-packages/geopandas/geodataframe.py:853: SettingWithCopyWarning: \n",
      "A value is trying to be set on a copy of a slice from a DataFrame.\n",
      "Try using .loc[row_indexer,col_indexer] = value instead\n",
      "\n",
      "See the caveats in the documentation: https://pandas.pydata.org/pandas-docs/stable/user_guide/indexing.html#returning-a-view-versus-a-copy\n",
      "  super(GeoDataFrame, self).__setitem__(key, value)\n",
      "/Users/wsp/opt/anaconda3/envs/lasso_x/lib/python3.7/site-packages/pandas/core/indexing.py:1765: SettingWithCopyWarning: \n",
      "A value is trying to be set on a copy of a slice from a DataFrame.\n",
      "Try using .loc[row_indexer,col_indexer] = value instead\n",
      "\n",
      "See the caveats in the documentation: https://pandas.pydata.org/pandas-docs/stable/user_guide/indexing.html#returning-a-view-versus-a-copy\n",
      "  isetter(loc, value)\n",
      "/Users/wsp/opt/anaconda3/envs/lasso_x/lib/python3.7/site-packages/geopandas/geodataframe.py:853: SettingWithCopyWarning: \n",
      "A value is trying to be set on a copy of a slice from a DataFrame.\n",
      "Try using .loc[row_indexer,col_indexer] = value instead\n",
      "\n",
      "See the caveats in the documentation: https://pandas.pydata.org/pandas-docs/stable/user_guide/indexing.html#returning-a-view-versus-a-copy\n",
      "  super(GeoDataFrame, self).__setitem__(key, value)\n",
      "/Users/wsp/opt/anaconda3/envs/lasso_x/lib/python3.7/site-packages/pandas/core/indexing.py:1765: SettingWithCopyWarning: \n",
      "A value is trying to be set on a copy of a slice from a DataFrame.\n",
      "Try using .loc[row_indexer,col_indexer] = value instead\n",
      "\n",
      "See the caveats in the documentation: https://pandas.pydata.org/pandas-docs/stable/user_guide/indexing.html#returning-a-view-versus-a-copy\n",
      "  isetter(loc, value)\n"
     ]
    }
   ],
   "source": [
    "for project_card in project_card_list:\n",
    "    v_01_scenario.apply_project(project_card)"
   ]
  },
  {
   "cell_type": "code",
   "execution_count": 35,
   "metadata": {},
   "outputs": [
    {
     "data": {
      "text/plain": [
       "['Correct Year 2018 Assignment Group and Roadway Class',\n",
       " 'Correct Year 2018 Assignment Group']"
      ]
     },
     "execution_count": 35,
     "metadata": {},
     "output_type": "execute_result"
    }
   ],
   "source": [
    "v_01_scenario.applied_projects"
   ]
  },
  {
   "cell_type": "markdown",
   "metadata": {},
   "source": [
    "### Make Travel Model Networks (for manual fixes)"
   ]
  },
  {
   "cell_type": "code",
   "execution_count": 36,
   "metadata": {},
   "outputs": [
    {
     "name": "stdout",
     "output_type": "stream",
     "text": [
      "2020-08-24 20:23:48, INFO: Lasso base directory set as: /Users/wsp/Documents/GitHub/lasso\n",
      "2020-08-24 20:23:48, INFO: Lasso base directory set as: /Users/wsp/Documents/GitHub/lasso\n"
     ]
    }
   ],
   "source": [
    "m_net = ModelRoadwayNetwork.from_RoadwayNetwork(\n",
    "    roadway_network_object = v_01_scenario.road_net, \n",
    "    parameters = parameters)"
   ]
  },
  {
   "cell_type": "code",
   "execution_count": 37,
   "metadata": {},
   "outputs": [
    {
     "name": "stdout",
     "output_type": "stream",
     "text": [
      "2020-08-24 20:23:55, INFO: Renaming roadway attributes to be consistent with what metcouncil's model is expecting\n",
      "2020-08-24 20:23:55, INFO: Renaming roadway attributes to be consistent with what metcouncil's model is expecting\n",
      "2020-08-24 20:23:55, INFO: Didn't detect managed lanes in network.\n",
      "2020-08-24 20:23:55, INFO: Didn't detect managed lanes in network.\n",
      "2020-08-24 20:23:55, INFO: Creating calculated roadway variables.\n",
      "2020-08-24 20:23:55, INFO: Creating calculated roadway variables.\n",
      "2020-08-24 20:23:55, INFO: Calculating Area Type from Spatial Data and adding as roadway network variable: area_type\n",
      "2020-08-24 20:23:55, INFO: Calculating Area Type from Spatial Data and adding as roadway network variable: area_type\n"
     ]
    },
    {
     "name": "stderr",
     "output_type": "stream",
     "text": [
      "/Users/wsp/Documents/GitHub/Lasso/lasso/roadway.py:401: UserWarning: Geometry is in a geographic CRS. Results from 'centroid' are likely incorrect. Use 'GeoSeries.to_crs()' to re-project geometries to a projected CRS before this operation.\n",
      "\n",
      "  centroids_gdf[\"geometry\"] = centroids_gdf[\"geometry\"].centroid\n"
     ]
    },
    {
     "name": "stdout",
     "output_type": "stream",
     "text": [
      "2020-08-24 20:24:22, INFO: Finished Calculating Area Type from Spatial Data into variable: area_type\n",
      "2020-08-24 20:24:22, INFO: Finished Calculating Area Type from Spatial Data into variable: area_type\n",
      "2020-08-24 20:24:23, INFO: Adding roadway network variable for county using a spatial join with: /Users/wsp/Documents/GitHub/lasso/metcouncil_data/county/cb_2017_us_county_5m.shp\n",
      "2020-08-24 20:24:23, INFO: Adding roadway network variable for county using a spatial join with: /Users/wsp/Documents/GitHub/lasso/metcouncil_data/county/cb_2017_us_county_5m.shp\n"
     ]
    },
    {
     "name": "stderr",
     "output_type": "stream",
     "text": [
      "/Users/wsp/Documents/GitHub/Lasso/lasso/roadway.py:293: UserWarning: Geometry is in a geographic CRS. Results from 'centroid' are likely incorrect. Use 'GeoSeries.to_crs()' to re-project geometries to a projected CRS before this operation.\n",
      "\n",
      "  centroids_gdf[\"geometry\"] = centroids_gdf[\"geometry\"].centroid\n"
     ]
    },
    {
     "name": "stdout",
     "output_type": "stream",
     "text": [
      "2020-08-24 20:24:55, INFO: Finished Calculating county variable: county\n",
      "2020-08-24 20:24:55, INFO: Finished Calculating county variable: county\n",
      "2020-08-24 20:24:56, INFO: Calculating Centroid Connector and adding as roadway network variable: centroidconnect\n",
      "2020-08-24 20:24:56, INFO: Calculating Centroid Connector and adding as roadway network variable: centroidconnect\n",
      "2020-08-24 20:24:56, INFO: Finished calculating centroid connector variable: centroidconnect\n",
      "2020-08-24 20:24:56, INFO: Finished calculating centroid connector variable: centroidconnect\n",
      "2020-08-24 20:24:56, INFO: Calculating MPO as roadway network variable: mpo\n",
      "2020-08-24 20:24:56, INFO: Calculating MPO as roadway network variable: mpo\n",
      "2020-08-24 20:24:56, INFO: Finished calculating MPO variable: mpo\n",
      "2020-08-24 20:24:56, INFO: Finished calculating MPO variable: mpo\n",
      "2020-08-24 20:24:56, INFO: Calculating Assignment Group as network variable: assign_group\n",
      "2020-08-24 20:24:56, INFO: Calculating Assignment Group as network variable: assign_group\n",
      "2020-08-24 20:24:56, INFO: MPO Variable 'assign_group' updated for some links. Returning without overwriting for those links. Calculating for other links\n",
      "2020-08-24 20:24:56, INFO: MPO Variable 'assign_group' updated for some links. Returning without overwriting for those links. Calculating for other links\n",
      "2020-08-24 20:24:56, INFO: Centroid Connector Variable 'centroidconnect' already in network. Returning without overwriting.\n",
      "2020-08-24 20:24:56, INFO: Centroid Connector Variable 'centroidconnect' already in network. Returning without overwriting.\n",
      "2020-08-24 20:25:33, INFO: Finished calculating assignment group variable: assign_group\n",
      "2020-08-24 20:25:33, INFO: Finished calculating assignment group variable: assign_group\n",
      "2020-08-24 20:25:33, INFO: Calculating Roadway Class\n",
      "2020-08-24 20:25:33, INFO: Calculating Roadway Class\n",
      "2020-08-24 20:25:33, INFO: MPO Variable 'roadway_class' is calculated based on assign_group, it cannot be changed directly\n",
      "2020-08-24 20:25:33, INFO: MPO Variable 'roadway_class' is calculated based on assign_group, it cannot be changed directly\n",
      "2020-08-24 20:25:34, INFO: Finished calculating roadway class variable: roadway_class\n",
      "2020-08-24 20:25:34, INFO: Finished calculating roadway class variable: roadway_class\n",
      "2020-08-24 20:25:34, INFO: Adding Counts\n",
      "2020-08-24 20:25:34, INFO: Adding Counts\n",
      "2020-08-24 20:25:34, INFO: Adding Variable AADT using Shared Streets Reference from /Users/wsp/Documents/GitHub/lasso/metcouncil_data/count_mn/mn_count_ShSt_API_match.csv\n",
      "2020-08-24 20:25:34, INFO: Adding Variable AADT using Shared Streets Reference from /Users/wsp/Documents/GitHub/lasso/metcouncil_data/count_mn/mn_count_ShSt_API_match.csv\n",
      "2020-08-24 20:25:35, INFO: Added variable: AADT using Shared Streets Reference\n",
      "2020-08-24 20:25:35, INFO: Added variable: AADT using Shared Streets Reference\n",
      "2020-08-24 20:25:35, INFO: Adding Variable AADT using Shared Streets Reference from /Users/wsp/Documents/GitHub/lasso/metcouncil_data/Wisconsin_Lanes_Counts_Median/wi_count_ShSt_API_match.csv\n",
      "2020-08-24 20:25:35, INFO: Adding Variable AADT using Shared Streets Reference from /Users/wsp/Documents/GitHub/lasso/metcouncil_data/Wisconsin_Lanes_Counts_Median/wi_count_ShSt_API_match.csv\n",
      "2020-08-24 20:25:36, INFO: Added variable: AADT using Shared Streets Reference\n",
      "2020-08-24 20:25:36, INFO: Added variable: AADT using Shared Streets Reference\n",
      "2020-08-24 20:25:36, INFO: Finished adding counts variable: AADT\n",
      "2020-08-24 20:25:36, INFO: Finished adding counts variable: AADT\n",
      "2020-08-24 20:25:36, INFO: Finished creating ML lanes variable: ML_lanes\n",
      "2020-08-24 20:25:36, INFO: Finished creating ML lanes variable: ML_lanes\n",
      "2020-08-24 20:25:36, INFO: Finished creating hov corridor variable: segment_id\n",
      "2020-08-24 20:25:36, INFO: Finished creating hov corridor variable: segment_id\n",
      "2020-08-24 20:25:36, INFO: Finished creating managed variable: managed\n",
      "2020-08-24 20:25:36, INFO: Finished creating managed variable: managed\n",
      "2020-08-24 20:25:36, INFO: Overwriting existing distance Variable 'distance' already in network\n",
      "2020-08-24 20:25:36, INFO: Overwriting existing distance Variable 'distance' already in network\n",
      "2020-08-24 20:25:46, INFO: Calculating distance for centroid connectors\n",
      "2020-08-24 20:25:46, INFO: Calculating distance for centroid connectors\n",
      "2020-08-24 20:25:47, INFO: Filling nan for network from network wrangler\n",
      "2020-08-24 20:25:47, INFO: Filling nan for network from network wrangler\n",
      "2020-08-24 20:25:51, INFO: Splitting variables by time period and category\n",
      "2020-08-24 20:25:51, INFO: Splitting variables by time period and category\n",
      "2020-08-24 20:25:53, WARNING: Specified variable to split: ML_lanes not in network variables: Index(['model_link_id', 'osm_link_id', 'shstReferenceId', 'shstGeometryId',\n",
      "       'shape_id', 'u', 'v', 'A', 'B', 'locationReferences', 'distance',\n",
      "       'roadway', 'name', 'ref', 'bridge', 'tunnel', 'width', 'max_speed',\n",
      "       'bike_facility', 'drive_access', 'walk_access', 'bike_access',\n",
      "       'truck_access', 'bus_only', 'rail_only', 'lanes', 'access', 'price',\n",
      "       'trn_priority', 'ttime_assert', 'geometry', 'assign_group', 'area_type',\n",
      "       'county', 'centroidconnect', 'mpo', 'mrcc_id', 'ROUTE_SYS',\n",
      "       'roadway_class', 'AADT', 'count_AM', 'count_MD', 'count_PM', 'count_NT',\n",
      "       'count_daily', 'count_year', 'segment_id', 'managed', 'trn_priority_AM',\n",
      "       'trn_priority_MD', 'trn_priority_PM', 'trn_priority_NT',\n",
      "       'ttime_assert_AM', 'ttime_assert_MD', 'ttime_assert_PM',\n",
      "       'ttime_assert_NT', 'lanes_AM', 'lanes_MD', 'lanes_PM', 'lanes_NT'],\n",
      "      dtype='object'). Returning 0.\n",
      "2020-08-24 20:25:53, WARNING: Specified variable to split: ML_lanes not in network variables: Index(['model_link_id', 'osm_link_id', 'shstReferenceId', 'shstGeometryId',\n",
      "       'shape_id', 'u', 'v', 'A', 'B', 'locationReferences', 'distance',\n",
      "       'roadway', 'name', 'ref', 'bridge', 'tunnel', 'width', 'max_speed',\n",
      "       'bike_facility', 'drive_access', 'walk_access', 'bike_access',\n",
      "       'truck_access', 'bus_only', 'rail_only', 'lanes', 'access', 'price',\n",
      "       'trn_priority', 'ttime_assert', 'geometry', 'assign_group', 'area_type',\n",
      "       'county', 'centroidconnect', 'mpo', 'mrcc_id', 'ROUTE_SYS',\n",
      "       'roadway_class', 'AADT', 'count_AM', 'count_MD', 'count_PM', 'count_NT',\n",
      "       'count_daily', 'count_year', 'segment_id', 'managed', 'trn_priority_AM',\n",
      "       'trn_priority_MD', 'trn_priority_PM', 'trn_priority_NT',\n",
      "       'ttime_assert_AM', 'ttime_assert_MD', 'ttime_assert_PM',\n",
      "       'ttime_assert_NT', 'lanes_AM', 'lanes_MD', 'lanes_PM', 'lanes_NT'],\n",
      "      dtype='object'). Returning 0.\n",
      "2020-08-24 20:25:57, INFO: Converting variable type to MetCouncil standard\n",
      "2020-08-24 20:25:57, INFO: Converting variable type to MetCouncil standard\n",
      "2020-08-24 20:26:00, INFO: Setting Coordinate Reference System to EPSG 26915\n",
      "2020-08-24 20:26:00, INFO: Setting Coordinate Reference System to EPSG 26915\n"
     ]
    }
   ],
   "source": [
    "m_net.roadway_standard_to_met_council_network()"
   ]
  },
  {
   "cell_type": "markdown",
   "metadata": {},
   "source": [
    "## Apply Manual Python Changes"
   ]
  },
  {
   "cell_type": "markdown",
   "metadata": {},
   "source": [
    "#### Change 01\n",
    "ROADWAY=motorway\n",
    "in Areatypes 2, 3, 4, 5 -  assign_group= 1 (metered freeway)\n",
    "In other areatype -  assign_group = 2 (unmetered freeway)"
   ]
  },
  {
   "cell_type": "code",
   "execution_count": 38,
   "metadata": {},
   "outputs": [],
   "source": [
    "m_net.links_df.loc[(m_net.links_df['roadway'] == 'motorway') & (m_net.links_df['area_type'].isin([2,3,4,5])), 'assign_group'] = 1\n",
    "m_net.links_df.loc[(m_net.links_df['roadway'] == 'motorway') & (~m_net.links_df['area_type'].isin([2,3,4,5])), 'assign_group'] = 2"
   ]
  },
  {
   "cell_type": "markdown",
   "metadata": {},
   "source": [
    "#### Change 02\n",
    "ROADWAY = trunk\n",
    "Asgngrp=15 (expressway)"
   ]
  },
  {
   "cell_type": "code",
   "execution_count": 39,
   "metadata": {},
   "outputs": [],
   "source": [
    "m_net.links_df.loc[m_net.links_df['roadway'] == 'trunk', 'assign_group'] = 15"
   ]
  },
  {
   "cell_type": "markdown",
   "metadata": {},
   "source": [
    "#### Change 03\n",
    "Ramps - ROADWAY_CLASS=60 is supposed to equal Ramp, but finding some issues\n",
    " \n",
    "       ROADWAY_CLASS= 60 & ROADWAY='motorway'\n",
    "in Areatypes 2 3 4 5 - asgngrp 3 (metered ramp)\n",
    " \n",
    "In other area types -  asgngrp =4 (unmetered ramp)"
   ]
  },
  {
   "cell_type": "code",
   "execution_count": 40,
   "metadata": {},
   "outputs": [],
   "source": [
    "m_net.links_df.loc[(m_net.links_df['roadway_class'] == 60) & (m_net.links_df['roadway'] == 'motorway') & (m_net.links_df['area_type'].isin([2,3,4,5])), 'assign_group'] = 3\n",
    "m_net.links_df.loc[(m_net.links_df['roadway_class'] == 60) & (m_net.links_df['roadway'] == 'motorway') & (~m_net.links_df['area_type'].isin([2,3,4,5])), 'assign_group'] = 4"
   ]
  },
  {
   "cell_type": "markdown",
   "metadata": {},
   "source": [
    "#### Change 04\n",
    "ROADWAY_CLASS= 60 & ROADWAY='trunk'\n",
    "Appears to be slip ramps and acceleration lanes on expressways. Set as assign_group=4  (might need to revisit)"
   ]
  },
  {
   "cell_type": "code",
   "execution_count": 41,
   "metadata": {},
   "outputs": [],
   "source": [
    "m_net.links_df.loc[(m_net.links_df['roadway_class'] == 60) & (m_net.links_df['roadway'] == 'trunk'), 'assign_group'] = 4"
   ]
  },
  {
   "cell_type": "markdown",
   "metadata": {},
   "source": [
    "#### Change 05\n",
    "ROADWAY_CLASS= 60 & ROADWAY is not 'trunk' or 'motorway'\n",
    "These appear to be noise and should be tagged according to the crosswalk for ROADWAY not based on their “ramp” status"
   ]
  },
  {
   "cell_type": "code",
   "execution_count": 42,
   "metadata": {},
   "outputs": [],
   "source": [
    "def func(a, b, c, d):\n",
    "    if a == 60:\n",
    "        if b == 'trunk':\n",
    "            return d\n",
    "        if b == 'motorway':\n",
    "            return d\n",
    "        return c\n",
    "    return d\n",
    "\n",
    "\n",
    "df = pd.read_csv(parameters.osm_assgngrp_dict).rename(columns = {'assign_group': 'temp'})\n",
    "m_net.links_df = pd.merge(m_net.links_df, df, how = 'left', on = 'roadway')\n",
    "m_net.links_df['assign_group'] = np.vectorize(func)(\n",
    "    m_net.links_df.roadway_class, \n",
    "    m_net.links_df.roadway, \n",
    "    m_net.links_df.temp, \n",
    "    m_net.links_df.assign_group\n",
    ")\n",
    "m_net.links_df = m_net.links_df.drop(columns = ['temp'])"
   ]
  },
  {
   "cell_type": "markdown",
   "metadata": {},
   "source": [
    "#### Change 06\n",
    "Check for any links that are coded as assign_group = 3, 4 , 13 , 14 that don't attach to asgngrp= 1, 2, or 15 – ie ramps that don’t connect to freeway or expressway\n",
    "These should be flagged for review"
   ]
  },
  {
   "cell_type": "code",
   "execution_count": 43,
   "metadata": {},
   "outputs": [],
   "source": [
    "join_df = pd.merge(\n",
    "    m_net.links_df.loc[m_net.links_df['assign_group'].isin([3, 4, 13, 14])][['A', 'B', 'assign_group']], \n",
    "    m_net.links_df[['A', 'B', 'assign_group']].rename(columns = {'assign_group': 'next_assign_group'}),\n",
    "    how = 'left', \n",
    "    left_on = 'B',  \n",
    "    right_on = 'A',\n",
    ").drop(columns = ['A_y', 'B_y']).rename(columns = {'A_x': 'A', 'B_x': 'B'}).dropna().astype(int)\n",
    "\n",
    "join_df = pd.merge(\n",
    "    join_df,\n",
    "    m_net.links_df[['A', 'B', 'assign_group']].rename(columns = {'assign_group': 'prev_assign_group'}),\n",
    "    how = 'left',\n",
    "    left_on = 'A',\n",
    "    right_on = 'B',\n",
    ").drop(columns = ['A_y', 'B_y']).rename(columns = {'A_x': 'A', 'B_x': 'B'}).dropna().astype(int)\n",
    "\n",
    "def func(n, p):\n",
    "    if np.in1d(n, [1, 2, 15]):\n",
    "        return int(1)\n",
    "    elif np.in1d(p, [1, 2, 15]):\n",
    "        return int (1)\n",
    "    return int(0)\n",
    "\n",
    "join_df['ramp_flag'] = np.vectorize(func)(\n",
    "    join_df.next_assign_group.astype(int),\n",
    "    join_df.prev_assign_group.astype(int)\n",
    ")\n",
    "    \n",
    "join_back_df = join_df.groupby(['A','B'])['ramp_flag'].sum().reset_index()\n",
    "join_back_df['ramp_flag'] = np.where(join_back_df['ramp_flag'] > 0, 'Connected', 'Need to Examine')\n",
    "\n",
    "m_net.links_df = pd.merge(\n",
    "    m_net.links_df,\n",
    "    join_back_df,\n",
    "    how = 'left',\n",
    "    on = ['A', 'B'])\n"
   ]
  },
  {
   "cell_type": "markdown",
   "metadata": {},
   "source": [
    "#### Change 07\n",
    "Arterials – we have most of the major roads tagged as Assign_Group=6 (undivided artertial)\n",
    " \n",
    "Assign_group = 6 and there is no reverse value (no B-A) then set  Assign_group = 5 (divided arterial)\n",
    "If assign_group = 6 and Assign_group.R=6, then keep assign_group=6 (undivided arterial)"
   ]
  },
  {
   "cell_type": "code",
   "execution_count": 44,
   "metadata": {},
   "outputs": [],
   "source": [
    "reverse_df = m_net.links_df[['A', 'B', 'drive_access']].rename(columns = {'B': 'A', 'A': 'B'})\n",
    "reverse_df['reverse'] = 1\n",
    "reverse_df = reverse_df[reverse_df['drive_access'] == 1].drop(columns = ['drive_access'])\n",
    "\n",
    "join_df = pd.merge(\n",
    "    m_net.links_df.loc[m_net.links_df['assign_group'] == 6][['A', 'B', 'assign_group']],\n",
    "    reverse_df,\n",
    "    how = 'left',\n",
    "    on = ['A', 'B'],\n",
    ")\n",
    "\n",
    "join_df['update_assign_group'] = np.where(join_df['reverse'] == 1.0, 6, 5)\n",
    "\n",
    "m_net.links_df = pd.merge(\n",
    "     m_net.links_df,\n",
    "     join_df.drop(columns = ['reverse', 'assign_group']),\n",
    "     how = 'left',\n",
    "     on = ['A', 'B'],\n",
    ")\n",
    "\n",
    "m_net.links_df.loc[(m_net.links_df['assign_group'] == 6) & (m_net.links_df['update_assign_group'] == 5), 'assign_group'] = 5\n",
    "m_net.links_df = m_net.links_df.drop(columns = ['update_assign_group'])"
   ]
  },
  {
   "cell_type": "markdown",
   "metadata": {},
   "source": [
    "#### Change 08\n",
    "Lastly ,we need a new assign_Group value for local streets. We currently have all low level roads tagged as assign_group=7 (collector). This will give local streets too much capacity and too high of speed. I fear our assignment will be funky as the model loads too many trips onto these side streets with artificially high speeds.\n",
    " \n",
    "ROADWAY=residential , set to assign_group=40 (new assigngroup for residential)  "
   ]
  },
  {
   "cell_type": "code",
   "execution_count": 46,
   "metadata": {},
   "outputs": [],
   "source": [
    "# updated in lookup table, update again here for those that may be overwritten\n",
    "m_net.links_df.loc[m_net.links_df['roadway'] == 'residential', 'assign_group'] = 40"
   ]
  },
  {
   "cell_type": "markdown",
   "metadata": {},
   "source": [
    "## Write to Disk"
   ]
  },
  {
   "cell_type": "code",
   "execution_count": 47,
   "metadata": {},
   "outputs": [],
   "source": [
    "m_net.links_metcouncil_df = m_net.links_df"
   ]
  },
  {
   "cell_type": "markdown",
   "metadata": {},
   "source": [
    "### As Shapefile"
   ]
  },
  {
   "cell_type": "code",
   "execution_count": 48,
   "metadata": {},
   "outputs": [
    {
     "name": "stdout",
     "output_type": "stream",
     "text": [
      "2020-08-24 20:27:14, INFO: Writing Network as Shapefile\n",
      "2020-08-24 20:27:14, INFO: Writing Network as Shapefile\n",
      "2020-08-24 20:27:14, INFO: Renaming DBF Node Variables\n",
      "2020-08-24 20:27:14, INFO: Renaming DBF Node Variables\n",
      "2020-08-24 20:27:14, INFO: Renaming variables so that they are DBF-safe\n",
      "2020-08-24 20:27:14, INFO: Renaming variables so that they are DBF-safe\n",
      "2020-08-24 20:27:19, INFO: Renaming DBF Link Variables\n",
      "2020-08-24 20:27:19, INFO: Renaming DBF Link Variables\n",
      "2020-08-24 20:27:19, INFO: Renaming variables so that they are DBF-safe\n",
      "2020-08-24 20:27:19, INFO: Renaming variables so that they are DBF-safe\n",
      "2020-08-24 20:27:19, INFO: Writing Node Shapes:\n",
      " - /Users/wsp/Documents/GitHub/client_met_council_network/network_standard/v01_nodes.shp\n",
      "2020-08-24 20:27:19, INFO: Writing Node Shapes:\n",
      " - /Users/wsp/Documents/GitHub/client_met_council_network/network_standard/v01_nodes.shp\n",
      "2020-08-24 20:27:53, INFO: Writing Link Shapes:\n",
      " - /Users/wsp/Documents/GitHub/client_met_council_network/network_standard/v01_links.shp\n",
      "2020-08-24 20:27:53, INFO: Writing Link Shapes:\n",
      " - /Users/wsp/Documents/GitHub/client_met_council_network/network_standard/v01_links.shp\n"
     ]
    }
   ],
   "source": [
    "out_cols = ['model_link_id', 'shape_id', 'assign_group', 'drive_access', 'roadway_class',\n",
    "            'lanes_AM', 'lanes_MD', 'lanes_PM', 'lanes_NT',\n",
    "            'roadway', 'ramp_flag', 'geometry']\n",
    "\n",
    "m_net.write_roadway_as_shp(\n",
    "    output_link_shp = os.path.join(output_dir, 'v01_links.shp'),\n",
    "    output_node_shp = os.path.join(output_dir, 'v01_nodes.shp'),\n",
    "    link_output_variables = out_cols,\n",
    "    data_to_csv = False,\n",
    "    data_to_dbf = True,\n",
    ")"
   ]
  },
  {
   "cell_type": "markdown",
   "metadata": {},
   "source": [
    "### As Fixed width (for Cube)"
   ]
  },
  {
   "cell_type": "code",
   "execution_count": 23,
   "metadata": {},
   "outputs": [
    {
     "name": "stdout",
     "output_type": "stream",
     "text": [
      "2020-08-18 20:24:10, INFO: Starting fixed width convertion\n",
      "2020-08-18 20:24:10, INFO: Starting fixed width convertion\n",
      "2020-08-18 20:26:13, INFO: Writing out link database\n",
      "2020-08-18 20:26:13, INFO: Writing out link database\n",
      "2020-08-18 20:26:14, INFO: Writing out link header and width ----\n",
      "2020-08-18 20:26:14, INFO: Writing out link header and width ----\n",
      "2020-08-18 20:26:14, INFO: Starting fixed width convertion\n",
      "2020-08-18 20:26:14, INFO: Starting fixed width convertion\n",
      "2020-08-18 20:26:17, INFO: Writing out node database\n",
      "2020-08-18 20:26:17, INFO: Writing out node database\n",
      "2020-08-18 20:26:17, INFO: Writing out node header and width\n",
      "2020-08-18 20:26:17, INFO: Writing out node header and width\n"
     ]
    }
   ],
   "source": [
    "m_net.write_roadway_as_fixedwidth(\n",
    "    output_link_txt = os.path.join(output_dir, 'cube', 'v01_links.txt'),\n",
    "    output_node_txt = os.path.join(output_dir, 'cube', 'v01_nodes.txt'),\n",
    "    output_link_header_width_txt = os.path.join(output_dir, 'links_header_width.txt'),\n",
    "    output_node_header_width_txt = os.path.join(output_dir, 'nodes_header_width.txt'),\n",
    "    output_cube_network_script = os.path.join(output_dir, 'make_complete_network_from_fixed_width_file.s'),\n",
    ")"
   ]
  },
  {
   "cell_type": "code",
   "execution_count": 29,
   "metadata": {},
   "outputs": [
    {
     "name": "stdout",
     "output_type": "stream",
     "text": [
      "2020-08-22 20:20:13, INFO: Lasso base directory set as: /Users/wsp/Documents/GitHub/lasso\n",
      "2020-08-22 20:20:13, INFO: Lasso base directory set as: /Users/wsp/Documents/GitHub/lasso\n",
      "2020-08-22 20:20:13, INFO: Converting GTFS Standard Properties to MetCouncil's Cube Standard\n",
      "2020-08-22 20:20:13, INFO: Converting GTFS Standard Properties to MetCouncil's Cube Standard\n"
     ]
    }
   ],
   "source": [
    "standard_transit_net = StandardTransit.fromTransitNetwork(v_01_scenario.transit_net, parameters = parameters)\n",
    "standard_transit_net.write_as_cube_lin(outpath = os.path.join(output_dir, \"v01_transit.lin\"))"
   ]
  },
  {
   "cell_type": "markdown",
   "metadata": {},
   "source": [
    "### As Network Standard"
   ]
  },
  {
   "cell_type": "code",
   "execution_count": 33,
   "metadata": {},
   "outputs": [
    {
     "data": {
      "text/html": [
       "<div>\n",
       "<style scoped>\n",
       "    .dataframe tbody tr th:only-of-type {\n",
       "        vertical-align: middle;\n",
       "    }\n",
       "\n",
       "    .dataframe tbody tr th {\n",
       "        vertical-align: top;\n",
       "    }\n",
       "\n",
       "    .dataframe thead th {\n",
       "        text-align: right;\n",
       "    }\n",
       "</style>\n",
       "<table border=\"1\" class=\"dataframe\">\n",
       "  <thead>\n",
       "    <tr style=\"text-align: right;\">\n",
       "      <th></th>\n",
       "      <th>model_link_id</th>\n",
       "      <th>assign_group</th>\n",
       "    </tr>\n",
       "  </thead>\n",
       "  <tbody>\n",
       "    <tr>\n",
       "      <th>0</th>\n",
       "      <td>1</td>\n",
       "      <td>40</td>\n",
       "    </tr>\n",
       "    <tr>\n",
       "      <th>1</th>\n",
       "      <td>2</td>\n",
       "      <td>40</td>\n",
       "    </tr>\n",
       "    <tr>\n",
       "      <th>2</th>\n",
       "      <td>3</td>\n",
       "      <td>7</td>\n",
       "    </tr>\n",
       "    <tr>\n",
       "      <th>3</th>\n",
       "      <td>4</td>\n",
       "      <td>7</td>\n",
       "    </tr>\n",
       "    <tr>\n",
       "      <th>4</th>\n",
       "      <td>5</td>\n",
       "      <td>40</td>\n",
       "    </tr>\n",
       "  </tbody>\n",
       "</table>\n",
       "</div>"
      ],
      "text/plain": [
       "   model_link_id  assign_group\n",
       "0              1            40\n",
       "1              2            40\n",
       "2              3             7\n",
       "3              4             7\n",
       "4              5            40"
      ]
     },
     "execution_count": 33,
     "metadata": {},
     "output_type": "execute_result"
    }
   ],
   "source": [
    "karate = m_net.links_df[['model_link_id', 'assign_group']]\n",
    "karate.head()"
   ]
  },
  {
   "cell_type": "code",
   "execution_count": 38,
   "metadata": {},
   "outputs": [],
   "source": [
    "v_01_scenario.road_net.links_df = pd.merge(\n",
    "            v_01_scenario.road_net.links_df,\n",
    "            m_net.links_df[['model_link_id', 'assign_group']],\n",
    "            how = 'left',\n",
    "            on = 'model_link_id',\n",
    ")\n",
    "\n",
    "v_01_scenario.road_net.write(path = output_dir, filename = 'v01')"
   ]
  },
  {
   "cell_type": "code",
   "execution_count": 40,
   "metadata": {},
   "outputs": [
    {
     "data": {
      "text/plain": [
       "Index(['model_link_id', 'osm_link_id', 'shstReferenceId', 'shstGeometryId',\n",
       "       'shape_id', 'u', 'v', 'A', 'B', 'locationReferences', 'distance',\n",
       "       'roadway', 'name', 'ref', 'bridge', 'tunnel', 'width', 'max_speed',\n",
       "       'bike_facility', 'drive_access', 'walk_access', 'bike_access',\n",
       "       'truck_access', 'bus_only', 'rail_only', 'lanes', 'access', 'price',\n",
       "       'trn_priority', 'ttime_assert', 'geometry', 'roadway_class',\n",
       "       'area_type', 'county', 'centroidconnect', 'mpo', 'assign_group'],\n",
       "      dtype='object')"
      ]
     },
     "execution_count": 40,
     "metadata": {},
     "output_type": "execute_result"
    }
   ],
   "source": [
    "v_01_scenario.road_net.links_df.columns"
   ]
  },
  {
   "cell_type": "markdown",
   "metadata": {},
   "source": [
    "### Scenario as Pickle"
   ]
  },
  {
   "cell_type": "code",
   "execution_count": 41,
   "metadata": {},
   "outputs": [],
   "source": [
    "scenario_filename = os.path.join(pickle_dir, 'working_scenario_01.pickle')\n",
    "pickle.dump(v_01_scenario, open(scenario_filename, 'wb'))"
   ]
  },
  {
   "cell_type": "code",
   "execution_count": null,
   "metadata": {},
   "outputs": [],
   "source": []
  }
 ],
 "metadata": {
  "kernelspec": {
   "display_name": "Python 3",
   "language": "python",
   "name": "python3"
  },
  "language_info": {
   "codemirror_mode": {
    "name": "ipython",
    "version": 3
   },
   "file_extension": ".py",
   "mimetype": "text/x-python",
   "name": "python",
   "nbconvert_exporter": "python",
   "pygments_lexer": "ipython3",
   "version": "3.7.7"
  }
 },
 "nbformat": 4,
 "nbformat_minor": 4
}
