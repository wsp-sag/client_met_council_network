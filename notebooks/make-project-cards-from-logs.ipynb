{
 "cells": [
  {
   "cell_type": "markdown",
   "metadata": {},
   "source": [
    "# Make Project Cards from Log Files"
   ]
  },
  {
   "cell_type": "code",
   "execution_count": 23,
   "metadata": {},
   "outputs": [],
   "source": [
    "import os\n",
    "import sys\n",
    "import pickle\n",
    "\n",
    "from lasso import Project\n",
    "from lasso import CubeTransit\n",
    "from lasso import Parameters\n",
    "from network_wrangler import RoadwayNetwork\n",
    "from network_wrangler import WranglerLogger"
   ]
  },
  {
   "cell_type": "code",
   "execution_count": 8,
   "metadata": {},
   "outputs": [
    {
     "name": "stdout",
     "output_type": "stream",
     "text": [
      "The autoreload extension is already loaded. To reload it, use:\n",
      "  %reload_ext autoreload\n"
     ]
    }
   ],
   "source": [
    "%load_ext autoreload\n",
    "%autoreload 2"
   ]
  },
  {
   "cell_type": "code",
   "execution_count": 9,
   "metadata": {},
   "outputs": [],
   "source": [
    "import logging\n",
    "logger = logging.getLogger(\"WranglerLogger\")\n",
    "logger.handlers[0].stream = sys.stdout\n",
    "logger.setLevel(logging.INFO)"
   ]
  },
  {
   "cell_type": "markdown",
   "metadata": {},
   "source": [
    "## Remote I/O & Parameters"
   ]
  },
  {
   "cell_type": "code",
   "execution_count": 19,
   "metadata": {},
   "outputs": [],
   "source": [
    "root_dir = os.path.join('/Users', 'wsp', 'Documents', 'GitHub', 'client_met_council_network')\n",
    "card_dir = os.path.join(root_dir, 'project_cards')\n",
    "network_dir = os.path.join(root_dir, 'network_standard', 'pickles')\n",
    "log_file_dir = os.path.join(card_dir, 'log_files')\n",
    "lasso_dir = os.path.join('/Users', 'wsp', 'Documents', 'GitHub', 'lasso')"
   ]
  },
  {
   "cell_type": "code",
   "execution_count": 20,
   "metadata": {},
   "outputs": [
    {
     "name": "stdout",
     "output_type": "stream",
     "text": [
      "2020-08-03 13:52:44, INFO: Lasso base directory set as: /Users/wsp/Documents/GitHub/lasso\n",
      "2020-08-03 13:52:44, INFO: Lasso base directory set as: /Users/wsp/Documents/GitHub/lasso\n"
     ]
    }
   ],
   "source": [
    "parameters = Parameters(lasso_base_dir = lasso_dir)"
   ]
  },
  {
   "cell_type": "markdown",
   "metadata": {},
   "source": [
    "## Data Reads"
   ]
  },
  {
   "cell_type": "code",
   "execution_count": 14,
   "metadata": {},
   "outputs": [],
   "source": [
    "roadway_net_filename = os.path.join(network_dir, 'roadway_network.pickle')\n",
    "roadway_net = pickle.load(open(roadway_net_filename, 'rb'))"
   ]
  },
  {
   "cell_type": "markdown",
   "metadata": {},
   "source": [
    "## Make a Project Card"
   ]
  },
  {
   "cell_type": "code",
   "execution_count": 30,
   "metadata": {},
   "outputs": [
    {
     "data": {
      "text/plain": [
       "'/Users/wsp/Documents/GitHub/client_met_council_network/project_cards/localroadfix.yml'"
      ]
     },
     "execution_count": 30,
     "metadata": {},
     "output_type": "execute_result"
    }
   ],
   "source": [
    "log_file_name = os.path.join(log_file_dir, 'localroadfix.log')\n",
    "card_file_name = os.path.join(card_dir, os.path.split(os.path.splitext(log_file_name)[0]+'.yml')[1])\n",
    "card_file_name"
   ]
  },
  {
   "cell_type": "code",
   "execution_count": 31,
   "metadata": {},
   "outputs": [
    {
     "name": "stdout",
     "output_type": "stream",
     "text": [
      "2020-08-03 14:01:17, INFO: No base transit network.\n",
      "2020-08-03 14:01:17, INFO: No base transit network.\n",
      "2020-08-03 14:01:17, INFO: No transit changes given or processed.\n",
      "2020-08-03 14:01:17, INFO: No transit changes given or processed.\n",
      "2020-08-03 14:01:17, INFO: Reading logfile: /Users/wsp/Documents/GitHub/client_met_council_network/project_cards/log_files/localroadfix.log\n",
      "2020-08-03 14:01:17, INFO: Reading logfile: /Users/wsp/Documents/GitHub/client_met_council_network/project_cards/log_files/localroadfix.log\n",
      "2020-08-03 14:01:19, INFO: Processed 0 Node lines and 200 Link lines\n",
      "2020-08-03 14:01:19, INFO: Processed 0 Node lines and 200 Link lines\n",
      "2020-08-03 14:01:19, INFO: Lasso base directory set as: /Users/wsp/Documents/GitHub/lasso\n",
      "2020-08-03 14:01:19, INFO: Lasso base directory set as: /Users/wsp/Documents/GitHub/lasso\n",
      "2020-08-03 14:01:19, INFO: Evaluating compatibility between roadway network changes and base network. Not evaluating deletions.\n",
      "2020-08-03 14:01:19, INFO: Evaluating compatibility between roadway network changes and base network. Not evaluating deletions.\n",
      "2020-08-03 14:01:21, INFO: Evaluating project changes.\n",
      "2020-08-03 14:01:21, INFO: Evaluating project changes.\n",
      "2020-08-03 14:01:21, WARNING: The following attributes are specified in the changes but do not exist in the base network: ['OPERATION_final']\n",
      "2020-08-03 14:01:21, WARNING: The following attributes are specified in the changes but do not exist in the base network: ['OPERATION_final']\n",
      "2020-08-03 14:01:22, INFO: No link changes processed\n",
      "2020-08-03 14:01:22, INFO: No link changes processed\n"
     ]
    }
   ],
   "source": [
    "project = Project.create_project(\n",
    "    base_roadway_network = roadway_net,\n",
    "    roadway_log_file = log_file_name,\n",
    "    parameters = parameters,\n",
    ")"
   ]
  },
  {
   "cell_type": "code",
   "execution_count": 33,
   "metadata": {},
   "outputs": [
    {
     "data": {
      "text/html": [
       "<div>\n",
       "<style scoped>\n",
       "    .dataframe tbody tr th:only-of-type {\n",
       "        vertical-align: middle;\n",
       "    }\n",
       "\n",
       "    .dataframe tbody tr th {\n",
       "        vertical-align: top;\n",
       "    }\n",
       "\n",
       "    .dataframe thead th {\n",
       "        text-align: right;\n",
       "    }\n",
       "</style>\n",
       "<table border=\"1\" class=\"dataframe\">\n",
       "  <thead>\n",
       "    <tr style=\"text-align: right;\">\n",
       "      <th></th>\n",
       "      <th>OBJECT</th>\n",
       "      <th>OPERATION</th>\n",
       "      <th>GROUP</th>\n",
       "      <th>A</th>\n",
       "      <th>B</th>\n",
       "      <th>bike_access</th>\n",
       "      <th>bus_only</th>\n",
       "      <th>distance</th>\n",
       "      <th>drive_access</th>\n",
       "      <th>managed</th>\n",
       "      <th>...</th>\n",
       "      <th>access_MD</th>\n",
       "      <th>access_PM</th>\n",
       "      <th>access_NT</th>\n",
       "      <th>model_node_id</th>\n",
       "      <th>osm_node_id</th>\n",
       "      <th>drive_node</th>\n",
       "      <th>walk_node</th>\n",
       "      <th>bike_node</th>\n",
       "      <th>X</th>\n",
       "      <th>Y</th>\n",
       "    </tr>\n",
       "  </thead>\n",
       "  <tbody>\n",
       "    <tr>\n",
       "      <th>0</th>\n",
       "      <td>L</td>\n",
       "      <td>C</td>\n",
       "      <td>0</td>\n",
       "      <td>6599</td>\n",
       "      <td>70858</td>\n",
       "      <td>1</td>\n",
       "      <td>0</td>\n",
       "      <td>0.23751</td>\n",
       "      <td>1</td>\n",
       "      <td>0</td>\n",
       "      <td>...</td>\n",
       "      <td></td>\n",
       "      <td></td>\n",
       "      <td></td>\n",
       "      <td>NaN</td>\n",
       "      <td>NaN</td>\n",
       "      <td>NaN</td>\n",
       "      <td>NaN</td>\n",
       "      <td>NaN</td>\n",
       "      <td>NaN</td>\n",
       "      <td>NaN</td>\n",
       "    </tr>\n",
       "    <tr>\n",
       "      <th>1</th>\n",
       "      <td>L</td>\n",
       "      <td>C</td>\n",
       "      <td>0</td>\n",
       "      <td>7002</td>\n",
       "      <td>7006</td>\n",
       "      <td>1</td>\n",
       "      <td>0</td>\n",
       "      <td>0.95607</td>\n",
       "      <td>1</td>\n",
       "      <td>0</td>\n",
       "      <td>...</td>\n",
       "      <td></td>\n",
       "      <td></td>\n",
       "      <td></td>\n",
       "      <td>NaN</td>\n",
       "      <td>NaN</td>\n",
       "      <td>NaN</td>\n",
       "      <td>NaN</td>\n",
       "      <td>NaN</td>\n",
       "      <td>NaN</td>\n",
       "      <td>NaN</td>\n",
       "    </tr>\n",
       "    <tr>\n",
       "      <th>2</th>\n",
       "      <td>L</td>\n",
       "      <td>C</td>\n",
       "      <td>0</td>\n",
       "      <td>7002</td>\n",
       "      <td>11048</td>\n",
       "      <td>1</td>\n",
       "      <td>0</td>\n",
       "      <td>2.8369</td>\n",
       "      <td>1</td>\n",
       "      <td>0</td>\n",
       "      <td>...</td>\n",
       "      <td></td>\n",
       "      <td></td>\n",
       "      <td></td>\n",
       "      <td>NaN</td>\n",
       "      <td>NaN</td>\n",
       "      <td>NaN</td>\n",
       "      <td>NaN</td>\n",
       "      <td>NaN</td>\n",
       "      <td>NaN</td>\n",
       "      <td>NaN</td>\n",
       "    </tr>\n",
       "    <tr>\n",
       "      <th>3</th>\n",
       "      <td>L</td>\n",
       "      <td>C</td>\n",
       "      <td>0</td>\n",
       "      <td>7002</td>\n",
       "      <td>11072</td>\n",
       "      <td>1</td>\n",
       "      <td>0</td>\n",
       "      <td>0.87877</td>\n",
       "      <td>1</td>\n",
       "      <td>0</td>\n",
       "      <td>...</td>\n",
       "      <td></td>\n",
       "      <td></td>\n",
       "      <td></td>\n",
       "      <td>NaN</td>\n",
       "      <td>NaN</td>\n",
       "      <td>NaN</td>\n",
       "      <td>NaN</td>\n",
       "      <td>NaN</td>\n",
       "      <td>NaN</td>\n",
       "      <td>NaN</td>\n",
       "    </tr>\n",
       "    <tr>\n",
       "      <th>4</th>\n",
       "      <td>L</td>\n",
       "      <td>C</td>\n",
       "      <td>0</td>\n",
       "      <td>7006</td>\n",
       "      <td>7002</td>\n",
       "      <td>1</td>\n",
       "      <td>0</td>\n",
       "      <td>0.95607</td>\n",
       "      <td>1</td>\n",
       "      <td>0</td>\n",
       "      <td>...</td>\n",
       "      <td></td>\n",
       "      <td></td>\n",
       "      <td></td>\n",
       "      <td>NaN</td>\n",
       "      <td>NaN</td>\n",
       "      <td>NaN</td>\n",
       "      <td>NaN</td>\n",
       "      <td>NaN</td>\n",
       "      <td>NaN</td>\n",
       "      <td>NaN</td>\n",
       "    </tr>\n",
       "    <tr>\n",
       "      <th>5</th>\n",
       "      <td>L</td>\n",
       "      <td>C</td>\n",
       "      <td>0</td>\n",
       "      <td>7006</td>\n",
       "      <td>7013</td>\n",
       "      <td>1</td>\n",
       "      <td>0</td>\n",
       "      <td>0.36372</td>\n",
       "      <td>1</td>\n",
       "      <td>0</td>\n",
       "      <td>...</td>\n",
       "      <td></td>\n",
       "      <td></td>\n",
       "      <td></td>\n",
       "      <td>NaN</td>\n",
       "      <td>NaN</td>\n",
       "      <td>NaN</td>\n",
       "      <td>NaN</td>\n",
       "      <td>NaN</td>\n",
       "      <td>NaN</td>\n",
       "      <td>NaN</td>\n",
       "    </tr>\n",
       "    <tr>\n",
       "      <th>6</th>\n",
       "      <td>L</td>\n",
       "      <td>C</td>\n",
       "      <td>0</td>\n",
       "      <td>7006</td>\n",
       "      <td>11072</td>\n",
       "      <td>1</td>\n",
       "      <td>0</td>\n",
       "      <td>0.53726</td>\n",
       "      <td>1</td>\n",
       "      <td>0</td>\n",
       "      <td>...</td>\n",
       "      <td></td>\n",
       "      <td></td>\n",
       "      <td></td>\n",
       "      <td>NaN</td>\n",
       "      <td>NaN</td>\n",
       "      <td>NaN</td>\n",
       "      <td>NaN</td>\n",
       "      <td>NaN</td>\n",
       "      <td>NaN</td>\n",
       "      <td>NaN</td>\n",
       "    </tr>\n",
       "    <tr>\n",
       "      <th>7</th>\n",
       "      <td>L</td>\n",
       "      <td>C</td>\n",
       "      <td>0</td>\n",
       "      <td>7013</td>\n",
       "      <td>7006</td>\n",
       "      <td>1</td>\n",
       "      <td>0</td>\n",
       "      <td>0.36372</td>\n",
       "      <td>1</td>\n",
       "      <td>0</td>\n",
       "      <td>...</td>\n",
       "      <td></td>\n",
       "      <td></td>\n",
       "      <td></td>\n",
       "      <td>NaN</td>\n",
       "      <td>NaN</td>\n",
       "      <td>NaN</td>\n",
       "      <td>NaN</td>\n",
       "      <td>NaN</td>\n",
       "      <td>NaN</td>\n",
       "      <td>NaN</td>\n",
       "    </tr>\n",
       "    <tr>\n",
       "      <th>8</th>\n",
       "      <td>L</td>\n",
       "      <td>C</td>\n",
       "      <td>0</td>\n",
       "      <td>7013</td>\n",
       "      <td>11730</td>\n",
       "      <td>1</td>\n",
       "      <td>0</td>\n",
       "      <td>0.41162</td>\n",
       "      <td>1</td>\n",
       "      <td>0</td>\n",
       "      <td>...</td>\n",
       "      <td></td>\n",
       "      <td></td>\n",
       "      <td></td>\n",
       "      <td>NaN</td>\n",
       "      <td>NaN</td>\n",
       "      <td>NaN</td>\n",
       "      <td>NaN</td>\n",
       "      <td>NaN</td>\n",
       "      <td>NaN</td>\n",
       "      <td>NaN</td>\n",
       "    </tr>\n",
       "    <tr>\n",
       "      <th>9</th>\n",
       "      <td>L</td>\n",
       "      <td>C</td>\n",
       "      <td>0</td>\n",
       "      <td>7013</td>\n",
       "      <td>24326</td>\n",
       "      <td>1</td>\n",
       "      <td>0</td>\n",
       "      <td>1.64466</td>\n",
       "      <td>1</td>\n",
       "      <td>0</td>\n",
       "      <td>...</td>\n",
       "      <td></td>\n",
       "      <td></td>\n",
       "      <td></td>\n",
       "      <td>NaN</td>\n",
       "      <td>NaN</td>\n",
       "      <td>NaN</td>\n",
       "      <td>NaN</td>\n",
       "      <td>NaN</td>\n",
       "      <td>NaN</td>\n",
       "      <td>NaN</td>\n",
       "    </tr>\n",
       "  </tbody>\n",
       "</table>\n",
       "<p>10 rows × 74 columns</p>\n",
       "</div>"
      ],
      "text/plain": [
       "  OBJECT OPERATION GROUP     A      B bike_access bus_only distance  \\\n",
       "0      L         C     0  6599  70858           1        0  0.23751   \n",
       "1      L         C     0  7002   7006           1        0  0.95607   \n",
       "2      L         C     0  7002  11048           1        0   2.8369   \n",
       "3      L         C     0  7002  11072           1        0  0.87877   \n",
       "4      L         C     0  7006   7002           1        0  0.95607   \n",
       "5      L         C     0  7006   7013           1        0  0.36372   \n",
       "6      L         C     0  7006  11072           1        0  0.53726   \n",
       "7      L         C     0  7013   7006           1        0  0.36372   \n",
       "8      L         C     0  7013  11730           1        0  0.41162   \n",
       "9      L         C     0  7013  24326           1        0  1.64466   \n",
       "\n",
       "  drive_access managed  ... access_MD access_PM access_NT model_node_id  \\\n",
       "0            1       0  ...                                         NaN   \n",
       "1            1       0  ...                                         NaN   \n",
       "2            1       0  ...                                         NaN   \n",
       "3            1       0  ...                                         NaN   \n",
       "4            1       0  ...                                         NaN   \n",
       "5            1       0  ...                                         NaN   \n",
       "6            1       0  ...                                         NaN   \n",
       "7            1       0  ...                                         NaN   \n",
       "8            1       0  ...                                         NaN   \n",
       "9            1       0  ...                                         NaN   \n",
       "\n",
       "  osm_node_id drive_node walk_node bike_node    X    Y  \n",
       "0         NaN        NaN       NaN       NaN  NaN  NaN  \n",
       "1         NaN        NaN       NaN       NaN  NaN  NaN  \n",
       "2         NaN        NaN       NaN       NaN  NaN  NaN  \n",
       "3         NaN        NaN       NaN       NaN  NaN  NaN  \n",
       "4         NaN        NaN       NaN       NaN  NaN  NaN  \n",
       "5         NaN        NaN       NaN       NaN  NaN  NaN  \n",
       "6         NaN        NaN       NaN       NaN  NaN  NaN  \n",
       "7         NaN        NaN       NaN       NaN  NaN  NaN  \n",
       "8         NaN        NaN       NaN       NaN  NaN  NaN  \n",
       "9         NaN        NaN       NaN       NaN  NaN  NaN  \n",
       "\n",
       "[10 rows x 74 columns]"
      ]
     },
     "execution_count": 33,
     "metadata": {},
     "output_type": "execute_result"
    }
   ],
   "source": [
    "project.roadway_changes[0:10]"
   ]
  },
  {
   "cell_type": "code",
   "execution_count": 34,
   "metadata": {},
   "outputs": [
    {
     "data": {
      "text/plain": [
       "Index(['OBJECT', 'OPERATION', 'GROUP', 'A', 'B', 'bike_access', 'bus_only',\n",
       "       'distance', 'drive_access', 'managed', 'model_link_id', 'name',\n",
       "       'rail_only', 'roadway', 'segment_id', 'shstGeometryId', 'truck_access',\n",
       "       'walk_access', 'area_type', 'county', 'centroidconnect', 'mpo',\n",
       "       'assign_group', 'roadway_class', 'AADT', 'count_AM', 'count_MD',\n",
       "       'count_PM', 'count_NT', 'count_daily', 'count_year', 'trn_priority_AM',\n",
       "       'trn_priority_MD', 'trn_priority_PM', 'trn_priority_NT',\n",
       "       'ttime_assert_AM', 'ttime_assert_MD', 'ttime_assert_PM',\n",
       "       'ttime_assert_NT', 'lanes_AM', 'lanes_MD', 'lanes_PM', 'lanes_NT',\n",
       "       'ML_lanes_AM', 'ML_lanes_MD', 'ML_lanes_PM', 'ML_lanes_NT',\n",
       "       'price_sov_AM', 'price_hov2_AM', 'price_hov3_AM', 'price_truck_AM',\n",
       "       'price_sov_MD', 'price_hov2_MD', 'price_hov3_MD', 'price_truck_MD',\n",
       "       'price_sov_PM', 'price_hov2_PM', 'price_hov3_PM', 'price_truck_PM',\n",
       "       'price_sov_NT', 'price_hov2_NT', 'price_hov3_NT', 'price_truck_NT',\n",
       "       'access_AM', 'access_MD', 'access_PM', 'access_NT', 'model_node_id',\n",
       "       'osm_node_id', 'drive_node', 'walk_node', 'bike_node', 'X', 'Y'],\n",
       "      dtype='object')"
      ]
     },
     "execution_count": 34,
     "metadata": {},
     "output_type": "execute_result"
    }
   ],
   "source": [
    "project.roadway_changes.columns"
   ]
  },
  {
   "cell_type": "code",
   "execution_count": 35,
   "metadata": {},
   "outputs": [
    {
     "data": {
      "text/plain": [
       "{'project': 'localroadfix',\n",
       " 'changes': [{'category': 'Add New Roadway', 'links': [], 'nodes': []}]}"
      ]
     },
     "execution_count": 35,
     "metadata": {},
     "output_type": "execute_result"
    }
   ],
   "source": [
    "project.card_data"
   ]
  },
  {
   "cell_type": "code",
   "execution_count": 32,
   "metadata": {},
   "outputs": [
    {
     "name": "stdout",
     "output_type": "stream",
     "text": [
      "2020-08-03 14:04:27, INFO: Wrote project card to: /Users/wsp/Documents/GitHub/client_met_council_network/project_cards/localroadfix.yml\n",
      "2020-08-03 14:04:27, INFO: Wrote project card to: /Users/wsp/Documents/GitHub/client_met_council_network/project_cards/localroadfix.yml\n"
     ]
    }
   ],
   "source": [
    "project.write_project_card(card_file_name)"
   ]
  },
  {
   "cell_type": "code",
   "execution_count": null,
   "metadata": {},
   "outputs": [],
   "source": []
  },
  {
   "cell_type": "code",
   "execution_count": null,
   "metadata": {},
   "outputs": [],
   "source": []
  }
 ],
 "metadata": {
  "kernelspec": {
   "display_name": "lasso_x",
   "language": "python",
   "name": "lasso_x"
  },
  "language_info": {
   "codemirror_mode": {
    "name": "ipython",
    "version": 3
   },
   "file_extension": ".py",
   "mimetype": "text/x-python",
   "name": "python",
   "nbconvert_exporter": "python",
   "pygments_lexer": "ipython3",
   "version": "3.7.7"
  }
 },
 "nbformat": 4,
 "nbformat_minor": 4
}
