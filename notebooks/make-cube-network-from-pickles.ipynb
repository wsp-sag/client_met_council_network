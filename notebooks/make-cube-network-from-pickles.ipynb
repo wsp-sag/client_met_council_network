{
 "cells": [
  {
   "cell_type": "markdown",
   "metadata": {},
   "source": [
    "# Make Cube Network"
   ]
  },
  {
   "cell_type": "code",
   "execution_count": 14,
   "metadata": {},
   "outputs": [],
   "source": [
    "import os\n",
    "import sys\n",
    "import yaml\n",
    "import pickle\n",
    "from subprocess import Popen\n",
    "\n",
    "import pandas as pd\n",
    "\n",
    "from network_wrangler import RoadwayNetwork\n",
    "from network_wrangler import TransitNetwork\n",
    "from network_wrangler import WranglerLogger\n",
    "\n",
    "from lasso import ModelRoadwayNetwork\n",
    "from lasso import StandardTransit\n",
    "from lasso import Parameters"
   ]
  },
  {
   "cell_type": "code",
   "execution_count": 10,
   "metadata": {},
   "outputs": [
    {
     "name": "stdout",
     "output_type": "stream",
     "text": [
      "The autoreload extension is already loaded. To reload it, use:\n",
      "  %reload_ext autoreload\n"
     ]
    }
   ],
   "source": [
    "%load_ext autoreload\n",
    "%autoreload 2"
   ]
  },
  {
   "cell_type": "code",
   "execution_count": 11,
   "metadata": {},
   "outputs": [],
   "source": [
    "import logging\n",
    "logger = logging.getLogger(\"WranglerLogger\")\n",
    "logger.handlers[0].stream = sys.stdout\n",
    "logger.setLevel(logging.INFO)"
   ]
  },
  {
   "cell_type": "markdown",
   "metadata": {},
   "source": [
    "## Remote I/O and Parameters"
   ]
  },
  {
   "cell_type": "code",
   "execution_count": 12,
   "metadata": {},
   "outputs": [],
   "source": [
    "input_dir = os.path.join('/Users', 'wsp', 'Documents', 'GitHub', 'network_wrangler', 'examples', 'stpaul', 'pickles')\n",
    "output_dir = os.path.join('/Users', 'wsp', 'Documents', 'GitHub', 'network_wrangler', 'examples', 'stpaul', 'cube')\n",
    "lasso_dir = os.path.join('/Users', 'wsp', 'Documents', 'GitHub', 'lasso')"
   ]
  },
  {
   "cell_type": "code",
   "execution_count": 13,
   "metadata": {},
   "outputs": [
    {
     "name": "stdout",
     "output_type": "stream",
     "text": [
      "2020-07-28 20:05:08, INFO: Lasso base directory set as: /Users/wsp/Documents/GitHub/lasso\n",
      "2020-07-28 20:05:08, INFO: Lasso base directory set as: /Users/wsp/Documents/GitHub/lasso\n"
     ]
    }
   ],
   "source": [
    "parameters = Parameters(lasso_base_dir = lasso_dir)"
   ]
  },
  {
   "cell_type": "markdown",
   "metadata": {},
   "source": [
    "## Read Roadway and Transit Networks"
   ]
  },
  {
   "cell_type": "code",
   "execution_count": 16,
   "metadata": {},
   "outputs": [],
   "source": [
    "roadway_net_filename = os.path.join(input_dir, 'roadway_network_with_projects.pickle')\n",
    "roadway_net = pickle.load(open(roadway_net_filename, 'rb'))"
   ]
  },
  {
   "cell_type": "code",
   "execution_count": 18,
   "metadata": {},
   "outputs": [],
   "source": [
    "transit_net_filename = os.path.join(input_dir, 'transit_network_with_projects.pickle')\n",
    "transit_net = pickle.load(open(transit_net_filename, 'rb'))"
   ]
  },
  {
   "cell_type": "markdown",
   "metadata": {},
   "source": [
    "## Make Travel Model Networks"
   ]
  },
  {
   "cell_type": "code",
   "execution_count": 19,
   "metadata": {},
   "outputs": [
    {
     "name": "stdout",
     "output_type": "stream",
     "text": [
      "2020-07-28 20:07:21, INFO: Lasso base directory set as: /Users/wsp/Documents/GitHub/lasso\n",
      "2020-07-28 20:07:21, INFO: Lasso base directory set as: /Users/wsp/Documents/GitHub/lasso\n",
      "2020-07-28 20:07:21, INFO: Renaming roadway attributes to be consistent with what metcouncil's model is expecting\n",
      "2020-07-28 20:07:21, INFO: Renaming roadway attributes to be consistent with what metcouncil's model is expecting\n",
      "2020-07-28 20:07:21, INFO: Didn't detect managed lanes in network.\n",
      "2020-07-28 20:07:21, INFO: Didn't detect managed lanes in network.\n",
      "2020-07-28 20:07:21, INFO: Creating calculated roadway variables.\n",
      "2020-07-28 20:07:21, INFO: Creating calculated roadway variables.\n",
      "2020-07-28 20:07:21, INFO: Calculating Area Type from Spatial Data and adding as roadway network variable: area_type\n",
      "2020-07-28 20:07:21, INFO: Calculating Area Type from Spatial Data and adding as roadway network variable: area_type\n"
     ]
    },
    {
     "name": "stderr",
     "output_type": "stream",
     "text": [
      "/Users/wsp/Documents/GitHub/Lasso/lasso/roadway.py:384: UserWarning: Geometry is in a geographic CRS. Results from 'centroid' are likely incorrect. Use 'GeoSeries.to_crs()' to re-project geometries to a projected CRS before this operation.\n",
      "\n",
      "  centroids_gdf[\"geometry\"] = centroids_gdf[\"geometry\"].centroid\n"
     ]
    },
    {
     "name": "stdout",
     "output_type": "stream",
     "text": [
      "2020-07-28 20:07:28, INFO: Finished Calculating Area Type from Spatial Data into variable: area_type\n",
      "2020-07-28 20:07:28, INFO: Finished Calculating Area Type from Spatial Data into variable: area_type\n",
      "2020-07-28 20:07:28, INFO: Adding roadway network variable for county using a spatial join with: /Users/wsp/Documents/GitHub/lasso/metcouncil_data/county/cb_2017_us_county_5m.shp\n",
      "2020-07-28 20:07:28, INFO: Adding roadway network variable for county using a spatial join with: /Users/wsp/Documents/GitHub/lasso/metcouncil_data/county/cb_2017_us_county_5m.shp\n"
     ]
    },
    {
     "name": "stderr",
     "output_type": "stream",
     "text": [
      "/Users/wsp/Documents/GitHub/Lasso/lasso/roadway.py:276: UserWarning: Geometry is in a geographic CRS. Results from 'centroid' are likely incorrect. Use 'GeoSeries.to_crs()' to re-project geometries to a projected CRS before this operation.\n",
      "\n",
      "  centroids_gdf[\"geometry\"] = centroids_gdf[\"geometry\"].centroid\n"
     ]
    },
    {
     "name": "stdout",
     "output_type": "stream",
     "text": [
      "2020-07-28 20:07:34, INFO: Finished Calculating county variable: county\n",
      "2020-07-28 20:07:34, INFO: Finished Calculating county variable: county\n",
      "2020-07-28 20:07:34, INFO: Calculating Centroid Connector and adding as roadway network variable: centroidconnect\n",
      "2020-07-28 20:07:34, INFO: Calculating Centroid Connector and adding as roadway network variable: centroidconnect\n",
      "2020-07-28 20:07:34, INFO: Finished calculating centroid connector variable: centroidconnect\n",
      "2020-07-28 20:07:34, INFO: Finished calculating centroid connector variable: centroidconnect\n",
      "2020-07-28 20:07:34, INFO: Calculating MPO as roadway network variable: mpo\n",
      "2020-07-28 20:07:34, INFO: Calculating MPO as roadway network variable: mpo\n",
      "2020-07-28 20:07:34, INFO: Finished calculating MPO variable: mpo\n",
      "2020-07-28 20:07:34, INFO: Finished calculating MPO variable: mpo\n",
      "2020-07-28 20:07:34, INFO: Calculating Assignment Group as network variable: assign_group\n",
      "2020-07-28 20:07:34, INFO: Calculating Assignment Group as network variable: assign_group\n",
      "2020-07-28 20:07:34, INFO: Centroid Connector Variable 'centroidconnect' already in network. Returning without overwriting.\n",
      "2020-07-28 20:07:34, INFO: Centroid Connector Variable 'centroidconnect' already in network. Returning without overwriting.\n",
      "2020-07-28 20:08:01, INFO: Finished calculating assignment group variable: assign_group\n",
      "2020-07-28 20:08:01, INFO: Finished calculating assignment group variable: assign_group\n",
      "2020-07-28 20:08:02, INFO: Calculating Roadway Class\n",
      "2020-07-28 20:08:02, INFO: Calculating Roadway Class\n",
      "2020-07-28 20:08:02, INFO: Finished calculating roadway class variable: roadway_class\n",
      "2020-07-28 20:08:02, INFO: Finished calculating roadway class variable: roadway_class\n",
      "2020-07-28 20:08:02, INFO: Adding Counts\n",
      "2020-07-28 20:08:02, INFO: Adding Counts\n",
      "2020-07-28 20:08:02, INFO: Adding Variable AADT using Shared Streets Reference from /Users/wsp/Documents/GitHub/lasso/metcouncil_data/count_mn/mn_count_ShSt_API_match.csv\n",
      "2020-07-28 20:08:02, INFO: Adding Variable AADT using Shared Streets Reference from /Users/wsp/Documents/GitHub/lasso/metcouncil_data/count_mn/mn_count_ShSt_API_match.csv\n",
      "2020-07-28 20:08:02, INFO: Added variable: AADT using Shared Streets Reference\n",
      "2020-07-28 20:08:02, INFO: Added variable: AADT using Shared Streets Reference\n",
      "2020-07-28 20:08:02, INFO: Adding Variable AADT using Shared Streets Reference from /Users/wsp/Documents/GitHub/lasso/metcouncil_data/Wisconsin_Lanes_Counts_Median/wi_count_ShSt_API_match.csv\n",
      "2020-07-28 20:08:02, INFO: Adding Variable AADT using Shared Streets Reference from /Users/wsp/Documents/GitHub/lasso/metcouncil_data/Wisconsin_Lanes_Counts_Median/wi_count_ShSt_API_match.csv\n",
      "2020-07-28 20:08:02, INFO: Added variable: AADT using Shared Streets Reference\n",
      "2020-07-28 20:08:02, INFO: Added variable: AADT using Shared Streets Reference\n",
      "2020-07-28 20:08:02, INFO: Finished adding counts variable: AADT\n",
      "2020-07-28 20:08:02, INFO: Finished adding counts variable: AADT\n",
      "2020-07-28 20:08:02, INFO: Finished creating ML lanes variable: ML_lanes\n",
      "2020-07-28 20:08:02, INFO: Finished creating ML lanes variable: ML_lanes\n",
      "2020-07-28 20:08:02, INFO: Finished creating hov corridor variable: segment_id\n",
      "2020-07-28 20:08:02, INFO: Finished creating hov corridor variable: segment_id\n",
      "2020-07-28 20:08:02, INFO: Finished creating managed variable: managed\n",
      "2020-07-28 20:08:02, INFO: Finished creating managed variable: managed\n",
      "2020-07-28 20:08:02, INFO: Overwriting existing distance Variable 'distance' already in network\n",
      "2020-07-28 20:08:02, INFO: Overwriting existing distance Variable 'distance' already in network\n",
      "2020-07-28 20:08:04, INFO: Calculating distance for centroid connectors\n",
      "2020-07-28 20:08:04, INFO: Calculating distance for centroid connectors\n",
      "2020-07-28 20:08:04, INFO: Filling nan for network from network wrangler\n",
      "2020-07-28 20:08:04, INFO: Filling nan for network from network wrangler\n",
      "2020-07-28 20:08:05, INFO: Splitting variables by time period and category\n",
      "2020-07-28 20:08:05, INFO: Splitting variables by time period and category\n",
      "2020-07-28 20:08:05, WARNING: Specified variable to split: ML_lanes not in network variables: Index(['model_link_id', 'osm_link_id', 'shstReferenceId', 'shstGeometryId',\n",
      "       'shape_id', 'u', 'v', 'A', 'B', 'locationReferences', 'distance',\n",
      "       'roadway', 'name', 'ref', 'bridge', 'tunnel', 'width', 'max_speed',\n",
      "       'bike_facility', 'drive_access', 'walk_access', 'bike_access',\n",
      "       'truck_access', 'bus_only', 'rail_only', 'lanes', 'access', 'price',\n",
      "       'trn_priority', 'ttime_assert', 'geometry', 'transit_access',\n",
      "       'area_type', 'county', 'centroidconnect', 'mpo', 'assign_group',\n",
      "       'roadway_class', 'AADT', 'count_AM', 'count_MD', 'count_PM', 'count_NT',\n",
      "       'count_daily', 'count_year', 'segment_id', 'managed', 'trn_priority_AM',\n",
      "       'trn_priority_MD', 'trn_priority_PM', 'trn_priority_NT',\n",
      "       'ttime_assert_AM', 'ttime_assert_MD', 'ttime_assert_PM',\n",
      "       'ttime_assert_NT', 'lanes_AM', 'lanes_MD', 'lanes_PM', 'lanes_NT'],\n",
      "      dtype='object'). Returning 0.\n",
      "2020-07-28 20:08:05, WARNING: Specified variable to split: ML_lanes not in network variables: Index(['model_link_id', 'osm_link_id', 'shstReferenceId', 'shstGeometryId',\n",
      "       'shape_id', 'u', 'v', 'A', 'B', 'locationReferences', 'distance',\n",
      "       'roadway', 'name', 'ref', 'bridge', 'tunnel', 'width', 'max_speed',\n",
      "       'bike_facility', 'drive_access', 'walk_access', 'bike_access',\n",
      "       'truck_access', 'bus_only', 'rail_only', 'lanes', 'access', 'price',\n",
      "       'trn_priority', 'ttime_assert', 'geometry', 'transit_access',\n",
      "       'area_type', 'county', 'centroidconnect', 'mpo', 'assign_group',\n",
      "       'roadway_class', 'AADT', 'count_AM', 'count_MD', 'count_PM', 'count_NT',\n",
      "       'count_daily', 'count_year', 'segment_id', 'managed', 'trn_priority_AM',\n",
      "       'trn_priority_MD', 'trn_priority_PM', 'trn_priority_NT',\n",
      "       'ttime_assert_AM', 'ttime_assert_MD', 'ttime_assert_PM',\n",
      "       'ttime_assert_NT', 'lanes_AM', 'lanes_MD', 'lanes_PM', 'lanes_NT'],\n",
      "      dtype='object'). Returning 0.\n",
      "2020-07-28 20:08:06, INFO: Converting variable type to MetCouncil standard\n",
      "2020-07-28 20:08:06, INFO: Converting variable type to MetCouncil standard\n",
      "2020-07-28 20:08:06, INFO: Setting Coordinate Reference System to EPSG 26915\n",
      "2020-07-28 20:08:06, INFO: Setting Coordinate Reference System to EPSG 26915\n"
     ]
    }
   ],
   "source": [
    "model_roadway_net = ModelRoadwayNetwork.from_RoadwayNetwork(\n",
    "    roadway_network_object = roadway_net, \n",
    "    parameters = parameters,\n",
    ")\n",
    "model_roadway_net.roadway_standard_to_met_council_network()"
   ]
  },
  {
   "cell_type": "markdown",
   "metadata": {},
   "source": [
    "## Write Networks to Disk as SHP and TXT"
   ]
  },
  {
   "cell_type": "code",
   "execution_count": null,
   "metadata": {},
   "outputs": [],
   "source": [
    "model_roadway_net.write_roadway_as_shp(\n",
    "    output_link_shp = os.path.join(output_dir, 'links.shp'),\n",
    "    output_node_shp = os.path.join(output_dir, 'nodes.shp'),\n",
    "    output_link_csv = os.path.join(output_dir, 'links.csv'),\n",
    "    output_node_csv = os.path.join(output_dir, 'nodes.csv'),\n",
    ")"
   ]
  },
  {
   "cell_type": "code",
   "execution_count": null,
   "metadata": {},
   "outputs": [],
   "source": [
    "model_roadway_net.write_roadway_as_fixedwidth(\n",
    "    output_link_txt = os.path.join(output_dir, 'links.txt'),\n",
    "    output_node_txt = os.path.join(output_dir, 'nodes.txt'),\n",
    "    output_link_header_width_txt = os.path.join(output_dir, 'links_header_width.txt'),\n",
    "    output_node_header_width_txt = os.path.join(output_dir, 'nodes_header_width.txt'),\n",
    "    output_cube_network_script = os.path.join(output_dir, 'make_complete_network_from_fixed_width_file.s'),\n",
    ")"
   ]
  },
  {
   "cell_type": "code",
   "execution_count": null,
   "metadata": {},
   "outputs": [],
   "source": [
    "# standard_transit_net = StandardTransit.fromTransitNetwork(transit_net)\n",
    "# standard_transit_net.write_as_cube_lin(outpath = os.path.join(output_dir, \"transit.lin\"))"
   ]
  },
  {
   "cell_type": "markdown",
   "metadata": {},
   "source": [
    "## Make Cube .net File"
   ]
  },
  {
   "cell_type": "code",
   "execution_count": null,
   "metadata": {},
   "outputs": [],
   "source": [
    "os.chdir(output_dir)\n",
    "p = Popen(\"make_cube.bat\")\n",
    "p.communicate()"
   ]
  },
  {
   "cell_type": "code",
   "execution_count": null,
   "metadata": {},
   "outputs": [],
   "source": []
  }
 ],
 "metadata": {
  "kernelspec": {
   "display_name": "Python 3",
   "language": "python",
   "name": "python3"
  },
  "language_info": {
   "codemirror_mode": {
    "name": "ipython",
    "version": 3
   },
   "file_extension": ".py",
   "mimetype": "text/x-python",
   "name": "python",
   "nbconvert_exporter": "python",
   "pygments_lexer": "ipython3",
   "version": "3.7.7"
  }
 },
 "nbformat": 4,
 "nbformat_minor": 4
}
