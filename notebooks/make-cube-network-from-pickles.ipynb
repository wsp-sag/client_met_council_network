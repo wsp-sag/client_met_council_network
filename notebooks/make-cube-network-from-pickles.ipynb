{
 "cells": [
  {
   "cell_type": "markdown",
   "metadata": {},
   "source": [
    "# Make Cube Network"
   ]
  },
  {
   "cell_type": "code",
   "execution_count": 1,
   "metadata": {},
   "outputs": [],
   "source": [
    "import os\n",
    "import sys\n",
    "import yaml\n",
    "import pickle\n",
    "from subprocess import Popen\n",
    "\n",
    "import pandas as pd\n",
    "\n",
    "from network_wrangler import RoadwayNetwork\n",
    "from network_wrangler import TransitNetwork\n",
    "from network_wrangler import WranglerLogger\n",
    "\n",
    "from lasso import ModelRoadwayNetwork\n",
    "from lasso import StandardTransit\n",
    "from lasso import Parameters"
   ]
  },
  {
   "cell_type": "code",
   "execution_count": 2,
   "metadata": {},
   "outputs": [],
   "source": [
    "%load_ext autoreload\n",
    "%autoreload 2"
   ]
  },
  {
   "cell_type": "code",
   "execution_count": 3,
   "metadata": {},
   "outputs": [],
   "source": [
    "import logging\n",
    "logger = logging.getLogger(\"WranglerLogger\")\n",
    "logger.handlers[0].stream = sys.stdout\n",
    "logger.setLevel(logging.INFO)"
   ]
  },
  {
   "cell_type": "markdown",
   "metadata": {},
   "source": [
    "## Remote I/O and Parameters"
   ]
  },
  {
   "cell_type": "code",
   "execution_count": 4,
   "metadata": {},
   "outputs": [],
   "source": [
    "input_dir = os.path.join('/Users', 'wsp', 'Documents', 'GitHub', 'network_wrangler', 'examples', 'stpaul', 'pickles')\n",
    "output_dir = os.path.join('/Users', 'wsp', 'Documents', 'GitHub', 'network_wrangler', 'examples', 'stpaul', 'cube')\n",
    "lasso_dir = os.path.join('/Users', 'wsp', 'Documents', 'GitHub', 'lasso')"
   ]
  },
  {
   "cell_type": "code",
   "execution_count": 5,
   "metadata": {},
   "outputs": [
    {
     "name": "stdout",
     "output_type": "stream",
     "text": [
      "2020-08-04 19:44:22, INFO: Lasso base directory set as: /Users/wsp/Documents/GitHub/lasso\n",
      "2020-08-04 19:44:22, INFO: Lasso base directory set as: /Users/wsp/Documents/GitHub/lasso\n"
     ]
    }
   ],
   "source": [
    "parameters = Parameters(lasso_base_dir = lasso_dir)"
   ]
  },
  {
   "cell_type": "markdown",
   "metadata": {},
   "source": [
    "## Read Roadway and Transit Networks"
   ]
  },
  {
   "cell_type": "code",
   "execution_count": 6,
   "metadata": {},
   "outputs": [],
   "source": [
    "roadway_net_filename = os.path.join(input_dir, 'roadway_network.pickle')\n",
    "roadway_net = pickle.load(open(roadway_net_filename, 'rb'))"
   ]
  },
  {
   "cell_type": "code",
   "execution_count": 7,
   "metadata": {},
   "outputs": [],
   "source": [
    "transit_net_filename = os.path.join(input_dir, 'transit_network.pickle')\n",
    "transit_net = pickle.load(open(transit_net_filename, 'rb'))"
   ]
  },
  {
   "cell_type": "markdown",
   "metadata": {},
   "source": [
    "## Make Travel Model Networks"
   ]
  },
  {
   "cell_type": "code",
   "execution_count": 8,
   "metadata": {},
   "outputs": [
    {
     "name": "stdout",
     "output_type": "stream",
     "text": [
      "2020-08-04 19:44:34, INFO: Lasso base directory set as: /Users/wsp/Documents/GitHub/lasso\n",
      "2020-08-04 19:44:34, INFO: Lasso base directory set as: /Users/wsp/Documents/GitHub/lasso\n",
      "2020-08-04 19:44:34, INFO: Renaming roadway attributes to be consistent with what metcouncil's model is expecting\n",
      "2020-08-04 19:44:34, INFO: Renaming roadway attributes to be consistent with what metcouncil's model is expecting\n",
      "2020-08-04 19:44:34, INFO: Didn't detect managed lanes in network.\n",
      "2020-08-04 19:44:34, INFO: Didn't detect managed lanes in network.\n",
      "2020-08-04 19:44:34, INFO: Creating calculated roadway variables.\n",
      "2020-08-04 19:44:34, INFO: Creating calculated roadway variables.\n",
      "2020-08-04 19:44:34, INFO: Calculating Area Type from Spatial Data and adding as roadway network variable: area_type\n",
      "2020-08-04 19:44:34, INFO: Calculating Area Type from Spatial Data and adding as roadway network variable: area_type\n"
     ]
    },
    {
     "name": "stderr",
     "output_type": "stream",
     "text": [
      "/Users/wsp/Documents/GitHub/Lasso/lasso/roadway.py:384: UserWarning: Geometry is in a geographic CRS. Results from 'centroid' are likely incorrect. Use 'GeoSeries.to_crs()' to re-project geometries to a projected CRS before this operation.\n",
      "\n",
      "  centroids_gdf[\"geometry\"] = centroids_gdf[\"geometry\"].centroid\n"
     ]
    },
    {
     "name": "stdout",
     "output_type": "stream",
     "text": [
      "2020-08-04 19:44:41, INFO: Finished Calculating Area Type from Spatial Data into variable: area_type\n",
      "2020-08-04 19:44:41, INFO: Finished Calculating Area Type from Spatial Data into variable: area_type\n",
      "2020-08-04 19:44:41, INFO: Adding roadway network variable for county using a spatial join with: /Users/wsp/Documents/GitHub/lasso/metcouncil_data/county/cb_2017_us_county_5m.shp\n",
      "2020-08-04 19:44:41, INFO: Adding roadway network variable for county using a spatial join with: /Users/wsp/Documents/GitHub/lasso/metcouncil_data/county/cb_2017_us_county_5m.shp\n"
     ]
    },
    {
     "name": "stderr",
     "output_type": "stream",
     "text": [
      "/Users/wsp/Documents/GitHub/Lasso/lasso/roadway.py:276: UserWarning: Geometry is in a geographic CRS. Results from 'centroid' are likely incorrect. Use 'GeoSeries.to_crs()' to re-project geometries to a projected CRS before this operation.\n",
      "\n",
      "  centroids_gdf[\"geometry\"] = centroids_gdf[\"geometry\"].centroid\n"
     ]
    },
    {
     "name": "stdout",
     "output_type": "stream",
     "text": [
      "2020-08-04 19:44:48, INFO: Finished Calculating county variable: county\n",
      "2020-08-04 19:44:48, INFO: Finished Calculating county variable: county\n",
      "2020-08-04 19:44:48, INFO: Calculating Centroid Connector and adding as roadway network variable: centroidconnect\n",
      "2020-08-04 19:44:48, INFO: Calculating Centroid Connector and adding as roadway network variable: centroidconnect\n",
      "2020-08-04 19:44:48, INFO: Finished calculating centroid connector variable: centroidconnect\n",
      "2020-08-04 19:44:48, INFO: Finished calculating centroid connector variable: centroidconnect\n",
      "2020-08-04 19:44:48, INFO: Calculating MPO as roadway network variable: mpo\n",
      "2020-08-04 19:44:48, INFO: Calculating MPO as roadway network variable: mpo\n",
      "2020-08-04 19:44:48, INFO: Finished calculating MPO variable: mpo\n",
      "2020-08-04 19:44:48, INFO: Finished calculating MPO variable: mpo\n",
      "2020-08-04 19:44:48, INFO: Calculating Assignment Group as network variable: assign_group\n",
      "2020-08-04 19:44:48, INFO: Calculating Assignment Group as network variable: assign_group\n",
      "2020-08-04 19:44:48, INFO: Centroid Connector Variable 'centroidconnect' already in network. Returning without overwriting.\n",
      "2020-08-04 19:44:48, INFO: Centroid Connector Variable 'centroidconnect' already in network. Returning without overwriting.\n",
      "2020-08-04 19:45:15, INFO: Finished calculating assignment group variable: assign_group\n",
      "2020-08-04 19:45:15, INFO: Finished calculating assignment group variable: assign_group\n",
      "2020-08-04 19:45:16, INFO: Calculating Roadway Class\n",
      "2020-08-04 19:45:16, INFO: Calculating Roadway Class\n",
      "2020-08-04 19:45:16, INFO: Finished calculating roadway class variable: roadway_class\n",
      "2020-08-04 19:45:16, INFO: Finished calculating roadway class variable: roadway_class\n",
      "2020-08-04 19:45:16, INFO: Adding Counts\n",
      "2020-08-04 19:45:16, INFO: Adding Counts\n",
      "2020-08-04 19:45:16, INFO: Adding Variable AADT using Shared Streets Reference from /Users/wsp/Documents/GitHub/lasso/metcouncil_data/count_mn/mn_count_ShSt_API_match.csv\n",
      "2020-08-04 19:45:16, INFO: Adding Variable AADT using Shared Streets Reference from /Users/wsp/Documents/GitHub/lasso/metcouncil_data/count_mn/mn_count_ShSt_API_match.csv\n",
      "2020-08-04 19:45:16, INFO: Added variable: AADT using Shared Streets Reference\n",
      "2020-08-04 19:45:16, INFO: Added variable: AADT using Shared Streets Reference\n",
      "2020-08-04 19:45:16, INFO: Adding Variable AADT using Shared Streets Reference from /Users/wsp/Documents/GitHub/lasso/metcouncil_data/Wisconsin_Lanes_Counts_Median/wi_count_ShSt_API_match.csv\n",
      "2020-08-04 19:45:16, INFO: Adding Variable AADT using Shared Streets Reference from /Users/wsp/Documents/GitHub/lasso/metcouncil_data/Wisconsin_Lanes_Counts_Median/wi_count_ShSt_API_match.csv\n",
      "2020-08-04 19:45:16, INFO: Added variable: AADT using Shared Streets Reference\n",
      "2020-08-04 19:45:16, INFO: Added variable: AADT using Shared Streets Reference\n",
      "2020-08-04 19:45:16, INFO: Finished adding counts variable: AADT\n",
      "2020-08-04 19:45:16, INFO: Finished adding counts variable: AADT\n",
      "2020-08-04 19:45:16, INFO: Finished creating ML lanes variable: ML_lanes\n",
      "2020-08-04 19:45:16, INFO: Finished creating ML lanes variable: ML_lanes\n",
      "2020-08-04 19:45:16, INFO: Finished creating hov corridor variable: segment_id\n",
      "2020-08-04 19:45:16, INFO: Finished creating hov corridor variable: segment_id\n",
      "2020-08-04 19:45:16, INFO: Finished creating managed variable: managed\n",
      "2020-08-04 19:45:16, INFO: Finished creating managed variable: managed\n",
      "2020-08-04 19:45:16, INFO: Overwriting existing distance Variable 'distance' already in network\n",
      "2020-08-04 19:45:16, INFO: Overwriting existing distance Variable 'distance' already in network\n",
      "2020-08-04 19:45:18, INFO: Calculating distance for centroid connectors\n",
      "2020-08-04 19:45:18, INFO: Calculating distance for centroid connectors\n",
      "2020-08-04 19:45:18, INFO: Filling nan for network from network wrangler\n",
      "2020-08-04 19:45:18, INFO: Filling nan for network from network wrangler\n",
      "2020-08-04 19:45:19, INFO: Splitting variables by time period and category\n",
      "2020-08-04 19:45:19, INFO: Splitting variables by time period and category\n",
      "2020-08-04 19:45:20, WARNING: Specified variable to split: ML_lanes not in network variables: Index(['model_link_id', 'osm_link_id', 'shstReferenceId', 'shstGeometryId',\n",
      "       'shape_id', 'u', 'v', 'A', 'B', 'locationReferences', 'distance',\n",
      "       'roadway', 'name', 'ref', 'bridge', 'tunnel', 'width', 'max_speed',\n",
      "       'bike_facility', 'drive_access', 'walk_access', 'bike_access',\n",
      "       'truck_access', 'bus_only', 'rail_only', 'lanes', 'access', 'price',\n",
      "       'trn_priority', 'ttime_assert', 'geometry', 'area_type', 'county',\n",
      "       'centroidconnect', 'mpo', 'assign_group', 'roadway_class', 'AADT',\n",
      "       'count_AM', 'count_MD', 'count_PM', 'count_NT', 'count_daily',\n",
      "       'count_year', 'segment_id', 'managed', 'trn_priority_AM',\n",
      "       'trn_priority_MD', 'trn_priority_PM', 'trn_priority_NT',\n",
      "       'ttime_assert_AM', 'ttime_assert_MD', 'ttime_assert_PM',\n",
      "       'ttime_assert_NT', 'lanes_AM', 'lanes_MD', 'lanes_PM', 'lanes_NT'],\n",
      "      dtype='object'). Returning 0.\n",
      "2020-08-04 19:45:20, WARNING: Specified variable to split: ML_lanes not in network variables: Index(['model_link_id', 'osm_link_id', 'shstReferenceId', 'shstGeometryId',\n",
      "       'shape_id', 'u', 'v', 'A', 'B', 'locationReferences', 'distance',\n",
      "       'roadway', 'name', 'ref', 'bridge', 'tunnel', 'width', 'max_speed',\n",
      "       'bike_facility', 'drive_access', 'walk_access', 'bike_access',\n",
      "       'truck_access', 'bus_only', 'rail_only', 'lanes', 'access', 'price',\n",
      "       'trn_priority', 'ttime_assert', 'geometry', 'area_type', 'county',\n",
      "       'centroidconnect', 'mpo', 'assign_group', 'roadway_class', 'AADT',\n",
      "       'count_AM', 'count_MD', 'count_PM', 'count_NT', 'count_daily',\n",
      "       'count_year', 'segment_id', 'managed', 'trn_priority_AM',\n",
      "       'trn_priority_MD', 'trn_priority_PM', 'trn_priority_NT',\n",
      "       'ttime_assert_AM', 'ttime_assert_MD', 'ttime_assert_PM',\n",
      "       'ttime_assert_NT', 'lanes_AM', 'lanes_MD', 'lanes_PM', 'lanes_NT'],\n",
      "      dtype='object'). Returning 0.\n",
      "2020-08-04 19:45:20, INFO: Converting variable type to MetCouncil standard\n",
      "2020-08-04 19:45:20, INFO: Converting variable type to MetCouncil standard\n",
      "2020-08-04 19:45:21, INFO: Setting Coordinate Reference System to EPSG 26915\n",
      "2020-08-04 19:45:21, INFO: Setting Coordinate Reference System to EPSG 26915\n"
     ]
    }
   ],
   "source": [
    "model_roadway_net = ModelRoadwayNetwork.from_RoadwayNetwork(\n",
    "    roadway_network_object = roadway_net, \n",
    "    parameters = parameters,\n",
    ")\n",
    "model_roadway_net.roadway_standard_to_met_council_network()"
   ]
  },
  {
   "cell_type": "markdown",
   "metadata": {},
   "source": [
    "## Write Networks to Disk as SHP and TXT"
   ]
  },
  {
   "cell_type": "code",
   "execution_count": 9,
   "metadata": {},
   "outputs": [
    {
     "name": "stdout",
     "output_type": "stream",
     "text": [
      "2020-08-04 19:45:25, INFO: Writing Network as Shapefile\n",
      "2020-08-04 19:45:25, INFO: Writing Network as Shapefile\n",
      "2020-08-04 19:45:25, INFO: Renaming DBF Node Variables\n",
      "2020-08-04 19:45:25, INFO: Renaming DBF Node Variables\n",
      "2020-08-04 19:45:25, INFO: Renaming variables so that they are DBF-safe\n",
      "2020-08-04 19:45:25, INFO: Renaming variables so that they are DBF-safe\n",
      "2020-08-04 19:45:26, INFO: Renaming DBF Link Variables\n",
      "2020-08-04 19:45:26, INFO: Renaming DBF Link Variables\n",
      "2020-08-04 19:45:26, INFO: Renaming variables so that they are DBF-safe\n",
      "2020-08-04 19:45:26, INFO: Renaming variables so that they are DBF-safe\n",
      "2020-08-04 19:45:26, INFO: Writing Node Shapes:\n",
      " - /Users/wsp/Documents/GitHub/network_wrangler/examples/stpaul/cube/nodes.shp\n",
      "2020-08-04 19:45:26, INFO: Writing Node Shapes:\n",
      " - /Users/wsp/Documents/GitHub/network_wrangler/examples/stpaul/cube/nodes.shp\n",
      "2020-08-04 19:45:28, INFO: Writing Link Shapes:\n",
      " - /Users/wsp/Documents/GitHub/network_wrangler/examples/stpaul/cube/links.shp\n",
      "2020-08-04 19:45:28, INFO: Writing Link Shapes:\n",
      " - /Users/wsp/Documents/GitHub/network_wrangler/examples/stpaul/cube/links.shp\n",
      "2020-08-04 19:45:31, INFO: Writing Network Data to CSVs:\n",
      " - /Users/wsp/Documents/GitHub/network_wrangler/examples/stpaul/cube/links.csv\n",
      " - /Users/wsp/Documents/GitHub/network_wrangler/examples/stpaul/cube/nodes.csv\n",
      "2020-08-04 19:45:31, INFO: Writing Network Data to CSVs:\n",
      " - /Users/wsp/Documents/GitHub/network_wrangler/examples/stpaul/cube/links.csv\n",
      " - /Users/wsp/Documents/GitHub/network_wrangler/examples/stpaul/cube/nodes.csv\n"
     ]
    }
   ],
   "source": [
    "model_roadway_net.write_roadway_as_shp(\n",
    "    output_link_shp = os.path.join(output_dir, 'links.shp'),\n",
    "    output_node_shp = os.path.join(output_dir, 'nodes.shp'),\n",
    "    output_link_csv = os.path.join(output_dir, 'links.csv'),\n",
    "    output_node_csv = os.path.join(output_dir, 'nodes.csv'),\n",
    ")"
   ]
  },
  {
   "cell_type": "code",
   "execution_count": 10,
   "metadata": {},
   "outputs": [
    {
     "name": "stdout",
     "output_type": "stream",
     "text": [
      "2020-08-04 19:45:34, INFO: Starting fixed width convertion\n",
      "2020-08-04 19:45:34, INFO: Starting fixed width convertion\n",
      "2020-08-04 19:47:35, INFO: Writing out link database\n",
      "2020-08-04 19:47:35, INFO: Writing out link database\n",
      "2020-08-04 19:47:36, INFO: Writing out link header and width ----\n",
      "2020-08-04 19:47:36, INFO: Writing out link header and width ----\n",
      "2020-08-04 19:47:36, INFO: Starting fixed width convertion\n",
      "2020-08-04 19:47:36, INFO: Starting fixed width convertion\n",
      "2020-08-04 19:47:40, INFO: Writing out node database\n",
      "2020-08-04 19:47:40, INFO: Writing out node database\n",
      "2020-08-04 19:47:40, INFO: Writing out node header and width\n",
      "2020-08-04 19:47:40, INFO: Writing out node header and width\n"
     ]
    }
   ],
   "source": [
    "model_roadway_net.write_roadway_as_fixedwidth(\n",
    "    output_link_txt = os.path.join(output_dir, 'links.txt'),\n",
    "    output_node_txt = os.path.join(output_dir, 'nodes.txt'),\n",
    "    output_link_header_width_txt = os.path.join(output_dir, 'links_header_width.txt'),\n",
    "    output_node_header_width_txt = os.path.join(output_dir, 'nodes_header_width.txt'),\n",
    "    output_cube_network_script = os.path.join(output_dir, 'make_complete_network_from_fixed_width_file.s'),\n",
    "    drive_only = True,\n",
    ")"
   ]
  },
  {
   "cell_type": "code",
   "execution_count": 11,
   "metadata": {},
   "outputs": [],
   "source": [
    "# standard_transit_net = StandardTransit.fromTransitNetwork(transit_net)\n",
    "# standard_transit_net.write_as_cube_lin(outpath = os.path.join(output_dir, \"transit.lin\"))"
   ]
  },
  {
   "cell_type": "markdown",
   "metadata": {},
   "source": [
    "## Make Cube .net File"
   ]
  },
  {
   "cell_type": "code",
   "execution_count": null,
   "metadata": {},
   "outputs": [],
   "source": [
    "os.chdir(output_dir)\n",
    "p = Popen(\"make_cube.bat\")\n",
    "p.communicate()"
   ]
  },
  {
   "cell_type": "code",
   "execution_count": null,
   "metadata": {},
   "outputs": [],
   "source": []
  }
 ],
 "metadata": {
  "kernelspec": {
   "display_name": "Python 3",
   "language": "python",
   "name": "python3"
  },
  "language_info": {
   "codemirror_mode": {
    "name": "ipython",
    "version": 3
   },
   "file_extension": ".py",
   "mimetype": "text/x-python",
   "name": "python",
   "nbconvert_exporter": "python",
   "pygments_lexer": "ipython3",
   "version": "3.7.7"
  }
 },
 "nbformat": 4,
 "nbformat_minor": 4
}
