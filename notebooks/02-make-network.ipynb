{
 "cells": [
  {
   "cell_type": "markdown",
   "metadata": {},
   "source": [
    "# 02 Make Network Version 01\n",
    "Step 2 applies project cards, makes Python changes, and writes out a pickle of the version 01 network"
   ]
  },
  {
   "cell_type": "code",
   "execution_count": 1,
   "metadata": {},
   "outputs": [],
   "source": [
    "import os\n",
    "import sys\n",
    "import yaml\n",
    "from subprocess import Popen\n",
    "import pickle\n",
    "\n",
    "import pandas as pd\n",
    "import geopandas as gpd\n",
    "import numpy as np\n",
    "\n",
    "\n",
    "from network_wrangler import RoadwayNetwork\n",
    "from network_wrangler import TransitNetwork\n",
    "from network_wrangler import WranglerLogger\n",
    "from network_wrangler import ProjectCard\n",
    "\n",
    "from lasso import ModelRoadwayNetwork\n",
    "from lasso import StandardTransit\n",
    "from lasso import Parameters\n",
    "from lasso import metcouncil\n",
    "from lasso import util"
   ]
  },
  {
   "cell_type": "code",
   "execution_count": 2,
   "metadata": {},
   "outputs": [
    {
     "data": {
      "text/plain": [
       "'1.3.3'"
      ]
     },
     "execution_count": 2,
     "metadata": {},
     "output_type": "execute_result"
    }
   ],
   "source": [
    "pd.__version__"
   ]
  },
  {
   "cell_type": "code",
   "execution_count": 3,
   "metadata": {},
   "outputs": [],
   "source": [
    "%load_ext autoreload\n",
    "%autoreload 2"
   ]
  },
  {
   "cell_type": "code",
   "execution_count": 4,
   "metadata": {},
   "outputs": [],
   "source": [
    "import logging\n",
    "logger = logging.getLogger(\"WranglerLogger\")\n",
    "logger.handlers[0].stream = sys.stdout\n",
    "logger.setLevel(logging.INFO)"
   ]
  },
  {
   "cell_type": "markdown",
   "metadata": {},
   "source": [
    "### Remote I/O and Parameters"
   ]
  },
  {
   "cell_type": "code",
   "execution_count": 5,
   "metadata": {},
   "outputs": [],
   "source": [
    "# root_dir = os.path.join('C:\\\\', 'Users', 'david.ory', 'Documents', 'GitHub', 'client_met_council_network')\n",
    "root_dir = os.path.join(\"D:/metcouncil_network_rebuild\")\n",
    "input_dir = os.path.join(root_dir, 'data', 'processed', 'version_01')\n",
    "output_dir = input_dir\n",
    "card_dir = os.path.join(root_dir, 'project_cards')\n",
    "# lasso_dir = os.path.join('C:\\\\', 'Users', 'david.ory', 'Documents', 'GitHub', 'lasso')\n",
    "lasso_dir = os.path.join('Z:/Data/Users/Sijia/Met_Council/github/client_met_council_wrangler_utilities')"
   ]
  },
  {
   "cell_type": "code",
   "execution_count": 6,
   "metadata": {},
   "outputs": [
    {
     "name": "stdout",
     "output_type": "stream",
     "text": [
      "2022-03-22 17:46:47, INFO: Lasso base directory set as: Z:/Data/Users/Sijia/Met_Council/github/client_met_council_wrangler_utilities\n",
      "2022-03-22 17:46:47, INFO: Lasso base directory set as: Z:/Data/Users/Sijia/Met_Council/github/client_met_council_wrangler_utilities\n"
     ]
    }
   ],
   "source": [
    "parameters = Parameters(lasso_base_dir = lasso_dir)"
   ]
  },
  {
   "cell_type": "markdown",
   "metadata": {},
   "source": [
    "### Read Version 00 Scenario"
   ]
  },
  {
   "cell_type": "code",
   "execution_count": 7,
   "metadata": {},
   "outputs": [],
   "source": [
    "version_00_pickle_file_name = os.path.join(input_dir, 'working_scenario_00.pickle')\n",
    "v_01_scenario = pickle.load(open(version_00_pickle_file_name, 'rb'))"
   ]
  },
  {
   "cell_type": "code",
   "execution_count": 8,
   "metadata": {},
   "outputs": [],
   "source": [
    "# original = v_01_scenario"
   ]
  },
  {
   "cell_type": "code",
   "execution_count": 9,
   "metadata": {},
   "outputs": [],
   "source": [
    "# v_01_scenario = original"
   ]
  },
  {
   "cell_type": "markdown",
   "metadata": {},
   "source": [
    "### Apply Project Cards"
   ]
  },
  {
   "cell_type": "code",
   "execution_count": 10,
   "metadata": {},
   "outputs": [
    {
     "name": "stderr",
     "output_type": "stream",
     "text": [
      "z:\\data\\users\\sijia\\met_council\\github\\network_wrangler\\network_wrangler\\network_wrangler\\projectcard.py:114: YAMLLoadWarning: calling yaml.load() without Loader=... is deprecated, as the default Loader is unsafe. Please read https://msg.pyyaml.org/load for full details.\n",
      "  attribute_dictionary = yaml.load(_yaml)\n"
     ]
    }
   ],
   "source": [
    "project_card_list = []\n",
    "card_01_file_name = os.path.join(card_dir, 'manual_assign_group_roadway_class.wrangler')\n",
    "card_02_file_name = os.path.join(card_dir, 'year_2018_corrections_assign_group_roadway_class.yml')\n",
    "card_03_file_name = os.path.join(card_dir, 'year_2018_corrections_assign_group.yml')\n",
    "card_04_file_name = os.path.join(card_dir, 'test_35W_ML.yml')\n",
    "\n",
    "card = ProjectCard.read(card_01_file_name, validate = False)\n",
    "project_card_list.append(card)\n",
    "\n",
    "card = ProjectCard.read(card_02_file_name, validate = False)\n",
    "project_card_list.append(card)\n",
    "\n",
    "card = ProjectCard.read(card_03_file_name, validate = False)\n",
    "project_card_list.append(card)\n",
    "\n",
    "card = ProjectCard.read(card_04_file_name, validate = False)\n",
    "project_card_list.append(card)"
   ]
  },
  {
   "cell_type": "code",
   "execution_count": 11,
   "metadata": {},
   "outputs": [
    {
     "name": "stdout",
     "output_type": "stream",
     "text": [
      "2022-03-22 17:47:29, INFO: Applying Manual Changes to Assignment Group and Roadway Class\n",
      "2022-03-22 17:47:29, INFO: Applying Manual Changes to Assignment Group and Roadway Class\n",
      "2022-03-22 17:47:29, INFO: Applying Project to Roadway Network: Manual Changes to Assignment Group and Roadway Class\n",
      "2022-03-22 17:47:29, INFO: Applying Project to Roadway Network: Manual Changes to Assignment Group and Roadway Class\n",
      "2022-03-22 17:47:29, INFO: Lasso base directory set as: Z:/Data/Users/Sijia/Met_Council/github/client_met_council_wrangler_utilities\n",
      "2022-03-22 17:47:29, INFO: Lasso base directory set as: Z:/Data/Users/Sijia/Met_Council/github/client_met_council_wrangler_utilities\n"
     ]
    },
    {
     "name": "stderr",
     "output_type": "stream",
     "text": [
      "z:\\data\\users\\sijia\\met_council\\github\\network_wrangler\\network_wrangler\\network_wrangler\\roadwaynetwork.py:18: UserWarning: Geometry is in a geographic CRS. Results from 'centroid' are likely incorrect. Use 'GeoSeries.to_crs()' to re-project geometries to a projected CRS before this operation.\n",
      "\n",
      "  import osmnx as ox\n",
      "z:\\data\\users\\sijia\\met_council\\github\\network_wrangler\\network_wrangler\\network_wrangler\\roadwaynetwork.py:48: UserWarning: Geometry is in a geographic CRS. Results from 'centroid' are likely incorrect. Use 'GeoSeries.to_crs()' to re-project geometries to a projected CRS before this operation.\n",
      "\n",
      "  \n",
      "z:\\data\\users\\sijia\\met_council\\github\\network_wrangler\\network_wrangler\\network_wrangler\\roadwaynetwork.py:52: UserWarning: CRS mismatch between the CRS of left geometries and the CRS of right geometries.\n",
      "Use `to_crs()` to reproject one of the input geometries to match the CRS of the other.\n",
      "\n",
      "Left CRS: EPSG:4326\n",
      "Right CRS: EPSG:4269\n",
      "\n",
      "  net = RoadwayNetwork.read(\n"
     ]
    },
    {
     "name": "stdout",
     "output_type": "stream",
     "text": [
      "2022-03-22 17:53:26, INFO: Applying Correct Year 2018 Assignment Group and Roadway Class\n",
      "2022-03-22 17:53:26, INFO: Applying Correct Year 2018 Assignment Group and Roadway Class\n",
      "2022-03-22 17:53:26, INFO: Applying Correct Year 2018 Assignment Group and Roadway Class\n",
      "2022-03-22 17:53:26, INFO: Applying Correct Year 2018 Assignment Group and Roadway Class\n",
      "2022-03-22 17:53:26, INFO: Applying Project to Roadway Network: Correct Year 2018 Assignment Group and Roadway Class\n",
      "2022-03-22 17:53:26, INFO: Applying Project to Roadway Network: Correct Year 2018 Assignment Group and Roadway Class\n",
      "2022-03-22 17:53:26, INFO: Applying Correct Year 2018 Assignment Group\n",
      "2022-03-22 17:53:26, INFO: Applying Correct Year 2018 Assignment Group\n",
      "2022-03-22 17:53:26, INFO: Applying Correct Year 2018 Assignment Group\n",
      "2022-03-22 17:53:26, INFO: Applying Correct Year 2018 Assignment Group\n",
      "2022-03-22 17:53:26, INFO: Applying Project to Roadway Network: Correct Year 2018 Assignment Group\n",
      "2022-03-22 17:53:26, INFO: Applying Project to Roadway Network: Correct Year 2018 Assignment Group\n"
     ]
    },
    {
     "name": "stderr",
     "output_type": "stream",
     "text": [
      "C:\\Users\\wangs1\\AppData\\Local\\Continuum\\anaconda3\\envs\\lasso_wsp\\lib\\site-packages\\geopandas\\geodataframe.py:1351: SettingWithCopyWarning: \n",
      "A value is trying to be set on a copy of a slice from a DataFrame.\n",
      "Try using .loc[row_indexer,col_indexer] = value instead\n",
      "\n",
      "See the caveats in the documentation: https://pandas.pydata.org/pandas-docs/stable/user_guide/indexing.html#returning-a-view-versus-a-copy\n",
      "  super().__setitem__(key, value)\n"
     ]
    },
    {
     "name": "stdout",
     "output_type": "stream",
     "text": [
      "2022-03-22 17:53:32, INFO: Applying Correct Year 2018 Assignment Group\n",
      "2022-03-22 17:53:32, INFO: Applying Correct Year 2018 Assignment Group\n",
      "2022-03-22 17:53:32, INFO: Applying Project to Roadway Network: Correct Year 2018 Assignment Group\n",
      "2022-03-22 17:53:32, INFO: Applying Project to Roadway Network: Correct Year 2018 Assignment Group\n"
     ]
    },
    {
     "name": "stderr",
     "output_type": "stream",
     "text": [
      "C:\\Users\\wangs1\\AppData\\Local\\Continuum\\anaconda3\\envs\\lasso_wsp\\lib\\site-packages\\geopandas\\geodataframe.py:1351: SettingWithCopyWarning: \n",
      "A value is trying to be set on a copy of a slice from a DataFrame.\n",
      "Try using .loc[row_indexer,col_indexer] = value instead\n",
      "\n",
      "See the caveats in the documentation: https://pandas.pydata.org/pandas-docs/stable/user_guide/indexing.html#returning-a-view-versus-a-copy\n",
      "  super().__setitem__(key, value)\n"
     ]
    },
    {
     "name": "stdout",
     "output_type": "stream",
     "text": [
      "2022-03-22 17:53:37, INFO: Applying Correct Year 2018 Assignment Group\n",
      "2022-03-22 17:53:37, INFO: Applying Correct Year 2018 Assignment Group\n",
      "2022-03-22 17:53:37, INFO: Applying Project to Roadway Network: Correct Year 2018 Assignment Group\n",
      "2022-03-22 17:53:37, INFO: Applying Project to Roadway Network: Correct Year 2018 Assignment Group\n"
     ]
    },
    {
     "name": "stderr",
     "output_type": "stream",
     "text": [
      "C:\\Users\\wangs1\\AppData\\Local\\Continuum\\anaconda3\\envs\\lasso_wsp\\lib\\site-packages\\geopandas\\geodataframe.py:1351: SettingWithCopyWarning: \n",
      "A value is trying to be set on a copy of a slice from a DataFrame.\n",
      "Try using .loc[row_indexer,col_indexer] = value instead\n",
      "\n",
      "See the caveats in the documentation: https://pandas.pydata.org/pandas-docs/stable/user_guide/indexing.html#returning-a-view-versus-a-copy\n",
      "  super().__setitem__(key, value)\n"
     ]
    },
    {
     "name": "stdout",
     "output_type": "stream",
     "text": [
      "2022-03-22 17:53:38, INFO: Applying Correct Year 2018 Assignment Group\n",
      "2022-03-22 17:53:38, INFO: Applying Correct Year 2018 Assignment Group\n",
      "2022-03-22 17:53:38, INFO: Applying Project to Roadway Network: Correct Year 2018 Assignment Group\n",
      "2022-03-22 17:53:38, INFO: Applying Project to Roadway Network: Correct Year 2018 Assignment Group\n",
      "2022-03-22 17:53:38, INFO: Applying Correct Year 2018 Assignment Group\n",
      "2022-03-22 17:53:38, INFO: Applying Correct Year 2018 Assignment Group\n",
      "2022-03-22 17:53:38, INFO: Applying Project to Roadway Network: Correct Year 2018 Assignment Group\n",
      "2022-03-22 17:53:38, INFO: Applying Project to Roadway Network: Correct Year 2018 Assignment Group\n"
     ]
    },
    {
     "name": "stderr",
     "output_type": "stream",
     "text": [
      "C:\\Users\\wangs1\\AppData\\Local\\Continuum\\anaconda3\\envs\\lasso_wsp\\lib\\site-packages\\geopandas\\geodataframe.py:1351: SettingWithCopyWarning: \n",
      "A value is trying to be set on a copy of a slice from a DataFrame.\n",
      "Try using .loc[row_indexer,col_indexer] = value instead\n",
      "\n",
      "See the caveats in the documentation: https://pandas.pydata.org/pandas-docs/stable/user_guide/indexing.html#returning-a-view-versus-a-copy\n",
      "  super().__setitem__(key, value)\n",
      "C:\\Users\\wangs1\\AppData\\Local\\Continuum\\anaconda3\\envs\\lasso_wsp\\lib\\site-packages\\geopandas\\geodataframe.py:1351: SettingWithCopyWarning: \n",
      "A value is trying to be set on a copy of a slice from a DataFrame.\n",
      "Try using .loc[row_indexer,col_indexer] = value instead\n",
      "\n",
      "See the caveats in the documentation: https://pandas.pydata.org/pandas-docs/stable/user_guide/indexing.html#returning-a-view-versus-a-copy\n",
      "  super().__setitem__(key, value)\n",
      "C:\\Users\\wangs1\\AppData\\Local\\Continuum\\anaconda3\\envs\\lasso_wsp\\lib\\site-packages\\geopandas\\geodataframe.py:1351: SettingWithCopyWarning: \n",
      "A value is trying to be set on a copy of a slice from a DataFrame.\n",
      "Try using .loc[row_indexer,col_indexer] = value instead\n",
      "\n",
      "See the caveats in the documentation: https://pandas.pydata.org/pandas-docs/stable/user_guide/indexing.html#returning-a-view-versus-a-copy\n",
      "  super().__setitem__(key, value)\n"
     ]
    },
    {
     "name": "stdout",
     "output_type": "stream",
     "text": [
      "2022-03-22 17:53:38, INFO: Applying Correct Year 2018 Assignment Group\n",
      "2022-03-22 17:53:38, INFO: Applying Correct Year 2018 Assignment Group\n",
      "2022-03-22 17:53:38, INFO: Applying Project to Roadway Network: Correct Year 2018 Assignment Group\n",
      "2022-03-22 17:53:38, INFO: Applying Project to Roadway Network: Correct Year 2018 Assignment Group\n",
      "2022-03-22 17:53:38, INFO: Applying Correct Year 2018 Assignment Group\n",
      "2022-03-22 17:53:38, INFO: Applying Correct Year 2018 Assignment Group\n",
      "2022-03-22 17:53:38, INFO: Applying Project to Roadway Network: Correct Year 2018 Assignment Group\n",
      "2022-03-22 17:53:38, INFO: Applying Project to Roadway Network: Correct Year 2018 Assignment Group\n",
      "2022-03-22 17:53:38, INFO: Applying Correct Year 2018 Assignment Group\n",
      "2022-03-22 17:53:38, INFO: Applying Correct Year 2018 Assignment Group\n",
      "2022-03-22 17:53:38, INFO: Applying Project to Roadway Network: Correct Year 2018 Assignment Group\n",
      "2022-03-22 17:53:38, INFO: Applying Project to Roadway Network: Correct Year 2018 Assignment Group\n"
     ]
    },
    {
     "name": "stderr",
     "output_type": "stream",
     "text": [
      "C:\\Users\\wangs1\\AppData\\Local\\Continuum\\anaconda3\\envs\\lasso_wsp\\lib\\site-packages\\geopandas\\geodataframe.py:1351: SettingWithCopyWarning: \n",
      "A value is trying to be set on a copy of a slice from a DataFrame.\n",
      "Try using .loc[row_indexer,col_indexer] = value instead\n",
      "\n",
      "See the caveats in the documentation: https://pandas.pydata.org/pandas-docs/stable/user_guide/indexing.html#returning-a-view-versus-a-copy\n",
      "  super().__setitem__(key, value)\n",
      "C:\\Users\\wangs1\\AppData\\Local\\Continuum\\anaconda3\\envs\\lasso_wsp\\lib\\site-packages\\geopandas\\geodataframe.py:1351: SettingWithCopyWarning: \n",
      "A value is trying to be set on a copy of a slice from a DataFrame.\n",
      "Try using .loc[row_indexer,col_indexer] = value instead\n",
      "\n",
      "See the caveats in the documentation: https://pandas.pydata.org/pandas-docs/stable/user_guide/indexing.html#returning-a-view-versus-a-copy\n",
      "  super().__setitem__(key, value)\n"
     ]
    },
    {
     "name": "stdout",
     "output_type": "stream",
     "text": [
      "2022-03-22 17:53:39, INFO: Applying Correct Year 2018 Assignment Group\n",
      "2022-03-22 17:53:39, INFO: Applying Correct Year 2018 Assignment Group\n",
      "2022-03-22 17:53:39, INFO: Applying Project to Roadway Network: Correct Year 2018 Assignment Group\n",
      "2022-03-22 17:53:39, INFO: Applying Project to Roadway Network: Correct Year 2018 Assignment Group\n"
     ]
    },
    {
     "name": "stderr",
     "output_type": "stream",
     "text": [
      "C:\\Users\\wangs1\\AppData\\Local\\Continuum\\anaconda3\\envs\\lasso_wsp\\lib\\site-packages\\geopandas\\geodataframe.py:1351: SettingWithCopyWarning: \n",
      "A value is trying to be set on a copy of a slice from a DataFrame.\n",
      "Try using .loc[row_indexer,col_indexer] = value instead\n",
      "\n",
      "See the caveats in the documentation: https://pandas.pydata.org/pandas-docs/stable/user_guide/indexing.html#returning-a-view-versus-a-copy\n",
      "  super().__setitem__(key, value)\n"
     ]
    },
    {
     "name": "stdout",
     "output_type": "stream",
     "text": [
      "2022-03-22 17:53:40, INFO: Applying Correct Year 2018 Assignment Group\n",
      "2022-03-22 17:53:40, INFO: Applying Correct Year 2018 Assignment Group\n",
      "2022-03-22 17:53:40, INFO: Applying Project to Roadway Network: Correct Year 2018 Assignment Group\n",
      "2022-03-22 17:53:40, INFO: Applying Project to Roadway Network: Correct Year 2018 Assignment Group\n",
      "2022-03-22 17:53:40, INFO: Applying Correct Year 2018 Assignment Group\n",
      "2022-03-22 17:53:40, INFO: Applying Correct Year 2018 Assignment Group\n",
      "2022-03-22 17:53:40, INFO: Applying Project to Roadway Network: Correct Year 2018 Assignment Group\n",
      "2022-03-22 17:53:40, INFO: Applying Project to Roadway Network: Correct Year 2018 Assignment Group\n",
      "2022-03-22 17:53:40, INFO: Applying Correct Year 2018 Assignment Group\n",
      "2022-03-22 17:53:40, INFO: Applying Correct Year 2018 Assignment Group\n",
      "2022-03-22 17:53:40, INFO: Applying Project to Roadway Network: Correct Year 2018 Assignment Group\n",
      "2022-03-22 17:53:40, INFO: Applying Project to Roadway Network: Correct Year 2018 Assignment Group\n"
     ]
    },
    {
     "name": "stderr",
     "output_type": "stream",
     "text": [
      "C:\\Users\\wangs1\\AppData\\Local\\Continuum\\anaconda3\\envs\\lasso_wsp\\lib\\site-packages\\geopandas\\geodataframe.py:1351: SettingWithCopyWarning: \n",
      "A value is trying to be set on a copy of a slice from a DataFrame.\n",
      "Try using .loc[row_indexer,col_indexer] = value instead\n",
      "\n",
      "See the caveats in the documentation: https://pandas.pydata.org/pandas-docs/stable/user_guide/indexing.html#returning-a-view-versus-a-copy\n",
      "  super().__setitem__(key, value)\n",
      "C:\\Users\\wangs1\\AppData\\Local\\Continuum\\anaconda3\\envs\\lasso_wsp\\lib\\site-packages\\geopandas\\geodataframe.py:1351: SettingWithCopyWarning: \n",
      "A value is trying to be set on a copy of a slice from a DataFrame.\n",
      "Try using .loc[row_indexer,col_indexer] = value instead\n",
      "\n",
      "See the caveats in the documentation: https://pandas.pydata.org/pandas-docs/stable/user_guide/indexing.html#returning-a-view-versus-a-copy\n",
      "  super().__setitem__(key, value)\n",
      "C:\\Users\\wangs1\\AppData\\Local\\Continuum\\anaconda3\\envs\\lasso_wsp\\lib\\site-packages\\geopandas\\geodataframe.py:1351: SettingWithCopyWarning: \n",
      "A value is trying to be set on a copy of a slice from a DataFrame.\n",
      "Try using .loc[row_indexer,col_indexer] = value instead\n",
      "\n",
      "See the caveats in the documentation: https://pandas.pydata.org/pandas-docs/stable/user_guide/indexing.html#returning-a-view-versus-a-copy\n",
      "  super().__setitem__(key, value)\n"
     ]
    },
    {
     "name": "stdout",
     "output_type": "stream",
     "text": [
      "2022-03-22 17:53:41, INFO: Applying Correct Year 2018 Assignment Group\n",
      "2022-03-22 17:53:41, INFO: Applying Correct Year 2018 Assignment Group\n",
      "2022-03-22 17:53:41, INFO: Applying Project to Roadway Network: Correct Year 2018 Assignment Group\n",
      "2022-03-22 17:53:41, INFO: Applying Project to Roadway Network: Correct Year 2018 Assignment Group\n",
      "2022-03-22 17:53:41, INFO: Applying Correct Year 2018 Assignment Group\n",
      "2022-03-22 17:53:41, INFO: Applying Correct Year 2018 Assignment Group\n",
      "2022-03-22 17:53:41, INFO: Applying Project to Roadway Network: Correct Year 2018 Assignment Group\n",
      "2022-03-22 17:53:41, INFO: Applying Project to Roadway Network: Correct Year 2018 Assignment Group\n"
     ]
    },
    {
     "name": "stderr",
     "output_type": "stream",
     "text": [
      "C:\\Users\\wangs1\\AppData\\Local\\Continuum\\anaconda3\\envs\\lasso_wsp\\lib\\site-packages\\geopandas\\geodataframe.py:1351: SettingWithCopyWarning: \n",
      "A value is trying to be set on a copy of a slice from a DataFrame.\n",
      "Try using .loc[row_indexer,col_indexer] = value instead\n",
      "\n",
      "See the caveats in the documentation: https://pandas.pydata.org/pandas-docs/stable/user_guide/indexing.html#returning-a-view-versus-a-copy\n",
      "  super().__setitem__(key, value)\n",
      "C:\\Users\\wangs1\\AppData\\Local\\Continuum\\anaconda3\\envs\\lasso_wsp\\lib\\site-packages\\geopandas\\geodataframe.py:1351: SettingWithCopyWarning: \n",
      "A value is trying to be set on a copy of a slice from a DataFrame.\n",
      "Try using .loc[row_indexer,col_indexer] = value instead\n",
      "\n",
      "See the caveats in the documentation: https://pandas.pydata.org/pandas-docs/stable/user_guide/indexing.html#returning-a-view-versus-a-copy\n",
      "  super().__setitem__(key, value)\n"
     ]
    },
    {
     "name": "stdout",
     "output_type": "stream",
     "text": [
      "2022-03-22 17:53:42, INFO: Applying Correct Year 2018 Assignment Group\n",
      "2022-03-22 17:53:42, INFO: Applying Correct Year 2018 Assignment Group\n",
      "2022-03-22 17:53:42, INFO: Applying Project to Roadway Network: Correct Year 2018 Assignment Group\n",
      "2022-03-22 17:53:42, INFO: Applying Project to Roadway Network: Correct Year 2018 Assignment Group\n"
     ]
    },
    {
     "name": "stderr",
     "output_type": "stream",
     "text": [
      "C:\\Users\\wangs1\\AppData\\Local\\Continuum\\anaconda3\\envs\\lasso_wsp\\lib\\site-packages\\geopandas\\geodataframe.py:1351: SettingWithCopyWarning: \n",
      "A value is trying to be set on a copy of a slice from a DataFrame.\n",
      "Try using .loc[row_indexer,col_indexer] = value instead\n",
      "\n",
      "See the caveats in the documentation: https://pandas.pydata.org/pandas-docs/stable/user_guide/indexing.html#returning-a-view-versus-a-copy\n",
      "  super().__setitem__(key, value)\n"
     ]
    },
    {
     "name": "stdout",
     "output_type": "stream",
     "text": [
      "2022-03-22 17:53:51, INFO: Applying Correct Year 2018 Assignment Group\n",
      "2022-03-22 17:53:51, INFO: Applying Correct Year 2018 Assignment Group\n",
      "2022-03-22 17:53:51, INFO: Applying Project to Roadway Network: Correct Year 2018 Assignment Group\n",
      "2022-03-22 17:53:51, INFO: Applying Project to Roadway Network: Correct Year 2018 Assignment Group\n"
     ]
    },
    {
     "name": "stderr",
     "output_type": "stream",
     "text": [
      "C:\\Users\\wangs1\\AppData\\Local\\Continuum\\anaconda3\\envs\\lasso_wsp\\lib\\site-packages\\geopandas\\geodataframe.py:1351: SettingWithCopyWarning: \n",
      "A value is trying to be set on a copy of a slice from a DataFrame.\n",
      "Try using .loc[row_indexer,col_indexer] = value instead\n",
      "\n",
      "See the caveats in the documentation: https://pandas.pydata.org/pandas-docs/stable/user_guide/indexing.html#returning-a-view-versus-a-copy\n",
      "  super().__setitem__(key, value)\n"
     ]
    },
    {
     "name": "stdout",
     "output_type": "stream",
     "text": [
      "2022-03-22 17:54:00, INFO: Applying Correct Year 2018 Assignment Group\n",
      "2022-03-22 17:54:00, INFO: Applying Correct Year 2018 Assignment Group\n",
      "2022-03-22 17:54:00, INFO: Applying Project to Roadway Network: Correct Year 2018 Assignment Group\n",
      "2022-03-22 17:54:00, INFO: Applying Project to Roadway Network: Correct Year 2018 Assignment Group\n"
     ]
    },
    {
     "name": "stderr",
     "output_type": "stream",
     "text": [
      "C:\\Users\\wangs1\\AppData\\Local\\Continuum\\anaconda3\\envs\\lasso_wsp\\lib\\site-packages\\geopandas\\geodataframe.py:1351: SettingWithCopyWarning: \n",
      "A value is trying to be set on a copy of a slice from a DataFrame.\n",
      "Try using .loc[row_indexer,col_indexer] = value instead\n",
      "\n",
      "See the caveats in the documentation: https://pandas.pydata.org/pandas-docs/stable/user_guide/indexing.html#returning-a-view-versus-a-copy\n",
      "  super().__setitem__(key, value)\n"
     ]
    },
    {
     "name": "stdout",
     "output_type": "stream",
     "text": [
      "2022-03-22 17:54:06, INFO: Applying Correct Year 2018 Assignment Group\n",
      "2022-03-22 17:54:06, INFO: Applying Correct Year 2018 Assignment Group\n",
      "2022-03-22 17:54:06, INFO: Applying Project to Roadway Network: Correct Year 2018 Assignment Group\n",
      "2022-03-22 17:54:06, INFO: Applying Project to Roadway Network: Correct Year 2018 Assignment Group\n"
     ]
    },
    {
     "name": "stderr",
     "output_type": "stream",
     "text": [
      "C:\\Users\\wangs1\\AppData\\Local\\Continuum\\anaconda3\\envs\\lasso_wsp\\lib\\site-packages\\geopandas\\geodataframe.py:1351: SettingWithCopyWarning: \n",
      "A value is trying to be set on a copy of a slice from a DataFrame.\n",
      "Try using .loc[row_indexer,col_indexer] = value instead\n",
      "\n",
      "See the caveats in the documentation: https://pandas.pydata.org/pandas-docs/stable/user_guide/indexing.html#returning-a-view-versus-a-copy\n",
      "  super().__setitem__(key, value)\n"
     ]
    },
    {
     "name": "stdout",
     "output_type": "stream",
     "text": [
      "2022-03-22 17:54:15, INFO: Applying Correct Year 2018 Assignment Group\n",
      "2022-03-22 17:54:15, INFO: Applying Correct Year 2018 Assignment Group\n",
      "2022-03-22 17:54:15, INFO: Applying Project to Roadway Network: Correct Year 2018 Assignment Group\n",
      "2022-03-22 17:54:15, INFO: Applying Project to Roadway Network: Correct Year 2018 Assignment Group\n"
     ]
    },
    {
     "name": "stderr",
     "output_type": "stream",
     "text": [
      "C:\\Users\\wangs1\\AppData\\Local\\Continuum\\anaconda3\\envs\\lasso_wsp\\lib\\site-packages\\geopandas\\geodataframe.py:1351: SettingWithCopyWarning: \n",
      "A value is trying to be set on a copy of a slice from a DataFrame.\n",
      "Try using .loc[row_indexer,col_indexer] = value instead\n",
      "\n",
      "See the caveats in the documentation: https://pandas.pydata.org/pandas-docs/stable/user_guide/indexing.html#returning-a-view-versus-a-copy\n",
      "  super().__setitem__(key, value)\n"
     ]
    },
    {
     "name": "stdout",
     "output_type": "stream",
     "text": [
      "2022-03-22 17:54:24, INFO: Applying Correct Year 2018 Assignment Group\n",
      "2022-03-22 17:54:24, INFO: Applying Correct Year 2018 Assignment Group\n",
      "2022-03-22 17:54:24, INFO: Applying Project to Roadway Network: Correct Year 2018 Assignment Group\n",
      "2022-03-22 17:54:24, INFO: Applying Project to Roadway Network: Correct Year 2018 Assignment Group\n"
     ]
    },
    {
     "name": "stderr",
     "output_type": "stream",
     "text": [
      "C:\\Users\\wangs1\\AppData\\Local\\Continuum\\anaconda3\\envs\\lasso_wsp\\lib\\site-packages\\geopandas\\geodataframe.py:1351: SettingWithCopyWarning: \n",
      "A value is trying to be set on a copy of a slice from a DataFrame.\n",
      "Try using .loc[row_indexer,col_indexer] = value instead\n",
      "\n",
      "See the caveats in the documentation: https://pandas.pydata.org/pandas-docs/stable/user_guide/indexing.html#returning-a-view-versus-a-copy\n",
      "  super().__setitem__(key, value)\n"
     ]
    },
    {
     "name": "stdout",
     "output_type": "stream",
     "text": [
      "2022-03-22 17:54:32, INFO: Applying Correct Year 2018 Assignment Group\n",
      "2022-03-22 17:54:32, INFO: Applying Correct Year 2018 Assignment Group\n",
      "2022-03-22 17:54:32, INFO: Applying Project to Roadway Network: Correct Year 2018 Assignment Group\n",
      "2022-03-22 17:54:32, INFO: Applying Project to Roadway Network: Correct Year 2018 Assignment Group\n"
     ]
    },
    {
     "name": "stderr",
     "output_type": "stream",
     "text": [
      "C:\\Users\\wangs1\\AppData\\Local\\Continuum\\anaconda3\\envs\\lasso_wsp\\lib\\site-packages\\geopandas\\geodataframe.py:1351: SettingWithCopyWarning: \n",
      "A value is trying to be set on a copy of a slice from a DataFrame.\n",
      "Try using .loc[row_indexer,col_indexer] = value instead\n",
      "\n",
      "See the caveats in the documentation: https://pandas.pydata.org/pandas-docs/stable/user_guide/indexing.html#returning-a-view-versus-a-copy\n",
      "  super().__setitem__(key, value)\n"
     ]
    },
    {
     "name": "stdout",
     "output_type": "stream",
     "text": [
      "2022-03-22 17:54:40, INFO: Applying Correct Year 2018 Assignment Group\n",
      "2022-03-22 17:54:40, INFO: Applying Correct Year 2018 Assignment Group\n",
      "2022-03-22 17:54:40, INFO: Applying Project to Roadway Network: Correct Year 2018 Assignment Group\n",
      "2022-03-22 17:54:40, INFO: Applying Project to Roadway Network: Correct Year 2018 Assignment Group\n"
     ]
    },
    {
     "name": "stderr",
     "output_type": "stream",
     "text": [
      "C:\\Users\\wangs1\\AppData\\Local\\Continuum\\anaconda3\\envs\\lasso_wsp\\lib\\site-packages\\geopandas\\geodataframe.py:1351: SettingWithCopyWarning: \n",
      "A value is trying to be set on a copy of a slice from a DataFrame.\n",
      "Try using .loc[row_indexer,col_indexer] = value instead\n",
      "\n",
      "See the caveats in the documentation: https://pandas.pydata.org/pandas-docs/stable/user_guide/indexing.html#returning-a-view-versus-a-copy\n",
      "  super().__setitem__(key, value)\n"
     ]
    },
    {
     "name": "stdout",
     "output_type": "stream",
     "text": [
      "2022-03-22 17:54:53, INFO: Applying Correct Year 2018 Assignment Group\n",
      "2022-03-22 17:54:53, INFO: Applying Correct Year 2018 Assignment Group\n",
      "2022-03-22 17:54:53, INFO: Applying Project to Roadway Network: Correct Year 2018 Assignment Group\n",
      "2022-03-22 17:54:53, INFO: Applying Project to Roadway Network: Correct Year 2018 Assignment Group\n"
     ]
    },
    {
     "name": "stderr",
     "output_type": "stream",
     "text": [
      "C:\\Users\\wangs1\\AppData\\Local\\Continuum\\anaconda3\\envs\\lasso_wsp\\lib\\site-packages\\geopandas\\geodataframe.py:1351: SettingWithCopyWarning: \n",
      "A value is trying to be set on a copy of a slice from a DataFrame.\n",
      "Try using .loc[row_indexer,col_indexer] = value instead\n",
      "\n",
      "See the caveats in the documentation: https://pandas.pydata.org/pandas-docs/stable/user_guide/indexing.html#returning-a-view-versus-a-copy\n",
      "  super().__setitem__(key, value)\n"
     ]
    },
    {
     "name": "stdout",
     "output_type": "stream",
     "text": [
      "2022-03-22 17:55:02, INFO: Applying Correct Year 2018 Assignment Group\n",
      "2022-03-22 17:55:02, INFO: Applying Correct Year 2018 Assignment Group\n",
      "2022-03-22 17:55:02, INFO: Applying Project to Roadway Network: Correct Year 2018 Assignment Group\n",
      "2022-03-22 17:55:02, INFO: Applying Project to Roadway Network: Correct Year 2018 Assignment Group\n"
     ]
    },
    {
     "name": "stderr",
     "output_type": "stream",
     "text": [
      "C:\\Users\\wangs1\\AppData\\Local\\Continuum\\anaconda3\\envs\\lasso_wsp\\lib\\site-packages\\geopandas\\geodataframe.py:1351: SettingWithCopyWarning: \n",
      "A value is trying to be set on a copy of a slice from a DataFrame.\n",
      "Try using .loc[row_indexer,col_indexer] = value instead\n",
      "\n",
      "See the caveats in the documentation: https://pandas.pydata.org/pandas-docs/stable/user_guide/indexing.html#returning-a-view-versus-a-copy\n",
      "  super().__setitem__(key, value)\n"
     ]
    },
    {
     "name": "stdout",
     "output_type": "stream",
     "text": [
      "2022-03-22 17:55:08, INFO: Applying Correct Year 2018 Assignment Group\n",
      "2022-03-22 17:55:08, INFO: Applying Correct Year 2018 Assignment Group\n",
      "2022-03-22 17:55:08, INFO: Applying Project to Roadway Network: Correct Year 2018 Assignment Group\n",
      "2022-03-22 17:55:08, INFO: Applying Project to Roadway Network: Correct Year 2018 Assignment Group\n"
     ]
    },
    {
     "name": "stderr",
     "output_type": "stream",
     "text": [
      "C:\\Users\\wangs1\\AppData\\Local\\Continuum\\anaconda3\\envs\\lasso_wsp\\lib\\site-packages\\geopandas\\geodataframe.py:1351: SettingWithCopyWarning: \n",
      "A value is trying to be set on a copy of a slice from a DataFrame.\n",
      "Try using .loc[row_indexer,col_indexer] = value instead\n",
      "\n",
      "See the caveats in the documentation: https://pandas.pydata.org/pandas-docs/stable/user_guide/indexing.html#returning-a-view-versus-a-copy\n",
      "  super().__setitem__(key, value)\n"
     ]
    },
    {
     "name": "stdout",
     "output_type": "stream",
     "text": [
      "2022-03-22 17:55:19, INFO: Applying Correct Year 2018 Assignment Group\n",
      "2022-03-22 17:55:19, INFO: Applying Correct Year 2018 Assignment Group\n",
      "2022-03-22 17:55:19, INFO: Applying Project to Roadway Network: Correct Year 2018 Assignment Group\n",
      "2022-03-22 17:55:19, INFO: Applying Project to Roadway Network: Correct Year 2018 Assignment Group\n"
     ]
    },
    {
     "name": "stderr",
     "output_type": "stream",
     "text": [
      "C:\\Users\\wangs1\\AppData\\Local\\Continuum\\anaconda3\\envs\\lasso_wsp\\lib\\site-packages\\geopandas\\geodataframe.py:1351: SettingWithCopyWarning: \n",
      "A value is trying to be set on a copy of a slice from a DataFrame.\n",
      "Try using .loc[row_indexer,col_indexer] = value instead\n",
      "\n",
      "See the caveats in the documentation: https://pandas.pydata.org/pandas-docs/stable/user_guide/indexing.html#returning-a-view-versus-a-copy\n",
      "  super().__setitem__(key, value)\n"
     ]
    },
    {
     "name": "stdout",
     "output_type": "stream",
     "text": [
      "2022-03-22 17:55:25, INFO: Applying Correct Year 2018 Assignment Group\n",
      "2022-03-22 17:55:25, INFO: Applying Correct Year 2018 Assignment Group\n",
      "2022-03-22 17:55:25, INFO: Applying Project to Roadway Network: Correct Year 2018 Assignment Group\n",
      "2022-03-22 17:55:25, INFO: Applying Project to Roadway Network: Correct Year 2018 Assignment Group\n"
     ]
    },
    {
     "name": "stderr",
     "output_type": "stream",
     "text": [
      "C:\\Users\\wangs1\\AppData\\Local\\Continuum\\anaconda3\\envs\\lasso_wsp\\lib\\site-packages\\geopandas\\geodataframe.py:1351: SettingWithCopyWarning: \n",
      "A value is trying to be set on a copy of a slice from a DataFrame.\n",
      "Try using .loc[row_indexer,col_indexer] = value instead\n",
      "\n",
      "See the caveats in the documentation: https://pandas.pydata.org/pandas-docs/stable/user_guide/indexing.html#returning-a-view-versus-a-copy\n",
      "  super().__setitem__(key, value)\n"
     ]
    },
    {
     "name": "stdout",
     "output_type": "stream",
     "text": [
      "2022-03-22 17:55:26, INFO: Applying Correct Year 2018 Assignment Group\n",
      "2022-03-22 17:55:26, INFO: Applying Correct Year 2018 Assignment Group\n",
      "2022-03-22 17:55:26, INFO: Applying Project to Roadway Network: Correct Year 2018 Assignment Group\n",
      "2022-03-22 17:55:26, INFO: Applying Project to Roadway Network: Correct Year 2018 Assignment Group\n"
     ]
    },
    {
     "name": "stderr",
     "output_type": "stream",
     "text": [
      "C:\\Users\\wangs1\\AppData\\Local\\Continuum\\anaconda3\\envs\\lasso_wsp\\lib\\site-packages\\geopandas\\geodataframe.py:1351: SettingWithCopyWarning: \n",
      "A value is trying to be set on a copy of a slice from a DataFrame.\n",
      "Try using .loc[row_indexer,col_indexer] = value instead\n",
      "\n",
      "See the caveats in the documentation: https://pandas.pydata.org/pandas-docs/stable/user_guide/indexing.html#returning-a-view-versus-a-copy\n",
      "  super().__setitem__(key, value)\n"
     ]
    },
    {
     "name": "stdout",
     "output_type": "stream",
     "text": [
      "2022-03-22 17:55:26, INFO: Applying Correct Year 2018 Assignment Group\n",
      "2022-03-22 17:55:26, INFO: Applying Correct Year 2018 Assignment Group\n",
      "2022-03-22 17:55:26, INFO: Applying Project to Roadway Network: Correct Year 2018 Assignment Group\n",
      "2022-03-22 17:55:26, INFO: Applying Project to Roadway Network: Correct Year 2018 Assignment Group\n",
      "2022-03-22 17:55:26, INFO: Applying Correct Year 2018 Assignment Group\n",
      "2022-03-22 17:55:26, INFO: Applying Correct Year 2018 Assignment Group\n",
      "2022-03-22 17:55:26, INFO: Applying Project to Roadway Network: Correct Year 2018 Assignment Group\n",
      "2022-03-22 17:55:26, INFO: Applying Project to Roadway Network: Correct Year 2018 Assignment Group\n"
     ]
    },
    {
     "name": "stderr",
     "output_type": "stream",
     "text": [
      "C:\\Users\\wangs1\\AppData\\Local\\Continuum\\anaconda3\\envs\\lasso_wsp\\lib\\site-packages\\geopandas\\geodataframe.py:1351: SettingWithCopyWarning: \n",
      "A value is trying to be set on a copy of a slice from a DataFrame.\n",
      "Try using .loc[row_indexer,col_indexer] = value instead\n",
      "\n",
      "See the caveats in the documentation: https://pandas.pydata.org/pandas-docs/stable/user_guide/indexing.html#returning-a-view-versus-a-copy\n",
      "  super().__setitem__(key, value)\n",
      "C:\\Users\\wangs1\\AppData\\Local\\Continuum\\anaconda3\\envs\\lasso_wsp\\lib\\site-packages\\geopandas\\geodataframe.py:1351: SettingWithCopyWarning: \n",
      "A value is trying to be set on a copy of a slice from a DataFrame.\n",
      "Try using .loc[row_indexer,col_indexer] = value instead\n",
      "\n",
      "See the caveats in the documentation: https://pandas.pydata.org/pandas-docs/stable/user_guide/indexing.html#returning-a-view-versus-a-copy\n",
      "  super().__setitem__(key, value)\n"
     ]
    },
    {
     "name": "stdout",
     "output_type": "stream",
     "text": [
      "2022-03-22 17:55:35, INFO: Applying 35W south managed lane\n",
      "2022-03-22 17:55:35, INFO: Applying 35W south managed lane\n",
      "2022-03-22 17:55:35, INFO: Applying 35W south managed lane\n",
      "2022-03-22 17:55:35, INFO: Applying 35W south managed lane\n",
      "2022-03-22 17:55:35, INFO: Applying Project to Roadway Network: 35W south managed lane\n",
      "2022-03-22 17:55:35, INFO: Applying Project to Roadway Network: 35W south managed lane\n"
     ]
    },
    {
     "name": "stderr",
     "output_type": "stream",
     "text": [
      "C:\\Users\\wangs1\\AppData\\Local\\Continuum\\anaconda3\\envs\\lasso_wsp\\lib\\site-packages\\geopandas\\geodataframe.py:1351: SettingWithCopyWarning: \n",
      "A value is trying to be set on a copy of a slice from a DataFrame.\n",
      "Try using .loc[row_indexer,col_indexer] = value instead\n",
      "\n",
      "See the caveats in the documentation: https://pandas.pydata.org/pandas-docs/stable/user_guide/indexing.html#returning-a-view-versus-a-copy\n",
      "  super().__setitem__(key, value)\n",
      "C:\\Users\\wangs1\\AppData\\Local\\Continuum\\anaconda3\\envs\\lasso_wsp\\lib\\site-packages\\geopandas\\geodataframe.py:1351: SettingWithCopyWarning: \n",
      "A value is trying to be set on a copy of a slice from a DataFrame.\n",
      "Try using .loc[row_indexer,col_indexer] = value instead\n",
      "\n",
      "See the caveats in the documentation: https://pandas.pydata.org/pandas-docs/stable/user_guide/indexing.html#returning-a-view-versus-a-copy\n",
      "  super().__setitem__(key, value)\n"
     ]
    }
   ],
   "source": [
    "for project_card in project_card_list:\n",
    "    v_01_scenario.apply_project(project_card)"
   ]
  },
  {
   "cell_type": "code",
   "execution_count": 12,
   "metadata": {},
   "outputs": [
    {
     "data": {
      "text/plain": [
       "['Manual Changes to Assignment Group and Roadway Class',\n",
       " 'Correct Year 2018 Assignment Group and Roadway Class',\n",
       " 'Correct Year 2018 Assignment Group',\n",
       " '35W south managed lane']"
      ]
     },
     "execution_count": 12,
     "metadata": {},
     "output_type": "execute_result"
    }
   ],
   "source": [
    "v_01_scenario.applied_projects"
   ]
  },
  {
   "cell_type": "code",
   "execution_count": 13,
   "metadata": {},
   "outputs": [
    {
     "data": {
      "text/plain": [
       "4     285562\n",
       "5     160017\n",
       "3     109828\n",
       "7      86084\n",
       "1      81573\n",
       "2      42275\n",
       "22     41347\n",
       "6      32432\n",
       "21     32371\n",
       "13     26158\n",
       "15     25391\n",
       "12     24665\n",
       "18     22596\n",
       "17     21948\n",
       "19     17520\n",
       "11     14979\n",
       "16     12073\n",
       "14     10114\n",
       "20      9439\n",
       "10       293\n",
       "Name: county, dtype: int64"
      ]
     },
     "execution_count": 13,
     "metadata": {},
     "output_type": "execute_result"
    }
   ],
   "source": [
    "v_01_scenario.road_net.links_df['county'].value_counts(dropna = False)"
   ]
  },
  {
   "cell_type": "markdown",
   "metadata": {},
   "source": [
    "## Make Travel Model Network"
   ]
  },
  {
   "cell_type": "code",
   "execution_count": 14,
   "metadata": {},
   "outputs": [
    {
     "name": "stdout",
     "output_type": "stream",
     "text": [
      "2022-03-22 17:57:03, INFO: Lasso base directory set as: Z:/Data/Users/Sijia/Met_Council/github/client_met_council_wrangler_utilities\n",
      "2022-03-22 17:57:03, INFO: Lasso base directory set as: Z:/Data/Users/Sijia/Met_Council/github/client_met_council_wrangler_utilities\n"
     ]
    }
   ],
   "source": [
    "m_net = ModelRoadwayNetwork.from_RoadwayNetwork(\n",
    "    roadway_network_object = v_01_scenario.road_net, \n",
    "    parameters = parameters)"
   ]
  },
  {
   "cell_type": "markdown",
   "metadata": {},
   "source": [
    "#### add centroid and centroid connectors"
   ]
  },
  {
   "cell_type": "code",
   "execution_count": 15,
   "metadata": {
    "scrolled": true
   },
   "outputs": [
    {
     "name": "stdout",
     "output_type": "stream",
     "text": [
      "2022-03-22 17:57:03, INFO: Adding centroid and centroid connector to standard network\n",
      "2022-03-22 17:57:03, INFO: Adding centroid and centroid connector to standard network\n",
      "2022-03-22 17:57:03, INFO: Lasso base directory set as: Z:/Data/Users/Sijia/Met_Council/github/client_met_council_wrangler_utilities\n",
      "2022-03-22 17:57:03, INFO: Lasso base directory set as: Z:/Data/Users/Sijia/Met_Council/github/client_met_council_wrangler_utilities\n",
      "2022-03-22 17:57:07, INFO: Finished adding centroid and centroid connectors\n",
      "2022-03-22 17:57:07, INFO: Finished adding centroid and centroid connectors\n"
     ]
    }
   ],
   "source": [
    "m_net = metcouncil.add_centroid_and_centroid_connector(\n",
    "    roadway_network = m_net,\n",
    "    parameters = parameters,\n",
    "    centroid_file = parameters.centroid_file,\n",
    "    centroid_connector_link_file = parameters.centroid_connector_link_file,\n",
    "    centroid_connector_shape_file = parameters.centroid_connector_shape_file,\n",
    ")"
   ]
  },
  {
   "cell_type": "code",
   "execution_count": 16,
   "metadata": {},
   "outputs": [
    {
     "name": "stdout",
     "output_type": "stream",
     "text": [
      "3030\n",
      "412318\n",
      "3121\n",
      "float64\n",
      "Empty GeoDataFrame\n",
      "Columns: [osm_node_id, shst_node_id, county, drive_access, walk_access, bike_access, model_node_id, rail_only, geometry, X, Y]\n",
      "Index: []\n",
      "412227\n",
      "415348\n",
      "47642\n",
      "1056665\n",
      "1104307\n",
      "23821\n",
      "23821\n",
      "23911\n",
      "Empty GeoDataFrame\n",
      "Columns: [shstReferenceId, id, shstGeometryId, fromIntersectionId, toIntersectionId, u, v, nodeIds, wayId, roadClass, oneWay, roundabout, link, oneway, ref, name, highway, service, width, maxspeed, access, junction, bridge, tunnel, landuse, area, key, forward, roadway, drive_access, walk_access, bike_access, county, length, model_link_id, A, B, locationReferences, rail_only, geometry, centroidconnect, lanes, bus_only, assign_group, roadway_class, area_type, ramp_flag, managed, ML_lanes, ML_price, segment_id, ML_access, ML_egress]\n",
      "Index: []\n",
      "\n",
      "[0 rows x 53 columns]\n",
      "23911\n",
      "Empty GeoDataFrame\n",
      "Columns: [shstReferenceId, id, shstGeometryId, fromIntersectionId, toIntersectionId, u, v, nodeIds, wayId, roadClass, oneWay, roundabout, link, oneway, ref, name, highway, service, width, maxspeed, access, junction, bridge, tunnel, landuse, area, key, forward, roadway, drive_access, walk_access, bike_access, county, length, model_link_id, A, B, locationReferences, rail_only, geometry, centroidconnect, lanes, bus_only, assign_group, roadway_class, area_type, ramp_flag, managed, ML_lanes, ML_price, segment_id, ML_access, ML_egress]\n",
      "Index: []\n",
      "\n",
      "[0 rows x 53 columns]\n",
      "460049\n"
     ]
    }
   ],
   "source": [
    "# check if missing IDs\n",
    "# centroids does not have osm and shst IDs\n",
    "# centroid connectors does not have osm and shst IDs\n",
    "\n",
    "# if node missing shst id\n",
    "print(m_net.nodes_df.shst_node_id.isnull().sum())\n",
    "print(m_net.nodes_df.shst_node_id.nunique())\n",
    "# if node missing osm id\n",
    "print(m_net.nodes_df.osm_node_id.isnull().sum())\n",
    "# if node missing osm id\n",
    "print(m_net.nodes_df.osm_node_id.dtype)\n",
    "print(m_net.nodes_df[m_net.nodes_df.osm_node_id == 0])\n",
    "print(m_net.nodes_df.osm_node_id.nunique())\n",
    "# if node missing model node id\n",
    "print(m_net.nodes_df.model_node_id.nunique())\n",
    "\n",
    "# if link missing \n",
    "print(m_net.links_df.shstReferenceId.isnull().sum())\n",
    "print(m_net.links_df.shstReferenceId.nunique())\n",
    "print(m_net.links_df.model_link_id.nunique())\n",
    "\n",
    "# if link missing node id\n",
    "print(m_net.links_df.fromIntersectionId.isnull().sum())\n",
    "print(m_net.links_df.toIntersectionId.isnull().sum())\n",
    "print(m_net.links_df.u.isnull().sum())\n",
    "print(m_net.links_df[m_net.links_df.u == 0])\n",
    "print(m_net.links_df.v.isnull().sum())\n",
    "print(m_net.links_df[m_net.links_df.v == 0])\n",
    "print(len(set(m_net.links_df.v.tolist() + m_net.links_df.u.tolist())))"
   ]
  },
  {
   "cell_type": "code",
   "execution_count": 17,
   "metadata": {},
   "outputs": [
    {
     "data": {
      "text/plain": [
       "412227"
      ]
     },
     "execution_count": 17,
     "metadata": {},
     "output_type": "execute_result"
    }
   ],
   "source": [
    "len({x for x in set(m_net.links_df.v.tolist() + m_net.links_df.u.tolist()) if x == x})"
   ]
  },
  {
   "cell_type": "markdown",
   "metadata": {},
   "source": [
    "#### add rail access and egress links"
   ]
  },
  {
   "cell_type": "code",
   "execution_count": 18,
   "metadata": {},
   "outputs": [
    {
     "name": "stdout",
     "output_type": "stream",
     "text": [
      "2022-03-22 17:58:12, INFO: Creating rail access and egress connection links\n",
      "2022-03-22 17:58:12, INFO: Creating rail access and egress connection links\n"
     ]
    },
    {
     "name": "stderr",
     "output_type": "stream",
     "text": [
      "C:\\Users\\wangs1\\AppData\\Local\\Continuum\\anaconda3\\envs\\lasso_wsp\\lib\\site-packages\\pandas\\core\\dtypes\\cast.py:118: ShapelyDeprecationWarning: The array interface is deprecated and will no longer work in Shapely 2.0. Convert the '.coords' to a numpy array instead.\n",
      "  arr = construct_1d_object_array_from_listlike(values)\n"
     ]
    }
   ],
   "source": [
    "m_net = metcouncil.add_rail_ae_connections(\n",
    "    m_net,\n",
    "    parameters\n",
    ")"
   ]
  },
  {
   "cell_type": "code",
   "execution_count": 19,
   "metadata": {},
   "outputs": [
    {
     "name": "stdout",
     "output_type": "stream",
     "text": [
      "3030\n",
      "412318\n",
      "3121\n",
      "float64\n",
      "Empty GeoDataFrame\n",
      "Columns: [osm_node_id, shst_node_id, county, drive_access, walk_access, bike_access, model_node_id, rail_only, geometry, X, Y]\n",
      "Index: []\n",
      "412227\n",
      "415348\n",
      "47824\n",
      "1056665\n",
      "1104489\n",
      "24003\n",
      "24003\n",
      "24093\n",
      "Empty GeoDataFrame\n",
      "Columns: [shstReferenceId, id, shstGeometryId, fromIntersectionId, toIntersectionId, u, v, nodeIds, wayId, roadClass, oneWay, roundabout, link, oneway, ref, name, highway, service, width, maxspeed, access, junction, bridge, tunnel, landuse, area, key, forward, roadway, drive_access, walk_access, bike_access, county, length, model_link_id, A, B, locationReferences, rail_only, geometry, centroidconnect, lanes, bus_only, assign_group, roadway_class, area_type, ramp_flag, managed, ML_lanes, ML_price, segment_id, ML_access, ML_egress]\n",
      "Index: []\n",
      "\n",
      "[0 rows x 53 columns]\n",
      "24093\n",
      "Empty GeoDataFrame\n",
      "Columns: [shstReferenceId, id, shstGeometryId, fromIntersectionId, toIntersectionId, u, v, nodeIds, wayId, roadClass, oneWay, roundabout, link, oneway, ref, name, highway, service, width, maxspeed, access, junction, bridge, tunnel, landuse, area, key, forward, roadway, drive_access, walk_access, bike_access, county, length, model_link_id, A, B, locationReferences, rail_only, geometry, centroidconnect, lanes, bus_only, assign_group, roadway_class, area_type, ramp_flag, managed, ML_lanes, ML_price, segment_id, ML_access, ML_egress]\n",
      "Index: []\n",
      "\n",
      "[0 rows x 53 columns]\n",
      "460413\n"
     ]
    }
   ],
   "source": [
    "# check if missing IDs\n",
    "# centroids does not have osm and shst IDs\n",
    "# centroid connectors does not have osm and shst IDs\n",
    "\n",
    "# if node missing shst id\n",
    "print(m_net.nodes_df.shst_node_id.isnull().sum())\n",
    "print(m_net.nodes_df.shst_node_id.nunique())\n",
    "# if node missing osm id\n",
    "print(m_net.nodes_df.osm_node_id.isnull().sum())\n",
    "# if node missing osm id\n",
    "print(m_net.nodes_df.osm_node_id.dtype)\n",
    "print(m_net.nodes_df[m_net.nodes_df.osm_node_id == 0])\n",
    "print(m_net.nodes_df.osm_node_id.nunique())\n",
    "# if node missing model node id\n",
    "print(m_net.nodes_df.model_node_id.nunique())\n",
    "\n",
    "# if link missing \n",
    "print(m_net.links_df.shstReferenceId.isnull().sum())\n",
    "print(m_net.links_df.shstReferenceId.nunique())\n",
    "print(m_net.links_df.model_link_id.nunique())\n",
    "\n",
    "# if link missing node id\n",
    "print(m_net.links_df.fromIntersectionId.isnull().sum())\n",
    "print(m_net.links_df.toIntersectionId.isnull().sum())\n",
    "print(m_net.links_df.u.isnull().sum())\n",
    "print(m_net.links_df[m_net.links_df.u == 0])\n",
    "print(m_net.links_df.v.isnull().sum())\n",
    "print(m_net.links_df[m_net.links_df.v == 0])\n",
    "print(len(set(m_net.links_df.v.tolist() + m_net.links_df.u.tolist())))"
   ]
  },
  {
   "cell_type": "code",
   "execution_count": 20,
   "metadata": {},
   "outputs": [],
   "source": [
    "m_net.links_df['name'] = m_net.links_df['name'].apply(lambda x: util.shorten_name(x))"
   ]
  },
  {
   "cell_type": "code",
   "execution_count": 21,
   "metadata": {
    "scrolled": true
   },
   "outputs": [
    {
     "name": "stdout",
     "output_type": "stream",
     "text": [
      "2022-03-22 17:59:16, INFO: Renaming roadway attributes to be consistent with what metcouncil's model is expecting\n",
      "2022-03-22 17:59:16, INFO: Renaming roadway attributes to be consistent with what metcouncil's model is expecting\n",
      "2022-03-22 17:59:16, INFO: Creating managed lane network.\n",
      "2022-03-22 17:59:16, INFO: Creating managed lane network.\n",
      "2022-03-22 17:59:16, INFO: Creating network with duplicated managed lanes\n",
      "2022-03-22 17:59:16, INFO: Creating network with duplicated managed lanes\n"
     ]
    },
    {
     "name": "stderr",
     "output_type": "stream",
     "text": [
      "C:\\Users\\wangs1\\AppData\\Local\\Continuum\\anaconda3\\envs\\lasso_wsp\\lib\\site-packages\\geopandas\\geodataframe.py:1351: SettingWithCopyWarning: \n",
      "A value is trying to be set on a copy of a slice from a DataFrame.\n",
      "Try using .loc[row_indexer,col_indexer] = value instead\n",
      "\n",
      "See the caveats in the documentation: https://pandas.pydata.org/pandas-docs/stable/user_guide/indexing.html#returning-a-view-versus-a-copy\n",
      "  super().__setitem__(key, value)\n",
      "C:\\Users\\wangs1\\AppData\\Local\\Continuum\\anaconda3\\envs\\lasso_wsp\\lib\\site-packages\\geopandas\\geodataframe.py:1350: UserWarning: Geometry column does not contain geometry.\n",
      "  warnings.warn(\"Geometry column does not contain geometry.\")\n",
      "C:\\Users\\wangs1\\AppData\\Local\\Continuum\\anaconda3\\envs\\lasso_wsp\\lib\\site-packages\\pandas\\core\\indexing.py:1773: SettingWithCopyWarning: \n",
      "A value is trying to be set on a copy of a slice from a DataFrame.\n",
      "Try using .loc[row_indexer,col_indexer] = value instead\n",
      "\n",
      "See the caveats in the documentation: https://pandas.pydata.org/pandas-docs/stable/user_guide/indexing.html#returning-a-view-versus-a-copy\n",
      "  self._setitem_single_column(ilocs[0], value, pi)\n",
      "C:\\Users\\wangs1\\AppData\\Local\\Continuum\\anaconda3\\envs\\lasso_wsp\\lib\\site-packages\\pandas\\core\\dtypes\\cast.py:118: ShapelyDeprecationWarning: The array interface is deprecated and will no longer work in Shapely 2.0. Convert the '.coords' to a numpy array instead.\n",
      "  arr = construct_1d_object_array_from_listlike(values)\n",
      "C:\\Users\\wangs1\\AppData\\Local\\Continuum\\anaconda3\\envs\\lasso_wsp\\lib\\site-packages\\pandas\\core\\dtypes\\cast.py:118: ShapelyDeprecationWarning: The array interface is deprecated and will no longer work in Shapely 2.0. Convert the '.coords' to a numpy array instead.\n",
      "  arr = construct_1d_object_array_from_listlike(values)\n",
      "C:\\Users\\wangs1\\AppData\\Local\\Continuum\\anaconda3\\envs\\lasso_wsp\\lib\\site-packages\\pandas\\core\\dtypes\\cast.py:118: ShapelyDeprecationWarning: The array interface is deprecated and will no longer work in Shapely 2.0. Convert the '.coords' to a numpy array instead.\n",
      "  arr = construct_1d_object_array_from_listlike(values)\n",
      "C:\\Users\\wangs1\\AppData\\Local\\Continuum\\anaconda3\\envs\\lasso_wsp\\lib\\site-packages\\pandas\\core\\dtypes\\cast.py:118: ShapelyDeprecationWarning: The array interface is deprecated and will no longer work in Shapely 2.0. Convert the '.coords' to a numpy array instead.\n",
      "  arr = construct_1d_object_array_from_listlike(values)\n",
      "C:\\Users\\wangs1\\AppData\\Local\\Continuum\\anaconda3\\envs\\lasso_wsp\\lib\\site-packages\\pandas\\core\\dtypes\\cast.py:118: ShapelyDeprecationWarning: The array interface is deprecated and will no longer work in Shapely 2.0. Convert the '.coords' to a numpy array instead.\n",
      "  arr = construct_1d_object_array_from_listlike(values)\n",
      "C:\\Users\\wangs1\\AppData\\Local\\Continuum\\anaconda3\\envs\\lasso_wsp\\lib\\site-packages\\pandas\\core\\dtypes\\cast.py:118: ShapelyDeprecationWarning: The array interface is deprecated and will no longer work in Shapely 2.0. Convert the '.coords' to a numpy array instead.\n",
      "  arr = construct_1d_object_array_from_listlike(values)\n",
      "C:\\Users\\wangs1\\AppData\\Local\\Continuum\\anaconda3\\envs\\lasso_wsp\\lib\\site-packages\\pandas\\core\\dtypes\\cast.py:118: ShapelyDeprecationWarning: The array interface is deprecated and will no longer work in Shapely 2.0. Convert the '.coords' to a numpy array instead.\n",
      "  arr = construct_1d_object_array_from_listlike(values)\n",
      "C:\\Users\\wangs1\\AppData\\Local\\Continuum\\anaconda3\\envs\\lasso_wsp\\lib\\site-packages\\pandas\\core\\dtypes\\cast.py:118: ShapelyDeprecationWarning: The array interface is deprecated and will no longer work in Shapely 2.0. Convert the '.coords' to a numpy array instead.\n",
      "  arr = construct_1d_object_array_from_listlike(values)\n"
     ]
    },
    {
     "name": "stdout",
     "output_type": "stream",
     "text": [
      "2022-03-22 18:00:11, INFO: Creating calculated roadway variables.\n",
      "2022-03-22 18:00:11, INFO: Creating calculated roadway variables.\n",
      "2022-03-22 18:00:11, INFO: Area Type Variable 'area_type' already in network. Returning without overwriting.\n",
      "2022-03-22 18:00:11, INFO: Area Type Variable 'area_type' already in network. Returning without overwriting.\n",
      "2022-03-22 18:00:11, INFO: Overwriting existing County Variable 'county' already in network\n",
      "2022-03-22 18:00:11, INFO: Overwriting existing County Variable 'county' already in network\n",
      "2022-03-22 18:00:11, INFO: Adding roadway network variable for county using a spatial join with: Z:/Data/Users/Sijia/Met_Council/github/client_met_council_wrangler_utilities\\metcouncil_data\\county\\cb_2017_us_county_5m.shp\n",
      "2022-03-22 18:00:11, INFO: Adding roadway network variable for county using a spatial join with: Z:/Data/Users/Sijia/Met_Council/github/client_met_council_wrangler_utilities\\metcouncil_data\\county\\cb_2017_us_county_5m.shp\n"
     ]
    },
    {
     "name": "stderr",
     "output_type": "stream",
     "text": [
      "z:\\data\\users\\sijia\\met_council\\github\\client_met_council_wrangler_utilities\\lasso\\roadway.py:288: UserWarning: Geometry is in a geographic CRS. Results from 'centroid' are likely incorrect. Use 'GeoSeries.to_crs()' to re-project geometries to a projected CRS before this operation.\n",
      "\n",
      "  centroids_gdf[\"geometry\"] = centroids_gdf[\"geometry\"].centroid\n",
      "z:\\data\\users\\sijia\\met_council\\github\\client_met_council_wrangler_utilities\\lasso\\roadway.py:292: UserWarning: CRS mismatch between the CRS of left geometries and the CRS of right geometries.\n",
      "Use `to_crs()` to reproject one of the input geometries to match the CRS of the other.\n",
      "\n",
      "Left CRS: EPSG:4326\n",
      "Right CRS: EPSG:4269\n",
      "\n",
      "  joined_gdf = gpd.sjoin(centroids_gdf, county_gdf, how=\"left\", predicate=\"intersects\")\n"
     ]
    },
    {
     "name": "stdout",
     "output_type": "stream",
     "text": [
      "2022-03-22 18:03:07, INFO: Finished Calculating county variable: county\n",
      "2022-03-22 18:03:07, INFO: Finished Calculating county variable: county\n",
      "2022-03-22 18:03:11, INFO: Calculating MPO as roadway network variable: mpo\n",
      "2022-03-22 18:03:11, INFO: Calculating MPO as roadway network variable: mpo\n",
      "2022-03-22 18:03:11, INFO: Finished calculating MPO variable: mpo\n",
      "2022-03-22 18:03:11, INFO: Finished calculating MPO variable: mpo\n",
      "2022-03-22 18:03:11, INFO: Adding Counts\n",
      "2022-03-22 18:03:11, INFO: Adding Counts\n",
      "2022-03-22 18:03:11, INFO: Adding Variable AADT using Shared Streets Reference from Z:/Data/Users/Sijia/Met_Council/github/client_met_council_wrangler_utilities\\metcouncil_data\\count_mn\\mn_count_ShSt_API_match.csv\n",
      "2022-03-22 18:03:11, INFO: Adding Variable AADT using Shared Streets Reference from Z:/Data/Users/Sijia/Met_Council/github/client_met_council_wrangler_utilities\\metcouncil_data\\count_mn\\mn_count_ShSt_API_match.csv\n",
      "2022-03-22 18:03:24, INFO: Added variable: AADT using Shared Streets Reference\n",
      "2022-03-22 18:03:24, INFO: Added variable: AADT using Shared Streets Reference\n",
      "2022-03-22 18:03:24, INFO: Adding Variable AADT using Shared Streets Reference from Z:/Data/Users/Sijia/Met_Council/github/client_met_council_wrangler_utilities\\metcouncil_data\\Wisconsin_Lanes_Counts_Median\\wi_count_ShSt_API_match.csv\n",
      "2022-03-22 18:03:24, INFO: Adding Variable AADT using Shared Streets Reference from Z:/Data/Users/Sijia/Met_Council/github/client_met_council_wrangler_utilities\\metcouncil_data\\Wisconsin_Lanes_Counts_Median\\wi_count_ShSt_API_match.csv\n",
      "2022-03-22 18:03:34, INFO: Added variable: AADT using Shared Streets Reference\n",
      "2022-03-22 18:03:34, INFO: Added variable: AADT using Shared Streets Reference\n",
      "2022-03-22 18:03:34, INFO: Finished adding counts variable: AADT\n",
      "2022-03-22 18:03:34, INFO: Finished adding counts variable: AADT\n",
      "2022-03-22 18:03:34, INFO: Finished creating ML lanes variable: ML_lanes\n",
      "2022-03-22 18:03:34, INFO: Finished creating ML lanes variable: ML_lanes\n",
      "2022-03-22 18:03:34, INFO: Hov corridor Variable 'segment_id' already in network. Returning without overwriting.\n",
      "2022-03-22 18:03:34, INFO: Hov corridor Variable 'segment_id' already in network. Returning without overwriting.\n",
      "2022-03-22 18:03:34, INFO: Managed Variable 'managed' already in network. Returning without overwriting.\n",
      "2022-03-22 18:03:34, INFO: Managed Variable 'managed' already in network. Returning without overwriting.\n",
      "2022-03-22 18:03:34, INFO: Overwriting existing distance Variable 'distance' already in network\n",
      "2022-03-22 18:03:34, INFO: Overwriting existing distance Variable 'distance' already in network\n",
      "2022-03-22 18:04:25, INFO: Calculating distance for all links\n",
      "2022-03-22 18:04:25, INFO: Calculating distance for all links\n",
      "2022-03-22 18:04:31, INFO: Filling nan for network from network wrangler\n",
      "2022-03-22 18:04:31, INFO: Filling nan for network from network wrangler\n",
      "2022-03-22 18:04:50, INFO: Splitting variables by time period and category\n",
      "2022-03-22 18:04:50, INFO: Splitting variables by time period and category\n",
      "2022-03-22 18:04:50, WARNING: Specified variable to split: trn_priority not in network variables: Index(['index', 'shstReferenceId', 'id', 'shstGeometryId',\n",
      "       'fromIntersectionId', 'toIntersectionId', 'u', 'v', 'nodeIds', 'wayId',\n",
      "       'roadClass', 'oneWay', 'roundabout', 'link', 'oneway', 'ref', 'name',\n",
      "       'highway', 'service', 'width', 'maxspeed', 'junction', 'bridge',\n",
      "       'tunnel', 'landuse', 'area', 'key', 'forward', 'roadway',\n",
      "       'drive_access', 'walk_access', 'bike_access', 'county', 'length',\n",
      "       'model_link_id', 'A', 'B', 'locationReferences', 'rail_only',\n",
      "       'geometry', 'centroidconnect', 'lanes', 'bus_only', 'assign_group',\n",
      "       'roadway_class', 'area_type', 'ramp_flag', 'managed', 'segment_id',\n",
      "       'price', 'distance', 'mpo', 'AADT', 'count_AM', 'count_MD', 'count_PM',\n",
      "       'count_NT', 'count_daily', 'count_year'],\n",
      "      dtype='object'). Returning 0.\n",
      "2022-03-22 18:04:50, WARNING: Specified variable to split: trn_priority not in network variables: Index(['index', 'shstReferenceId', 'id', 'shstGeometryId',\n",
      "       'fromIntersectionId', 'toIntersectionId', 'u', 'v', 'nodeIds', 'wayId',\n",
      "       'roadClass', 'oneWay', 'roundabout', 'link', 'oneway', 'ref', 'name',\n",
      "       'highway', 'service', 'width', 'maxspeed', 'junction', 'bridge',\n",
      "       'tunnel', 'landuse', 'area', 'key', 'forward', 'roadway',\n",
      "       'drive_access', 'walk_access', 'bike_access', 'county', 'length',\n",
      "       'model_link_id', 'A', 'B', 'locationReferences', 'rail_only',\n",
      "       'geometry', 'centroidconnect', 'lanes', 'bus_only', 'assign_group',\n",
      "       'roadway_class', 'area_type', 'ramp_flag', 'managed', 'segment_id',\n",
      "       'price', 'distance', 'mpo', 'AADT', 'count_AM', 'count_MD', 'count_PM',\n",
      "       'count_NT', 'count_daily', 'count_year'],\n",
      "      dtype='object'). Returning 0.\n",
      "2022-03-22 18:04:50, WARNING: Specified variable to split: ttime_assert not in network variables: Index(['index', 'shstReferenceId', 'id', 'shstGeometryId',\n",
      "       'fromIntersectionId', 'toIntersectionId', 'u', 'v', 'nodeIds', 'wayId',\n",
      "       'roadClass', 'oneWay', 'roundabout', 'link', 'oneway', 'ref', 'name',\n",
      "       'highway', 'service', 'width', 'maxspeed', 'junction', 'bridge',\n",
      "       'tunnel', 'landuse', 'area', 'key', 'forward', 'roadway',\n",
      "       'drive_access', 'walk_access', 'bike_access', 'county', 'length',\n",
      "       'model_link_id', 'A', 'B', 'locationReferences', 'rail_only',\n",
      "       'geometry', 'centroidconnect', 'lanes', 'bus_only', 'assign_group',\n",
      "       'roadway_class', 'area_type', 'ramp_flag', 'managed', 'segment_id',\n",
      "       'price', 'distance', 'mpo', 'AADT', 'count_AM', 'count_MD', 'count_PM',\n",
      "       'count_NT', 'count_daily', 'count_year', 'trn_priority_AM',\n",
      "       'trn_priority_MD', 'trn_priority_PM', 'trn_priority_NT'],\n",
      "      dtype='object'). Returning 0.\n",
      "2022-03-22 18:04:50, WARNING: Specified variable to split: ttime_assert not in network variables: Index(['index', 'shstReferenceId', 'id', 'shstGeometryId',\n",
      "       'fromIntersectionId', 'toIntersectionId', 'u', 'v', 'nodeIds', 'wayId',\n",
      "       'roadClass', 'oneWay', 'roundabout', 'link', 'oneway', 'ref', 'name',\n",
      "       'highway', 'service', 'width', 'maxspeed', 'junction', 'bridge',\n",
      "       'tunnel', 'landuse', 'area', 'key', 'forward', 'roadway',\n",
      "       'drive_access', 'walk_access', 'bike_access', 'county', 'length',\n",
      "       'model_link_id', 'A', 'B', 'locationReferences', 'rail_only',\n",
      "       'geometry', 'centroidconnect', 'lanes', 'bus_only', 'assign_group',\n",
      "       'roadway_class', 'area_type', 'ramp_flag', 'managed', 'segment_id',\n",
      "       'price', 'distance', 'mpo', 'AADT', 'count_AM', 'count_MD', 'count_PM',\n",
      "       'count_NT', 'count_daily', 'count_year', 'trn_priority_AM',\n",
      "       'trn_priority_MD', 'trn_priority_PM', 'trn_priority_NT'],\n",
      "      dtype='object'). Returning 0.\n",
      "2022-03-22 18:04:53, WARNING: Specified variable to split: ML_lanes not in network variables: Index(['index', 'shstReferenceId', 'id', 'shstGeometryId',\n",
      "       'fromIntersectionId', 'toIntersectionId', 'u', 'v', 'nodeIds', 'wayId',\n",
      "       'roadClass', 'oneWay', 'roundabout', 'link', 'oneway', 'ref', 'name',\n",
      "       'highway', 'service', 'width', 'maxspeed', 'junction', 'bridge',\n",
      "       'tunnel', 'landuse', 'area', 'key', 'forward', 'roadway',\n",
      "       'drive_access', 'walk_access', 'bike_access', 'county', 'length',\n",
      "       'model_link_id', 'A', 'B', 'locationReferences', 'rail_only',\n",
      "       'geometry', 'centroidconnect', 'lanes', 'bus_only', 'assign_group',\n",
      "       'roadway_class', 'area_type', 'ramp_flag', 'managed', 'segment_id',\n",
      "       'price', 'distance', 'mpo', 'AADT', 'count_AM', 'count_MD', 'count_PM',\n",
      "       'count_NT', 'count_daily', 'count_year', 'trn_priority_AM',\n",
      "       'trn_priority_MD', 'trn_priority_PM', 'trn_priority_NT',\n",
      "       'ttime_assert_AM', 'ttime_assert_MD', 'ttime_assert_PM',\n",
      "       'ttime_assert_NT', 'lanes_AM', 'lanes_MD', 'lanes_PM', 'lanes_NT'],\n",
      "      dtype='object'). Returning 0.\n",
      "2022-03-22 18:04:53, WARNING: Specified variable to split: ML_lanes not in network variables: Index(['index', 'shstReferenceId', 'id', 'shstGeometryId',\n",
      "       'fromIntersectionId', 'toIntersectionId', 'u', 'v', 'nodeIds', 'wayId',\n",
      "       'roadClass', 'oneWay', 'roundabout', 'link', 'oneway', 'ref', 'name',\n",
      "       'highway', 'service', 'width', 'maxspeed', 'junction', 'bridge',\n",
      "       'tunnel', 'landuse', 'area', 'key', 'forward', 'roadway',\n",
      "       'drive_access', 'walk_access', 'bike_access', 'county', 'length',\n",
      "       'model_link_id', 'A', 'B', 'locationReferences', 'rail_only',\n",
      "       'geometry', 'centroidconnect', 'lanes', 'bus_only', 'assign_group',\n",
      "       'roadway_class', 'area_type', 'ramp_flag', 'managed', 'segment_id',\n",
      "       'price', 'distance', 'mpo', 'AADT', 'count_AM', 'count_MD', 'count_PM',\n",
      "       'count_NT', 'count_daily', 'count_year', 'trn_priority_AM',\n",
      "       'trn_priority_MD', 'trn_priority_PM', 'trn_priority_NT',\n",
      "       'ttime_assert_AM', 'ttime_assert_MD', 'ttime_assert_PM',\n",
      "       'ttime_assert_NT', 'lanes_AM', 'lanes_MD', 'lanes_PM', 'lanes_NT'],\n",
      "      dtype='object'). Returning 0.\n"
     ]
    },
    {
     "name": "stdout",
     "output_type": "stream",
     "text": [
      "CAT: sov ['sov']\n",
      "CAT: sov ['sov']\n",
      "CAT: sov ['sov']\n",
      "CAT: sov ['sov']\n",
      "CAT: sov ['sov']\n",
      "CAT: sov ['sov']\n",
      "CAT: sov ['sov']\n",
      "CAT: hov2 ['sov']\n",
      "CAT: default ['sov']\n",
      "CAT: sov ['sov']\n",
      "CAT: hov2 ['sov']\n",
      "CAT: default ['sov']\n",
      "CAT: sov ['sov']\n",
      "CAT: hov2 ['sov']\n",
      "CAT: default ['sov']\n",
      "CAT: sov ['sov']\n",
      "CAT: hov2 ['sov']\n",
      "CAT: default ['sov']\n",
      "CAT: sov ['sov']\n",
      "CAT: hov2 ['sov']\n",
      "CAT: default ['sov']\n",
      "CAT: sov ['sov']\n",
      "CAT: hov2 ['sov']\n",
      "CAT: default ['sov']\n",
      "CAT: sov ['sov']\n",
      "CAT: hov2 ['sov']\n",
      "CAT: default ['sov']\n",
      "CAT: sov ['sov']\n",
      "CAT: hov3 ['sov']\n",
      "CAT: hov2 ['sov']\n",
      "CAT: default ['sov']\n",
      "CAT: sov ['sov']\n",
      "CAT: hov3 ['sov']\n",
      "CAT: hov2 ['sov']\n",
      "CAT: default ['sov']\n",
      "CAT: sov ['sov']\n",
      "CAT: hov3 ['sov']\n",
      "CAT: hov2 ['sov']\n",
      "CAT: default ['sov']\n",
      "CAT: sov ['sov']\n",
      "CAT: hov3 ['sov']\n",
      "CAT: hov2 ['sov']\n",
      "CAT: default ['sov']\n",
      "CAT: sov ['sov']\n",
      "CAT: hov3 ['sov']\n",
      "CAT: hov2 ['sov']\n",
      "CAT: default ['sov']\n",
      "CAT: sov ['sov']\n",
      "CAT: hov3 ['sov']\n",
      "CAT: hov2 ['sov']\n",
      "CAT: default ['sov']\n",
      "CAT: sov ['sov']\n",
      "CAT: hov3 ['sov']\n",
      "CAT: hov2 ['sov']\n",
      "CAT: default ['sov']\n",
      "CAT: sov ['sov']\n",
      "CAT: trk ['sov']\n",
      "CAT: sov ['sov']\n",
      "CAT: trk ['sov']\n",
      "CAT: sov ['sov']\n",
      "CAT: trk ['sov']\n",
      "CAT: sov ['sov']\n",
      "CAT: trk ['sov']\n",
      "CAT: sov ['sov']\n",
      "CAT: trk ['sov']\n",
      "CAT: sov ['sov']\n",
      "CAT: trk ['sov']\n",
      "CAT: sov ['sov']\n",
      "CAT: trk ['sov']\n",
      "CAT: sov ['sov']\n",
      "CAT: sov ['sov']\n",
      "CAT: sov ['sov']\n",
      "CAT: sov ['sov']\n",
      "CAT: sov ['sov']\n",
      "CAT: sov ['sov']\n",
      "CAT: sov ['sov']\n",
      "CAT: sov ['sov']\n",
      "CAT: hov2 ['sov']\n",
      "CAT: default ['sov']\n",
      "CAT: sov ['sov']\n",
      "CAT: hov2 ['sov']\n",
      "CAT: default ['sov']\n",
      "CAT: sov ['sov']\n",
      "CAT: hov2 ['sov']\n",
      "CAT: default ['sov']\n",
      "CAT: sov ['sov']\n",
      "CAT: hov2 ['sov']\n",
      "CAT: default ['sov']\n",
      "CAT: sov ['sov']\n",
      "CAT: hov2 ['sov']\n",
      "CAT: default ['sov']\n",
      "CAT: sov ['sov']\n",
      "CAT: hov2 ['sov']\n",
      "CAT: default ['sov']\n",
      "CAT: sov ['sov']\n",
      "CAT: hov2 ['sov']\n",
      "CAT: default ['sov']\n",
      "CAT: sov ['sov']\n",
      "CAT: hov3 ['sov']\n",
      "CAT: hov2 ['sov']\n",
      "CAT: default ['sov']\n",
      "CAT: sov ['sov']\n",
      "CAT: hov3 ['sov']\n",
      "CAT: hov2 ['sov']\n",
      "CAT: default ['sov']\n",
      "CAT: sov ['sov']\n",
      "CAT: hov3 ['sov']\n",
      "CAT: hov2 ['sov']\n",
      "CAT: default ['sov']\n",
      "CAT: sov ['sov']\n",
      "CAT: hov3 ['sov']\n",
      "CAT: hov2 ['sov']\n",
      "CAT: default ['sov']\n",
      "CAT: sov ['sov']\n",
      "CAT: hov3 ['sov']\n",
      "CAT: hov2 ['sov']\n",
      "CAT: default ['sov']\n",
      "CAT: sov ['sov']\n",
      "CAT: hov3 ['sov']\n",
      "CAT: hov2 ['sov']\n",
      "CAT: default ['sov']\n",
      "CAT: sov ['sov']\n",
      "CAT: hov3 ['sov']\n",
      "CAT: hov2 ['sov']\n",
      "CAT: default ['sov']\n",
      "CAT: sov ['sov']\n",
      "CAT: trk ['sov']\n",
      "CAT: sov ['sov']\n",
      "CAT: trk ['sov']\n",
      "CAT: sov ['sov']\n",
      "CAT: trk ['sov']\n",
      "CAT: sov ['sov']\n",
      "CAT: trk ['sov']\n",
      "CAT: sov ['sov']\n",
      "CAT: trk ['sov']\n",
      "CAT: sov ['sov']\n",
      "CAT: trk ['sov']\n",
      "CAT: sov ['sov']\n",
      "CAT: trk ['sov']\n",
      "CAT: sov ['sov']\n",
      "2022-03-22 18:05:10, WARNING: Specified variable to split: access not in network variables: Index(['index', 'shstReferenceId', 'id', 'shstGeometryId',\n",
      "       'fromIntersectionId', 'toIntersectionId', 'u', 'v', 'nodeIds', 'wayId',\n",
      "       'roadClass', 'oneWay', 'roundabout', 'link', 'oneway', 'ref', 'name',\n",
      "       'highway', 'service', 'width', 'maxspeed', 'junction', 'bridge',\n",
      "       'tunnel', 'landuse', 'area', 'key', 'forward', 'roadway',\n",
      "       'drive_access', 'walk_access', 'bike_access', 'county', 'length',\n",
      "       'model_link_id', 'A', 'B', 'locationReferences', 'rail_only',\n",
      "       'geometry', 'centroidconnect', 'lanes', 'bus_only', 'assign_group',\n",
      "       'roadway_class', 'area_type', 'ramp_flag', 'managed', 'segment_id',\n",
      "       'price', 'distance', 'mpo', 'AADT', 'count_AM', 'count_MD', 'count_PM',\n",
      "       'count_NT', 'count_daily', 'count_year', 'trn_priority_AM',\n",
      "       'trn_priority_MD', 'trn_priority_PM', 'trn_priority_NT',\n",
      "       'ttime_assert_AM', 'ttime_assert_MD', 'ttime_assert_PM',\n",
      "       'ttime_assert_NT', 'lanes_AM', 'lanes_MD', 'lanes_PM', 'lanes_NT',\n",
      "       'ML_lanes_AM', 'ML_lanes_MD', 'ML_lanes_PM', 'ML_lanes_NT',\n",
      "       'price_sov_AM', 'price_hov2_AM', 'price_hov3_AM', 'price_truck_AM',\n",
      "       'price_sov_MD', 'price_hov2_MD', 'price_hov3_MD', 'price_truck_MD',\n",
      "       'price_sov_PM', 'price_hov2_PM', 'price_hov3_PM', 'price_truck_PM',\n",
      "       'price_sov_NT', 'price_hov2_NT', 'price_hov3_NT', 'price_truck_NT'],\n",
      "      dtype='object'). Returning 0.\n",
      "2022-03-22 18:05:10, WARNING: Specified variable to split: access not in network variables: Index(['index', 'shstReferenceId', 'id', 'shstGeometryId',\n",
      "       'fromIntersectionId', 'toIntersectionId', 'u', 'v', 'nodeIds', 'wayId',\n",
      "       'roadClass', 'oneWay', 'roundabout', 'link', 'oneway', 'ref', 'name',\n",
      "       'highway', 'service', 'width', 'maxspeed', 'junction', 'bridge',\n",
      "       'tunnel', 'landuse', 'area', 'key', 'forward', 'roadway',\n",
      "       'drive_access', 'walk_access', 'bike_access', 'county', 'length',\n",
      "       'model_link_id', 'A', 'B', 'locationReferences', 'rail_only',\n",
      "       'geometry', 'centroidconnect', 'lanes', 'bus_only', 'assign_group',\n",
      "       'roadway_class', 'area_type', 'ramp_flag', 'managed', 'segment_id',\n",
      "       'price', 'distance', 'mpo', 'AADT', 'count_AM', 'count_MD', 'count_PM',\n",
      "       'count_NT', 'count_daily', 'count_year', 'trn_priority_AM',\n",
      "       'trn_priority_MD', 'trn_priority_PM', 'trn_priority_NT',\n",
      "       'ttime_assert_AM', 'ttime_assert_MD', 'ttime_assert_PM',\n",
      "       'ttime_assert_NT', 'lanes_AM', 'lanes_MD', 'lanes_PM', 'lanes_NT',\n",
      "       'ML_lanes_AM', 'ML_lanes_MD', 'ML_lanes_PM', 'ML_lanes_NT',\n",
      "       'price_sov_AM', 'price_hov2_AM', 'price_hov3_AM', 'price_truck_AM',\n",
      "       'price_sov_MD', 'price_hov2_MD', 'price_hov3_MD', 'price_truck_MD',\n",
      "       'price_sov_PM', 'price_hov2_PM', 'price_hov3_PM', 'price_truck_PM',\n",
      "       'price_sov_NT', 'price_hov2_NT', 'price_hov3_NT', 'price_truck_NT'],\n",
      "      dtype='object'). Returning 0.\n",
      "2022-03-22 18:05:10, INFO: Converting variable type to MetCouncil standard\n",
      "2022-03-22 18:05:10, INFO: Converting variable type to MetCouncil standard\n",
      "2022-03-22 18:05:23, INFO: Setting Coordinate Reference System to EPSG 26915\n",
      "2022-03-22 18:05:23, INFO: Setting Coordinate Reference System to EPSG 26915\n"
     ]
    }
   ],
   "source": [
    "m_net.roadway_standard_to_met_council_network()"
   ]
  },
  {
   "cell_type": "code",
   "execution_count": 22,
   "metadata": {},
   "outputs": [
    {
     "data": {
      "text/plain": [
       "Index(['index', 'shstReferenceId', 'id', 'shstGeometryId',\n",
       "       'fromIntersectionId', 'toIntersectionId', 'u', 'v', 'nodeIds', 'wayId',\n",
       "       'roadClass', 'oneWay', 'roundabout', 'link', 'oneway', 'ref', 'name',\n",
       "       'highway', 'service', 'width', 'maxspeed', 'junction', 'bridge',\n",
       "       'tunnel', 'landuse', 'area', 'key', 'forward', 'roadway',\n",
       "       'drive_access', 'walk_access', 'bike_access', 'county', 'length',\n",
       "       'model_link_id', 'A', 'B', 'locationReferences', 'rail_only',\n",
       "       'geometry', 'centroidconnect', 'lanes', 'bus_only', 'assign_group',\n",
       "       'roadway_class', 'area_type', 'ramp_flag', 'managed', 'segment_id',\n",
       "       'price', 'distance', 'mpo', 'AADT', 'count_AM', 'count_MD', 'count_PM',\n",
       "       'count_NT', 'count_daily', 'count_year', 'trn_priority_AM',\n",
       "       'trn_priority_MD', 'trn_priority_PM', 'trn_priority_NT',\n",
       "       'ttime_assert_AM', 'ttime_assert_MD', 'ttime_assert_PM',\n",
       "       'ttime_assert_NT', 'lanes_AM', 'lanes_MD', 'lanes_PM', 'lanes_NT',\n",
       "       'ML_lanes_AM', 'ML_lanes_MD', 'ML_lanes_PM', 'ML_lanes_NT',\n",
       "       'price_sov_AM', 'price_hov2_AM', 'price_hov3_AM', 'price_truck_AM',\n",
       "       'price_sov_MD', 'price_hov2_MD', 'price_hov3_MD', 'price_truck_MD',\n",
       "       'price_sov_PM', 'price_hov2_PM', 'price_hov3_PM', 'price_truck_PM',\n",
       "       'price_sov_NT', 'price_hov2_NT', 'price_hov3_NT', 'price_truck_NT',\n",
       "       'access_AM', 'access_MD', 'access_PM', 'access_NT'],\n",
       "      dtype='object')"
      ]
     },
     "execution_count": 22,
     "metadata": {},
     "output_type": "execute_result"
    }
   ],
   "source": [
    "m_net.links_df.columns"
   ]
  },
  {
   "cell_type": "code",
   "execution_count": 23,
   "metadata": {},
   "outputs": [
    {
     "data": {
      "text/plain": [
       "Index(['index', 'shstReferenceId', 'id', 'shstGeometryId',\n",
       "       'fromIntersectionId', 'toIntersectionId', 'u', 'v', 'nodeIds', 'wayId',\n",
       "       'roadClass', 'oneWay', 'roundabout', 'link', 'oneway', 'ref', 'name',\n",
       "       'highway', 'service', 'width', 'maxspeed', 'junction', 'bridge',\n",
       "       'tunnel', 'landuse', 'area', 'key', 'forward', 'roadway',\n",
       "       'drive_access', 'walk_access', 'bike_access', 'county', 'length',\n",
       "       'model_link_id', 'A', 'B', 'locationReferences', 'rail_only',\n",
       "       'centroidconnect', 'lanes', 'bus_only', 'assign_group', 'roadway_class',\n",
       "       'area_type', 'ramp_flag', 'managed', 'segment_id', 'price', 'distance',\n",
       "       'mpo', 'AADT', 'count_AM', 'count_MD', 'count_PM', 'count_NT',\n",
       "       'count_daily', 'count_year', 'trn_priority_AM', 'trn_priority_MD',\n",
       "       'trn_priority_PM', 'trn_priority_NT', 'ttime_assert_AM',\n",
       "       'ttime_assert_MD', 'ttime_assert_PM', 'ttime_assert_NT', 'lanes_AM',\n",
       "       'lanes_MD', 'lanes_PM', 'lanes_NT', 'ML_lanes_AM', 'ML_lanes_MD',\n",
       "       'ML_lanes_PM', 'ML_lanes_NT', 'price_sov_AM', 'price_hov2_AM',\n",
       "       'price_hov3_AM', 'price_truck_AM', 'price_sov_MD', 'price_hov2_MD',\n",
       "       'price_hov3_MD', 'price_truck_MD', 'price_sov_PM', 'price_hov2_PM',\n",
       "       'price_hov3_PM', 'price_truck_PM', 'price_sov_NT', 'price_hov2_NT',\n",
       "       'price_hov3_NT', 'price_truck_NT', 'access_AM', 'access_MD',\n",
       "       'access_PM', 'access_NT', 'geometry'],\n",
       "      dtype='object')"
      ]
     },
     "execution_count": 23,
     "metadata": {},
     "output_type": "execute_result"
    }
   ],
   "source": [
    "m_net.links_metcouncil_df.columns"
   ]
  },
  {
   "cell_type": "code",
   "execution_count": 24,
   "metadata": {},
   "outputs": [
    {
     "name": "stdout",
     "output_type": "stream",
     "text": [
      "Index(['index', 'osm_node_id', 'shst_node_id', 'drive_access', 'walk_access',\n",
      "       'bike_access', 'model_node_id', 'rail_only', 'geometry', 'X', 'Y',\n",
      "       'drive_node', 'county'],\n",
      "      dtype='object')\n",
      "Index(['index', 'osm_node_id', 'shst_node_id', 'drive_access', 'walk_access',\n",
      "       'bike_access', 'N', 'rail_only', 'geometry', 'X', 'Y', 'drive_node',\n",
      "       'county'],\n",
      "      dtype='object')\n"
     ]
    }
   ],
   "source": [
    "# CUBE requires N, not model_node_id\n",
    "\n",
    "print(m_net.nodes_df.columns)\n",
    "print(m_net.nodes_metcouncil_df.columns)"
   ]
  },
  {
   "cell_type": "code",
   "execution_count": 25,
   "metadata": {},
   "outputs": [
    {
     "name": "stdout",
     "output_type": "stream",
     "text": [
      "epsg:4326\n",
      "epsg:26915\n"
     ]
    }
   ],
   "source": [
    "# links_df and nodes_df are in the lat-long projection\n",
    "# links_metcouncil_df and nodes_metcouncil_df are in the metcouncil projection\n",
    "\n",
    "print(m_net.links_df.crs)\n",
    "print(m_net.links_metcouncil_df.crs)"
   ]
  },
  {
   "cell_type": "markdown",
   "metadata": {},
   "source": [
    "## Write to Disk"
   ]
  },
  {
   "cell_type": "markdown",
   "metadata": {},
   "source": [
    "### As Shapefile"
   ]
  },
  {
   "cell_type": "markdown",
   "metadata": {},
   "source": [
    "the write methods write out links_metcouncil_df and nodes_metcouncil_df"
   ]
  },
  {
   "cell_type": "code",
   "execution_count": 26,
   "metadata": {
    "scrolled": true
   },
   "outputs": [
    {
     "data": {
      "text/html": [
       "<div>\n",
       "<style scoped>\n",
       "    .dataframe tbody tr th:only-of-type {\n",
       "        vertical-align: middle;\n",
       "    }\n",
       "\n",
       "    .dataframe tbody tr th {\n",
       "        vertical-align: top;\n",
       "    }\n",
       "\n",
       "    .dataframe thead th {\n",
       "        text-align: right;\n",
       "    }\n",
       "</style>\n",
       "<table border=\"1\" class=\"dataframe\">\n",
       "  <thead>\n",
       "    <tr style=\"text-align: right;\">\n",
       "      <th></th>\n",
       "      <th>index</th>\n",
       "      <th>osm_node_id</th>\n",
       "      <th>shst_node_id</th>\n",
       "      <th>drive_access</th>\n",
       "      <th>walk_access</th>\n",
       "      <th>bike_access</th>\n",
       "      <th>N</th>\n",
       "      <th>rail_only</th>\n",
       "      <th>geometry</th>\n",
       "      <th>X</th>\n",
       "      <th>Y</th>\n",
       "      <th>drive_node</th>\n",
       "      <th>county</th>\n",
       "    </tr>\n",
       "  </thead>\n",
       "  <tbody>\n",
       "    <tr>\n",
       "      <th>0</th>\n",
       "      <td>0</td>\n",
       "      <td>187058420.0</td>\n",
       "      <td>2c7945f906f016bb8248964cd14f597a</td>\n",
       "      <td>1</td>\n",
       "      <td>1</td>\n",
       "      <td>1</td>\n",
       "      <td>3101</td>\n",
       "      <td>0</td>\n",
       "      <td>POINT (481465.330 5045253.074)</td>\n",
       "      <td>481465.329611</td>\n",
       "      <td>5.045253e+06</td>\n",
       "      <td>0</td>\n",
       "      <td>13</td>\n",
       "    </tr>\n",
       "    <tr>\n",
       "      <th>1</th>\n",
       "      <td>1</td>\n",
       "      <td>186789640.0</td>\n",
       "      <td>98836c9f4819c4e1d250c36875618cc7</td>\n",
       "      <td>1</td>\n",
       "      <td>1</td>\n",
       "      <td>1</td>\n",
       "      <td>3102</td>\n",
       "      <td>0</td>\n",
       "      <td>POINT (477719.262 4944312.486)</td>\n",
       "      <td>477719.261882</td>\n",
       "      <td>4.944312e+06</td>\n",
       "      <td>0</td>\n",
       "      <td>3</td>\n",
       "    </tr>\n",
       "    <tr>\n",
       "      <th>2</th>\n",
       "      <td>2</td>\n",
       "      <td>5937051518.0</td>\n",
       "      <td>d1bfeb666ae12cb1fa7d71f534a8ce18</td>\n",
       "      <td>0</td>\n",
       "      <td>1</td>\n",
       "      <td>0</td>\n",
       "      <td>3103</td>\n",
       "      <td>0</td>\n",
       "      <td>POINT (470777.602 4997839.804)</td>\n",
       "      <td>470777.601746</td>\n",
       "      <td>4.997840e+06</td>\n",
       "      <td>0</td>\n",
       "      <td>4</td>\n",
       "    </tr>\n",
       "    <tr>\n",
       "      <th>3</th>\n",
       "      <td>3</td>\n",
       "      <td>188202645.0</td>\n",
       "      <td>87858bb74b8b70cf9f52c39f5f5ddcc2</td>\n",
       "      <td>1</td>\n",
       "      <td>1</td>\n",
       "      <td>1</td>\n",
       "      <td>3104</td>\n",
       "      <td>0</td>\n",
       "      <td>POINT (391234.645 4928328.440)</td>\n",
       "      <td>391234.644900</td>\n",
       "      <td>4.928328e+06</td>\n",
       "      <td>0</td>\n",
       "      <td>20</td>\n",
       "    </tr>\n",
       "    <tr>\n",
       "      <th>4</th>\n",
       "      <td>4</td>\n",
       "      <td>186450026.0</td>\n",
       "      <td>85c91095f276cd6652156be1c350c04f</td>\n",
       "      <td>1</td>\n",
       "      <td>1</td>\n",
       "      <td>1</td>\n",
       "      <td>3105</td>\n",
       "      <td>0</td>\n",
       "      <td>POINT (453003.103 4966904.799)</td>\n",
       "      <td>453003.103270</td>\n",
       "      <td>4.966905e+06</td>\n",
       "      <td>0</td>\n",
       "      <td>2</td>\n",
       "    </tr>\n",
       "    <tr>\n",
       "      <th>...</th>\n",
       "      <td>...</td>\n",
       "      <td>...</td>\n",
       "      <td>...</td>\n",
       "      <td>...</td>\n",
       "      <td>...</td>\n",
       "      <td>...</td>\n",
       "      <td>...</td>\n",
       "      <td>...</td>\n",
       "      <td>...</td>\n",
       "      <td>...</td>\n",
       "      <td>...</td>\n",
       "      <td>...</td>\n",
       "      <td>...</td>\n",
       "    </tr>\n",
       "    <tr>\n",
       "      <th>415351</th>\n",
       "      <td>415351</td>\n",
       "      <td></td>\n",
       "      <td></td>\n",
       "      <td>0</td>\n",
       "      <td>0</td>\n",
       "      <td>0</td>\n",
       "      <td>706572</td>\n",
       "      <td>0</td>\n",
       "      <td>POINT (478278.406 4972787.764)</td>\n",
       "      <td>478278.405966</td>\n",
       "      <td>4.972788e+06</td>\n",
       "      <td>1</td>\n",
       "      <td>4</td>\n",
       "    </tr>\n",
       "    <tr>\n",
       "      <th>415352</th>\n",
       "      <td>415352</td>\n",
       "      <td></td>\n",
       "      <td></td>\n",
       "      <td>0</td>\n",
       "      <td>0</td>\n",
       "      <td>0</td>\n",
       "      <td>811959</td>\n",
       "      <td>0</td>\n",
       "      <td>POINT (476637.200 4970632.381)</td>\n",
       "      <td>476637.199832</td>\n",
       "      <td>4.970632e+06</td>\n",
       "      <td>1</td>\n",
       "      <td>4</td>\n",
       "    </tr>\n",
       "    <tr>\n",
       "      <th>415353</th>\n",
       "      <td>415353</td>\n",
       "      <td></td>\n",
       "      <td></td>\n",
       "      <td>0</td>\n",
       "      <td>0</td>\n",
       "      <td>0</td>\n",
       "      <td>515282</td>\n",
       "      <td>0</td>\n",
       "      <td>POINT (476590.539 4970408.669)</td>\n",
       "      <td>476590.538999</td>\n",
       "      <td>4.970409e+06</td>\n",
       "      <td>1</td>\n",
       "      <td>4</td>\n",
       "    </tr>\n",
       "    <tr>\n",
       "      <th>415354</th>\n",
       "      <td>415354</td>\n",
       "      <td></td>\n",
       "      <td></td>\n",
       "      <td>0</td>\n",
       "      <td>0</td>\n",
       "      <td>0</td>\n",
       "      <td>831707</td>\n",
       "      <td>0</td>\n",
       "      <td>POINT (478282.084 4973641.442)</td>\n",
       "      <td>478282.084407</td>\n",
       "      <td>4.973641e+06</td>\n",
       "      <td>1</td>\n",
       "      <td>4</td>\n",
       "    </tr>\n",
       "    <tr>\n",
       "      <th>415355</th>\n",
       "      <td>415355</td>\n",
       "      <td></td>\n",
       "      <td></td>\n",
       "      <td>0</td>\n",
       "      <td>0</td>\n",
       "      <td>0</td>\n",
       "      <td>719182</td>\n",
       "      <td>0</td>\n",
       "      <td>POINT (476551.630 4969635.215)</td>\n",
       "      <td>476551.629932</td>\n",
       "      <td>4.969635e+06</td>\n",
       "      <td>1</td>\n",
       "      <td>4</td>\n",
       "    </tr>\n",
       "  </tbody>\n",
       "</table>\n",
       "<p>415356 rows × 13 columns</p>\n",
       "</div>"
      ],
      "text/plain": [
       "         index   osm_node_id                      shst_node_id  drive_access  \\\n",
       "0            0   187058420.0  2c7945f906f016bb8248964cd14f597a             1   \n",
       "1            1   186789640.0  98836c9f4819c4e1d250c36875618cc7             1   \n",
       "2            2  5937051518.0  d1bfeb666ae12cb1fa7d71f534a8ce18             0   \n",
       "3            3   188202645.0  87858bb74b8b70cf9f52c39f5f5ddcc2             1   \n",
       "4            4   186450026.0  85c91095f276cd6652156be1c350c04f             1   \n",
       "...        ...           ...                               ...           ...   \n",
       "415351  415351                                                             0   \n",
       "415352  415352                                                             0   \n",
       "415353  415353                                                             0   \n",
       "415354  415354                                                             0   \n",
       "415355  415355                                                             0   \n",
       "\n",
       "        walk_access  bike_access       N  rail_only  \\\n",
       "0                 1            1    3101          0   \n",
       "1                 1            1    3102          0   \n",
       "2                 1            0    3103          0   \n",
       "3                 1            1    3104          0   \n",
       "4                 1            1    3105          0   \n",
       "...             ...          ...     ...        ...   \n",
       "415351            0            0  706572          0   \n",
       "415352            0            0  811959          0   \n",
       "415353            0            0  515282          0   \n",
       "415354            0            0  831707          0   \n",
       "415355            0            0  719182          0   \n",
       "\n",
       "                              geometry              X             Y  \\\n",
       "0       POINT (481465.330 5045253.074)  481465.329611  5.045253e+06   \n",
       "1       POINT (477719.262 4944312.486)  477719.261882  4.944312e+06   \n",
       "2       POINT (470777.602 4997839.804)  470777.601746  4.997840e+06   \n",
       "3       POINT (391234.645 4928328.440)  391234.644900  4.928328e+06   \n",
       "4       POINT (453003.103 4966904.799)  453003.103270  4.966905e+06   \n",
       "...                                ...            ...           ...   \n",
       "415351  POINT (478278.406 4972787.764)  478278.405966  4.972788e+06   \n",
       "415352  POINT (476637.200 4970632.381)  476637.199832  4.970632e+06   \n",
       "415353  POINT (476590.539 4970408.669)  476590.538999  4.970409e+06   \n",
       "415354  POINT (478282.084 4973641.442)  478282.084407  4.973641e+06   \n",
       "415355  POINT (476551.630 4969635.215)  476551.629932  4.969635e+06   \n",
       "\n",
       "        drive_node  county  \n",
       "0                0      13  \n",
       "1                0       3  \n",
       "2                0       4  \n",
       "3                0      20  \n",
       "4                0       2  \n",
       "...            ...     ...  \n",
       "415351           1       4  \n",
       "415352           1       4  \n",
       "415353           1       4  \n",
       "415354           1       4  \n",
       "415355           1       4  \n",
       "\n",
       "[415356 rows x 13 columns]"
      ]
     },
     "execution_count": 26,
     "metadata": {},
     "output_type": "execute_result"
    }
   ],
   "source": [
    "m_net.nodes_metcouncil_df"
   ]
  },
  {
   "cell_type": "code",
   "execution_count": 27,
   "metadata": {},
   "outputs": [
    {
     "name": "stdout",
     "output_type": "stream",
     "text": [
      "2022-03-22 18:06:45, INFO: Writing Network as Shapefile\n",
      "2022-03-22 18:06:45, INFO: Writing Network as Shapefile\n",
      "2022-03-22 18:06:45, INFO: Renaming DBF Node Variables\n",
      "2022-03-22 18:06:45, INFO: Renaming DBF Node Variables\n",
      "2022-03-22 18:06:45, INFO: Renaming variables so that they are DBF-safe\n",
      "2022-03-22 18:06:45, INFO: Renaming variables so that they are DBF-safe\n",
      "2022-03-22 18:06:55, INFO: Renaming DBF Link Variables\n",
      "2022-03-22 18:06:55, INFO: Renaming DBF Link Variables\n",
      "2022-03-22 18:06:55, INFO: Renaming variables so that they are DBF-safe\n",
      "2022-03-22 18:06:55, INFO: Renaming variables so that they are DBF-safe\n",
      "2022-03-22 18:06:56, INFO: Writing Node Shapes:\n",
      " - D:/metcouncil_network_rebuild\\data\\processed\\version_01\\v01_nodes.shp\n",
      "2022-03-22 18:06:56, INFO: Writing Node Shapes:\n",
      " - D:/metcouncil_network_rebuild\\data\\processed\\version_01\\v01_nodes.shp\n",
      "Index(['osmnodeid', 'drive', 'walk', 'bike', 'N', 'rail_only', 'geometry', 'X',\n",
      "       'Y', 'drive_node', 'county'],\n",
      "      dtype='object')\n",
      "2022-03-22 18:06:56, INFO: Writing Link Shapes:\n",
      " - D:/metcouncil_network_rebuild\\data\\processed\\version_01\\v01_links.shp\n",
      "2022-03-22 18:06:56, INFO: Writing Link Shapes:\n",
      " - D:/metcouncil_network_rebuild\\data\\processed\\version_01\\v01_links.shp\n"
     ]
    }
   ],
   "source": [
    "out_cols = ['model_link_id', 'id', 'assign_group', 'drive_access', 'roadway_class',\n",
    "            'lanes_AM', 'lanes_MD', 'lanes_PM', 'lanes_NT', 'segment_id', 'HOV', \n",
    "            'price_sov_AM', 'geometry', 'managed']\n",
    "\n",
    "m_net.write_roadway_as_shp(\n",
    "    output_link_shp = os.path.join(output_dir, 'v01_links.shp'),\n",
    "    output_node_shp = os.path.join(output_dir, 'v01_nodes.shp'),\n",
    "    link_output_variables = out_cols,\n",
    "    data_to_csv = False,\n",
    "    data_to_dbf = True,\n",
    "    export_drive_only = True, # if user only wants drive links/nodes in the shapefile\n",
    ")"
   ]
  },
  {
   "cell_type": "markdown",
   "metadata": {},
   "source": [
    "### As Fixed Width for Cube"
   ]
  },
  {
   "cell_type": "markdown",
   "metadata": {},
   "source": [
    "write out complete network to Cube, if subset of network is needed (e.g. drive only), use cube scripts to extract from complete network"
   ]
  },
  {
   "cell_type": "code",
   "execution_count": 28,
   "metadata": {
    "scrolled": true
   },
   "outputs": [
    {
     "name": "stdout",
     "output_type": "stream",
     "text": [
      "2022-03-22 19:18:34, INFO: Starting fixed width conversion\n",
      "2022-03-22 19:18:34, INFO: Starting fixed width conversion\n",
      "2022-03-22 19:38:00, INFO: Writing out link database\n",
      "2022-03-22 19:38:00, INFO: Writing out link database\n",
      "2022-03-22 19:38:19, INFO: Writing out link header and width ----\n",
      "2022-03-22 19:38:19, INFO: Writing out link header and width ----\n",
      "2022-03-22 19:38:19, INFO: Starting fixed width conversion\n",
      "2022-03-22 19:38:19, INFO: Starting fixed width conversion\n",
      "2022-03-22 19:39:19, INFO: Writing out node database\n",
      "2022-03-22 19:39:19, INFO: Writing out node database\n",
      "2022-03-22 19:39:20, INFO: Writing out node header and width\n",
      "2022-03-22 19:39:20, INFO: Writing out node header and width\n"
     ]
    }
   ],
   "source": [
    "m_net.write_roadway_as_fixedwidth(\n",
    "    output_link_txt = os.path.join(output_dir, 'v01_links.txt'),\n",
    "    output_node_txt = os.path.join(output_dir, 'v01_nodes.txt'),\n",
    "    output_link_header_width_txt = os.path.join(output_dir, 'links_header_width.txt'),\n",
    "    output_node_header_width_txt = os.path.join(output_dir, 'nodes_header_width.txt'),\n",
    "    output_cube_network_script = os.path.join(output_dir, 'make_complete_network_from_fixed_width_file.s'),\n",
    ")"
   ]
  },
  {
   "cell_type": "markdown",
   "metadata": {},
   "source": [
    "### Scenario as Pickle"
   ]
  },
  {
   "cell_type": "code",
   "execution_count": 29,
   "metadata": {},
   "outputs": [],
   "source": [
    "scenario_filename = os.path.join(output_dir, 'working_scenario_01.pickle')\n",
    "pickle.dump(v_01_scenario, open(scenario_filename, 'wb'))"
   ]
  }
 ],
 "metadata": {
  "kernelspec": {
   "display_name": "Python 3 (ipykernel)",
   "language": "python",
   "name": "python3"
  },
  "language_info": {
   "codemirror_mode": {
    "name": "ipython",
    "version": 3
   },
   "file_extension": ".py",
   "mimetype": "text/x-python",
   "name": "python",
   "nbconvert_exporter": "python",
   "pygments_lexer": "ipython3",
   "version": "3.7.12"
  }
 },
 "nbformat": 4,
 "nbformat_minor": 4
}
