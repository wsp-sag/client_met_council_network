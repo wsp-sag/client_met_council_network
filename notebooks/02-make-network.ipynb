{
 "cells": [
  {
   "cell_type": "markdown",
   "metadata": {},
   "source": [
    "# 02 Make Network Version 01\n",
    "Step 2 applies project cards, makes Python changes, and writes out a pickle of the version 01 network"
   ]
  },
  {
   "cell_type": "code",
   "execution_count": 1,
   "metadata": {},
   "outputs": [],
   "source": [
    "import os\n",
    "import sys\n",
    "import yaml\n",
    "from subprocess import Popen\n",
    "import pickle\n",
    "\n",
    "import pandas as pd\n",
    "import geopandas as gpd\n",
    "import numpy as np\n",
    "\n",
    "\n",
    "from network_wrangler import RoadwayNetwork\n",
    "from network_wrangler import TransitNetwork\n",
    "from network_wrangler import WranglerLogger\n",
    "from network_wrangler import ProjectCard\n",
    "\n",
    "from lasso import ModelRoadwayNetwork\n",
    "from lasso import StandardTransit\n",
    "from lasso import Parameters\n",
    "from lasso import metcouncil"
   ]
  },
  {
   "cell_type": "code",
   "execution_count": 2,
   "metadata": {},
   "outputs": [],
   "source": [
    "%load_ext autoreload\n",
    "%autoreload 2"
   ]
  },
  {
   "cell_type": "code",
   "execution_count": 3,
   "metadata": {},
   "outputs": [],
   "source": [
    "import logging\n",
    "logger = logging.getLogger(\"WranglerLogger\")\n",
    "logger.handlers[0].stream = sys.stdout\n",
    "logger.setLevel(logging.INFO)"
   ]
  },
  {
   "cell_type": "markdown",
   "metadata": {},
   "source": [
    "### Remote I/O and Parameters"
   ]
  },
  {
   "cell_type": "code",
   "execution_count": 4,
   "metadata": {},
   "outputs": [],
   "source": [
    "# root_dir = os.path.join('C:\\\\', 'Users', 'david.ory', 'Documents', 'GitHub', 'client_met_council_network')\n",
    "root_dir = os.path.join('/Users', 'wsp', 'Documents', 'GitHub', 'client_met_council_network')\n",
    "input_dir = os.path.join(root_dir, 'network_standard')\n",
    "output_dir = input_dir\n",
    "card_dir = os.path.join(root_dir, 'project_cards')\n",
    "# lasso_dir = os.path.join('C:\\\\', 'Users', 'david.ory', 'Documents', 'GitHub', 'lasso')\n",
    "lasso_dir = os.path.join('/Users', 'wsp', 'Documents', 'GitHub', 'lasso')"
   ]
  },
  {
   "cell_type": "code",
   "execution_count": 5,
   "metadata": {},
   "outputs": [
    {
     "name": "stdout",
     "output_type": "stream",
     "text": [
      "2020-10-21 16:06:29, INFO: Lasso base directory set as: /Users/wsp/Documents/GitHub/lasso\n",
      "2020-10-21 16:06:29, INFO: Lasso base directory set as: /Users/wsp/Documents/GitHub/lasso\n"
     ]
    }
   ],
   "source": [
    "parameters = Parameters(lasso_base_dir = lasso_dir)"
   ]
  },
  {
   "cell_type": "markdown",
   "metadata": {},
   "source": [
    "### Read Version 00 Scenario"
   ]
  },
  {
   "cell_type": "code",
   "execution_count": 6,
   "metadata": {},
   "outputs": [],
   "source": [
    "version_00_pickle_file_name = os.path.join(input_dir, 'working_scenario_00.pickle')\n",
    "v_01_scenario = pickle.load(open(version_00_pickle_file_name, 'rb'))"
   ]
  },
  {
   "cell_type": "code",
   "execution_count": 7,
   "metadata": {},
   "outputs": [],
   "source": [
    "# original = v_01_scenario"
   ]
  },
  {
   "cell_type": "code",
   "execution_count": 14,
   "metadata": {},
   "outputs": [],
   "source": [
    "# v_01_scenario = original"
   ]
  },
  {
   "cell_type": "markdown",
   "metadata": {},
   "source": [
    "### Apply Project Cards"
   ]
  },
  {
   "cell_type": "code",
   "execution_count": 9,
   "metadata": {},
   "outputs": [
    {
     "name": "stderr",
     "output_type": "stream",
     "text": [
      "/Users/wsp/Documents/GitHub/network_wrangler/network_wrangler/projectcard.py:114: YAMLLoadWarning: calling yaml.load() without Loader=... is deprecated, as the default Loader is unsafe. Please read https://msg.pyyaml.org/load for full details.\n",
      "  attribute_dictionary = yaml.load(_yaml)\n"
     ]
    }
   ],
   "source": [
    "project_card_list = []\n",
    "card_01_file_name = os.path.join(card_dir, 'manual_assign_group_roadway_class.wrangler')\n",
    "card_02_file_name = os.path.join(card_dir, 'year_2018_corrections_assign_group_roadway_class.yml')\n",
    "card_03_file_name = os.path.join(card_dir, 'year_2018_corrections_assign_group.yml')\n",
    "card_04_file_name = os.path.join(card_dir, 'test_35W_ML.yml')\n",
    "\n",
    "card = ProjectCard.read(card_01_file_name, validate = False)\n",
    "project_card_list.append(card)\n",
    "\n",
    "card = ProjectCard.read(card_02_file_name, validate = False)\n",
    "project_card_list.append(card)\n",
    "\n",
    "card = ProjectCard.read(card_03_file_name, validate = False)\n",
    "project_card_list.append(card)\n",
    "\n",
    "card = ProjectCard.read(card_04_file_name, validate = False)\n",
    "project_card_list.append(card)"
   ]
  },
  {
   "cell_type": "code",
   "execution_count": 10,
   "metadata": {},
   "outputs": [
    {
     "name": "stdout",
     "output_type": "stream",
     "text": [
      "2020-10-21 16:06:43, INFO: Applying Manual Changes to Assignment Group and Roadway Class\n",
      "2020-10-21 16:06:43, INFO: Applying Manual Changes to Assignment Group and Roadway Class\n",
      "2020-10-21 16:06:43, INFO: Applying Project to Roadway Network: Manual Changes to Assignment Group and Roadway Class\n",
      "2020-10-21 16:06:43, INFO: Applying Project to Roadway Network: Manual Changes to Assignment Group and Roadway Class\n",
      "2020-10-21 16:06:43, INFO: Lasso base directory set as: /Users/wsp/Documents/GitHub/lasso\n",
      "2020-10-21 16:06:43, INFO: Lasso base directory set as: /Users/wsp/Documents/GitHub/lasso\n"
     ]
    },
    {
     "name": "stderr",
     "output_type": "stream",
     "text": [
      "/Users/wsp/Documents/GitHub/network_wrangler/network_wrangler/roadwaynetwork.py:16: UserWarning: Geometry is in a geographic CRS. Results from 'centroid' are likely incorrect. Use 'GeoSeries.to_crs()' to re-project geometries to a projected CRS before this operation.\n",
      "\n",
      "  import networkx as nx\n",
      "/Users/wsp/Documents/GitHub/network_wrangler/network_wrangler/roadwaynetwork.py:46: UserWarning: Geometry is in a geographic CRS. Results from 'centroid' are likely incorrect. Use 'GeoSeries.to_crs()' to re-project geometries to a projected CRS before this operation.\n",
      "\n",
      "  \n"
     ]
    },
    {
     "name": "stdout",
     "output_type": "stream",
     "text": [
      "2020-10-21 16:08:03, INFO: Applying Correct Year 2018 Assignment Group and Roadway Class\n",
      "2020-10-21 16:08:03, INFO: Applying Correct Year 2018 Assignment Group and Roadway Class\n",
      "2020-10-21 16:08:03, INFO: Applying Correct Year 2018 Assignment Group and Roadway Class\n",
      "2020-10-21 16:08:03, INFO: Applying Correct Year 2018 Assignment Group and Roadway Class\n",
      "2020-10-21 16:08:03, INFO: Applying Project to Roadway Network: Correct Year 2018 Assignment Group and Roadway Class\n",
      "2020-10-21 16:08:03, INFO: Applying Project to Roadway Network: Correct Year 2018 Assignment Group and Roadway Class\n",
      "2020-10-21 16:08:03, INFO: Applying Correct Year 2018 Assignment Group\n",
      "2020-10-21 16:08:03, INFO: Applying Correct Year 2018 Assignment Group\n",
      "2020-10-21 16:08:03, INFO: Applying Correct Year 2018 Assignment Group\n",
      "2020-10-21 16:08:03, INFO: Applying Correct Year 2018 Assignment Group\n",
      "2020-10-21 16:08:03, INFO: Applying Project to Roadway Network: Correct Year 2018 Assignment Group\n",
      "2020-10-21 16:08:03, INFO: Applying Project to Roadway Network: Correct Year 2018 Assignment Group\n"
     ]
    },
    {
     "name": "stderr",
     "output_type": "stream",
     "text": [
      "/Users/wsp/opt/anaconda3/envs/lasso_x/lib/python3.7/site-packages/geopandas/geodataframe.py:853: SettingWithCopyWarning: \n",
      "A value is trying to be set on a copy of a slice from a DataFrame.\n",
      "Try using .loc[row_indexer,col_indexer] = value instead\n",
      "\n",
      "See the caveats in the documentation: https://pandas.pydata.org/pandas-docs/stable/user_guide/indexing.html#returning-a-view-versus-a-copy\n",
      "  super(GeoDataFrame, self).__setitem__(key, value)\n"
     ]
    },
    {
     "name": "stdout",
     "output_type": "stream",
     "text": [
      "2020-10-21 16:08:06, INFO: Applying Correct Year 2018 Assignment Group\n",
      "2020-10-21 16:08:06, INFO: Applying Correct Year 2018 Assignment Group\n",
      "2020-10-21 16:08:06, INFO: Applying Project to Roadway Network: Correct Year 2018 Assignment Group\n",
      "2020-10-21 16:08:06, INFO: Applying Project to Roadway Network: Correct Year 2018 Assignment Group\n"
     ]
    },
    {
     "name": "stderr",
     "output_type": "stream",
     "text": [
      "/Users/wsp/opt/anaconda3/envs/lasso_x/lib/python3.7/site-packages/geopandas/geodataframe.py:853: SettingWithCopyWarning: \n",
      "A value is trying to be set on a copy of a slice from a DataFrame.\n",
      "Try using .loc[row_indexer,col_indexer] = value instead\n",
      "\n",
      "See the caveats in the documentation: https://pandas.pydata.org/pandas-docs/stable/user_guide/indexing.html#returning-a-view-versus-a-copy\n",
      "  super(GeoDataFrame, self).__setitem__(key, value)\n"
     ]
    },
    {
     "name": "stdout",
     "output_type": "stream",
     "text": [
      "2020-10-21 16:08:09, INFO: Applying Correct Year 2018 Assignment Group\n",
      "2020-10-21 16:08:09, INFO: Applying Correct Year 2018 Assignment Group\n",
      "2020-10-21 16:08:09, INFO: Applying Project to Roadway Network: Correct Year 2018 Assignment Group\n",
      "2020-10-21 16:08:09, INFO: Applying Project to Roadway Network: Correct Year 2018 Assignment Group\n",
      "2020-10-21 16:08:09, INFO: Applying Correct Year 2018 Assignment Group\n",
      "2020-10-21 16:08:09, INFO: Applying Correct Year 2018 Assignment Group\n",
      "2020-10-21 16:08:09, INFO: Applying Project to Roadway Network: Correct Year 2018 Assignment Group\n",
      "2020-10-21 16:08:09, INFO: Applying Project to Roadway Network: Correct Year 2018 Assignment Group\n",
      "2020-10-21 16:08:09, INFO: Applying Correct Year 2018 Assignment Group\n",
      "2020-10-21 16:08:09, INFO: Applying Correct Year 2018 Assignment Group\n",
      "2020-10-21 16:08:09, INFO: Applying Project to Roadway Network: Correct Year 2018 Assignment Group\n",
      "2020-10-21 16:08:09, INFO: Applying Project to Roadway Network: Correct Year 2018 Assignment Group\n",
      "2020-10-21 16:08:09, INFO: Applying Correct Year 2018 Assignment Group\n",
      "2020-10-21 16:08:09, INFO: Applying Correct Year 2018 Assignment Group\n",
      "2020-10-21 16:08:09, INFO: Applying Project to Roadway Network: Correct Year 2018 Assignment Group\n",
      "2020-10-21 16:08:09, INFO: Applying Project to Roadway Network: Correct Year 2018 Assignment Group\n"
     ]
    },
    {
     "name": "stderr",
     "output_type": "stream",
     "text": [
      "/Users/wsp/opt/anaconda3/envs/lasso_x/lib/python3.7/site-packages/geopandas/geodataframe.py:853: SettingWithCopyWarning: \n",
      "A value is trying to be set on a copy of a slice from a DataFrame.\n",
      "Try using .loc[row_indexer,col_indexer] = value instead\n",
      "\n",
      "See the caveats in the documentation: https://pandas.pydata.org/pandas-docs/stable/user_guide/indexing.html#returning-a-view-versus-a-copy\n",
      "  super(GeoDataFrame, self).__setitem__(key, value)\n",
      "/Users/wsp/opt/anaconda3/envs/lasso_x/lib/python3.7/site-packages/geopandas/geodataframe.py:853: SettingWithCopyWarning: \n",
      "A value is trying to be set on a copy of a slice from a DataFrame.\n",
      "Try using .loc[row_indexer,col_indexer] = value instead\n",
      "\n",
      "See the caveats in the documentation: https://pandas.pydata.org/pandas-docs/stable/user_guide/indexing.html#returning-a-view-versus-a-copy\n",
      "  super(GeoDataFrame, self).__setitem__(key, value)\n",
      "/Users/wsp/opt/anaconda3/envs/lasso_x/lib/python3.7/site-packages/geopandas/geodataframe.py:853: SettingWithCopyWarning: \n",
      "A value is trying to be set on a copy of a slice from a DataFrame.\n",
      "Try using .loc[row_indexer,col_indexer] = value instead\n",
      "\n",
      "See the caveats in the documentation: https://pandas.pydata.org/pandas-docs/stable/user_guide/indexing.html#returning-a-view-versus-a-copy\n",
      "  super(GeoDataFrame, self).__setitem__(key, value)\n",
      "/Users/wsp/opt/anaconda3/envs/lasso_x/lib/python3.7/site-packages/geopandas/geodataframe.py:853: SettingWithCopyWarning: \n",
      "A value is trying to be set on a copy of a slice from a DataFrame.\n",
      "Try using .loc[row_indexer,col_indexer] = value instead\n",
      "\n",
      "See the caveats in the documentation: https://pandas.pydata.org/pandas-docs/stable/user_guide/indexing.html#returning-a-view-versus-a-copy\n",
      "  super(GeoDataFrame, self).__setitem__(key, value)\n"
     ]
    },
    {
     "name": "stdout",
     "output_type": "stream",
     "text": [
      "2020-10-21 16:08:09, INFO: Applying Correct Year 2018 Assignment Group\n",
      "2020-10-21 16:08:09, INFO: Applying Correct Year 2018 Assignment Group\n",
      "2020-10-21 16:08:09, INFO: Applying Project to Roadway Network: Correct Year 2018 Assignment Group\n",
      "2020-10-21 16:08:09, INFO: Applying Project to Roadway Network: Correct Year 2018 Assignment Group\n",
      "2020-10-21 16:08:09, INFO: Applying Correct Year 2018 Assignment Group\n",
      "2020-10-21 16:08:09, INFO: Applying Correct Year 2018 Assignment Group\n",
      "2020-10-21 16:08:09, INFO: Applying Project to Roadway Network: Correct Year 2018 Assignment Group\n",
      "2020-10-21 16:08:09, INFO: Applying Project to Roadway Network: Correct Year 2018 Assignment Group\n",
      "2020-10-21 16:08:09, INFO: Applying Correct Year 2018 Assignment Group\n",
      "2020-10-21 16:08:09, INFO: Applying Correct Year 2018 Assignment Group\n",
      "2020-10-21 16:08:09, INFO: Applying Project to Roadway Network: Correct Year 2018 Assignment Group\n",
      "2020-10-21 16:08:09, INFO: Applying Project to Roadway Network: Correct Year 2018 Assignment Group\n"
     ]
    },
    {
     "name": "stderr",
     "output_type": "stream",
     "text": [
      "/Users/wsp/opt/anaconda3/envs/lasso_x/lib/python3.7/site-packages/geopandas/geodataframe.py:853: SettingWithCopyWarning: \n",
      "A value is trying to be set on a copy of a slice from a DataFrame.\n",
      "Try using .loc[row_indexer,col_indexer] = value instead\n",
      "\n",
      "See the caveats in the documentation: https://pandas.pydata.org/pandas-docs/stable/user_guide/indexing.html#returning-a-view-versus-a-copy\n",
      "  super(GeoDataFrame, self).__setitem__(key, value)\n",
      "/Users/wsp/opt/anaconda3/envs/lasso_x/lib/python3.7/site-packages/geopandas/geodataframe.py:853: SettingWithCopyWarning: \n",
      "A value is trying to be set on a copy of a slice from a DataFrame.\n",
      "Try using .loc[row_indexer,col_indexer] = value instead\n",
      "\n",
      "See the caveats in the documentation: https://pandas.pydata.org/pandas-docs/stable/user_guide/indexing.html#returning-a-view-versus-a-copy\n",
      "  super(GeoDataFrame, self).__setitem__(key, value)\n",
      "/Users/wsp/opt/anaconda3/envs/lasso_x/lib/python3.7/site-packages/geopandas/geodataframe.py:853: SettingWithCopyWarning: \n",
      "A value is trying to be set on a copy of a slice from a DataFrame.\n",
      "Try using .loc[row_indexer,col_indexer] = value instead\n",
      "\n",
      "See the caveats in the documentation: https://pandas.pydata.org/pandas-docs/stable/user_guide/indexing.html#returning-a-view-versus-a-copy\n",
      "  super(GeoDataFrame, self).__setitem__(key, value)\n"
     ]
    },
    {
     "name": "stdout",
     "output_type": "stream",
     "text": [
      "2020-10-21 16:08:10, INFO: Applying Correct Year 2018 Assignment Group\n",
      "2020-10-21 16:08:10, INFO: Applying Correct Year 2018 Assignment Group\n",
      "2020-10-21 16:08:10, INFO: Applying Project to Roadway Network: Correct Year 2018 Assignment Group\n",
      "2020-10-21 16:08:10, INFO: Applying Project to Roadway Network: Correct Year 2018 Assignment Group\n",
      "2020-10-21 16:08:10, INFO: Applying Correct Year 2018 Assignment Group\n",
      "2020-10-21 16:08:10, INFO: Applying Correct Year 2018 Assignment Group\n",
      "2020-10-21 16:08:10, INFO: Applying Project to Roadway Network: Correct Year 2018 Assignment Group\n",
      "2020-10-21 16:08:10, INFO: Applying Project to Roadway Network: Correct Year 2018 Assignment Group\n",
      "2020-10-21 16:08:10, INFO: Applying Correct Year 2018 Assignment Group\n",
      "2020-10-21 16:08:10, INFO: Applying Correct Year 2018 Assignment Group\n",
      "2020-10-21 16:08:10, INFO: Applying Project to Roadway Network: Correct Year 2018 Assignment Group\n",
      "2020-10-21 16:08:10, INFO: Applying Project to Roadway Network: Correct Year 2018 Assignment Group\n"
     ]
    },
    {
     "name": "stderr",
     "output_type": "stream",
     "text": [
      "/Users/wsp/opt/anaconda3/envs/lasso_x/lib/python3.7/site-packages/geopandas/geodataframe.py:853: SettingWithCopyWarning: \n",
      "A value is trying to be set on a copy of a slice from a DataFrame.\n",
      "Try using .loc[row_indexer,col_indexer] = value instead\n",
      "\n",
      "See the caveats in the documentation: https://pandas.pydata.org/pandas-docs/stable/user_guide/indexing.html#returning-a-view-versus-a-copy\n",
      "  super(GeoDataFrame, self).__setitem__(key, value)\n",
      "/Users/wsp/opt/anaconda3/envs/lasso_x/lib/python3.7/site-packages/geopandas/geodataframe.py:853: SettingWithCopyWarning: \n",
      "A value is trying to be set on a copy of a slice from a DataFrame.\n",
      "Try using .loc[row_indexer,col_indexer] = value instead\n",
      "\n",
      "See the caveats in the documentation: https://pandas.pydata.org/pandas-docs/stable/user_guide/indexing.html#returning-a-view-versus-a-copy\n",
      "  super(GeoDataFrame, self).__setitem__(key, value)\n",
      "/Users/wsp/opt/anaconda3/envs/lasso_x/lib/python3.7/site-packages/geopandas/geodataframe.py:853: SettingWithCopyWarning: \n",
      "A value is trying to be set on a copy of a slice from a DataFrame.\n",
      "Try using .loc[row_indexer,col_indexer] = value instead\n",
      "\n",
      "See the caveats in the documentation: https://pandas.pydata.org/pandas-docs/stable/user_guide/indexing.html#returning-a-view-versus-a-copy\n",
      "  super(GeoDataFrame, self).__setitem__(key, value)\n"
     ]
    },
    {
     "name": "stdout",
     "output_type": "stream",
     "text": [
      "2020-10-21 16:08:10, INFO: Applying Correct Year 2018 Assignment Group\n",
      "2020-10-21 16:08:10, INFO: Applying Correct Year 2018 Assignment Group\n",
      "2020-10-21 16:08:10, INFO: Applying Project to Roadway Network: Correct Year 2018 Assignment Group\n",
      "2020-10-21 16:08:10, INFO: Applying Project to Roadway Network: Correct Year 2018 Assignment Group\n",
      "2020-10-21 16:08:10, INFO: Applying Correct Year 2018 Assignment Group\n",
      "2020-10-21 16:08:10, INFO: Applying Correct Year 2018 Assignment Group\n",
      "2020-10-21 16:08:10, INFO: Applying Project to Roadway Network: Correct Year 2018 Assignment Group\n",
      "2020-10-21 16:08:10, INFO: Applying Project to Roadway Network: Correct Year 2018 Assignment Group\n"
     ]
    },
    {
     "name": "stderr",
     "output_type": "stream",
     "text": [
      "/Users/wsp/opt/anaconda3/envs/lasso_x/lib/python3.7/site-packages/geopandas/geodataframe.py:853: SettingWithCopyWarning: \n",
      "A value is trying to be set on a copy of a slice from a DataFrame.\n",
      "Try using .loc[row_indexer,col_indexer] = value instead\n",
      "\n",
      "See the caveats in the documentation: https://pandas.pydata.org/pandas-docs/stable/user_guide/indexing.html#returning-a-view-versus-a-copy\n",
      "  super(GeoDataFrame, self).__setitem__(key, value)\n",
      "/Users/wsp/opt/anaconda3/envs/lasso_x/lib/python3.7/site-packages/geopandas/geodataframe.py:853: SettingWithCopyWarning: \n",
      "A value is trying to be set on a copy of a slice from a DataFrame.\n",
      "Try using .loc[row_indexer,col_indexer] = value instead\n",
      "\n",
      "See the caveats in the documentation: https://pandas.pydata.org/pandas-docs/stable/user_guide/indexing.html#returning-a-view-versus-a-copy\n",
      "  super(GeoDataFrame, self).__setitem__(key, value)\n"
     ]
    },
    {
     "name": "stdout",
     "output_type": "stream",
     "text": [
      "2020-10-21 16:08:10, INFO: Applying Correct Year 2018 Assignment Group\n",
      "2020-10-21 16:08:10, INFO: Applying Correct Year 2018 Assignment Group\n",
      "2020-10-21 16:08:10, INFO: Applying Project to Roadway Network: Correct Year 2018 Assignment Group\n",
      "2020-10-21 16:08:10, INFO: Applying Project to Roadway Network: Correct Year 2018 Assignment Group\n"
     ]
    },
    {
     "name": "stderr",
     "output_type": "stream",
     "text": [
      "/Users/wsp/opt/anaconda3/envs/lasso_x/lib/python3.7/site-packages/geopandas/geodataframe.py:853: SettingWithCopyWarning: \n",
      "A value is trying to be set on a copy of a slice from a DataFrame.\n",
      "Try using .loc[row_indexer,col_indexer] = value instead\n",
      "\n",
      "See the caveats in the documentation: https://pandas.pydata.org/pandas-docs/stable/user_guide/indexing.html#returning-a-view-versus-a-copy\n",
      "  super(GeoDataFrame, self).__setitem__(key, value)\n"
     ]
    },
    {
     "name": "stdout",
     "output_type": "stream",
     "text": [
      "2020-10-21 16:08:13, INFO: Applying Correct Year 2018 Assignment Group\n",
      "2020-10-21 16:08:13, INFO: Applying Correct Year 2018 Assignment Group\n",
      "2020-10-21 16:08:13, INFO: Applying Project to Roadway Network: Correct Year 2018 Assignment Group\n",
      "2020-10-21 16:08:13, INFO: Applying Project to Roadway Network: Correct Year 2018 Assignment Group\n"
     ]
    },
    {
     "name": "stderr",
     "output_type": "stream",
     "text": [
      "/Users/wsp/opt/anaconda3/envs/lasso_x/lib/python3.7/site-packages/geopandas/geodataframe.py:853: SettingWithCopyWarning: \n",
      "A value is trying to be set on a copy of a slice from a DataFrame.\n",
      "Try using .loc[row_indexer,col_indexer] = value instead\n",
      "\n",
      "See the caveats in the documentation: https://pandas.pydata.org/pandas-docs/stable/user_guide/indexing.html#returning-a-view-versus-a-copy\n",
      "  super(GeoDataFrame, self).__setitem__(key, value)\n"
     ]
    },
    {
     "name": "stdout",
     "output_type": "stream",
     "text": [
      "2020-10-21 16:08:16, INFO: Applying Correct Year 2018 Assignment Group\n",
      "2020-10-21 16:08:16, INFO: Applying Correct Year 2018 Assignment Group\n",
      "2020-10-21 16:08:16, INFO: Applying Project to Roadway Network: Correct Year 2018 Assignment Group\n",
      "2020-10-21 16:08:16, INFO: Applying Project to Roadway Network: Correct Year 2018 Assignment Group\n"
     ]
    },
    {
     "name": "stderr",
     "output_type": "stream",
     "text": [
      "/Users/wsp/opt/anaconda3/envs/lasso_x/lib/python3.7/site-packages/geopandas/geodataframe.py:853: SettingWithCopyWarning: \n",
      "A value is trying to be set on a copy of a slice from a DataFrame.\n",
      "Try using .loc[row_indexer,col_indexer] = value instead\n",
      "\n",
      "See the caveats in the documentation: https://pandas.pydata.org/pandas-docs/stable/user_guide/indexing.html#returning-a-view-versus-a-copy\n",
      "  super(GeoDataFrame, self).__setitem__(key, value)\n"
     ]
    },
    {
     "name": "stdout",
     "output_type": "stream",
     "text": [
      "2020-10-21 16:08:19, INFO: Applying Correct Year 2018 Assignment Group\n",
      "2020-10-21 16:08:19, INFO: Applying Correct Year 2018 Assignment Group\n",
      "2020-10-21 16:08:19, INFO: Applying Project to Roadway Network: Correct Year 2018 Assignment Group\n",
      "2020-10-21 16:08:19, INFO: Applying Project to Roadway Network: Correct Year 2018 Assignment Group\n"
     ]
    },
    {
     "name": "stderr",
     "output_type": "stream",
     "text": [
      "/Users/wsp/opt/anaconda3/envs/lasso_x/lib/python3.7/site-packages/geopandas/geodataframe.py:853: SettingWithCopyWarning: \n",
      "A value is trying to be set on a copy of a slice from a DataFrame.\n",
      "Try using .loc[row_indexer,col_indexer] = value instead\n",
      "\n",
      "See the caveats in the documentation: https://pandas.pydata.org/pandas-docs/stable/user_guide/indexing.html#returning-a-view-versus-a-copy\n",
      "  super(GeoDataFrame, self).__setitem__(key, value)\n"
     ]
    },
    {
     "name": "stdout",
     "output_type": "stream",
     "text": [
      "2020-10-21 16:08:22, INFO: Applying Correct Year 2018 Assignment Group\n",
      "2020-10-21 16:08:22, INFO: Applying Correct Year 2018 Assignment Group\n",
      "2020-10-21 16:08:22, INFO: Applying Project to Roadway Network: Correct Year 2018 Assignment Group\n",
      "2020-10-21 16:08:22, INFO: Applying Project to Roadway Network: Correct Year 2018 Assignment Group\n"
     ]
    },
    {
     "name": "stderr",
     "output_type": "stream",
     "text": [
      "/Users/wsp/opt/anaconda3/envs/lasso_x/lib/python3.7/site-packages/geopandas/geodataframe.py:853: SettingWithCopyWarning: \n",
      "A value is trying to be set on a copy of a slice from a DataFrame.\n",
      "Try using .loc[row_indexer,col_indexer] = value instead\n",
      "\n",
      "See the caveats in the documentation: https://pandas.pydata.org/pandas-docs/stable/user_guide/indexing.html#returning-a-view-versus-a-copy\n",
      "  super(GeoDataFrame, self).__setitem__(key, value)\n"
     ]
    },
    {
     "name": "stdout",
     "output_type": "stream",
     "text": [
      "2020-10-21 16:08:25, INFO: Applying Correct Year 2018 Assignment Group\n",
      "2020-10-21 16:08:25, INFO: Applying Correct Year 2018 Assignment Group\n",
      "2020-10-21 16:08:25, INFO: Applying Project to Roadway Network: Correct Year 2018 Assignment Group\n",
      "2020-10-21 16:08:25, INFO: Applying Project to Roadway Network: Correct Year 2018 Assignment Group\n"
     ]
    },
    {
     "name": "stderr",
     "output_type": "stream",
     "text": [
      "/Users/wsp/opt/anaconda3/envs/lasso_x/lib/python3.7/site-packages/geopandas/geodataframe.py:853: SettingWithCopyWarning: \n",
      "A value is trying to be set on a copy of a slice from a DataFrame.\n",
      "Try using .loc[row_indexer,col_indexer] = value instead\n",
      "\n",
      "See the caveats in the documentation: https://pandas.pydata.org/pandas-docs/stable/user_guide/indexing.html#returning-a-view-versus-a-copy\n",
      "  super(GeoDataFrame, self).__setitem__(key, value)\n"
     ]
    },
    {
     "name": "stdout",
     "output_type": "stream",
     "text": [
      "2020-10-21 16:08:28, INFO: Applying Correct Year 2018 Assignment Group\n",
      "2020-10-21 16:08:28, INFO: Applying Correct Year 2018 Assignment Group\n",
      "2020-10-21 16:08:28, INFO: Applying Project to Roadway Network: Correct Year 2018 Assignment Group\n",
      "2020-10-21 16:08:28, INFO: Applying Project to Roadway Network: Correct Year 2018 Assignment Group\n"
     ]
    },
    {
     "name": "stderr",
     "output_type": "stream",
     "text": [
      "/Users/wsp/opt/anaconda3/envs/lasso_x/lib/python3.7/site-packages/geopandas/geodataframe.py:853: SettingWithCopyWarning: \n",
      "A value is trying to be set on a copy of a slice from a DataFrame.\n",
      "Try using .loc[row_indexer,col_indexer] = value instead\n",
      "\n",
      "See the caveats in the documentation: https://pandas.pydata.org/pandas-docs/stable/user_guide/indexing.html#returning-a-view-versus-a-copy\n",
      "  super(GeoDataFrame, self).__setitem__(key, value)\n"
     ]
    },
    {
     "name": "stdout",
     "output_type": "stream",
     "text": [
      "2020-10-21 16:08:31, INFO: Applying Correct Year 2018 Assignment Group\n",
      "2020-10-21 16:08:31, INFO: Applying Correct Year 2018 Assignment Group\n",
      "2020-10-21 16:08:31, INFO: Applying Project to Roadway Network: Correct Year 2018 Assignment Group\n",
      "2020-10-21 16:08:31, INFO: Applying Project to Roadway Network: Correct Year 2018 Assignment Group\n"
     ]
    },
    {
     "name": "stderr",
     "output_type": "stream",
     "text": [
      "/Users/wsp/opt/anaconda3/envs/lasso_x/lib/python3.7/site-packages/geopandas/geodataframe.py:853: SettingWithCopyWarning: \n",
      "A value is trying to be set on a copy of a slice from a DataFrame.\n",
      "Try using .loc[row_indexer,col_indexer] = value instead\n",
      "\n",
      "See the caveats in the documentation: https://pandas.pydata.org/pandas-docs/stable/user_guide/indexing.html#returning-a-view-versus-a-copy\n",
      "  super(GeoDataFrame, self).__setitem__(key, value)\n"
     ]
    },
    {
     "name": "stdout",
     "output_type": "stream",
     "text": [
      "2020-10-21 16:08:34, INFO: Applying Correct Year 2018 Assignment Group\n",
      "2020-10-21 16:08:34, INFO: Applying Correct Year 2018 Assignment Group\n",
      "2020-10-21 16:08:34, INFO: Applying Project to Roadway Network: Correct Year 2018 Assignment Group\n",
      "2020-10-21 16:08:34, INFO: Applying Project to Roadway Network: Correct Year 2018 Assignment Group\n"
     ]
    },
    {
     "name": "stderr",
     "output_type": "stream",
     "text": [
      "/Users/wsp/opt/anaconda3/envs/lasso_x/lib/python3.7/site-packages/geopandas/geodataframe.py:853: SettingWithCopyWarning: \n",
      "A value is trying to be set on a copy of a slice from a DataFrame.\n",
      "Try using .loc[row_indexer,col_indexer] = value instead\n",
      "\n",
      "See the caveats in the documentation: https://pandas.pydata.org/pandas-docs/stable/user_guide/indexing.html#returning-a-view-versus-a-copy\n",
      "  super(GeoDataFrame, self).__setitem__(key, value)\n"
     ]
    },
    {
     "name": "stdout",
     "output_type": "stream",
     "text": [
      "2020-10-21 16:08:37, INFO: Applying Correct Year 2018 Assignment Group\n",
      "2020-10-21 16:08:37, INFO: Applying Correct Year 2018 Assignment Group\n",
      "2020-10-21 16:08:37, INFO: Applying Project to Roadway Network: Correct Year 2018 Assignment Group\n",
      "2020-10-21 16:08:37, INFO: Applying Project to Roadway Network: Correct Year 2018 Assignment Group\n"
     ]
    },
    {
     "name": "stderr",
     "output_type": "stream",
     "text": [
      "/Users/wsp/opt/anaconda3/envs/lasso_x/lib/python3.7/site-packages/geopandas/geodataframe.py:853: SettingWithCopyWarning: \n",
      "A value is trying to be set on a copy of a slice from a DataFrame.\n",
      "Try using .loc[row_indexer,col_indexer] = value instead\n",
      "\n",
      "See the caveats in the documentation: https://pandas.pydata.org/pandas-docs/stable/user_guide/indexing.html#returning-a-view-versus-a-copy\n",
      "  super(GeoDataFrame, self).__setitem__(key, value)\n"
     ]
    },
    {
     "name": "stdout",
     "output_type": "stream",
     "text": [
      "2020-10-21 16:08:39, INFO: Applying Correct Year 2018 Assignment Group\n",
      "2020-10-21 16:08:39, INFO: Applying Correct Year 2018 Assignment Group\n",
      "2020-10-21 16:08:39, INFO: Applying Project to Roadway Network: Correct Year 2018 Assignment Group\n",
      "2020-10-21 16:08:39, INFO: Applying Project to Roadway Network: Correct Year 2018 Assignment Group\n"
     ]
    },
    {
     "name": "stderr",
     "output_type": "stream",
     "text": [
      "/Users/wsp/opt/anaconda3/envs/lasso_x/lib/python3.7/site-packages/geopandas/geodataframe.py:853: SettingWithCopyWarning: \n",
      "A value is trying to be set on a copy of a slice from a DataFrame.\n",
      "Try using .loc[row_indexer,col_indexer] = value instead\n",
      "\n",
      "See the caveats in the documentation: https://pandas.pydata.org/pandas-docs/stable/user_guide/indexing.html#returning-a-view-versus-a-copy\n",
      "  super(GeoDataFrame, self).__setitem__(key, value)\n"
     ]
    },
    {
     "name": "stdout",
     "output_type": "stream",
     "text": [
      "2020-10-21 16:08:42, INFO: Applying Correct Year 2018 Assignment Group\n",
      "2020-10-21 16:08:42, INFO: Applying Correct Year 2018 Assignment Group\n",
      "2020-10-21 16:08:42, INFO: Applying Project to Roadway Network: Correct Year 2018 Assignment Group\n",
      "2020-10-21 16:08:42, INFO: Applying Project to Roadway Network: Correct Year 2018 Assignment Group\n"
     ]
    },
    {
     "name": "stderr",
     "output_type": "stream",
     "text": [
      "/Users/wsp/opt/anaconda3/envs/lasso_x/lib/python3.7/site-packages/geopandas/geodataframe.py:853: SettingWithCopyWarning: \n",
      "A value is trying to be set on a copy of a slice from a DataFrame.\n",
      "Try using .loc[row_indexer,col_indexer] = value instead\n",
      "\n",
      "See the caveats in the documentation: https://pandas.pydata.org/pandas-docs/stable/user_guide/indexing.html#returning-a-view-versus-a-copy\n",
      "  super(GeoDataFrame, self).__setitem__(key, value)\n"
     ]
    },
    {
     "name": "stdout",
     "output_type": "stream",
     "text": [
      "2020-10-21 16:08:44, INFO: Applying Correct Year 2018 Assignment Group\n",
      "2020-10-21 16:08:44, INFO: Applying Correct Year 2018 Assignment Group\n",
      "2020-10-21 16:08:44, INFO: Applying Project to Roadway Network: Correct Year 2018 Assignment Group\n",
      "2020-10-21 16:08:44, INFO: Applying Project to Roadway Network: Correct Year 2018 Assignment Group\n"
     ]
    },
    {
     "name": "stderr",
     "output_type": "stream",
     "text": [
      "/Users/wsp/opt/anaconda3/envs/lasso_x/lib/python3.7/site-packages/geopandas/geodataframe.py:853: SettingWithCopyWarning: \n",
      "A value is trying to be set on a copy of a slice from a DataFrame.\n",
      "Try using .loc[row_indexer,col_indexer] = value instead\n",
      "\n",
      "See the caveats in the documentation: https://pandas.pydata.org/pandas-docs/stable/user_guide/indexing.html#returning-a-view-versus-a-copy\n",
      "  super(GeoDataFrame, self).__setitem__(key, value)\n"
     ]
    },
    {
     "name": "stdout",
     "output_type": "stream",
     "text": [
      "2020-10-21 16:08:44, INFO: Applying Correct Year 2018 Assignment Group\n",
      "2020-10-21 16:08:44, INFO: Applying Correct Year 2018 Assignment Group\n",
      "2020-10-21 16:08:44, INFO: Applying Project to Roadway Network: Correct Year 2018 Assignment Group\n",
      "2020-10-21 16:08:44, INFO: Applying Project to Roadway Network: Correct Year 2018 Assignment Group\n",
      "2020-10-21 16:08:44, INFO: Applying Correct Year 2018 Assignment Group\n",
      "2020-10-21 16:08:44, INFO: Applying Correct Year 2018 Assignment Group\n",
      "2020-10-21 16:08:44, INFO: Applying Project to Roadway Network: Correct Year 2018 Assignment Group\n",
      "2020-10-21 16:08:44, INFO: Applying Project to Roadway Network: Correct Year 2018 Assignment Group\n",
      "2020-10-21 16:08:44, INFO: Applying Correct Year 2018 Assignment Group\n",
      "2020-10-21 16:08:44, INFO: Applying Correct Year 2018 Assignment Group\n",
      "2020-10-21 16:08:44, INFO: Applying Project to Roadway Network: Correct Year 2018 Assignment Group\n",
      "2020-10-21 16:08:44, INFO: Applying Project to Roadway Network: Correct Year 2018 Assignment Group\n"
     ]
    },
    {
     "name": "stderr",
     "output_type": "stream",
     "text": [
      "/Users/wsp/opt/anaconda3/envs/lasso_x/lib/python3.7/site-packages/geopandas/geodataframe.py:853: SettingWithCopyWarning: \n",
      "A value is trying to be set on a copy of a slice from a DataFrame.\n",
      "Try using .loc[row_indexer,col_indexer] = value instead\n",
      "\n",
      "See the caveats in the documentation: https://pandas.pydata.org/pandas-docs/stable/user_guide/indexing.html#returning-a-view-versus-a-copy\n",
      "  super(GeoDataFrame, self).__setitem__(key, value)\n",
      "/Users/wsp/opt/anaconda3/envs/lasso_x/lib/python3.7/site-packages/geopandas/geodataframe.py:853: SettingWithCopyWarning: \n",
      "A value is trying to be set on a copy of a slice from a DataFrame.\n",
      "Try using .loc[row_indexer,col_indexer] = value instead\n",
      "\n",
      "See the caveats in the documentation: https://pandas.pydata.org/pandas-docs/stable/user_guide/indexing.html#returning-a-view-versus-a-copy\n",
      "  super(GeoDataFrame, self).__setitem__(key, value)\n",
      "/Users/wsp/opt/anaconda3/envs/lasso_x/lib/python3.7/site-packages/geopandas/geodataframe.py:853: SettingWithCopyWarning: \n",
      "A value is trying to be set on a copy of a slice from a DataFrame.\n",
      "Try using .loc[row_indexer,col_indexer] = value instead\n",
      "\n",
      "See the caveats in the documentation: https://pandas.pydata.org/pandas-docs/stable/user_guide/indexing.html#returning-a-view-versus-a-copy\n",
      "  super(GeoDataFrame, self).__setitem__(key, value)\n"
     ]
    },
    {
     "name": "stdout",
     "output_type": "stream",
     "text": [
      "2020-10-21 16:08:46, INFO: Applying 35W south managed lane\n",
      "2020-10-21 16:08:46, INFO: Applying 35W south managed lane\n",
      "2020-10-21 16:08:46, INFO: Applying Project to Roadway Network: 35W south managed lane\n",
      "2020-10-21 16:08:46, INFO: Applying Project to Roadway Network: 35W south managed lane\n"
     ]
    },
    {
     "name": "stderr",
     "output_type": "stream",
     "text": [
      "/Users/wsp/opt/anaconda3/envs/lasso_x/lib/python3.7/site-packages/geopandas/geodataframe.py:853: SettingWithCopyWarning: \n",
      "A value is trying to be set on a copy of a slice from a DataFrame.\n",
      "Try using .loc[row_indexer,col_indexer] = value instead\n",
      "\n",
      "See the caveats in the documentation: https://pandas.pydata.org/pandas-docs/stable/user_guide/indexing.html#returning-a-view-versus-a-copy\n",
      "  super(GeoDataFrame, self).__setitem__(key, value)\n",
      "/Users/wsp/opt/anaconda3/envs/lasso_x/lib/python3.7/site-packages/geopandas/geodataframe.py:853: SettingWithCopyWarning: \n",
      "A value is trying to be set on a copy of a slice from a DataFrame.\n",
      "Try using .loc[row_indexer,col_indexer] = value instead\n",
      "\n",
      "See the caveats in the documentation: https://pandas.pydata.org/pandas-docs/stable/user_guide/indexing.html#returning-a-view-versus-a-copy\n",
      "  super(GeoDataFrame, self).__setitem__(key, value)\n"
     ]
    }
   ],
   "source": [
    "for project_card in project_card_list:\n",
    "    v_01_scenario.apply_project(project_card)"
   ]
  },
  {
   "cell_type": "code",
   "execution_count": 11,
   "metadata": {},
   "outputs": [
    {
     "data": {
      "text/plain": [
       "['Manual Changes to Assignment Group and Roadway Class',\n",
       " 'Correct Year 2018 Assignment Group and Roadway Class',\n",
       " 'Correct Year 2018 Assignment Group',\n",
       " '35W south managed lane']"
      ]
     },
     "execution_count": 11,
     "metadata": {},
     "output_type": "execute_result"
    }
   ],
   "source": [
    "v_01_scenario.applied_projects"
   ]
  },
  {
   "cell_type": "markdown",
   "metadata": {},
   "source": [
    "## Make Travel Model Network"
   ]
  },
  {
   "cell_type": "code",
   "execution_count": 12,
   "metadata": {},
   "outputs": [
    {
     "name": "stdout",
     "output_type": "stream",
     "text": [
      "2020-10-21 16:09:39, INFO: Lasso base directory set as: /Users/wsp/Documents/GitHub/lasso\n",
      "2020-10-21 16:09:39, INFO: Lasso base directory set as: /Users/wsp/Documents/GitHub/lasso\n"
     ]
    }
   ],
   "source": [
    "m_net = ModelRoadwayNetwork.from_RoadwayNetwork(\n",
    "    roadway_network_object = v_01_scenario.road_net, \n",
    "    parameters = parameters)"
   ]
  },
  {
   "cell_type": "code",
   "execution_count": 13,
   "metadata": {},
   "outputs": [
    {
     "name": "stdout",
     "output_type": "stream",
     "text": [
      "2020-10-21 16:09:39, INFO: Renaming roadway attributes to be consistent with what metcouncil's model is expecting\n",
      "2020-10-21 16:09:39, INFO: Renaming roadway attributes to be consistent with what metcouncil's model is expecting\n",
      "2020-10-21 16:09:39, INFO: Creating managed lane network.\n",
      "2020-10-21 16:09:39, INFO: Creating managed lane network.\n",
      "2020-10-21 16:09:39, INFO: Creating network with duplicated managed lanes\n",
      "2020-10-21 16:09:39, INFO: Creating network with duplicated managed lanes\n"
     ]
    },
    {
     "name": "stderr",
     "output_type": "stream",
     "text": [
      "/Users/wsp/opt/anaconda3/envs/lasso_x/lib/python3.7/site-packages/geopandas/geodataframe.py:853: SettingWithCopyWarning: \n",
      "A value is trying to be set on a copy of a slice from a DataFrame.\n",
      "Try using .loc[row_indexer,col_indexer] = value instead\n",
      "\n",
      "See the caveats in the documentation: https://pandas.pydata.org/pandas-docs/stable/user_guide/indexing.html#returning-a-view-versus-a-copy\n",
      "  super(GeoDataFrame, self).__setitem__(key, value)\n",
      "/Users/wsp/opt/anaconda3/envs/lasso_x/lib/python3.7/site-packages/geopandas/geodataframe.py:852: UserWarning: Geometry column does not contain geometry.\n",
      "  warnings.warn(\"Geometry column does not contain geometry.\")\n",
      "/Users/wsp/opt/anaconda3/envs/lasso_x/lib/python3.7/site-packages/pandas/core/indexing.py:1745: SettingWithCopyWarning: \n",
      "A value is trying to be set on a copy of a slice from a DataFrame.\n",
      "Try using .loc[row_indexer,col_indexer] = value instead\n",
      "\n",
      "See the caveats in the documentation: https://pandas.pydata.org/pandas-docs/stable/user_guide/indexing.html#returning-a-view-versus-a-copy\n",
      "  isetter(ilocs[0], value)\n"
     ]
    },
    {
     "name": "stdout",
     "output_type": "stream",
     "text": [
      "2020-10-21 16:09:48, INFO: Creating calculated roadway variables.\n",
      "2020-10-21 16:09:48, INFO: Creating calculated roadway variables.\n",
      "2020-10-21 16:09:48, INFO: Area Type Variable 'area_type' already in network. Returning without overwriting.\n",
      "2020-10-21 16:09:48, INFO: Area Type Variable 'area_type' already in network. Returning without overwriting.\n",
      "2020-10-21 16:09:48, INFO: County Variable 'county' already in network. Returning without overwriting.\n",
      "2020-10-21 16:09:48, INFO: County Variable 'county' already in network. Returning without overwriting.\n",
      "2020-10-21 16:09:48, INFO: Calculating MPO as roadway network variable: mpo\n",
      "2020-10-21 16:09:48, INFO: Calculating MPO as roadway network variable: mpo\n",
      "2020-10-21 16:09:48, INFO: Finished calculating MPO variable: mpo\n",
      "2020-10-21 16:09:48, INFO: Finished calculating MPO variable: mpo\n",
      "2020-10-21 16:09:48, INFO: Adding Counts\n",
      "2020-10-21 16:09:48, INFO: Adding Counts\n",
      "2020-10-21 16:09:48, INFO: Adding Variable AADT using Shared Streets Reference from /Users/wsp/Documents/GitHub/lasso/metcouncil_data/count_mn/mn_count_ShSt_API_match.csv\n",
      "2020-10-21 16:09:48, INFO: Adding Variable AADT using Shared Streets Reference from /Users/wsp/Documents/GitHub/lasso/metcouncil_data/count_mn/mn_count_ShSt_API_match.csv\n",
      "2020-10-21 16:09:49, INFO: Added variable: AADT using Shared Streets Reference\n",
      "2020-10-21 16:09:49, INFO: Added variable: AADT using Shared Streets Reference\n",
      "2020-10-21 16:09:49, INFO: Adding Variable AADT using Shared Streets Reference from /Users/wsp/Documents/GitHub/lasso/metcouncil_data/Wisconsin_Lanes_Counts_Median/wi_count_ShSt_API_match.csv\n",
      "2020-10-21 16:09:49, INFO: Adding Variable AADT using Shared Streets Reference from /Users/wsp/Documents/GitHub/lasso/metcouncil_data/Wisconsin_Lanes_Counts_Median/wi_count_ShSt_API_match.csv\n",
      "2020-10-21 16:09:51, INFO: Added variable: AADT using Shared Streets Reference\n",
      "2020-10-21 16:09:51, INFO: Added variable: AADT using Shared Streets Reference\n",
      "2020-10-21 16:09:51, INFO: Finished adding counts variable: AADT\n",
      "2020-10-21 16:09:51, INFO: Finished adding counts variable: AADT\n",
      "2020-10-21 16:09:51, INFO: Finished creating ML lanes variable: ML_lanes\n",
      "2020-10-21 16:09:51, INFO: Finished creating ML lanes variable: ML_lanes\n",
      "2020-10-21 16:09:51, INFO: Hov corridor Variable 'segment_id' already in network. Returning without overwriting.\n",
      "2020-10-21 16:09:51, INFO: Hov corridor Variable 'segment_id' already in network. Returning without overwriting.\n",
      "2020-10-21 16:09:51, INFO: Managed Variable 'managed' already in network. Returning without overwriting.\n",
      "2020-10-21 16:09:51, INFO: Managed Variable 'managed' already in network. Returning without overwriting.\n",
      "2020-10-21 16:09:51, INFO: Overwriting existing distance Variable 'distance' already in network\n",
      "2020-10-21 16:09:51, INFO: Overwriting existing distance Variable 'distance' already in network\n",
      "2020-10-21 16:10:02, INFO: Calculating distance for centroid connectors\n",
      "2020-10-21 16:10:02, INFO: Calculating distance for centroid connectors\n",
      "2020-10-21 16:10:03, INFO: Filling nan for network from network wrangler\n",
      "2020-10-21 16:10:03, INFO: Filling nan for network from network wrangler\n",
      "2020-10-21 16:10:08, INFO: Splitting variables by time period and category\n",
      "2020-10-21 16:10:08, INFO: Splitting variables by time period and category\n",
      "2020-10-21 16:10:11, WARNING: Specified variable to split: ML_lanes not in network variables: Index(['index', 'model_link_id', 'osm_link_id', 'shstReferenceId',\n",
      "       'shstGeometryId', 'shape_id', 'u', 'v', 'A', 'B', 'locationReferences',\n",
      "       'distance', 'roadway', 'name', 'ref', 'bridge', 'tunnel', 'width',\n",
      "       'max_speed', 'bike_facility', 'drive_access', 'walk_access',\n",
      "       'bike_access', 'truck_access', 'bus_only', 'rail_only', 'access',\n",
      "       'price', 'trn_priority', 'ttime_assert', 'geometry', 'centroidconnect',\n",
      "       'lanes', 'mrcc_id', 'ROUTE_SYS', 'RDWY_CTGY_', 'assign_group',\n",
      "       'roadway_class', 'area_type', 'county', 'ramp_flag', 'managed',\n",
      "       'segment_id', 'egress', 'mpo', 'AADT', 'count_AM', 'count_MD',\n",
      "       'count_PM', 'count_NT', 'count_daily', 'count_year', 'trn_priority_AM',\n",
      "       'trn_priority_MD', 'trn_priority_PM', 'trn_priority_NT',\n",
      "       'ttime_assert_AM', 'ttime_assert_MD', 'ttime_assert_PM',\n",
      "       'ttime_assert_NT', 'lanes_AM', 'lanes_MD', 'lanes_PM', 'lanes_NT'],\n",
      "      dtype='object'). Returning 0.\n",
      "2020-10-21 16:10:11, WARNING: Specified variable to split: ML_lanes not in network variables: Index(['index', 'model_link_id', 'osm_link_id', 'shstReferenceId',\n",
      "       'shstGeometryId', 'shape_id', 'u', 'v', 'A', 'B', 'locationReferences',\n",
      "       'distance', 'roadway', 'name', 'ref', 'bridge', 'tunnel', 'width',\n",
      "       'max_speed', 'bike_facility', 'drive_access', 'walk_access',\n",
      "       'bike_access', 'truck_access', 'bus_only', 'rail_only', 'access',\n",
      "       'price', 'trn_priority', 'ttime_assert', 'geometry', 'centroidconnect',\n",
      "       'lanes', 'mrcc_id', 'ROUTE_SYS', 'RDWY_CTGY_', 'assign_group',\n",
      "       'roadway_class', 'area_type', 'county', 'ramp_flag', 'managed',\n",
      "       'segment_id', 'egress', 'mpo', 'AADT', 'count_AM', 'count_MD',\n",
      "       'count_PM', 'count_NT', 'count_daily', 'count_year', 'trn_priority_AM',\n",
      "       'trn_priority_MD', 'trn_priority_PM', 'trn_priority_NT',\n",
      "       'ttime_assert_AM', 'ttime_assert_MD', 'ttime_assert_PM',\n",
      "       'ttime_assert_NT', 'lanes_AM', 'lanes_MD', 'lanes_PM', 'lanes_NT'],\n",
      "      dtype='object'). Returning 0.\n",
      "CAT: sov ['sov']\n",
      "CAT: sov ['sov']\n",
      "CAT: sov ['sov']\n",
      "CAT: sov ['sov']\n",
      "CAT: sov ['sov']\n",
      "CAT: sov ['sov']\n",
      "CAT: sov ['sov']\n",
      "CAT: hov2 ['sov']\n",
      "CAT: default ['sov']\n",
      "CAT: sov ['sov']\n",
      "CAT: hov2 ['sov']\n",
      "CAT: default ['sov']\n",
      "CAT: sov ['sov']\n",
      "CAT: hov2 ['sov']\n",
      "CAT: default ['sov']\n",
      "CAT: sov ['sov']\n",
      "CAT: hov2 ['sov']\n",
      "CAT: default ['sov']\n",
      "CAT: sov ['sov']\n",
      "CAT: hov2 ['sov']\n",
      "CAT: default ['sov']\n",
      "CAT: sov ['sov']\n",
      "CAT: hov2 ['sov']\n",
      "CAT: default ['sov']\n",
      "CAT: sov ['sov']\n",
      "CAT: hov2 ['sov']\n",
      "CAT: default ['sov']\n",
      "CAT: sov ['sov']\n",
      "CAT: hov3 ['sov']\n",
      "CAT: hov2 ['sov']\n",
      "CAT: default ['sov']\n",
      "CAT: sov ['sov']\n",
      "CAT: hov3 ['sov']\n",
      "CAT: hov2 ['sov']\n",
      "CAT: default ['sov']\n",
      "CAT: sov ['sov']\n",
      "CAT: hov3 ['sov']\n",
      "CAT: hov2 ['sov']\n",
      "CAT: default ['sov']\n",
      "CAT: sov ['sov']\n",
      "CAT: hov3 ['sov']\n",
      "CAT: hov2 ['sov']\n",
      "CAT: default ['sov']\n",
      "CAT: sov ['sov']\n",
      "CAT: hov3 ['sov']\n",
      "CAT: hov2 ['sov']\n",
      "CAT: default ['sov']\n",
      "CAT: sov ['sov']\n",
      "CAT: hov3 ['sov']\n",
      "CAT: hov2 ['sov']\n",
      "CAT: default ['sov']\n",
      "CAT: sov ['sov']\n",
      "CAT: hov3 ['sov']\n",
      "CAT: hov2 ['sov']\n",
      "CAT: default ['sov']\n",
      "CAT: sov ['sov']\n",
      "CAT: trk ['sov']\n",
      "CAT: sov ['sov']\n",
      "CAT: trk ['sov']\n",
      "CAT: sov ['sov']\n",
      "CAT: trk ['sov']\n",
      "CAT: sov ['sov']\n",
      "CAT: trk ['sov']\n",
      "CAT: sov ['sov']\n",
      "CAT: trk ['sov']\n",
      "CAT: sov ['sov']\n",
      "CAT: trk ['sov']\n",
      "CAT: sov ['sov']\n",
      "CAT: trk ['sov']\n",
      "CAT: sov ['sov']\n",
      "CAT: sov ['sov']\n",
      "CAT: sov ['sov']\n",
      "CAT: sov ['sov']\n",
      "CAT: sov ['sov']\n",
      "CAT: sov ['sov']\n",
      "CAT: sov ['sov']\n",
      "CAT: sov ['sov']\n",
      "CAT: hov2 ['sov']\n",
      "CAT: default ['sov']\n",
      "CAT: sov ['sov']\n",
      "CAT: hov2 ['sov']\n",
      "CAT: default ['sov']\n",
      "CAT: sov ['sov']\n",
      "CAT: hov2 ['sov']\n",
      "CAT: default ['sov']\n",
      "CAT: sov ['sov']\n",
      "CAT: hov2 ['sov']\n",
      "CAT: default ['sov']\n",
      "CAT: sov ['sov']\n",
      "CAT: hov2 ['sov']\n",
      "CAT: default ['sov']\n",
      "CAT: sov ['sov']\n",
      "CAT: hov2 ['sov']\n",
      "CAT: default ['sov']\n",
      "CAT: sov ['sov']\n",
      "CAT: hov2 ['sov']\n",
      "CAT: default ['sov']\n",
      "CAT: sov ['sov']\n",
      "CAT: hov3 ['sov']\n",
      "CAT: hov2 ['sov']\n",
      "CAT: default ['sov']\n",
      "CAT: sov ['sov']\n",
      "CAT: hov3 ['sov']\n",
      "CAT: hov2 ['sov']\n",
      "CAT: default ['sov']\n",
      "CAT: sov ['sov']\n",
      "CAT: hov3 ['sov']\n",
      "CAT: hov2 ['sov']\n",
      "CAT: default ['sov']\n",
      "CAT: sov ['sov']\n",
      "CAT: hov3 ['sov']\n",
      "CAT: hov2 ['sov']\n",
      "CAT: default ['sov']\n",
      "CAT: sov ['sov']\n",
      "CAT: hov3 ['sov']\n",
      "CAT: hov2 ['sov']\n",
      "CAT: default ['sov']\n",
      "CAT: sov ['sov']\n",
      "CAT: hov3 ['sov']\n",
      "CAT: hov2 ['sov']\n",
      "CAT: default ['sov']\n",
      "CAT: sov ['sov']\n",
      "CAT: hov3 ['sov']\n",
      "CAT: hov2 ['sov']\n",
      "CAT: default ['sov']\n",
      "CAT: sov ['sov']\n",
      "CAT: trk ['sov']\n",
      "CAT: sov ['sov']\n",
      "CAT: trk ['sov']\n",
      "CAT: sov ['sov']\n",
      "CAT: trk ['sov']\n",
      "CAT: sov ['sov']\n",
      "CAT: trk ['sov']\n",
      "CAT: sov ['sov']\n",
      "CAT: trk ['sov']\n",
      "CAT: sov ['sov']\n",
      "CAT: trk ['sov']\n",
      "CAT: sov ['sov']\n",
      "CAT: trk ['sov']\n",
      "CAT: sov ['sov']\n",
      "CAT: sov ['sov']\n",
      "CAT: sov ['sov']\n",
      "CAT: sov ['sov']\n",
      "CAT: sov ['sov']\n",
      "CAT: sov ['sov']\n",
      "CAT: sov ['sov']\n",
      "CAT: sov ['sov']\n",
      "CAT: hov2 ['sov']\n",
      "CAT: default ['sov']\n",
      "CAT: sov ['sov']\n",
      "CAT: hov2 ['sov']\n",
      "CAT: default ['sov']\n",
      "CAT: sov ['sov']\n",
      "CAT: hov2 ['sov']\n",
      "CAT: default ['sov']\n",
      "CAT: sov ['sov']\n",
      "CAT: hov2 ['sov']\n",
      "CAT: default ['sov']\n",
      "CAT: sov ['sov']\n",
      "CAT: hov2 ['sov']\n",
      "CAT: default ['sov']\n",
      "CAT: sov ['sov']\n",
      "CAT: hov2 ['sov']\n",
      "CAT: default ['sov']\n",
      "CAT: sov ['sov']\n",
      "CAT: hov2 ['sov']\n",
      "CAT: default ['sov']\n",
      "CAT: sov ['sov']\n",
      "CAT: hov3 ['sov']\n",
      "CAT: hov2 ['sov']\n",
      "CAT: default ['sov']\n",
      "CAT: sov ['sov']\n",
      "CAT: hov3 ['sov']\n",
      "CAT: hov2 ['sov']\n",
      "CAT: default ['sov']\n",
      "CAT: sov ['sov']\n",
      "CAT: hov3 ['sov']\n",
      "CAT: hov2 ['sov']\n",
      "CAT: default ['sov']\n",
      "CAT: sov ['sov']\n",
      "CAT: hov3 ['sov']\n",
      "CAT: hov2 ['sov']\n",
      "CAT: default ['sov']\n",
      "CAT: sov ['sov']\n",
      "CAT: hov3 ['sov']\n",
      "CAT: hov2 ['sov']\n",
      "CAT: default ['sov']\n",
      "CAT: sov ['sov']\n",
      "CAT: hov3 ['sov']\n",
      "CAT: hov2 ['sov']\n",
      "CAT: default ['sov']\n",
      "CAT: sov ['sov']\n",
      "CAT: hov3 ['sov']\n",
      "CAT: hov2 ['sov']\n",
      "CAT: default ['sov']\n",
      "CAT: sov ['sov']\n",
      "CAT: trk ['sov']\n",
      "CAT: sov ['sov']\n",
      "CAT: trk ['sov']\n",
      "CAT: sov ['sov']\n",
      "CAT: trk ['sov']\n",
      "CAT: sov ['sov']\n",
      "CAT: trk ['sov']\n",
      "CAT: sov ['sov']\n",
      "CAT: trk ['sov']\n",
      "CAT: sov ['sov']\n",
      "CAT: trk ['sov']\n",
      "CAT: sov ['sov']\n",
      "CAT: trk ['sov']\n",
      "CAT: sov ['sov']\n",
      "2020-10-21 16:10:14, INFO: Converting variable type to MetCouncil standard\n",
      "2020-10-21 16:10:14, INFO: Converting variable type to MetCouncil standard\n",
      "2020-10-21 16:10:19, INFO: Setting Coordinate Reference System to EPSG 26915\n",
      "2020-10-21 16:10:19, INFO: Setting Coordinate Reference System to EPSG 26915\n"
     ]
    }
   ],
   "source": [
    "m_net.roadway_standard_to_met_council_network()"
   ]
  },
  {
   "cell_type": "markdown",
   "metadata": {},
   "source": [
    "## Write to Disk"
   ]
  },
  {
   "cell_type": "markdown",
   "metadata": {},
   "source": [
    "### As Shapefile"
   ]
  },
  {
   "cell_type": "code",
   "execution_count": 15,
   "metadata": {},
   "outputs": [
    {
     "name": "stdout",
     "output_type": "stream",
     "text": [
      "2020-10-21 16:11:07, INFO: Writing Network as Shapefile\n",
      "2020-10-21 16:11:07, INFO: Writing Network as Shapefile\n",
      "2020-10-21 16:11:07, INFO: Renaming DBF Node Variables\n",
      "2020-10-21 16:11:07, INFO: Renaming DBF Node Variables\n",
      "2020-10-21 16:11:07, INFO: Renaming variables so that they are DBF-safe\n",
      "2020-10-21 16:11:07, INFO: Renaming variables so that they are DBF-safe\n",
      "2020-10-21 16:11:12, INFO: Renaming DBF Link Variables\n",
      "2020-10-21 16:11:12, INFO: Renaming DBF Link Variables\n",
      "2020-10-21 16:11:12, INFO: Renaming variables so that they are DBF-safe\n",
      "2020-10-21 16:11:12, INFO: Renaming variables so that they are DBF-safe\n",
      "2020-10-21 16:11:13, INFO: Writing Node Shapes:\n",
      " - /Users/wsp/Documents/GitHub/client_met_council_network/network_standard/v01_nodes.shp\n",
      "2020-10-21 16:11:13, INFO: Writing Node Shapes:\n",
      " - /Users/wsp/Documents/GitHub/client_met_council_network/network_standard/v01_nodes.shp\n",
      "2020-10-21 16:11:45, INFO: Writing Link Shapes:\n",
      " - /Users/wsp/Documents/GitHub/client_met_council_network/network_standard/v01_links.shp\n",
      "2020-10-21 16:11:45, INFO: Writing Link Shapes:\n",
      " - /Users/wsp/Documents/GitHub/client_met_council_network/network_standard/v01_links.shp\n"
     ]
    }
   ],
   "source": [
    "out_cols = ['model_link_id', 'shape_id', 'assign_group', 'drive_access', 'roadway_class',\n",
    "            'lanes_AM', 'lanes_MD', 'lanes_PM', 'lanes_NT', 'segment_id', 'HOV', \n",
    "            'price_sov_AM', 'geometry']\n",
    "\n",
    "m_net.write_roadway_as_shp(\n",
    "    output_link_shp = os.path.join(output_dir, 'v01_links.shp'),\n",
    "    output_node_shp = os.path.join(output_dir, 'v01_nodes.shp'),\n",
    "    link_output_variables = out_cols,\n",
    "    data_to_csv = False,\n",
    "    data_to_dbf = True,\n",
    ")"
   ]
  },
  {
   "cell_type": "markdown",
   "metadata": {},
   "source": [
    "### As Fixed Width for Cube"
   ]
  },
  {
   "cell_type": "code",
   "execution_count": 16,
   "metadata": {},
   "outputs": [
    {
     "name": "stdout",
     "output_type": "stream",
     "text": [
      "2020-10-21 16:12:33, INFO: Starting fixed width conversion\n",
      "2020-10-21 16:12:33, INFO: Starting fixed width conversion\n",
      "2020-10-21 16:17:43, INFO: Writing out link database\n",
      "2020-10-21 16:17:43, INFO: Writing out link database\n",
      "2020-10-21 16:17:49, INFO: Writing out link header and width ----\n",
      "2020-10-21 16:17:49, INFO: Writing out link header and width ----\n",
      "2020-10-21 16:17:49, INFO: Starting fixed width conversion\n",
      "2020-10-21 16:17:49, INFO: Starting fixed width conversion\n",
      "2020-10-21 16:18:21, INFO: Writing out node database\n",
      "2020-10-21 16:18:21, INFO: Writing out node database\n",
      "2020-10-21 16:18:22, INFO: Writing out node header and width\n",
      "2020-10-21 16:18:22, INFO: Writing out node header and width\n"
     ]
    }
   ],
   "source": [
    "m_net.write_roadway_as_fixedwidth(\n",
    "    output_link_txt = os.path.join(output_dir, 'v01_links.txt'),\n",
    "    output_node_txt = os.path.join(output_dir, 'v01_nodes.txt'),\n",
    "    output_link_header_width_txt = os.path.join(output_dir, 'links_header_width.txt'),\n",
    "    output_node_header_width_txt = os.path.join(output_dir, 'nodes_header_width.txt'),\n",
    "    output_cube_network_script = os.path.join(output_dir, 'make_complete_network_from_fixed_width_file.s'),\n",
    ")"
   ]
  },
  {
   "cell_type": "code",
   "execution_count": 20,
   "metadata": {},
   "outputs": [
    {
     "name": "stdout",
     "output_type": "stream",
     "text": [
      "2020-10-21 16:21:12, INFO: Lasso base directory set as: /Users/wsp/Documents/GitHub/lasso\n",
      "2020-10-21 16:21:12, INFO: Lasso base directory set as: /Users/wsp/Documents/GitHub/lasso\n",
      "2020-10-21 16:21:12, INFO: Converting GTFS Standard Properties to MetCouncil's Cube Standard\n",
      "2020-10-21 16:21:12, INFO: Converting GTFS Standard Properties to MetCouncil's Cube Standard\n"
     ]
    }
   ],
   "source": [
    "standard_transit_net = StandardTransit.fromTransitNetwork(v_01_scenario.transit_net, parameters=parameters)\n",
    "standard_transit_net.write_as_cube_lin(outpath = os.path.join(output_dir, \"v01_transit.lin\"))"
   ]
  },
  {
   "cell_type": "markdown",
   "metadata": {},
   "source": [
    "### Scenario as Pickle"
   ]
  },
  {
   "cell_type": "code",
   "execution_count": null,
   "metadata": {},
   "outputs": [],
   "source": [
    "scenario_filename = os.path.join(pickle_dir, 'working_scenario_01.pickle')\n",
    "pickle.dump(v_01_scenario, open(scenario_filename, 'wb'))"
   ]
  },
  {
   "cell_type": "code",
   "execution_count": null,
   "metadata": {},
   "outputs": [],
   "source": []
  }
 ],
 "metadata": {
  "kernelspec": {
   "display_name": "Python 3",
   "language": "python",
   "name": "python3"
  },
  "language_info": {
   "codemirror_mode": {
    "name": "ipython",
    "version": 3
   },
   "file_extension": ".py",
   "mimetype": "text/x-python",
   "name": "python",
   "nbconvert_exporter": "python",
   "pygments_lexer": "ipython3",
   "version": "3.7.7"
  }
 },
 "nbformat": 4,
 "nbformat_minor": 4
}
