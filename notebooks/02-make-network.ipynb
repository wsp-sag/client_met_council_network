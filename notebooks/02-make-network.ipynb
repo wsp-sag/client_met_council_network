{
 "cells": [
  {
   "cell_type": "markdown",
   "metadata": {},
   "source": [
    "# 02 Make Network Version 01\n",
    "Step 2 applies project cards, makes Python changes, and writes out a pickle of the version 01 network"
   ]
  },
  {
   "cell_type": "code",
   "execution_count": 1,
   "metadata": {},
   "outputs": [],
   "source": [
    "import os\n",
    "import sys\n",
    "import yaml\n",
    "from subprocess import Popen\n",
    "import pickle\n",
    "\n",
    "import pandas as pd\n",
    "import geopandas as gpd\n",
    "import numpy as np\n",
    "\n",
    "\n",
    "from network_wrangler import RoadwayNetwork\n",
    "from network_wrangler import TransitNetwork\n",
    "from network_wrangler import WranglerLogger\n",
    "from network_wrangler import ProjectCard\n",
    "\n",
    "from lasso import ModelRoadwayNetwork\n",
    "from lasso import StandardTransit\n",
    "from lasso import Parameters\n",
    "from lasso import metcouncil"
   ]
  },
  {
   "cell_type": "code",
   "execution_count": 2,
   "metadata": {},
   "outputs": [],
   "source": [
    "%load_ext autoreload\n",
    "%autoreload 2"
   ]
  },
  {
   "cell_type": "code",
   "execution_count": 3,
   "metadata": {},
   "outputs": [],
   "source": [
    "import logging\n",
    "logger = logging.getLogger(\"WranglerLogger\")\n",
    "logger.handlers[0].stream = sys.stdout\n",
    "logger.setLevel(logging.INFO)"
   ]
  },
  {
   "cell_type": "markdown",
   "metadata": {},
   "source": [
    "### Remote I/O and Parameters"
   ]
  },
  {
   "cell_type": "code",
   "execution_count": 5,
   "metadata": {},
   "outputs": [],
   "source": [
    "# root_dir = os.path.join('C:\\\\', 'Users', 'david.ory', 'Documents', 'GitHub', 'client_met_council_network')\n",
    "root_dir = os.path.join(\"Z:/Data/Users/Sijia/Met_Council/client_met_council_network\")\n",
    "input_dir = os.path.join(root_dir, 'network_standard')\n",
    "output_dir = input_dir\n",
    "card_dir = os.path.join(root_dir, 'project_cards')\n",
    "# lasso_dir = os.path.join('C:\\\\', 'Users', 'david.ory', 'Documents', 'GitHub', 'lasso')\n",
    "lasso_dir = os.path.join(\"C:/Users/wangs1/Lasso\")"
   ]
  },
  {
   "cell_type": "code",
   "execution_count": 6,
   "metadata": {},
   "outputs": [
    {
     "name": "stdout",
     "output_type": "stream",
     "text": [
      "2021-07-20 17:10:28, INFO: Lasso base directory set as: C:/Users/wangs1/Lasso\n",
      "2021-07-20 17:10:28, INFO: Lasso base directory set as: C:/Users/wangs1/Lasso\n"
     ]
    }
   ],
   "source": [
    "parameters = Parameters(lasso_base_dir = lasso_dir)"
   ]
  },
  {
   "cell_type": "markdown",
   "metadata": {},
   "source": [
    "### Read Version 00 Scenario"
   ]
  },
  {
   "cell_type": "code",
   "execution_count": 7,
   "metadata": {},
   "outputs": [],
   "source": [
    "version_00_pickle_file_name = os.path.join(input_dir, 'working_scenario_00.pickle')\n",
    "v_01_scenario = pickle.load(open(version_00_pickle_file_name, 'rb'))"
   ]
  },
  {
   "cell_type": "code",
   "execution_count": 8,
   "metadata": {},
   "outputs": [],
   "source": [
    "# original = v_01_scenario"
   ]
  },
  {
   "cell_type": "code",
   "execution_count": 9,
   "metadata": {},
   "outputs": [],
   "source": [
    "# v_01_scenario = original"
   ]
  },
  {
   "cell_type": "markdown",
   "metadata": {},
   "source": [
    "### Apply Project Cards"
   ]
  },
  {
   "cell_type": "code",
   "execution_count": 10,
   "metadata": {},
   "outputs": [
    {
     "name": "stderr",
     "output_type": "stream",
     "text": [
      "c:\\users\\wangs1\\network_wrangler\\network_wrangler\\projectcard.py:114: YAMLLoadWarning: calling yaml.load() without Loader=... is deprecated, as the default Loader is unsafe. Please read https://msg.pyyaml.org/load for full details.\n",
      "  attribute_dictionary = yaml.load(_yaml)\n"
     ]
    }
   ],
   "source": [
    "project_card_list = []\n",
    "card_01_file_name = os.path.join(card_dir, 'manual_assign_group_roadway_class.wrangler')\n",
    "card_02_file_name = os.path.join(card_dir, 'year_2018_corrections_assign_group_roadway_class.yml')\n",
    "card_03_file_name = os.path.join(card_dir, 'year_2018_corrections_assign_group.yml')\n",
    "card_04_file_name = os.path.join(card_dir, 'test_35W_ML.yml')\n",
    "\n",
    "card = ProjectCard.read(card_01_file_name, validate = False)\n",
    "project_card_list.append(card)\n",
    "\n",
    "card = ProjectCard.read(card_02_file_name, validate = False)\n",
    "project_card_list.append(card)\n",
    "\n",
    "card = ProjectCard.read(card_03_file_name, validate = False)\n",
    "project_card_list.append(card)\n",
    "\n",
    "card = ProjectCard.read(card_04_file_name, validate = False)\n",
    "project_card_list.append(card)"
   ]
  },
  {
   "cell_type": "code",
   "execution_count": 11,
   "metadata": {},
   "outputs": [
    {
     "name": "stdout",
     "output_type": "stream",
     "text": [
      "2021-07-20 17:11:16, INFO: Applying Manual Changes to Assignment Group and Roadway Class\n",
      "2021-07-20 17:11:16, INFO: Applying Manual Changes to Assignment Group and Roadway Class\n",
      "2021-07-20 17:11:16, INFO: Applying Project to Roadway Network: Manual Changes to Assignment Group and Roadway Class\n",
      "2021-07-20 17:11:16, INFO: Applying Project to Roadway Network: Manual Changes to Assignment Group and Roadway Class\n",
      "2021-07-20 17:11:16, INFO: Lasso base directory set as: C:\\Users\\wangs1\\lasso\n",
      "2021-07-20 17:11:16, INFO: Lasso base directory set as: C:\\Users\\wangs1\\lasso\n"
     ]
    },
    {
     "name": "stderr",
     "output_type": "stream",
     "text": [
      "c:\\users\\wangs1\\network_wrangler\\network_wrangler\\roadwaynetwork.py:16: UserWarning: Geometry is in a geographic CRS. Results from 'centroid' are likely incorrect. Use 'GeoSeries.to_crs()' to re-project geometries to a projected CRS before this operation.\n",
      "\n",
      "  import networkx as nx\n",
      "c:\\users\\wangs1\\network_wrangler\\network_wrangler\\roadwaynetwork.py:46: UserWarning: Geometry is in a geographic CRS. Results from 'centroid' are likely incorrect. Use 'GeoSeries.to_crs()' to re-project geometries to a projected CRS before this operation.\n",
      "\n",
      "  \n"
     ]
    },
    {
     "name": "stdout",
     "output_type": "stream",
     "text": [
      "2021-07-20 17:16:37, INFO: Applying Correct Year 2018 Assignment Group and Roadway Class\n",
      "2021-07-20 17:16:37, INFO: Applying Correct Year 2018 Assignment Group and Roadway Class\n",
      "2021-07-20 17:16:37, INFO: Applying Correct Year 2018 Assignment Group and Roadway Class\n",
      "2021-07-20 17:16:37, INFO: Applying Correct Year 2018 Assignment Group and Roadway Class\n",
      "2021-07-20 17:16:37, INFO: Applying Project to Roadway Network: Correct Year 2018 Assignment Group and Roadway Class\n",
      "2021-07-20 17:16:37, INFO: Applying Project to Roadway Network: Correct Year 2018 Assignment Group and Roadway Class\n",
      "2021-07-20 17:16:37, INFO: Applying Correct Year 2018 Assignment Group\n",
      "2021-07-20 17:16:37, INFO: Applying Correct Year 2018 Assignment Group\n",
      "2021-07-20 17:16:37, INFO: Applying Correct Year 2018 Assignment Group\n",
      "2021-07-20 17:16:37, INFO: Applying Correct Year 2018 Assignment Group\n",
      "2021-07-20 17:16:37, INFO: Applying Project to Roadway Network: Correct Year 2018 Assignment Group\n",
      "2021-07-20 17:16:37, INFO: Applying Project to Roadway Network: Correct Year 2018 Assignment Group\n"
     ]
    },
    {
     "name": "stderr",
     "output_type": "stream",
     "text": [
      "c:\\users\\wangs1\\.conda\\envs\\lasso_metc\\lib\\site-packages\\geopandas\\geodataframe.py:1322: SettingWithCopyWarning: \n",
      "A value is trying to be set on a copy of a slice from a DataFrame.\n",
      "Try using .loc[row_indexer,col_indexer] = value instead\n",
      "\n",
      "See the caveats in the documentation: https://pandas.pydata.org/pandas-docs/stable/user_guide/indexing.html#returning-a-view-versus-a-copy\n",
      "  super(GeoDataFrame, self).__setitem__(key, value)\n"
     ]
    },
    {
     "name": "stdout",
     "output_type": "stream",
     "text": [
      "2021-07-20 17:16:42, INFO: Applying Correct Year 2018 Assignment Group\n",
      "2021-07-20 17:16:42, INFO: Applying Correct Year 2018 Assignment Group\n",
      "2021-07-20 17:16:42, INFO: Applying Project to Roadway Network: Correct Year 2018 Assignment Group\n",
      "2021-07-20 17:16:42, INFO: Applying Project to Roadway Network: Correct Year 2018 Assignment Group\n",
      "2021-07-20 17:16:47, INFO: Applying Correct Year 2018 Assignment Group\n",
      "2021-07-20 17:16:47, INFO: Applying Correct Year 2018 Assignment Group\n",
      "2021-07-20 17:16:47, INFO: Applying Project to Roadway Network: Correct Year 2018 Assignment Group\n",
      "2021-07-20 17:16:47, INFO: Applying Project to Roadway Network: Correct Year 2018 Assignment Group\n",
      "2021-07-20 17:16:48, INFO: Applying Correct Year 2018 Assignment Group\n",
      "2021-07-20 17:16:48, INFO: Applying Correct Year 2018 Assignment Group\n",
      "2021-07-20 17:16:48, INFO: Applying Project to Roadway Network: Correct Year 2018 Assignment Group\n",
      "2021-07-20 17:16:48, INFO: Applying Project to Roadway Network: Correct Year 2018 Assignment Group\n",
      "2021-07-20 17:16:48, INFO: Applying Correct Year 2018 Assignment Group\n",
      "2021-07-20 17:16:48, INFO: Applying Correct Year 2018 Assignment Group\n",
      "2021-07-20 17:16:48, INFO: Applying Project to Roadway Network: Correct Year 2018 Assignment Group\n",
      "2021-07-20 17:16:48, INFO: Applying Project to Roadway Network: Correct Year 2018 Assignment Group\n",
      "2021-07-20 17:16:48, INFO: Applying Correct Year 2018 Assignment Group\n",
      "2021-07-20 17:16:48, INFO: Applying Correct Year 2018 Assignment Group\n",
      "2021-07-20 17:16:48, INFO: Applying Project to Roadway Network: Correct Year 2018 Assignment Group\n",
      "2021-07-20 17:16:48, INFO: Applying Project to Roadway Network: Correct Year 2018 Assignment Group\n",
      "2021-07-20 17:16:48, INFO: Applying Correct Year 2018 Assignment Group\n",
      "2021-07-20 17:16:48, INFO: Applying Correct Year 2018 Assignment Group\n",
      "2021-07-20 17:16:48, INFO: Applying Project to Roadway Network: Correct Year 2018 Assignment Group\n",
      "2021-07-20 17:16:48, INFO: Applying Project to Roadway Network: Correct Year 2018 Assignment Group\n",
      "2021-07-20 17:16:48, INFO: Applying Correct Year 2018 Assignment Group\n",
      "2021-07-20 17:16:48, INFO: Applying Correct Year 2018 Assignment Group\n",
      "2021-07-20 17:16:48, INFO: Applying Project to Roadway Network: Correct Year 2018 Assignment Group\n",
      "2021-07-20 17:16:48, INFO: Applying Project to Roadway Network: Correct Year 2018 Assignment Group\n",
      "2021-07-20 17:16:49, INFO: Applying Correct Year 2018 Assignment Group\n",
      "2021-07-20 17:16:49, INFO: Applying Correct Year 2018 Assignment Group\n",
      "2021-07-20 17:16:49, INFO: Applying Project to Roadway Network: Correct Year 2018 Assignment Group\n",
      "2021-07-20 17:16:49, INFO: Applying Project to Roadway Network: Correct Year 2018 Assignment Group\n",
      "2021-07-20 17:16:50, INFO: Applying Correct Year 2018 Assignment Group\n",
      "2021-07-20 17:16:50, INFO: Applying Correct Year 2018 Assignment Group\n",
      "2021-07-20 17:16:50, INFO: Applying Project to Roadway Network: Correct Year 2018 Assignment Group\n",
      "2021-07-20 17:16:50, INFO: Applying Project to Roadway Network: Correct Year 2018 Assignment Group\n",
      "2021-07-20 17:16:50, INFO: Applying Correct Year 2018 Assignment Group\n",
      "2021-07-20 17:16:50, INFO: Applying Correct Year 2018 Assignment Group\n",
      "2021-07-20 17:16:50, INFO: Applying Project to Roadway Network: Correct Year 2018 Assignment Group\n",
      "2021-07-20 17:16:50, INFO: Applying Project to Roadway Network: Correct Year 2018 Assignment Group\n",
      "2021-07-20 17:16:50, INFO: Applying Correct Year 2018 Assignment Group\n",
      "2021-07-20 17:16:50, INFO: Applying Correct Year 2018 Assignment Group\n",
      "2021-07-20 17:16:50, INFO: Applying Project to Roadway Network: Correct Year 2018 Assignment Group\n",
      "2021-07-20 17:16:50, INFO: Applying Project to Roadway Network: Correct Year 2018 Assignment Group\n",
      "2021-07-20 17:16:51, INFO: Applying Correct Year 2018 Assignment Group\n",
      "2021-07-20 17:16:51, INFO: Applying Correct Year 2018 Assignment Group\n",
      "2021-07-20 17:16:51, INFO: Applying Project to Roadway Network: Correct Year 2018 Assignment Group\n",
      "2021-07-20 17:16:51, INFO: Applying Project to Roadway Network: Correct Year 2018 Assignment Group\n",
      "2021-07-20 17:16:52, INFO: Applying Correct Year 2018 Assignment Group\n",
      "2021-07-20 17:16:52, INFO: Applying Correct Year 2018 Assignment Group\n",
      "2021-07-20 17:16:52, INFO: Applying Project to Roadway Network: Correct Year 2018 Assignment Group\n",
      "2021-07-20 17:16:52, INFO: Applying Project to Roadway Network: Correct Year 2018 Assignment Group\n",
      "2021-07-20 17:16:52, INFO: Applying Correct Year 2018 Assignment Group\n",
      "2021-07-20 17:16:52, INFO: Applying Correct Year 2018 Assignment Group\n",
      "2021-07-20 17:16:52, INFO: Applying Project to Roadway Network: Correct Year 2018 Assignment Group\n",
      "2021-07-20 17:16:52, INFO: Applying Project to Roadway Network: Correct Year 2018 Assignment Group\n",
      "2021-07-20 17:16:57, INFO: Applying Correct Year 2018 Assignment Group\n",
      "2021-07-20 17:16:57, INFO: Applying Correct Year 2018 Assignment Group\n",
      "2021-07-20 17:16:57, INFO: Applying Project to Roadway Network: Correct Year 2018 Assignment Group\n",
      "2021-07-20 17:16:57, INFO: Applying Project to Roadway Network: Correct Year 2018 Assignment Group\n",
      "2021-07-20 17:17:02, INFO: Applying Correct Year 2018 Assignment Group\n",
      "2021-07-20 17:17:02, INFO: Applying Correct Year 2018 Assignment Group\n",
      "2021-07-20 17:17:02, INFO: Applying Project to Roadway Network: Correct Year 2018 Assignment Group\n",
      "2021-07-20 17:17:02, INFO: Applying Project to Roadway Network: Correct Year 2018 Assignment Group\n",
      "2021-07-20 17:17:07, INFO: Applying Correct Year 2018 Assignment Group\n",
      "2021-07-20 17:17:07, INFO: Applying Correct Year 2018 Assignment Group\n",
      "2021-07-20 17:17:07, INFO: Applying Project to Roadway Network: Correct Year 2018 Assignment Group\n",
      "2021-07-20 17:17:07, INFO: Applying Project to Roadway Network: Correct Year 2018 Assignment Group\n",
      "2021-07-20 17:17:12, INFO: Applying Correct Year 2018 Assignment Group\n",
      "2021-07-20 17:17:12, INFO: Applying Correct Year 2018 Assignment Group\n",
      "2021-07-20 17:17:12, INFO: Applying Project to Roadway Network: Correct Year 2018 Assignment Group\n",
      "2021-07-20 17:17:12, INFO: Applying Project to Roadway Network: Correct Year 2018 Assignment Group\n",
      "2021-07-20 17:17:17, INFO: Applying Correct Year 2018 Assignment Group\n",
      "2021-07-20 17:17:17, INFO: Applying Correct Year 2018 Assignment Group\n",
      "2021-07-20 17:17:17, INFO: Applying Project to Roadway Network: Correct Year 2018 Assignment Group\n",
      "2021-07-20 17:17:17, INFO: Applying Project to Roadway Network: Correct Year 2018 Assignment Group\n",
      "2021-07-20 17:17:22, INFO: Applying Correct Year 2018 Assignment Group\n",
      "2021-07-20 17:17:22, INFO: Applying Correct Year 2018 Assignment Group\n",
      "2021-07-20 17:17:22, INFO: Applying Project to Roadway Network: Correct Year 2018 Assignment Group\n",
      "2021-07-20 17:17:22, INFO: Applying Project to Roadway Network: Correct Year 2018 Assignment Group\n",
      "2021-07-20 17:17:27, INFO: Applying Correct Year 2018 Assignment Group\n",
      "2021-07-20 17:17:27, INFO: Applying Correct Year 2018 Assignment Group\n",
      "2021-07-20 17:17:27, INFO: Applying Project to Roadway Network: Correct Year 2018 Assignment Group\n",
      "2021-07-20 17:17:27, INFO: Applying Project to Roadway Network: Correct Year 2018 Assignment Group\n",
      "2021-07-20 17:17:32, INFO: Applying Correct Year 2018 Assignment Group\n",
      "2021-07-20 17:17:32, INFO: Applying Correct Year 2018 Assignment Group\n",
      "2021-07-20 17:17:32, INFO: Applying Project to Roadway Network: Correct Year 2018 Assignment Group\n",
      "2021-07-20 17:17:32, INFO: Applying Project to Roadway Network: Correct Year 2018 Assignment Group\n",
      "2021-07-20 17:17:37, INFO: Applying Correct Year 2018 Assignment Group\n",
      "2021-07-20 17:17:37, INFO: Applying Correct Year 2018 Assignment Group\n",
      "2021-07-20 17:17:37, INFO: Applying Project to Roadway Network: Correct Year 2018 Assignment Group\n",
      "2021-07-20 17:17:37, INFO: Applying Project to Roadway Network: Correct Year 2018 Assignment Group\n",
      "2021-07-20 17:17:42, INFO: Applying Correct Year 2018 Assignment Group\n",
      "2021-07-20 17:17:42, INFO: Applying Correct Year 2018 Assignment Group\n",
      "2021-07-20 17:17:42, INFO: Applying Project to Roadway Network: Correct Year 2018 Assignment Group\n",
      "2021-07-20 17:17:42, INFO: Applying Project to Roadway Network: Correct Year 2018 Assignment Group\n",
      "2021-07-20 17:17:47, INFO: Applying Correct Year 2018 Assignment Group\n"
     ]
    },
    {
     "name": "stdout",
     "output_type": "stream",
     "text": [
      "2021-07-20 17:17:47, INFO: Applying Correct Year 2018 Assignment Group\n",
      "2021-07-20 17:17:47, INFO: Applying Project to Roadway Network: Correct Year 2018 Assignment Group\n",
      "2021-07-20 17:17:47, INFO: Applying Project to Roadway Network: Correct Year 2018 Assignment Group\n",
      "2021-07-20 17:17:50, INFO: Applying Correct Year 2018 Assignment Group\n",
      "2021-07-20 17:17:50, INFO: Applying Correct Year 2018 Assignment Group\n",
      "2021-07-20 17:17:50, INFO: Applying Project to Roadway Network: Correct Year 2018 Assignment Group\n",
      "2021-07-20 17:17:50, INFO: Applying Project to Roadway Network: Correct Year 2018 Assignment Group\n",
      "2021-07-20 17:17:51, INFO: Applying Correct Year 2018 Assignment Group\n",
      "2021-07-20 17:17:51, INFO: Applying Correct Year 2018 Assignment Group\n",
      "2021-07-20 17:17:51, INFO: Applying Project to Roadway Network: Correct Year 2018 Assignment Group\n",
      "2021-07-20 17:17:51, INFO: Applying Project to Roadway Network: Correct Year 2018 Assignment Group\n",
      "2021-07-20 17:17:52, INFO: Applying Correct Year 2018 Assignment Group\n",
      "2021-07-20 17:17:52, INFO: Applying Correct Year 2018 Assignment Group\n",
      "2021-07-20 17:17:52, INFO: Applying Project to Roadway Network: Correct Year 2018 Assignment Group\n",
      "2021-07-20 17:17:52, INFO: Applying Project to Roadway Network: Correct Year 2018 Assignment Group\n",
      "2021-07-20 17:17:52, INFO: Applying Correct Year 2018 Assignment Group\n",
      "2021-07-20 17:17:52, INFO: Applying Correct Year 2018 Assignment Group\n",
      "2021-07-20 17:17:52, INFO: Applying Project to Roadway Network: Correct Year 2018 Assignment Group\n",
      "2021-07-20 17:17:52, INFO: Applying Project to Roadway Network: Correct Year 2018 Assignment Group\n",
      "2021-07-20 17:17:56, INFO: Applying 35W south managed lane\n",
      "2021-07-20 17:17:56, INFO: Applying 35W south managed lane\n",
      "2021-07-20 17:17:56, INFO: Applying Project to Roadway Network: 35W south managed lane\n",
      "2021-07-20 17:17:56, INFO: Applying Project to Roadway Network: 35W south managed lane\n"
     ]
    }
   ],
   "source": [
    "for project_card in project_card_list:\n",
    "    v_01_scenario.apply_project(project_card)"
   ]
  },
  {
   "cell_type": "code",
   "execution_count": 12,
   "metadata": {},
   "outputs": [
    {
     "data": {
      "text/plain": [
       "['Manual Changes to Assignment Group and Roadway Class',\n",
       " 'Correct Year 2018 Assignment Group and Roadway Class',\n",
       " 'Correct Year 2018 Assignment Group',\n",
       " '35W south managed lane']"
      ]
     },
     "execution_count": 12,
     "metadata": {},
     "output_type": "execute_result"
    }
   ],
   "source": [
    "v_01_scenario.applied_projects"
   ]
  },
  {
   "cell_type": "markdown",
   "metadata": {},
   "source": [
    "## Make Travel Model Network"
   ]
  },
  {
   "cell_type": "code",
   "execution_count": 13,
   "metadata": {},
   "outputs": [
    {
     "name": "stdout",
     "output_type": "stream",
     "text": [
      "2021-07-20 17:21:23, INFO: Lasso base directory set as: C:/Users/wangs1/Lasso\n",
      "2021-07-20 17:21:23, INFO: Lasso base directory set as: C:/Users/wangs1/Lasso\n"
     ]
    }
   ],
   "source": [
    "m_net = ModelRoadwayNetwork.from_RoadwayNetwork(\n",
    "    roadway_network_object = v_01_scenario.road_net, \n",
    "    parameters = parameters)"
   ]
  },
  {
   "cell_type": "code",
   "execution_count": 14,
   "metadata": {},
   "outputs": [
    {
     "name": "stdout",
     "output_type": "stream",
     "text": [
      "2021-07-20 17:21:23, INFO: Renaming roadway attributes to be consistent with what metcouncil's model is expecting\n",
      "2021-07-20 17:21:23, INFO: Renaming roadway attributes to be consistent with what metcouncil's model is expecting\n",
      "2021-07-20 17:21:23, INFO: Creating managed lane network.\n",
      "2021-07-20 17:21:23, INFO: Creating managed lane network.\n",
      "2021-07-20 17:21:23, INFO: Creating network with duplicated managed lanes\n",
      "2021-07-20 17:21:23, INFO: Creating network with duplicated managed lanes\n"
     ]
    },
    {
     "name": "stderr",
     "output_type": "stream",
     "text": [
      "c:\\users\\wangs1\\.conda\\envs\\lasso_metc\\lib\\site-packages\\geopandas\\geodataframe.py:1321: UserWarning: Geometry column does not contain geometry.\n",
      "  warnings.warn(\"Geometry column does not contain geometry.\")\n"
     ]
    },
    {
     "name": "stdout",
     "output_type": "stream",
     "text": [
      "2021-07-20 17:22:00, INFO: Creating calculated roadway variables.\n",
      "2021-07-20 17:22:00, INFO: Creating calculated roadway variables.\n",
      "2021-07-20 17:22:00, INFO: Area Type Variable 'area_type' already in network. Returning without overwriting.\n",
      "2021-07-20 17:22:00, INFO: Area Type Variable 'area_type' already in network. Returning without overwriting.\n",
      "2021-07-20 17:22:00, INFO: County Variable 'county' already in network. Returning without overwriting.\n",
      "2021-07-20 17:22:00, INFO: County Variable 'county' already in network. Returning without overwriting.\n",
      "2021-07-20 17:22:00, INFO: Calculating MPO as roadway network variable: mpo\n",
      "2021-07-20 17:22:00, INFO: Calculating MPO as roadway network variable: mpo\n",
      "2021-07-20 17:22:00, INFO: Finished calculating MPO variable: mpo\n",
      "2021-07-20 17:22:00, INFO: Finished calculating MPO variable: mpo\n",
      "2021-07-20 17:22:00, INFO: Adding Counts\n",
      "2021-07-20 17:22:00, INFO: Adding Counts\n",
      "2021-07-20 17:22:00, INFO: Adding Variable AADT using Shared Streets Reference from C:/Users/wangs1/Lasso\\metcouncil_data\\count_mn\\mn_count_ShSt_API_match.csv\n",
      "2021-07-20 17:22:00, INFO: Adding Variable AADT using Shared Streets Reference from C:/Users/wangs1/Lasso\\metcouncil_data\\count_mn\\mn_count_ShSt_API_match.csv\n",
      "2021-07-20 17:22:06, INFO: Added variable: AADT using Shared Streets Reference\n",
      "2021-07-20 17:22:06, INFO: Added variable: AADT using Shared Streets Reference\n",
      "2021-07-20 17:22:06, INFO: Adding Variable AADT using Shared Streets Reference from C:/Users/wangs1/Lasso\\metcouncil_data\\Wisconsin_Lanes_Counts_Median\\wi_count_ShSt_API_match.csv\n",
      "2021-07-20 17:22:06, INFO: Adding Variable AADT using Shared Streets Reference from C:/Users/wangs1/Lasso\\metcouncil_data\\Wisconsin_Lanes_Counts_Median\\wi_count_ShSt_API_match.csv\n",
      "2021-07-20 17:22:14, INFO: Added variable: AADT using Shared Streets Reference\n",
      "2021-07-20 17:22:14, INFO: Added variable: AADT using Shared Streets Reference\n",
      "2021-07-20 17:22:14, INFO: Finished adding counts variable: AADT\n",
      "2021-07-20 17:22:14, INFO: Finished adding counts variable: AADT\n",
      "2021-07-20 17:22:14, INFO: Finished creating ML lanes variable: ML_lanes\n",
      "2021-07-20 17:22:14, INFO: Finished creating ML lanes variable: ML_lanes\n",
      "2021-07-20 17:22:14, INFO: Hov corridor Variable 'segment_id' already in network. Returning without overwriting.\n",
      "2021-07-20 17:22:14, INFO: Hov corridor Variable 'segment_id' already in network. Returning without overwriting.\n",
      "2021-07-20 17:22:14, INFO: Managed Variable 'managed' already in network. Returning without overwriting.\n",
      "2021-07-20 17:22:14, INFO: Managed Variable 'managed' already in network. Returning without overwriting.\n",
      "2021-07-20 17:22:14, INFO: Overwriting existing distance Variable 'distance' already in network\n",
      "2021-07-20 17:22:14, INFO: Overwriting existing distance Variable 'distance' already in network\n",
      "2021-07-20 17:22:56, INFO: Calculating distance for all links\n",
      "2021-07-20 17:22:56, INFO: Calculating distance for all links\n",
      "2021-07-20 17:23:01, INFO: Filling nan for network from network wrangler\n",
      "2021-07-20 17:23:01, INFO: Filling nan for network from network wrangler\n",
      "2021-07-20 17:23:25, INFO: Splitting variables by time period and category\n",
      "2021-07-20 17:23:25, INFO: Splitting variables by time period and category\n",
      "2021-07-20 17:23:36, WARNING: Specified variable to split: ML_lanes not in network variables: Index(['index', 'model_link_id', 'osm_link_id', 'shstReferenceId',\n",
      "       'shstGeometryId', 'shape_id', 'u', 'v', 'A', 'B', 'locationReferences',\n",
      "       'distance', 'roadway', 'name', 'ref', 'bridge', 'tunnel', 'width',\n",
      "       'max_speed', 'bike_facility', 'drive_access', 'walk_access',\n",
      "       'bike_access', 'truck_access', 'bus_only', 'rail_only', 'price',\n",
      "       'trn_priority', 'ttime_assert', 'geometry', 'centroidconnect', 'lanes',\n",
      "       'mrcc_id', 'ROUTE_SYS', 'RDWY_CTGY_', 'assign_group', 'roadway_class',\n",
      "       'area_type', 'county', 'ramp_flag', 'managed', 'segment_id', 'mpo',\n",
      "       'AADT', 'count_AM', 'count_MD', 'count_PM', 'count_NT', 'count_daily',\n",
      "       'count_year', 'trn_priority_AM', 'trn_priority_MD', 'trn_priority_PM',\n",
      "       'trn_priority_NT', 'ttime_assert_AM', 'ttime_assert_MD',\n",
      "       'ttime_assert_PM', 'ttime_assert_NT', 'lanes_AM', 'lanes_MD',\n",
      "       'lanes_PM', 'lanes_NT'],\n",
      "      dtype='object'). Returning 0.\n",
      "2021-07-20 17:23:36, WARNING: Specified variable to split: ML_lanes not in network variables: Index(['index', 'model_link_id', 'osm_link_id', 'shstReferenceId',\n",
      "       'shstGeometryId', 'shape_id', 'u', 'v', 'A', 'B', 'locationReferences',\n",
      "       'distance', 'roadway', 'name', 'ref', 'bridge', 'tunnel', 'width',\n",
      "       'max_speed', 'bike_facility', 'drive_access', 'walk_access',\n",
      "       'bike_access', 'truck_access', 'bus_only', 'rail_only', 'price',\n",
      "       'trn_priority', 'ttime_assert', 'geometry', 'centroidconnect', 'lanes',\n",
      "       'mrcc_id', 'ROUTE_SYS', 'RDWY_CTGY_', 'assign_group', 'roadway_class',\n",
      "       'area_type', 'county', 'ramp_flag', 'managed', 'segment_id', 'mpo',\n",
      "       'AADT', 'count_AM', 'count_MD', 'count_PM', 'count_NT', 'count_daily',\n",
      "       'count_year', 'trn_priority_AM', 'trn_priority_MD', 'trn_priority_PM',\n",
      "       'trn_priority_NT', 'ttime_assert_AM', 'ttime_assert_MD',\n",
      "       'ttime_assert_PM', 'ttime_assert_NT', 'lanes_AM', 'lanes_MD',\n",
      "       'lanes_PM', 'lanes_NT'],\n",
      "      dtype='object'). Returning 0.\n",
      "CAT: sov ['sov']\n",
      "CAT: sov ['sov']\n",
      "CAT: sov ['sov']\n",
      "CAT: sov ['sov']\n",
      "CAT: sov ['sov']\n",
      "CAT: sov ['sov']\n",
      "CAT: sov ['sov']\n",
      "CAT: hov2 ['sov']\n",
      "CAT: default ['sov']\n",
      "CAT: sov ['sov']\n",
      "CAT: hov2 ['sov']\n",
      "CAT: default ['sov']\n",
      "CAT: sov ['sov']\n",
      "CAT: hov2 ['sov']\n",
      "CAT: default ['sov']\n",
      "CAT: sov ['sov']\n",
      "CAT: hov2 ['sov']\n",
      "CAT: default ['sov']\n",
      "CAT: sov ['sov']\n",
      "CAT: hov2 ['sov']\n",
      "CAT: default ['sov']\n",
      "CAT: sov ['sov']\n",
      "CAT: hov2 ['sov']\n",
      "CAT: default ['sov']\n",
      "CAT: sov ['sov']\n",
      "CAT: hov2 ['sov']\n",
      "CAT: default ['sov']\n",
      "CAT: sov ['sov']\n",
      "CAT: hov3 ['sov']\n",
      "CAT: hov2 ['sov']\n",
      "CAT: default ['sov']\n",
      "CAT: sov ['sov']\n",
      "CAT: hov3 ['sov']\n",
      "CAT: hov2 ['sov']\n",
      "CAT: default ['sov']\n",
      "CAT: sov ['sov']\n",
      "CAT: hov3 ['sov']\n",
      "CAT: hov2 ['sov']\n",
      "CAT: default ['sov']\n",
      "CAT: sov ['sov']\n",
      "CAT: hov3 ['sov']\n",
      "CAT: hov2 ['sov']\n",
      "CAT: default ['sov']\n",
      "CAT: sov ['sov']\n",
      "CAT: hov3 ['sov']\n",
      "CAT: hov2 ['sov']\n",
      "CAT: default ['sov']\n",
      "CAT: sov ['sov']\n",
      "CAT: hov3 ['sov']\n",
      "CAT: hov2 ['sov']\n",
      "CAT: default ['sov']\n",
      "CAT: sov ['sov']\n",
      "CAT: hov3 ['sov']\n",
      "CAT: hov2 ['sov']\n",
      "CAT: default ['sov']\n",
      "CAT: sov ['sov']\n",
      "CAT: trk ['sov']\n",
      "CAT: sov ['sov']\n",
      "CAT: trk ['sov']\n",
      "CAT: sov ['sov']\n",
      "CAT: trk ['sov']\n",
      "CAT: sov ['sov']\n",
      "CAT: trk ['sov']\n",
      "CAT: sov ['sov']\n",
      "CAT: trk ['sov']\n",
      "CAT: sov ['sov']\n",
      "CAT: trk ['sov']\n",
      "CAT: sov ['sov']\n",
      "CAT: trk ['sov']\n",
      "CAT: sov ['sov']\n",
      "CAT: sov ['sov']\n",
      "CAT: sov ['sov']\n",
      "CAT: sov ['sov']\n",
      "CAT: sov ['sov']\n",
      "CAT: sov ['sov']\n",
      "CAT: sov ['sov']\n",
      "CAT: sov ['sov']\n",
      "CAT: hov2 ['sov']\n",
      "CAT: default ['sov']\n",
      "CAT: sov ['sov']\n",
      "CAT: hov2 ['sov']\n",
      "CAT: default ['sov']\n",
      "CAT: sov ['sov']\n",
      "CAT: hov2 ['sov']\n",
      "CAT: default ['sov']\n",
      "CAT: sov ['sov']\n",
      "CAT: hov2 ['sov']\n",
      "CAT: default ['sov']\n",
      "CAT: sov ['sov']\n",
      "CAT: hov2 ['sov']\n",
      "CAT: default ['sov']\n",
      "CAT: sov ['sov']\n",
      "CAT: hov2 ['sov']\n",
      "CAT: default ['sov']\n",
      "CAT: sov ['sov']\n",
      "CAT: hov2 ['sov']\n",
      "CAT: default ['sov']\n",
      "CAT: sov ['sov']\n",
      "CAT: hov3 ['sov']\n",
      "CAT: hov2 ['sov']\n",
      "CAT: default ['sov']\n",
      "CAT: sov ['sov']\n",
      "CAT: hov3 ['sov']\n",
      "CAT: hov2 ['sov']\n",
      "CAT: default ['sov']\n",
      "CAT: sov ['sov']\n",
      "CAT: hov3 ['sov']\n",
      "CAT: hov2 ['sov']\n",
      "CAT: default ['sov']\n",
      "CAT: sov ['sov']\n",
      "CAT: hov3 ['sov']\n",
      "CAT: hov2 ['sov']\n",
      "CAT: default ['sov']\n",
      "CAT: sov ['sov']\n",
      "CAT: hov3 ['sov']\n",
      "CAT: hov2 ['sov']\n",
      "CAT: default ['sov']\n",
      "CAT: sov ['sov']\n",
      "CAT: hov3 ['sov']\n",
      "CAT: hov2 ['sov']\n",
      "CAT: default ['sov']\n",
      "CAT: sov ['sov']\n",
      "CAT: hov3 ['sov']\n",
      "CAT: hov2 ['sov']\n",
      "CAT: default ['sov']\n",
      "CAT: sov ['sov']\n",
      "CAT: trk ['sov']\n",
      "CAT: sov ['sov']\n",
      "CAT: trk ['sov']\n",
      "CAT: sov ['sov']\n",
      "CAT: trk ['sov']\n",
      "CAT: sov ['sov']\n",
      "CAT: trk ['sov']\n",
      "CAT: sov ['sov']\n",
      "CAT: trk ['sov']\n",
      "CAT: sov ['sov']\n",
      "CAT: trk ['sov']\n",
      "CAT: sov ['sov']\n",
      "CAT: trk ['sov']\n",
      "CAT: sov ['sov']\n",
      "2021-07-20 17:23:52, WARNING: Specified variable to split: access not in network variables: Index(['index', 'model_link_id', 'osm_link_id', 'shstReferenceId',\n",
      "       'shstGeometryId', 'shape_id', 'u', 'v', 'A', 'B', 'locationReferences',\n",
      "       'distance', 'roadway', 'name', 'ref', 'bridge', 'tunnel', 'width',\n",
      "       'max_speed', 'bike_facility', 'drive_access', 'walk_access',\n",
      "       'bike_access', 'truck_access', 'bus_only', 'rail_only', 'price',\n",
      "       'trn_priority', 'ttime_assert', 'geometry', 'centroidconnect', 'lanes',\n",
      "       'mrcc_id', 'ROUTE_SYS', 'RDWY_CTGY_', 'assign_group', 'roadway_class',\n",
      "       'area_type', 'county', 'ramp_flag', 'managed', 'segment_id', 'mpo',\n",
      "       'AADT', 'count_AM', 'count_MD', 'count_PM', 'count_NT', 'count_daily',\n",
      "       'count_year', 'trn_priority_AM', 'trn_priority_MD', 'trn_priority_PM',\n",
      "       'trn_priority_NT', 'ttime_assert_AM', 'ttime_assert_MD',\n",
      "       'ttime_assert_PM', 'ttime_assert_NT', 'lanes_AM', 'lanes_MD',\n",
      "       'lanes_PM', 'lanes_NT', 'ML_lanes_AM', 'ML_lanes_MD', 'ML_lanes_PM',\n",
      "       'ML_lanes_NT', 'price_sov_AM', 'price_hov2_AM', 'price_hov3_AM',\n",
      "       'price_truck_AM', 'price_sov_MD', 'price_hov2_MD', 'price_hov3_MD',\n",
      "       'price_truck_MD', 'price_sov_PM', 'price_hov2_PM', 'price_hov3_PM',\n",
      "       'price_truck_PM', 'price_sov_NT', 'price_hov2_NT', 'price_hov3_NT',\n",
      "       'price_truck_NT'],\n",
      "      dtype='object'). Returning 0.\n"
     ]
    },
    {
     "name": "stdout",
     "output_type": "stream",
     "text": [
      "2021-07-20 17:23:52, WARNING: Specified variable to split: access not in network variables: Index(['index', 'model_link_id', 'osm_link_id', 'shstReferenceId',\n",
      "       'shstGeometryId', 'shape_id', 'u', 'v', 'A', 'B', 'locationReferences',\n",
      "       'distance', 'roadway', 'name', 'ref', 'bridge', 'tunnel', 'width',\n",
      "       'max_speed', 'bike_facility', 'drive_access', 'walk_access',\n",
      "       'bike_access', 'truck_access', 'bus_only', 'rail_only', 'price',\n",
      "       'trn_priority', 'ttime_assert', 'geometry', 'centroidconnect', 'lanes',\n",
      "       'mrcc_id', 'ROUTE_SYS', 'RDWY_CTGY_', 'assign_group', 'roadway_class',\n",
      "       'area_type', 'county', 'ramp_flag', 'managed', 'segment_id', 'mpo',\n",
      "       'AADT', 'count_AM', 'count_MD', 'count_PM', 'count_NT', 'count_daily',\n",
      "       'count_year', 'trn_priority_AM', 'trn_priority_MD', 'trn_priority_PM',\n",
      "       'trn_priority_NT', 'ttime_assert_AM', 'ttime_assert_MD',\n",
      "       'ttime_assert_PM', 'ttime_assert_NT', 'lanes_AM', 'lanes_MD',\n",
      "       'lanes_PM', 'lanes_NT', 'ML_lanes_AM', 'ML_lanes_MD', 'ML_lanes_PM',\n",
      "       'ML_lanes_NT', 'price_sov_AM', 'price_hov2_AM', 'price_hov3_AM',\n",
      "       'price_truck_AM', 'price_sov_MD', 'price_hov2_MD', 'price_hov3_MD',\n",
      "       'price_truck_MD', 'price_sov_PM', 'price_hov2_PM', 'price_hov3_PM',\n",
      "       'price_truck_PM', 'price_sov_NT', 'price_hov2_NT', 'price_hov3_NT',\n",
      "       'price_truck_NT'],\n",
      "      dtype='object'). Returning 0.\n",
      "2021-07-20 17:23:52, INFO: Converting variable type to MetCouncil standard\n",
      "2021-07-20 17:23:52, INFO: Converting variable type to MetCouncil standard\n",
      "2021-07-20 17:24:04, INFO: Setting Coordinate Reference System to EPSG 26915\n",
      "2021-07-20 17:24:04, INFO: Setting Coordinate Reference System to EPSG 26915\n"
     ]
    }
   ],
   "source": [
    "m_net.roadway_standard_to_met_council_network()"
   ]
  },
  {
   "cell_type": "code",
   "execution_count": 19,
   "metadata": {},
   "outputs": [
    {
     "data": {
      "text/plain": [
       "Index(['index', 'model_link_id', 'osm_link_id', 'shstReferenceId',\n",
       "       'shstGeometryId', 'shape_id', 'u', 'v', 'A', 'B', 'locationReferences',\n",
       "       'distance', 'roadway', 'name', 'ref', 'bridge', 'tunnel', 'width',\n",
       "       'max_speed', 'bike_facility', 'drive_access', 'walk_access',\n",
       "       'bike_access', 'truck_access', 'bus_only', 'rail_only', 'price',\n",
       "       'trn_priority', 'ttime_assert', 'geometry', 'centroidconnect', 'lanes',\n",
       "       'mrcc_id', 'ROUTE_SYS', 'RDWY_CTGY_', 'assign_group', 'roadway_class',\n",
       "       'area_type', 'county', 'ramp_flag', 'managed', 'segment_id', 'mpo',\n",
       "       'AADT', 'count_AM', 'count_MD', 'count_PM', 'count_NT', 'count_daily',\n",
       "       'count_year', 'trn_priority_AM', 'trn_priority_MD', 'trn_priority_PM',\n",
       "       'trn_priority_NT', 'ttime_assert_AM', 'ttime_assert_MD',\n",
       "       'ttime_assert_PM', 'ttime_assert_NT', 'lanes_AM', 'lanes_MD',\n",
       "       'lanes_PM', 'lanes_NT', 'ML_lanes_AM', 'ML_lanes_MD', 'ML_lanes_PM',\n",
       "       'ML_lanes_NT', 'price_sov_AM', 'price_hov2_AM', 'price_hov3_AM',\n",
       "       'price_truck_AM', 'price_sov_MD', 'price_hov2_MD', 'price_hov3_MD',\n",
       "       'price_truck_MD', 'price_sov_PM', 'price_hov2_PM', 'price_hov3_PM',\n",
       "       'price_truck_PM', 'price_sov_NT', 'price_hov2_NT', 'price_hov3_NT',\n",
       "       'price_truck_NT', 'access_AM', 'access_MD', 'access_PM', 'access_NT'],\n",
       "      dtype='object')"
      ]
     },
     "execution_count": 19,
     "metadata": {},
     "output_type": "execute_result"
    }
   ],
   "source": [
    "m_net.links_df.columns"
   ]
  },
  {
   "cell_type": "code",
   "execution_count": 20,
   "metadata": {},
   "outputs": [
    {
     "data": {
      "text/plain": [
       "Index(['index', 'model_link_id', 'osm_link_id', 'shstReferenceId',\n",
       "       'shstGeometryId', 'shape_id', 'u', 'v', 'A', 'B', 'locationReferences',\n",
       "       'distance', 'roadway', 'name', 'ref', 'bridge', 'tunnel', 'width',\n",
       "       'max_speed', 'bike_facility', 'drive_access', 'walk_access',\n",
       "       'bike_access', 'truck_access', 'bus_only', 'rail_only', 'price',\n",
       "       'trn_priority', 'ttime_assert', 'centroidconnect', 'lanes', 'mrcc_id',\n",
       "       'ROUTE_SYS', 'RDWY_CTGY_', 'assign_group', 'roadway_class', 'area_type',\n",
       "       'county', 'ramp_flag', 'managed', 'segment_id', 'mpo', 'AADT',\n",
       "       'count_AM', 'count_MD', 'count_PM', 'count_NT', 'count_daily',\n",
       "       'count_year', 'trn_priority_AM', 'trn_priority_MD', 'trn_priority_PM',\n",
       "       'trn_priority_NT', 'ttime_assert_AM', 'ttime_assert_MD',\n",
       "       'ttime_assert_PM', 'ttime_assert_NT', 'lanes_AM', 'lanes_MD',\n",
       "       'lanes_PM', 'lanes_NT', 'ML_lanes_AM', 'ML_lanes_MD', 'ML_lanes_PM',\n",
       "       'ML_lanes_NT', 'price_sov_AM', 'price_hov2_AM', 'price_hov3_AM',\n",
       "       'price_truck_AM', 'price_sov_MD', 'price_hov2_MD', 'price_hov3_MD',\n",
       "       'price_truck_MD', 'price_sov_PM', 'price_hov2_PM', 'price_hov3_PM',\n",
       "       'price_truck_PM', 'price_sov_NT', 'price_hov2_NT', 'price_hov3_NT',\n",
       "       'price_truck_NT', 'access_AM', 'access_MD', 'access_PM', 'access_NT',\n",
       "       'geometry'],\n",
       "      dtype='object')"
      ]
     },
     "execution_count": 20,
     "metadata": {},
     "output_type": "execute_result"
    }
   ],
   "source": [
    "m_net.links_metcouncil_df.columns"
   ]
  },
  {
   "cell_type": "code",
   "execution_count": 22,
   "metadata": {},
   "outputs": [
    {
     "name": "stdout",
     "output_type": "stream",
     "text": [
      "Index(['index', 'model_node_id', 'osm_node_id', 'shstReferenceId',\n",
      "       'drive_node', 'walk_node', 'bike_node', 'bus_only', 'rail_only',\n",
      "       'outboundReferenceIds', 'inboundReferenceIds', 'geometry', 'X', 'Y'],\n",
      "      dtype='object')\n",
      "Index(['index', 'N', 'osm_node_id', 'shstReferenceId', 'drive_node',\n",
      "       'walk_node', 'bike_node', 'bus_only', 'rail_only',\n",
      "       'outboundReferenceIds', 'inboundReferenceIds', 'geometry', 'X', 'Y'],\n",
      "      dtype='object')\n"
     ]
    }
   ],
   "source": [
    "# CUBE requires N, not model_node_id\n",
    "\n",
    "print(m_net.nodes_df.columns)\n",
    "print(m_net.nodes_metcouncil_df.columns)"
   ]
  },
  {
   "cell_type": "code",
   "execution_count": 21,
   "metadata": {},
   "outputs": [
    {
     "name": "stdout",
     "output_type": "stream",
     "text": [
      "epsg:4326\n",
      "epsg:26915\n"
     ]
    }
   ],
   "source": [
    "# links_df and nodes_df are in the lat-long projection\n",
    "# links_metcouncil_df and nodes_metcouncil_df are in the metcouncil projection\n",
    "\n",
    "print(m_net.links_df.crs)\n",
    "print(m_net.links_metcouncil_df.crs)"
   ]
  },
  {
   "cell_type": "markdown",
   "metadata": {},
   "source": [
    "## Write to Disk"
   ]
  },
  {
   "cell_type": "markdown",
   "metadata": {},
   "source": [
    "### As Shapefile"
   ]
  },
  {
   "cell_type": "markdown",
   "metadata": {},
   "source": [
    "the write methods write out links_metcouncil_df and nodes_metcouncil_df"
   ]
  },
  {
   "cell_type": "code",
   "execution_count": 15,
   "metadata": {},
   "outputs": [
    {
     "name": "stdout",
     "output_type": "stream",
     "text": [
      "2021-07-20 17:25:10, INFO: Writing Network as Shapefile\n",
      "2021-07-20 17:25:10, INFO: Writing Network as Shapefile\n",
      "2021-07-20 17:25:10, INFO: Renaming DBF Node Variables\n",
      "2021-07-20 17:25:10, INFO: Renaming DBF Node Variables\n",
      "2021-07-20 17:25:10, INFO: Renaming variables so that they are DBF-safe\n",
      "2021-07-20 17:25:10, INFO: Renaming variables so that they are DBF-safe\n",
      "2021-07-20 17:25:17, INFO: Renaming DBF Link Variables\n",
      "2021-07-20 17:25:17, INFO: Renaming DBF Link Variables\n",
      "2021-07-20 17:25:17, INFO: Renaming variables so that they are DBF-safe\n",
      "2021-07-20 17:25:17, INFO: Renaming variables so that they are DBF-safe\n",
      "2021-07-20 17:25:22, INFO: Writing Node Shapes:\n",
      " - Z:/Data/Users/Sijia/Met_Council/client_met_council_network\\network_standard\\v01_nodes.shp\n",
      "2021-07-20 17:25:22, INFO: Writing Node Shapes:\n",
      " - Z:/Data/Users/Sijia/Met_Council/client_met_council_network\\network_standard\\v01_nodes.shp\n",
      "2021-07-20 17:25:39, INFO: Writing Link Shapes:\n",
      " - Z:/Data/Users/Sijia/Met_Council/client_met_council_network\\network_standard\\v01_links.shp\n",
      "2021-07-20 17:25:39, INFO: Writing Link Shapes:\n",
      " - Z:/Data/Users/Sijia/Met_Council/client_met_council_network\\network_standard\\v01_links.shp\n"
     ]
    }
   ],
   "source": [
    "out_cols = ['model_link_id', 'shape_id', 'assign_group', 'drive_access', 'roadway_class',\n",
    "            'lanes_AM', 'lanes_MD', 'lanes_PM', 'lanes_NT', 'segment_id', 'HOV', \n",
    "            'price_sov_AM', 'geometry']\n",
    "\n",
    "m_net.write_roadway_as_shp(\n",
    "    output_link_shp = os.path.join(output_dir, 'v01_links.shp'),\n",
    "    output_node_shp = os.path.join(output_dir, 'v01_nodes.shp'),\n",
    "    link_output_variables = out_cols,\n",
    "    data_to_csv = False,\n",
    "    data_to_dbf = True,\n",
    "    export_drive_only = True, # if user only wants drive links/nodes in the shapefile\n",
    ")"
   ]
  },
  {
   "cell_type": "markdown",
   "metadata": {},
   "source": [
    "### As Fixed Width for Cube"
   ]
  },
  {
   "cell_type": "markdown",
   "metadata": {},
   "source": [
    "write out complete network to Cube, if subset of network is needed (e.g. drive only), use cube scripts to extract from complete network"
   ]
  },
  {
   "cell_type": "code",
   "execution_count": 16,
   "metadata": {},
   "outputs": [
    {
     "name": "stdout",
     "output_type": "stream",
     "text": [
      "2021-07-20 17:26:37, INFO: Starting fixed width conversion\n",
      "2021-07-20 17:26:37, INFO: Starting fixed width conversion\n",
      "2021-07-20 18:06:01, INFO: Writing out link database\n",
      "2021-07-20 18:06:01, INFO: Writing out link database\n",
      "2021-07-20 18:06:57, INFO: Writing out link header and width ----\n",
      "2021-07-20 18:06:57, INFO: Writing out link header and width ----\n",
      "2021-07-20 18:06:58, INFO: Starting fixed width conversion\n",
      "2021-07-20 18:06:58, INFO: Starting fixed width conversion\n",
      "2021-07-20 18:08:18, INFO: Writing out node database\n",
      "2021-07-20 18:08:18, INFO: Writing out node database\n",
      "2021-07-20 18:08:21, INFO: Writing out node header and width\n",
      "2021-07-20 18:08:21, INFO: Writing out node header and width\n"
     ]
    }
   ],
   "source": [
    "m_net.write_roadway_as_fixedwidth(\n",
    "    output_link_txt = os.path.join(output_dir, 'v01_links.txt'),\n",
    "    output_node_txt = os.path.join(output_dir, 'v01_nodes.txt'),\n",
    "    output_link_header_width_txt = os.path.join(output_dir, 'links_header_width.txt'),\n",
    "    output_node_header_width_txt = os.path.join(output_dir, 'nodes_header_width.txt'),\n",
    "    output_cube_network_script = os.path.join(output_dir, 'make_complete_network_from_fixed_width_file.s'),\n",
    ")"
   ]
  },
  {
   "cell_type": "code",
   "execution_count": 17,
   "metadata": {},
   "outputs": [
    {
     "name": "stdout",
     "output_type": "stream",
     "text": [
      "2021-07-20 18:08:23, INFO: Lasso base directory set as: C:/Users/wangs1/Lasso\n",
      "2021-07-20 18:08:23, INFO: Lasso base directory set as: C:/Users/wangs1/Lasso\n",
      "2021-07-20 18:08:23, INFO: Converting GTFS Standard Properties to MetCouncil's Cube Standard\n",
      "2021-07-20 18:08:23, INFO: Converting GTFS Standard Properties to MetCouncil's Cube Standard\n"
     ]
    }
   ],
   "source": [
    "standard_transit_net = StandardTransit.fromTransitNetwork(v_01_scenario.transit_net, parameters=parameters)\n",
    "standard_transit_net.write_as_cube_lin(outpath = os.path.join(output_dir, \"v01_transit.lin\"))"
   ]
  },
  {
   "cell_type": "markdown",
   "metadata": {},
   "source": [
    "### Scenario as Pickle"
   ]
  },
  {
   "cell_type": "code",
   "execution_count": 18,
   "metadata": {},
   "outputs": [],
   "source": [
    "scenario_filename = os.path.join(output_dir, 'working_scenario_01.pickle')\n",
    "pickle.dump(v_01_scenario, open(scenario_filename, 'wb'))"
   ]
  },
  {
   "cell_type": "code",
   "execution_count": null,
   "metadata": {},
   "outputs": [],
   "source": []
  }
 ],
 "metadata": {
  "kernelspec": {
   "display_name": "Python 3 (ipykernel)",
   "language": "python",
   "name": "python3"
  },
  "language_info": {
   "codemirror_mode": {
    "name": "ipython",
    "version": 3
   },
   "file_extension": ".py",
   "mimetype": "text/x-python",
   "name": "python",
   "nbconvert_exporter": "python",
   "pygments_lexer": "ipython3",
   "version": "3.7.10"
  }
 },
 "nbformat": 4,
 "nbformat_minor": 4
}
