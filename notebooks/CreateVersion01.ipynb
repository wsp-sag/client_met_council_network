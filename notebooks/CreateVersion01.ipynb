{
 "cells": [
  {
   "cell_type": "code",
   "execution_count": 1,
   "id": "3c9fda65",
   "metadata": {},
   "outputs": [],
   "source": [
    "import os\n",
    "import sys\n",
    "import pickle\n",
    "from pyproj import CRS\n",
    "\n",
    "from network_wrangler import RoadwayNetwork\n",
    "from network_wrangler import TransitNetwork\n",
    "from network_wrangler import Scenario\n",
    "from network_wrangler import WranglerLogger\n",
    "\n",
    "from lasso import Parameters\n",
    "from lasso import metcouncil\n",
    "from lasso import ModelRoadwayNetwork\n",
    "from lasso import StandardTransit\n",
    "from lasso import util"
   ]
  },
  {
   "cell_type": "code",
   "execution_count": 2,
   "id": "7ceafcff",
   "metadata": {},
   "outputs": [],
   "source": [
    "%load_ext autoreload\n",
    "%autoreload 2"
   ]
  },
  {
   "cell_type": "code",
   "execution_count": 3,
   "id": "dcca3252",
   "metadata": {},
   "outputs": [],
   "source": [
    "import logging\n",
    "logger = logging.getLogger(\"WranglerLogger\")\n",
    "logger.handlers[0].stream = sys.stdout\n",
    "logger.setLevel(logging.INFO)"
   ]
  },
  {
   "cell_type": "markdown",
   "id": "98d1dd24",
   "metadata": {},
   "source": [
    "# remote i/o"
   ]
  },
  {
   "cell_type": "code",
   "execution_count": 4,
   "id": "85b45c06",
   "metadata": {},
   "outputs": [],
   "source": [
    "input_dir = os.path.join(\"D:/metcouncil_network_rebuild/data/processed/version_00\")\n",
    "lasso_dir = os.path.join(\"Z:/Data/Users/Sijia/Met_Council/github/client_met_council_wrangler_utilities\")\n",
    "output_dir = os.path.join(\"D:/metcouncil_network_rebuild/data/processed/version_01\")"
   ]
  },
  {
   "cell_type": "code",
   "execution_count": 5,
   "id": "c39a79fd",
   "metadata": {},
   "outputs": [],
   "source": [
    "project_card_dir = os.path.join(\"D:/metcouncil_network_rebuild/ProjectCards_new_network/BaseCorrections\")"
   ]
  },
  {
   "cell_type": "code",
   "execution_count": 6,
   "id": "19fc9c69",
   "metadata": {},
   "outputs": [
    {
     "name": "stdout",
     "output_type": "stream",
     "text": [
      "2022-04-17 00:13:09, INFO: Lasso base directory set as: Z:/Data/Users/Sijia/Met_Council/github/client_met_council_wrangler_utilities\n",
      "2022-04-17 00:13:09, INFO: Lasso base directory set as: Z:/Data/Users/Sijia/Met_Council/github/client_met_council_wrangler_utilities\n"
     ]
    }
   ],
   "source": [
    "parameters = Parameters(lasso_base_dir = lasso_dir)"
   ]
  },
  {
   "cell_type": "markdown",
   "id": "5582615f",
   "metadata": {},
   "source": [
    "# Load Version00"
   ]
  },
  {
   "cell_type": "code",
   "execution_count": 7,
   "id": "584b2abf",
   "metadata": {},
   "outputs": [
    {
     "name": "stdout",
     "output_type": "stream",
     "text": [
      "2022-04-17 00:13:10, INFO: Reading from following files:\n",
      "-D:/metcouncil_network_rebuild/data/processed/version_00\\standard_networks\\links.json\n",
      "-D:/metcouncil_network_rebuild/data/processed/version_00\\standard_networks\\nodes.geojson\n",
      "-D:/metcouncil_network_rebuild/data/processed/version_00\\standard_networks\\shapes.geojson.\n",
      "2022-04-17 00:13:10, INFO: Reading from following files:\n",
      "-D:/metcouncil_network_rebuild/data/processed/version_00\\standard_networks\\links.json\n",
      "-D:/metcouncil_network_rebuild/data/processed/version_00\\standard_networks\\nodes.geojson\n",
      "-D:/metcouncil_network_rebuild/data/processed/version_00\\standard_networks\\shapes.geojson.\n",
      "2022-04-17 00:15:50, INFO: Read 1061566 links from D:/metcouncil_network_rebuild/data/processed/version_00\\standard_networks\\links.json\n",
      "2022-04-17 00:15:50, INFO: Read 1061566 links from D:/metcouncil_network_rebuild/data/processed/version_00\\standard_networks\\links.json\n",
      "2022-04-17 00:15:50, INFO: Read 414131 nodes from D:/metcouncil_network_rebuild/data/processed/version_00\\standard_networks\\nodes.geojson\n",
      "2022-04-17 00:15:50, INFO: Read 414131 nodes from D:/metcouncil_network_rebuild/data/processed/version_00\\standard_networks\\nodes.geojson\n",
      "2022-04-17 00:15:50, INFO: Read 556550 shapes from D:/metcouncil_network_rebuild/data/processed/version_00\\standard_networks\\shapes.geojson\n",
      "2022-04-17 00:15:50, INFO: Read 556550 shapes from D:/metcouncil_network_rebuild/data/processed/version_00\\standard_networks\\shapes.geojson\n"
     ]
    }
   ],
   "source": [
    "link_file = os.path.join(input_dir, 'standard_networks', 'links.json')\n",
    "node_file = os.path.join(input_dir, 'standard_networks', 'nodes.geojson')\n",
    "shape_file = os.path.join(input_dir, 'standard_networks', 'shapes.geojson')\n",
    "\n",
    "roadway_net = RoadwayNetwork.read(link_file = link_file, node_file = node_file, shape_file = shape_file)"
   ]
  },
  {
   "cell_type": "code",
   "execution_count": 8,
   "id": "3eee218d",
   "metadata": {},
   "outputs": [
    {
     "name": "stdout",
     "output_type": "stream",
     "text": [
      "2022-04-17 00:17:13, INFO: Read in transit feed from: D:/metcouncil_network_rebuild/data/processed/version_00\\standard_networks\\transit\n",
      "2022-04-17 00:17:13, INFO: Read in transit feed from: D:/metcouncil_network_rebuild/data/processed/version_00\\standard_networks\\transit\n",
      "2022-04-17 00:17:13, INFO: Removing calendar.txt from transit network config because file not found\n",
      "2022-04-17 00:17:13, INFO: Removing calendar.txt from transit network config because file not found\n",
      "2022-04-17 00:17:13, INFO: Removing calendar_dates.txt from transit network config because file not found\n",
      "2022-04-17 00:17:13, INFO: Removing calendar_dates.txt from transit network config because file not found\n",
      "2022-04-17 00:17:14, INFO: Removing fare_attributes.txt from transit network config because file not found\n",
      "2022-04-17 00:17:14, INFO: Removing fare_attributes.txt from transit network config because file not found\n",
      "2022-04-17 00:17:14, INFO: Removing fare_rules.txt from transit network config because file not found\n",
      "2022-04-17 00:17:14, INFO: Removing fare_rules.txt from transit network config because file not found\n",
      "2022-04-17 00:17:15, INFO: Removing transfers.txt from transit network config because file not found\n",
      "2022-04-17 00:17:15, INFO: Removing transfers.txt from transit network config because file not found\n",
      "2022-04-17 00:17:15, INFO: Removing feed_info.txt from transit network config because file not found\n",
      "2022-04-17 00:17:15, INFO: Removing feed_info.txt from transit network config because file not found\n",
      "2022-04-17 00:17:15, WARNING: The following stop_ids from are referenced but missing from stops.txt: ['place_AVTS', 'place_BTST', 'place_CE47', 'place_157G', 'place_BHPR', 'place_EATS', 'place_DFME', 'place_14CE', 'place_PHPR']\n",
      "2022-04-17 00:17:15, WARNING: The following stop_ids from are referenced but missing from stops.txt: ['place_AVTS', 'place_BTST', 'place_CE47', 'place_157G', 'place_BHPR', 'place_EATS', 'place_DFME', 'place_14CE', 'place_PHPR']\n"
     ]
    }
   ],
   "source": [
    "transit_net = TransitNetwork.read(feed_path = os.path.join(input_dir, 'standard_networks', 'transit'))"
   ]
  },
  {
   "cell_type": "markdown",
   "id": "02005c10",
   "metadata": {},
   "source": [
    "### Attribute the Network"
   ]
  },
  {
   "cell_type": "code",
   "execution_count": 9,
   "id": "ce3e1fdf",
   "metadata": {},
   "outputs": [],
   "source": [
    "roadway_net.links_df = roadway_net.links_df.drop('lanes', axis = 1)"
   ]
  },
  {
   "cell_type": "code",
   "execution_count": 10,
   "id": "04c56d06",
   "metadata": {},
   "outputs": [],
   "source": [
    "roadway_net.links_df['bus_only'] = 0"
   ]
  },
  {
   "cell_type": "code",
   "execution_count": 11,
   "id": "3d14f1aa",
   "metadata": {},
   "outputs": [
    {
     "data": {
      "text/plain": [
       "True     656673\n",
       "False    404893\n",
       "Name: drive_access, dtype: int64"
      ]
     },
     "execution_count": 11,
     "metadata": {},
     "output_type": "execute_result"
    }
   ],
   "source": [
    "roadway_net.links_df.drive_access.value_counts()"
   ]
  },
  {
   "cell_type": "code",
   "execution_count": 12,
   "id": "db7d2240",
   "metadata": {},
   "outputs": [
    {
     "name": "stdout",
     "output_type": "stream",
     "text": [
      "2022-04-17 00:17:17, INFO: Calculating Number of Lanes as network variable: 'lanes'\n",
      "2022-04-17 00:17:17, INFO: Calculating Number of Lanes as network variable: 'lanes'\n",
      "2022-04-17 00:17:17, INFO: Lasso base directory set as: Z:/Data/Users/Sijia/Met_Council/github/client_met_council_wrangler_utilities\n",
      "2022-04-17 00:17:17, INFO: Lasso base directory set as: Z:/Data/Users/Sijia/Met_Council/github/client_met_council_wrangler_utilities\n",
      "2022-04-17 00:17:17, INFO: Calculating Centroid Connector and adding as roadway network variable: centroidconnect\n",
      "2022-04-17 00:17:17, INFO: Calculating Centroid Connector and adding as roadway network variable: centroidconnect\n",
      "2022-04-17 00:17:17, INFO: Finished calculating centroid connector variable: centroidconnect\n",
      "2022-04-17 00:17:17, INFO: Finished calculating centroid connector variable: centroidconnect\n",
      "2022-04-17 00:18:15, INFO: Finished calculating number of lanes to: lanes\n",
      "2022-04-17 00:18:15, INFO: Finished calculating number of lanes to: lanes\n"
     ]
    },
    {
     "data": {
      "text/plain": [
       "1.0    1026505\n",
       "2.0      32020\n",
       "3.0       2595\n",
       "4.0        369\n",
       "5.0         71\n",
       "6.0          5\n",
       "7.0          1\n",
       "Name: lanes, dtype: int64"
      ]
     },
     "execution_count": 12,
     "metadata": {},
     "output_type": "execute_result"
    }
   ],
   "source": [
    "r_net = metcouncil.calculate_number_of_lanes_from_reviewed_network(\n",
    "    roadway_net=roadway_net,\n",
    "    parameters=parameters,\n",
    ")\n",
    "r_net.links_df.lanes.value_counts()"
   ]
  },
  {
   "cell_type": "code",
   "execution_count": 13,
   "id": "bed6b0d7",
   "metadata": {},
   "outputs": [
    {
     "name": "stdout",
     "output_type": "stream",
     "text": [
      "2022-04-17 00:18:16, INFO: Calculating Assignment Group and Roadway Class as network variables: 'assign_group' and 'roadway_class'\n",
      "2022-04-17 00:18:16, INFO: Calculating Assignment Group and Roadway Class as network variables: 'assign_group' and 'roadway_class'\n",
      "2022-04-17 00:18:16, INFO: Centroid Connector Variable 'centroidconnect' already in network. Returning without overwriting.\n",
      "2022-04-17 00:18:16, INFO: Centroid Connector Variable 'centroidconnect' already in network. Returning without overwriting.\n",
      "2022-04-17 00:20:15, INFO: Finished calculating assignment group variable assign_group and roadway class variable roadway_class\n",
      "2022-04-17 00:20:15, INFO: Finished calculating assignment group variable assign_group and roadway class variable roadway_class\n"
     ]
    },
    {
     "data": {
      "text/plain": [
       "101.0    404893\n",
       "50.0     294101\n",
       "7.0      101584\n",
       "6.0       76802\n",
       "5.0       15025\n",
       "15.0       3045\n",
       "3.0        2590\n",
       "1.0        2455\n",
       "4.0        2036\n",
       "2.0        1258\n",
       "11.0        153\n",
       "Name: assign_group, dtype: int64"
      ]
     },
     "execution_count": 13,
     "metadata": {},
     "output_type": "execute_result"
    }
   ],
   "source": [
    "r_net = metcouncil.calculate_assign_group_and_roadway_class_from_reviewed_network(\n",
    "        roadway_net=r_net,\n",
    "        parameters=parameters,\n",
    ")\n",
    "r_net.links_df.assign_group.value_counts()"
   ]
  },
  {
   "cell_type": "code",
   "execution_count": 14,
   "id": "29107332",
   "metadata": {},
   "outputs": [
    {
     "data": {
      "text/plain": [
       "101.0    404893\n",
       "50.0     304024\n",
       "40.0     124841\n",
       "30.0      42279\n",
       "20.0      20590\n",
       "60.0       5416\n",
       "10.0       1780\n",
       "70.0        119\n",
       "Name: roadway_class, dtype: int64"
      ]
     },
     "execution_count": 14,
     "metadata": {},
     "output_type": "execute_result"
    }
   ],
   "source": [
    "r_net.links_df.roadway_class.value_counts()"
   ]
  },
  {
   "cell_type": "markdown",
   "id": "53117393",
   "metadata": {},
   "source": [
    "### Add Rail links and nodes"
   ]
  },
  {
   "cell_type": "code",
   "execution_count": 15,
   "id": "50465995",
   "metadata": {},
   "outputs": [
    {
     "name": "stdout",
     "output_type": "stream",
     "text": [
      "2022-04-17 00:20:16, INFO: Adding centroid and centroid connector to standard network\n",
      "2022-04-17 00:20:16, INFO: Adding centroid and centroid connector to standard network\n",
      "2022-04-17 00:20:17, INFO: Lasso base directory set as: Z:/Data/Users/Sijia/Met_Council/github/client_met_council_wrangler_utilities\n",
      "2022-04-17 00:20:17, INFO: Lasso base directory set as: Z:/Data/Users/Sijia/Met_Council/github/client_met_council_wrangler_utilities\n",
      "2022-04-17 00:20:18, INFO: Finished adding rail links and nodes connectors\n",
      "2022-04-17 00:20:18, INFO: Finished adding rail links and nodes connectors\n"
     ]
    }
   ],
   "source": [
    "r_net = metcouncil.add_rail_links_and_nodes(\n",
    "    roadway_network = r_net,\n",
    "    parameters = parameters,\n",
    "    rail_links_file = os.path.join(input_dir, 'standard_networks', 'rail_links.geojson'),\n",
    "    rail_nodes_file = os.path.join(input_dir, 'standard_networks', 'rail_nodes.geojson'),\n",
    ")"
   ]
  },
  {
   "cell_type": "code",
   "execution_count": 16,
   "id": "90a67ce1",
   "metadata": {},
   "outputs": [
    {
     "name": "stdout",
     "output_type": "stream",
     "text": [
      "0\n",
      "414222\n",
      "1995\n",
      "float64\n",
      "Empty GeoDataFrame\n",
      "Columns: [osm_node_id, shst_node_id, county, drive_access, walk_access, bike_access, model_node_id, rail_only, geometry, X, Y]\n",
      "Index: []\n",
      "412227\n",
      "414222\n",
      "0\n",
      "1061656\n",
      "1061656\n",
      "0\n",
      "0\n",
      "5081\n",
      "Empty GeoDataFrame\n",
      "Columns: [shstReferenceId, id, shstGeometryId, fromIntersectionId, toIntersectionId, u, v, nodeIds, wayId, roadClass, oneWay, roundabout, link, oneway, ref, name, highway, service, width, maxspeed, access, junction, bridge, tunnel, landuse, area, key, forward, backReferenceId, metadata, source, roadway, drive_access, walk_access, bike_access, county, length, A, B, model_link_id, locationReferences, rail_only, geometry, bus_only, centroidconnect, lanes, assign_group, roadway_class]\n",
      "Index: []\n",
      "\n",
      "[0 rows x 48 columns]\n",
      "5081\n",
      "Empty GeoDataFrame\n",
      "Columns: [shstReferenceId, id, shstGeometryId, fromIntersectionId, toIntersectionId, u, v, nodeIds, wayId, roadClass, oneWay, roundabout, link, oneway, ref, name, highway, service, width, maxspeed, access, junction, bridge, tunnel, landuse, area, key, forward, backReferenceId, metadata, source, roadway, drive_access, walk_access, bike_access, county, length, A, B, model_link_id, locationReferences, rail_only, geometry, bus_only, centroidconnect, lanes, assign_group, roadway_class]\n",
      "Index: []\n",
      "\n",
      "[0 rows x 48 columns]\n"
     ]
    }
   ],
   "source": [
    "# check if missing IDs\n",
    "# rail nodes does not have osm IDs, they have shst IDs\n",
    "# rail links does not have osm IDs, they have shst IDs\n",
    "\n",
    "# if node missing shst id\n",
    "print(r_net.nodes_df.shst_node_id.isnull().sum())\n",
    "print(r_net.nodes_df.shst_node_id.nunique())\n",
    "# if node missing osm id\n",
    "print(r_net.nodes_df.osm_node_id.isnull().sum())\n",
    "# if node missing osm id\n",
    "print(r_net.nodes_df.osm_node_id.dtype)\n",
    "print(r_net.nodes_df[r_net.nodes_df.osm_node_id == 0])\n",
    "print(r_net.nodes_df.osm_node_id.nunique())\n",
    "# if node missing model node id\n",
    "print(r_net.nodes_df.model_node_id.nunique())\n",
    "\n",
    "# if link missing \n",
    "print(r_net.links_df.shstReferenceId.isnull().sum())\n",
    "print(r_net.links_df.shstReferenceId.nunique())\n",
    "print(r_net.links_df.model_link_id.nunique())\n",
    "\n",
    "# if link missing node id\n",
    "print(r_net.links_df.fromIntersectionId.isnull().sum())\n",
    "print(r_net.links_df.toIntersectionId.isnull().sum())\n",
    "print(r_net.links_df.u.isnull().sum())\n",
    "print(r_net.links_df[r_net.links_df.u == 0])\n",
    "print(r_net.links_df.v.isnull().sum())\n",
    "print(r_net.links_df[r_net.links_df.v == 0])"
   ]
  },
  {
   "cell_type": "markdown",
   "id": "4100ec42",
   "metadata": {},
   "source": [
    "# Create Scenario 00"
   ]
  },
  {
   "cell_type": "code",
   "execution_count": 17,
   "id": "cac5c694",
   "metadata": {},
   "outputs": [],
   "source": [
    "base_scenario = {\"road_net\": r_net, \"transit_net\": transit_net}"
   ]
  },
  {
   "cell_type": "code",
   "execution_count": 18,
   "id": "d9a2145f",
   "metadata": {},
   "outputs": [
    {
     "name": "stdout",
     "output_type": "stream",
     "text": [
      "2022-04-17 00:20:23, INFO: Creating Scenario\n",
      "2022-04-17 00:20:23, INFO: Creating Scenario\n"
     ]
    }
   ],
   "source": [
    "version_00_scenario = Scenario.create_scenario(base_scenario = base_scenario)"
   ]
  },
  {
   "cell_type": "code",
   "execution_count": 19,
   "id": "11c5ac00",
   "metadata": {},
   "outputs": [],
   "source": [
    "working_scenario_filename = os.path.join(output_dir, 'version_00_standard_network.pickle')\n",
    "pickle.dump(version_00_scenario, open(working_scenario_filename, 'wb'))"
   ]
  },
  {
   "cell_type": "code",
   "execution_count": 20,
   "id": "a0de03a8",
   "metadata": {},
   "outputs": [
    {
     "data": {
      "text/plain": [
       "(1061656, 48)"
      ]
     },
     "execution_count": 20,
     "metadata": {},
     "output_type": "execute_result"
    }
   ],
   "source": [
    "r_net.links_df.shape"
   ]
  },
  {
   "cell_type": "code",
   "execution_count": 21,
   "id": "023942bc",
   "metadata": {},
   "outputs": [
    {
     "data": {
      "text/plain": [
       "1061656"
      ]
     },
     "execution_count": 21,
     "metadata": {},
     "output_type": "execute_result"
    }
   ],
   "source": [
    "r_net.links_df.model_link_id.max()"
   ]
  },
  {
   "cell_type": "markdown",
   "id": "0f29f82e",
   "metadata": {},
   "source": [
    "# Create Scenario 01"
   ]
  },
  {
   "cell_type": "code",
   "execution_count": 22,
   "id": "3dbc2a74",
   "metadata": {},
   "outputs": [
    {
     "name": "stdout",
     "output_type": "stream",
     "text": [
      "2022-04-17 00:21:37, INFO: Creating Scenario\n",
      "2022-04-17 00:21:37, INFO: Creating Scenario\n"
     ]
    },
    {
     "name": "stderr",
     "output_type": "stream",
     "text": [
      "z:\\data\\users\\sijia\\met_council\\github\\network_wrangler\\network_wrangler\\network_wrangler\\projectcard.py:114: YAMLLoadWarning: calling yaml.load() without Loader=... is deprecated, as the default Loader is unsafe. Please read https://msg.pyyaml.org/load for full details.\n",
      "  attribute_dictionary = yaml.load(_yaml)\n"
     ]
    }
   ],
   "source": [
    "version_01_scenario = Scenario.create_scenario(\n",
    "    base_scenario=version_00_scenario,\n",
    "    card_directory = project_card_dir,\n",
    "    validate_project_cards=False\n",
    ")"
   ]
  },
  {
   "cell_type": "code",
   "execution_count": 23,
   "id": "f6f53dfc",
   "metadata": {},
   "outputs": [
    {
     "name": "stdout",
     "output_type": "stream",
     "text": [
      "2022-04-17 00:21:41, INFO: Applying correct year 2018 assignment group and roadway class\n",
      "2022-04-17 00:21:41, INFO: Applying correct year 2018 assignment group and roadway class\n",
      "2022-04-17 00:21:41, INFO: Applying correct year 2018 assignment group and roadway class\n",
      "2022-04-17 00:21:41, INFO: Applying correct year 2018 assignment group and roadway class\n",
      "2022-04-17 00:21:41, INFO: Applying Project to Roadway Network: correct year 2018 assignment group and roadway class\n",
      "2022-04-17 00:21:41, INFO: Applying Project to Roadway Network: correct year 2018 assignment group and roadway class\n",
      "2022-04-17 00:21:41, INFO: Applying correct year 2018 assignment group\n",
      "2022-04-17 00:21:41, INFO: Applying correct year 2018 assignment group\n",
      "2022-04-17 00:21:41, INFO: Applying correct year 2018 assignment group\n",
      "2022-04-17 00:21:41, INFO: Applying correct year 2018 assignment group\n",
      "2022-04-17 00:21:41, INFO: Applying Project to Roadway Network: correct year 2018 assignment group\n",
      "2022-04-17 00:21:41, INFO: Applying Project to Roadway Network: correct year 2018 assignment group\n"
     ]
    },
    {
     "name": "stderr",
     "output_type": "stream",
     "text": [
      "C:\\Users\\wangs1\\AppData\\Local\\Continuum\\anaconda3\\envs\\lasso_wsp\\lib\\site-packages\\geopandas\\geodataframe.py:1351: SettingWithCopyWarning: \n",
      "A value is trying to be set on a copy of a slice from a DataFrame.\n",
      "Try using .loc[row_indexer,col_indexer] = value instead\n",
      "\n",
      "See the caveats in the documentation: https://pandas.pydata.org/pandas-docs/stable/user_guide/indexing.html#returning-a-view-versus-a-copy\n",
      "  super().__setitem__(key, value)\n"
     ]
    },
    {
     "name": "stdout",
     "output_type": "stream",
     "text": [
      "2022-04-17 00:21:46, INFO: Applying correct year 2018 assignment group\n",
      "2022-04-17 00:21:46, INFO: Applying correct year 2018 assignment group\n",
      "2022-04-17 00:21:46, INFO: Applying Project to Roadway Network: correct year 2018 assignment group\n",
      "2022-04-17 00:21:46, INFO: Applying Project to Roadway Network: correct year 2018 assignment group\n"
     ]
    },
    {
     "name": "stderr",
     "output_type": "stream",
     "text": [
      "C:\\Users\\wangs1\\AppData\\Local\\Continuum\\anaconda3\\envs\\lasso_wsp\\lib\\site-packages\\geopandas\\geodataframe.py:1351: SettingWithCopyWarning: \n",
      "A value is trying to be set on a copy of a slice from a DataFrame.\n",
      "Try using .loc[row_indexer,col_indexer] = value instead\n",
      "\n",
      "See the caveats in the documentation: https://pandas.pydata.org/pandas-docs/stable/user_guide/indexing.html#returning-a-view-versus-a-copy\n",
      "  super().__setitem__(key, value)\n"
     ]
    },
    {
     "name": "stdout",
     "output_type": "stream",
     "text": [
      "2022-04-17 00:21:52, INFO: Applying correct year 2018 assignment group\n",
      "2022-04-17 00:21:52, INFO: Applying correct year 2018 assignment group\n",
      "2022-04-17 00:21:52, INFO: Applying Project to Roadway Network: correct year 2018 assignment group\n",
      "2022-04-17 00:21:52, INFO: Applying Project to Roadway Network: correct year 2018 assignment group\n"
     ]
    },
    {
     "name": "stderr",
     "output_type": "stream",
     "text": [
      "C:\\Users\\wangs1\\AppData\\Local\\Continuum\\anaconda3\\envs\\lasso_wsp\\lib\\site-packages\\geopandas\\geodataframe.py:1351: SettingWithCopyWarning: \n",
      "A value is trying to be set on a copy of a slice from a DataFrame.\n",
      "Try using .loc[row_indexer,col_indexer] = value instead\n",
      "\n",
      "See the caveats in the documentation: https://pandas.pydata.org/pandas-docs/stable/user_guide/indexing.html#returning-a-view-versus-a-copy\n",
      "  super().__setitem__(key, value)\n"
     ]
    },
    {
     "name": "stdout",
     "output_type": "stream",
     "text": [
      "2022-04-17 00:21:53, INFO: Applying correct year 2018 assignment group\n",
      "2022-04-17 00:21:53, INFO: Applying correct year 2018 assignment group\n",
      "2022-04-17 00:21:53, INFO: Applying Project to Roadway Network: correct year 2018 assignment group\n",
      "2022-04-17 00:21:53, INFO: Applying Project to Roadway Network: correct year 2018 assignment group\n",
      "2022-04-17 00:21:53, INFO: Applying correct year 2018 assignment group\n",
      "2022-04-17 00:21:53, INFO: Applying correct year 2018 assignment group\n",
      "2022-04-17 00:21:53, INFO: Applying Project to Roadway Network: correct year 2018 assignment group\n",
      "2022-04-17 00:21:53, INFO: Applying Project to Roadway Network: correct year 2018 assignment group\n"
     ]
    },
    {
     "name": "stderr",
     "output_type": "stream",
     "text": [
      "C:\\Users\\wangs1\\AppData\\Local\\Continuum\\anaconda3\\envs\\lasso_wsp\\lib\\site-packages\\geopandas\\geodataframe.py:1351: SettingWithCopyWarning: \n",
      "A value is trying to be set on a copy of a slice from a DataFrame.\n",
      "Try using .loc[row_indexer,col_indexer] = value instead\n",
      "\n",
      "See the caveats in the documentation: https://pandas.pydata.org/pandas-docs/stable/user_guide/indexing.html#returning-a-view-versus-a-copy\n",
      "  super().__setitem__(key, value)\n",
      "C:\\Users\\wangs1\\AppData\\Local\\Continuum\\anaconda3\\envs\\lasso_wsp\\lib\\site-packages\\geopandas\\geodataframe.py:1351: SettingWithCopyWarning: \n",
      "A value is trying to be set on a copy of a slice from a DataFrame.\n",
      "Try using .loc[row_indexer,col_indexer] = value instead\n",
      "\n",
      "See the caveats in the documentation: https://pandas.pydata.org/pandas-docs/stable/user_guide/indexing.html#returning-a-view-versus-a-copy\n",
      "  super().__setitem__(key, value)\n"
     ]
    },
    {
     "name": "stdout",
     "output_type": "stream",
     "text": [
      "2022-04-17 00:21:53, INFO: Applying correct year 2018 assignment group\n",
      "2022-04-17 00:21:53, INFO: Applying correct year 2018 assignment group\n",
      "2022-04-17 00:21:53, INFO: Applying Project to Roadway Network: correct year 2018 assignment group\n",
      "2022-04-17 00:21:53, INFO: Applying Project to Roadway Network: correct year 2018 assignment group\n",
      "2022-04-17 00:21:53, INFO: Applying correct year 2018 assignment group\n",
      "2022-04-17 00:21:53, INFO: Applying correct year 2018 assignment group\n",
      "2022-04-17 00:21:53, INFO: Applying Project to Roadway Network: correct year 2018 assignment group\n",
      "2022-04-17 00:21:53, INFO: Applying Project to Roadway Network: correct year 2018 assignment group\n"
     ]
    },
    {
     "name": "stderr",
     "output_type": "stream",
     "text": [
      "C:\\Users\\wangs1\\AppData\\Local\\Continuum\\anaconda3\\envs\\lasso_wsp\\lib\\site-packages\\geopandas\\geodataframe.py:1351: SettingWithCopyWarning: \n",
      "A value is trying to be set on a copy of a slice from a DataFrame.\n",
      "Try using .loc[row_indexer,col_indexer] = value instead\n",
      "\n",
      "See the caveats in the documentation: https://pandas.pydata.org/pandas-docs/stable/user_guide/indexing.html#returning-a-view-versus-a-copy\n",
      "  super().__setitem__(key, value)\n",
      "C:\\Users\\wangs1\\AppData\\Local\\Continuum\\anaconda3\\envs\\lasso_wsp\\lib\\site-packages\\geopandas\\geodataframe.py:1351: SettingWithCopyWarning: \n",
      "A value is trying to be set on a copy of a slice from a DataFrame.\n",
      "Try using .loc[row_indexer,col_indexer] = value instead\n",
      "\n",
      "See the caveats in the documentation: https://pandas.pydata.org/pandas-docs/stable/user_guide/indexing.html#returning-a-view-versus-a-copy\n",
      "  super().__setitem__(key, value)\n"
     ]
    },
    {
     "name": "stdout",
     "output_type": "stream",
     "text": [
      "2022-04-17 00:21:53, INFO: Applying correct year 2018 assignment group\n",
      "2022-04-17 00:21:53, INFO: Applying correct year 2018 assignment group\n",
      "2022-04-17 00:21:53, INFO: Applying Project to Roadway Network: correct year 2018 assignment group\n",
      "2022-04-17 00:21:53, INFO: Applying Project to Roadway Network: correct year 2018 assignment group\n"
     ]
    },
    {
     "name": "stderr",
     "output_type": "stream",
     "text": [
      "C:\\Users\\wangs1\\AppData\\Local\\Continuum\\anaconda3\\envs\\lasso_wsp\\lib\\site-packages\\geopandas\\geodataframe.py:1351: SettingWithCopyWarning: \n",
      "A value is trying to be set on a copy of a slice from a DataFrame.\n",
      "Try using .loc[row_indexer,col_indexer] = value instead\n",
      "\n",
      "See the caveats in the documentation: https://pandas.pydata.org/pandas-docs/stable/user_guide/indexing.html#returning-a-view-versus-a-copy\n",
      "  super().__setitem__(key, value)\n"
     ]
    },
    {
     "name": "stdout",
     "output_type": "stream",
     "text": [
      "2022-04-17 00:21:54, INFO: Applying correct year 2018 assignment group\n",
      "2022-04-17 00:21:54, INFO: Applying correct year 2018 assignment group\n",
      "2022-04-17 00:21:54, INFO: Applying Project to Roadway Network: correct year 2018 assignment group\n",
      "2022-04-17 00:21:54, INFO: Applying Project to Roadway Network: correct year 2018 assignment group\n"
     ]
    },
    {
     "name": "stderr",
     "output_type": "stream",
     "text": [
      "C:\\Users\\wangs1\\AppData\\Local\\Continuum\\anaconda3\\envs\\lasso_wsp\\lib\\site-packages\\geopandas\\geodataframe.py:1351: SettingWithCopyWarning: \n",
      "A value is trying to be set on a copy of a slice from a DataFrame.\n",
      "Try using .loc[row_indexer,col_indexer] = value instead\n",
      "\n",
      "See the caveats in the documentation: https://pandas.pydata.org/pandas-docs/stable/user_guide/indexing.html#returning-a-view-versus-a-copy\n",
      "  super().__setitem__(key, value)\n"
     ]
    },
    {
     "name": "stdout",
     "output_type": "stream",
     "text": [
      "2022-04-17 00:21:55, INFO: Applying correct year 2018 assignment group\n",
      "2022-04-17 00:21:55, INFO: Applying correct year 2018 assignment group\n",
      "2022-04-17 00:21:55, INFO: Applying Project to Roadway Network: correct year 2018 assignment group\n",
      "2022-04-17 00:21:55, INFO: Applying Project to Roadway Network: correct year 2018 assignment group\n",
      "2022-04-17 00:21:55, INFO: Applying correct year 2018 assignment group\n",
      "2022-04-17 00:21:55, INFO: Applying correct year 2018 assignment group\n",
      "2022-04-17 00:21:55, INFO: Applying Project to Roadway Network: correct year 2018 assignment group\n",
      "2022-04-17 00:21:55, INFO: Applying Project to Roadway Network: correct year 2018 assignment group\n",
      "2022-04-17 00:21:55, INFO: Applying correct year 2018 assignment group\n"
     ]
    },
    {
     "name": "stderr",
     "output_type": "stream",
     "text": [
      "C:\\Users\\wangs1\\AppData\\Local\\Continuum\\anaconda3\\envs\\lasso_wsp\\lib\\site-packages\\geopandas\\geodataframe.py:1351: SettingWithCopyWarning: \n",
      "A value is trying to be set on a copy of a slice from a DataFrame.\n",
      "Try using .loc[row_indexer,col_indexer] = value instead\n",
      "\n",
      "See the caveats in the documentation: https://pandas.pydata.org/pandas-docs/stable/user_guide/indexing.html#returning-a-view-versus-a-copy\n",
      "  super().__setitem__(key, value)\n",
      "C:\\Users\\wangs1\\AppData\\Local\\Continuum\\anaconda3\\envs\\lasso_wsp\\lib\\site-packages\\geopandas\\geodataframe.py:1351: SettingWithCopyWarning: \n",
      "A value is trying to be set on a copy of a slice from a DataFrame.\n",
      "Try using .loc[row_indexer,col_indexer] = value instead\n",
      "\n",
      "See the caveats in the documentation: https://pandas.pydata.org/pandas-docs/stable/user_guide/indexing.html#returning-a-view-versus-a-copy\n",
      "  super().__setitem__(key, value)\n",
      "C:\\Users\\wangs1\\AppData\\Local\\Continuum\\anaconda3\\envs\\lasso_wsp\\lib\\site-packages\\geopandas\\geodataframe.py:1351: SettingWithCopyWarning: \n",
      "A value is trying to be set on a copy of a slice from a DataFrame.\n",
      "Try using .loc[row_indexer,col_indexer] = value instead\n",
      "\n",
      "See the caveats in the documentation: https://pandas.pydata.org/pandas-docs/stable/user_guide/indexing.html#returning-a-view-versus-a-copy\n",
      "  super().__setitem__(key, value)\n"
     ]
    },
    {
     "name": "stdout",
     "output_type": "stream",
     "text": [
      "2022-04-17 00:21:55, INFO: Applying correct year 2018 assignment group\n",
      "2022-04-17 00:21:55, INFO: Applying Project to Roadway Network: correct year 2018 assignment group\n",
      "2022-04-17 00:21:55, INFO: Applying Project to Roadway Network: correct year 2018 assignment group\n",
      "2022-04-17 00:21:56, INFO: Applying correct year 2018 assignment group\n",
      "2022-04-17 00:21:56, INFO: Applying correct year 2018 assignment group\n",
      "2022-04-17 00:21:56, INFO: Applying Project to Roadway Network: correct year 2018 assignment group\n",
      "2022-04-17 00:21:56, INFO: Applying Project to Roadway Network: correct year 2018 assignment group\n",
      "2022-04-17 00:21:56, INFO: Applying correct year 2018 assignment group\n",
      "2022-04-17 00:21:56, INFO: Applying correct year 2018 assignment group\n",
      "2022-04-17 00:21:56, INFO: Applying Project to Roadway Network: correct year 2018 assignment group\n",
      "2022-04-17 00:21:56, INFO: Applying Project to Roadway Network: correct year 2018 assignment group\n"
     ]
    },
    {
     "name": "stderr",
     "output_type": "stream",
     "text": [
      "C:\\Users\\wangs1\\AppData\\Local\\Continuum\\anaconda3\\envs\\lasso_wsp\\lib\\site-packages\\geopandas\\geodataframe.py:1351: SettingWithCopyWarning: \n",
      "A value is trying to be set on a copy of a slice from a DataFrame.\n",
      "Try using .loc[row_indexer,col_indexer] = value instead\n",
      "\n",
      "See the caveats in the documentation: https://pandas.pydata.org/pandas-docs/stable/user_guide/indexing.html#returning-a-view-versus-a-copy\n",
      "  super().__setitem__(key, value)\n",
      "C:\\Users\\wangs1\\AppData\\Local\\Continuum\\anaconda3\\envs\\lasso_wsp\\lib\\site-packages\\geopandas\\geodataframe.py:1351: SettingWithCopyWarning: \n",
      "A value is trying to be set on a copy of a slice from a DataFrame.\n",
      "Try using .loc[row_indexer,col_indexer] = value instead\n",
      "\n",
      "See the caveats in the documentation: https://pandas.pydata.org/pandas-docs/stable/user_guide/indexing.html#returning-a-view-versus-a-copy\n",
      "  super().__setitem__(key, value)\n"
     ]
    },
    {
     "name": "stdout",
     "output_type": "stream",
     "text": [
      "2022-04-17 00:21:57, INFO: Applying correct year 2018 assignment group\n",
      "2022-04-17 00:21:57, INFO: Applying correct year 2018 assignment group\n",
      "2022-04-17 00:21:57, INFO: Applying Project to Roadway Network: correct year 2018 assignment group\n",
      "2022-04-17 00:21:57, INFO: Applying Project to Roadway Network: correct year 2018 assignment group\n"
     ]
    },
    {
     "name": "stderr",
     "output_type": "stream",
     "text": [
      "C:\\Users\\wangs1\\AppData\\Local\\Continuum\\anaconda3\\envs\\lasso_wsp\\lib\\site-packages\\geopandas\\geodataframe.py:1351: SettingWithCopyWarning: \n",
      "A value is trying to be set on a copy of a slice from a DataFrame.\n",
      "Try using .loc[row_indexer,col_indexer] = value instead\n",
      "\n",
      "See the caveats in the documentation: https://pandas.pydata.org/pandas-docs/stable/user_guide/indexing.html#returning-a-view-versus-a-copy\n",
      "  super().__setitem__(key, value)\n"
     ]
    },
    {
     "name": "stdout",
     "output_type": "stream",
     "text": [
      "2022-04-17 00:22:05, INFO: Applying correct year 2018 assignment group\n",
      "2022-04-17 00:22:05, INFO: Applying correct year 2018 assignment group\n",
      "2022-04-17 00:22:05, INFO: Applying Project to Roadway Network: correct year 2018 assignment group\n",
      "2022-04-17 00:22:05, INFO: Applying Project to Roadway Network: correct year 2018 assignment group\n"
     ]
    },
    {
     "name": "stderr",
     "output_type": "stream",
     "text": [
      "C:\\Users\\wangs1\\AppData\\Local\\Continuum\\anaconda3\\envs\\lasso_wsp\\lib\\site-packages\\geopandas\\geodataframe.py:1351: SettingWithCopyWarning: \n",
      "A value is trying to be set on a copy of a slice from a DataFrame.\n",
      "Try using .loc[row_indexer,col_indexer] = value instead\n",
      "\n",
      "See the caveats in the documentation: https://pandas.pydata.org/pandas-docs/stable/user_guide/indexing.html#returning-a-view-versus-a-copy\n",
      "  super().__setitem__(key, value)\n"
     ]
    },
    {
     "name": "stdout",
     "output_type": "stream",
     "text": [
      "2022-04-17 00:22:15, INFO: Applying correct year 2018 assignment group\n",
      "2022-04-17 00:22:15, INFO: Applying correct year 2018 assignment group\n",
      "2022-04-17 00:22:15, INFO: Applying Project to Roadway Network: correct year 2018 assignment group\n",
      "2022-04-17 00:22:15, INFO: Applying Project to Roadway Network: correct year 2018 assignment group\n"
     ]
    },
    {
     "name": "stderr",
     "output_type": "stream",
     "text": [
      "C:\\Users\\wangs1\\AppData\\Local\\Continuum\\anaconda3\\envs\\lasso_wsp\\lib\\site-packages\\geopandas\\geodataframe.py:1351: SettingWithCopyWarning: \n",
      "A value is trying to be set on a copy of a slice from a DataFrame.\n",
      "Try using .loc[row_indexer,col_indexer] = value instead\n",
      "\n",
      "See the caveats in the documentation: https://pandas.pydata.org/pandas-docs/stable/user_guide/indexing.html#returning-a-view-versus-a-copy\n",
      "  super().__setitem__(key, value)\n"
     ]
    },
    {
     "name": "stdout",
     "output_type": "stream",
     "text": [
      "2022-04-17 00:22:21, INFO: Applying correct year 2018 assignment group\n",
      "2022-04-17 00:22:21, INFO: Applying correct year 2018 assignment group\n",
      "2022-04-17 00:22:21, INFO: Applying Project to Roadway Network: correct year 2018 assignment group\n",
      "2022-04-17 00:22:21, INFO: Applying Project to Roadway Network: correct year 2018 assignment group\n"
     ]
    },
    {
     "name": "stderr",
     "output_type": "stream",
     "text": [
      "C:\\Users\\wangs1\\AppData\\Local\\Continuum\\anaconda3\\envs\\lasso_wsp\\lib\\site-packages\\geopandas\\geodataframe.py:1351: SettingWithCopyWarning: \n",
      "A value is trying to be set on a copy of a slice from a DataFrame.\n",
      "Try using .loc[row_indexer,col_indexer] = value instead\n",
      "\n",
      "See the caveats in the documentation: https://pandas.pydata.org/pandas-docs/stable/user_guide/indexing.html#returning-a-view-versus-a-copy\n",
      "  super().__setitem__(key, value)\n"
     ]
    },
    {
     "name": "stdout",
     "output_type": "stream",
     "text": [
      "2022-04-17 00:22:30, INFO: Applying correct year 2018 assignment group\n",
      "2022-04-17 00:22:30, INFO: Applying correct year 2018 assignment group\n",
      "2022-04-17 00:22:30, INFO: Applying Project to Roadway Network: correct year 2018 assignment group\n",
      "2022-04-17 00:22:30, INFO: Applying Project to Roadway Network: correct year 2018 assignment group\n"
     ]
    },
    {
     "name": "stderr",
     "output_type": "stream",
     "text": [
      "C:\\Users\\wangs1\\AppData\\Local\\Continuum\\anaconda3\\envs\\lasso_wsp\\lib\\site-packages\\geopandas\\geodataframe.py:1351: SettingWithCopyWarning: \n",
      "A value is trying to be set on a copy of a slice from a DataFrame.\n",
      "Try using .loc[row_indexer,col_indexer] = value instead\n",
      "\n",
      "See the caveats in the documentation: https://pandas.pydata.org/pandas-docs/stable/user_guide/indexing.html#returning-a-view-versus-a-copy\n",
      "  super().__setitem__(key, value)\n"
     ]
    },
    {
     "name": "stdout",
     "output_type": "stream",
     "text": [
      "2022-04-17 00:22:38, INFO: Applying correct year 2018 assignment group\n",
      "2022-04-17 00:22:38, INFO: Applying correct year 2018 assignment group\n",
      "2022-04-17 00:22:38, INFO: Applying Project to Roadway Network: correct year 2018 assignment group\n",
      "2022-04-17 00:22:38, INFO: Applying Project to Roadway Network: correct year 2018 assignment group\n"
     ]
    },
    {
     "name": "stderr",
     "output_type": "stream",
     "text": [
      "C:\\Users\\wangs1\\AppData\\Local\\Continuum\\anaconda3\\envs\\lasso_wsp\\lib\\site-packages\\geopandas\\geodataframe.py:1351: SettingWithCopyWarning: \n",
      "A value is trying to be set on a copy of a slice from a DataFrame.\n",
      "Try using .loc[row_indexer,col_indexer] = value instead\n",
      "\n",
      "See the caveats in the documentation: https://pandas.pydata.org/pandas-docs/stable/user_guide/indexing.html#returning-a-view-versus-a-copy\n",
      "  super().__setitem__(key, value)\n"
     ]
    },
    {
     "name": "stdout",
     "output_type": "stream",
     "text": [
      "2022-04-17 00:22:46, INFO: Applying correct year 2018 assignment group\n",
      "2022-04-17 00:22:46, INFO: Applying correct year 2018 assignment group\n",
      "2022-04-17 00:22:46, INFO: Applying Project to Roadway Network: correct year 2018 assignment group\n",
      "2022-04-17 00:22:46, INFO: Applying Project to Roadway Network: correct year 2018 assignment group\n"
     ]
    },
    {
     "name": "stderr",
     "output_type": "stream",
     "text": [
      "C:\\Users\\wangs1\\AppData\\Local\\Continuum\\anaconda3\\envs\\lasso_wsp\\lib\\site-packages\\geopandas\\geodataframe.py:1351: SettingWithCopyWarning: \n",
      "A value is trying to be set on a copy of a slice from a DataFrame.\n",
      "Try using .loc[row_indexer,col_indexer] = value instead\n",
      "\n",
      "See the caveats in the documentation: https://pandas.pydata.org/pandas-docs/stable/user_guide/indexing.html#returning-a-view-versus-a-copy\n",
      "  super().__setitem__(key, value)\n"
     ]
    },
    {
     "name": "stdout",
     "output_type": "stream",
     "text": [
      "2022-04-17 00:22:56, INFO: Applying correct year 2018 assignment group\n",
      "2022-04-17 00:22:56, INFO: Applying correct year 2018 assignment group\n",
      "2022-04-17 00:22:56, INFO: Applying Project to Roadway Network: correct year 2018 assignment group\n",
      "2022-04-17 00:22:56, INFO: Applying Project to Roadway Network: correct year 2018 assignment group\n"
     ]
    },
    {
     "name": "stderr",
     "output_type": "stream",
     "text": [
      "C:\\Users\\wangs1\\AppData\\Local\\Continuum\\anaconda3\\envs\\lasso_wsp\\lib\\site-packages\\geopandas\\geodataframe.py:1351: SettingWithCopyWarning: \n",
      "A value is trying to be set on a copy of a slice from a DataFrame.\n",
      "Try using .loc[row_indexer,col_indexer] = value instead\n",
      "\n",
      "See the caveats in the documentation: https://pandas.pydata.org/pandas-docs/stable/user_guide/indexing.html#returning-a-view-versus-a-copy\n",
      "  super().__setitem__(key, value)\n"
     ]
    },
    {
     "name": "stdout",
     "output_type": "stream",
     "text": [
      "2022-04-17 00:23:08, INFO: Applying correct year 2018 assignment group\n",
      "2022-04-17 00:23:08, INFO: Applying correct year 2018 assignment group\n",
      "2022-04-17 00:23:08, INFO: Applying Project to Roadway Network: correct year 2018 assignment group\n",
      "2022-04-17 00:23:08, INFO: Applying Project to Roadway Network: correct year 2018 assignment group\n"
     ]
    },
    {
     "name": "stderr",
     "output_type": "stream",
     "text": [
      "C:\\Users\\wangs1\\AppData\\Local\\Continuum\\anaconda3\\envs\\lasso_wsp\\lib\\site-packages\\geopandas\\geodataframe.py:1351: SettingWithCopyWarning: \n",
      "A value is trying to be set on a copy of a slice from a DataFrame.\n",
      "Try using .loc[row_indexer,col_indexer] = value instead\n",
      "\n",
      "See the caveats in the documentation: https://pandas.pydata.org/pandas-docs/stable/user_guide/indexing.html#returning-a-view-versus-a-copy\n",
      "  super().__setitem__(key, value)\n"
     ]
    },
    {
     "name": "stdout",
     "output_type": "stream",
     "text": [
      "2022-04-17 00:23:18, INFO: Applying correct year 2018 assignment group\n",
      "2022-04-17 00:23:18, INFO: Applying correct year 2018 assignment group\n",
      "2022-04-17 00:23:18, INFO: Applying Project to Roadway Network: correct year 2018 assignment group\n",
      "2022-04-17 00:23:18, INFO: Applying Project to Roadway Network: correct year 2018 assignment group\n"
     ]
    },
    {
     "name": "stderr",
     "output_type": "stream",
     "text": [
      "C:\\Users\\wangs1\\AppData\\Local\\Continuum\\anaconda3\\envs\\lasso_wsp\\lib\\site-packages\\geopandas\\geodataframe.py:1351: SettingWithCopyWarning: \n",
      "A value is trying to be set on a copy of a slice from a DataFrame.\n",
      "Try using .loc[row_indexer,col_indexer] = value instead\n",
      "\n",
      "See the caveats in the documentation: https://pandas.pydata.org/pandas-docs/stable/user_guide/indexing.html#returning-a-view-versus-a-copy\n",
      "  super().__setitem__(key, value)\n"
     ]
    },
    {
     "name": "stdout",
     "output_type": "stream",
     "text": [
      "2022-04-17 00:23:23, INFO: Applying correct year 2018 assignment group\n",
      "2022-04-17 00:23:23, INFO: Applying correct year 2018 assignment group\n",
      "2022-04-17 00:23:23, INFO: Applying Project to Roadway Network: correct year 2018 assignment group\n",
      "2022-04-17 00:23:23, INFO: Applying Project to Roadway Network: correct year 2018 assignment group\n"
     ]
    },
    {
     "name": "stderr",
     "output_type": "stream",
     "text": [
      "C:\\Users\\wangs1\\AppData\\Local\\Continuum\\anaconda3\\envs\\lasso_wsp\\lib\\site-packages\\geopandas\\geodataframe.py:1351: SettingWithCopyWarning: \n",
      "A value is trying to be set on a copy of a slice from a DataFrame.\n",
      "Try using .loc[row_indexer,col_indexer] = value instead\n",
      "\n",
      "See the caveats in the documentation: https://pandas.pydata.org/pandas-docs/stable/user_guide/indexing.html#returning-a-view-versus-a-copy\n",
      "  super().__setitem__(key, value)\n"
     ]
    },
    {
     "name": "stdout",
     "output_type": "stream",
     "text": [
      "2022-04-17 00:23:33, INFO: Applying correct year 2018 assignment group\n",
      "2022-04-17 00:23:33, INFO: Applying correct year 2018 assignment group\n",
      "2022-04-17 00:23:33, INFO: Applying Project to Roadway Network: correct year 2018 assignment group\n",
      "2022-04-17 00:23:33, INFO: Applying Project to Roadway Network: correct year 2018 assignment group\n"
     ]
    },
    {
     "name": "stderr",
     "output_type": "stream",
     "text": [
      "C:\\Users\\wangs1\\AppData\\Local\\Continuum\\anaconda3\\envs\\lasso_wsp\\lib\\site-packages\\geopandas\\geodataframe.py:1351: SettingWithCopyWarning: \n",
      "A value is trying to be set on a copy of a slice from a DataFrame.\n",
      "Try using .loc[row_indexer,col_indexer] = value instead\n",
      "\n",
      "See the caveats in the documentation: https://pandas.pydata.org/pandas-docs/stable/user_guide/indexing.html#returning-a-view-versus-a-copy\n",
      "  super().__setitem__(key, value)\n"
     ]
    },
    {
     "name": "stdout",
     "output_type": "stream",
     "text": [
      "2022-04-17 00:23:40, INFO: Applying correct year 2018 assignment group\n",
      "2022-04-17 00:23:40, INFO: Applying correct year 2018 assignment group\n",
      "2022-04-17 00:23:40, INFO: Applying Project to Roadway Network: correct year 2018 assignment group\n",
      "2022-04-17 00:23:40, INFO: Applying Project to Roadway Network: correct year 2018 assignment group\n"
     ]
    },
    {
     "name": "stderr",
     "output_type": "stream",
     "text": [
      "C:\\Users\\wangs1\\AppData\\Local\\Continuum\\anaconda3\\envs\\lasso_wsp\\lib\\site-packages\\geopandas\\geodataframe.py:1351: SettingWithCopyWarning: \n",
      "A value is trying to be set on a copy of a slice from a DataFrame.\n",
      "Try using .loc[row_indexer,col_indexer] = value instead\n",
      "\n",
      "See the caveats in the documentation: https://pandas.pydata.org/pandas-docs/stable/user_guide/indexing.html#returning-a-view-versus-a-copy\n",
      "  super().__setitem__(key, value)\n"
     ]
    },
    {
     "name": "stdout",
     "output_type": "stream",
     "text": [
      "2022-04-17 00:23:40, INFO: Applying correct year 2018 assignment group\n",
      "2022-04-17 00:23:40, INFO: Applying correct year 2018 assignment group\n",
      "2022-04-17 00:23:40, INFO: Applying Project to Roadway Network: correct year 2018 assignment group\n",
      "2022-04-17 00:23:40, INFO: Applying Project to Roadway Network: correct year 2018 assignment group\n"
     ]
    },
    {
     "name": "stderr",
     "output_type": "stream",
     "text": [
      "C:\\Users\\wangs1\\AppData\\Local\\Continuum\\anaconda3\\envs\\lasso_wsp\\lib\\site-packages\\geopandas\\geodataframe.py:1351: SettingWithCopyWarning: \n",
      "A value is trying to be set on a copy of a slice from a DataFrame.\n",
      "Try using .loc[row_indexer,col_indexer] = value instead\n",
      "\n",
      "See the caveats in the documentation: https://pandas.pydata.org/pandas-docs/stable/user_guide/indexing.html#returning-a-view-versus-a-copy\n",
      "  super().__setitem__(key, value)\n"
     ]
    },
    {
     "name": "stdout",
     "output_type": "stream",
     "text": [
      "2022-04-17 00:23:41, INFO: Applying correct year 2018 assignment group\n",
      "2022-04-17 00:23:41, INFO: Applying correct year 2018 assignment group\n",
      "2022-04-17 00:23:41, INFO: Applying Project to Roadway Network: correct year 2018 assignment group\n",
      "2022-04-17 00:23:41, INFO: Applying Project to Roadway Network: correct year 2018 assignment group\n",
      "2022-04-17 00:23:41, INFO: Applying correct year 2018 assignment group\n",
      "2022-04-17 00:23:41, INFO: Applying correct year 2018 assignment group\n",
      "2022-04-17 00:23:41, INFO: Applying Project to Roadway Network: correct year 2018 assignment group\n",
      "2022-04-17 00:23:41, INFO: Applying Project to Roadway Network: correct year 2018 assignment group\n"
     ]
    },
    {
     "name": "stderr",
     "output_type": "stream",
     "text": [
      "C:\\Users\\wangs1\\AppData\\Local\\Continuum\\anaconda3\\envs\\lasso_wsp\\lib\\site-packages\\geopandas\\geodataframe.py:1351: SettingWithCopyWarning: \n",
      "A value is trying to be set on a copy of a slice from a DataFrame.\n",
      "Try using .loc[row_indexer,col_indexer] = value instead\n",
      "\n",
      "See the caveats in the documentation: https://pandas.pydata.org/pandas-docs/stable/user_guide/indexing.html#returning-a-view-versus-a-copy\n",
      "  super().__setitem__(key, value)\n",
      "C:\\Users\\wangs1\\AppData\\Local\\Continuum\\anaconda3\\envs\\lasso_wsp\\lib\\site-packages\\geopandas\\geodataframe.py:1351: SettingWithCopyWarning: \n",
      "A value is trying to be set on a copy of a slice from a DataFrame.\n",
      "Try using .loc[row_indexer,col_indexer] = value instead\n",
      "\n",
      "See the caveats in the documentation: https://pandas.pydata.org/pandas-docs/stable/user_guide/indexing.html#returning-a-view-versus-a-copy\n",
      "  super().__setitem__(key, value)\n"
     ]
    },
    {
     "name": "stdout",
     "output_type": "stream",
     "text": [
      "2022-04-17 00:23:48, INFO: Applying network cleanup remove link\n",
      "2022-04-17 00:23:48, INFO: Applying network cleanup remove link\n",
      "2022-04-17 00:23:48, INFO: Applying network cleanup remove link\n",
      "2022-04-17 00:23:48, INFO: Applying network cleanup remove link\n",
      "2022-04-17 00:23:48, INFO: Applying Project to Roadway Network: network cleanup remove link\n",
      "2022-04-17 00:23:48, INFO: Applying Project to Roadway Network: network cleanup remove link\n",
      "2022-04-17 00:23:48, INFO: Applying Manual Changes to Assignment Group and Roadway Class\n",
      "2022-04-17 00:23:48, INFO: Applying Manual Changes to Assignment Group and Roadway Class\n",
      "2022-04-17 00:23:48, INFO: Applying Project to Roadway Network: Manual Changes to Assignment Group and Roadway Class\n",
      "2022-04-17 00:23:48, INFO: Applying Project to Roadway Network: Manual Changes to Assignment Group and Roadway Class\n",
      "2022-04-17 00:23:48, INFO: Lasso base directory set as: Z:/Data/Users/Sijia/Met_Council/github/client_met_council_wrangler_utilities\n",
      "2022-04-17 00:23:48, INFO: Lasso base directory set as: Z:/Data/Users/Sijia/Met_Council/github/client_met_council_wrangler_utilities\n"
     ]
    },
    {
     "name": "stderr",
     "output_type": "stream",
     "text": [
      "C:\\Users\\wangs1\\AppData\\Local\\Continuum\\anaconda3\\envs\\lasso_wsp\\lib\\site-packages\\geopandas\\geodataframe.py:1351: SettingWithCopyWarning: \n",
      "A value is trying to be set on a copy of a slice from a DataFrame.\n",
      "Try using .loc[row_indexer,col_indexer] = value instead\n",
      "\n",
      "See the caveats in the documentation: https://pandas.pydata.org/pandas-docs/stable/user_guide/indexing.html#returning-a-view-versus-a-copy\n",
      "  super().__setitem__(key, value)\n",
      "C:\\Users\\wangs1\\AppData\\Local\\Continuum\\anaconda3\\envs\\lasso_wsp\\lib\\site-packages\\geopandas\\geodataframe.py:1351: SettingWithCopyWarning: \n",
      "A value is trying to be set on a copy of a slice from a DataFrame.\n",
      "Try using .loc[row_indexer,col_indexer] = value instead\n",
      "\n",
      "See the caveats in the documentation: https://pandas.pydata.org/pandas-docs/stable/user_guide/indexing.html#returning-a-view-versus-a-copy\n",
      "  super().__setitem__(key, value)\n",
      "z:\\data\\users\\sijia\\met_council\\github\\network_wrangler\\network_wrangler\\network_wrangler\\roadwaynetwork.py:18: UserWarning: Geometry is in a geographic CRS. Results from 'centroid' are likely incorrect. Use 'GeoSeries.to_crs()' to re-project geometries to a projected CRS before this operation.\n",
      "\n",
      "  import osmnx as ox\n",
      "z:\\data\\users\\sijia\\met_council\\github\\network_wrangler\\network_wrangler\\network_wrangler\\roadwaynetwork.py:48: UserWarning: Geometry is in a geographic CRS. Results from 'centroid' are likely incorrect. Use 'GeoSeries.to_crs()' to re-project geometries to a projected CRS before this operation.\n",
      "\n",
      "  \n",
      "z:\\data\\users\\sijia\\met_council\\github\\network_wrangler\\network_wrangler\\network_wrangler\\roadwaynetwork.py:52: UserWarning: CRS mismatch between the CRS of left geometries and the CRS of right geometries.\n",
      "Use `to_crs()` to reproject one of the input geometries to match the CRS of the other.\n",
      "\n",
      "Left CRS: EPSG:4326\n",
      "Right CRS: EPSG:4269\n",
      "\n",
      "  net = RoadwayNetwork.read(\n"
     ]
    },
    {
     "name": "stdout",
     "output_type": "stream",
     "text": [
      "2022-04-17 00:30:19, INFO: Applying network cleanup 1 lanes 7\n",
      "2022-04-17 00:30:19, INFO: Applying network cleanup 1 lanes 7\n",
      "2022-04-17 00:30:19, INFO: Applying network cleanup 1 lanes 7\n",
      "2022-04-17 00:30:19, INFO: Applying network cleanup 1 lanes 7\n",
      "2022-04-17 00:30:19, INFO: Applying Project to Roadway Network: network cleanup 1 lanes 7\n",
      "2022-04-17 00:30:19, INFO: Applying Project to Roadway Network: network cleanup 1 lanes 7\n",
      "2022-04-17 00:30:19, INFO: Applying network cleanup 1 lanes 6\n",
      "2022-04-17 00:30:19, INFO: Applying network cleanup 1 lanes 6\n",
      "2022-04-17 00:30:19, INFO: Applying network cleanup 1 lanes 6\n",
      "2022-04-17 00:30:19, INFO: Applying network cleanup 1 lanes 6\n",
      "2022-04-17 00:30:19, INFO: Applying Project to Roadway Network: network cleanup 1 lanes 6\n",
      "2022-04-17 00:30:19, INFO: Applying Project to Roadway Network: network cleanup 1 lanes 6\n",
      "2022-04-17 00:30:20, INFO: Applying network cleanup 1 lanes 5\n",
      "2022-04-17 00:30:20, INFO: Applying network cleanup 1 lanes 5\n",
      "2022-04-17 00:30:20, INFO: Applying network cleanup 1 lanes 5\n",
      "2022-04-17 00:30:20, INFO: Applying network cleanup 1 lanes 5\n",
      "2022-04-17 00:30:20, INFO: Applying Project to Roadway Network: network cleanup 1 lanes 5\n",
      "2022-04-17 00:30:20, INFO: Applying Project to Roadway Network: network cleanup 1 lanes 5\n"
     ]
    },
    {
     "name": "stderr",
     "output_type": "stream",
     "text": [
      "C:\\Users\\wangs1\\AppData\\Local\\Continuum\\anaconda3\\envs\\lasso_wsp\\lib\\site-packages\\geopandas\\geodataframe.py:1351: SettingWithCopyWarning: \n",
      "A value is trying to be set on a copy of a slice from a DataFrame.\n",
      "Try using .loc[row_indexer,col_indexer] = value instead\n",
      "\n",
      "See the caveats in the documentation: https://pandas.pydata.org/pandas-docs/stable/user_guide/indexing.html#returning-a-view-versus-a-copy\n",
      "  super().__setitem__(key, value)\n",
      "C:\\Users\\wangs1\\AppData\\Local\\Continuum\\anaconda3\\envs\\lasso_wsp\\lib\\site-packages\\geopandas\\geodataframe.py:1351: SettingWithCopyWarning: \n",
      "A value is trying to be set on a copy of a slice from a DataFrame.\n",
      "Try using .loc[row_indexer,col_indexer] = value instead\n",
      "\n",
      "See the caveats in the documentation: https://pandas.pydata.org/pandas-docs/stable/user_guide/indexing.html#returning-a-view-versus-a-copy\n",
      "  super().__setitem__(key, value)\n"
     ]
    },
    {
     "name": "stdout",
     "output_type": "stream",
     "text": [
      "2022-04-17 00:30:20, INFO: Applying network cleanup 1 lanes 4\n",
      "2022-04-17 00:30:20, INFO: Applying network cleanup 1 lanes 4\n",
      "2022-04-17 00:30:20, INFO: Applying network cleanup 1 lanes 4\n",
      "2022-04-17 00:30:20, INFO: Applying network cleanup 1 lanes 4\n",
      "2022-04-17 00:30:20, INFO: Applying Project to Roadway Network: network cleanup 1 lanes 4\n",
      "2022-04-17 00:30:20, INFO: Applying Project to Roadway Network: network cleanup 1 lanes 4\n"
     ]
    },
    {
     "name": "stderr",
     "output_type": "stream",
     "text": [
      "C:\\Users\\wangs1\\AppData\\Local\\Continuum\\anaconda3\\envs\\lasso_wsp\\lib\\site-packages\\geopandas\\geodataframe.py:1351: SettingWithCopyWarning: \n",
      "A value is trying to be set on a copy of a slice from a DataFrame.\n",
      "Try using .loc[row_indexer,col_indexer] = value instead\n",
      "\n",
      "See the caveats in the documentation: https://pandas.pydata.org/pandas-docs/stable/user_guide/indexing.html#returning-a-view-versus-a-copy\n",
      "  super().__setitem__(key, value)\n"
     ]
    },
    {
     "name": "stdout",
     "output_type": "stream",
     "text": [
      "2022-04-17 00:30:20, INFO: Applying network cleanup 1 lanes 3\n",
      "2022-04-17 00:30:20, INFO: Applying network cleanup 1 lanes 3\n",
      "2022-04-17 00:30:20, INFO: Applying network cleanup 1 lanes 3\n",
      "2022-04-17 00:30:20, INFO: Applying network cleanup 1 lanes 3\n",
      "2022-04-17 00:30:20, INFO: Applying Project to Roadway Network: network cleanup 1 lanes 3\n",
      "2022-04-17 00:30:20, INFO: Applying Project to Roadway Network: network cleanup 1 lanes 3\n"
     ]
    },
    {
     "name": "stderr",
     "output_type": "stream",
     "text": [
      "C:\\Users\\wangs1\\AppData\\Local\\Continuum\\anaconda3\\envs\\lasso_wsp\\lib\\site-packages\\geopandas\\geodataframe.py:1351: SettingWithCopyWarning: \n",
      "A value is trying to be set on a copy of a slice from a DataFrame.\n",
      "Try using .loc[row_indexer,col_indexer] = value instead\n",
      "\n",
      "See the caveats in the documentation: https://pandas.pydata.org/pandas-docs/stable/user_guide/indexing.html#returning-a-view-versus-a-copy\n",
      "  super().__setitem__(key, value)\n"
     ]
    },
    {
     "name": "stdout",
     "output_type": "stream",
     "text": [
      "2022-04-17 00:30:38, INFO: Applying network cleanup 1 lanes 2e\n",
      "2022-04-17 00:30:38, INFO: Applying network cleanup 1 lanes 2e\n",
      "2022-04-17 00:30:38, INFO: Applying network cleanup 1 lanes 2e\n",
      "2022-04-17 00:30:38, INFO: Applying network cleanup 1 lanes 2e\n",
      "2022-04-17 00:30:38, INFO: Applying Project to Roadway Network: network cleanup 1 lanes 2e\n",
      "2022-04-17 00:30:38, INFO: Applying Project to Roadway Network: network cleanup 1 lanes 2e\n"
     ]
    },
    {
     "name": "stderr",
     "output_type": "stream",
     "text": [
      "C:\\Users\\wangs1\\AppData\\Local\\Continuum\\anaconda3\\envs\\lasso_wsp\\lib\\site-packages\\geopandas\\geodataframe.py:1351: SettingWithCopyWarning: \n",
      "A value is trying to be set on a copy of a slice from a DataFrame.\n",
      "Try using .loc[row_indexer,col_indexer] = value instead\n",
      "\n",
      "See the caveats in the documentation: https://pandas.pydata.org/pandas-docs/stable/user_guide/indexing.html#returning-a-view-versus-a-copy\n",
      "  super().__setitem__(key, value)\n"
     ]
    },
    {
     "name": "stdout",
     "output_type": "stream",
     "text": [
      "2022-04-17 00:30:49, INFO: Applying network cleanup 1 lanes 2d part 2\n",
      "2022-04-17 00:30:49, INFO: Applying network cleanup 1 lanes 2d part 2\n",
      "2022-04-17 00:30:49, INFO: Applying network cleanup 1 lanes 2d part 2\n",
      "2022-04-17 00:30:49, INFO: Applying network cleanup 1 lanes 2d part 2\n",
      "2022-04-17 00:30:49, INFO: Applying Project to Roadway Network: network cleanup 1 lanes 2d part 2\n",
      "2022-04-17 00:30:49, INFO: Applying Project to Roadway Network: network cleanup 1 lanes 2d part 2\n"
     ]
    },
    {
     "name": "stderr",
     "output_type": "stream",
     "text": [
      "C:\\Users\\wangs1\\AppData\\Local\\Continuum\\anaconda3\\envs\\lasso_wsp\\lib\\site-packages\\geopandas\\geodataframe.py:1351: SettingWithCopyWarning: \n",
      "A value is trying to be set on a copy of a slice from a DataFrame.\n",
      "Try using .loc[row_indexer,col_indexer] = value instead\n",
      "\n",
      "See the caveats in the documentation: https://pandas.pydata.org/pandas-docs/stable/user_guide/indexing.html#returning-a-view-versus-a-copy\n",
      "  super().__setitem__(key, value)\n"
     ]
    },
    {
     "name": "stdout",
     "output_type": "stream",
     "text": [
      "2022-04-17 00:30:52, INFO: Applying network cleanup 1 lanes 2d\n",
      "2022-04-17 00:30:52, INFO: Applying network cleanup 1 lanes 2d\n",
      "2022-04-17 00:30:52, INFO: Applying network cleanup 1 lanes 2d\n",
      "2022-04-17 00:30:52, INFO: Applying network cleanup 1 lanes 2d\n",
      "2022-04-17 00:30:52, INFO: Applying Project to Roadway Network: network cleanup 1 lanes 2d\n",
      "2022-04-17 00:30:52, INFO: Applying Project to Roadway Network: network cleanup 1 lanes 2d\n"
     ]
    },
    {
     "name": "stderr",
     "output_type": "stream",
     "text": [
      "C:\\Users\\wangs1\\AppData\\Local\\Continuum\\anaconda3\\envs\\lasso_wsp\\lib\\site-packages\\geopandas\\geodataframe.py:1351: SettingWithCopyWarning: \n",
      "A value is trying to be set on a copy of a slice from a DataFrame.\n",
      "Try using .loc[row_indexer,col_indexer] = value instead\n",
      "\n",
      "See the caveats in the documentation: https://pandas.pydata.org/pandas-docs/stable/user_guide/indexing.html#returning-a-view-versus-a-copy\n",
      "  super().__setitem__(key, value)\n"
     ]
    },
    {
     "name": "stdout",
     "output_type": "stream",
     "text": [
      "2022-04-17 00:31:03, INFO: Applying network cleanup 1 lanes 2c part 2\n",
      "2022-04-17 00:31:03, INFO: Applying network cleanup 1 lanes 2c part 2\n",
      "2022-04-17 00:31:03, INFO: Applying network cleanup 1 lanes 2c part 2\n",
      "2022-04-17 00:31:03, INFO: Applying network cleanup 1 lanes 2c part 2\n",
      "2022-04-17 00:31:03, INFO: Applying Project to Roadway Network: network cleanup 1 lanes 2c part 2\n",
      "2022-04-17 00:31:03, INFO: Applying Project to Roadway Network: network cleanup 1 lanes 2c part 2\n"
     ]
    },
    {
     "name": "stderr",
     "output_type": "stream",
     "text": [
      "C:\\Users\\wangs1\\AppData\\Local\\Continuum\\anaconda3\\envs\\lasso_wsp\\lib\\site-packages\\geopandas\\geodataframe.py:1351: SettingWithCopyWarning: \n",
      "A value is trying to be set on a copy of a slice from a DataFrame.\n",
      "Try using .loc[row_indexer,col_indexer] = value instead\n",
      "\n",
      "See the caveats in the documentation: https://pandas.pydata.org/pandas-docs/stable/user_guide/indexing.html#returning-a-view-versus-a-copy\n",
      "  super().__setitem__(key, value)\n"
     ]
    },
    {
     "name": "stdout",
     "output_type": "stream",
     "text": [
      "2022-04-17 00:31:06, INFO: Applying network cleanup 1 lanes 2c\n",
      "2022-04-17 00:31:06, INFO: Applying network cleanup 1 lanes 2c\n",
      "2022-04-17 00:31:06, INFO: Applying network cleanup 1 lanes 2c\n",
      "2022-04-17 00:31:06, INFO: Applying network cleanup 1 lanes 2c\n",
      "2022-04-17 00:31:06, INFO: Applying Project to Roadway Network: network cleanup 1 lanes 2c\n",
      "2022-04-17 00:31:06, INFO: Applying Project to Roadway Network: network cleanup 1 lanes 2c\n"
     ]
    },
    {
     "name": "stderr",
     "output_type": "stream",
     "text": [
      "C:\\Users\\wangs1\\AppData\\Local\\Continuum\\anaconda3\\envs\\lasso_wsp\\lib\\site-packages\\geopandas\\geodataframe.py:1351: SettingWithCopyWarning: \n",
      "A value is trying to be set on a copy of a slice from a DataFrame.\n",
      "Try using .loc[row_indexer,col_indexer] = value instead\n",
      "\n",
      "See the caveats in the documentation: https://pandas.pydata.org/pandas-docs/stable/user_guide/indexing.html#returning-a-view-versus-a-copy\n",
      "  super().__setitem__(key, value)\n"
     ]
    },
    {
     "name": "stdout",
     "output_type": "stream",
     "text": [
      "2022-04-17 00:31:18, INFO: Applying network cleanup 1 lanes 2b\n",
      "2022-04-17 00:31:18, INFO: Applying network cleanup 1 lanes 2b\n",
      "2022-04-17 00:31:18, INFO: Applying network cleanup 1 lanes 2b\n",
      "2022-04-17 00:31:18, INFO: Applying network cleanup 1 lanes 2b\n",
      "2022-04-17 00:31:18, INFO: Applying Project to Roadway Network: network cleanup 1 lanes 2b\n",
      "2022-04-17 00:31:18, INFO: Applying Project to Roadway Network: network cleanup 1 lanes 2b\n"
     ]
    },
    {
     "name": "stderr",
     "output_type": "stream",
     "text": [
      "C:\\Users\\wangs1\\AppData\\Local\\Continuum\\anaconda3\\envs\\lasso_wsp\\lib\\site-packages\\geopandas\\geodataframe.py:1351: SettingWithCopyWarning: \n",
      "A value is trying to be set on a copy of a slice from a DataFrame.\n",
      "Try using .loc[row_indexer,col_indexer] = value instead\n",
      "\n",
      "See the caveats in the documentation: https://pandas.pydata.org/pandas-docs/stable/user_guide/indexing.html#returning-a-view-versus-a-copy\n",
      "  super().__setitem__(key, value)\n"
     ]
    },
    {
     "name": "stdout",
     "output_type": "stream",
     "text": [
      "2022-04-17 00:31:35, INFO: Applying network cleanup 1 lanes 2a\n",
      "2022-04-17 00:31:35, INFO: Applying network cleanup 1 lanes 2a\n",
      "2022-04-17 00:31:35, INFO: Applying network cleanup 1 lanes 2a\n",
      "2022-04-17 00:31:35, INFO: Applying network cleanup 1 lanes 2a\n",
      "2022-04-17 00:31:35, INFO: Applying Project to Roadway Network: network cleanup 1 lanes 2a\n",
      "2022-04-17 00:31:35, INFO: Applying Project to Roadway Network: network cleanup 1 lanes 2a\n"
     ]
    },
    {
     "name": "stderr",
     "output_type": "stream",
     "text": [
      "C:\\Users\\wangs1\\AppData\\Local\\Continuum\\anaconda3\\envs\\lasso_wsp\\lib\\site-packages\\geopandas\\geodataframe.py:1351: SettingWithCopyWarning: \n",
      "A value is trying to be set on a copy of a slice from a DataFrame.\n",
      "Try using .loc[row_indexer,col_indexer] = value instead\n",
      "\n",
      "See the caveats in the documentation: https://pandas.pydata.org/pandas-docs/stable/user_guide/indexing.html#returning-a-view-versus-a-copy\n",
      "  super().__setitem__(key, value)\n"
     ]
    },
    {
     "name": "stdout",
     "output_type": "stream",
     "text": [
      "2022-04-17 00:31:48, INFO: Applying network cleanup 1 lanes 1 h\n",
      "2022-04-17 00:31:48, INFO: Applying network cleanup 1 lanes 1 h\n",
      "2022-04-17 00:31:48, INFO: Applying network cleanup 1 lanes 1 h\n",
      "2022-04-17 00:31:48, INFO: Applying network cleanup 1 lanes 1 h\n",
      "2022-04-17 00:31:48, INFO: Applying Project to Roadway Network: network cleanup 1 lanes 1 h\n",
      "2022-04-17 00:31:48, INFO: Applying Project to Roadway Network: network cleanup 1 lanes 1 h\n"
     ]
    },
    {
     "name": "stderr",
     "output_type": "stream",
     "text": [
      "C:\\Users\\wangs1\\AppData\\Local\\Continuum\\anaconda3\\envs\\lasso_wsp\\lib\\site-packages\\geopandas\\geodataframe.py:1351: SettingWithCopyWarning: \n",
      "A value is trying to be set on a copy of a slice from a DataFrame.\n",
      "Try using .loc[row_indexer,col_indexer] = value instead\n",
      "\n",
      "See the caveats in the documentation: https://pandas.pydata.org/pandas-docs/stable/user_guide/indexing.html#returning-a-view-versus-a-copy\n",
      "  super().__setitem__(key, value)\n"
     ]
    },
    {
     "name": "stdout",
     "output_type": "stream",
     "text": [
      "2022-04-17 00:31:52, INFO: Applying network cleanup 1 lanes 1 g\n",
      "2022-04-17 00:31:52, INFO: Applying network cleanup 1 lanes 1 g\n",
      "2022-04-17 00:31:52, INFO: Applying network cleanup 1 lanes 1 g\n",
      "2022-04-17 00:31:52, INFO: Applying network cleanup 1 lanes 1 g\n",
      "2022-04-17 00:31:52, INFO: Applying Project to Roadway Network: network cleanup 1 lanes 1 g\n",
      "2022-04-17 00:31:52, INFO: Applying Project to Roadway Network: network cleanup 1 lanes 1 g\n"
     ]
    },
    {
     "name": "stderr",
     "output_type": "stream",
     "text": [
      "C:\\Users\\wangs1\\AppData\\Local\\Continuum\\anaconda3\\envs\\lasso_wsp\\lib\\site-packages\\geopandas\\geodataframe.py:1351: SettingWithCopyWarning: \n",
      "A value is trying to be set on a copy of a slice from a DataFrame.\n",
      "Try using .loc[row_indexer,col_indexer] = value instead\n",
      "\n",
      "See the caveats in the documentation: https://pandas.pydata.org/pandas-docs/stable/user_guide/indexing.html#returning-a-view-versus-a-copy\n",
      "  super().__setitem__(key, value)\n"
     ]
    },
    {
     "name": "stdout",
     "output_type": "stream",
     "text": [
      "2022-04-17 00:32:10, INFO: Applying network cleanup 1 lanes 1 f part 2\n",
      "2022-04-17 00:32:10, INFO: Applying network cleanup 1 lanes 1 f part 2\n",
      "2022-04-17 00:32:10, INFO: Applying network cleanup 1 lanes 1 f part 2\n",
      "2022-04-17 00:32:10, INFO: Applying network cleanup 1 lanes 1 f part 2\n",
      "2022-04-17 00:32:10, INFO: Applying Project to Roadway Network: network cleanup 1 lanes 1 f part 2\n",
      "2022-04-17 00:32:10, INFO: Applying Project to Roadway Network: network cleanup 1 lanes 1 f part 2\n"
     ]
    },
    {
     "name": "stderr",
     "output_type": "stream",
     "text": [
      "C:\\Users\\wangs1\\AppData\\Local\\Continuum\\anaconda3\\envs\\lasso_wsp\\lib\\site-packages\\geopandas\\geodataframe.py:1351: SettingWithCopyWarning: \n",
      "A value is trying to be set on a copy of a slice from a DataFrame.\n",
      "Try using .loc[row_indexer,col_indexer] = value instead\n",
      "\n",
      "See the caveats in the documentation: https://pandas.pydata.org/pandas-docs/stable/user_guide/indexing.html#returning-a-view-versus-a-copy\n",
      "  super().__setitem__(key, value)\n"
     ]
    },
    {
     "name": "stdout",
     "output_type": "stream",
     "text": [
      "2022-04-17 00:32:11, INFO: Applying network cleanup 1 lanes 1 f\n",
      "2022-04-17 00:32:11, INFO: Applying network cleanup 1 lanes 1 f\n",
      "2022-04-17 00:32:11, INFO: Applying network cleanup 1 lanes 1 f\n",
      "2022-04-17 00:32:11, INFO: Applying network cleanup 1 lanes 1 f\n",
      "2022-04-17 00:32:11, INFO: Applying Project to Roadway Network: network cleanup 1 lanes 1 f\n",
      "2022-04-17 00:32:11, INFO: Applying Project to Roadway Network: network cleanup 1 lanes 1 f\n"
     ]
    },
    {
     "name": "stderr",
     "output_type": "stream",
     "text": [
      "C:\\Users\\wangs1\\AppData\\Local\\Continuum\\anaconda3\\envs\\lasso_wsp\\lib\\site-packages\\geopandas\\geodataframe.py:1351: SettingWithCopyWarning: \n",
      "A value is trying to be set on a copy of a slice from a DataFrame.\n",
      "Try using .loc[row_indexer,col_indexer] = value instead\n",
      "\n",
      "See the caveats in the documentation: https://pandas.pydata.org/pandas-docs/stable/user_guide/indexing.html#returning-a-view-versus-a-copy\n",
      "  super().__setitem__(key, value)\n"
     ]
    },
    {
     "name": "stdout",
     "output_type": "stream",
     "text": [
      "2022-04-17 00:32:25, INFO: Applying network cleanup 1 lanes 1 e part 2\n",
      "2022-04-17 00:32:25, INFO: Applying network cleanup 1 lanes 1 e part 2\n",
      "2022-04-17 00:32:25, INFO: Applying network cleanup 1 lanes 1 e part 2\n",
      "2022-04-17 00:32:25, INFO: Applying network cleanup 1 lanes 1 e part 2\n",
      "2022-04-17 00:32:25, INFO: Applying Project to Roadway Network: network cleanup 1 lanes 1 e part 2\n",
      "2022-04-17 00:32:25, INFO: Applying Project to Roadway Network: network cleanup 1 lanes 1 e part 2\n"
     ]
    },
    {
     "name": "stderr",
     "output_type": "stream",
     "text": [
      "C:\\Users\\wangs1\\AppData\\Local\\Continuum\\anaconda3\\envs\\lasso_wsp\\lib\\site-packages\\geopandas\\geodataframe.py:1351: SettingWithCopyWarning: \n",
      "A value is trying to be set on a copy of a slice from a DataFrame.\n",
      "Try using .loc[row_indexer,col_indexer] = value instead\n",
      "\n",
      "See the caveats in the documentation: https://pandas.pydata.org/pandas-docs/stable/user_guide/indexing.html#returning-a-view-versus-a-copy\n",
      "  super().__setitem__(key, value)\n"
     ]
    },
    {
     "name": "stdout",
     "output_type": "stream",
     "text": [
      "2022-04-17 00:32:26, INFO: Applying network cleanup 1 lanes 1 e\n",
      "2022-04-17 00:32:26, INFO: Applying network cleanup 1 lanes 1 e\n",
      "2022-04-17 00:32:26, INFO: Applying network cleanup 1 lanes 1 e\n",
      "2022-04-17 00:32:26, INFO: Applying network cleanup 1 lanes 1 e\n",
      "2022-04-17 00:32:26, INFO: Applying Project to Roadway Network: network cleanup 1 lanes 1 e\n",
      "2022-04-17 00:32:26, INFO: Applying Project to Roadway Network: network cleanup 1 lanes 1 e\n"
     ]
    },
    {
     "name": "stderr",
     "output_type": "stream",
     "text": [
      "C:\\Users\\wangs1\\AppData\\Local\\Continuum\\anaconda3\\envs\\lasso_wsp\\lib\\site-packages\\geopandas\\geodataframe.py:1351: SettingWithCopyWarning: \n",
      "A value is trying to be set on a copy of a slice from a DataFrame.\n",
      "Try using .loc[row_indexer,col_indexer] = value instead\n",
      "\n",
      "See the caveats in the documentation: https://pandas.pydata.org/pandas-docs/stable/user_guide/indexing.html#returning-a-view-versus-a-copy\n",
      "  super().__setitem__(key, value)\n"
     ]
    },
    {
     "name": "stdout",
     "output_type": "stream",
     "text": [
      "2022-04-17 00:32:38, INFO: Applying network cleanup 1 lanes 1 d part 2\n",
      "2022-04-17 00:32:38, INFO: Applying network cleanup 1 lanes 1 d part 2\n",
      "2022-04-17 00:32:38, INFO: Applying network cleanup 1 lanes 1 d part 2\n",
      "2022-04-17 00:32:38, INFO: Applying network cleanup 1 lanes 1 d part 2\n",
      "2022-04-17 00:32:38, INFO: Applying Project to Roadway Network: network cleanup 1 lanes 1 d part 2\n",
      "2022-04-17 00:32:38, INFO: Applying Project to Roadway Network: network cleanup 1 lanes 1 d part 2\n"
     ]
    },
    {
     "name": "stderr",
     "output_type": "stream",
     "text": [
      "C:\\Users\\wangs1\\AppData\\Local\\Continuum\\anaconda3\\envs\\lasso_wsp\\lib\\site-packages\\geopandas\\geodataframe.py:1351: SettingWithCopyWarning: \n",
      "A value is trying to be set on a copy of a slice from a DataFrame.\n",
      "Try using .loc[row_indexer,col_indexer] = value instead\n",
      "\n",
      "See the caveats in the documentation: https://pandas.pydata.org/pandas-docs/stable/user_guide/indexing.html#returning-a-view-versus-a-copy\n",
      "  super().__setitem__(key, value)\n"
     ]
    },
    {
     "name": "stdout",
     "output_type": "stream",
     "text": [
      "2022-04-17 00:32:41, INFO: Applying network cleanup 1 lanes 1 d\n",
      "2022-04-17 00:32:41, INFO: Applying network cleanup 1 lanes 1 d\n",
      "2022-04-17 00:32:41, INFO: Applying network cleanup 1 lanes 1 d\n",
      "2022-04-17 00:32:41, INFO: Applying network cleanup 1 lanes 1 d\n",
      "2022-04-17 00:32:41, INFO: Applying Project to Roadway Network: network cleanup 1 lanes 1 d\n",
      "2022-04-17 00:32:41, INFO: Applying Project to Roadway Network: network cleanup 1 lanes 1 d\n"
     ]
    },
    {
     "name": "stderr",
     "output_type": "stream",
     "text": [
      "C:\\Users\\wangs1\\AppData\\Local\\Continuum\\anaconda3\\envs\\lasso_wsp\\lib\\site-packages\\geopandas\\geodataframe.py:1351: SettingWithCopyWarning: \n",
      "A value is trying to be set on a copy of a slice from a DataFrame.\n",
      "Try using .loc[row_indexer,col_indexer] = value instead\n",
      "\n",
      "See the caveats in the documentation: https://pandas.pydata.org/pandas-docs/stable/user_guide/indexing.html#returning-a-view-versus-a-copy\n",
      "  super().__setitem__(key, value)\n"
     ]
    },
    {
     "name": "stdout",
     "output_type": "stream",
     "text": [
      "2022-04-17 00:32:53, INFO: Applying network cleanup 1 lanes 1 c part 2\n",
      "2022-04-17 00:32:53, INFO: Applying network cleanup 1 lanes 1 c part 2\n",
      "2022-04-17 00:32:53, INFO: Applying network cleanup 1 lanes 1 c part 2\n",
      "2022-04-17 00:32:53, INFO: Applying network cleanup 1 lanes 1 c part 2\n",
      "2022-04-17 00:32:53, INFO: Applying Project to Roadway Network: network cleanup 1 lanes 1 c part 2\n",
      "2022-04-17 00:32:53, INFO: Applying Project to Roadway Network: network cleanup 1 lanes 1 c part 2\n"
     ]
    },
    {
     "name": "stderr",
     "output_type": "stream",
     "text": [
      "C:\\Users\\wangs1\\AppData\\Local\\Continuum\\anaconda3\\envs\\lasso_wsp\\lib\\site-packages\\geopandas\\geodataframe.py:1351: SettingWithCopyWarning: \n",
      "A value is trying to be set on a copy of a slice from a DataFrame.\n",
      "Try using .loc[row_indexer,col_indexer] = value instead\n",
      "\n",
      "See the caveats in the documentation: https://pandas.pydata.org/pandas-docs/stable/user_guide/indexing.html#returning-a-view-versus-a-copy\n",
      "  super().__setitem__(key, value)\n"
     ]
    },
    {
     "name": "stdout",
     "output_type": "stream",
     "text": [
      "2022-04-17 00:32:54, INFO: Applying network cleanup 1 lanes 1 c\n",
      "2022-04-17 00:32:54, INFO: Applying network cleanup 1 lanes 1 c\n",
      "2022-04-17 00:32:54, INFO: Applying network cleanup 1 lanes 1 c\n",
      "2022-04-17 00:32:54, INFO: Applying network cleanup 1 lanes 1 c\n",
      "2022-04-17 00:32:54, INFO: Applying Project to Roadway Network: network cleanup 1 lanes 1 c\n",
      "2022-04-17 00:32:54, INFO: Applying Project to Roadway Network: network cleanup 1 lanes 1 c\n"
     ]
    },
    {
     "name": "stderr",
     "output_type": "stream",
     "text": [
      "C:\\Users\\wangs1\\AppData\\Local\\Continuum\\anaconda3\\envs\\lasso_wsp\\lib\\site-packages\\geopandas\\geodataframe.py:1351: SettingWithCopyWarning: \n",
      "A value is trying to be set on a copy of a slice from a DataFrame.\n",
      "Try using .loc[row_indexer,col_indexer] = value instead\n",
      "\n",
      "See the caveats in the documentation: https://pandas.pydata.org/pandas-docs/stable/user_guide/indexing.html#returning-a-view-versus-a-copy\n",
      "  super().__setitem__(key, value)\n"
     ]
    },
    {
     "name": "stdout",
     "output_type": "stream",
     "text": [
      "2022-04-17 00:33:06, INFO: Applying network cleanup 1 lanes 1 b part 2\n",
      "2022-04-17 00:33:06, INFO: Applying network cleanup 1 lanes 1 b part 2\n",
      "2022-04-17 00:33:06, INFO: Applying network cleanup 1 lanes 1 b part 2\n",
      "2022-04-17 00:33:06, INFO: Applying network cleanup 1 lanes 1 b part 2\n",
      "2022-04-17 00:33:06, INFO: Applying Project to Roadway Network: network cleanup 1 lanes 1 b part 2\n",
      "2022-04-17 00:33:06, INFO: Applying Project to Roadway Network: network cleanup 1 lanes 1 b part 2\n"
     ]
    },
    {
     "name": "stderr",
     "output_type": "stream",
     "text": [
      "C:\\Users\\wangs1\\AppData\\Local\\Continuum\\anaconda3\\envs\\lasso_wsp\\lib\\site-packages\\geopandas\\geodataframe.py:1351: SettingWithCopyWarning: \n",
      "A value is trying to be set on a copy of a slice from a DataFrame.\n",
      "Try using .loc[row_indexer,col_indexer] = value instead\n",
      "\n",
      "See the caveats in the documentation: https://pandas.pydata.org/pandas-docs/stable/user_guide/indexing.html#returning-a-view-versus-a-copy\n",
      "  super().__setitem__(key, value)\n"
     ]
    },
    {
     "name": "stdout",
     "output_type": "stream",
     "text": [
      "2022-04-17 00:33:09, INFO: Applying network cleanup 1 lanes 1 b\n",
      "2022-04-17 00:33:09, INFO: Applying network cleanup 1 lanes 1 b\n",
      "2022-04-17 00:33:09, INFO: Applying network cleanup 1 lanes 1 b\n",
      "2022-04-17 00:33:09, INFO: Applying network cleanup 1 lanes 1 b\n",
      "2022-04-17 00:33:09, INFO: Applying Project to Roadway Network: network cleanup 1 lanes 1 b\n",
      "2022-04-17 00:33:09, INFO: Applying Project to Roadway Network: network cleanup 1 lanes 1 b\n"
     ]
    },
    {
     "name": "stderr",
     "output_type": "stream",
     "text": [
      "C:\\Users\\wangs1\\AppData\\Local\\Continuum\\anaconda3\\envs\\lasso_wsp\\lib\\site-packages\\geopandas\\geodataframe.py:1351: SettingWithCopyWarning: \n",
      "A value is trying to be set on a copy of a slice from a DataFrame.\n",
      "Try using .loc[row_indexer,col_indexer] = value instead\n",
      "\n",
      "See the caveats in the documentation: https://pandas.pydata.org/pandas-docs/stable/user_guide/indexing.html#returning-a-view-versus-a-copy\n",
      "  super().__setitem__(key, value)\n"
     ]
    },
    {
     "name": "stdout",
     "output_type": "stream",
     "text": [
      "2022-04-17 00:33:21, INFO: Applying network cleanup 1 lanes 1 a part2\n",
      "2022-04-17 00:33:21, INFO: Applying network cleanup 1 lanes 1 a part2\n",
      "2022-04-17 00:33:21, INFO: Applying network cleanup 1 lanes 1 a part2\n",
      "2022-04-17 00:33:21, INFO: Applying network cleanup 1 lanes 1 a part2\n",
      "2022-04-17 00:33:21, INFO: Applying Project to Roadway Network: network cleanup 1 lanes 1 a part2\n",
      "2022-04-17 00:33:21, INFO: Applying Project to Roadway Network: network cleanup 1 lanes 1 a part2\n"
     ]
    },
    {
     "name": "stderr",
     "output_type": "stream",
     "text": [
      "C:\\Users\\wangs1\\AppData\\Local\\Continuum\\anaconda3\\envs\\lasso_wsp\\lib\\site-packages\\geopandas\\geodataframe.py:1351: SettingWithCopyWarning: \n",
      "A value is trying to be set on a copy of a slice from a DataFrame.\n",
      "Try using .loc[row_indexer,col_indexer] = value instead\n",
      "\n",
      "See the caveats in the documentation: https://pandas.pydata.org/pandas-docs/stable/user_guide/indexing.html#returning-a-view-versus-a-copy\n",
      "  super().__setitem__(key, value)\n"
     ]
    },
    {
     "name": "stdout",
     "output_type": "stream",
     "text": [
      "2022-04-17 00:33:25, INFO: Applying network cleanup 1 lanes 1 a\n",
      "2022-04-17 00:33:25, INFO: Applying network cleanup 1 lanes 1 a\n",
      "2022-04-17 00:33:25, INFO: Applying network cleanup 1 lanes 1 a\n",
      "2022-04-17 00:33:25, INFO: Applying network cleanup 1 lanes 1 a\n",
      "2022-04-17 00:33:25, INFO: Applying Project to Roadway Network: network cleanup 1 lanes 1 a\n",
      "2022-04-17 00:33:25, INFO: Applying Project to Roadway Network: network cleanup 1 lanes 1 a\n"
     ]
    },
    {
     "name": "stderr",
     "output_type": "stream",
     "text": [
      "C:\\Users\\wangs1\\AppData\\Local\\Continuum\\anaconda3\\envs\\lasso_wsp\\lib\\site-packages\\geopandas\\geodataframe.py:1351: SettingWithCopyWarning: \n",
      "A value is trying to be set on a copy of a slice from a DataFrame.\n",
      "Try using .loc[row_indexer,col_indexer] = value instead\n",
      "\n",
      "See the caveats in the documentation: https://pandas.pydata.org/pandas-docs/stable/user_guide/indexing.html#returning-a-view-versus-a-copy\n",
      "  super().__setitem__(key, value)\n"
     ]
    },
    {
     "name": "stdout",
     "output_type": "stream",
     "text": [
      "2022-04-17 00:33:36, INFO: Applying Year 2015 Add centroid connector at External Stations\n",
      "2022-04-17 00:33:36, INFO: Applying Year 2015 Add centroid connector at External Stations\n",
      "2022-04-17 00:33:36, INFO: Applying Year 2015 Add centroid connector at External Stations\n",
      "2022-04-17 00:33:36, INFO: Applying Year 2015 Add centroid connector at External Stations\n",
      "2022-04-17 00:33:36, INFO: Applying Project to Roadway Network: Year 2015 Add centroid connector at External Stations\n",
      "2022-04-17 00:33:36, INFO: Applying Project to Roadway Network: Year 2015 Add centroid connector at External Stations\n"
     ]
    },
    {
     "name": "stderr",
     "output_type": "stream",
     "text": [
      "C:\\Users\\wangs1\\AppData\\Local\\Continuum\\anaconda3\\envs\\lasso_wsp\\lib\\site-packages\\geopandas\\geodataframe.py:1351: SettingWithCopyWarning: \n",
      "A value is trying to be set on a copy of a slice from a DataFrame.\n",
      "Try using .loc[row_indexer,col_indexer] = value instead\n",
      "\n",
      "See the caveats in the documentation: https://pandas.pydata.org/pandas-docs/stable/user_guide/indexing.html#returning-a-view-versus-a-copy\n",
      "  super().__setitem__(key, value)\n",
      "C:\\Users\\wangs1\\AppData\\Local\\Continuum\\anaconda3\\envs\\lasso_wsp\\lib\\site-packages\\pandas\\core\\dtypes\\cast.py:118: ShapelyDeprecationWarning: The array interface is deprecated and will no longer work in Shapely 2.0. Convert the '.coords' to a numpy array instead.\n",
      "  arr = construct_1d_object_array_from_listlike(values)\n",
      "C:\\Users\\wangs1\\AppData\\Local\\Continuum\\anaconda3\\envs\\lasso_wsp\\lib\\site-packages\\pandas\\core\\dtypes\\cast.py:118: ShapelyDeprecationWarning: The array interface is deprecated and will no longer work in Shapely 2.0. Convert the '.coords' to a numpy array instead.\n",
      "  arr = construct_1d_object_array_from_listlike(values)\n"
     ]
    },
    {
     "name": "stdout",
     "output_type": "stream",
     "text": [
      "2022-04-17 00:37:20, INFO: Applying network cleanup 1 asgngrp 7\n",
      "2022-04-17 00:37:20, INFO: Applying network cleanup 1 asgngrp 7\n",
      "2022-04-17 00:37:20, INFO: Applying network cleanup 1 asgngrp 7\n",
      "2022-04-17 00:37:20, INFO: Applying network cleanup 1 asgngrp 7\n",
      "2022-04-17 00:37:20, INFO: Applying Project to Roadway Network: network cleanup 1 asgngrp 7\n",
      "2022-04-17 00:37:20, INFO: Applying Project to Roadway Network: network cleanup 1 asgngrp 7\n",
      "2022-04-17 00:37:20, INFO: Applying network cleanup 1 asgngrp 6\n",
      "2022-04-17 00:37:20, INFO: Applying network cleanup 1 asgngrp 6\n",
      "2022-04-17 00:37:20, INFO: Applying network cleanup 1 asgngrp 6\n",
      "2022-04-17 00:37:20, INFO: Applying network cleanup 1 asgngrp 6\n",
      "2022-04-17 00:37:20, INFO: Applying Project to Roadway Network: network cleanup 1 asgngrp 6\n",
      "2022-04-17 00:37:20, INFO: Applying Project to Roadway Network: network cleanup 1 asgngrp 6\n"
     ]
    },
    {
     "name": "stderr",
     "output_type": "stream",
     "text": [
      "C:\\Users\\wangs1\\AppData\\Local\\Continuum\\anaconda3\\envs\\lasso_wsp\\lib\\site-packages\\geopandas\\geodataframe.py:1351: SettingWithCopyWarning: \n",
      "A value is trying to be set on a copy of a slice from a DataFrame.\n",
      "Try using .loc[row_indexer,col_indexer] = value instead\n",
      "\n",
      "See the caveats in the documentation: https://pandas.pydata.org/pandas-docs/stable/user_guide/indexing.html#returning-a-view-versus-a-copy\n",
      "  super().__setitem__(key, value)\n"
     ]
    },
    {
     "name": "stdout",
     "output_type": "stream",
     "text": [
      "2022-04-17 00:37:21, INFO: Applying network cleanup 1 asgngrp 50\n",
      "2022-04-17 00:37:21, INFO: Applying network cleanup 1 asgngrp 50\n",
      "2022-04-17 00:37:21, INFO: Applying network cleanup 1 asgngrp 50\n",
      "2022-04-17 00:37:21, INFO: Applying network cleanup 1 asgngrp 50\n",
      "2022-04-17 00:37:21, INFO: Applying Project to Roadway Network: network cleanup 1 asgngrp 50\n",
      "2022-04-17 00:37:21, INFO: Applying Project to Roadway Network: network cleanup 1 asgngrp 50\n",
      "2022-04-17 00:37:21, INFO: Applying network cleanup 1 asgngrp 4\n",
      "2022-04-17 00:37:21, INFO: Applying network cleanup 1 asgngrp 4\n",
      "2022-04-17 00:37:21, INFO: Applying network cleanup 1 asgngrp 4\n",
      "2022-04-17 00:37:21, INFO: Applying network cleanup 1 asgngrp 4\n",
      "2022-04-17 00:37:21, INFO: Applying Project to Roadway Network: network cleanup 1 asgngrp 4\n",
      "2022-04-17 00:37:21, INFO: Applying Project to Roadway Network: network cleanup 1 asgngrp 4\n"
     ]
    },
    {
     "name": "stderr",
     "output_type": "stream",
     "text": [
      "C:\\Users\\wangs1\\AppData\\Local\\Continuum\\anaconda3\\envs\\lasso_wsp\\lib\\site-packages\\geopandas\\geodataframe.py:1351: SettingWithCopyWarning: \n",
      "A value is trying to be set on a copy of a slice from a DataFrame.\n",
      "Try using .loc[row_indexer,col_indexer] = value instead\n",
      "\n",
      "See the caveats in the documentation: https://pandas.pydata.org/pandas-docs/stable/user_guide/indexing.html#returning-a-view-versus-a-copy\n",
      "  super().__setitem__(key, value)\n",
      "C:\\Users\\wangs1\\AppData\\Local\\Continuum\\anaconda3\\envs\\lasso_wsp\\lib\\site-packages\\geopandas\\geodataframe.py:1351: SettingWithCopyWarning: \n",
      "A value is trying to be set on a copy of a slice from a DataFrame.\n",
      "Try using .loc[row_indexer,col_indexer] = value instead\n",
      "\n",
      "See the caveats in the documentation: https://pandas.pydata.org/pandas-docs/stable/user_guide/indexing.html#returning-a-view-versus-a-copy\n",
      "  super().__setitem__(key, value)\n"
     ]
    },
    {
     "name": "stdout",
     "output_type": "stream",
     "text": [
      "2022-04-17 00:37:22, INFO: Applying network cleanup 1 asgngrp 2\n",
      "2022-04-17 00:37:22, INFO: Applying network cleanup 1 asgngrp 2\n",
      "2022-04-17 00:37:22, INFO: Applying network cleanup 1 asgngrp 2\n",
      "2022-04-17 00:37:22, INFO: Applying network cleanup 1 asgngrp 2\n",
      "2022-04-17 00:37:22, INFO: Applying Project to Roadway Network: network cleanup 1 asgngrp 2\n",
      "2022-04-17 00:37:22, INFO: Applying Project to Roadway Network: network cleanup 1 asgngrp 2\n"
     ]
    },
    {
     "name": "stderr",
     "output_type": "stream",
     "text": [
      "C:\\Users\\wangs1\\AppData\\Local\\Continuum\\anaconda3\\envs\\lasso_wsp\\lib\\site-packages\\geopandas\\geodataframe.py:1351: SettingWithCopyWarning: \n",
      "A value is trying to be set on a copy of a slice from a DataFrame.\n",
      "Try using .loc[row_indexer,col_indexer] = value instead\n",
      "\n",
      "See the caveats in the documentation: https://pandas.pydata.org/pandas-docs/stable/user_guide/indexing.html#returning-a-view-versus-a-copy\n",
      "  super().__setitem__(key, value)\n"
     ]
    },
    {
     "name": "stdout",
     "output_type": "stream",
     "text": [
      "2022-04-17 00:37:22, INFO: Applying network cleanup 1 asgngrp 15\n",
      "2022-04-17 00:37:22, INFO: Applying network cleanup 1 asgngrp 15\n",
      "2022-04-17 00:37:22, INFO: Applying network cleanup 1 asgngrp 15\n",
      "2022-04-17 00:37:22, INFO: Applying network cleanup 1 asgngrp 15\n",
      "2022-04-17 00:37:22, INFO: Applying Project to Roadway Network: network cleanup 1 asgngrp 15\n",
      "2022-04-17 00:37:22, INFO: Applying Project to Roadway Network: network cleanup 1 asgngrp 15\n"
     ]
    },
    {
     "name": "stderr",
     "output_type": "stream",
     "text": [
      "C:\\Users\\wangs1\\AppData\\Local\\Continuum\\anaconda3\\envs\\lasso_wsp\\lib\\site-packages\\geopandas\\geodataframe.py:1351: SettingWithCopyWarning: \n",
      "A value is trying to be set on a copy of a slice from a DataFrame.\n",
      "Try using .loc[row_indexer,col_indexer] = value instead\n",
      "\n",
      "See the caveats in the documentation: https://pandas.pydata.org/pandas-docs/stable/user_guide/indexing.html#returning-a-view-versus-a-copy\n",
      "  super().__setitem__(key, value)\n"
     ]
    },
    {
     "name": "stdout",
     "output_type": "stream",
     "text": [
      "2022-04-17 00:37:24, INFO: Applying network cleanup 1 asgngrp 1\n",
      "2022-04-17 00:37:24, INFO: Applying network cleanup 1 asgngrp 1\n",
      "2022-04-17 00:37:24, INFO: Applying network cleanup 1 asgngrp 1\n",
      "2022-04-17 00:37:24, INFO: Applying network cleanup 1 asgngrp 1\n",
      "2022-04-17 00:37:24, INFO: Applying Project to Roadway Network: network cleanup 1 asgngrp 1\n",
      "2022-04-17 00:37:24, INFO: Applying Project to Roadway Network: network cleanup 1 asgngrp 1\n"
     ]
    },
    {
     "name": "stderr",
     "output_type": "stream",
     "text": [
      "C:\\Users\\wangs1\\AppData\\Local\\Continuum\\anaconda3\\envs\\lasso_wsp\\lib\\site-packages\\geopandas\\geodataframe.py:1351: SettingWithCopyWarning: \n",
      "A value is trying to be set on a copy of a slice from a DataFrame.\n",
      "Try using .loc[row_indexer,col_indexer] = value instead\n",
      "\n",
      "See the caveats in the documentation: https://pandas.pydata.org/pandas-docs/stable/user_guide/indexing.html#returning-a-view-versus-a-copy\n",
      "  super().__setitem__(key, value)\n",
      "C:\\Users\\wangs1\\AppData\\Local\\Continuum\\anaconda3\\envs\\lasso_wsp\\lib\\site-packages\\geopandas\\geodataframe.py:1351: SettingWithCopyWarning: \n",
      "A value is trying to be set on a copy of a slice from a DataFrame.\n",
      "Try using .loc[row_indexer,col_indexer] = value instead\n",
      "\n",
      "See the caveats in the documentation: https://pandas.pydata.org/pandas-docs/stable/user_guide/indexing.html#returning-a-view-versus-a-copy\n",
      "  super().__setitem__(key, value)\n"
     ]
    }
   ],
   "source": [
    "version_01_scenario.apply_all_projects()"
   ]
  },
  {
   "cell_type": "code",
   "execution_count": 24,
   "id": "094b04cf",
   "metadata": {},
   "outputs": [
    {
     "data": {
      "text/plain": [
       "['correct year 2018 assignment group and roadway class',\n",
       " 'correct year 2018 assignment group',\n",
       " 'network cleanup remove link',\n",
       " 'Manual Changes to Assignment Group and Roadway Class',\n",
       " 'network cleanup 1 lanes 7',\n",
       " 'network cleanup 1 lanes 6',\n",
       " 'network cleanup 1 lanes 5',\n",
       " 'network cleanup 1 lanes 4',\n",
       " 'network cleanup 1 lanes 3',\n",
       " 'network cleanup 1 lanes 2e',\n",
       " 'network cleanup 1 lanes 2d part 2',\n",
       " 'network cleanup 1 lanes 2d',\n",
       " 'network cleanup 1 lanes 2c part 2',\n",
       " 'network cleanup 1 lanes 2c',\n",
       " 'network cleanup 1 lanes 2b',\n",
       " 'network cleanup 1 lanes 2a',\n",
       " 'network cleanup 1 lanes 1 h',\n",
       " 'network cleanup 1 lanes 1 g',\n",
       " 'network cleanup 1 lanes 1 f part 2',\n",
       " 'network cleanup 1 lanes 1 f',\n",
       " 'network cleanup 1 lanes 1 e part 2',\n",
       " 'network cleanup 1 lanes 1 e',\n",
       " 'network cleanup 1 lanes 1 d part 2',\n",
       " 'network cleanup 1 lanes 1 d',\n",
       " 'network cleanup 1 lanes 1 c part 2',\n",
       " 'network cleanup 1 lanes 1 c',\n",
       " 'network cleanup 1 lanes 1 b part 2',\n",
       " 'network cleanup 1 lanes 1 b',\n",
       " 'network cleanup 1 lanes 1 a part2',\n",
       " 'network cleanup 1 lanes 1 a',\n",
       " 'Year 2015 Add centroid connector at External Stations',\n",
       " 'network cleanup 1 asgngrp 7',\n",
       " 'network cleanup 1 asgngrp 6',\n",
       " 'network cleanup 1 asgngrp 50',\n",
       " 'network cleanup 1 asgngrp 4',\n",
       " 'network cleanup 1 asgngrp 2',\n",
       " 'network cleanup 1 asgngrp 15',\n",
       " 'network cleanup 1 asgngrp 1']"
      ]
     },
     "execution_count": 24,
     "metadata": {},
     "output_type": "execute_result"
    }
   ],
   "source": [
    "version_01_scenario.applied_projects"
   ]
  },
  {
   "cell_type": "code",
   "execution_count": 25,
   "id": "69e8a53c",
   "metadata": {},
   "outputs": [
    {
     "data": {
      "text/plain": [
       "(1061718, 50)"
      ]
     },
     "execution_count": 25,
     "metadata": {},
     "output_type": "execute_result"
    }
   ],
   "source": [
    "version_01_scenario.road_net.links_df.shape"
   ]
  },
  {
   "cell_type": "code",
   "execution_count": 26,
   "id": "bb58056e",
   "metadata": {},
   "outputs": [
    {
     "data": {
      "text/plain": [
       "1061718"
      ]
     },
     "execution_count": 26,
     "metadata": {},
     "output_type": "execute_result"
    }
   ],
   "source": [
    "version_01_scenario.road_net.links_df.model_link_id.nunique()"
   ]
  },
  {
   "cell_type": "code",
   "execution_count": 27,
   "id": "de539f30",
   "metadata": {},
   "outputs": [
    {
     "data": {
      "text/plain": [
       "(414253, 11)"
      ]
     },
     "execution_count": 27,
     "metadata": {},
     "output_type": "execute_result"
    }
   ],
   "source": [
    "version_01_scenario.road_net.nodes_df.shape"
   ]
  },
  {
   "cell_type": "code",
   "execution_count": 28,
   "id": "21ae8575",
   "metadata": {},
   "outputs": [
    {
     "data": {
      "text/plain": [
       "414253"
      ]
     },
     "execution_count": 28,
     "metadata": {},
     "output_type": "execute_result"
    }
   ],
   "source": [
    "version_01_scenario.road_net.nodes_df.model_node_id.nunique()"
   ]
  },
  {
   "cell_type": "code",
   "execution_count": 29,
   "id": "d2b1c86a",
   "metadata": {},
   "outputs": [],
   "source": [
    "version_01_scenario.road_net.links_df['access'] = version_01_scenario.road_net.links_df['access'].fillna('')\n",
    "version_01_scenario.road_net.links_df['access'] = version_01_scenario.road_net.links_df['access'].apply(\n",
    "    lambda x: util.shorten_name(x)\n",
    ")"
   ]
  },
  {
   "cell_type": "code",
   "execution_count": 30,
   "id": "2ef9bd83",
   "metadata": {},
   "outputs": [],
   "source": [
    "version_01_scenario.road_net.links_df['name'] = version_01_scenario.road_net.links_df['name'].fillna('')\n",
    "version_01_scenario.road_net.links_df['name'] = version_01_scenario.road_net.links_df['name'].apply(\n",
    "    lambda x: util.shorten_name(x)\n",
    ")"
   ]
  },
  {
   "cell_type": "markdown",
   "id": "0f6bc0e7",
   "metadata": {},
   "source": [
    "# Save version 01 standard networks"
   ]
  },
  {
   "cell_type": "code",
   "execution_count": 32,
   "id": "57254919",
   "metadata": {},
   "outputs": [],
   "source": [
    "version_01_scenario.road_net.write(path = os.path.join(output_dir, 'standard_networks'))"
   ]
  },
  {
   "cell_type": "markdown",
   "id": "0f4fbe8a",
   "metadata": {},
   "source": [
    "# Save version 01 standard network as pickle file"
   ]
  },
  {
   "cell_type": "code",
   "execution_count": 33,
   "id": "c60b8d5b",
   "metadata": {},
   "outputs": [],
   "source": [
    "working_scenario_filename = os.path.join(output_dir, 'version_01_standard_network.pickle')\n",
    "pickle.dump(version_01_scenario, open(working_scenario_filename, 'wb'))"
   ]
  },
  {
   "cell_type": "markdown",
   "id": "99ddbde4",
   "metadata": {},
   "source": [
    "# Make Travel Model Network"
   ]
  },
  {
   "cell_type": "code",
   "execution_count": 34,
   "id": "1fe97872",
   "metadata": {},
   "outputs": [
    {
     "name": "stdout",
     "output_type": "stream",
     "text": [
      "2022-04-17 00:52:12, INFO: Lasso base directory set as: Z:/Data/Users/Sijia/Met_Council/github/client_met_council_wrangler_utilities\n",
      "2022-04-17 00:52:12, INFO: Lasso base directory set as: Z:/Data/Users/Sijia/Met_Council/github/client_met_council_wrangler_utilities\n"
     ]
    }
   ],
   "source": [
    "m_net = ModelRoadwayNetwork.from_RoadwayNetwork(\n",
    "    roadway_network_object = version_01_scenario.road_net, \n",
    "    parameters = parameters\n",
    ")"
   ]
  },
  {
   "cell_type": "markdown",
   "id": "ec37b5db",
   "metadata": {},
   "source": [
    "### Add centroid and centroid connectors"
   ]
  },
  {
   "cell_type": "code",
   "execution_count": 35,
   "id": "83f47973",
   "metadata": {},
   "outputs": [
    {
     "name": "stdout",
     "output_type": "stream",
     "text": [
      "2022-04-17 00:52:12, INFO: Adding centroid and centroid connector to standard network\n",
      "2022-04-17 00:52:12, INFO: Adding centroid and centroid connector to standard network\n",
      "2022-04-17 00:52:12, INFO: Lasso base directory set as: Z:/Data/Users/Sijia/Met_Council/github/client_met_council_wrangler_utilities\n",
      "2022-04-17 00:52:12, INFO: Lasso base directory set as: Z:/Data/Users/Sijia/Met_Council/github/client_met_council_wrangler_utilities\n",
      "2022-04-17 00:52:16, INFO: Finished adding centroid and centroid connectors\n",
      "2022-04-17 00:52:16, INFO: Finished adding centroid and centroid connectors\n"
     ]
    }
   ],
   "source": [
    "m_net = metcouncil.add_centroid_and_centroid_connector(\n",
    "    roadway_network = m_net,\n",
    "    parameters = parameters,\n",
    "    centroid_file = os.path.join(input_dir, 'standard_networks', 'centroid_node.pickle'),\n",
    "    centroid_connector_link_file = os.path.join(input_dir, 'standard_networks', 'cc_link.pickle'),\n",
    "    centroid_connector_shape_file = os.path.join(input_dir, 'standard_networks', 'cc_shape.pickle'),\n",
    ")"
   ]
  },
  {
   "cell_type": "markdown",
   "id": "89e76a7e",
   "metadata": {},
   "source": [
    "### Add Rail access and egress links"
   ]
  },
  {
   "cell_type": "code",
   "execution_count": 36,
   "id": "548f8261",
   "metadata": {},
   "outputs": [
    {
     "name": "stdout",
     "output_type": "stream",
     "text": [
      "2022-04-17 00:52:16, INFO: Creating rail access and egress connection links\n",
      "2022-04-17 00:52:16, INFO: Creating rail access and egress connection links\n"
     ]
    },
    {
     "name": "stderr",
     "output_type": "stream",
     "text": [
      "C:\\Users\\wangs1\\AppData\\Local\\Continuum\\anaconda3\\envs\\lasso_wsp\\lib\\site-packages\\pandas\\core\\dtypes\\cast.py:118: ShapelyDeprecationWarning: The array interface is deprecated and will no longer work in Shapely 2.0. Convert the '.coords' to a numpy array instead.\n",
      "  arr = construct_1d_object_array_from_listlike(values)\n"
     ]
    }
   ],
   "source": [
    "m_net = metcouncil.add_rail_ae_connections(\n",
    "    m_net,\n",
    "    parameters\n",
    ")"
   ]
  },
  {
   "cell_type": "code",
   "execution_count": 37,
   "id": "7aee13bf",
   "metadata": {},
   "outputs": [
    {
     "name": "stdout",
     "output_type": "stream",
     "text": [
      "2022-04-17 00:52:37, INFO: Renaming roadway attributes to be consistent with what metcouncil's model is expecting\n",
      "2022-04-17 00:52:37, INFO: Renaming roadway attributes to be consistent with what metcouncil's model is expecting\n",
      "2022-04-17 00:52:37, INFO: Didn't detect managed lanes in network.\n",
      "2022-04-17 00:52:37, INFO: Didn't detect managed lanes in network.\n",
      "2022-04-17 00:52:37, INFO: Creating calculated roadway variables.\n",
      "2022-04-17 00:52:37, INFO: Creating calculated roadway variables.\n",
      "2022-04-17 00:52:37, INFO: Area Type Variable 'area_type' already in network. Returning without overwriting.\n",
      "2022-04-17 00:52:37, INFO: Area Type Variable 'area_type' already in network. Returning without overwriting.\n",
      "2022-04-17 00:52:37, INFO: Overwriting existing County Variable 'county' already in network\n",
      "2022-04-17 00:52:37, INFO: Overwriting existing County Variable 'county' already in network\n",
      "2022-04-17 00:52:37, INFO: Adding roadway network variable for county using a spatial join with: Z:/Data/Users/Sijia/Met_Council/github/client_met_council_wrangler_utilities\\metcouncil_data\\county\\cb_2017_us_county_5m.shp\n",
      "2022-04-17 00:52:37, INFO: Adding roadway network variable for county using a spatial join with: Z:/Data/Users/Sijia/Met_Council/github/client_met_council_wrangler_utilities\\metcouncil_data\\county\\cb_2017_us_county_5m.shp\n"
     ]
    },
    {
     "name": "stderr",
     "output_type": "stream",
     "text": [
      "z:\\data\\users\\sijia\\met_council\\github\\client_met_council_wrangler_utilities\\lasso\\roadway.py:288: UserWarning: Geometry is in a geographic CRS. Results from 'centroid' are likely incorrect. Use 'GeoSeries.to_crs()' to re-project geometries to a projected CRS before this operation.\n",
      "\n",
      "  centroids_gdf[\"geometry\"] = centroids_gdf[\"geometry\"].centroid\n",
      "z:\\data\\users\\sijia\\met_council\\github\\client_met_council_wrangler_utilities\\lasso\\roadway.py:1225: FutureWarning: The `op` parameter is deprecated and will be removed in a future release. Please use the `predicate` parameter instead.\n",
      "  self.create_calculated_variables()\n",
      "z:\\data\\users\\sijia\\met_council\\github\\client_met_council_wrangler_utilities\\lasso\\roadway.py:292: UserWarning: CRS mismatch between the CRS of left geometries and the CRS of right geometries.\n",
      "Use `to_crs()` to reproject one of the input geometries to match the CRS of the other.\n",
      "\n",
      "Left CRS: EPSG:4326\n",
      "Right CRS: EPSG:4269\n",
      "\n",
      "  joined_gdf = gpd.sjoin(centroids_gdf, county_gdf, how=\"left\", op=\"intersects\")\n",
      "z:\\data\\users\\sijia\\met_council\\github\\client_met_council_wrangler_utilities\\lasso\\roadway.py:1225: FutureWarning: The `op` parameter is deprecated and will be removed in a future release. Please use the `predicate` parameter instead.\n",
      "  self.create_calculated_variables()\n"
     ]
    },
    {
     "name": "stdout",
     "output_type": "stream",
     "text": [
      "2022-04-17 00:55:35, INFO: Finished Calculating county variable: county\n",
      "2022-04-17 00:55:35, INFO: Finished Calculating county variable: county\n",
      "2022-04-17 00:55:40, INFO: Calculating MPO as roadway network variable: mpo\n",
      "2022-04-17 00:55:40, INFO: Calculating MPO as roadway network variable: mpo\n",
      "2022-04-17 00:55:40, INFO: Finished calculating MPO variable: mpo\n",
      "2022-04-17 00:55:40, INFO: Finished calculating MPO variable: mpo\n",
      "2022-04-17 00:55:40, INFO: Adding Counts\n",
      "2022-04-17 00:55:40, INFO: Adding Counts\n",
      "2022-04-17 00:55:40, INFO: Adding Variable AADT using Shared Streets Reference from Z:/Data/Users/Sijia/Met_Council/github/client_met_council_wrangler_utilities\\metcouncil_data\\count_mn\\mn_count_ShSt_API_match.csv\n",
      "2022-04-17 00:55:40, INFO: Adding Variable AADT using Shared Streets Reference from Z:/Data/Users/Sijia/Met_Council/github/client_met_council_wrangler_utilities\\metcouncil_data\\count_mn\\mn_count_ShSt_API_match.csv\n",
      "2022-04-17 00:55:58, INFO: Added variable: AADT using Shared Streets Reference\n",
      "2022-04-17 00:55:58, INFO: Added variable: AADT using Shared Streets Reference\n",
      "2022-04-17 00:55:58, INFO: Adding Variable AADT using Shared Streets Reference from Z:/Data/Users/Sijia/Met_Council/github/client_met_council_wrangler_utilities\\metcouncil_data\\Wisconsin_Lanes_Counts_Median\\wi_count_ShSt_API_match.csv\n",
      "2022-04-17 00:55:58, INFO: Adding Variable AADT using Shared Streets Reference from Z:/Data/Users/Sijia/Met_Council/github/client_met_council_wrangler_utilities\\metcouncil_data\\Wisconsin_Lanes_Counts_Median\\wi_count_ShSt_API_match.csv\n",
      "2022-04-17 00:56:16, INFO: Added variable: AADT using Shared Streets Reference\n",
      "2022-04-17 00:56:16, INFO: Added variable: AADT using Shared Streets Reference\n",
      "2022-04-17 00:56:16, INFO: Finished adding counts variable: AADT\n",
      "2022-04-17 00:56:16, INFO: Finished adding counts variable: AADT\n",
      "2022-04-17 00:56:16, INFO: Finished creating ML lanes variable: ML_lanes\n",
      "2022-04-17 00:56:16, INFO: Finished creating ML lanes variable: ML_lanes\n",
      "2022-04-17 00:56:16, INFO: Finished creating hov corridor variable: segment_id\n",
      "2022-04-17 00:56:16, INFO: Finished creating hov corridor variable: segment_id\n",
      "2022-04-17 00:56:16, INFO: Finished creating managed variable: managed\n",
      "2022-04-17 00:56:16, INFO: Finished creating managed variable: managed\n",
      "2022-04-17 00:57:06, INFO: Calculating distance for all links\n",
      "2022-04-17 00:57:06, INFO: Calculating distance for all links\n",
      "2022-04-17 00:57:13, INFO: Filling nan for network from network wrangler\n",
      "2022-04-17 00:57:13, INFO: Filling nan for network from network wrangler\n",
      "2022-04-17 00:57:33, INFO: Splitting variables by time period and category\n",
      "2022-04-17 00:57:33, INFO: Splitting variables by time period and category\n",
      "2022-04-17 00:57:33, WARNING: Specified variable to split: trn_priority not in network variables: Index(['shstReferenceId', 'id', 'shstGeometryId', 'fromIntersectionId',\n",
      "       'toIntersectionId', 'u', 'v', 'nodeIds', 'wayId', 'roadClass', 'oneWay',\n",
      "       'roundabout', 'link', 'oneway', 'ref', 'name', 'highway', 'service',\n",
      "       'width', 'maxspeed', 'access', 'junction', 'bridge', 'tunnel',\n",
      "       'landuse', 'area', 'key', 'forward', 'backReferenceId', 'metadata',\n",
      "       'source', 'roadway', 'drive_access', 'walk_access', 'bike_access',\n",
      "       'county', 'length', 'A', 'B', 'model_link_id', 'locationReferences',\n",
      "       'rail_only', 'geometry', 'bus_only', 'centroidconnect', 'lanes',\n",
      "       'assign_group', 'roadway_class', 'area_type', 'ramp_flag', 'mpo',\n",
      "       'AADT', 'count_AM', 'count_MD', 'count_PM', 'count_NT', 'count_daily',\n",
      "       'count_year', 'segment_id', 'managed', 'distance'],\n",
      "      dtype='object'). Returning 0.\n",
      "2022-04-17 00:57:33, WARNING: Specified variable to split: trn_priority not in network variables: Index(['shstReferenceId', 'id', 'shstGeometryId', 'fromIntersectionId',\n",
      "       'toIntersectionId', 'u', 'v', 'nodeIds', 'wayId', 'roadClass', 'oneWay',\n",
      "       'roundabout', 'link', 'oneway', 'ref', 'name', 'highway', 'service',\n",
      "       'width', 'maxspeed', 'access', 'junction', 'bridge', 'tunnel',\n",
      "       'landuse', 'area', 'key', 'forward', 'backReferenceId', 'metadata',\n",
      "       'source', 'roadway', 'drive_access', 'walk_access', 'bike_access',\n",
      "       'county', 'length', 'A', 'B', 'model_link_id', 'locationReferences',\n",
      "       'rail_only', 'geometry', 'bus_only', 'centroidconnect', 'lanes',\n",
      "       'assign_group', 'roadway_class', 'area_type', 'ramp_flag', 'mpo',\n",
      "       'AADT', 'count_AM', 'count_MD', 'count_PM', 'count_NT', 'count_daily',\n",
      "       'count_year', 'segment_id', 'managed', 'distance'],\n",
      "      dtype='object'). Returning 0.\n",
      "2022-04-17 00:57:33, WARNING: Specified variable to split: ttime_assert not in network variables: Index(['shstReferenceId', 'id', 'shstGeometryId', 'fromIntersectionId',\n",
      "       'toIntersectionId', 'u', 'v', 'nodeIds', 'wayId', 'roadClass', 'oneWay',\n",
      "       'roundabout', 'link', 'oneway', 'ref', 'name', 'highway', 'service',\n",
      "       'width', 'maxspeed', 'access', 'junction', 'bridge', 'tunnel',\n",
      "       'landuse', 'area', 'key', 'forward', 'backReferenceId', 'metadata',\n",
      "       'source', 'roadway', 'drive_access', 'walk_access', 'bike_access',\n",
      "       'county', 'length', 'A', 'B', 'model_link_id', 'locationReferences',\n",
      "       'rail_only', 'geometry', 'bus_only', 'centroidconnect', 'lanes',\n",
      "       'assign_group', 'roadway_class', 'area_type', 'ramp_flag', 'mpo',\n",
      "       'AADT', 'count_AM', 'count_MD', 'count_PM', 'count_NT', 'count_daily',\n",
      "       'count_year', 'segment_id', 'managed', 'distance', 'trn_priority_AM',\n",
      "       'trn_priority_MD', 'trn_priority_PM', 'trn_priority_NT'],\n",
      "      dtype='object'). Returning 0.\n",
      "2022-04-17 00:57:33, WARNING: Specified variable to split: ttime_assert not in network variables: Index(['shstReferenceId', 'id', 'shstGeometryId', 'fromIntersectionId',\n",
      "       'toIntersectionId', 'u', 'v', 'nodeIds', 'wayId', 'roadClass', 'oneWay',\n",
      "       'roundabout', 'link', 'oneway', 'ref', 'name', 'highway', 'service',\n",
      "       'width', 'maxspeed', 'access', 'junction', 'bridge', 'tunnel',\n",
      "       'landuse', 'area', 'key', 'forward', 'backReferenceId', 'metadata',\n",
      "       'source', 'roadway', 'drive_access', 'walk_access', 'bike_access',\n",
      "       'county', 'length', 'A', 'B', 'model_link_id', 'locationReferences',\n",
      "       'rail_only', 'geometry', 'bus_only', 'centroidconnect', 'lanes',\n",
      "       'assign_group', 'roadway_class', 'area_type', 'ramp_flag', 'mpo',\n",
      "       'AADT', 'count_AM', 'count_MD', 'count_PM', 'count_NT', 'count_daily',\n",
      "       'count_year', 'segment_id', 'managed', 'distance', 'trn_priority_AM',\n",
      "       'trn_priority_MD', 'trn_priority_PM', 'trn_priority_NT'],\n",
      "      dtype='object'). Returning 0.\n",
      "2022-04-17 00:57:36, WARNING: Specified variable to split: ML_lanes not in network variables: Index(['shstReferenceId', 'id', 'shstGeometryId', 'fromIntersectionId',\n",
      "       'toIntersectionId', 'u', 'v', 'nodeIds', 'wayId', 'roadClass', 'oneWay',\n",
      "       'roundabout', 'link', 'oneway', 'ref', 'name', 'highway', 'service',\n",
      "       'width', 'maxspeed', 'access', 'junction', 'bridge', 'tunnel',\n",
      "       'landuse', 'area', 'key', 'forward', 'backReferenceId', 'metadata',\n",
      "       'source', 'roadway', 'drive_access', 'walk_access', 'bike_access',\n",
      "       'county', 'length', 'A', 'B', 'model_link_id', 'locationReferences',\n",
      "       'rail_only', 'geometry', 'bus_only', 'centroidconnect', 'lanes',\n",
      "       'assign_group', 'roadway_class', 'area_type', 'ramp_flag', 'mpo',\n",
      "       'AADT', 'count_AM', 'count_MD', 'count_PM', 'count_NT', 'count_daily',\n",
      "       'count_year', 'segment_id', 'managed', 'distance', 'trn_priority_AM',\n",
      "       'trn_priority_MD', 'trn_priority_PM', 'trn_priority_NT',\n",
      "       'ttime_assert_AM', 'ttime_assert_MD', 'ttime_assert_PM',\n",
      "       'ttime_assert_NT', 'lanes_AM', 'lanes_MD', 'lanes_PM', 'lanes_NT'],\n",
      "      dtype='object'). Returning 0.\n",
      "2022-04-17 00:57:36, WARNING: Specified variable to split: ML_lanes not in network variables: Index(['shstReferenceId', 'id', 'shstGeometryId', 'fromIntersectionId',\n",
      "       'toIntersectionId', 'u', 'v', 'nodeIds', 'wayId', 'roadClass', 'oneWay',\n",
      "       'roundabout', 'link', 'oneway', 'ref', 'name', 'highway', 'service',\n",
      "       'width', 'maxspeed', 'access', 'junction', 'bridge', 'tunnel',\n",
      "       'landuse', 'area', 'key', 'forward', 'backReferenceId', 'metadata',\n",
      "       'source', 'roadway', 'drive_access', 'walk_access', 'bike_access',\n",
      "       'county', 'length', 'A', 'B', 'model_link_id', 'locationReferences',\n",
      "       'rail_only', 'geometry', 'bus_only', 'centroidconnect', 'lanes',\n",
      "       'assign_group', 'roadway_class', 'area_type', 'ramp_flag', 'mpo',\n",
      "       'AADT', 'count_AM', 'count_MD', 'count_PM', 'count_NT', 'count_daily',\n",
      "       'count_year', 'segment_id', 'managed', 'distance', 'trn_priority_AM',\n",
      "       'trn_priority_MD', 'trn_priority_PM', 'trn_priority_NT',\n",
      "       'ttime_assert_AM', 'ttime_assert_MD', 'ttime_assert_PM',\n",
      "       'ttime_assert_NT', 'lanes_AM', 'lanes_MD', 'lanes_PM', 'lanes_NT'],\n",
      "      dtype='object'). Returning 0.\n"
     ]
    },
    {
     "name": "stdout",
     "output_type": "stream",
     "text": [
      "2022-04-17 00:57:36, WARNING: Specified variable to split: price not in network variables: Index(['shstReferenceId', 'id', 'shstGeometryId', 'fromIntersectionId',\n",
      "       'toIntersectionId', 'u', 'v', 'nodeIds', 'wayId', 'roadClass', 'oneWay',\n",
      "       'roundabout', 'link', 'oneway', 'ref', 'name', 'highway', 'service',\n",
      "       'width', 'maxspeed', 'access', 'junction', 'bridge', 'tunnel',\n",
      "       'landuse', 'area', 'key', 'forward', 'backReferenceId', 'metadata',\n",
      "       'source', 'roadway', 'drive_access', 'walk_access', 'bike_access',\n",
      "       'county', 'length', 'A', 'B', 'model_link_id', 'locationReferences',\n",
      "       'rail_only', 'geometry', 'bus_only', 'centroidconnect', 'lanes',\n",
      "       'assign_group', 'roadway_class', 'area_type', 'ramp_flag', 'mpo',\n",
      "       'AADT', 'count_AM', 'count_MD', 'count_PM', 'count_NT', 'count_daily',\n",
      "       'count_year', 'segment_id', 'managed', 'distance', 'trn_priority_AM',\n",
      "       'trn_priority_MD', 'trn_priority_PM', 'trn_priority_NT',\n",
      "       'ttime_assert_AM', 'ttime_assert_MD', 'ttime_assert_PM',\n",
      "       'ttime_assert_NT', 'lanes_AM', 'lanes_MD', 'lanes_PM', 'lanes_NT',\n",
      "       'ML_lanes_AM', 'ML_lanes_MD', 'ML_lanes_PM', 'ML_lanes_NT'],\n",
      "      dtype='object'). Returning 0.\n",
      "2022-04-17 00:57:36, WARNING: Specified variable to split: price not in network variables: Index(['shstReferenceId', 'id', 'shstGeometryId', 'fromIntersectionId',\n",
      "       'toIntersectionId', 'u', 'v', 'nodeIds', 'wayId', 'roadClass', 'oneWay',\n",
      "       'roundabout', 'link', 'oneway', 'ref', 'name', 'highway', 'service',\n",
      "       'width', 'maxspeed', 'access', 'junction', 'bridge', 'tunnel',\n",
      "       'landuse', 'area', 'key', 'forward', 'backReferenceId', 'metadata',\n",
      "       'source', 'roadway', 'drive_access', 'walk_access', 'bike_access',\n",
      "       'county', 'length', 'A', 'B', 'model_link_id', 'locationReferences',\n",
      "       'rail_only', 'geometry', 'bus_only', 'centroidconnect', 'lanes',\n",
      "       'assign_group', 'roadway_class', 'area_type', 'ramp_flag', 'mpo',\n",
      "       'AADT', 'count_AM', 'count_MD', 'count_PM', 'count_NT', 'count_daily',\n",
      "       'count_year', 'segment_id', 'managed', 'distance', 'trn_priority_AM',\n",
      "       'trn_priority_MD', 'trn_priority_PM', 'trn_priority_NT',\n",
      "       'ttime_assert_AM', 'ttime_assert_MD', 'ttime_assert_PM',\n",
      "       'ttime_assert_NT', 'lanes_AM', 'lanes_MD', 'lanes_PM', 'lanes_NT',\n",
      "       'ML_lanes_AM', 'ML_lanes_MD', 'ML_lanes_PM', 'ML_lanes_NT'],\n",
      "      dtype='object'). Returning 0.\n",
      "2022-04-17 00:57:39, INFO: Converting variable type to MetCouncil standard\n",
      "2022-04-17 00:57:39, INFO: Converting variable type to MetCouncil standard\n",
      "2022-04-17 00:58:05, INFO: Setting Coordinate Reference System to EPSG 26915\n",
      "2022-04-17 00:58:05, INFO: Setting Coordinate Reference System to EPSG 26915\n"
     ]
    }
   ],
   "source": [
    "m_net.roadway_standard_to_met_council_network()"
   ]
  },
  {
   "cell_type": "code",
   "execution_count": 38,
   "id": "1aef5c0e",
   "metadata": {},
   "outputs": [
    {
     "name": "stdout",
     "output_type": "stream",
     "text": [
      "0\n",
      "414223\n",
      "417283\n",
      "0\n",
      "1061657\n",
      "1109542\n",
      "0\n",
      "0\n"
     ]
    }
   ],
   "source": [
    "# check if missing IDs\n",
    "# centroids does not have osm and shst IDs\n",
    "# centroid connectors does not have osm and shst IDs\n",
    "\n",
    "# if node missing shst id\n",
    "print(m_net.nodes_df.shst_node_id.isnull().sum())\n",
    "print(m_net.nodes_df.shst_node_id.nunique())\n",
    "\n",
    "# if node missing model node id\n",
    "print(m_net.nodes_df.model_node_id.nunique())\n",
    "\n",
    "# if link missing \n",
    "print(m_net.links_df.shstReferenceId.isnull().sum())\n",
    "print(m_net.links_df.shstReferenceId.nunique())\n",
    "print(m_net.links_df.model_link_id.nunique())\n",
    "\n",
    "# if link missing node id\n",
    "print(m_net.links_df.fromIntersectionId.isnull().sum())\n",
    "print(m_net.links_df.toIntersectionId.isnull().sum())"
   ]
  },
  {
   "cell_type": "code",
   "execution_count": 39,
   "id": "992dfaca",
   "metadata": {},
   "outputs": [
    {
     "data": {
      "text/plain": [
       "Index(['osm_node_id', 'shst_node_id', 'drive_access', 'walk_access',\n",
       "       'bike_access', 'N', 'rail_only', 'geometry', 'X', 'Y', 'county'],\n",
       "      dtype='object')"
      ]
     },
     "execution_count": 39,
     "metadata": {},
     "output_type": "execute_result"
    }
   ],
   "source": [
    "m_net.nodes_metcouncil_df.columns"
   ]
  },
  {
   "cell_type": "code",
   "execution_count": 40,
   "id": "e4695dbf",
   "metadata": {},
   "outputs": [
    {
     "data": {
      "text/plain": [
       "Index(['shstReferenceId', 'id', 'shstGeometryId', 'fromIntersectionId',\n",
       "       'toIntersectionId', 'u', 'v', 'nodeIds', 'wayId', 'roadClass', 'oneWay',\n",
       "       'roundabout', 'link', 'oneway', 'ref', 'name', 'highway', 'service',\n",
       "       'width', 'maxspeed', 'access', 'junction', 'bridge', 'tunnel',\n",
       "       'landuse', 'area', 'key', 'forward', 'backReferenceId', 'metadata',\n",
       "       'source', 'roadway', 'drive_access', 'walk_access', 'bike_access',\n",
       "       'county', 'length', 'A', 'B', 'model_link_id', 'locationReferences',\n",
       "       'rail_only', 'bus_only', 'centroidconnect', 'lanes', 'assign_group',\n",
       "       'roadway_class', 'area_type', 'ramp_flag', 'mpo', 'AADT', 'count_AM',\n",
       "       'count_MD', 'count_PM', 'count_NT', 'count_daily', 'count_year',\n",
       "       'segment_id', 'managed', 'distance', 'trn_priority_AM',\n",
       "       'trn_priority_MD', 'trn_priority_PM', 'trn_priority_NT',\n",
       "       'ttime_assert_AM', 'ttime_assert_MD', 'ttime_assert_PM',\n",
       "       'ttime_assert_NT', 'lanes_AM', 'lanes_MD', 'lanes_PM', 'lanes_NT',\n",
       "       'ML_lanes_AM', 'ML_lanes_MD', 'ML_lanes_PM', 'ML_lanes_NT',\n",
       "       'price_AM_sov', 'price_AM_hov2', 'price_AM_hov3', 'price_AM_truck',\n",
       "       'price_MD_sov', 'price_MD_hov2', 'price_MD_hov3', 'price_MD_truck',\n",
       "       'price_PM_sov', 'price_PM_hov2', 'price_PM_hov3', 'price_PM_truck',\n",
       "       'price_NT_sov', 'price_NT_hov2', 'price_NT_hov3', 'price_NT_truck',\n",
       "       'access_AM', 'access_MD', 'access_PM', 'access_NT', 'geometry'],\n",
       "      dtype='object')"
      ]
     },
     "execution_count": 40,
     "metadata": {},
     "output_type": "execute_result"
    }
   ],
   "source": [
    "m_net.links_metcouncil_df.columns"
   ]
  },
  {
   "cell_type": "markdown",
   "id": "b13b4313",
   "metadata": {},
   "source": [
    "# Write model network as shapefile"
   ]
  },
  {
   "cell_type": "code",
   "execution_count": 41,
   "id": "d3045955",
   "metadata": {},
   "outputs": [
    {
     "name": "stdout",
     "output_type": "stream",
     "text": [
      "2022-04-17 00:59:28, INFO: Writing Network as Shapefile\n",
      "2022-04-17 00:59:28, INFO: Writing Network as Shapefile\n",
      "2022-04-17 00:59:28, INFO: Renaming DBF Node Variables\n",
      "2022-04-17 00:59:28, INFO: Renaming DBF Node Variables\n",
      "2022-04-17 00:59:28, INFO: Renaming variables so that they are DBF-safe\n",
      "2022-04-17 00:59:28, INFO: Renaming variables so that they are DBF-safe\n",
      "2022-04-17 00:59:38, INFO: Renaming DBF Link Variables\n",
      "2022-04-17 00:59:38, INFO: Renaming DBF Link Variables\n",
      "2022-04-17 00:59:38, INFO: Renaming variables so that they are DBF-safe\n",
      "2022-04-17 00:59:38, INFO: Renaming variables so that they are DBF-safe\n",
      "2022-04-17 00:59:39, INFO: Writing Node Shapes:\n",
      " - D:/metcouncil_network_rebuild/data/processed/version_01\\model_networks\\shapefiles\\nodes.shp\n",
      "2022-04-17 00:59:39, INFO: Writing Node Shapes:\n",
      " - D:/metcouncil_network_rebuild/data/processed/version_01\\model_networks\\shapefiles\\nodes.shp\n",
      "2022-04-17 01:00:34, INFO: Writing Link Shapes:\n",
      " - D:/metcouncil_network_rebuild/data/processed/version_01\\model_networks\\shapefiles\\links.shp\n",
      "2022-04-17 01:00:34, INFO: Writing Link Shapes:\n",
      " - D:/metcouncil_network_rebuild/data/processed/version_01\\model_networks\\shapefiles\\links.shp\n"
     ]
    }
   ],
   "source": [
    "out_cols = ['model_link_id', 'id', 'assign_group', 'drive_access', 'roadway_class',\n",
    "            'lanes_AM', 'lanes_MD', 'lanes_PM', 'lanes_NT', 'segment_id', 'HOV', \n",
    "            'price_sov_AM', 'geometry', 'managed']\n",
    "\n",
    "m_net.write_roadway_as_shp(\n",
    "    output_link_shp = os.path.join(output_dir, 'model_networks', 'shapefiles', 'links.shp'),\n",
    "    output_node_shp = os.path.join(output_dir, 'model_networks', 'shapefiles', 'nodes.shp'),\n",
    "    link_output_variables = out_cols,\n",
    "    data_to_csv = False,\n",
    "    data_to_dbf = True,\n",
    "    export_drive_only = False, # if user only wants drive links/nodes in the shapefile\n",
    ")"
   ]
  },
  {
   "cell_type": "markdown",
   "id": "58c34ed5",
   "metadata": {},
   "source": [
    "# Write model network for Cube"
   ]
  },
  {
   "cell_type": "code",
   "execution_count": 42,
   "id": "d2bc81ac",
   "metadata": {},
   "outputs": [
    {
     "name": "stdout",
     "output_type": "stream",
     "text": [
      "2022-04-17 01:03:42, INFO: Starting fixed width conversion\n",
      "2022-04-17 01:03:42, INFO: Starting fixed width conversion\n",
      "2022-04-17 01:15:30, INFO: Writing out link database\n",
      "2022-04-17 01:15:30, INFO: Writing out link database\n",
      "2022-04-17 01:15:46, INFO: Writing out link header and width ----\n",
      "2022-04-17 01:15:46, INFO: Writing out link header and width ----\n",
      "2022-04-17 01:15:46, INFO: Starting fixed width conversion\n",
      "2022-04-17 01:15:46, INFO: Starting fixed width conversion\n",
      "2022-04-17 01:16:38, INFO: Writing out node database\n",
      "2022-04-17 01:16:38, INFO: Writing out node database\n",
      "2022-04-17 01:16:39, INFO: Writing out node header and width\n",
      "2022-04-17 01:16:39, INFO: Writing out node header and width\n"
     ]
    }
   ],
   "source": [
    "m_net.write_roadway_as_fixedwidth(\n",
    "    output_link_txt = os.path.join(output_dir, 'model_networks', 'links.txt'),\n",
    "    output_node_txt = os.path.join(output_dir, 'model_networks', 'nodes.txt'),\n",
    "    output_link_header_width_txt = os.path.join(output_dir, 'model_networks', 'links_header_width.txt'),\n",
    "    output_node_header_width_txt = os.path.join(output_dir, 'model_networks', 'nodes_header_width.txt'),\n",
    "    output_cube_network_script = os.path.join(output_dir, 'model_networks', 'make_complete_network_from_fixed_width_file.s'),\n",
    ")"
   ]
  },
  {
   "cell_type": "code",
   "execution_count": 43,
   "id": "1b69ccd7",
   "metadata": {},
   "outputs": [],
   "source": [
    "version_01_scenario.transit_net.set_roadnet(version_01_scenario.road_net, validate_consistency=False)"
   ]
  },
  {
   "cell_type": "code",
   "execution_count": 44,
   "id": "32ac550b",
   "metadata": {},
   "outputs": [
    {
     "name": "stdout",
     "output_type": "stream",
     "text": [
      "2022-04-17 01:19:23, INFO: Lasso base directory set as: Z:/Data/Users/Sijia/Met_Council/github/client_met_council_wrangler_utilities\n",
      "2022-04-17 01:19:23, INFO: Lasso base directory set as: Z:/Data/Users/Sijia/Met_Council/github/client_met_council_wrangler_utilities\n",
      "2022-04-17 01:19:23, INFO: Converting GTFS Standard Properties to MetCouncil's Cube Standard\n",
      "2022-04-17 01:19:23, INFO: Converting GTFS Standard Properties to MetCouncil's Cube Standard\n"
     ]
    }
   ],
   "source": [
    "standard_transit_net = StandardTransit.fromTransitNetwork(version_01_scenario.transit_net, parameters=parameters)\n",
    "standard_transit_net.write_as_cube_lin(outpath = os.path.join(output_dir, 'model_networks', \"transit.lin\"))"
   ]
  }
 ],
 "metadata": {
  "kernelspec": {
   "display_name": "Python 3 (ipykernel)",
   "language": "python",
   "name": "python3"
  },
  "language_info": {
   "codemirror_mode": {
    "name": "ipython",
    "version": 3
   },
   "file_extension": ".py",
   "mimetype": "text/x-python",
   "name": "python",
   "nbconvert_exporter": "python",
   "pygments_lexer": "ipython3",
   "version": "3.7.12"
  }
 },
 "nbformat": 4,
 "nbformat_minor": 5
}
