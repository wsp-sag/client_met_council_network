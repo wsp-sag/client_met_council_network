{
 "cells": [
  {
   "cell_type": "code",
   "execution_count": 1,
   "id": "c39c801d",
   "metadata": {},
   "outputs": [],
   "source": [
    "import os\n",
    "import sys\n",
    "import pickle\n",
    "from pyproj import CRS\n",
    "\n",
    "from network_wrangler import RoadwayNetwork\n",
    "from network_wrangler import TransitNetwork\n",
    "from network_wrangler import Scenario\n",
    "from network_wrangler import WranglerLogger\n",
    "\n",
    "from lasso import Parameters\n",
    "from lasso import metcouncil\n",
    "from lasso import ModelRoadwayNetwork\n",
    "from lasso import StandardTransit\n",
    "from lasso import util"
   ]
  },
  {
   "cell_type": "code",
   "execution_count": 2,
   "id": "fb064382",
   "metadata": {},
   "outputs": [],
   "source": [
    "%load_ext autoreload\n",
    "%autoreload 2"
   ]
  },
  {
   "cell_type": "code",
   "execution_count": 3,
   "id": "77e6a0d4",
   "metadata": {},
   "outputs": [],
   "source": [
    "import logging\n",
    "logger = logging.getLogger(\"WranglerLogger\")\n",
    "logger.handlers[0].stream = sys.stdout\n",
    "logger.setLevel(logging.INFO)"
   ]
  },
  {
   "cell_type": "markdown",
   "id": "09ae1b80",
   "metadata": {},
   "source": [
    "# remote i/o"
   ]
  },
  {
   "cell_type": "code",
   "execution_count": 4,
   "id": "c46d51e2",
   "metadata": {},
   "outputs": [],
   "source": [
    "input_dir = os.path.join(\"D:/metcouncil_network_rebuild/data/processed/version_00\")\n",
    "lasso_dir = os.path.join(\"Z:/Data/Users/Sijia/Met_Council/github/client_met_council_wrangler_utilities\")\n",
    "output_dir = os.path.join(\"D:/metcouncil_network_rebuild/data/processed/version_01\")"
   ]
  },
  {
   "cell_type": "code",
   "execution_count": 5,
   "id": "9dcd5ae9",
   "metadata": {},
   "outputs": [],
   "source": [
    "project_card_dir = os.path.join(\"D:/metcouncil_network_rebuild/ProjectCards_new_network/BaseCorrections\")"
   ]
  },
  {
   "cell_type": "code",
   "execution_count": 6,
   "id": "183ac461",
   "metadata": {},
   "outputs": [
    {
     "name": "stdout",
     "output_type": "stream",
     "text": [
      "2022-05-27 19:40:59, INFO: Lasso base directory set as: Z:/Data/Users/Sijia/Met_Council/github/client_met_council_wrangler_utilities\n",
      "2022-05-27 19:40:59, INFO: Lasso base directory set as: Z:/Data/Users/Sijia/Met_Council/github/client_met_council_wrangler_utilities\n"
     ]
    }
   ],
   "source": [
    "parameters = Parameters(lasso_base_dir = lasso_dir)"
   ]
  },
  {
   "cell_type": "markdown",
   "id": "df859684",
   "metadata": {},
   "source": [
    "# Load Version00"
   ]
  },
  {
   "cell_type": "code",
   "execution_count": 7,
   "id": "161db7ec",
   "metadata": {},
   "outputs": [
    {
     "name": "stdout",
     "output_type": "stream",
     "text": [
      "2022-05-27 19:40:59, INFO: Reading from following files:\n",
      "-D:/metcouncil_network_rebuild/data/processed/version_00\\standard_networks\\links.json\n",
      "-D:/metcouncil_network_rebuild/data/processed/version_00\\standard_networks\\nodes.geojson\n",
      "-D:/metcouncil_network_rebuild/data/processed/version_00\\standard_networks\\shapes.geojson.\n",
      "2022-05-27 19:40:59, INFO: Reading from following files:\n",
      "-D:/metcouncil_network_rebuild/data/processed/version_00\\standard_networks\\links.json\n",
      "-D:/metcouncil_network_rebuild/data/processed/version_00\\standard_networks\\nodes.geojson\n",
      "-D:/metcouncil_network_rebuild/data/processed/version_00\\standard_networks\\shapes.geojson.\n",
      "2022-05-27 19:43:41, INFO: Read 1061566 links from D:/metcouncil_network_rebuild/data/processed/version_00\\standard_networks\\links.json\n",
      "2022-05-27 19:43:41, INFO: Read 1061566 links from D:/metcouncil_network_rebuild/data/processed/version_00\\standard_networks\\links.json\n",
      "2022-05-27 19:43:41, INFO: Read 414131 nodes from D:/metcouncil_network_rebuild/data/processed/version_00\\standard_networks\\nodes.geojson\n",
      "2022-05-27 19:43:41, INFO: Read 414131 nodes from D:/metcouncil_network_rebuild/data/processed/version_00\\standard_networks\\nodes.geojson\n",
      "2022-05-27 19:43:41, INFO: Read 556550 shapes from D:/metcouncil_network_rebuild/data/processed/version_00\\standard_networks\\shapes.geojson\n",
      "2022-05-27 19:43:41, INFO: Read 556550 shapes from D:/metcouncil_network_rebuild/data/processed/version_00\\standard_networks\\shapes.geojson\n"
     ]
    }
   ],
   "source": [
    "link_file = os.path.join(input_dir, 'standard_networks', 'links.json')\n",
    "node_file = os.path.join(input_dir, 'standard_networks', 'nodes.geojson')\n",
    "shape_file = os.path.join(input_dir, 'standard_networks', 'shapes.geojson')\n",
    "\n",
    "roadway_net = RoadwayNetwork.read(link_file = link_file, node_file = node_file, shape_file = shape_file)"
   ]
  },
  {
   "cell_type": "code",
   "execution_count": 8,
   "id": "41c10c2e",
   "metadata": {},
   "outputs": [
    {
     "name": "stdout",
     "output_type": "stream",
     "text": [
      "2022-05-27 19:45:02, INFO: Read in transit feed from: D:/metcouncil_network_rebuild/data/processed/version_00\\standard_networks\\transit\n",
      "2022-05-27 19:45:02, INFO: Read in transit feed from: D:/metcouncil_network_rebuild/data/processed/version_00\\standard_networks\\transit\n",
      "2022-05-27 19:45:02, INFO: Removing calendar.txt from transit network config because file not found\n",
      "2022-05-27 19:45:02, INFO: Removing calendar.txt from transit network config because file not found\n",
      "2022-05-27 19:45:02, INFO: Removing calendar_dates.txt from transit network config because file not found\n",
      "2022-05-27 19:45:02, INFO: Removing calendar_dates.txt from transit network config because file not found\n",
      "2022-05-27 19:45:02, INFO: Removing fare_attributes.txt from transit network config because file not found\n",
      "2022-05-27 19:45:02, INFO: Removing fare_attributes.txt from transit network config because file not found\n",
      "2022-05-27 19:45:02, INFO: Removing fare_rules.txt from transit network config because file not found\n",
      "2022-05-27 19:45:02, INFO: Removing fare_rules.txt from transit network config because file not found\n",
      "2022-05-27 19:45:03, INFO: Removing transfers.txt from transit network config because file not found\n",
      "2022-05-27 19:45:03, INFO: Removing transfers.txt from transit network config because file not found\n",
      "2022-05-27 19:45:03, INFO: Removing feed_info.txt from transit network config because file not found\n",
      "2022-05-27 19:45:03, INFO: Removing feed_info.txt from transit network config because file not found\n",
      "2022-05-27 19:45:03, WARNING: The following stop_ids from are referenced but missing from stops.txt: ['place_AVTS', 'place_BTST', 'place_DFME', 'place_CE47', 'place_14CE', 'place_EATS', 'place_PHPR', 'place_BHPR', 'place_157G']\n",
      "2022-05-27 19:45:03, WARNING: The following stop_ids from are referenced but missing from stops.txt: ['place_AVTS', 'place_BTST', 'place_DFME', 'place_CE47', 'place_14CE', 'place_EATS', 'place_PHPR', 'place_BHPR', 'place_157G']\n"
     ]
    }
   ],
   "source": [
    "transit_net = TransitNetwork.read(feed_path = os.path.join(input_dir, 'standard_networks', 'transit'))"
   ]
  },
  {
   "cell_type": "code",
   "execution_count": 9,
   "id": "7132bf31",
   "metadata": {},
   "outputs": [],
   "source": [
    "roadway_net.links_df = roadway_net.links_df[roadway_net.links_df.A != roadway_net.links_df.B]"
   ]
  },
  {
   "cell_type": "markdown",
   "id": "09ce558c",
   "metadata": {},
   "source": [
    "### Attribute the Network"
   ]
  },
  {
   "cell_type": "code",
   "execution_count": 10,
   "id": "e8414c51",
   "metadata": {},
   "outputs": [],
   "source": [
    "roadway_net.links_df = roadway_net.links_df.drop('lanes', axis = 1)"
   ]
  },
  {
   "cell_type": "code",
   "execution_count": 11,
   "id": "1d8e6dcd",
   "metadata": {},
   "outputs": [],
   "source": [
    "roadway_net.links_df['bus_only'] = 0"
   ]
  },
  {
   "cell_type": "code",
   "execution_count": 12,
   "id": "ef52bf81",
   "metadata": {},
   "outputs": [
    {
     "data": {
      "text/plain": [
       "True     656665\n",
       "False    404892\n",
       "Name: drive_access, dtype: int64"
      ]
     },
     "execution_count": 12,
     "metadata": {},
     "output_type": "execute_result"
    }
   ],
   "source": [
    "roadway_net.links_df.drive_access.value_counts()"
   ]
  },
  {
   "cell_type": "code",
   "execution_count": 13,
   "id": "8d7411df",
   "metadata": {},
   "outputs": [
    {
     "name": "stdout",
     "output_type": "stream",
     "text": [
      "2022-05-27 19:45:28, INFO: Calculating Number of Lanes as network variable: 'lanes'\n",
      "2022-05-27 19:45:28, INFO: Calculating Number of Lanes as network variable: 'lanes'\n",
      "2022-05-27 19:45:28, INFO: Lasso base directory set as: Z:/Data/Users/Sijia/Met_Council/github/client_met_council_wrangler_utilities\n",
      "2022-05-27 19:45:28, INFO: Lasso base directory set as: Z:/Data/Users/Sijia/Met_Council/github/client_met_council_wrangler_utilities\n",
      "2022-05-27 19:45:28, INFO: Calculating Centroid Connector and adding as roadway network variable: centroidconnect\n",
      "2022-05-27 19:45:28, INFO: Calculating Centroid Connector and adding as roadway network variable: centroidconnect\n",
      "2022-05-27 19:45:28, INFO: Finished calculating centroid connector variable: centroidconnect\n",
      "2022-05-27 19:45:28, INFO: Finished calculating centroid connector variable: centroidconnect\n",
      "2022-05-27 19:46:26, INFO: Finished calculating number of lanes to: lanes\n",
      "2022-05-27 19:46:26, INFO: Finished calculating number of lanes to: lanes\n"
     ]
    },
    {
     "data": {
      "text/plain": [
       "1.0    1026496\n",
       "2.0      32020\n",
       "3.0       2595\n",
       "4.0        369\n",
       "5.0         71\n",
       "6.0          5\n",
       "7.0          1\n",
       "Name: lanes, dtype: int64"
      ]
     },
     "execution_count": 13,
     "metadata": {},
     "output_type": "execute_result"
    }
   ],
   "source": [
    "r_net = metcouncil.calculate_number_of_lanes_from_reviewed_network(\n",
    "    roadway_net=roadway_net,\n",
    "    parameters=parameters,\n",
    ")\n",
    "r_net.links_df.lanes.value_counts()"
   ]
  },
  {
   "cell_type": "code",
   "execution_count": 14,
   "id": "6871b193",
   "metadata": {},
   "outputs": [
    {
     "data": {
      "text/plain": [
       "residential       420553\n",
       "service           264058\n",
       "footway           117014\n",
       "tertiary          113519\n",
       "cycleway           83868\n",
       "secondary          36639\n",
       "primary            14067\n",
       "motorway_link       3604\n",
       "trunk               3051\n",
       "motorway            2757\n",
       "secondary_link       839\n",
       "trunk_link           601\n",
       "tertiary_link        538\n",
       "primary_link         449\n",
       "Name: roadway, dtype: int64"
      ]
     },
     "execution_count": 14,
     "metadata": {},
     "output_type": "execute_result"
    }
   ],
   "source": [
    "r_net.links_df.roadway.value_counts()"
   ]
  },
  {
   "cell_type": "code",
   "execution_count": 15,
   "id": "3d887b8d",
   "metadata": {},
   "outputs": [
    {
     "name": "stdout",
     "output_type": "stream",
     "text": [
      "2022-05-27 19:47:36, INFO: Calculating Assignment Group and Roadway Class as network variables: 'assign_group' and 'roadway_class'\n",
      "2022-05-27 19:47:36, INFO: Calculating Assignment Group and Roadway Class as network variables: 'assign_group' and 'roadway_class'\n",
      "2022-05-27 19:47:36, INFO: Centroid Connector Variable 'centroidconnect' already in network. Returning without overwriting.\n",
      "2022-05-27 19:47:36, INFO: Centroid Connector Variable 'centroidconnect' already in network. Returning without overwriting.\n",
      "2022-05-27 19:49:39, INFO: Finished calculating assignment group variable assign_group and roadway class variable roadway_class\n",
      "2022-05-27 19:49:39, INFO: Finished calculating assignment group variable assign_group and roadway class variable roadway_class\n"
     ]
    },
    {
     "data": {
      "text/plain": [
       "50.0     294095\n",
       "103.0    204010\n",
       "102.0    117014\n",
       "7.0      101584\n",
       "101.0     83868\n",
       "6.0       76802\n",
       "5.0       15025\n",
       "15.0       3045\n",
       "3.0        2590\n",
       "1.0        2455\n",
       "4.0        2036\n",
       "2.0        1258\n",
       "11.0        153\n",
       "Name: assign_group, dtype: int64"
      ]
     },
     "execution_count": 15,
     "metadata": {},
     "output_type": "execute_result"
    }
   ],
   "source": [
    "r_net = metcouncil.calculate_assign_group_and_roadway_class_from_reviewed_network(\n",
    "        roadway_net=r_net,\n",
    "        parameters=parameters,\n",
    ")\n",
    "r_net.links_df.assign_group.value_counts()"
   ]
  },
  {
   "cell_type": "code",
   "execution_count": 16,
   "id": "6e7f831e",
   "metadata": {},
   "outputs": [
    {
     "data": {
      "text/plain": [
       "101.0    404892\n",
       "50.0     304018\n",
       "40.0     124841\n",
       "30.0      42279\n",
       "20.0      20590\n",
       "60.0       5416\n",
       "10.0       1780\n",
       "70.0        119\n",
       "Name: roadway_class, dtype: int64"
      ]
     },
     "execution_count": 16,
     "metadata": {},
     "output_type": "execute_result"
    }
   ],
   "source": [
    "r_net.links_df.roadway_class.value_counts()"
   ]
  },
  {
   "cell_type": "markdown",
   "id": "5fe0cf3f",
   "metadata": {},
   "source": [
    "### Add Rail links and nodes"
   ]
  },
  {
   "cell_type": "code",
   "execution_count": 17,
   "id": "e3d9c8b5",
   "metadata": {},
   "outputs": [
    {
     "name": "stdout",
     "output_type": "stream",
     "text": [
      "2022-05-27 19:50:27, INFO: Adding centroid and centroid connector to standard network\n",
      "2022-05-27 19:50:27, INFO: Adding centroid and centroid connector to standard network\n",
      "2022-05-27 19:50:27, INFO: Lasso base directory set as: Z:/Data/Users/Sijia/Met_Council/github/client_met_council_wrangler_utilities\n",
      "2022-05-27 19:50:27, INFO: Lasso base directory set as: Z:/Data/Users/Sijia/Met_Council/github/client_met_council_wrangler_utilities\n",
      "2022-05-27 19:50:29, INFO: Finished adding rail links and nodes connectors\n",
      "2022-05-27 19:50:29, INFO: Finished adding rail links and nodes connectors\n"
     ]
    }
   ],
   "source": [
    "r_net = metcouncil.add_rail_links_and_nodes(\n",
    "    roadway_network = r_net,\n",
    "    parameters = parameters,\n",
    "    rail_links_file = os.path.join(input_dir, 'standard_networks', 'rail_links.geojson'),\n",
    "    rail_nodes_file = os.path.join(input_dir, 'standard_networks', 'rail_nodes.geojson'),\n",
    ")"
   ]
  },
  {
   "cell_type": "code",
   "execution_count": 18,
   "id": "b9335588",
   "metadata": {},
   "outputs": [
    {
     "name": "stdout",
     "output_type": "stream",
     "text": [
      "0\n",
      "414222\n",
      "1995\n",
      "float64\n",
      "Empty GeoDataFrame\n",
      "Columns: [osm_node_id, shst_node_id, county, drive_access, walk_access, bike_access, model_node_id, rail_only, geometry, X, Y]\n",
      "Index: []\n",
      "412227\n",
      "414222\n",
      "0\n",
      "1061647\n",
      "1061647\n",
      "0\n",
      "0\n",
      "5072\n",
      "Empty GeoDataFrame\n",
      "Columns: [shstReferenceId, id, shstGeometryId, fromIntersectionId, toIntersectionId, u, v, nodeIds, wayId, roadClass, oneWay, roundabout, link, oneway, ref, name, highway, service, width, maxspeed, access, junction, bridge, tunnel, landuse, area, key, forward, backReferenceId, metadata, source, roadway, drive_access, walk_access, bike_access, county, length, A, B, model_link_id, locationReferences, rail_only, geometry, bus_only, centroidconnect, lanes, assign_group, roadway_class]\n",
      "Index: []\n",
      "\n",
      "[0 rows x 48 columns]\n",
      "5072\n",
      "Empty GeoDataFrame\n",
      "Columns: [shstReferenceId, id, shstGeometryId, fromIntersectionId, toIntersectionId, u, v, nodeIds, wayId, roadClass, oneWay, roundabout, link, oneway, ref, name, highway, service, width, maxspeed, access, junction, bridge, tunnel, landuse, area, key, forward, backReferenceId, metadata, source, roadway, drive_access, walk_access, bike_access, county, length, A, B, model_link_id, locationReferences, rail_only, geometry, bus_only, centroidconnect, lanes, assign_group, roadway_class]\n",
      "Index: []\n",
      "\n",
      "[0 rows x 48 columns]\n"
     ]
    }
   ],
   "source": [
    "# check if missing IDs\n",
    "# rail nodes does not have osm IDs, they have shst IDs\n",
    "# rail links does not have osm IDs, they have shst IDs\n",
    "\n",
    "# if node missing shst id\n",
    "print(r_net.nodes_df.shst_node_id.isnull().sum())\n",
    "print(r_net.nodes_df.shst_node_id.nunique())\n",
    "# if node missing osm id\n",
    "print(r_net.nodes_df.osm_node_id.isnull().sum())\n",
    "# if node missing osm id\n",
    "print(r_net.nodes_df.osm_node_id.dtype)\n",
    "print(r_net.nodes_df[r_net.nodes_df.osm_node_id == 0])\n",
    "print(r_net.nodes_df.osm_node_id.nunique())\n",
    "# if node missing model node id\n",
    "print(r_net.nodes_df.model_node_id.nunique())\n",
    "\n",
    "# if link missing \n",
    "print(r_net.links_df.shstReferenceId.isnull().sum())\n",
    "print(r_net.links_df.shstReferenceId.nunique())\n",
    "print(r_net.links_df.model_link_id.nunique())\n",
    "\n",
    "# if link missing node id\n",
    "print(r_net.links_df.fromIntersectionId.isnull().sum())\n",
    "print(r_net.links_df.toIntersectionId.isnull().sum())\n",
    "print(r_net.links_df.u.isnull().sum())\n",
    "print(r_net.links_df[r_net.links_df.u == 0])\n",
    "print(r_net.links_df.v.isnull().sum())\n",
    "print(r_net.links_df[r_net.links_df.v == 0])"
   ]
  },
  {
   "cell_type": "markdown",
   "id": "8b02f273",
   "metadata": {},
   "source": [
    "# Create Scenario 00"
   ]
  },
  {
   "cell_type": "code",
   "execution_count": 19,
   "id": "95a750d9",
   "metadata": {},
   "outputs": [],
   "source": [
    "base_scenario = {\"road_net\": r_net, \"transit_net\": transit_net}"
   ]
  },
  {
   "cell_type": "code",
   "execution_count": 20,
   "id": "4a4849c3",
   "metadata": {},
   "outputs": [
    {
     "name": "stdout",
     "output_type": "stream",
     "text": [
      "2022-05-27 19:51:41, INFO: Creating Scenario\n",
      "2022-05-27 19:51:41, INFO: Creating Scenario\n"
     ]
    }
   ],
   "source": [
    "version_00_scenario = Scenario.create_scenario(base_scenario = base_scenario)"
   ]
  },
  {
   "cell_type": "code",
   "execution_count": 21,
   "id": "784259a2",
   "metadata": {},
   "outputs": [],
   "source": [
    "working_scenario_filename = os.path.join(output_dir, 'version_00_standard_network.pickle')\n",
    "pickle.dump(version_00_scenario, open(working_scenario_filename, 'wb'))"
   ]
  },
  {
   "cell_type": "code",
   "execution_count": 22,
   "id": "63af1e92",
   "metadata": {},
   "outputs": [
    {
     "data": {
      "text/plain": [
       "(1061647, 48)"
      ]
     },
     "execution_count": 22,
     "metadata": {},
     "output_type": "execute_result"
    }
   ],
   "source": [
    "r_net.links_df.shape"
   ]
  },
  {
   "cell_type": "code",
   "execution_count": 23,
   "id": "696f8c98",
   "metadata": {},
   "outputs": [
    {
     "data": {
      "text/plain": [
       "1061656"
      ]
     },
     "execution_count": 23,
     "metadata": {},
     "output_type": "execute_result"
    }
   ],
   "source": [
    "r_net.links_df.model_link_id.max()"
   ]
  },
  {
   "cell_type": "code",
   "execution_count": 24,
   "id": "8052cd78",
   "metadata": {},
   "outputs": [
    {
     "data": {
      "text/plain": [
       "(414222, 11)"
      ]
     },
     "execution_count": 24,
     "metadata": {},
     "output_type": "execute_result"
    }
   ],
   "source": [
    "r_net.nodes_df.shape"
   ]
  },
  {
   "cell_type": "code",
   "execution_count": 25,
   "id": "4ef406af",
   "metadata": {},
   "outputs": [
    {
     "data": {
      "text/plain": [
       "417322"
      ]
     },
     "execution_count": 25,
     "metadata": {},
     "output_type": "execute_result"
    }
   ],
   "source": [
    "r_net.nodes_df.model_node_id.max()"
   ]
  },
  {
   "cell_type": "markdown",
   "id": "a3026e7c",
   "metadata": {},
   "source": [
    "# Create Scenario 01"
   ]
  },
  {
   "cell_type": "code",
   "execution_count": 26,
   "id": "0c8100cf",
   "metadata": {},
   "outputs": [
    {
     "name": "stdout",
     "output_type": "stream",
     "text": [
      "2022-05-27 19:53:15, INFO: Creating Scenario\n",
      "2022-05-27 19:53:15, INFO: Creating Scenario\n"
     ]
    },
    {
     "name": "stderr",
     "output_type": "stream",
     "text": [
      "z:\\data\\users\\sijia\\met_council\\github\\network_wrangler\\network_wrangler\\network_wrangler\\projectcard.py:114: YAMLLoadWarning: calling yaml.load() without Loader=... is deprecated, as the default Loader is unsafe. Please read https://msg.pyyaml.org/load for full details.\n",
      "  attribute_dictionary = yaml.load(_yaml)\n"
     ]
    }
   ],
   "source": [
    "version_01_scenario = Scenario.create_scenario(\n",
    "    base_scenario=version_00_scenario,\n",
    "    card_directory = project_card_dir,\n",
    "    validate_project_cards=False\n",
    ")"
   ]
  },
  {
   "cell_type": "code",
   "execution_count": 27,
   "id": "d64a41cb",
   "metadata": {
    "scrolled": true
   },
   "outputs": [
    {
     "name": "stdout",
     "output_type": "stream",
     "text": [
      "2022-05-27 19:53:20, INFO: Applying correct year 2018 assignment group and roadway class\n",
      "2022-05-27 19:53:20, INFO: Applying correct year 2018 assignment group and roadway class\n",
      "2022-05-27 19:53:20, INFO: Applying correct year 2018 assignment group and roadway class\n",
      "2022-05-27 19:53:20, INFO: Applying correct year 2018 assignment group and roadway class\n",
      "2022-05-27 19:53:20, INFO: Applying Project to Roadway Network: correct year 2018 assignment group and roadway class\n",
      "2022-05-27 19:53:20, INFO: Applying Project to Roadway Network: correct year 2018 assignment group and roadway class\n",
      "2022-05-27 19:53:20, INFO: Applying correct year 2018 assignment group\n",
      "2022-05-27 19:53:20, INFO: Applying correct year 2018 assignment group\n",
      "2022-05-27 19:53:20, INFO: Applying correct year 2018 assignment group\n",
      "2022-05-27 19:53:20, INFO: Applying correct year 2018 assignment group\n",
      "2022-05-27 19:53:20, INFO: Applying Project to Roadway Network: correct year 2018 assignment group\n",
      "2022-05-27 19:53:20, INFO: Applying Project to Roadway Network: correct year 2018 assignment group\n"
     ]
    },
    {
     "name": "stderr",
     "output_type": "stream",
     "text": [
      "C:\\Users\\wangs1\\AppData\\Local\\Continuum\\anaconda3\\envs\\lasso_wsp\\lib\\site-packages\\geopandas\\geodataframe.py:1351: SettingWithCopyWarning: \n",
      "A value is trying to be set on a copy of a slice from a DataFrame.\n",
      "Try using .loc[row_indexer,col_indexer] = value instead\n",
      "\n",
      "See the caveats in the documentation: https://pandas.pydata.org/pandas-docs/stable/user_guide/indexing.html#returning-a-view-versus-a-copy\n",
      "  super().__setitem__(key, value)\n"
     ]
    },
    {
     "name": "stdout",
     "output_type": "stream",
     "text": [
      "2022-05-27 19:53:25, INFO: Applying correct year 2018 assignment group\n",
      "2022-05-27 19:53:25, INFO: Applying correct year 2018 assignment group\n",
      "2022-05-27 19:53:25, INFO: Applying Project to Roadway Network: correct year 2018 assignment group\n",
      "2022-05-27 19:53:25, INFO: Applying Project to Roadway Network: correct year 2018 assignment group\n"
     ]
    },
    {
     "name": "stderr",
     "output_type": "stream",
     "text": [
      "C:\\Users\\wangs1\\AppData\\Local\\Continuum\\anaconda3\\envs\\lasso_wsp\\lib\\site-packages\\geopandas\\geodataframe.py:1351: SettingWithCopyWarning: \n",
      "A value is trying to be set on a copy of a slice from a DataFrame.\n",
      "Try using .loc[row_indexer,col_indexer] = value instead\n",
      "\n",
      "See the caveats in the documentation: https://pandas.pydata.org/pandas-docs/stable/user_guide/indexing.html#returning-a-view-versus-a-copy\n",
      "  super().__setitem__(key, value)\n"
     ]
    },
    {
     "name": "stdout",
     "output_type": "stream",
     "text": [
      "2022-05-27 19:53:30, INFO: Applying correct year 2018 assignment group\n",
      "2022-05-27 19:53:30, INFO: Applying correct year 2018 assignment group\n",
      "2022-05-27 19:53:30, INFO: Applying Project to Roadway Network: correct year 2018 assignment group\n",
      "2022-05-27 19:53:30, INFO: Applying Project to Roadway Network: correct year 2018 assignment group\n"
     ]
    },
    {
     "name": "stderr",
     "output_type": "stream",
     "text": [
      "C:\\Users\\wangs1\\AppData\\Local\\Continuum\\anaconda3\\envs\\lasso_wsp\\lib\\site-packages\\geopandas\\geodataframe.py:1351: SettingWithCopyWarning: \n",
      "A value is trying to be set on a copy of a slice from a DataFrame.\n",
      "Try using .loc[row_indexer,col_indexer] = value instead\n",
      "\n",
      "See the caveats in the documentation: https://pandas.pydata.org/pandas-docs/stable/user_guide/indexing.html#returning-a-view-versus-a-copy\n",
      "  super().__setitem__(key, value)\n"
     ]
    },
    {
     "name": "stdout",
     "output_type": "stream",
     "text": [
      "2022-05-27 19:53:31, INFO: Applying correct year 2018 assignment group\n",
      "2022-05-27 19:53:31, INFO: Applying correct year 2018 assignment group\n",
      "2022-05-27 19:53:31, INFO: Applying Project to Roadway Network: correct year 2018 assignment group\n",
      "2022-05-27 19:53:31, INFO: Applying Project to Roadway Network: correct year 2018 assignment group\n",
      "2022-05-27 19:53:31, INFO: Applying correct year 2018 assignment group\n",
      "2022-05-27 19:53:31, INFO: Applying correct year 2018 assignment group\n",
      "2022-05-27 19:53:31, INFO: Applying Project to Roadway Network: correct year 2018 assignment group\n",
      "2022-05-27 19:53:31, INFO: Applying Project to Roadway Network: correct year 2018 assignment group\n",
      "2022-05-27 19:53:31, INFO: Applying correct year 2018 assignment group\n"
     ]
    },
    {
     "name": "stderr",
     "output_type": "stream",
     "text": [
      "C:\\Users\\wangs1\\AppData\\Local\\Continuum\\anaconda3\\envs\\lasso_wsp\\lib\\site-packages\\geopandas\\geodataframe.py:1351: SettingWithCopyWarning: \n",
      "A value is trying to be set on a copy of a slice from a DataFrame.\n",
      "Try using .loc[row_indexer,col_indexer] = value instead\n",
      "\n",
      "See the caveats in the documentation: https://pandas.pydata.org/pandas-docs/stable/user_guide/indexing.html#returning-a-view-versus-a-copy\n",
      "  super().__setitem__(key, value)\n",
      "C:\\Users\\wangs1\\AppData\\Local\\Continuum\\anaconda3\\envs\\lasso_wsp\\lib\\site-packages\\geopandas\\geodataframe.py:1351: SettingWithCopyWarning: \n",
      "A value is trying to be set on a copy of a slice from a DataFrame.\n",
      "Try using .loc[row_indexer,col_indexer] = value instead\n",
      "\n",
      "See the caveats in the documentation: https://pandas.pydata.org/pandas-docs/stable/user_guide/indexing.html#returning-a-view-versus-a-copy\n",
      "  super().__setitem__(key, value)\n",
      "C:\\Users\\wangs1\\AppData\\Local\\Continuum\\anaconda3\\envs\\lasso_wsp\\lib\\site-packages\\geopandas\\geodataframe.py:1351: SettingWithCopyWarning: \n",
      "A value is trying to be set on a copy of a slice from a DataFrame.\n",
      "Try using .loc[row_indexer,col_indexer] = value instead\n",
      "\n",
      "See the caveats in the documentation: https://pandas.pydata.org/pandas-docs/stable/user_guide/indexing.html#returning-a-view-versus-a-copy\n",
      "  super().__setitem__(key, value)\n"
     ]
    },
    {
     "name": "stdout",
     "output_type": "stream",
     "text": [
      "2022-05-27 19:53:31, INFO: Applying correct year 2018 assignment group\n",
      "2022-05-27 19:53:31, INFO: Applying Project to Roadway Network: correct year 2018 assignment group\n",
      "2022-05-27 19:53:31, INFO: Applying Project to Roadway Network: correct year 2018 assignment group\n",
      "2022-05-27 19:53:31, INFO: Applying correct year 2018 assignment group\n",
      "2022-05-27 19:53:31, INFO: Applying correct year 2018 assignment group\n",
      "2022-05-27 19:53:31, INFO: Applying Project to Roadway Network: correct year 2018 assignment group\n",
      "2022-05-27 19:53:31, INFO: Applying Project to Roadway Network: correct year 2018 assignment group\n",
      "2022-05-27 19:53:31, INFO: Applying correct year 2018 assignment group\n",
      "2022-05-27 19:53:31, INFO: Applying correct year 2018 assignment group\n",
      "2022-05-27 19:53:31, INFO: Applying Project to Roadway Network: correct year 2018 assignment group\n",
      "2022-05-27 19:53:31, INFO: Applying Project to Roadway Network: correct year 2018 assignment group\n"
     ]
    },
    {
     "name": "stderr",
     "output_type": "stream",
     "text": [
      "C:\\Users\\wangs1\\AppData\\Local\\Continuum\\anaconda3\\envs\\lasso_wsp\\lib\\site-packages\\geopandas\\geodataframe.py:1351: SettingWithCopyWarning: \n",
      "A value is trying to be set on a copy of a slice from a DataFrame.\n",
      "Try using .loc[row_indexer,col_indexer] = value instead\n",
      "\n",
      "See the caveats in the documentation: https://pandas.pydata.org/pandas-docs/stable/user_guide/indexing.html#returning-a-view-versus-a-copy\n",
      "  super().__setitem__(key, value)\n",
      "C:\\Users\\wangs1\\AppData\\Local\\Continuum\\anaconda3\\envs\\lasso_wsp\\lib\\site-packages\\geopandas\\geodataframe.py:1351: SettingWithCopyWarning: \n",
      "A value is trying to be set on a copy of a slice from a DataFrame.\n",
      "Try using .loc[row_indexer,col_indexer] = value instead\n",
      "\n",
      "See the caveats in the documentation: https://pandas.pydata.org/pandas-docs/stable/user_guide/indexing.html#returning-a-view-versus-a-copy\n",
      "  super().__setitem__(key, value)\n"
     ]
    },
    {
     "name": "stdout",
     "output_type": "stream",
     "text": [
      "2022-05-27 19:53:32, INFO: Applying correct year 2018 assignment group\n",
      "2022-05-27 19:53:32, INFO: Applying correct year 2018 assignment group\n",
      "2022-05-27 19:53:32, INFO: Applying Project to Roadway Network: correct year 2018 assignment group\n",
      "2022-05-27 19:53:32, INFO: Applying Project to Roadway Network: correct year 2018 assignment group\n"
     ]
    },
    {
     "name": "stderr",
     "output_type": "stream",
     "text": [
      "C:\\Users\\wangs1\\AppData\\Local\\Continuum\\anaconda3\\envs\\lasso_wsp\\lib\\site-packages\\geopandas\\geodataframe.py:1351: SettingWithCopyWarning: \n",
      "A value is trying to be set on a copy of a slice from a DataFrame.\n",
      "Try using .loc[row_indexer,col_indexer] = value instead\n",
      "\n",
      "See the caveats in the documentation: https://pandas.pydata.org/pandas-docs/stable/user_guide/indexing.html#returning-a-view-versus-a-copy\n",
      "  super().__setitem__(key, value)\n"
     ]
    },
    {
     "name": "stdout",
     "output_type": "stream",
     "text": [
      "2022-05-27 19:53:33, INFO: Applying correct year 2018 assignment group\n",
      "2022-05-27 19:53:33, INFO: Applying correct year 2018 assignment group\n",
      "2022-05-27 19:53:33, INFO: Applying Project to Roadway Network: correct year 2018 assignment group\n",
      "2022-05-27 19:53:33, INFO: Applying Project to Roadway Network: correct year 2018 assignment group\n",
      "2022-05-27 19:53:33, INFO: Applying correct year 2018 assignment group\n",
      "2022-05-27 19:53:33, INFO: Applying correct year 2018 assignment group\n",
      "2022-05-27 19:53:33, INFO: Applying Project to Roadway Network: correct year 2018 assignment group\n",
      "2022-05-27 19:53:33, INFO: Applying Project to Roadway Network: correct year 2018 assignment group\n",
      "2022-05-27 19:53:33, INFO: Applying correct year 2018 assignment group\n",
      "2022-05-27 19:53:33, INFO: Applying correct year 2018 assignment group\n",
      "2022-05-27 19:53:33, INFO: Applying Project to Roadway Network: correct year 2018 assignment group\n",
      "2022-05-27 19:53:33, INFO: Applying Project to Roadway Network: correct year 2018 assignment group\n"
     ]
    },
    {
     "name": "stderr",
     "output_type": "stream",
     "text": [
      "C:\\Users\\wangs1\\AppData\\Local\\Continuum\\anaconda3\\envs\\lasso_wsp\\lib\\site-packages\\geopandas\\geodataframe.py:1351: SettingWithCopyWarning: \n",
      "A value is trying to be set on a copy of a slice from a DataFrame.\n",
      "Try using .loc[row_indexer,col_indexer] = value instead\n",
      "\n",
      "See the caveats in the documentation: https://pandas.pydata.org/pandas-docs/stable/user_guide/indexing.html#returning-a-view-versus-a-copy\n",
      "  super().__setitem__(key, value)\n",
      "C:\\Users\\wangs1\\AppData\\Local\\Continuum\\anaconda3\\envs\\lasso_wsp\\lib\\site-packages\\geopandas\\geodataframe.py:1351: SettingWithCopyWarning: \n",
      "A value is trying to be set on a copy of a slice from a DataFrame.\n",
      "Try using .loc[row_indexer,col_indexer] = value instead\n",
      "\n",
      "See the caveats in the documentation: https://pandas.pydata.org/pandas-docs/stable/user_guide/indexing.html#returning-a-view-versus-a-copy\n",
      "  super().__setitem__(key, value)\n",
      "C:\\Users\\wangs1\\AppData\\Local\\Continuum\\anaconda3\\envs\\lasso_wsp\\lib\\site-packages\\geopandas\\geodataframe.py:1351: SettingWithCopyWarning: \n",
      "A value is trying to be set on a copy of a slice from a DataFrame.\n",
      "Try using .loc[row_indexer,col_indexer] = value instead\n",
      "\n",
      "See the caveats in the documentation: https://pandas.pydata.org/pandas-docs/stable/user_guide/indexing.html#returning-a-view-versus-a-copy\n",
      "  super().__setitem__(key, value)\n"
     ]
    },
    {
     "name": "stdout",
     "output_type": "stream",
     "text": [
      "2022-05-27 19:53:34, INFO: Applying correct year 2018 assignment group\n",
      "2022-05-27 19:53:34, INFO: Applying correct year 2018 assignment group\n",
      "2022-05-27 19:53:34, INFO: Applying Project to Roadway Network: correct year 2018 assignment group\n",
      "2022-05-27 19:53:34, INFO: Applying Project to Roadway Network: correct year 2018 assignment group\n",
      "2022-05-27 19:53:34, INFO: Applying correct year 2018 assignment group\n",
      "2022-05-27 19:53:34, INFO: Applying correct year 2018 assignment group\n",
      "2022-05-27 19:53:34, INFO: Applying Project to Roadway Network: correct year 2018 assignment group\n",
      "2022-05-27 19:53:34, INFO: Applying Project to Roadway Network: correct year 2018 assignment group\n"
     ]
    },
    {
     "name": "stderr",
     "output_type": "stream",
     "text": [
      "C:\\Users\\wangs1\\AppData\\Local\\Continuum\\anaconda3\\envs\\lasso_wsp\\lib\\site-packages\\geopandas\\geodataframe.py:1351: SettingWithCopyWarning: \n",
      "A value is trying to be set on a copy of a slice from a DataFrame.\n",
      "Try using .loc[row_indexer,col_indexer] = value instead\n",
      "\n",
      "See the caveats in the documentation: https://pandas.pydata.org/pandas-docs/stable/user_guide/indexing.html#returning-a-view-versus-a-copy\n",
      "  super().__setitem__(key, value)\n",
      "C:\\Users\\wangs1\\AppData\\Local\\Continuum\\anaconda3\\envs\\lasso_wsp\\lib\\site-packages\\geopandas\\geodataframe.py:1351: SettingWithCopyWarning: \n",
      "A value is trying to be set on a copy of a slice from a DataFrame.\n",
      "Try using .loc[row_indexer,col_indexer] = value instead\n",
      "\n",
      "See the caveats in the documentation: https://pandas.pydata.org/pandas-docs/stable/user_guide/indexing.html#returning-a-view-versus-a-copy\n",
      "  super().__setitem__(key, value)\n"
     ]
    },
    {
     "name": "stdout",
     "output_type": "stream",
     "text": [
      "2022-05-27 19:53:35, INFO: Applying correct year 2018 assignment group\n",
      "2022-05-27 19:53:35, INFO: Applying correct year 2018 assignment group\n",
      "2022-05-27 19:53:35, INFO: Applying Project to Roadway Network: correct year 2018 assignment group\n",
      "2022-05-27 19:53:35, INFO: Applying Project to Roadway Network: correct year 2018 assignment group\n"
     ]
    },
    {
     "name": "stderr",
     "output_type": "stream",
     "text": [
      "C:\\Users\\wangs1\\AppData\\Local\\Continuum\\anaconda3\\envs\\lasso_wsp\\lib\\site-packages\\geopandas\\geodataframe.py:1351: SettingWithCopyWarning: \n",
      "A value is trying to be set on a copy of a slice from a DataFrame.\n",
      "Try using .loc[row_indexer,col_indexer] = value instead\n",
      "\n",
      "See the caveats in the documentation: https://pandas.pydata.org/pandas-docs/stable/user_guide/indexing.html#returning-a-view-versus-a-copy\n",
      "  super().__setitem__(key, value)\n"
     ]
    },
    {
     "name": "stdout",
     "output_type": "stream",
     "text": [
      "2022-05-27 19:53:43, INFO: Applying correct year 2018 assignment group\n",
      "2022-05-27 19:53:43, INFO: Applying correct year 2018 assignment group\n",
      "2022-05-27 19:53:43, INFO: Applying Project to Roadway Network: correct year 2018 assignment group\n",
      "2022-05-27 19:53:43, INFO: Applying Project to Roadway Network: correct year 2018 assignment group\n"
     ]
    },
    {
     "name": "stderr",
     "output_type": "stream",
     "text": [
      "C:\\Users\\wangs1\\AppData\\Local\\Continuum\\anaconda3\\envs\\lasso_wsp\\lib\\site-packages\\geopandas\\geodataframe.py:1351: SettingWithCopyWarning: \n",
      "A value is trying to be set on a copy of a slice from a DataFrame.\n",
      "Try using .loc[row_indexer,col_indexer] = value instead\n",
      "\n",
      "See the caveats in the documentation: https://pandas.pydata.org/pandas-docs/stable/user_guide/indexing.html#returning-a-view-versus-a-copy\n",
      "  super().__setitem__(key, value)\n"
     ]
    },
    {
     "name": "stdout",
     "output_type": "stream",
     "text": [
      "2022-05-27 19:53:53, INFO: Applying correct year 2018 assignment group\n",
      "2022-05-27 19:53:53, INFO: Applying correct year 2018 assignment group\n",
      "2022-05-27 19:53:53, INFO: Applying Project to Roadway Network: correct year 2018 assignment group\n",
      "2022-05-27 19:53:53, INFO: Applying Project to Roadway Network: correct year 2018 assignment group\n"
     ]
    },
    {
     "name": "stderr",
     "output_type": "stream",
     "text": [
      "C:\\Users\\wangs1\\AppData\\Local\\Continuum\\anaconda3\\envs\\lasso_wsp\\lib\\site-packages\\geopandas\\geodataframe.py:1351: SettingWithCopyWarning: \n",
      "A value is trying to be set on a copy of a slice from a DataFrame.\n",
      "Try using .loc[row_indexer,col_indexer] = value instead\n",
      "\n",
      "See the caveats in the documentation: https://pandas.pydata.org/pandas-docs/stable/user_guide/indexing.html#returning-a-view-versus-a-copy\n",
      "  super().__setitem__(key, value)\n"
     ]
    },
    {
     "name": "stdout",
     "output_type": "stream",
     "text": [
      "2022-05-27 19:53:58, INFO: Applying correct year 2018 assignment group\n",
      "2022-05-27 19:53:58, INFO: Applying correct year 2018 assignment group\n",
      "2022-05-27 19:53:58, INFO: Applying Project to Roadway Network: correct year 2018 assignment group\n",
      "2022-05-27 19:53:58, INFO: Applying Project to Roadway Network: correct year 2018 assignment group\n"
     ]
    },
    {
     "name": "stderr",
     "output_type": "stream",
     "text": [
      "C:\\Users\\wangs1\\AppData\\Local\\Continuum\\anaconda3\\envs\\lasso_wsp\\lib\\site-packages\\geopandas\\geodataframe.py:1351: SettingWithCopyWarning: \n",
      "A value is trying to be set on a copy of a slice from a DataFrame.\n",
      "Try using .loc[row_indexer,col_indexer] = value instead\n",
      "\n",
      "See the caveats in the documentation: https://pandas.pydata.org/pandas-docs/stable/user_guide/indexing.html#returning-a-view-versus-a-copy\n",
      "  super().__setitem__(key, value)\n"
     ]
    },
    {
     "name": "stdout",
     "output_type": "stream",
     "text": [
      "2022-05-27 19:54:07, INFO: Applying correct year 2018 assignment group\n",
      "2022-05-27 19:54:07, INFO: Applying correct year 2018 assignment group\n",
      "2022-05-27 19:54:07, INFO: Applying Project to Roadway Network: correct year 2018 assignment group\n",
      "2022-05-27 19:54:07, INFO: Applying Project to Roadway Network: correct year 2018 assignment group\n"
     ]
    },
    {
     "name": "stderr",
     "output_type": "stream",
     "text": [
      "C:\\Users\\wangs1\\AppData\\Local\\Continuum\\anaconda3\\envs\\lasso_wsp\\lib\\site-packages\\geopandas\\geodataframe.py:1351: SettingWithCopyWarning: \n",
      "A value is trying to be set on a copy of a slice from a DataFrame.\n",
      "Try using .loc[row_indexer,col_indexer] = value instead\n",
      "\n",
      "See the caveats in the documentation: https://pandas.pydata.org/pandas-docs/stable/user_guide/indexing.html#returning-a-view-versus-a-copy\n",
      "  super().__setitem__(key, value)\n"
     ]
    },
    {
     "name": "stdout",
     "output_type": "stream",
     "text": [
      "2022-05-27 19:54:15, INFO: Applying correct year 2018 assignment group\n",
      "2022-05-27 19:54:15, INFO: Applying correct year 2018 assignment group\n",
      "2022-05-27 19:54:15, INFO: Applying Project to Roadway Network: correct year 2018 assignment group\n",
      "2022-05-27 19:54:15, INFO: Applying Project to Roadway Network: correct year 2018 assignment group\n"
     ]
    },
    {
     "name": "stderr",
     "output_type": "stream",
     "text": [
      "C:\\Users\\wangs1\\AppData\\Local\\Continuum\\anaconda3\\envs\\lasso_wsp\\lib\\site-packages\\geopandas\\geodataframe.py:1351: SettingWithCopyWarning: \n",
      "A value is trying to be set on a copy of a slice from a DataFrame.\n",
      "Try using .loc[row_indexer,col_indexer] = value instead\n",
      "\n",
      "See the caveats in the documentation: https://pandas.pydata.org/pandas-docs/stable/user_guide/indexing.html#returning-a-view-versus-a-copy\n",
      "  super().__setitem__(key, value)\n"
     ]
    },
    {
     "name": "stdout",
     "output_type": "stream",
     "text": [
      "2022-05-27 19:54:23, INFO: Applying correct year 2018 assignment group\n",
      "2022-05-27 19:54:23, INFO: Applying correct year 2018 assignment group\n",
      "2022-05-27 19:54:23, INFO: Applying Project to Roadway Network: correct year 2018 assignment group\n",
      "2022-05-27 19:54:23, INFO: Applying Project to Roadway Network: correct year 2018 assignment group\n"
     ]
    },
    {
     "name": "stderr",
     "output_type": "stream",
     "text": [
      "C:\\Users\\wangs1\\AppData\\Local\\Continuum\\anaconda3\\envs\\lasso_wsp\\lib\\site-packages\\geopandas\\geodataframe.py:1351: SettingWithCopyWarning: \n",
      "A value is trying to be set on a copy of a slice from a DataFrame.\n",
      "Try using .loc[row_indexer,col_indexer] = value instead\n",
      "\n",
      "See the caveats in the documentation: https://pandas.pydata.org/pandas-docs/stable/user_guide/indexing.html#returning-a-view-versus-a-copy\n",
      "  super().__setitem__(key, value)\n"
     ]
    },
    {
     "name": "stdout",
     "output_type": "stream",
     "text": [
      "2022-05-27 19:54:31, INFO: Applying correct year 2018 assignment group\n",
      "2022-05-27 19:54:31, INFO: Applying correct year 2018 assignment group\n",
      "2022-05-27 19:54:31, INFO: Applying Project to Roadway Network: correct year 2018 assignment group\n",
      "2022-05-27 19:54:31, INFO: Applying Project to Roadway Network: correct year 2018 assignment group\n"
     ]
    },
    {
     "name": "stderr",
     "output_type": "stream",
     "text": [
      "C:\\Users\\wangs1\\AppData\\Local\\Continuum\\anaconda3\\envs\\lasso_wsp\\lib\\site-packages\\geopandas\\geodataframe.py:1351: SettingWithCopyWarning: \n",
      "A value is trying to be set on a copy of a slice from a DataFrame.\n",
      "Try using .loc[row_indexer,col_indexer] = value instead\n",
      "\n",
      "See the caveats in the documentation: https://pandas.pydata.org/pandas-docs/stable/user_guide/indexing.html#returning-a-view-versus-a-copy\n",
      "  super().__setitem__(key, value)\n"
     ]
    },
    {
     "name": "stdout",
     "output_type": "stream",
     "text": [
      "2022-05-27 19:54:45, INFO: Applying correct year 2018 assignment group\n",
      "2022-05-27 19:54:45, INFO: Applying correct year 2018 assignment group\n",
      "2022-05-27 19:54:45, INFO: Applying Project to Roadway Network: correct year 2018 assignment group\n",
      "2022-05-27 19:54:45, INFO: Applying Project to Roadway Network: correct year 2018 assignment group\n"
     ]
    },
    {
     "name": "stderr",
     "output_type": "stream",
     "text": [
      "C:\\Users\\wangs1\\AppData\\Local\\Continuum\\anaconda3\\envs\\lasso_wsp\\lib\\site-packages\\geopandas\\geodataframe.py:1351: SettingWithCopyWarning: \n",
      "A value is trying to be set on a copy of a slice from a DataFrame.\n",
      "Try using .loc[row_indexer,col_indexer] = value instead\n",
      "\n",
      "See the caveats in the documentation: https://pandas.pydata.org/pandas-docs/stable/user_guide/indexing.html#returning-a-view-versus-a-copy\n",
      "  super().__setitem__(key, value)\n"
     ]
    },
    {
     "name": "stdout",
     "output_type": "stream",
     "text": [
      "2022-05-27 19:54:54, INFO: Applying correct year 2018 assignment group\n",
      "2022-05-27 19:54:54, INFO: Applying correct year 2018 assignment group\n",
      "2022-05-27 19:54:54, INFO: Applying Project to Roadway Network: correct year 2018 assignment group\n",
      "2022-05-27 19:54:54, INFO: Applying Project to Roadway Network: correct year 2018 assignment group\n"
     ]
    },
    {
     "name": "stderr",
     "output_type": "stream",
     "text": [
      "C:\\Users\\wangs1\\AppData\\Local\\Continuum\\anaconda3\\envs\\lasso_wsp\\lib\\site-packages\\geopandas\\geodataframe.py:1351: SettingWithCopyWarning: \n",
      "A value is trying to be set on a copy of a slice from a DataFrame.\n",
      "Try using .loc[row_indexer,col_indexer] = value instead\n",
      "\n",
      "See the caveats in the documentation: https://pandas.pydata.org/pandas-docs/stable/user_guide/indexing.html#returning-a-view-versus-a-copy\n",
      "  super().__setitem__(key, value)\n"
     ]
    },
    {
     "name": "stdout",
     "output_type": "stream",
     "text": [
      "2022-05-27 19:55:00, INFO: Applying correct year 2018 assignment group\n",
      "2022-05-27 19:55:00, INFO: Applying correct year 2018 assignment group\n",
      "2022-05-27 19:55:00, INFO: Applying Project to Roadway Network: correct year 2018 assignment group\n",
      "2022-05-27 19:55:00, INFO: Applying Project to Roadway Network: correct year 2018 assignment group\n"
     ]
    },
    {
     "name": "stderr",
     "output_type": "stream",
     "text": [
      "C:\\Users\\wangs1\\AppData\\Local\\Continuum\\anaconda3\\envs\\lasso_wsp\\lib\\site-packages\\geopandas\\geodataframe.py:1351: SettingWithCopyWarning: \n",
      "A value is trying to be set on a copy of a slice from a DataFrame.\n",
      "Try using .loc[row_indexer,col_indexer] = value instead\n",
      "\n",
      "See the caveats in the documentation: https://pandas.pydata.org/pandas-docs/stable/user_guide/indexing.html#returning-a-view-versus-a-copy\n",
      "  super().__setitem__(key, value)\n"
     ]
    },
    {
     "name": "stdout",
     "output_type": "stream",
     "text": [
      "2022-05-27 19:55:10, INFO: Applying correct year 2018 assignment group\n",
      "2022-05-27 19:55:10, INFO: Applying correct year 2018 assignment group\n",
      "2022-05-27 19:55:10, INFO: Applying Project to Roadway Network: correct year 2018 assignment group\n",
      "2022-05-27 19:55:10, INFO: Applying Project to Roadway Network: correct year 2018 assignment group\n"
     ]
    },
    {
     "name": "stderr",
     "output_type": "stream",
     "text": [
      "C:\\Users\\wangs1\\AppData\\Local\\Continuum\\anaconda3\\envs\\lasso_wsp\\lib\\site-packages\\geopandas\\geodataframe.py:1351: SettingWithCopyWarning: \n",
      "A value is trying to be set on a copy of a slice from a DataFrame.\n",
      "Try using .loc[row_indexer,col_indexer] = value instead\n",
      "\n",
      "See the caveats in the documentation: https://pandas.pydata.org/pandas-docs/stable/user_guide/indexing.html#returning-a-view-versus-a-copy\n",
      "  super().__setitem__(key, value)\n"
     ]
    },
    {
     "name": "stdout",
     "output_type": "stream",
     "text": [
      "2022-05-27 19:55:16, INFO: Applying correct year 2018 assignment group\n",
      "2022-05-27 19:55:16, INFO: Applying correct year 2018 assignment group\n",
      "2022-05-27 19:55:16, INFO: Applying Project to Roadway Network: correct year 2018 assignment group\n",
      "2022-05-27 19:55:16, INFO: Applying Project to Roadway Network: correct year 2018 assignment group\n"
     ]
    },
    {
     "name": "stderr",
     "output_type": "stream",
     "text": [
      "C:\\Users\\wangs1\\AppData\\Local\\Continuum\\anaconda3\\envs\\lasso_wsp\\lib\\site-packages\\geopandas\\geodataframe.py:1351: SettingWithCopyWarning: \n",
      "A value is trying to be set on a copy of a slice from a DataFrame.\n",
      "Try using .loc[row_indexer,col_indexer] = value instead\n",
      "\n",
      "See the caveats in the documentation: https://pandas.pydata.org/pandas-docs/stable/user_guide/indexing.html#returning-a-view-versus-a-copy\n",
      "  super().__setitem__(key, value)\n"
     ]
    },
    {
     "name": "stdout",
     "output_type": "stream",
     "text": [
      "2022-05-27 19:55:16, INFO: Applying correct year 2018 assignment group\n",
      "2022-05-27 19:55:16, INFO: Applying correct year 2018 assignment group\n",
      "2022-05-27 19:55:16, INFO: Applying Project to Roadway Network: correct year 2018 assignment group\n",
      "2022-05-27 19:55:16, INFO: Applying Project to Roadway Network: correct year 2018 assignment group\n"
     ]
    },
    {
     "name": "stderr",
     "output_type": "stream",
     "text": [
      "C:\\Users\\wangs1\\AppData\\Local\\Continuum\\anaconda3\\envs\\lasso_wsp\\lib\\site-packages\\geopandas\\geodataframe.py:1351: SettingWithCopyWarning: \n",
      "A value is trying to be set on a copy of a slice from a DataFrame.\n",
      "Try using .loc[row_indexer,col_indexer] = value instead\n",
      "\n",
      "See the caveats in the documentation: https://pandas.pydata.org/pandas-docs/stable/user_guide/indexing.html#returning-a-view-versus-a-copy\n",
      "  super().__setitem__(key, value)\n"
     ]
    },
    {
     "name": "stdout",
     "output_type": "stream",
     "text": [
      "2022-05-27 19:55:17, INFO: Applying correct year 2018 assignment group\n",
      "2022-05-27 19:55:17, INFO: Applying correct year 2018 assignment group\n",
      "2022-05-27 19:55:17, INFO: Applying Project to Roadway Network: correct year 2018 assignment group\n",
      "2022-05-27 19:55:17, INFO: Applying Project to Roadway Network: correct year 2018 assignment group\n",
      "2022-05-27 19:55:17, INFO: Applying correct year 2018 assignment group\n",
      "2022-05-27 19:55:17, INFO: Applying correct year 2018 assignment group\n",
      "2022-05-27 19:55:17, INFO: Applying Project to Roadway Network: correct year 2018 assignment group\n",
      "2022-05-27 19:55:17, INFO: Applying Project to Roadway Network: correct year 2018 assignment group\n"
     ]
    },
    {
     "name": "stderr",
     "output_type": "stream",
     "text": [
      "C:\\Users\\wangs1\\AppData\\Local\\Continuum\\anaconda3\\envs\\lasso_wsp\\lib\\site-packages\\geopandas\\geodataframe.py:1351: SettingWithCopyWarning: \n",
      "A value is trying to be set on a copy of a slice from a DataFrame.\n",
      "Try using .loc[row_indexer,col_indexer] = value instead\n",
      "\n",
      "See the caveats in the documentation: https://pandas.pydata.org/pandas-docs/stable/user_guide/indexing.html#returning-a-view-versus-a-copy\n",
      "  super().__setitem__(key, value)\n",
      "C:\\Users\\wangs1\\AppData\\Local\\Continuum\\anaconda3\\envs\\lasso_wsp\\lib\\site-packages\\geopandas\\geodataframe.py:1351: SettingWithCopyWarning: \n",
      "A value is trying to be set on a copy of a slice from a DataFrame.\n",
      "Try using .loc[row_indexer,col_indexer] = value instead\n",
      "\n",
      "See the caveats in the documentation: https://pandas.pydata.org/pandas-docs/stable/user_guide/indexing.html#returning-a-view-versus-a-copy\n",
      "  super().__setitem__(key, value)\n"
     ]
    },
    {
     "name": "stdout",
     "output_type": "stream",
     "text": [
      "2022-05-27 19:55:23, INFO: Applying network cleanup remove link\n",
      "2022-05-27 19:55:23, INFO: Applying network cleanup remove link\n",
      "2022-05-27 19:55:23, INFO: Applying network cleanup remove link\n",
      "2022-05-27 19:55:23, INFO: Applying network cleanup remove link\n",
      "2022-05-27 19:55:23, INFO: Applying Project to Roadway Network: network cleanup remove link\n",
      "2022-05-27 19:55:23, INFO: Applying Project to Roadway Network: network cleanup remove link\n",
      "2022-05-27 19:55:23, INFO: Applying Manual Changes to Assignment Group and Roadway Class\n",
      "2022-05-27 19:55:23, INFO: Applying Manual Changes to Assignment Group and Roadway Class\n",
      "2022-05-27 19:55:23, INFO: Applying Project to Roadway Network: Manual Changes to Assignment Group and Roadway Class\n",
      "2022-05-27 19:55:23, INFO: Applying Project to Roadway Network: Manual Changes to Assignment Group and Roadway Class\n",
      "2022-05-27 19:55:23, INFO: Lasso base directory set as: Z:/Data/Users/Sijia/Met_Council/github/client_met_council_wrangler_utilities\n",
      "2022-05-27 19:55:23, INFO: Lasso base directory set as: Z:/Data/Users/Sijia/Met_Council/github/client_met_council_wrangler_utilities\n"
     ]
    },
    {
     "name": "stderr",
     "output_type": "stream",
     "text": [
      "C:\\Users\\wangs1\\AppData\\Local\\Continuum\\anaconda3\\envs\\lasso_wsp\\lib\\site-packages\\geopandas\\geodataframe.py:1351: SettingWithCopyWarning: \n",
      "A value is trying to be set on a copy of a slice from a DataFrame.\n",
      "Try using .loc[row_indexer,col_indexer] = value instead\n",
      "\n",
      "See the caveats in the documentation: https://pandas.pydata.org/pandas-docs/stable/user_guide/indexing.html#returning-a-view-versus-a-copy\n",
      "  super().__setitem__(key, value)\n",
      "C:\\Users\\wangs1\\AppData\\Local\\Continuum\\anaconda3\\envs\\lasso_wsp\\lib\\site-packages\\geopandas\\geodataframe.py:1351: SettingWithCopyWarning: \n",
      "A value is trying to be set on a copy of a slice from a DataFrame.\n",
      "Try using .loc[row_indexer,col_indexer] = value instead\n",
      "\n",
      "See the caveats in the documentation: https://pandas.pydata.org/pandas-docs/stable/user_guide/indexing.html#returning-a-view-versus-a-copy\n",
      "  super().__setitem__(key, value)\n",
      "z:\\data\\users\\sijia\\met_council\\github\\network_wrangler\\network_wrangler\\network_wrangler\\roadwaynetwork.py:18: UserWarning: Geometry is in a geographic CRS. Results from 'centroid' are likely incorrect. Use 'GeoSeries.to_crs()' to re-project geometries to a projected CRS before this operation.\n",
      "\n",
      "  import osmnx as ox\n",
      "z:\\data\\users\\sijia\\met_council\\github\\network_wrangler\\network_wrangler\\network_wrangler\\roadwaynetwork.py:48: UserWarning: Geometry is in a geographic CRS. Results from 'centroid' are likely incorrect. Use 'GeoSeries.to_crs()' to re-project geometries to a projected CRS before this operation.\n",
      "\n",
      "  \n",
      "z:\\data\\users\\sijia\\met_council\\github\\network_wrangler\\network_wrangler\\network_wrangler\\roadwaynetwork.py:52: UserWarning: CRS mismatch between the CRS of left geometries and the CRS of right geometries.\n",
      "Use `to_crs()` to reproject one of the input geometries to match the CRS of the other.\n",
      "\n",
      "Left CRS: EPSG:4326\n",
      "Right CRS: EPSG:4269\n",
      "\n",
      "  net = RoadwayNetwork.read(\n"
     ]
    },
    {
     "name": "stdout",
     "output_type": "stream",
     "text": [
      "2022-05-27 20:01:56, INFO: Applying network cleanup 1 lanes 7\n",
      "2022-05-27 20:01:56, INFO: Applying network cleanup 1 lanes 7\n",
      "2022-05-27 20:01:56, INFO: Applying network cleanup 1 lanes 7\n",
      "2022-05-27 20:01:56, INFO: Applying network cleanup 1 lanes 7\n",
      "2022-05-27 20:01:56, INFO: Applying Project to Roadway Network: network cleanup 1 lanes 7\n",
      "2022-05-27 20:01:56, INFO: Applying Project to Roadway Network: network cleanup 1 lanes 7\n",
      "2022-05-27 20:01:56, INFO: Applying network cleanup 1 lanes 6\n",
      "2022-05-27 20:01:56, INFO: Applying network cleanup 1 lanes 6\n",
      "2022-05-27 20:01:56, INFO: Applying network cleanup 1 lanes 6\n",
      "2022-05-27 20:01:56, INFO: Applying network cleanup 1 lanes 6\n",
      "2022-05-27 20:01:56, INFO: Applying Project to Roadway Network: network cleanup 1 lanes 6\n",
      "2022-05-27 20:01:56, INFO: Applying Project to Roadway Network: network cleanup 1 lanes 6\n",
      "2022-05-27 20:01:56, INFO: Applying network cleanup 1 lanes 5\n",
      "2022-05-27 20:01:56, INFO: Applying network cleanup 1 lanes 5\n",
      "2022-05-27 20:01:56, INFO: Applying network cleanup 1 lanes 5\n",
      "2022-05-27 20:01:56, INFO: Applying network cleanup 1 lanes 5\n",
      "2022-05-27 20:01:56, INFO: Applying Project to Roadway Network: network cleanup 1 lanes 5\n",
      "2022-05-27 20:01:56, INFO: Applying Project to Roadway Network: network cleanup 1 lanes 5\n"
     ]
    },
    {
     "name": "stderr",
     "output_type": "stream",
     "text": [
      "C:\\Users\\wangs1\\AppData\\Local\\Continuum\\anaconda3\\envs\\lasso_wsp\\lib\\site-packages\\geopandas\\geodataframe.py:1351: SettingWithCopyWarning: \n",
      "A value is trying to be set on a copy of a slice from a DataFrame.\n",
      "Try using .loc[row_indexer,col_indexer] = value instead\n",
      "\n",
      "See the caveats in the documentation: https://pandas.pydata.org/pandas-docs/stable/user_guide/indexing.html#returning-a-view-versus-a-copy\n",
      "  super().__setitem__(key, value)\n",
      "C:\\Users\\wangs1\\AppData\\Local\\Continuum\\anaconda3\\envs\\lasso_wsp\\lib\\site-packages\\geopandas\\geodataframe.py:1351: SettingWithCopyWarning: \n",
      "A value is trying to be set on a copy of a slice from a DataFrame.\n",
      "Try using .loc[row_indexer,col_indexer] = value instead\n",
      "\n",
      "See the caveats in the documentation: https://pandas.pydata.org/pandas-docs/stable/user_guide/indexing.html#returning-a-view-versus-a-copy\n",
      "  super().__setitem__(key, value)\n"
     ]
    },
    {
     "name": "stdout",
     "output_type": "stream",
     "text": [
      "2022-05-27 20:01:56, INFO: Applying network cleanup 1 lanes 4\n",
      "2022-05-27 20:01:56, INFO: Applying network cleanup 1 lanes 4\n",
      "2022-05-27 20:01:56, INFO: Applying network cleanup 1 lanes 4\n",
      "2022-05-27 20:01:56, INFO: Applying network cleanup 1 lanes 4\n",
      "2022-05-27 20:01:56, INFO: Applying Project to Roadway Network: network cleanup 1 lanes 4\n",
      "2022-05-27 20:01:56, INFO: Applying Project to Roadway Network: network cleanup 1 lanes 4\n"
     ]
    },
    {
     "name": "stderr",
     "output_type": "stream",
     "text": [
      "C:\\Users\\wangs1\\AppData\\Local\\Continuum\\anaconda3\\envs\\lasso_wsp\\lib\\site-packages\\geopandas\\geodataframe.py:1351: SettingWithCopyWarning: \n",
      "A value is trying to be set on a copy of a slice from a DataFrame.\n",
      "Try using .loc[row_indexer,col_indexer] = value instead\n",
      "\n",
      "See the caveats in the documentation: https://pandas.pydata.org/pandas-docs/stable/user_guide/indexing.html#returning-a-view-versus-a-copy\n",
      "  super().__setitem__(key, value)\n"
     ]
    },
    {
     "name": "stdout",
     "output_type": "stream",
     "text": [
      "2022-05-27 20:01:57, INFO: Applying network cleanup 1 lanes 3\n",
      "2022-05-27 20:01:57, INFO: Applying network cleanup 1 lanes 3\n",
      "2022-05-27 20:01:57, INFO: Applying network cleanup 1 lanes 3\n",
      "2022-05-27 20:01:57, INFO: Applying network cleanup 1 lanes 3\n",
      "2022-05-27 20:01:57, INFO: Applying Project to Roadway Network: network cleanup 1 lanes 3\n",
      "2022-05-27 20:01:57, INFO: Applying Project to Roadway Network: network cleanup 1 lanes 3\n"
     ]
    },
    {
     "name": "stderr",
     "output_type": "stream",
     "text": [
      "C:\\Users\\wangs1\\AppData\\Local\\Continuum\\anaconda3\\envs\\lasso_wsp\\lib\\site-packages\\geopandas\\geodataframe.py:1351: SettingWithCopyWarning: \n",
      "A value is trying to be set on a copy of a slice from a DataFrame.\n",
      "Try using .loc[row_indexer,col_indexer] = value instead\n",
      "\n",
      "See the caveats in the documentation: https://pandas.pydata.org/pandas-docs/stable/user_guide/indexing.html#returning-a-view-versus-a-copy\n",
      "  super().__setitem__(key, value)\n"
     ]
    },
    {
     "name": "stdout",
     "output_type": "stream",
     "text": [
      "2022-05-27 20:02:14, INFO: Applying network cleanup 1 lanes 2e\n",
      "2022-05-27 20:02:14, INFO: Applying network cleanup 1 lanes 2e\n",
      "2022-05-27 20:02:14, INFO: Applying network cleanup 1 lanes 2e\n",
      "2022-05-27 20:02:14, INFO: Applying network cleanup 1 lanes 2e\n",
      "2022-05-27 20:02:14, INFO: Applying Project to Roadway Network: network cleanup 1 lanes 2e\n",
      "2022-05-27 20:02:14, INFO: Applying Project to Roadway Network: network cleanup 1 lanes 2e\n"
     ]
    },
    {
     "name": "stderr",
     "output_type": "stream",
     "text": [
      "C:\\Users\\wangs1\\AppData\\Local\\Continuum\\anaconda3\\envs\\lasso_wsp\\lib\\site-packages\\geopandas\\geodataframe.py:1351: SettingWithCopyWarning: \n",
      "A value is trying to be set on a copy of a slice from a DataFrame.\n",
      "Try using .loc[row_indexer,col_indexer] = value instead\n",
      "\n",
      "See the caveats in the documentation: https://pandas.pydata.org/pandas-docs/stable/user_guide/indexing.html#returning-a-view-versus-a-copy\n",
      "  super().__setitem__(key, value)\n"
     ]
    },
    {
     "name": "stdout",
     "output_type": "stream",
     "text": [
      "2022-05-27 20:02:25, INFO: Applying network cleanup 1 lanes 2d part 2\n",
      "2022-05-27 20:02:25, INFO: Applying network cleanup 1 lanes 2d part 2\n",
      "2022-05-27 20:02:25, INFO: Applying network cleanup 1 lanes 2d part 2\n",
      "2022-05-27 20:02:25, INFO: Applying network cleanup 1 lanes 2d part 2\n",
      "2022-05-27 20:02:25, INFO: Applying Project to Roadway Network: network cleanup 1 lanes 2d part 2\n",
      "2022-05-27 20:02:25, INFO: Applying Project to Roadway Network: network cleanup 1 lanes 2d part 2\n"
     ]
    },
    {
     "name": "stderr",
     "output_type": "stream",
     "text": [
      "C:\\Users\\wangs1\\AppData\\Local\\Continuum\\anaconda3\\envs\\lasso_wsp\\lib\\site-packages\\geopandas\\geodataframe.py:1351: SettingWithCopyWarning: \n",
      "A value is trying to be set on a copy of a slice from a DataFrame.\n",
      "Try using .loc[row_indexer,col_indexer] = value instead\n",
      "\n",
      "See the caveats in the documentation: https://pandas.pydata.org/pandas-docs/stable/user_guide/indexing.html#returning-a-view-versus-a-copy\n",
      "  super().__setitem__(key, value)\n"
     ]
    },
    {
     "name": "stdout",
     "output_type": "stream",
     "text": [
      "2022-05-27 20:02:27, INFO: Applying network cleanup 1 lanes 2d\n",
      "2022-05-27 20:02:27, INFO: Applying network cleanup 1 lanes 2d\n",
      "2022-05-27 20:02:27, INFO: Applying network cleanup 1 lanes 2d\n",
      "2022-05-27 20:02:27, INFO: Applying network cleanup 1 lanes 2d\n",
      "2022-05-27 20:02:27, INFO: Applying Project to Roadway Network: network cleanup 1 lanes 2d\n",
      "2022-05-27 20:02:27, INFO: Applying Project to Roadway Network: network cleanup 1 lanes 2d\n"
     ]
    },
    {
     "name": "stderr",
     "output_type": "stream",
     "text": [
      "C:\\Users\\wangs1\\AppData\\Local\\Continuum\\anaconda3\\envs\\lasso_wsp\\lib\\site-packages\\geopandas\\geodataframe.py:1351: SettingWithCopyWarning: \n",
      "A value is trying to be set on a copy of a slice from a DataFrame.\n",
      "Try using .loc[row_indexer,col_indexer] = value instead\n",
      "\n",
      "See the caveats in the documentation: https://pandas.pydata.org/pandas-docs/stable/user_guide/indexing.html#returning-a-view-versus-a-copy\n",
      "  super().__setitem__(key, value)\n"
     ]
    },
    {
     "name": "stdout",
     "output_type": "stream",
     "text": [
      "2022-05-27 20:02:39, INFO: Applying network cleanup 1 lanes 2c part 2\n",
      "2022-05-27 20:02:39, INFO: Applying network cleanup 1 lanes 2c part 2\n",
      "2022-05-27 20:02:39, INFO: Applying network cleanup 1 lanes 2c part 2\n",
      "2022-05-27 20:02:39, INFO: Applying network cleanup 1 lanes 2c part 2\n",
      "2022-05-27 20:02:39, INFO: Applying Project to Roadway Network: network cleanup 1 lanes 2c part 2\n",
      "2022-05-27 20:02:39, INFO: Applying Project to Roadway Network: network cleanup 1 lanes 2c part 2\n"
     ]
    },
    {
     "name": "stderr",
     "output_type": "stream",
     "text": [
      "C:\\Users\\wangs1\\AppData\\Local\\Continuum\\anaconda3\\envs\\lasso_wsp\\lib\\site-packages\\geopandas\\geodataframe.py:1351: SettingWithCopyWarning: \n",
      "A value is trying to be set on a copy of a slice from a DataFrame.\n",
      "Try using .loc[row_indexer,col_indexer] = value instead\n",
      "\n",
      "See the caveats in the documentation: https://pandas.pydata.org/pandas-docs/stable/user_guide/indexing.html#returning-a-view-versus-a-copy\n",
      "  super().__setitem__(key, value)\n"
     ]
    },
    {
     "name": "stdout",
     "output_type": "stream",
     "text": [
      "2022-05-27 20:02:41, INFO: Applying network cleanup 1 lanes 2c\n",
      "2022-05-27 20:02:41, INFO: Applying network cleanup 1 lanes 2c\n",
      "2022-05-27 20:02:41, INFO: Applying network cleanup 1 lanes 2c\n",
      "2022-05-27 20:02:41, INFO: Applying network cleanup 1 lanes 2c\n",
      "2022-05-27 20:02:41, INFO: Applying Project to Roadway Network: network cleanup 1 lanes 2c\n",
      "2022-05-27 20:02:41, INFO: Applying Project to Roadway Network: network cleanup 1 lanes 2c\n"
     ]
    },
    {
     "name": "stderr",
     "output_type": "stream",
     "text": [
      "C:\\Users\\wangs1\\AppData\\Local\\Continuum\\anaconda3\\envs\\lasso_wsp\\lib\\site-packages\\geopandas\\geodataframe.py:1351: SettingWithCopyWarning: \n",
      "A value is trying to be set on a copy of a slice from a DataFrame.\n",
      "Try using .loc[row_indexer,col_indexer] = value instead\n",
      "\n",
      "See the caveats in the documentation: https://pandas.pydata.org/pandas-docs/stable/user_guide/indexing.html#returning-a-view-versus-a-copy\n",
      "  super().__setitem__(key, value)\n"
     ]
    },
    {
     "name": "stdout",
     "output_type": "stream",
     "text": [
      "2022-05-27 20:02:53, INFO: Applying network cleanup 1 lanes 2b\n",
      "2022-05-27 20:02:53, INFO: Applying network cleanup 1 lanes 2b\n",
      "2022-05-27 20:02:53, INFO: Applying network cleanup 1 lanes 2b\n",
      "2022-05-27 20:02:53, INFO: Applying network cleanup 1 lanes 2b\n",
      "2022-05-27 20:02:53, INFO: Applying Project to Roadway Network: network cleanup 1 lanes 2b\n",
      "2022-05-27 20:02:53, INFO: Applying Project to Roadway Network: network cleanup 1 lanes 2b\n"
     ]
    },
    {
     "name": "stderr",
     "output_type": "stream",
     "text": [
      "C:\\Users\\wangs1\\AppData\\Local\\Continuum\\anaconda3\\envs\\lasso_wsp\\lib\\site-packages\\geopandas\\geodataframe.py:1351: SettingWithCopyWarning: \n",
      "A value is trying to be set on a copy of a slice from a DataFrame.\n",
      "Try using .loc[row_indexer,col_indexer] = value instead\n",
      "\n",
      "See the caveats in the documentation: https://pandas.pydata.org/pandas-docs/stable/user_guide/indexing.html#returning-a-view-versus-a-copy\n",
      "  super().__setitem__(key, value)\n"
     ]
    },
    {
     "name": "stdout",
     "output_type": "stream",
     "text": [
      "2022-05-27 20:03:10, INFO: Applying network cleanup 1 lanes 2a\n",
      "2022-05-27 20:03:10, INFO: Applying network cleanup 1 lanes 2a\n",
      "2022-05-27 20:03:10, INFO: Applying network cleanup 1 lanes 2a\n",
      "2022-05-27 20:03:10, INFO: Applying network cleanup 1 lanes 2a\n",
      "2022-05-27 20:03:10, INFO: Applying Project to Roadway Network: network cleanup 1 lanes 2a\n",
      "2022-05-27 20:03:10, INFO: Applying Project to Roadway Network: network cleanup 1 lanes 2a\n"
     ]
    },
    {
     "name": "stderr",
     "output_type": "stream",
     "text": [
      "C:\\Users\\wangs1\\AppData\\Local\\Continuum\\anaconda3\\envs\\lasso_wsp\\lib\\site-packages\\geopandas\\geodataframe.py:1351: SettingWithCopyWarning: \n",
      "A value is trying to be set on a copy of a slice from a DataFrame.\n",
      "Try using .loc[row_indexer,col_indexer] = value instead\n",
      "\n",
      "See the caveats in the documentation: https://pandas.pydata.org/pandas-docs/stable/user_guide/indexing.html#returning-a-view-versus-a-copy\n",
      "  super().__setitem__(key, value)\n"
     ]
    },
    {
     "name": "stdout",
     "output_type": "stream",
     "text": [
      "2022-05-27 20:03:23, INFO: Applying network cleanup 1 lanes 1 h\n",
      "2022-05-27 20:03:23, INFO: Applying network cleanup 1 lanes 1 h\n",
      "2022-05-27 20:03:23, INFO: Applying network cleanup 1 lanes 1 h\n",
      "2022-05-27 20:03:23, INFO: Applying network cleanup 1 lanes 1 h\n",
      "2022-05-27 20:03:23, INFO: Applying Project to Roadway Network: network cleanup 1 lanes 1 h\n",
      "2022-05-27 20:03:23, INFO: Applying Project to Roadway Network: network cleanup 1 lanes 1 h\n"
     ]
    },
    {
     "name": "stderr",
     "output_type": "stream",
     "text": [
      "C:\\Users\\wangs1\\AppData\\Local\\Continuum\\anaconda3\\envs\\lasso_wsp\\lib\\site-packages\\geopandas\\geodataframe.py:1351: SettingWithCopyWarning: \n",
      "A value is trying to be set on a copy of a slice from a DataFrame.\n",
      "Try using .loc[row_indexer,col_indexer] = value instead\n",
      "\n",
      "See the caveats in the documentation: https://pandas.pydata.org/pandas-docs/stable/user_guide/indexing.html#returning-a-view-versus-a-copy\n",
      "  super().__setitem__(key, value)\n"
     ]
    },
    {
     "name": "stdout",
     "output_type": "stream",
     "text": [
      "2022-05-27 20:03:26, INFO: Applying network cleanup 1 lanes 1 g\n",
      "2022-05-27 20:03:26, INFO: Applying network cleanup 1 lanes 1 g\n",
      "2022-05-27 20:03:26, INFO: Applying network cleanup 1 lanes 1 g\n",
      "2022-05-27 20:03:26, INFO: Applying network cleanup 1 lanes 1 g\n",
      "2022-05-27 20:03:26, INFO: Applying Project to Roadway Network: network cleanup 1 lanes 1 g\n",
      "2022-05-27 20:03:26, INFO: Applying Project to Roadway Network: network cleanup 1 lanes 1 g\n"
     ]
    },
    {
     "name": "stderr",
     "output_type": "stream",
     "text": [
      "C:\\Users\\wangs1\\AppData\\Local\\Continuum\\anaconda3\\envs\\lasso_wsp\\lib\\site-packages\\geopandas\\geodataframe.py:1351: SettingWithCopyWarning: \n",
      "A value is trying to be set on a copy of a slice from a DataFrame.\n",
      "Try using .loc[row_indexer,col_indexer] = value instead\n",
      "\n",
      "See the caveats in the documentation: https://pandas.pydata.org/pandas-docs/stable/user_guide/indexing.html#returning-a-view-versus-a-copy\n",
      "  super().__setitem__(key, value)\n"
     ]
    },
    {
     "name": "stdout",
     "output_type": "stream",
     "text": [
      "2022-05-27 20:03:44, INFO: Applying network cleanup 1 lanes 1 f part 2\n",
      "2022-05-27 20:03:44, INFO: Applying network cleanup 1 lanes 1 f part 2\n",
      "2022-05-27 20:03:44, INFO: Applying network cleanup 1 lanes 1 f part 2\n",
      "2022-05-27 20:03:44, INFO: Applying network cleanup 1 lanes 1 f part 2\n",
      "2022-05-27 20:03:44, INFO: Applying Project to Roadway Network: network cleanup 1 lanes 1 f part 2\n",
      "2022-05-27 20:03:44, INFO: Applying Project to Roadway Network: network cleanup 1 lanes 1 f part 2\n"
     ]
    },
    {
     "name": "stderr",
     "output_type": "stream",
     "text": [
      "C:\\Users\\wangs1\\AppData\\Local\\Continuum\\anaconda3\\envs\\lasso_wsp\\lib\\site-packages\\geopandas\\geodataframe.py:1351: SettingWithCopyWarning: \n",
      "A value is trying to be set on a copy of a slice from a DataFrame.\n",
      "Try using .loc[row_indexer,col_indexer] = value instead\n",
      "\n",
      "See the caveats in the documentation: https://pandas.pydata.org/pandas-docs/stable/user_guide/indexing.html#returning-a-view-versus-a-copy\n",
      "  super().__setitem__(key, value)\n"
     ]
    },
    {
     "name": "stdout",
     "output_type": "stream",
     "text": [
      "2022-05-27 20:03:45, INFO: Applying network cleanup 1 lanes 1 f\n",
      "2022-05-27 20:03:45, INFO: Applying network cleanup 1 lanes 1 f\n",
      "2022-05-27 20:03:45, INFO: Applying network cleanup 1 lanes 1 f\n",
      "2022-05-27 20:03:45, INFO: Applying network cleanup 1 lanes 1 f\n",
      "2022-05-27 20:03:45, INFO: Applying Project to Roadway Network: network cleanup 1 lanes 1 f\n",
      "2022-05-27 20:03:45, INFO: Applying Project to Roadway Network: network cleanup 1 lanes 1 f\n"
     ]
    },
    {
     "name": "stderr",
     "output_type": "stream",
     "text": [
      "C:\\Users\\wangs1\\AppData\\Local\\Continuum\\anaconda3\\envs\\lasso_wsp\\lib\\site-packages\\geopandas\\geodataframe.py:1351: SettingWithCopyWarning: \n",
      "A value is trying to be set on a copy of a slice from a DataFrame.\n",
      "Try using .loc[row_indexer,col_indexer] = value instead\n",
      "\n",
      "See the caveats in the documentation: https://pandas.pydata.org/pandas-docs/stable/user_guide/indexing.html#returning-a-view-versus-a-copy\n",
      "  super().__setitem__(key, value)\n"
     ]
    },
    {
     "name": "stdout",
     "output_type": "stream",
     "text": [
      "2022-05-27 20:03:58, INFO: Applying network cleanup 1 lanes 1 e part 2\n",
      "2022-05-27 20:03:58, INFO: Applying network cleanup 1 lanes 1 e part 2\n",
      "2022-05-27 20:03:58, INFO: Applying network cleanup 1 lanes 1 e part 2\n",
      "2022-05-27 20:03:58, INFO: Applying network cleanup 1 lanes 1 e part 2\n",
      "2022-05-27 20:03:58, INFO: Applying Project to Roadway Network: network cleanup 1 lanes 1 e part 2\n",
      "2022-05-27 20:03:58, INFO: Applying Project to Roadway Network: network cleanup 1 lanes 1 e part 2\n"
     ]
    },
    {
     "name": "stderr",
     "output_type": "stream",
     "text": [
      "C:\\Users\\wangs1\\AppData\\Local\\Continuum\\anaconda3\\envs\\lasso_wsp\\lib\\site-packages\\geopandas\\geodataframe.py:1351: SettingWithCopyWarning: \n",
      "A value is trying to be set on a copy of a slice from a DataFrame.\n",
      "Try using .loc[row_indexer,col_indexer] = value instead\n",
      "\n",
      "See the caveats in the documentation: https://pandas.pydata.org/pandas-docs/stable/user_guide/indexing.html#returning-a-view-versus-a-copy\n",
      "  super().__setitem__(key, value)\n"
     ]
    },
    {
     "name": "stdout",
     "output_type": "stream",
     "text": [
      "2022-05-27 20:03:59, INFO: Applying network cleanup 1 lanes 1 e\n",
      "2022-05-27 20:03:59, INFO: Applying network cleanup 1 lanes 1 e\n",
      "2022-05-27 20:03:59, INFO: Applying network cleanup 1 lanes 1 e\n",
      "2022-05-27 20:03:59, INFO: Applying network cleanup 1 lanes 1 e\n",
      "2022-05-27 20:03:59, INFO: Applying Project to Roadway Network: network cleanup 1 lanes 1 e\n",
      "2022-05-27 20:03:59, INFO: Applying Project to Roadway Network: network cleanup 1 lanes 1 e\n"
     ]
    },
    {
     "name": "stderr",
     "output_type": "stream",
     "text": [
      "C:\\Users\\wangs1\\AppData\\Local\\Continuum\\anaconda3\\envs\\lasso_wsp\\lib\\site-packages\\geopandas\\geodataframe.py:1351: SettingWithCopyWarning: \n",
      "A value is trying to be set on a copy of a slice from a DataFrame.\n",
      "Try using .loc[row_indexer,col_indexer] = value instead\n",
      "\n",
      "See the caveats in the documentation: https://pandas.pydata.org/pandas-docs/stable/user_guide/indexing.html#returning-a-view-versus-a-copy\n",
      "  super().__setitem__(key, value)\n"
     ]
    },
    {
     "name": "stdout",
     "output_type": "stream",
     "text": [
      "2022-05-27 20:04:11, INFO: Applying network cleanup 1 lanes 1 d part 2\n",
      "2022-05-27 20:04:11, INFO: Applying network cleanup 1 lanes 1 d part 2\n",
      "2022-05-27 20:04:11, INFO: Applying network cleanup 1 lanes 1 d part 2\n",
      "2022-05-27 20:04:11, INFO: Applying network cleanup 1 lanes 1 d part 2\n",
      "2022-05-27 20:04:11, INFO: Applying Project to Roadway Network: network cleanup 1 lanes 1 d part 2\n",
      "2022-05-27 20:04:11, INFO: Applying Project to Roadway Network: network cleanup 1 lanes 1 d part 2\n"
     ]
    },
    {
     "name": "stderr",
     "output_type": "stream",
     "text": [
      "C:\\Users\\wangs1\\AppData\\Local\\Continuum\\anaconda3\\envs\\lasso_wsp\\lib\\site-packages\\geopandas\\geodataframe.py:1351: SettingWithCopyWarning: \n",
      "A value is trying to be set on a copy of a slice from a DataFrame.\n",
      "Try using .loc[row_indexer,col_indexer] = value instead\n",
      "\n",
      "See the caveats in the documentation: https://pandas.pydata.org/pandas-docs/stable/user_guide/indexing.html#returning-a-view-versus-a-copy\n",
      "  super().__setitem__(key, value)\n"
     ]
    },
    {
     "name": "stdout",
     "output_type": "stream",
     "text": [
      "2022-05-27 20:04:13, INFO: Applying network cleanup 1 lanes 1 d\n",
      "2022-05-27 20:04:13, INFO: Applying network cleanup 1 lanes 1 d\n",
      "2022-05-27 20:04:13, INFO: Applying network cleanup 1 lanes 1 d\n",
      "2022-05-27 20:04:13, INFO: Applying network cleanup 1 lanes 1 d\n",
      "2022-05-27 20:04:13, INFO: Applying Project to Roadway Network: network cleanup 1 lanes 1 d\n",
      "2022-05-27 20:04:13, INFO: Applying Project to Roadway Network: network cleanup 1 lanes 1 d\n"
     ]
    },
    {
     "name": "stderr",
     "output_type": "stream",
     "text": [
      "C:\\Users\\wangs1\\AppData\\Local\\Continuum\\anaconda3\\envs\\lasso_wsp\\lib\\site-packages\\geopandas\\geodataframe.py:1351: SettingWithCopyWarning: \n",
      "A value is trying to be set on a copy of a slice from a DataFrame.\n",
      "Try using .loc[row_indexer,col_indexer] = value instead\n",
      "\n",
      "See the caveats in the documentation: https://pandas.pydata.org/pandas-docs/stable/user_guide/indexing.html#returning-a-view-versus-a-copy\n",
      "  super().__setitem__(key, value)\n"
     ]
    },
    {
     "name": "stdout",
     "output_type": "stream",
     "text": [
      "2022-05-27 20:04:25, INFO: Applying network cleanup 1 lanes 1 c part 2\n",
      "2022-05-27 20:04:25, INFO: Applying network cleanup 1 lanes 1 c part 2\n",
      "2022-05-27 20:04:25, INFO: Applying network cleanup 1 lanes 1 c part 2\n",
      "2022-05-27 20:04:25, INFO: Applying network cleanup 1 lanes 1 c part 2\n",
      "2022-05-27 20:04:25, INFO: Applying Project to Roadway Network: network cleanup 1 lanes 1 c part 2\n",
      "2022-05-27 20:04:25, INFO: Applying Project to Roadway Network: network cleanup 1 lanes 1 c part 2\n"
     ]
    },
    {
     "name": "stderr",
     "output_type": "stream",
     "text": [
      "C:\\Users\\wangs1\\AppData\\Local\\Continuum\\anaconda3\\envs\\lasso_wsp\\lib\\site-packages\\geopandas\\geodataframe.py:1351: SettingWithCopyWarning: \n",
      "A value is trying to be set on a copy of a slice from a DataFrame.\n",
      "Try using .loc[row_indexer,col_indexer] = value instead\n",
      "\n",
      "See the caveats in the documentation: https://pandas.pydata.org/pandas-docs/stable/user_guide/indexing.html#returning-a-view-versus-a-copy\n",
      "  super().__setitem__(key, value)\n"
     ]
    },
    {
     "name": "stdout",
     "output_type": "stream",
     "text": [
      "2022-05-27 20:04:26, INFO: Applying network cleanup 1 lanes 1 c\n",
      "2022-05-27 20:04:26, INFO: Applying network cleanup 1 lanes 1 c\n",
      "2022-05-27 20:04:26, INFO: Applying network cleanup 1 lanes 1 c\n",
      "2022-05-27 20:04:26, INFO: Applying network cleanup 1 lanes 1 c\n",
      "2022-05-27 20:04:26, INFO: Applying Project to Roadway Network: network cleanup 1 lanes 1 c\n",
      "2022-05-27 20:04:26, INFO: Applying Project to Roadway Network: network cleanup 1 lanes 1 c\n"
     ]
    },
    {
     "name": "stderr",
     "output_type": "stream",
     "text": [
      "C:\\Users\\wangs1\\AppData\\Local\\Continuum\\anaconda3\\envs\\lasso_wsp\\lib\\site-packages\\geopandas\\geodataframe.py:1351: SettingWithCopyWarning: \n",
      "A value is trying to be set on a copy of a slice from a DataFrame.\n",
      "Try using .loc[row_indexer,col_indexer] = value instead\n",
      "\n",
      "See the caveats in the documentation: https://pandas.pydata.org/pandas-docs/stable/user_guide/indexing.html#returning-a-view-versus-a-copy\n",
      "  super().__setitem__(key, value)\n"
     ]
    },
    {
     "name": "stdout",
     "output_type": "stream",
     "text": [
      "2022-05-27 20:04:37, INFO: Applying network cleanup 1 lanes 1 b part 2\n",
      "2022-05-27 20:04:37, INFO: Applying network cleanup 1 lanes 1 b part 2\n",
      "2022-05-27 20:04:37, INFO: Applying network cleanup 1 lanes 1 b part 2\n",
      "2022-05-27 20:04:37, INFO: Applying network cleanup 1 lanes 1 b part 2\n",
      "2022-05-27 20:04:37, INFO: Applying Project to Roadway Network: network cleanup 1 lanes 1 b part 2\n",
      "2022-05-27 20:04:37, INFO: Applying Project to Roadway Network: network cleanup 1 lanes 1 b part 2\n"
     ]
    },
    {
     "name": "stderr",
     "output_type": "stream",
     "text": [
      "C:\\Users\\wangs1\\AppData\\Local\\Continuum\\anaconda3\\envs\\lasso_wsp\\lib\\site-packages\\geopandas\\geodataframe.py:1351: SettingWithCopyWarning: \n",
      "A value is trying to be set on a copy of a slice from a DataFrame.\n",
      "Try using .loc[row_indexer,col_indexer] = value instead\n",
      "\n",
      "See the caveats in the documentation: https://pandas.pydata.org/pandas-docs/stable/user_guide/indexing.html#returning-a-view-versus-a-copy\n",
      "  super().__setitem__(key, value)\n"
     ]
    },
    {
     "name": "stdout",
     "output_type": "stream",
     "text": [
      "2022-05-27 20:04:41, INFO: Applying network cleanup 1 lanes 1 b\n",
      "2022-05-27 20:04:41, INFO: Applying network cleanup 1 lanes 1 b\n",
      "2022-05-27 20:04:41, INFO: Applying network cleanup 1 lanes 1 b\n",
      "2022-05-27 20:04:41, INFO: Applying network cleanup 1 lanes 1 b\n",
      "2022-05-27 20:04:41, INFO: Applying Project to Roadway Network: network cleanup 1 lanes 1 b\n",
      "2022-05-27 20:04:41, INFO: Applying Project to Roadway Network: network cleanup 1 lanes 1 b\n"
     ]
    },
    {
     "name": "stderr",
     "output_type": "stream",
     "text": [
      "C:\\Users\\wangs1\\AppData\\Local\\Continuum\\anaconda3\\envs\\lasso_wsp\\lib\\site-packages\\geopandas\\geodataframe.py:1351: SettingWithCopyWarning: \n",
      "A value is trying to be set on a copy of a slice from a DataFrame.\n",
      "Try using .loc[row_indexer,col_indexer] = value instead\n",
      "\n",
      "See the caveats in the documentation: https://pandas.pydata.org/pandas-docs/stable/user_guide/indexing.html#returning-a-view-versus-a-copy\n",
      "  super().__setitem__(key, value)\n"
     ]
    },
    {
     "name": "stdout",
     "output_type": "stream",
     "text": [
      "2022-05-27 20:04:52, INFO: Applying network cleanup 1 lanes 1 a part2\n",
      "2022-05-27 20:04:52, INFO: Applying network cleanup 1 lanes 1 a part2\n",
      "2022-05-27 20:04:52, INFO: Applying network cleanup 1 lanes 1 a part2\n",
      "2022-05-27 20:04:52, INFO: Applying network cleanup 1 lanes 1 a part2\n",
      "2022-05-27 20:04:52, INFO: Applying Project to Roadway Network: network cleanup 1 lanes 1 a part2\n",
      "2022-05-27 20:04:52, INFO: Applying Project to Roadway Network: network cleanup 1 lanes 1 a part2\n"
     ]
    },
    {
     "name": "stderr",
     "output_type": "stream",
     "text": [
      "C:\\Users\\wangs1\\AppData\\Local\\Continuum\\anaconda3\\envs\\lasso_wsp\\lib\\site-packages\\geopandas\\geodataframe.py:1351: SettingWithCopyWarning: \n",
      "A value is trying to be set on a copy of a slice from a DataFrame.\n",
      "Try using .loc[row_indexer,col_indexer] = value instead\n",
      "\n",
      "See the caveats in the documentation: https://pandas.pydata.org/pandas-docs/stable/user_guide/indexing.html#returning-a-view-versus-a-copy\n",
      "  super().__setitem__(key, value)\n"
     ]
    },
    {
     "name": "stdout",
     "output_type": "stream",
     "text": [
      "2022-05-27 20:04:56, INFO: Applying network cleanup 1 lanes 1 a\n",
      "2022-05-27 20:04:56, INFO: Applying network cleanup 1 lanes 1 a\n",
      "2022-05-27 20:04:56, INFO: Applying network cleanup 1 lanes 1 a\n",
      "2022-05-27 20:04:56, INFO: Applying network cleanup 1 lanes 1 a\n",
      "2022-05-27 20:04:56, INFO: Applying Project to Roadway Network: network cleanup 1 lanes 1 a\n",
      "2022-05-27 20:04:56, INFO: Applying Project to Roadway Network: network cleanup 1 lanes 1 a\n"
     ]
    },
    {
     "name": "stderr",
     "output_type": "stream",
     "text": [
      "C:\\Users\\wangs1\\AppData\\Local\\Continuum\\anaconda3\\envs\\lasso_wsp\\lib\\site-packages\\geopandas\\geodataframe.py:1351: SettingWithCopyWarning: \n",
      "A value is trying to be set on a copy of a slice from a DataFrame.\n",
      "Try using .loc[row_indexer,col_indexer] = value instead\n",
      "\n",
      "See the caveats in the documentation: https://pandas.pydata.org/pandas-docs/stable/user_guide/indexing.html#returning-a-view-versus-a-copy\n",
      "  super().__setitem__(key, value)\n"
     ]
    },
    {
     "name": "stdout",
     "output_type": "stream",
     "text": [
      "2022-05-27 20:05:07, INFO: Applying Year 2015 Add centroid connector at External Stations\n",
      "2022-05-27 20:05:07, INFO: Applying Year 2015 Add centroid connector at External Stations\n",
      "2022-05-27 20:05:07, INFO: Applying Year 2015 Add centroid connector at External Stations\n",
      "2022-05-27 20:05:07, INFO: Applying Year 2015 Add centroid connector at External Stations\n",
      "2022-05-27 20:05:07, INFO: Applying Project to Roadway Network: Year 2015 Add centroid connector at External Stations\n",
      "2022-05-27 20:05:07, INFO: Applying Project to Roadway Network: Year 2015 Add centroid connector at External Stations\n"
     ]
    },
    {
     "name": "stderr",
     "output_type": "stream",
     "text": [
      "C:\\Users\\wangs1\\AppData\\Local\\Continuum\\anaconda3\\envs\\lasso_wsp\\lib\\site-packages\\geopandas\\geodataframe.py:1351: SettingWithCopyWarning: \n",
      "A value is trying to be set on a copy of a slice from a DataFrame.\n",
      "Try using .loc[row_indexer,col_indexer] = value instead\n",
      "\n",
      "See the caveats in the documentation: https://pandas.pydata.org/pandas-docs/stable/user_guide/indexing.html#returning-a-view-versus-a-copy\n",
      "  super().__setitem__(key, value)\n",
      "C:\\Users\\wangs1\\AppData\\Local\\Continuum\\anaconda3\\envs\\lasso_wsp\\lib\\site-packages\\pandas\\core\\dtypes\\cast.py:118: ShapelyDeprecationWarning: The array interface is deprecated and will no longer work in Shapely 2.0. Convert the '.coords' to a numpy array instead.\n",
      "  arr = construct_1d_object_array_from_listlike(values)\n",
      "C:\\Users\\wangs1\\AppData\\Local\\Continuum\\anaconda3\\envs\\lasso_wsp\\lib\\site-packages\\pandas\\core\\dtypes\\cast.py:118: ShapelyDeprecationWarning: The array interface is deprecated and will no longer work in Shapely 2.0. Convert the '.coords' to a numpy array instead.\n",
      "  arr = construct_1d_object_array_from_listlike(values)\n"
     ]
    },
    {
     "name": "stdout",
     "output_type": "stream",
     "text": [
      "2022-05-27 20:08:53, INFO: Applying network cleanup 1 asgngrp 7\n",
      "2022-05-27 20:08:53, INFO: Applying network cleanup 1 asgngrp 7\n",
      "2022-05-27 20:08:53, INFO: Applying network cleanup 1 asgngrp 7\n",
      "2022-05-27 20:08:53, INFO: Applying network cleanup 1 asgngrp 7\n",
      "2022-05-27 20:08:53, INFO: Applying Project to Roadway Network: network cleanup 1 asgngrp 7\n",
      "2022-05-27 20:08:53, INFO: Applying Project to Roadway Network: network cleanup 1 asgngrp 7\n",
      "2022-05-27 20:08:53, INFO: Applying network cleanup 1 asgngrp 6\n",
      "2022-05-27 20:08:53, INFO: Applying network cleanup 1 asgngrp 6\n",
      "2022-05-27 20:08:53, INFO: Applying network cleanup 1 asgngrp 6\n",
      "2022-05-27 20:08:53, INFO: Applying network cleanup 1 asgngrp 6\n",
      "2022-05-27 20:08:53, INFO: Applying Project to Roadway Network: network cleanup 1 asgngrp 6\n",
      "2022-05-27 20:08:53, INFO: Applying Project to Roadway Network: network cleanup 1 asgngrp 6\n"
     ]
    },
    {
     "name": "stderr",
     "output_type": "stream",
     "text": [
      "C:\\Users\\wangs1\\AppData\\Local\\Continuum\\anaconda3\\envs\\lasso_wsp\\lib\\site-packages\\geopandas\\geodataframe.py:1351: SettingWithCopyWarning: \n",
      "A value is trying to be set on a copy of a slice from a DataFrame.\n",
      "Try using .loc[row_indexer,col_indexer] = value instead\n",
      "\n",
      "See the caveats in the documentation: https://pandas.pydata.org/pandas-docs/stable/user_guide/indexing.html#returning-a-view-versus-a-copy\n",
      "  super().__setitem__(key, value)\n"
     ]
    },
    {
     "name": "stdout",
     "output_type": "stream",
     "text": [
      "2022-05-27 20:08:53, INFO: Applying network cleanup 1 asgngrp 50\n",
      "2022-05-27 20:08:53, INFO: Applying network cleanup 1 asgngrp 50\n",
      "2022-05-27 20:08:53, INFO: Applying network cleanup 1 asgngrp 50\n",
      "2022-05-27 20:08:53, INFO: Applying network cleanup 1 asgngrp 50\n",
      "2022-05-27 20:08:53, INFO: Applying Project to Roadway Network: network cleanup 1 asgngrp 50\n",
      "2022-05-27 20:08:53, INFO: Applying Project to Roadway Network: network cleanup 1 asgngrp 50\n",
      "2022-05-27 20:08:54, INFO: Applying network cleanup 1 asgngrp 4\n",
      "2022-05-27 20:08:54, INFO: Applying network cleanup 1 asgngrp 4\n",
      "2022-05-27 20:08:54, INFO: Applying network cleanup 1 asgngrp 4\n",
      "2022-05-27 20:08:54, INFO: Applying network cleanup 1 asgngrp 4\n",
      "2022-05-27 20:08:54, INFO: Applying Project to Roadway Network: network cleanup 1 asgngrp 4\n",
      "2022-05-27 20:08:54, INFO: Applying Project to Roadway Network: network cleanup 1 asgngrp 4\n"
     ]
    },
    {
     "name": "stderr",
     "output_type": "stream",
     "text": [
      "C:\\Users\\wangs1\\AppData\\Local\\Continuum\\anaconda3\\envs\\lasso_wsp\\lib\\site-packages\\geopandas\\geodataframe.py:1351: SettingWithCopyWarning: \n",
      "A value is trying to be set on a copy of a slice from a DataFrame.\n",
      "Try using .loc[row_indexer,col_indexer] = value instead\n",
      "\n",
      "See the caveats in the documentation: https://pandas.pydata.org/pandas-docs/stable/user_guide/indexing.html#returning-a-view-versus-a-copy\n",
      "  super().__setitem__(key, value)\n",
      "C:\\Users\\wangs1\\AppData\\Local\\Continuum\\anaconda3\\envs\\lasso_wsp\\lib\\site-packages\\geopandas\\geodataframe.py:1351: SettingWithCopyWarning: \n",
      "A value is trying to be set on a copy of a slice from a DataFrame.\n",
      "Try using .loc[row_indexer,col_indexer] = value instead\n",
      "\n",
      "See the caveats in the documentation: https://pandas.pydata.org/pandas-docs/stable/user_guide/indexing.html#returning-a-view-versus-a-copy\n",
      "  super().__setitem__(key, value)\n"
     ]
    },
    {
     "name": "stdout",
     "output_type": "stream",
     "text": [
      "2022-05-27 20:08:55, INFO: Applying network cleanup 1 asgngrp 2\n",
      "2022-05-27 20:08:55, INFO: Applying network cleanup 1 asgngrp 2\n",
      "2022-05-27 20:08:55, INFO: Applying network cleanup 1 asgngrp 2\n",
      "2022-05-27 20:08:55, INFO: Applying network cleanup 1 asgngrp 2\n",
      "2022-05-27 20:08:55, INFO: Applying Project to Roadway Network: network cleanup 1 asgngrp 2\n",
      "2022-05-27 20:08:55, INFO: Applying Project to Roadway Network: network cleanup 1 asgngrp 2\n"
     ]
    },
    {
     "name": "stderr",
     "output_type": "stream",
     "text": [
      "C:\\Users\\wangs1\\AppData\\Local\\Continuum\\anaconda3\\envs\\lasso_wsp\\lib\\site-packages\\geopandas\\geodataframe.py:1351: SettingWithCopyWarning: \n",
      "A value is trying to be set on a copy of a slice from a DataFrame.\n",
      "Try using .loc[row_indexer,col_indexer] = value instead\n",
      "\n",
      "See the caveats in the documentation: https://pandas.pydata.org/pandas-docs/stable/user_guide/indexing.html#returning-a-view-versus-a-copy\n",
      "  super().__setitem__(key, value)\n"
     ]
    },
    {
     "name": "stdout",
     "output_type": "stream",
     "text": [
      "2022-05-27 20:08:55, INFO: Applying network cleanup 1 asgngrp 15\n",
      "2022-05-27 20:08:55, INFO: Applying network cleanup 1 asgngrp 15\n",
      "2022-05-27 20:08:55, INFO: Applying network cleanup 1 asgngrp 15\n",
      "2022-05-27 20:08:55, INFO: Applying network cleanup 1 asgngrp 15\n",
      "2022-05-27 20:08:55, INFO: Applying Project to Roadway Network: network cleanup 1 asgngrp 15\n",
      "2022-05-27 20:08:55, INFO: Applying Project to Roadway Network: network cleanup 1 asgngrp 15\n"
     ]
    },
    {
     "name": "stderr",
     "output_type": "stream",
     "text": [
      "C:\\Users\\wangs1\\AppData\\Local\\Continuum\\anaconda3\\envs\\lasso_wsp\\lib\\site-packages\\geopandas\\geodataframe.py:1351: SettingWithCopyWarning: \n",
      "A value is trying to be set on a copy of a slice from a DataFrame.\n",
      "Try using .loc[row_indexer,col_indexer] = value instead\n",
      "\n",
      "See the caveats in the documentation: https://pandas.pydata.org/pandas-docs/stable/user_guide/indexing.html#returning-a-view-versus-a-copy\n",
      "  super().__setitem__(key, value)\n"
     ]
    },
    {
     "name": "stdout",
     "output_type": "stream",
     "text": [
      "2022-05-27 20:08:56, INFO: Applying network cleanup 1 asgngrp 1\n",
      "2022-05-27 20:08:56, INFO: Applying network cleanup 1 asgngrp 1\n",
      "2022-05-27 20:08:56, INFO: Applying network cleanup 1 asgngrp 1\n",
      "2022-05-27 20:08:56, INFO: Applying network cleanup 1 asgngrp 1\n",
      "2022-05-27 20:08:56, INFO: Applying Project to Roadway Network: network cleanup 1 asgngrp 1\n",
      "2022-05-27 20:08:56, INFO: Applying Project to Roadway Network: network cleanup 1 asgngrp 1\n"
     ]
    },
    {
     "name": "stderr",
     "output_type": "stream",
     "text": [
      "C:\\Users\\wangs1\\AppData\\Local\\Continuum\\anaconda3\\envs\\lasso_wsp\\lib\\site-packages\\geopandas\\geodataframe.py:1351: SettingWithCopyWarning: \n",
      "A value is trying to be set on a copy of a slice from a DataFrame.\n",
      "Try using .loc[row_indexer,col_indexer] = value instead\n",
      "\n",
      "See the caveats in the documentation: https://pandas.pydata.org/pandas-docs/stable/user_guide/indexing.html#returning-a-view-versus-a-copy\n",
      "  super().__setitem__(key, value)\n"
     ]
    },
    {
     "name": "stdout",
     "output_type": "stream",
     "text": [
      "2022-05-27 20:09:00, INFO: Applying Add walk and bike attributes\n",
      "2022-05-27 20:09:00, INFO: Applying Add walk and bike attributes\n",
      "2022-05-27 20:09:00, INFO: Applying Project to Roadway Network: Add walk and bike attributes\n",
      "2022-05-27 20:09:00, INFO: Applying Project to Roadway Network: Add walk and bike attributes\n"
     ]
    },
    {
     "name": "stderr",
     "output_type": "stream",
     "text": [
      "C:\\Users\\wangs1\\AppData\\Local\\Continuum\\anaconda3\\envs\\lasso_wsp\\lib\\site-packages\\geopandas\\geodataframe.py:1351: SettingWithCopyWarning: \n",
      "A value is trying to be set on a copy of a slice from a DataFrame.\n",
      "Try using .loc[row_indexer,col_indexer] = value instead\n",
      "\n",
      "See the caveats in the documentation: https://pandas.pydata.org/pandas-docs/stable/user_guide/indexing.html#returning-a-view-versus-a-copy\n",
      "  super().__setitem__(key, value)\n"
     ]
    }
   ],
   "source": [
    "version_01_scenario.apply_all_projects()"
   ]
  },
  {
   "cell_type": "code",
   "execution_count": 28,
   "id": "a9868216",
   "metadata": {},
   "outputs": [
    {
     "data": {
      "text/plain": [
       "['correct year 2018 assignment group and roadway class',\n",
       " 'correct year 2018 assignment group',\n",
       " 'network cleanup remove link',\n",
       " 'Manual Changes to Assignment Group and Roadway Class',\n",
       " 'network cleanup 1 lanes 7',\n",
       " 'network cleanup 1 lanes 6',\n",
       " 'network cleanup 1 lanes 5',\n",
       " 'network cleanup 1 lanes 4',\n",
       " 'network cleanup 1 lanes 3',\n",
       " 'network cleanup 1 lanes 2e',\n",
       " 'network cleanup 1 lanes 2d part 2',\n",
       " 'network cleanup 1 lanes 2d',\n",
       " 'network cleanup 1 lanes 2c part 2',\n",
       " 'network cleanup 1 lanes 2c',\n",
       " 'network cleanup 1 lanes 2b',\n",
       " 'network cleanup 1 lanes 2a',\n",
       " 'network cleanup 1 lanes 1 h',\n",
       " 'network cleanup 1 lanes 1 g',\n",
       " 'network cleanup 1 lanes 1 f part 2',\n",
       " 'network cleanup 1 lanes 1 f',\n",
       " 'network cleanup 1 lanes 1 e part 2',\n",
       " 'network cleanup 1 lanes 1 e',\n",
       " 'network cleanup 1 lanes 1 d part 2',\n",
       " 'network cleanup 1 lanes 1 d',\n",
       " 'network cleanup 1 lanes 1 c part 2',\n",
       " 'network cleanup 1 lanes 1 c',\n",
       " 'network cleanup 1 lanes 1 b part 2',\n",
       " 'network cleanup 1 lanes 1 b',\n",
       " 'network cleanup 1 lanes 1 a part2',\n",
       " 'network cleanup 1 lanes 1 a',\n",
       " 'Year 2015 Add centroid connector at External Stations',\n",
       " 'network cleanup 1 asgngrp 7',\n",
       " 'network cleanup 1 asgngrp 6',\n",
       " 'network cleanup 1 asgngrp 50',\n",
       " 'network cleanup 1 asgngrp 4',\n",
       " 'network cleanup 1 asgngrp 2',\n",
       " 'network cleanup 1 asgngrp 15',\n",
       " 'network cleanup 1 asgngrp 1',\n",
       " 'Add walk and bike attributes']"
      ]
     },
     "execution_count": 28,
     "metadata": {},
     "output_type": "execute_result"
    }
   ],
   "source": [
    "version_01_scenario.applied_projects"
   ]
  },
  {
   "cell_type": "code",
   "execution_count": 29,
   "id": "c271d2a1",
   "metadata": {},
   "outputs": [
    {
     "data": {
      "text/plain": [
       "(1061709, 52)"
      ]
     },
     "execution_count": 29,
     "metadata": {},
     "output_type": "execute_result"
    }
   ],
   "source": [
    "version_01_scenario.road_net.links_df.shape"
   ]
  },
  {
   "cell_type": "code",
   "execution_count": 30,
   "id": "e02a096a",
   "metadata": {},
   "outputs": [
    {
     "data": {
      "text/plain": [
       "1061709"
      ]
     },
     "execution_count": 30,
     "metadata": {},
     "output_type": "execute_result"
    }
   ],
   "source": [
    "version_01_scenario.road_net.links_df.model_link_id.nunique()"
   ]
  },
  {
   "cell_type": "code",
   "execution_count": 31,
   "id": "1dcb64ee",
   "metadata": {},
   "outputs": [
    {
     "data": {
      "text/plain": [
       "(414253, 11)"
      ]
     },
     "execution_count": 31,
     "metadata": {},
     "output_type": "execute_result"
    }
   ],
   "source": [
    "version_01_scenario.road_net.nodes_df.shape"
   ]
  },
  {
   "cell_type": "code",
   "execution_count": 32,
   "id": "91575647",
   "metadata": {},
   "outputs": [
    {
     "data": {
      "text/plain": [
       "414253"
      ]
     },
     "execution_count": 32,
     "metadata": {},
     "output_type": "execute_result"
    }
   ],
   "source": [
    "version_01_scenario.road_net.nodes_df.model_node_id.nunique()"
   ]
  },
  {
   "cell_type": "code",
   "execution_count": 33,
   "id": "8d067788",
   "metadata": {},
   "outputs": [],
   "source": [
    "version_01_scenario.road_net.links_df['access'] = version_01_scenario.road_net.links_df['access'].fillna('')\n",
    "version_01_scenario.road_net.links_df['access'] = version_01_scenario.road_net.links_df['access'].apply(\n",
    "    lambda x: util.shorten_name(x)\n",
    ")"
   ]
  },
  {
   "cell_type": "code",
   "execution_count": 34,
   "id": "8e83884e",
   "metadata": {},
   "outputs": [],
   "source": [
    "version_01_scenario.road_net.links_df['name'] = version_01_scenario.road_net.links_df['name'].fillna('')\n",
    "version_01_scenario.road_net.links_df['name'] = version_01_scenario.road_net.links_df['name'].apply(\n",
    "    lambda x: util.shorten_name(x)\n",
    ")"
   ]
  },
  {
   "cell_type": "markdown",
   "id": "3c503953",
   "metadata": {},
   "source": [
    "# Save version 01 standard networks"
   ]
  },
  {
   "cell_type": "code",
   "execution_count": 35,
   "id": "e3846cb6",
   "metadata": {},
   "outputs": [],
   "source": [
    "version_01_scenario.road_net.write(path = os.path.join(output_dir, 'standard_networks'))"
   ]
  },
  {
   "cell_type": "markdown",
   "id": "7d1b2ef9",
   "metadata": {},
   "source": [
    "# Save version 01 standard network as pickle file"
   ]
  },
  {
   "cell_type": "code",
   "execution_count": 36,
   "id": "b2a295ca",
   "metadata": {},
   "outputs": [],
   "source": [
    "working_scenario_filename = os.path.join(output_dir, 'version_01_standard_network.pickle')\n",
    "pickle.dump(version_01_scenario, open(working_scenario_filename, 'wb'))"
   ]
  },
  {
   "cell_type": "markdown",
   "id": "3ec2566c",
   "metadata": {},
   "source": [
    "# Make Travel Model Network"
   ]
  },
  {
   "cell_type": "code",
   "execution_count": 33,
   "id": "c844062a",
   "metadata": {},
   "outputs": [
    {
     "name": "stdout",
     "output_type": "stream",
     "text": [
      "2022-05-27 15:18:22, INFO: Lasso base directory set as: Z:/Data/Users/Sijia/Met_Council/github/client_met_council_wrangler_utilities\n",
      "2022-05-27 15:18:22, INFO: Lasso base directory set as: Z:/Data/Users/Sijia/Met_Council/github/client_met_council_wrangler_utilities\n"
     ]
    }
   ],
   "source": [
    "m_net = ModelRoadwayNetwork.from_RoadwayNetwork(\n",
    "    roadway_network_object = version_01_scenario.road_net, \n",
    "    parameters = parameters\n",
    ")"
   ]
  },
  {
   "cell_type": "markdown",
   "id": "27e8048a",
   "metadata": {},
   "source": [
    "### Add centroid and centroid connectors"
   ]
  },
  {
   "cell_type": "code",
   "execution_count": 34,
   "id": "7d831a4b",
   "metadata": {},
   "outputs": [
    {
     "name": "stdout",
     "output_type": "stream",
     "text": [
      "2022-05-27 15:18:22, INFO: Adding centroid and centroid connector to standard network\n",
      "2022-05-27 15:18:22, INFO: Adding centroid and centroid connector to standard network\n",
      "2022-05-27 15:18:22, INFO: Lasso base directory set as: Z:/Data/Users/Sijia/Met_Council/github/client_met_council_wrangler_utilities\n",
      "2022-05-27 15:18:22, INFO: Lasso base directory set as: Z:/Data/Users/Sijia/Met_Council/github/client_met_council_wrangler_utilities\n",
      "2022-05-27 15:18:26, INFO: Finished adding centroid and centroid connectors\n",
      "2022-05-27 15:18:26, INFO: Finished adding centroid and centroid connectors\n"
     ]
    }
   ],
   "source": [
    "m_net = metcouncil.add_centroid_and_centroid_connector(\n",
    "    roadway_network = m_net,\n",
    "    parameters = parameters,\n",
    "    centroid_file = os.path.join(input_dir, 'standard_networks', 'centroid_node.pickle'),\n",
    "    centroid_connector_link_file = os.path.join(input_dir, 'standard_networks', 'cc_link.pickle'),\n",
    "    centroid_connector_shape_file = os.path.join(input_dir, 'standard_networks', 'cc_shape.pickle'),\n",
    ")"
   ]
  },
  {
   "cell_type": "markdown",
   "id": "8ba8ed73",
   "metadata": {},
   "source": [
    "### Add Rail access and egress links"
   ]
  },
  {
   "cell_type": "code",
   "execution_count": 35,
   "id": "0983f0b7",
   "metadata": {},
   "outputs": [
    {
     "name": "stdout",
     "output_type": "stream",
     "text": [
      "2022-05-27 15:18:27, INFO: Creating rail access and egress connection links\n",
      "2022-05-27 15:18:27, INFO: Creating rail access and egress connection links\n"
     ]
    },
    {
     "name": "stderr",
     "output_type": "stream",
     "text": [
      "C:\\Users\\wangs1\\AppData\\Local\\Continuum\\anaconda3\\envs\\lasso_wsp\\lib\\site-packages\\pandas\\core\\dtypes\\cast.py:118: ShapelyDeprecationWarning: The array interface is deprecated and will no longer work in Shapely 2.0. Convert the '.coords' to a numpy array instead.\n",
      "  arr = construct_1d_object_array_from_listlike(values)\n"
     ]
    }
   ],
   "source": [
    "m_net = metcouncil.add_rail_ae_connections(\n",
    "    m_net,\n",
    "    parameters\n",
    ")"
   ]
  },
  {
   "cell_type": "code",
   "execution_count": 36,
   "id": "50315d7e",
   "metadata": {},
   "outputs": [
    {
     "name": "stdout",
     "output_type": "stream",
     "text": [
      "2022-05-27 15:18:48, INFO: Renaming roadway attributes to be consistent with what metcouncil's model is expecting\n",
      "2022-05-27 15:18:48, INFO: Renaming roadway attributes to be consistent with what metcouncil's model is expecting\n",
      "2022-05-27 15:18:48, INFO: Didn't detect managed lanes in network.\n",
      "2022-05-27 15:18:48, INFO: Didn't detect managed lanes in network.\n",
      "2022-05-27 15:18:48, INFO: Creating calculated roadway variables.\n",
      "2022-05-27 15:18:48, INFO: Creating calculated roadway variables.\n",
      "2022-05-27 15:18:48, INFO: Area Type Variable 'area_type' already in network. Returning without overwriting.\n",
      "2022-05-27 15:18:48, INFO: Area Type Variable 'area_type' already in network. Returning without overwriting.\n",
      "2022-05-27 15:18:48, INFO: Overwriting existing County Variable 'county' already in network\n",
      "2022-05-27 15:18:48, INFO: Overwriting existing County Variable 'county' already in network\n",
      "2022-05-27 15:18:48, INFO: Adding roadway network variable for county using a spatial join with: Z:/Data/Users/Sijia/Met_Council/github/client_met_council_wrangler_utilities\\metcouncil_data\\county\\cb_2017_us_county_5m.shp\n",
      "2022-05-27 15:18:48, INFO: Adding roadway network variable for county using a spatial join with: Z:/Data/Users/Sijia/Met_Council/github/client_met_council_wrangler_utilities\\metcouncil_data\\county\\cb_2017_us_county_5m.shp\n"
     ]
    },
    {
     "name": "stderr",
     "output_type": "stream",
     "text": [
      "z:\\data\\users\\sijia\\met_council\\github\\client_met_council_wrangler_utilities\\lasso\\roadway.py:288: UserWarning: Geometry is in a geographic CRS. Results from 'centroid' are likely incorrect. Use 'GeoSeries.to_crs()' to re-project geometries to a projected CRS before this operation.\n",
      "\n",
      "  centroids_gdf[\"geometry\"] = centroids_gdf[\"geometry\"].centroid\n",
      "z:\\data\\users\\sijia\\met_council\\github\\client_met_council_wrangler_utilities\\lasso\\roadway.py:1225: FutureWarning: The `op` parameter is deprecated and will be removed in a future release. Please use the `predicate` parameter instead.\n",
      "  self.create_calculated_variables()\n",
      "z:\\data\\users\\sijia\\met_council\\github\\client_met_council_wrangler_utilities\\lasso\\roadway.py:292: UserWarning: CRS mismatch between the CRS of left geometries and the CRS of right geometries.\n",
      "Use `to_crs()` to reproject one of the input geometries to match the CRS of the other.\n",
      "\n",
      "Left CRS: EPSG:4326\n",
      "Right CRS: EPSG:4269\n",
      "\n",
      "  joined_gdf = gpd.sjoin(centroids_gdf, county_gdf, how=\"left\", op=\"intersects\")\n",
      "z:\\data\\users\\sijia\\met_council\\github\\client_met_council_wrangler_utilities\\lasso\\roadway.py:1225: FutureWarning: The `op` parameter is deprecated and will be removed in a future release. Please use the `predicate` parameter instead.\n",
      "  self.create_calculated_variables()\n"
     ]
    },
    {
     "name": "stdout",
     "output_type": "stream",
     "text": [
      "2022-05-27 15:21:48, INFO: Finished Calculating county variable: county\n",
      "2022-05-27 15:21:48, INFO: Finished Calculating county variable: county\n",
      "2022-05-27 15:21:52, INFO: Calculating MPO as roadway network variable: mpo\n",
      "2022-05-27 15:21:52, INFO: Calculating MPO as roadway network variable: mpo\n",
      "2022-05-27 15:21:52, INFO: Finished calculating MPO variable: mpo\n",
      "2022-05-27 15:21:52, INFO: Finished calculating MPO variable: mpo\n",
      "2022-05-27 15:21:52, INFO: Adding Counts\n",
      "2022-05-27 15:21:52, INFO: Adding Counts\n",
      "2022-05-27 15:21:52, INFO: Adding Variable AADT using Shared Streets Reference from Z:/Data/Users/Sijia/Met_Council/github/client_met_council_wrangler_utilities\\metcouncil_data\\count_mn\\mn_count_ShSt_API_match.csv\n",
      "2022-05-27 15:21:52, INFO: Adding Variable AADT using Shared Streets Reference from Z:/Data/Users/Sijia/Met_Council/github/client_met_council_wrangler_utilities\\metcouncil_data\\count_mn\\mn_count_ShSt_API_match.csv\n",
      "2022-05-27 15:22:10, INFO: Added variable: AADT using Shared Streets Reference\n",
      "2022-05-27 15:22:10, INFO: Added variable: AADT using Shared Streets Reference\n",
      "2022-05-27 15:22:10, INFO: Adding Variable AADT using Shared Streets Reference from Z:/Data/Users/Sijia/Met_Council/github/client_met_council_wrangler_utilities\\metcouncil_data\\Wisconsin_Lanes_Counts_Median\\wi_count_ShSt_API_match.csv\n",
      "2022-05-27 15:22:10, INFO: Adding Variable AADT using Shared Streets Reference from Z:/Data/Users/Sijia/Met_Council/github/client_met_council_wrangler_utilities\\metcouncil_data\\Wisconsin_Lanes_Counts_Median\\wi_count_ShSt_API_match.csv\n",
      "2022-05-27 15:22:28, INFO: Added variable: AADT using Shared Streets Reference\n",
      "2022-05-27 15:22:28, INFO: Added variable: AADT using Shared Streets Reference\n",
      "2022-05-27 15:22:29, INFO: Finished adding counts variable: AADT\n",
      "2022-05-27 15:22:29, INFO: Finished adding counts variable: AADT\n",
      "2022-05-27 15:22:29, INFO: Finished creating ML lanes variable: ML_lanes\n",
      "2022-05-27 15:22:29, INFO: Finished creating ML lanes variable: ML_lanes\n",
      "2022-05-27 15:22:29, INFO: Finished creating hov corridor variable: segment_id\n",
      "2022-05-27 15:22:29, INFO: Finished creating hov corridor variable: segment_id\n",
      "2022-05-27 15:22:29, INFO: Finished creating managed variable: managed\n",
      "2022-05-27 15:22:29, INFO: Finished creating managed variable: managed\n",
      "2022-05-27 15:23:20, INFO: Calculating distance for all links\n",
      "2022-05-27 15:23:20, INFO: Calculating distance for all links\n",
      "2022-05-27 15:23:27, INFO: Filling nan for network from network wrangler\n",
      "2022-05-27 15:23:27, INFO: Filling nan for network from network wrangler\n",
      "2022-05-27 15:23:48, INFO: Splitting variables by time period and category\n",
      "2022-05-27 15:23:48, INFO: Splitting variables by time period and category\n",
      "2022-05-27 15:23:48, WARNING: Specified variable to split: trn_priority not in network variables: Index(['shstReferenceId', 'id', 'shstGeometryId', 'fromIntersectionId',\n",
      "       'toIntersectionId', 'u', 'v', 'nodeIds', 'wayId', 'roadClass', 'oneWay',\n",
      "       'roundabout', 'link', 'oneway', 'ref', 'name', 'highway', 'service',\n",
      "       'width', 'maxspeed', 'access', 'junction', 'bridge', 'tunnel',\n",
      "       'landuse', 'area', 'key', 'forward', 'backReferenceId', 'metadata',\n",
      "       'source', 'roadway', 'drive_access', 'walk_access', 'bike_access',\n",
      "       'county', 'length', 'A', 'B', 'model_link_id', 'locationReferences',\n",
      "       'rail_only', 'geometry', 'bus_only', 'centroidconnect', 'lanes',\n",
      "       'assign_group', 'roadway_class', 'bike', 'walk', 'area_type',\n",
      "       'ramp_flag', 'mpo', 'AADT', 'count_AM', 'count_MD', 'count_PM',\n",
      "       'count_NT', 'count_daily', 'count_year', 'segment_id', 'managed',\n",
      "       'distance'],\n",
      "      dtype='object'). Returning 0.\n",
      "2022-05-27 15:23:48, WARNING: Specified variable to split: trn_priority not in network variables: Index(['shstReferenceId', 'id', 'shstGeometryId', 'fromIntersectionId',\n",
      "       'toIntersectionId', 'u', 'v', 'nodeIds', 'wayId', 'roadClass', 'oneWay',\n",
      "       'roundabout', 'link', 'oneway', 'ref', 'name', 'highway', 'service',\n",
      "       'width', 'maxspeed', 'access', 'junction', 'bridge', 'tunnel',\n",
      "       'landuse', 'area', 'key', 'forward', 'backReferenceId', 'metadata',\n",
      "       'source', 'roadway', 'drive_access', 'walk_access', 'bike_access',\n",
      "       'county', 'length', 'A', 'B', 'model_link_id', 'locationReferences',\n",
      "       'rail_only', 'geometry', 'bus_only', 'centroidconnect', 'lanes',\n",
      "       'assign_group', 'roadway_class', 'bike', 'walk', 'area_type',\n",
      "       'ramp_flag', 'mpo', 'AADT', 'count_AM', 'count_MD', 'count_PM',\n",
      "       'count_NT', 'count_daily', 'count_year', 'segment_id', 'managed',\n",
      "       'distance'],\n",
      "      dtype='object'). Returning 0.\n",
      "2022-05-27 15:23:48, WARNING: Specified variable to split: ttime_assert not in network variables: Index(['shstReferenceId', 'id', 'shstGeometryId', 'fromIntersectionId',\n",
      "       'toIntersectionId', 'u', 'v', 'nodeIds', 'wayId', 'roadClass', 'oneWay',\n",
      "       'roundabout', 'link', 'oneway', 'ref', 'name', 'highway', 'service',\n",
      "       'width', 'maxspeed', 'access', 'junction', 'bridge', 'tunnel',\n",
      "       'landuse', 'area', 'key', 'forward', 'backReferenceId', 'metadata',\n",
      "       'source', 'roadway', 'drive_access', 'walk_access', 'bike_access',\n",
      "       'county', 'length', 'A', 'B', 'model_link_id', 'locationReferences',\n",
      "       'rail_only', 'geometry', 'bus_only', 'centroidconnect', 'lanes',\n",
      "       'assign_group', 'roadway_class', 'bike', 'walk', 'area_type',\n",
      "       'ramp_flag', 'mpo', 'AADT', 'count_AM', 'count_MD', 'count_PM',\n",
      "       'count_NT', 'count_daily', 'count_year', 'segment_id', 'managed',\n",
      "       'distance', 'trn_priority_AM', 'trn_priority_MD', 'trn_priority_PM',\n",
      "       'trn_priority_NT'],\n",
      "      dtype='object'). Returning 0.\n",
      "2022-05-27 15:23:48, WARNING: Specified variable to split: ttime_assert not in network variables: Index(['shstReferenceId', 'id', 'shstGeometryId', 'fromIntersectionId',\n",
      "       'toIntersectionId', 'u', 'v', 'nodeIds', 'wayId', 'roadClass', 'oneWay',\n",
      "       'roundabout', 'link', 'oneway', 'ref', 'name', 'highway', 'service',\n",
      "       'width', 'maxspeed', 'access', 'junction', 'bridge', 'tunnel',\n",
      "       'landuse', 'area', 'key', 'forward', 'backReferenceId', 'metadata',\n",
      "       'source', 'roadway', 'drive_access', 'walk_access', 'bike_access',\n",
      "       'county', 'length', 'A', 'B', 'model_link_id', 'locationReferences',\n",
      "       'rail_only', 'geometry', 'bus_only', 'centroidconnect', 'lanes',\n",
      "       'assign_group', 'roadway_class', 'bike', 'walk', 'area_type',\n",
      "       'ramp_flag', 'mpo', 'AADT', 'count_AM', 'count_MD', 'count_PM',\n",
      "       'count_NT', 'count_daily', 'count_year', 'segment_id', 'managed',\n",
      "       'distance', 'trn_priority_AM', 'trn_priority_MD', 'trn_priority_PM',\n",
      "       'trn_priority_NT'],\n",
      "      dtype='object'). Returning 0.\n",
      "2022-05-27 15:23:51, WARNING: Specified variable to split: ML_lanes not in network variables: Index(['shstReferenceId', 'id', 'shstGeometryId', 'fromIntersectionId',\n",
      "       'toIntersectionId', 'u', 'v', 'nodeIds', 'wayId', 'roadClass', 'oneWay',\n",
      "       'roundabout', 'link', 'oneway', 'ref', 'name', 'highway', 'service',\n",
      "       'width', 'maxspeed', 'access', 'junction', 'bridge', 'tunnel',\n",
      "       'landuse', 'area', 'key', 'forward', 'backReferenceId', 'metadata',\n",
      "       'source', 'roadway', 'drive_access', 'walk_access', 'bike_access',\n",
      "       'county', 'length', 'A', 'B', 'model_link_id', 'locationReferences',\n",
      "       'rail_only', 'geometry', 'bus_only', 'centroidconnect', 'lanes',\n",
      "       'assign_group', 'roadway_class', 'bike', 'walk', 'area_type',\n",
      "       'ramp_flag', 'mpo', 'AADT', 'count_AM', 'count_MD', 'count_PM',\n",
      "       'count_NT', 'count_daily', 'count_year', 'segment_id', 'managed',\n",
      "       'distance', 'trn_priority_AM', 'trn_priority_MD', 'trn_priority_PM',\n",
      "       'trn_priority_NT', 'ttime_assert_AM', 'ttime_assert_MD',\n",
      "       'ttime_assert_PM', 'ttime_assert_NT', 'lanes_AM', 'lanes_MD',\n",
      "       'lanes_PM', 'lanes_NT'],\n",
      "      dtype='object'). Returning 0.\n",
      "2022-05-27 15:23:51, WARNING: Specified variable to split: ML_lanes not in network variables: Index(['shstReferenceId', 'id', 'shstGeometryId', 'fromIntersectionId',\n",
      "       'toIntersectionId', 'u', 'v', 'nodeIds', 'wayId', 'roadClass', 'oneWay',\n",
      "       'roundabout', 'link', 'oneway', 'ref', 'name', 'highway', 'service',\n",
      "       'width', 'maxspeed', 'access', 'junction', 'bridge', 'tunnel',\n",
      "       'landuse', 'area', 'key', 'forward', 'backReferenceId', 'metadata',\n",
      "       'source', 'roadway', 'drive_access', 'walk_access', 'bike_access',\n",
      "       'county', 'length', 'A', 'B', 'model_link_id', 'locationReferences',\n",
      "       'rail_only', 'geometry', 'bus_only', 'centroidconnect', 'lanes',\n",
      "       'assign_group', 'roadway_class', 'bike', 'walk', 'area_type',\n",
      "       'ramp_flag', 'mpo', 'AADT', 'count_AM', 'count_MD', 'count_PM',\n",
      "       'count_NT', 'count_daily', 'count_year', 'segment_id', 'managed',\n",
      "       'distance', 'trn_priority_AM', 'trn_priority_MD', 'trn_priority_PM',\n",
      "       'trn_priority_NT', 'ttime_assert_AM', 'ttime_assert_MD',\n",
      "       'ttime_assert_PM', 'ttime_assert_NT', 'lanes_AM', 'lanes_MD',\n",
      "       'lanes_PM', 'lanes_NT'],\n",
      "      dtype='object'). Returning 0.\n"
     ]
    },
    {
     "name": "stdout",
     "output_type": "stream",
     "text": [
      "2022-05-27 15:23:51, WARNING: Specified variable to split: price not in network variables: Index(['shstReferenceId', 'id', 'shstGeometryId', 'fromIntersectionId',\n",
      "       'toIntersectionId', 'u', 'v', 'nodeIds', 'wayId', 'roadClass', 'oneWay',\n",
      "       'roundabout', 'link', 'oneway', 'ref', 'name', 'highway', 'service',\n",
      "       'width', 'maxspeed', 'access', 'junction', 'bridge', 'tunnel',\n",
      "       'landuse', 'area', 'key', 'forward', 'backReferenceId', 'metadata',\n",
      "       'source', 'roadway', 'drive_access', 'walk_access', 'bike_access',\n",
      "       'county', 'length', 'A', 'B', 'model_link_id', 'locationReferences',\n",
      "       'rail_only', 'geometry', 'bus_only', 'centroidconnect', 'lanes',\n",
      "       'assign_group', 'roadway_class', 'bike', 'walk', 'area_type',\n",
      "       'ramp_flag', 'mpo', 'AADT', 'count_AM', 'count_MD', 'count_PM',\n",
      "       'count_NT', 'count_daily', 'count_year', 'segment_id', 'managed',\n",
      "       'distance', 'trn_priority_AM', 'trn_priority_MD', 'trn_priority_PM',\n",
      "       'trn_priority_NT', 'ttime_assert_AM', 'ttime_assert_MD',\n",
      "       'ttime_assert_PM', 'ttime_assert_NT', 'lanes_AM', 'lanes_MD',\n",
      "       'lanes_PM', 'lanes_NT', 'ML_lanes_AM', 'ML_lanes_MD', 'ML_lanes_PM',\n",
      "       'ML_lanes_NT'],\n",
      "      dtype='object'). Returning 0.\n",
      "2022-05-27 15:23:51, WARNING: Specified variable to split: price not in network variables: Index(['shstReferenceId', 'id', 'shstGeometryId', 'fromIntersectionId',\n",
      "       'toIntersectionId', 'u', 'v', 'nodeIds', 'wayId', 'roadClass', 'oneWay',\n",
      "       'roundabout', 'link', 'oneway', 'ref', 'name', 'highway', 'service',\n",
      "       'width', 'maxspeed', 'access', 'junction', 'bridge', 'tunnel',\n",
      "       'landuse', 'area', 'key', 'forward', 'backReferenceId', 'metadata',\n",
      "       'source', 'roadway', 'drive_access', 'walk_access', 'bike_access',\n",
      "       'county', 'length', 'A', 'B', 'model_link_id', 'locationReferences',\n",
      "       'rail_only', 'geometry', 'bus_only', 'centroidconnect', 'lanes',\n",
      "       'assign_group', 'roadway_class', 'bike', 'walk', 'area_type',\n",
      "       'ramp_flag', 'mpo', 'AADT', 'count_AM', 'count_MD', 'count_PM',\n",
      "       'count_NT', 'count_daily', 'count_year', 'segment_id', 'managed',\n",
      "       'distance', 'trn_priority_AM', 'trn_priority_MD', 'trn_priority_PM',\n",
      "       'trn_priority_NT', 'ttime_assert_AM', 'ttime_assert_MD',\n",
      "       'ttime_assert_PM', 'ttime_assert_NT', 'lanes_AM', 'lanes_MD',\n",
      "       'lanes_PM', 'lanes_NT', 'ML_lanes_AM', 'ML_lanes_MD', 'ML_lanes_PM',\n",
      "       'ML_lanes_NT'],\n",
      "      dtype='object'). Returning 0.\n",
      "2022-05-27 15:23:54, INFO: Converting variable type to MetCouncil standard\n",
      "2022-05-27 15:23:54, INFO: Converting variable type to MetCouncil standard\n",
      "2022-05-27 15:24:21, INFO: Setting Coordinate Reference System to EPSG 26915\n",
      "2022-05-27 15:24:21, INFO: Setting Coordinate Reference System to EPSG 26915\n"
     ]
    }
   ],
   "source": [
    "m_net.roadway_standard_to_met_council_network()"
   ]
  },
  {
   "cell_type": "code",
   "execution_count": 37,
   "id": "2a67509e",
   "metadata": {},
   "outputs": [
    {
     "name": "stdout",
     "output_type": "stream",
     "text": [
      "0\n",
      "414223\n",
      "417283\n",
      "0\n",
      "1061657\n",
      "1109542\n",
      "0\n",
      "0\n"
     ]
    }
   ],
   "source": [
    "# check if missing IDs\n",
    "# centroids does not have osm and shst IDs\n",
    "# centroid connectors does not have osm and shst IDs\n",
    "\n",
    "# if node missing shst id\n",
    "print(m_net.nodes_df.shst_node_id.isnull().sum())\n",
    "print(m_net.nodes_df.shst_node_id.nunique())\n",
    "\n",
    "# if node missing model node id\n",
    "print(m_net.nodes_df.model_node_id.nunique())\n",
    "\n",
    "# if link missing \n",
    "print(m_net.links_df.shstReferenceId.isnull().sum())\n",
    "print(m_net.links_df.shstReferenceId.nunique())\n",
    "print(m_net.links_df.model_link_id.nunique())\n",
    "\n",
    "# if link missing node id\n",
    "print(m_net.links_df.fromIntersectionId.isnull().sum())\n",
    "print(m_net.links_df.toIntersectionId.isnull().sum())"
   ]
  },
  {
   "cell_type": "code",
   "execution_count": 38,
   "id": "a938eacb",
   "metadata": {},
   "outputs": [
    {
     "data": {
      "text/plain": [
       "(417283, 11)"
      ]
     },
     "execution_count": 38,
     "metadata": {},
     "output_type": "execute_result"
    }
   ],
   "source": [
    "m_net.nodes_df.shape"
   ]
  },
  {
   "cell_type": "code",
   "execution_count": 39,
   "id": "9170b92b",
   "metadata": {},
   "outputs": [
    {
     "data": {
      "text/plain": [
       "Index(['osm_node_id', 'shst_node_id', 'drive_access', 'walk_access',\n",
       "       'bike_access', 'N', 'rail_only', 'geometry', 'X', 'Y', 'county'],\n",
       "      dtype='object')"
      ]
     },
     "execution_count": 39,
     "metadata": {},
     "output_type": "execute_result"
    }
   ],
   "source": [
    "m_net.nodes_metcouncil_df.columns"
   ]
  },
  {
   "cell_type": "code",
   "execution_count": 40,
   "id": "fc18bb69",
   "metadata": {},
   "outputs": [
    {
     "data": {
      "text/plain": [
       "Index(['shstReferenceId', 'id', 'shstGeometryId', 'fromIntersectionId',\n",
       "       'toIntersectionId', 'u', 'v', 'nodeIds', 'wayId', 'roadClass', 'oneWay',\n",
       "       'roundabout', 'link', 'oneway', 'ref', 'name', 'highway', 'service',\n",
       "       'width', 'maxspeed', 'access', 'junction', 'bridge', 'tunnel',\n",
       "       'landuse', 'area', 'key', 'forward', 'backReferenceId', 'metadata',\n",
       "       'source', 'roadway', 'drive_access', 'walk_access', 'bike_access',\n",
       "       'county', 'length', 'A', 'B', 'model_link_id', 'locationReferences',\n",
       "       'rail_only', 'bus_only', 'centroidconnect', 'lanes', 'assign_group',\n",
       "       'roadway_class', 'bike', 'walk', 'area_type', 'ramp_flag', 'mpo',\n",
       "       'AADT', 'count_AM', 'count_MD', 'count_PM', 'count_NT', 'count_daily',\n",
       "       'count_year', 'segment_id', 'managed', 'distance', 'trn_priority_AM',\n",
       "       'trn_priority_MD', 'trn_priority_PM', 'trn_priority_NT',\n",
       "       'ttime_assert_AM', 'ttime_assert_MD', 'ttime_assert_PM',\n",
       "       'ttime_assert_NT', 'lanes_AM', 'lanes_MD', 'lanes_PM', 'lanes_NT',\n",
       "       'ML_lanes_AM', 'ML_lanes_MD', 'ML_lanes_PM', 'ML_lanes_NT',\n",
       "       'price_AM_sov', 'price_AM_hov2', 'price_AM_hov3', 'price_AM_truck',\n",
       "       'price_MD_sov', 'price_MD_hov2', 'price_MD_hov3', 'price_MD_truck',\n",
       "       'price_PM_sov', 'price_PM_hov2', 'price_PM_hov3', 'price_PM_truck',\n",
       "       'price_NT_sov', 'price_NT_hov2', 'price_NT_hov3', 'price_NT_truck',\n",
       "       'access_AM', 'access_MD', 'access_PM', 'access_NT', 'geometry'],\n",
       "      dtype='object')"
      ]
     },
     "execution_count": 40,
     "metadata": {},
     "output_type": "execute_result"
    }
   ],
   "source": [
    "m_net.links_metcouncil_df.columns"
   ]
  },
  {
   "cell_type": "markdown",
   "id": "ad6cbefa",
   "metadata": {},
   "source": [
    "# Write model network as shapefile"
   ]
  },
  {
   "cell_type": "code",
   "execution_count": 58,
   "id": "01e6b043",
   "metadata": {},
   "outputs": [
    {
     "name": "stdout",
     "output_type": "stream",
     "text": [
      "2022-05-27 18:24:30, INFO: Writing Network as Shapefile\n",
      "2022-05-27 18:24:30, INFO: Writing Network as Shapefile\n",
      "2022-05-27 18:24:30, INFO: Renaming DBF Node Variables\n",
      "2022-05-27 18:24:30, INFO: Renaming DBF Node Variables\n",
      "2022-05-27 18:24:30, INFO: Renaming variables so that they are DBF-safe\n",
      "2022-05-27 18:24:30, INFO: Renaming variables so that they are DBF-safe\n",
      "2022-05-27 18:24:41, INFO: Renaming DBF Link Variables\n",
      "2022-05-27 18:24:41, INFO: Renaming DBF Link Variables\n",
      "2022-05-27 18:24:41, INFO: Renaming variables so that they are DBF-safe\n",
      "2022-05-27 18:24:41, INFO: Renaming variables so that they are DBF-safe\n",
      "2022-05-27 18:24:42, INFO: Writing Node Shapes:\n",
      " - D:/metcouncil_network_rebuild/data/processed/version_01\\model_networks\\shapefiles\\nodes_new.shp\n",
      "2022-05-27 18:24:42, INFO: Writing Node Shapes:\n",
      " - D:/metcouncil_network_rebuild/data/processed/version_01\\model_networks\\shapefiles\\nodes_new.shp\n",
      "2022-05-27 18:25:36, INFO: Writing Link Shapes:\n",
      " - D:/metcouncil_network_rebuild/data/processed/version_01\\model_networks\\shapefiles\\links_new.shp\n",
      "2022-05-27 18:25:36, INFO: Writing Link Shapes:\n",
      " - D:/metcouncil_network_rebuild/data/processed/version_01\\model_networks\\shapefiles\\links_new.shp\n"
     ]
    }
   ],
   "source": [
    "out_cols = ['model_link_id', 'id', 'assign_group', 'drive_access', 'roadway_class',\n",
    "            'lanes_AM', 'lanes_MD', 'lanes_PM', 'lanes_NT', 'segment_id', 'HOV', 'bike', 'walk','roadway',\n",
    "            'price_sov_AM', 'geometry', 'managed']\n",
    "\n",
    "m_net.write_roadway_as_shp(\n",
    "    output_link_shp = os.path.join(output_dir, 'model_networks', 'shapefiles', 'links.shp'),\n",
    "    output_node_shp = os.path.join(output_dir, 'model_networks', 'shapefiles', 'nodes.shp'),\n",
    "    link_output_variables = out_cols,\n",
    "    data_to_csv = False,\n",
    "    data_to_dbf = True,\n",
    "    export_drive_only = False, # if user only wants drive links/nodes in the shapefile\n",
    ")"
   ]
  },
  {
   "cell_type": "markdown",
   "id": "7a6212a9",
   "metadata": {},
   "source": [
    "# Write model network for Cube"
   ]
  },
  {
   "cell_type": "code",
   "execution_count": 59,
   "id": "6af0aef0",
   "metadata": {},
   "outputs": [
    {
     "name": "stdout",
     "output_type": "stream",
     "text": [
      "2022-05-27 18:29:02, INFO: Starting fixed width conversion\n",
      "2022-05-27 18:29:02, INFO: Starting fixed width conversion\n",
      "2022-05-27 18:40:45, INFO: Writing out link database\n",
      "2022-05-27 18:40:45, INFO: Writing out link database\n",
      "2022-05-27 18:41:01, INFO: Writing out link header and width ----\n",
      "2022-05-27 18:41:01, INFO: Writing out link header and width ----\n",
      "2022-05-27 18:41:01, INFO: Starting fixed width conversion\n",
      "2022-05-27 18:41:01, INFO: Starting fixed width conversion\n",
      "2022-05-27 18:41:52, INFO: Writing out node database\n",
      "2022-05-27 18:41:52, INFO: Writing out node database\n",
      "2022-05-27 18:41:53, INFO: Writing out node header and width\n",
      "2022-05-27 18:41:53, INFO: Writing out node header and width\n"
     ]
    }
   ],
   "source": [
    "m_net.write_roadway_as_fixedwidth(\n",
    "    output_link_txt = os.path.join(output_dir, 'model_networks', 'links.txt'),\n",
    "    output_node_txt = os.path.join(output_dir, 'model_networks', 'nodes.txt'),\n",
    "    output_link_header_width_txt = os.path.join(output_dir, 'model_networks', 'links_header_width.txt'),\n",
    "    output_node_header_width_txt = os.path.join(output_dir, 'model_networks', 'nodes_header_width.txt'),\n",
    "    output_cube_network_script = os.path.join(output_dir, 'model_networks', 'make_complete_network_from_fixed_width_file.s'),\n",
    ")"
   ]
  },
  {
   "cell_type": "code",
   "execution_count": 43,
   "id": "00b67097",
   "metadata": {},
   "outputs": [],
   "source": [
    "version_01_scenario.transit_net.set_roadnet(version_01_scenario.road_net, validate_consistency=False)"
   ]
  },
  {
   "cell_type": "code",
   "execution_count": 44,
   "id": "c32155fc",
   "metadata": {},
   "outputs": [
    {
     "name": "stdout",
     "output_type": "stream",
     "text": [
      "2022-04-17 01:19:23, INFO: Lasso base directory set as: Z:/Data/Users/Sijia/Met_Council/github/client_met_council_wrangler_utilities\n",
      "2022-04-17 01:19:23, INFO: Lasso base directory set as: Z:/Data/Users/Sijia/Met_Council/github/client_met_council_wrangler_utilities\n",
      "2022-04-17 01:19:23, INFO: Converting GTFS Standard Properties to MetCouncil's Cube Standard\n",
      "2022-04-17 01:19:23, INFO: Converting GTFS Standard Properties to MetCouncil's Cube Standard\n"
     ]
    }
   ],
   "source": [
    "standard_transit_net = StandardTransit.fromTransitNetwork(version_01_scenario.transit_net, parameters=parameters)\n",
    "standard_transit_net.write_as_cube_lin(outpath = os.path.join(output_dir, 'model_networks', \"transit.lin\"))"
   ]
  },
  {
   "cell_type": "code",
   "execution_count": 61,
   "id": "f369b9e7",
   "metadata": {},
   "outputs": [
    {
     "data": {
      "text/plain": [
       "417322"
      ]
     },
     "execution_count": 61,
     "metadata": {},
     "output_type": "execute_result"
    }
   ],
   "source": [
    "version_00_scenario.road_net.nodes_df.model_node_id.max()"
   ]
  },
  {
   "cell_type": "code",
   "execution_count": 67,
   "id": "168ee4fb",
   "metadata": {},
   "outputs": [
    {
     "data": {
      "text/plain": [
       "(414222,)"
      ]
     },
     "execution_count": 67,
     "metadata": {},
     "output_type": "execute_result"
    }
   ],
   "source": [
    "version_00_scenario.road_net.nodes_df.model_node_id.shape"
   ]
  },
  {
   "cell_type": "code",
   "execution_count": 68,
   "id": "c83ea586",
   "metadata": {},
   "outputs": [
    {
     "data": {
      "text/plain": [
       "417322"
      ]
     },
     "execution_count": 68,
     "metadata": {},
     "output_type": "execute_result"
    }
   ],
   "source": [
    "version_01_scenario.road_net.nodes_df.model_node_id.max()"
   ]
  },
  {
   "cell_type": "code",
   "execution_count": 69,
   "id": "115f47b4",
   "metadata": {},
   "outputs": [
    {
     "data": {
      "text/plain": [
       "(414253,)"
      ]
     },
     "execution_count": 69,
     "metadata": {},
     "output_type": "execute_result"
    }
   ],
   "source": [
    "version_01_scenario.road_net.nodes_df.model_node_id.shape"
   ]
  },
  {
   "cell_type": "code",
   "execution_count": 70,
   "id": "b6195c7c",
   "metadata": {},
   "outputs": [
    {
     "data": {
      "text/plain": [
       "417322"
      ]
     },
     "execution_count": 70,
     "metadata": {},
     "output_type": "execute_result"
    }
   ],
   "source": [
    "m_net.nodes_df.model_node_id.max()"
   ]
  },
  {
   "cell_type": "code",
   "execution_count": 71,
   "id": "60389b52",
   "metadata": {},
   "outputs": [
    {
     "data": {
      "text/plain": [
       "(417283,)"
      ]
     },
     "execution_count": 71,
     "metadata": {},
     "output_type": "execute_result"
    }
   ],
   "source": [
    "m_net.nodes_df.model_node_id.shape"
   ]
  }
 ],
 "metadata": {
  "kernelspec": {
   "display_name": "Python 3 (ipykernel)",
   "language": "python",
   "name": "python3"
  },
  "language_info": {
   "codemirror_mode": {
    "name": "ipython",
    "version": 3
   },
   "file_extension": ".py",
   "mimetype": "text/x-python",
   "name": "python",
   "nbconvert_exporter": "python",
   "pygments_lexer": "ipython3",
   "version": "3.7.12"
  }
 },
 "nbformat": 4,
 "nbformat_minor": 5
}
