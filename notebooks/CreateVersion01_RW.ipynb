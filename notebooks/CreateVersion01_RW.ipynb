{
 "cells": [
  {
   "cell_type": "code",
   "execution_count": 1,
   "id": "83d43de3",
   "metadata": {},
   "outputs": [],
   "source": [
    "import os\n",
    "import sys\n",
    "import pickle\n",
    "from pyproj import CRS\n",
    "\n",
    "from network_wrangler import RoadwayNetwork\n",
    "from network_wrangler import TransitNetwork\n",
    "from network_wrangler import Scenario\n",
    "from network_wrangler import WranglerLogger\n",
    "\n",
    "from lasso import Parameters\n",
    "from lasso import metcouncil\n",
    "from lasso import ModelRoadwayNetwork\n",
    "from lasso import StandardTransit\n",
    "from lasso import util"
   ]
  },
  {
   "cell_type": "code",
   "execution_count": 2,
   "id": "d6be1110",
   "metadata": {},
   "outputs": [],
   "source": [
    "%load_ext autoreload\n",
    "%autoreload 2"
   ]
  },
  {
   "cell_type": "code",
   "execution_count": 3,
   "id": "7402b564",
   "metadata": {},
   "outputs": [],
   "source": [
    "import logging\n",
    "logger = logging.getLogger(\"WranglerLogger\")\n",
    "logger.handlers[0].stream = sys.stdout\n",
    "logger.setLevel(logging.INFO)"
   ]
  },
  {
   "cell_type": "markdown",
   "id": "f605bab8",
   "metadata": {},
   "source": [
    "# remote i/o"
   ]
  },
  {
   "cell_type": "code",
   "execution_count": 4,
   "id": "83b4e8f1",
   "metadata": {},
   "outputs": [],
   "source": [
    "input_dir = os.path.join(\"C:/MetC_LassoData/data/processed/version_00\")\n",
    "lasso_dir = os.path.join(\"C:/Lasso\")\n",
    "output_dir = os.path.join(\"C:/MetC_LassoData/data/processed/version_01\")"
   ]
  },
  {
   "cell_type": "code",
   "execution_count": 5,
   "id": "7d3fc71d",
   "metadata": {},
   "outputs": [],
   "source": [
    "project_card_dir = os.path.join(\"C:/project_card_registry/projects/BaseCorrections\")"
   ]
  },
  {
   "cell_type": "code",
   "execution_count": 6,
   "id": "f0f3d2e0",
   "metadata": {},
   "outputs": [
    {
     "name": "stdout",
     "output_type": "stream",
     "text": [
      "2022-07-08 12:40:28, INFO: Lasso base directory set as: C:/Lasso\n",
      "2022-07-08 12:40:28, INFO: Lasso base directory set as: C:/Lasso\n"
     ]
    }
   ],
   "source": [
    "parameters = Parameters(lasso_base_dir = lasso_dir)"
   ]
  },
  {
   "cell_type": "markdown",
   "id": "212a7697",
   "metadata": {},
   "source": [
    "# Load Version00"
   ]
  },
  {
   "cell_type": "code",
   "execution_count": 7,
   "id": "3ed4982e",
   "metadata": {},
   "outputs": [
    {
     "name": "stdout",
     "output_type": "stream",
     "text": [
      "2022-07-08 12:40:28, INFO: Reading from following files:\n",
      "-C:/MetC_LassoData/data/processed/version_00\\standard_networks\\links.json\n",
      "-C:/MetC_LassoData/data/processed/version_00\\standard_networks\\nodes.geojson\n",
      "-C:/MetC_LassoData/data/processed/version_00\\standard_networks\\shapes.geojson.\n",
      "2022-07-08 12:40:28, INFO: Reading from following files:\n",
      "-C:/MetC_LassoData/data/processed/version_00\\standard_networks\\links.json\n",
      "-C:/MetC_LassoData/data/processed/version_00\\standard_networks\\nodes.geojson\n",
      "-C:/MetC_LassoData/data/processed/version_00\\standard_networks\\shapes.geojson.\n",
      "2022-07-08 12:44:39, INFO: Read 1061566 links from C:/MetC_LassoData/data/processed/version_00\\standard_networks\\links.json\n",
      "2022-07-08 12:44:39, INFO: Read 1061566 links from C:/MetC_LassoData/data/processed/version_00\\standard_networks\\links.json\n",
      "2022-07-08 12:44:39, INFO: Read 414131 nodes from C:/MetC_LassoData/data/processed/version_00\\standard_networks\\nodes.geojson\n",
      "2022-07-08 12:44:39, INFO: Read 414131 nodes from C:/MetC_LassoData/data/processed/version_00\\standard_networks\\nodes.geojson\n",
      "2022-07-08 12:44:39, INFO: Read 556550 shapes from C:/MetC_LassoData/data/processed/version_00\\standard_networks\\shapes.geojson\n",
      "2022-07-08 12:44:39, INFO: Read 556550 shapes from C:/MetC_LassoData/data/processed/version_00\\standard_networks\\shapes.geojson\n"
     ]
    }
   ],
   "source": [
    "link_file = os.path.join(input_dir, 'standard_networks', 'links.json')\n",
    "node_file = os.path.join(input_dir, 'standard_networks', 'nodes.geojson')\n",
    "shape_file = os.path.join(input_dir, 'standard_networks', 'shapes.geojson')\n",
    "\n",
    "roadway_net = RoadwayNetwork.read(link_file = link_file, node_file = node_file, shape_file = shape_file)"
   ]
  },
  {
   "cell_type": "code",
   "execution_count": 8,
   "id": "b4bdae2d",
   "metadata": {},
   "outputs": [
    {
     "name": "stdout",
     "output_type": "stream",
     "text": [
      "2022-07-08 12:47:20, INFO: Read in transit feed from: C:/MetC_LassoData/data/processed/version_00\\standard_networks\\transit\n",
      "2022-07-08 12:47:20, INFO: Read in transit feed from: C:/MetC_LassoData/data/processed/version_00\\standard_networks\\transit\n",
      "2022-07-08 12:47:20, INFO: Removing calendar.txt from transit network config because file not found\n",
      "2022-07-08 12:47:20, INFO: Removing calendar.txt from transit network config because file not found\n",
      "2022-07-08 12:47:20, INFO: Removing calendar_dates.txt from transit network config because file not found\n",
      "2022-07-08 12:47:20, INFO: Removing calendar_dates.txt from transit network config because file not found\n",
      "2022-07-08 12:47:21, INFO: Removing fare_attributes.txt from transit network config because file not found\n",
      "2022-07-08 12:47:21, INFO: Removing fare_attributes.txt from transit network config because file not found\n",
      "2022-07-08 12:47:21, INFO: Removing fare_rules.txt from transit network config because file not found\n",
      "2022-07-08 12:47:21, INFO: Removing fare_rules.txt from transit network config because file not found\n",
      "2022-07-08 12:47:23, INFO: Removing transfers.txt from transit network config because file not found\n",
      "2022-07-08 12:47:23, INFO: Removing transfers.txt from transit network config because file not found\n",
      "2022-07-08 12:47:23, INFO: Removing feed_info.txt from transit network config because file not found\n",
      "2022-07-08 12:47:23, INFO: Removing feed_info.txt from transit network config because file not found\n",
      "2022-07-08 12:47:23, WARNING: The following stop_ids from are referenced but missing from stops.txt: ['place_BTST', 'place_EATS', 'place_CE47', 'place_PHPR', 'place_BHPR', 'place_DFME', 'place_14CE', 'place_157G', 'place_AVTS']\n",
      "2022-07-08 12:47:23, WARNING: The following stop_ids from are referenced but missing from stops.txt: ['place_BTST', 'place_EATS', 'place_CE47', 'place_PHPR', 'place_BHPR', 'place_DFME', 'place_14CE', 'place_157G', 'place_AVTS']\n"
     ]
    }
   ],
   "source": [
    "transit_net = TransitNetwork.read(feed_path = os.path.join(input_dir, 'standard_networks', 'transit'))"
   ]
  },
  {
   "cell_type": "code",
   "execution_count": 9,
   "id": "5d9da094",
   "metadata": {},
   "outputs": [],
   "source": [
    "roadway_net.links_df = roadway_net.links_df[roadway_net.links_df.A != roadway_net.links_df.B]"
   ]
  },
  {
   "cell_type": "markdown",
   "id": "960e6ea9",
   "metadata": {},
   "source": [
    "### Attribute the Network"
   ]
  },
  {
   "cell_type": "code",
   "execution_count": 10,
   "id": "81e33524",
   "metadata": {},
   "outputs": [],
   "source": [
    "roadway_net.links_df = roadway_net.links_df.drop('lanes', axis = 1)"
   ]
  },
  {
   "cell_type": "code",
   "execution_count": 11,
   "id": "999dc529",
   "metadata": {},
   "outputs": [],
   "source": [
    "roadway_net.links_df['bus_only'] = 0"
   ]
  },
  {
   "cell_type": "code",
   "execution_count": 12,
   "id": "f6c7690c",
   "metadata": {},
   "outputs": [
    {
     "data": {
      "text/plain": [
       "True     656665\n",
       "False    404892\n",
       "Name: drive_access, dtype: int64"
      ]
     },
     "execution_count": 12,
     "metadata": {},
     "output_type": "execute_result"
    }
   ],
   "source": [
    "roadway_net.links_df.drive_access.value_counts()"
   ]
  },
  {
   "cell_type": "code",
   "execution_count": 13,
   "id": "5d160f37",
   "metadata": {},
   "outputs": [
    {
     "name": "stdout",
     "output_type": "stream",
     "text": [
      "2022-07-08 12:47:27, INFO: Calculating Number of Lanes as network variable: 'lanes'\n",
      "2022-07-08 12:47:27, INFO: Calculating Number of Lanes as network variable: 'lanes'\n",
      "2022-07-08 12:47:27, INFO: Lasso base directory set as: C:/Lasso\n",
      "2022-07-08 12:47:27, INFO: Lasso base directory set as: C:/Lasso\n",
      "2022-07-08 12:47:27, INFO: Calculating Centroid Connector and adding as roadway network variable: centroidconnect\n",
      "2022-07-08 12:47:27, INFO: Calculating Centroid Connector and adding as roadway network variable: centroidconnect\n",
      "2022-07-08 12:47:27, INFO: Finished calculating centroid connector variable: centroidconnect\n",
      "2022-07-08 12:47:27, INFO: Finished calculating centroid connector variable: centroidconnect\n",
      "2022-07-08 12:48:49, INFO: Finished calculating number of lanes to: lanes\n",
      "2022-07-08 12:48:49, INFO: Finished calculating number of lanes to: lanes\n"
     ]
    },
    {
     "data": {
      "text/plain": [
       "1.0    1026496\n",
       "2.0      32020\n",
       "3.0       2595\n",
       "4.0        369\n",
       "5.0         71\n",
       "6.0          5\n",
       "7.0          1\n",
       "Name: lanes, dtype: int64"
      ]
     },
     "execution_count": 13,
     "metadata": {},
     "output_type": "execute_result"
    }
   ],
   "source": [
    "r_net = metcouncil.calculate_number_of_lanes_from_reviewed_network(\n",
    "    roadway_net=roadway_net,\n",
    "    parameters=parameters,\n",
    ")\n",
    "r_net.links_df.lanes.value_counts()"
   ]
  },
  {
   "cell_type": "code",
   "execution_count": 14,
   "id": "e534e226",
   "metadata": {},
   "outputs": [
    {
     "data": {
      "text/plain": [
       "residential       420553\n",
       "service           264058\n",
       "footway           117014\n",
       "tertiary          113519\n",
       "cycleway           83868\n",
       "secondary          36639\n",
       "primary            14067\n",
       "motorway_link       3604\n",
       "trunk               3051\n",
       "motorway            2757\n",
       "secondary_link       839\n",
       "trunk_link           601\n",
       "tertiary_link        538\n",
       "primary_link         449\n",
       "Name: roadway, dtype: int64"
      ]
     },
     "execution_count": 14,
     "metadata": {},
     "output_type": "execute_result"
    }
   ],
   "source": [
    "r_net.links_df.roadway.value_counts()"
   ]
  },
  {
   "cell_type": "code",
   "execution_count": 15,
   "id": "9dff806b",
   "metadata": {},
   "outputs": [
    {
     "name": "stdout",
     "output_type": "stream",
     "text": [
      "2022-07-08 12:48:51, INFO: Calculating Assignment Group and Roadway Class as network variables: 'assign_group' and 'roadway_class'\n",
      "2022-07-08 12:48:51, INFO: Calculating Assignment Group and Roadway Class as network variables: 'assign_group' and 'roadway_class'\n",
      "2022-07-08 12:48:51, INFO: Centroid Connector Variable 'centroidconnect' already in network. Returning without overwriting.\n",
      "2022-07-08 12:48:51, INFO: Centroid Connector Variable 'centroidconnect' already in network. Returning without overwriting.\n",
      "2022-07-08 12:52:21, INFO: Finished calculating assignment group variable assign_group and roadway class variable roadway_class\n",
      "2022-07-08 12:52:21, INFO: Finished calculating assignment group variable assign_group and roadway class variable roadway_class\n"
     ]
    },
    {
     "data": {
      "text/plain": [
       "50.0     294095\n",
       "103.0    204010\n",
       "102.0    117014\n",
       "7.0      101584\n",
       "101.0     83868\n",
       "6.0       76802\n",
       "5.0       15025\n",
       "15.0       3045\n",
       "3.0        2590\n",
       "1.0        2455\n",
       "4.0        2036\n",
       "2.0        1258\n",
       "11.0        153\n",
       "Name: assign_group, dtype: int64"
      ]
     },
     "execution_count": 15,
     "metadata": {},
     "output_type": "execute_result"
    }
   ],
   "source": [
    "r_net = metcouncil.calculate_assign_group_and_roadway_class_from_reviewed_network(\n",
    "        roadway_net=r_net,\n",
    "        parameters=parameters,\n",
    ")\n",
    "r_net.links_df.assign_group.value_counts()"
   ]
  },
  {
   "cell_type": "code",
   "execution_count": 16,
   "id": "333800d2",
   "metadata": {},
   "outputs": [
    {
     "data": {
      "text/plain": [
       "101.0    404892\n",
       "50.0     304018\n",
       "40.0     124841\n",
       "30.0      42279\n",
       "20.0      20590\n",
       "60.0       5416\n",
       "10.0       1780\n",
       "70.0        119\n",
       "Name: roadway_class, dtype: int64"
      ]
     },
     "execution_count": 16,
     "metadata": {},
     "output_type": "execute_result"
    }
   ],
   "source": [
    "r_net.links_df.roadway_class.value_counts()"
   ]
  },
  {
   "cell_type": "markdown",
   "id": "3e5c0d6b",
   "metadata": {},
   "source": [
    "### Add Rail links and nodes"
   ]
  },
  {
   "cell_type": "code",
   "execution_count": 17,
   "id": "e64fc2f8",
   "metadata": {},
   "outputs": [
    {
     "name": "stdout",
     "output_type": "stream",
     "text": [
      "2022-07-08 12:52:22, INFO: Adding centroid and centroid connector to standard network\n",
      "2022-07-08 12:52:22, INFO: Adding centroid and centroid connector to standard network\n",
      "2022-07-08 12:52:22, INFO: Lasso base directory set as: C:/Lasso\n",
      "2022-07-08 12:52:22, INFO: Lasso base directory set as: C:/Lasso\n",
      "2022-07-08 12:52:24, INFO: Finished adding rail links and nodes connectors\n",
      "2022-07-08 12:52:24, INFO: Finished adding rail links and nodes connectors\n"
     ]
    }
   ],
   "source": [
    "r_net = metcouncil.add_rail_links_and_nodes(\n",
    "    roadway_network = r_net,\n",
    "    parameters = parameters,\n",
    "    rail_links_file = os.path.join(input_dir, 'standard_networks', 'rail_links.geojson'),\n",
    "    rail_nodes_file = os.path.join(input_dir, 'standard_networks', 'rail_nodes.geojson'),\n",
    ")"
   ]
  },
  {
   "cell_type": "code",
   "execution_count": 18,
   "id": "a98ee0dc",
   "metadata": {},
   "outputs": [
    {
     "name": "stdout",
     "output_type": "stream",
     "text": [
      "0\n",
      "414222\n",
      "1995\n",
      "float64\n",
      "Empty GeoDataFrame\n",
      "Columns: [osm_node_id, shst_node_id, county, drive_access, walk_access, bike_access, model_node_id, rail_only, geometry, X, Y]\n",
      "Index: []\n",
      "412227\n",
      "414222\n",
      "0\n",
      "1061647\n",
      "1061647\n",
      "0\n",
      "0\n",
      "5072\n",
      "Empty GeoDataFrame\n",
      "Columns: [shstReferenceId, id, shstGeometryId, fromIntersectionId, toIntersectionId, u, v, nodeIds, wayId, roadClass, oneWay, roundabout, link, oneway, ref, name, highway, service, width, maxspeed, access, junction, bridge, tunnel, landuse, area, key, forward, backReferenceId, metadata, source, roadway, drive_access, walk_access, bike_access, county, length, A, B, model_link_id, locationReferences, rail_only, geometry, bus_only, centroidconnect, lanes, assign_group, roadway_class]\n",
      "Index: []\n",
      "\n",
      "[0 rows x 48 columns]\n",
      "5072\n",
      "Empty GeoDataFrame\n",
      "Columns: [shstReferenceId, id, shstGeometryId, fromIntersectionId, toIntersectionId, u, v, nodeIds, wayId, roadClass, oneWay, roundabout, link, oneway, ref, name, highway, service, width, maxspeed, access, junction, bridge, tunnel, landuse, area, key, forward, backReferenceId, metadata, source, roadway, drive_access, walk_access, bike_access, county, length, A, B, model_link_id, locationReferences, rail_only, geometry, bus_only, centroidconnect, lanes, assign_group, roadway_class]\n",
      "Index: []\n",
      "\n",
      "[0 rows x 48 columns]\n"
     ]
    }
   ],
   "source": [
    "# check if missing IDs\n",
    "# rail nodes does not have osm IDs, they have shst IDs\n",
    "# rail links does not have osm IDs, they have shst IDs\n",
    "\n",
    "# if node missing shst id\n",
    "print(r_net.nodes_df.shst_node_id.isnull().sum())\n",
    "print(r_net.nodes_df.shst_node_id.nunique())\n",
    "# if node missing osm id\n",
    "print(r_net.nodes_df.osm_node_id.isnull().sum())\n",
    "# if node missing osm id\n",
    "print(r_net.nodes_df.osm_node_id.dtype)\n",
    "print(r_net.nodes_df[r_net.nodes_df.osm_node_id == 0])\n",
    "print(r_net.nodes_df.osm_node_id.nunique())\n",
    "# if node missing model node id\n",
    "print(r_net.nodes_df.model_node_id.nunique())\n",
    "\n",
    "# if link missing \n",
    "print(r_net.links_df.shstReferenceId.isnull().sum())\n",
    "print(r_net.links_df.shstReferenceId.nunique())\n",
    "print(r_net.links_df.model_link_id.nunique())\n",
    "\n",
    "# if link missing node id\n",
    "print(r_net.links_df.fromIntersectionId.isnull().sum())\n",
    "print(r_net.links_df.toIntersectionId.isnull().sum())\n",
    "print(r_net.links_df.u.isnull().sum())\n",
    "print(r_net.links_df[r_net.links_df.u == 0])\n",
    "print(r_net.links_df.v.isnull().sum())\n",
    "print(r_net.links_df[r_net.links_df.v == 0])"
   ]
  },
  {
   "cell_type": "markdown",
   "id": "8bd7a019",
   "metadata": {},
   "source": [
    "# Create Scenario 00"
   ]
  },
  {
   "cell_type": "code",
   "execution_count": 19,
   "id": "b113aad9",
   "metadata": {},
   "outputs": [],
   "source": [
    "base_scenario = {\"road_net\": r_net, \"transit_net\": transit_net}"
   ]
  },
  {
   "cell_type": "code",
   "execution_count": 20,
   "id": "61cce072",
   "metadata": {},
   "outputs": [
    {
     "name": "stdout",
     "output_type": "stream",
     "text": [
      "2022-07-08 12:52:28, INFO: Creating Scenario\n",
      "2022-07-08 12:52:28, INFO: Creating Scenario\n"
     ]
    }
   ],
   "source": [
    "version_00_scenario = Scenario.create_scenario(base_scenario = base_scenario)"
   ]
  },
  {
   "cell_type": "code",
   "execution_count": 21,
   "id": "8bbd900c",
   "metadata": {},
   "outputs": [],
   "source": [
    "working_scenario_filename = os.path.join(output_dir, 'version_00_standard_network.pickle')\n",
    "pickle.dump(version_00_scenario, open(working_scenario_filename, 'wb'))"
   ]
  },
  {
   "cell_type": "code",
   "execution_count": 22,
   "id": "f4c7e266",
   "metadata": {},
   "outputs": [
    {
     "data": {
      "text/plain": [
       "(1061647, 48)"
      ]
     },
     "execution_count": 22,
     "metadata": {},
     "output_type": "execute_result"
    }
   ],
   "source": [
    "r_net.links_df.shape"
   ]
  },
  {
   "cell_type": "code",
   "execution_count": 23,
   "id": "0924842b",
   "metadata": {},
   "outputs": [
    {
     "data": {
      "text/plain": [
       "1061656"
      ]
     },
     "execution_count": 23,
     "metadata": {},
     "output_type": "execute_result"
    }
   ],
   "source": [
    "r_net.links_df.model_link_id.max()"
   ]
  },
  {
   "cell_type": "code",
   "execution_count": 24,
   "id": "8a958d4c",
   "metadata": {},
   "outputs": [
    {
     "data": {
      "text/plain": [
       "(414222, 11)"
      ]
     },
     "execution_count": 24,
     "metadata": {},
     "output_type": "execute_result"
    }
   ],
   "source": [
    "r_net.nodes_df.shape"
   ]
  },
  {
   "cell_type": "code",
   "execution_count": 25,
   "id": "9fe74e9b",
   "metadata": {},
   "outputs": [
    {
     "data": {
      "text/plain": [
       "417322"
      ]
     },
     "execution_count": 25,
     "metadata": {},
     "output_type": "execute_result"
    }
   ],
   "source": [
    "r_net.nodes_df.model_node_id.max()"
   ]
  },
  {
   "cell_type": "markdown",
   "id": "51419858",
   "metadata": {},
   "source": [
    "# Create Scenario 01"
   ]
  },
  {
   "cell_type": "code",
   "execution_count": 26,
   "id": "eb42a503",
   "metadata": {},
   "outputs": [
    {
     "name": "stdout",
     "output_type": "stream",
     "text": [
      "2022-07-08 12:53:52, INFO: Creating Scenario\n",
      "2022-07-08 12:53:52, INFO: Creating Scenario\n"
     ]
    }
   ],
   "source": [
    "version_01_scenario = Scenario.create_scenario(\n",
    "    base_scenario=version_00_scenario,\n",
    "    card_directory = project_card_dir,\n",
    "    validate_project_cards=False\n",
    ")"
   ]
  },
  {
   "cell_type": "code",
   "execution_count": 27,
   "id": "9c3e59a3",
   "metadata": {},
   "outputs": [
    {
     "name": "stdout",
     "output_type": "stream",
     "text": [
      "C:/project_card_registry/projects/BaseCorrections\n"
     ]
    }
   ],
   "source": [
    "print(project_card_dir)"
   ]
  },
  {
   "cell_type": "code",
   "execution_count": 28,
   "id": "0465bd19",
   "metadata": {
    "scrolled": true
   },
   "outputs": [
    {
     "name": "stdout",
     "output_type": "stream",
     "text": [
      "2022-07-08 12:53:56, INFO: Applying correct year 2018 assignment group and roadway class\n",
      "2022-07-08 12:53:56, INFO: Applying correct year 2018 assignment group and roadway class\n",
      "2022-07-08 12:53:56, INFO: Applying correct year 2018 assignment group and roadway class\n",
      "2022-07-08 12:53:56, INFO: Applying correct year 2018 assignment group and roadway class\n",
      "2022-07-08 12:53:56, INFO: Applying Project to Roadway Network: correct year 2018 assignment group and roadway class\n",
      "2022-07-08 12:53:56, INFO: Applying Project to Roadway Network: correct year 2018 assignment group and roadway class\n",
      "2022-07-08 12:53:56, INFO: Applying correct year 2018 assignment group\n",
      "2022-07-08 12:53:56, INFO: Applying correct year 2018 assignment group\n",
      "2022-07-08 12:53:56, INFO: Applying correct year 2018 assignment group\n",
      "2022-07-08 12:53:56, INFO: Applying correct year 2018 assignment group\n",
      "2022-07-08 12:53:56, INFO: Applying Project to Roadway Network: correct year 2018 assignment group\n",
      "2022-07-08 12:53:56, INFO: Applying Project to Roadway Network: correct year 2018 assignment group\n"
     ]
    },
    {
     "name": "stderr",
     "output_type": "stream",
     "text": [
      "C:\\ProgramData\\Anaconda3\\envs\\lasso_env\\lib\\site-packages\\geopandas\\geodataframe.py:1351: SettingWithCopyWarning: \n",
      "A value is trying to be set on a copy of a slice from a DataFrame.\n",
      "Try using .loc[row_indexer,col_indexer] = value instead\n",
      "\n",
      "See the caveats in the documentation: https://pandas.pydata.org/pandas-docs/stable/user_guide/indexing.html#returning-a-view-versus-a-copy\n",
      "  super().__setitem__(key, value)\n"
     ]
    },
    {
     "name": "stdout",
     "output_type": "stream",
     "text": [
      "2022-07-08 12:54:05, INFO: Applying correct year 2018 assignment group\n",
      "2022-07-08 12:54:05, INFO: Applying correct year 2018 assignment group\n",
      "2022-07-08 12:54:05, INFO: Applying Project to Roadway Network: correct year 2018 assignment group\n",
      "2022-07-08 12:54:05, INFO: Applying Project to Roadway Network: correct year 2018 assignment group\n"
     ]
    },
    {
     "name": "stderr",
     "output_type": "stream",
     "text": [
      "C:\\ProgramData\\Anaconda3\\envs\\lasso_env\\lib\\site-packages\\geopandas\\geodataframe.py:1351: SettingWithCopyWarning: \n",
      "A value is trying to be set on a copy of a slice from a DataFrame.\n",
      "Try using .loc[row_indexer,col_indexer] = value instead\n",
      "\n",
      "See the caveats in the documentation: https://pandas.pydata.org/pandas-docs/stable/user_guide/indexing.html#returning-a-view-versus-a-copy\n",
      "  super().__setitem__(key, value)\n"
     ]
    },
    {
     "name": "stdout",
     "output_type": "stream",
     "text": [
      "2022-07-08 12:54:14, INFO: Applying correct year 2018 assignment group\n",
      "2022-07-08 12:54:14, INFO: Applying correct year 2018 assignment group\n",
      "2022-07-08 12:54:14, INFO: Applying Project to Roadway Network: correct year 2018 assignment group\n",
      "2022-07-08 12:54:14, INFO: Applying Project to Roadway Network: correct year 2018 assignment group\n"
     ]
    },
    {
     "name": "stderr",
     "output_type": "stream",
     "text": [
      "C:\\ProgramData\\Anaconda3\\envs\\lasso_env\\lib\\site-packages\\geopandas\\geodataframe.py:1351: SettingWithCopyWarning: \n",
      "A value is trying to be set on a copy of a slice from a DataFrame.\n",
      "Try using .loc[row_indexer,col_indexer] = value instead\n",
      "\n",
      "See the caveats in the documentation: https://pandas.pydata.org/pandas-docs/stable/user_guide/indexing.html#returning-a-view-versus-a-copy\n",
      "  super().__setitem__(key, value)\n"
     ]
    },
    {
     "name": "stdout",
     "output_type": "stream",
     "text": [
      "2022-07-08 12:54:15, INFO: Applying correct year 2018 assignment group\n",
      "2022-07-08 12:54:15, INFO: Applying correct year 2018 assignment group\n",
      "2022-07-08 12:54:15, INFO: Applying Project to Roadway Network: correct year 2018 assignment group\n",
      "2022-07-08 12:54:15, INFO: Applying Project to Roadway Network: correct year 2018 assignment group\n",
      "2022-07-08 12:54:15, INFO: Applying correct year 2018 assignment group\n",
      "2022-07-08 12:54:15, INFO: Applying correct year 2018 assignment group\n",
      "2022-07-08 12:54:15, INFO: Applying Project to Roadway Network: correct year 2018 assignment group\n",
      "2022-07-08 12:54:15, INFO: Applying Project to Roadway Network: correct year 2018 assignment group\n",
      "2022-07-08 12:54:15, INFO: Applying correct year 2018 assignment group\n"
     ]
    },
    {
     "name": "stderr",
     "output_type": "stream",
     "text": [
      "C:\\ProgramData\\Anaconda3\\envs\\lasso_env\\lib\\site-packages\\geopandas\\geodataframe.py:1351: SettingWithCopyWarning: \n",
      "A value is trying to be set on a copy of a slice from a DataFrame.\n",
      "Try using .loc[row_indexer,col_indexer] = value instead\n",
      "\n",
      "See the caveats in the documentation: https://pandas.pydata.org/pandas-docs/stable/user_guide/indexing.html#returning-a-view-versus-a-copy\n",
      "  super().__setitem__(key, value)\n",
      "C:\\ProgramData\\Anaconda3\\envs\\lasso_env\\lib\\site-packages\\geopandas\\geodataframe.py:1351: SettingWithCopyWarning: \n",
      "A value is trying to be set on a copy of a slice from a DataFrame.\n",
      "Try using .loc[row_indexer,col_indexer] = value instead\n",
      "\n",
      "See the caveats in the documentation: https://pandas.pydata.org/pandas-docs/stable/user_guide/indexing.html#returning-a-view-versus-a-copy\n",
      "  super().__setitem__(key, value)\n",
      "C:\\ProgramData\\Anaconda3\\envs\\lasso_env\\lib\\site-packages\\geopandas\\geodataframe.py:1351: SettingWithCopyWarning: \n",
      "A value is trying to be set on a copy of a slice from a DataFrame.\n",
      "Try using .loc[row_indexer,col_indexer] = value instead\n",
      "\n",
      "See the caveats in the documentation: https://pandas.pydata.org/pandas-docs/stable/user_guide/indexing.html#returning-a-view-versus-a-copy\n",
      "  super().__setitem__(key, value)\n"
     ]
    },
    {
     "name": "stdout",
     "output_type": "stream",
     "text": [
      "2022-07-08 12:54:15, INFO: Applying correct year 2018 assignment group\n",
      "2022-07-08 12:54:15, INFO: Applying Project to Roadway Network: correct year 2018 assignment group\n",
      "2022-07-08 12:54:15, INFO: Applying Project to Roadway Network: correct year 2018 assignment group\n",
      "2022-07-08 12:54:15, INFO: Applying correct year 2018 assignment group\n",
      "2022-07-08 12:54:15, INFO: Applying correct year 2018 assignment group\n",
      "2022-07-08 12:54:15, INFO: Applying Project to Roadway Network: correct year 2018 assignment group\n",
      "2022-07-08 12:54:15, INFO: Applying Project to Roadway Network: correct year 2018 assignment group\n",
      "2022-07-08 12:54:15, INFO: Applying correct year 2018 assignment group\n",
      "2022-07-08 12:54:15, INFO: Applying correct year 2018 assignment group\n",
      "2022-07-08 12:54:15, INFO: Applying Project to Roadway Network: correct year 2018 assignment group\n",
      "2022-07-08 12:54:15, INFO: Applying Project to Roadway Network: correct year 2018 assignment group\n"
     ]
    },
    {
     "name": "stderr",
     "output_type": "stream",
     "text": [
      "C:\\ProgramData\\Anaconda3\\envs\\lasso_env\\lib\\site-packages\\geopandas\\geodataframe.py:1351: SettingWithCopyWarning: \n",
      "A value is trying to be set on a copy of a slice from a DataFrame.\n",
      "Try using .loc[row_indexer,col_indexer] = value instead\n",
      "\n",
      "See the caveats in the documentation: https://pandas.pydata.org/pandas-docs/stable/user_guide/indexing.html#returning-a-view-versus-a-copy\n",
      "  super().__setitem__(key, value)\n",
      "C:\\ProgramData\\Anaconda3\\envs\\lasso_env\\lib\\site-packages\\geopandas\\geodataframe.py:1351: SettingWithCopyWarning: \n",
      "A value is trying to be set on a copy of a slice from a DataFrame.\n",
      "Try using .loc[row_indexer,col_indexer] = value instead\n",
      "\n",
      "See the caveats in the documentation: https://pandas.pydata.org/pandas-docs/stable/user_guide/indexing.html#returning-a-view-versus-a-copy\n",
      "  super().__setitem__(key, value)\n"
     ]
    },
    {
     "name": "stdout",
     "output_type": "stream",
     "text": [
      "2022-07-08 12:54:16, INFO: Applying correct year 2018 assignment group\n",
      "2022-07-08 12:54:16, INFO: Applying correct year 2018 assignment group\n",
      "2022-07-08 12:54:16, INFO: Applying Project to Roadway Network: correct year 2018 assignment group\n",
      "2022-07-08 12:54:16, INFO: Applying Project to Roadway Network: correct year 2018 assignment group\n"
     ]
    },
    {
     "name": "stderr",
     "output_type": "stream",
     "text": [
      "C:\\ProgramData\\Anaconda3\\envs\\lasso_env\\lib\\site-packages\\geopandas\\geodataframe.py:1351: SettingWithCopyWarning: \n",
      "A value is trying to be set on a copy of a slice from a DataFrame.\n",
      "Try using .loc[row_indexer,col_indexer] = value instead\n",
      "\n",
      "See the caveats in the documentation: https://pandas.pydata.org/pandas-docs/stable/user_guide/indexing.html#returning-a-view-versus-a-copy\n",
      "  super().__setitem__(key, value)\n"
     ]
    },
    {
     "name": "stdout",
     "output_type": "stream",
     "text": [
      "2022-07-08 12:54:18, INFO: Applying correct year 2018 assignment group\n",
      "2022-07-08 12:54:18, INFO: Applying correct year 2018 assignment group\n",
      "2022-07-08 12:54:18, INFO: Applying Project to Roadway Network: correct year 2018 assignment group\n",
      "2022-07-08 12:54:18, INFO: Applying Project to Roadway Network: correct year 2018 assignment group\n",
      "2022-07-08 12:54:18, INFO: Applying correct year 2018 assignment group\n",
      "2022-07-08 12:54:18, INFO: Applying correct year 2018 assignment group\n",
      "2022-07-08 12:54:18, INFO: Applying Project to Roadway Network: correct year 2018 assignment group\n",
      "2022-07-08 12:54:18, INFO: Applying Project to Roadway Network: correct year 2018 assignment group\n",
      "2022-07-08 12:54:18, INFO: Applying correct year 2018 assignment group\n",
      "2022-07-08 12:54:18, INFO: Applying correct year 2018 assignment group\n",
      "2022-07-08 12:54:18, INFO: Applying Project to Roadway Network: correct year 2018 assignment group\n",
      "2022-07-08 12:54:18, INFO: Applying Project to Roadway Network: correct year 2018 assignment group\n"
     ]
    },
    {
     "name": "stderr",
     "output_type": "stream",
     "text": [
      "C:\\ProgramData\\Anaconda3\\envs\\lasso_env\\lib\\site-packages\\geopandas\\geodataframe.py:1351: SettingWithCopyWarning: \n",
      "A value is trying to be set on a copy of a slice from a DataFrame.\n",
      "Try using .loc[row_indexer,col_indexer] = value instead\n",
      "\n",
      "See the caveats in the documentation: https://pandas.pydata.org/pandas-docs/stable/user_guide/indexing.html#returning-a-view-versus-a-copy\n",
      "  super().__setitem__(key, value)\n",
      "C:\\ProgramData\\Anaconda3\\envs\\lasso_env\\lib\\site-packages\\geopandas\\geodataframe.py:1351: SettingWithCopyWarning: \n",
      "A value is trying to be set on a copy of a slice from a DataFrame.\n",
      "Try using .loc[row_indexer,col_indexer] = value instead\n",
      "\n",
      "See the caveats in the documentation: https://pandas.pydata.org/pandas-docs/stable/user_guide/indexing.html#returning-a-view-versus-a-copy\n",
      "  super().__setitem__(key, value)\n",
      "C:\\ProgramData\\Anaconda3\\envs\\lasso_env\\lib\\site-packages\\geopandas\\geodataframe.py:1351: SettingWithCopyWarning: \n",
      "A value is trying to be set on a copy of a slice from a DataFrame.\n",
      "Try using .loc[row_indexer,col_indexer] = value instead\n",
      "\n",
      "See the caveats in the documentation: https://pandas.pydata.org/pandas-docs/stable/user_guide/indexing.html#returning-a-view-versus-a-copy\n",
      "  super().__setitem__(key, value)\n"
     ]
    },
    {
     "name": "stdout",
     "output_type": "stream",
     "text": [
      "2022-07-08 12:54:19, INFO: Applying correct year 2018 assignment group\n",
      "2022-07-08 12:54:19, INFO: Applying correct year 2018 assignment group\n",
      "2022-07-08 12:54:19, INFO: Applying Project to Roadway Network: correct year 2018 assignment group\n",
      "2022-07-08 12:54:19, INFO: Applying Project to Roadway Network: correct year 2018 assignment group\n",
      "2022-07-08 12:54:19, INFO: Applying correct year 2018 assignment group\n",
      "2022-07-08 12:54:19, INFO: Applying correct year 2018 assignment group\n",
      "2022-07-08 12:54:19, INFO: Applying Project to Roadway Network: correct year 2018 assignment group\n",
      "2022-07-08 12:54:19, INFO: Applying Project to Roadway Network: correct year 2018 assignment group\n"
     ]
    },
    {
     "name": "stderr",
     "output_type": "stream",
     "text": [
      "C:\\ProgramData\\Anaconda3\\envs\\lasso_env\\lib\\site-packages\\geopandas\\geodataframe.py:1351: SettingWithCopyWarning: \n",
      "A value is trying to be set on a copy of a slice from a DataFrame.\n",
      "Try using .loc[row_indexer,col_indexer] = value instead\n",
      "\n",
      "See the caveats in the documentation: https://pandas.pydata.org/pandas-docs/stable/user_guide/indexing.html#returning-a-view-versus-a-copy\n",
      "  super().__setitem__(key, value)\n",
      "C:\\ProgramData\\Anaconda3\\envs\\lasso_env\\lib\\site-packages\\geopandas\\geodataframe.py:1351: SettingWithCopyWarning: \n",
      "A value is trying to be set on a copy of a slice from a DataFrame.\n",
      "Try using .loc[row_indexer,col_indexer] = value instead\n",
      "\n",
      "See the caveats in the documentation: https://pandas.pydata.org/pandas-docs/stable/user_guide/indexing.html#returning-a-view-versus-a-copy\n",
      "  super().__setitem__(key, value)\n"
     ]
    },
    {
     "name": "stdout",
     "output_type": "stream",
     "text": [
      "2022-07-08 12:54:21, INFO: Applying correct year 2018 assignment group\n",
      "2022-07-08 12:54:21, INFO: Applying correct year 2018 assignment group\n",
      "2022-07-08 12:54:21, INFO: Applying Project to Roadway Network: correct year 2018 assignment group\n",
      "2022-07-08 12:54:21, INFO: Applying Project to Roadway Network: correct year 2018 assignment group\n"
     ]
    },
    {
     "name": "stderr",
     "output_type": "stream",
     "text": [
      "C:\\ProgramData\\Anaconda3\\envs\\lasso_env\\lib\\site-packages\\geopandas\\geodataframe.py:1351: SettingWithCopyWarning: \n",
      "A value is trying to be set on a copy of a slice from a DataFrame.\n",
      "Try using .loc[row_indexer,col_indexer] = value instead\n",
      "\n",
      "See the caveats in the documentation: https://pandas.pydata.org/pandas-docs/stable/user_guide/indexing.html#returning-a-view-versus-a-copy\n",
      "  super().__setitem__(key, value)\n"
     ]
    },
    {
     "name": "stdout",
     "output_type": "stream",
     "text": [
      "2022-07-08 12:54:38, INFO: Applying correct year 2018 assignment group\n",
      "2022-07-08 12:54:38, INFO: Applying correct year 2018 assignment group\n",
      "2022-07-08 12:54:38, INFO: Applying Project to Roadway Network: correct year 2018 assignment group\n",
      "2022-07-08 12:54:38, INFO: Applying Project to Roadway Network: correct year 2018 assignment group\n"
     ]
    },
    {
     "name": "stderr",
     "output_type": "stream",
     "text": [
      "C:\\ProgramData\\Anaconda3\\envs\\lasso_env\\lib\\site-packages\\geopandas\\geodataframe.py:1351: SettingWithCopyWarning: \n",
      "A value is trying to be set on a copy of a slice from a DataFrame.\n",
      "Try using .loc[row_indexer,col_indexer] = value instead\n",
      "\n",
      "See the caveats in the documentation: https://pandas.pydata.org/pandas-docs/stable/user_guide/indexing.html#returning-a-view-versus-a-copy\n",
      "  super().__setitem__(key, value)\n"
     ]
    },
    {
     "name": "stdout",
     "output_type": "stream",
     "text": [
      "2022-07-08 12:54:56, INFO: Applying correct year 2018 assignment group\n",
      "2022-07-08 12:54:56, INFO: Applying correct year 2018 assignment group\n",
      "2022-07-08 12:54:56, INFO: Applying Project to Roadway Network: correct year 2018 assignment group\n",
      "2022-07-08 12:54:56, INFO: Applying Project to Roadway Network: correct year 2018 assignment group\n"
     ]
    },
    {
     "name": "stderr",
     "output_type": "stream",
     "text": [
      "C:\\ProgramData\\Anaconda3\\envs\\lasso_env\\lib\\site-packages\\geopandas\\geodataframe.py:1351: SettingWithCopyWarning: \n",
      "A value is trying to be set on a copy of a slice from a DataFrame.\n",
      "Try using .loc[row_indexer,col_indexer] = value instead\n",
      "\n",
      "See the caveats in the documentation: https://pandas.pydata.org/pandas-docs/stable/user_guide/indexing.html#returning-a-view-versus-a-copy\n",
      "  super().__setitem__(key, value)\n"
     ]
    },
    {
     "name": "stdout",
     "output_type": "stream",
     "text": [
      "2022-07-08 12:55:05, INFO: Applying correct year 2018 assignment group\n",
      "2022-07-08 12:55:05, INFO: Applying correct year 2018 assignment group\n",
      "2022-07-08 12:55:05, INFO: Applying Project to Roadway Network: correct year 2018 assignment group\n",
      "2022-07-08 12:55:05, INFO: Applying Project to Roadway Network: correct year 2018 assignment group\n"
     ]
    },
    {
     "name": "stderr",
     "output_type": "stream",
     "text": [
      "C:\\ProgramData\\Anaconda3\\envs\\lasso_env\\lib\\site-packages\\geopandas\\geodataframe.py:1351: SettingWithCopyWarning: \n",
      "A value is trying to be set on a copy of a slice from a DataFrame.\n",
      "Try using .loc[row_indexer,col_indexer] = value instead\n",
      "\n",
      "See the caveats in the documentation: https://pandas.pydata.org/pandas-docs/stable/user_guide/indexing.html#returning-a-view-versus-a-copy\n",
      "  super().__setitem__(key, value)\n"
     ]
    },
    {
     "name": "stdout",
     "output_type": "stream",
     "text": [
      "2022-07-08 12:55:22, INFO: Applying correct year 2018 assignment group\n",
      "2022-07-08 12:55:22, INFO: Applying correct year 2018 assignment group\n",
      "2022-07-08 12:55:22, INFO: Applying Project to Roadway Network: correct year 2018 assignment group\n",
      "2022-07-08 12:55:22, INFO: Applying Project to Roadway Network: correct year 2018 assignment group\n"
     ]
    },
    {
     "name": "stderr",
     "output_type": "stream",
     "text": [
      "C:\\ProgramData\\Anaconda3\\envs\\lasso_env\\lib\\site-packages\\geopandas\\geodataframe.py:1351: SettingWithCopyWarning: \n",
      "A value is trying to be set on a copy of a slice from a DataFrame.\n",
      "Try using .loc[row_indexer,col_indexer] = value instead\n",
      "\n",
      "See the caveats in the documentation: https://pandas.pydata.org/pandas-docs/stable/user_guide/indexing.html#returning-a-view-versus-a-copy\n",
      "  super().__setitem__(key, value)\n"
     ]
    },
    {
     "name": "stdout",
     "output_type": "stream",
     "text": [
      "2022-07-08 12:55:37, INFO: Applying correct year 2018 assignment group\n",
      "2022-07-08 12:55:37, INFO: Applying correct year 2018 assignment group\n",
      "2022-07-08 12:55:37, INFO: Applying Project to Roadway Network: correct year 2018 assignment group\n",
      "2022-07-08 12:55:37, INFO: Applying Project to Roadway Network: correct year 2018 assignment group\n"
     ]
    },
    {
     "name": "stderr",
     "output_type": "stream",
     "text": [
      "C:\\ProgramData\\Anaconda3\\envs\\lasso_env\\lib\\site-packages\\geopandas\\geodataframe.py:1351: SettingWithCopyWarning: \n",
      "A value is trying to be set on a copy of a slice from a DataFrame.\n",
      "Try using .loc[row_indexer,col_indexer] = value instead\n",
      "\n",
      "See the caveats in the documentation: https://pandas.pydata.org/pandas-docs/stable/user_guide/indexing.html#returning-a-view-versus-a-copy\n",
      "  super().__setitem__(key, value)\n"
     ]
    },
    {
     "name": "stdout",
     "output_type": "stream",
     "text": [
      "2022-07-08 12:55:52, INFO: Applying correct year 2018 assignment group\n",
      "2022-07-08 12:55:52, INFO: Applying correct year 2018 assignment group\n",
      "2022-07-08 12:55:52, INFO: Applying Project to Roadway Network: correct year 2018 assignment group\n",
      "2022-07-08 12:55:52, INFO: Applying Project to Roadway Network: correct year 2018 assignment group\n"
     ]
    },
    {
     "name": "stderr",
     "output_type": "stream",
     "text": [
      "C:\\ProgramData\\Anaconda3\\envs\\lasso_env\\lib\\site-packages\\geopandas\\geodataframe.py:1351: SettingWithCopyWarning: \n",
      "A value is trying to be set on a copy of a slice from a DataFrame.\n",
      "Try using .loc[row_indexer,col_indexer] = value instead\n",
      "\n",
      "See the caveats in the documentation: https://pandas.pydata.org/pandas-docs/stable/user_guide/indexing.html#returning-a-view-versus-a-copy\n",
      "  super().__setitem__(key, value)\n"
     ]
    },
    {
     "name": "stdout",
     "output_type": "stream",
     "text": [
      "2022-07-08 12:56:07, INFO: Applying correct year 2018 assignment group\n",
      "2022-07-08 12:56:07, INFO: Applying correct year 2018 assignment group\n",
      "2022-07-08 12:56:07, INFO: Applying Project to Roadway Network: correct year 2018 assignment group\n",
      "2022-07-08 12:56:07, INFO: Applying Project to Roadway Network: correct year 2018 assignment group\n"
     ]
    },
    {
     "name": "stderr",
     "output_type": "stream",
     "text": [
      "C:\\ProgramData\\Anaconda3\\envs\\lasso_env\\lib\\site-packages\\geopandas\\geodataframe.py:1351: SettingWithCopyWarning: \n",
      "A value is trying to be set on a copy of a slice from a DataFrame.\n",
      "Try using .loc[row_indexer,col_indexer] = value instead\n",
      "\n",
      "See the caveats in the documentation: https://pandas.pydata.org/pandas-docs/stable/user_guide/indexing.html#returning-a-view-versus-a-copy\n",
      "  super().__setitem__(key, value)\n"
     ]
    },
    {
     "name": "stdout",
     "output_type": "stream",
     "text": [
      "2022-07-08 12:56:34, INFO: Applying correct year 2018 assignment group\n",
      "2022-07-08 12:56:34, INFO: Applying correct year 2018 assignment group\n",
      "2022-07-08 12:56:34, INFO: Applying Project to Roadway Network: correct year 2018 assignment group\n",
      "2022-07-08 12:56:34, INFO: Applying Project to Roadway Network: correct year 2018 assignment group\n"
     ]
    },
    {
     "name": "stderr",
     "output_type": "stream",
     "text": [
      "C:\\ProgramData\\Anaconda3\\envs\\lasso_env\\lib\\site-packages\\geopandas\\geodataframe.py:1351: SettingWithCopyWarning: \n",
      "A value is trying to be set on a copy of a slice from a DataFrame.\n",
      "Try using .loc[row_indexer,col_indexer] = value instead\n",
      "\n",
      "See the caveats in the documentation: https://pandas.pydata.org/pandas-docs/stable/user_guide/indexing.html#returning-a-view-versus-a-copy\n",
      "  super().__setitem__(key, value)\n"
     ]
    },
    {
     "name": "stdout",
     "output_type": "stream",
     "text": [
      "2022-07-08 12:56:53, INFO: Applying correct year 2018 assignment group\n",
      "2022-07-08 12:56:53, INFO: Applying correct year 2018 assignment group\n",
      "2022-07-08 12:56:53, INFO: Applying Project to Roadway Network: correct year 2018 assignment group\n",
      "2022-07-08 12:56:53, INFO: Applying Project to Roadway Network: correct year 2018 assignment group\n"
     ]
    },
    {
     "name": "stderr",
     "output_type": "stream",
     "text": [
      "C:\\ProgramData\\Anaconda3\\envs\\lasso_env\\lib\\site-packages\\geopandas\\geodataframe.py:1351: SettingWithCopyWarning: \n",
      "A value is trying to be set on a copy of a slice from a DataFrame.\n",
      "Try using .loc[row_indexer,col_indexer] = value instead\n",
      "\n",
      "See the caveats in the documentation: https://pandas.pydata.org/pandas-docs/stable/user_guide/indexing.html#returning-a-view-versus-a-copy\n",
      "  super().__setitem__(key, value)\n"
     ]
    },
    {
     "name": "stdout",
     "output_type": "stream",
     "text": [
      "2022-07-08 12:57:04, INFO: Applying correct year 2018 assignment group\n",
      "2022-07-08 12:57:04, INFO: Applying correct year 2018 assignment group\n",
      "2022-07-08 12:57:04, INFO: Applying Project to Roadway Network: correct year 2018 assignment group\n",
      "2022-07-08 12:57:04, INFO: Applying Project to Roadway Network: correct year 2018 assignment group\n"
     ]
    },
    {
     "name": "stderr",
     "output_type": "stream",
     "text": [
      "C:\\ProgramData\\Anaconda3\\envs\\lasso_env\\lib\\site-packages\\geopandas\\geodataframe.py:1351: SettingWithCopyWarning: \n",
      "A value is trying to be set on a copy of a slice from a DataFrame.\n",
      "Try using .loc[row_indexer,col_indexer] = value instead\n",
      "\n",
      "See the caveats in the documentation: https://pandas.pydata.org/pandas-docs/stable/user_guide/indexing.html#returning-a-view-versus-a-copy\n",
      "  super().__setitem__(key, value)\n"
     ]
    },
    {
     "name": "stdout",
     "output_type": "stream",
     "text": [
      "2022-07-08 12:57:25, INFO: Applying correct year 2018 assignment group\n",
      "2022-07-08 12:57:25, INFO: Applying correct year 2018 assignment group\n",
      "2022-07-08 12:57:25, INFO: Applying Project to Roadway Network: correct year 2018 assignment group\n",
      "2022-07-08 12:57:25, INFO: Applying Project to Roadway Network: correct year 2018 assignment group\n"
     ]
    },
    {
     "name": "stderr",
     "output_type": "stream",
     "text": [
      "C:\\ProgramData\\Anaconda3\\envs\\lasso_env\\lib\\site-packages\\geopandas\\geodataframe.py:1351: SettingWithCopyWarning: \n",
      "A value is trying to be set on a copy of a slice from a DataFrame.\n",
      "Try using .loc[row_indexer,col_indexer] = value instead\n",
      "\n",
      "See the caveats in the documentation: https://pandas.pydata.org/pandas-docs/stable/user_guide/indexing.html#returning-a-view-versus-a-copy\n",
      "  super().__setitem__(key, value)\n"
     ]
    },
    {
     "name": "stdout",
     "output_type": "stream",
     "text": [
      "2022-07-08 12:57:35, INFO: Applying correct year 2018 assignment group\n",
      "2022-07-08 12:57:35, INFO: Applying correct year 2018 assignment group\n",
      "2022-07-08 12:57:35, INFO: Applying Project to Roadway Network: correct year 2018 assignment group\n",
      "2022-07-08 12:57:35, INFO: Applying Project to Roadway Network: correct year 2018 assignment group\n"
     ]
    },
    {
     "name": "stderr",
     "output_type": "stream",
     "text": [
      "C:\\ProgramData\\Anaconda3\\envs\\lasso_env\\lib\\site-packages\\geopandas\\geodataframe.py:1351: SettingWithCopyWarning: \n",
      "A value is trying to be set on a copy of a slice from a DataFrame.\n",
      "Try using .loc[row_indexer,col_indexer] = value instead\n",
      "\n",
      "See the caveats in the documentation: https://pandas.pydata.org/pandas-docs/stable/user_guide/indexing.html#returning-a-view-versus-a-copy\n",
      "  super().__setitem__(key, value)\n"
     ]
    },
    {
     "name": "stdout",
     "output_type": "stream",
     "text": [
      "2022-07-08 12:57:35, INFO: Applying correct year 2018 assignment group\n",
      "2022-07-08 12:57:35, INFO: Applying correct year 2018 assignment group\n",
      "2022-07-08 12:57:35, INFO: Applying Project to Roadway Network: correct year 2018 assignment group\n",
      "2022-07-08 12:57:35, INFO: Applying Project to Roadway Network: correct year 2018 assignment group\n"
     ]
    },
    {
     "name": "stderr",
     "output_type": "stream",
     "text": [
      "C:\\ProgramData\\Anaconda3\\envs\\lasso_env\\lib\\site-packages\\geopandas\\geodataframe.py:1351: SettingWithCopyWarning: \n",
      "A value is trying to be set on a copy of a slice from a DataFrame.\n",
      "Try using .loc[row_indexer,col_indexer] = value instead\n",
      "\n",
      "See the caveats in the documentation: https://pandas.pydata.org/pandas-docs/stable/user_guide/indexing.html#returning-a-view-versus-a-copy\n",
      "  super().__setitem__(key, value)\n"
     ]
    },
    {
     "name": "stdout",
     "output_type": "stream",
     "text": [
      "2022-07-08 12:57:36, INFO: Applying correct year 2018 assignment group\n",
      "2022-07-08 12:57:36, INFO: Applying correct year 2018 assignment group\n",
      "2022-07-08 12:57:36, INFO: Applying Project to Roadway Network: correct year 2018 assignment group\n",
      "2022-07-08 12:57:36, INFO: Applying Project to Roadway Network: correct year 2018 assignment group\n",
      "2022-07-08 12:57:36, INFO: Applying correct year 2018 assignment group\n",
      "2022-07-08 12:57:36, INFO: Applying correct year 2018 assignment group\n",
      "2022-07-08 12:57:36, INFO: Applying Project to Roadway Network: correct year 2018 assignment group\n",
      "2022-07-08 12:57:36, INFO: Applying Project to Roadway Network: correct year 2018 assignment group\n"
     ]
    },
    {
     "name": "stderr",
     "output_type": "stream",
     "text": [
      "C:\\ProgramData\\Anaconda3\\envs\\lasso_env\\lib\\site-packages\\geopandas\\geodataframe.py:1351: SettingWithCopyWarning: \n",
      "A value is trying to be set on a copy of a slice from a DataFrame.\n",
      "Try using .loc[row_indexer,col_indexer] = value instead\n",
      "\n",
      "See the caveats in the documentation: https://pandas.pydata.org/pandas-docs/stable/user_guide/indexing.html#returning-a-view-versus-a-copy\n",
      "  super().__setitem__(key, value)\n",
      "C:\\ProgramData\\Anaconda3\\envs\\lasso_env\\lib\\site-packages\\geopandas\\geodataframe.py:1351: SettingWithCopyWarning: \n",
      "A value is trying to be set on a copy of a slice from a DataFrame.\n",
      "Try using .loc[row_indexer,col_indexer] = value instead\n",
      "\n",
      "See the caveats in the documentation: https://pandas.pydata.org/pandas-docs/stable/user_guide/indexing.html#returning-a-view-versus-a-copy\n",
      "  super().__setitem__(key, value)\n"
     ]
    },
    {
     "name": "stdout",
     "output_type": "stream",
     "text": [
      "2022-07-08 12:57:49, INFO: Applying network cleanup remove link\n",
      "2022-07-08 12:57:49, INFO: Applying network cleanup remove link\n",
      "2022-07-08 12:57:49, INFO: Applying network cleanup remove link\n",
      "2022-07-08 12:57:49, INFO: Applying network cleanup remove link\n",
      "2022-07-08 12:57:49, INFO: Applying Project to Roadway Network: network cleanup remove link\n",
      "2022-07-08 12:57:49, INFO: Applying Project to Roadway Network: network cleanup remove link\n",
      "2022-07-08 12:57:49, INFO: Applying Manual Changes to Assignment Group and Roadway Class\n",
      "2022-07-08 12:57:49, INFO: Applying Manual Changes to Assignment Group and Roadway Class\n",
      "2022-07-08 12:57:49, INFO: Applying Project to Roadway Network: Manual Changes to Assignment Group and Roadway Class\n",
      "2022-07-08 12:57:49, INFO: Applying Project to Roadway Network: Manual Changes to Assignment Group and Roadway Class\n",
      "2022-07-08 12:57:49, INFO: Lasso base directory set as: C:/Lasso\n",
      "2022-07-08 12:57:49, INFO: Lasso base directory set as: C:/Lasso\n"
     ]
    },
    {
     "name": "stderr",
     "output_type": "stream",
     "text": [
      "C:\\ProgramData\\Anaconda3\\envs\\lasso_env\\lib\\site-packages\\geopandas\\geodataframe.py:1351: SettingWithCopyWarning: \n",
      "A value is trying to be set on a copy of a slice from a DataFrame.\n",
      "Try using .loc[row_indexer,col_indexer] = value instead\n",
      "\n",
      "See the caveats in the documentation: https://pandas.pydata.org/pandas-docs/stable/user_guide/indexing.html#returning-a-view-versus-a-copy\n",
      "  super().__setitem__(key, value)\n",
      "C:\\ProgramData\\Anaconda3\\envs\\lasso_env\\lib\\site-packages\\geopandas\\geodataframe.py:1351: SettingWithCopyWarning: \n",
      "A value is trying to be set on a copy of a slice from a DataFrame.\n",
      "Try using .loc[row_indexer,col_indexer] = value instead\n",
      "\n",
      "See the caveats in the documentation: https://pandas.pydata.org/pandas-docs/stable/user_guide/indexing.html#returning-a-view-versus-a-copy\n",
      "  super().__setitem__(key, value)\n",
      "c:\\netw\\network_wrangler\\roadwaynetwork.py:18: UserWarning: Geometry is in a geographic CRS. Results from 'centroid' are likely incorrect. Use 'GeoSeries.to_crs()' to re-project geometries to a projected CRS before this operation.\n",
      "\n",
      "  import osmnx as ox\n",
      "c:\\netw\\network_wrangler\\roadwaynetwork.py:55: UserWarning: Geometry is in a geographic CRS. Results from 'centroid' are likely incorrect. Use 'GeoSeries.to_crs()' to re-project geometries to a projected CRS before this operation.\n",
      "\n",
      "  shape_file=MY_SHAPE_FILE,\n",
      "c:\\netw\\network_wrangler\\roadwaynetwork.py:63: UserWarning: CRS mismatch between the CRS of left geometries and the CRS of right geometries.\n",
      "Use `to_crs()` to reproject one of the input geometries to match the CRS of the other.\n",
      "\n",
      "Left CRS: EPSG:4326\n",
      "Right CRS: EPSG:4269\n",
      "\n",
      "  \n"
     ]
    },
    {
     "name": "stdout",
     "output_type": "stream",
     "text": [
      "2022-07-08 13:08:43, INFO: Applying network cleanup 1 lanes 7\n",
      "2022-07-08 13:08:43, INFO: Applying network cleanup 1 lanes 7\n",
      "2022-07-08 13:08:43, INFO: Applying network cleanup 1 lanes 7\n",
      "2022-07-08 13:08:43, INFO: Applying network cleanup 1 lanes 7\n",
      "2022-07-08 13:08:43, INFO: Applying Project to Roadway Network: network cleanup 1 lanes 7\n",
      "2022-07-08 13:08:43, INFO: Applying Project to Roadway Network: network cleanup 1 lanes 7\n",
      "2022-07-08 13:08:43, INFO: Applying network cleanup 1 lanes 6\n",
      "2022-07-08 13:08:43, INFO: Applying network cleanup 1 lanes 6\n",
      "2022-07-08 13:08:43, INFO: Applying network cleanup 1 lanes 6\n",
      "2022-07-08 13:08:43, INFO: Applying network cleanup 1 lanes 6\n",
      "2022-07-08 13:08:43, INFO: Applying Project to Roadway Network: network cleanup 1 lanes 6\n",
      "2022-07-08 13:08:43, INFO: Applying Project to Roadway Network: network cleanup 1 lanes 6\n",
      "2022-07-08 13:08:43, INFO: Applying network cleanup 1 lanes 5\n",
      "2022-07-08 13:08:43, INFO: Applying network cleanup 1 lanes 5\n",
      "2022-07-08 13:08:43, INFO: Applying network cleanup 1 lanes 5\n",
      "2022-07-08 13:08:43, INFO: Applying network cleanup 1 lanes 5\n",
      "2022-07-08 13:08:43, INFO: Applying Project to Roadway Network: network cleanup 1 lanes 5\n",
      "2022-07-08 13:08:43, INFO: Applying Project to Roadway Network: network cleanup 1 lanes 5\n"
     ]
    },
    {
     "name": "stderr",
     "output_type": "stream",
     "text": [
      "C:\\ProgramData\\Anaconda3\\envs\\lasso_env\\lib\\site-packages\\geopandas\\geodataframe.py:1351: SettingWithCopyWarning: \n",
      "A value is trying to be set on a copy of a slice from a DataFrame.\n",
      "Try using .loc[row_indexer,col_indexer] = value instead\n",
      "\n",
      "See the caveats in the documentation: https://pandas.pydata.org/pandas-docs/stable/user_guide/indexing.html#returning-a-view-versus-a-copy\n",
      "  super().__setitem__(key, value)\n",
      "C:\\ProgramData\\Anaconda3\\envs\\lasso_env\\lib\\site-packages\\geopandas\\geodataframe.py:1351: SettingWithCopyWarning: \n",
      "A value is trying to be set on a copy of a slice from a DataFrame.\n",
      "Try using .loc[row_indexer,col_indexer] = value instead\n",
      "\n",
      "See the caveats in the documentation: https://pandas.pydata.org/pandas-docs/stable/user_guide/indexing.html#returning-a-view-versus-a-copy\n",
      "  super().__setitem__(key, value)\n"
     ]
    },
    {
     "name": "stdout",
     "output_type": "stream",
     "text": [
      "2022-07-08 13:08:44, INFO: Applying network cleanup 1 lanes 4\n",
      "2022-07-08 13:08:44, INFO: Applying network cleanup 1 lanes 4\n",
      "2022-07-08 13:08:44, INFO: Applying network cleanup 1 lanes 4\n",
      "2022-07-08 13:08:44, INFO: Applying network cleanup 1 lanes 4\n",
      "2022-07-08 13:08:44, INFO: Applying Project to Roadway Network: network cleanup 1 lanes 4\n",
      "2022-07-08 13:08:44, INFO: Applying Project to Roadway Network: network cleanup 1 lanes 4\n"
     ]
    },
    {
     "name": "stderr",
     "output_type": "stream",
     "text": [
      "C:\\ProgramData\\Anaconda3\\envs\\lasso_env\\lib\\site-packages\\geopandas\\geodataframe.py:1351: SettingWithCopyWarning: \n",
      "A value is trying to be set on a copy of a slice from a DataFrame.\n",
      "Try using .loc[row_indexer,col_indexer] = value instead\n",
      "\n",
      "See the caveats in the documentation: https://pandas.pydata.org/pandas-docs/stable/user_guide/indexing.html#returning-a-view-versus-a-copy\n",
      "  super().__setitem__(key, value)\n"
     ]
    },
    {
     "name": "stdout",
     "output_type": "stream",
     "text": [
      "2022-07-08 13:08:44, INFO: Applying network cleanup 1 lanes 3\n",
      "2022-07-08 13:08:44, INFO: Applying network cleanup 1 lanes 3\n",
      "2022-07-08 13:08:44, INFO: Applying network cleanup 1 lanes 3\n",
      "2022-07-08 13:08:44, INFO: Applying network cleanup 1 lanes 3\n",
      "2022-07-08 13:08:44, INFO: Applying Project to Roadway Network: network cleanup 1 lanes 3\n",
      "2022-07-08 13:08:44, INFO: Applying Project to Roadway Network: network cleanup 1 lanes 3\n"
     ]
    },
    {
     "name": "stderr",
     "output_type": "stream",
     "text": [
      "C:\\ProgramData\\Anaconda3\\envs\\lasso_env\\lib\\site-packages\\geopandas\\geodataframe.py:1351: SettingWithCopyWarning: \n",
      "A value is trying to be set on a copy of a slice from a DataFrame.\n",
      "Try using .loc[row_indexer,col_indexer] = value instead\n",
      "\n",
      "See the caveats in the documentation: https://pandas.pydata.org/pandas-docs/stable/user_guide/indexing.html#returning-a-view-versus-a-copy\n",
      "  super().__setitem__(key, value)\n"
     ]
    },
    {
     "name": "stdout",
     "output_type": "stream",
     "text": [
      "2022-07-08 13:09:18, INFO: Applying network cleanup 1 lanes 2e\n",
      "2022-07-08 13:09:18, INFO: Applying network cleanup 1 lanes 2e\n",
      "2022-07-08 13:09:18, INFO: Applying network cleanup 1 lanes 2e\n",
      "2022-07-08 13:09:18, INFO: Applying network cleanup 1 lanes 2e\n",
      "2022-07-08 13:09:18, INFO: Applying Project to Roadway Network: network cleanup 1 lanes 2e\n",
      "2022-07-08 13:09:18, INFO: Applying Project to Roadway Network: network cleanup 1 lanes 2e\n"
     ]
    },
    {
     "name": "stderr",
     "output_type": "stream",
     "text": [
      "C:\\ProgramData\\Anaconda3\\envs\\lasso_env\\lib\\site-packages\\geopandas\\geodataframe.py:1351: SettingWithCopyWarning: \n",
      "A value is trying to be set on a copy of a slice from a DataFrame.\n",
      "Try using .loc[row_indexer,col_indexer] = value instead\n",
      "\n",
      "See the caveats in the documentation: https://pandas.pydata.org/pandas-docs/stable/user_guide/indexing.html#returning-a-view-versus-a-copy\n",
      "  super().__setitem__(key, value)\n"
     ]
    },
    {
     "name": "stdout",
     "output_type": "stream",
     "text": [
      "2022-07-08 13:09:44, INFO: Applying network cleanup 1 lanes 2d part 2\n",
      "2022-07-08 13:09:44, INFO: Applying network cleanup 1 lanes 2d part 2\n",
      "2022-07-08 13:09:44, INFO: Applying network cleanup 1 lanes 2d part 2\n",
      "2022-07-08 13:09:44, INFO: Applying network cleanup 1 lanes 2d part 2\n",
      "2022-07-08 13:09:44, INFO: Applying Project to Roadway Network: network cleanup 1 lanes 2d part 2\n",
      "2022-07-08 13:09:44, INFO: Applying Project to Roadway Network: network cleanup 1 lanes 2d part 2\n"
     ]
    },
    {
     "name": "stderr",
     "output_type": "stream",
     "text": [
      "C:\\ProgramData\\Anaconda3\\envs\\lasso_env\\lib\\site-packages\\geopandas\\geodataframe.py:1351: SettingWithCopyWarning: \n",
      "A value is trying to be set on a copy of a slice from a DataFrame.\n",
      "Try using .loc[row_indexer,col_indexer] = value instead\n",
      "\n",
      "See the caveats in the documentation: https://pandas.pydata.org/pandas-docs/stable/user_guide/indexing.html#returning-a-view-versus-a-copy\n",
      "  super().__setitem__(key, value)\n"
     ]
    },
    {
     "name": "stdout",
     "output_type": "stream",
     "text": [
      "2022-07-08 13:09:47, INFO: Applying network cleanup 1 lanes 2d\n",
      "2022-07-08 13:09:47, INFO: Applying network cleanup 1 lanes 2d\n",
      "2022-07-08 13:09:47, INFO: Applying network cleanup 1 lanes 2d\n",
      "2022-07-08 13:09:47, INFO: Applying network cleanup 1 lanes 2d\n",
      "2022-07-08 13:09:47, INFO: Applying Project to Roadway Network: network cleanup 1 lanes 2d\n",
      "2022-07-08 13:09:47, INFO: Applying Project to Roadway Network: network cleanup 1 lanes 2d\n"
     ]
    },
    {
     "name": "stderr",
     "output_type": "stream",
     "text": [
      "C:\\ProgramData\\Anaconda3\\envs\\lasso_env\\lib\\site-packages\\geopandas\\geodataframe.py:1351: SettingWithCopyWarning: \n",
      "A value is trying to be set on a copy of a slice from a DataFrame.\n",
      "Try using .loc[row_indexer,col_indexer] = value instead\n",
      "\n",
      "See the caveats in the documentation: https://pandas.pydata.org/pandas-docs/stable/user_guide/indexing.html#returning-a-view-versus-a-copy\n",
      "  super().__setitem__(key, value)\n"
     ]
    },
    {
     "name": "stdout",
     "output_type": "stream",
     "text": [
      "2022-07-08 13:10:12, INFO: Applying network cleanup 1 lanes 2c part 2\n",
      "2022-07-08 13:10:12, INFO: Applying network cleanup 1 lanes 2c part 2\n",
      "2022-07-08 13:10:12, INFO: Applying network cleanup 1 lanes 2c part 2\n",
      "2022-07-08 13:10:12, INFO: Applying network cleanup 1 lanes 2c part 2\n",
      "2022-07-08 13:10:12, INFO: Applying Project to Roadway Network: network cleanup 1 lanes 2c part 2\n",
      "2022-07-08 13:10:12, INFO: Applying Project to Roadway Network: network cleanup 1 lanes 2c part 2\n"
     ]
    },
    {
     "name": "stderr",
     "output_type": "stream",
     "text": [
      "C:\\ProgramData\\Anaconda3\\envs\\lasso_env\\lib\\site-packages\\geopandas\\geodataframe.py:1351: SettingWithCopyWarning: \n",
      "A value is trying to be set on a copy of a slice from a DataFrame.\n",
      "Try using .loc[row_indexer,col_indexer] = value instead\n",
      "\n",
      "See the caveats in the documentation: https://pandas.pydata.org/pandas-docs/stable/user_guide/indexing.html#returning-a-view-versus-a-copy\n",
      "  super().__setitem__(key, value)\n"
     ]
    },
    {
     "name": "stdout",
     "output_type": "stream",
     "text": [
      "2022-07-08 13:10:16, INFO: Applying network cleanup 1 lanes 2c\n",
      "2022-07-08 13:10:16, INFO: Applying network cleanup 1 lanes 2c\n",
      "2022-07-08 13:10:16, INFO: Applying network cleanup 1 lanes 2c\n",
      "2022-07-08 13:10:16, INFO: Applying network cleanup 1 lanes 2c\n",
      "2022-07-08 13:10:16, INFO: Applying Project to Roadway Network: network cleanup 1 lanes 2c\n",
      "2022-07-08 13:10:16, INFO: Applying Project to Roadway Network: network cleanup 1 lanes 2c\n"
     ]
    },
    {
     "name": "stderr",
     "output_type": "stream",
     "text": [
      "C:\\ProgramData\\Anaconda3\\envs\\lasso_env\\lib\\site-packages\\geopandas\\geodataframe.py:1351: SettingWithCopyWarning: \n",
      "A value is trying to be set on a copy of a slice from a DataFrame.\n",
      "Try using .loc[row_indexer,col_indexer] = value instead\n",
      "\n",
      "See the caveats in the documentation: https://pandas.pydata.org/pandas-docs/stable/user_guide/indexing.html#returning-a-view-versus-a-copy\n",
      "  super().__setitem__(key, value)\n"
     ]
    },
    {
     "name": "stdout",
     "output_type": "stream",
     "text": [
      "2022-07-08 13:10:42, INFO: Applying network cleanup 1 lanes 2b\n",
      "2022-07-08 13:10:42, INFO: Applying network cleanup 1 lanes 2b\n",
      "2022-07-08 13:10:42, INFO: Applying network cleanup 1 lanes 2b\n",
      "2022-07-08 13:10:42, INFO: Applying network cleanup 1 lanes 2b\n",
      "2022-07-08 13:10:42, INFO: Applying Project to Roadway Network: network cleanup 1 lanes 2b\n",
      "2022-07-08 13:10:42, INFO: Applying Project to Roadway Network: network cleanup 1 lanes 2b\n"
     ]
    },
    {
     "name": "stderr",
     "output_type": "stream",
     "text": [
      "C:\\ProgramData\\Anaconda3\\envs\\lasso_env\\lib\\site-packages\\geopandas\\geodataframe.py:1351: SettingWithCopyWarning: \n",
      "A value is trying to be set on a copy of a slice from a DataFrame.\n",
      "Try using .loc[row_indexer,col_indexer] = value instead\n",
      "\n",
      "See the caveats in the documentation: https://pandas.pydata.org/pandas-docs/stable/user_guide/indexing.html#returning-a-view-versus-a-copy\n",
      "  super().__setitem__(key, value)\n"
     ]
    },
    {
     "name": "stdout",
     "output_type": "stream",
     "text": [
      "2022-07-08 13:11:17, INFO: Applying network cleanup 1 lanes 2a\n",
      "2022-07-08 13:11:17, INFO: Applying network cleanup 1 lanes 2a\n",
      "2022-07-08 13:11:17, INFO: Applying network cleanup 1 lanes 2a\n",
      "2022-07-08 13:11:17, INFO: Applying network cleanup 1 lanes 2a\n",
      "2022-07-08 13:11:17, INFO: Applying Project to Roadway Network: network cleanup 1 lanes 2a\n",
      "2022-07-08 13:11:17, INFO: Applying Project to Roadway Network: network cleanup 1 lanes 2a\n"
     ]
    },
    {
     "name": "stderr",
     "output_type": "stream",
     "text": [
      "C:\\ProgramData\\Anaconda3\\envs\\lasso_env\\lib\\site-packages\\geopandas\\geodataframe.py:1351: SettingWithCopyWarning: \n",
      "A value is trying to be set on a copy of a slice from a DataFrame.\n",
      "Try using .loc[row_indexer,col_indexer] = value instead\n",
      "\n",
      "See the caveats in the documentation: https://pandas.pydata.org/pandas-docs/stable/user_guide/indexing.html#returning-a-view-versus-a-copy\n",
      "  super().__setitem__(key, value)\n"
     ]
    },
    {
     "name": "stdout",
     "output_type": "stream",
     "text": [
      "2022-07-08 13:11:43, INFO: Applying network cleanup 1 lanes 1 h\n",
      "2022-07-08 13:11:43, INFO: Applying network cleanup 1 lanes 1 h\n",
      "2022-07-08 13:11:43, INFO: Applying network cleanup 1 lanes 1 h\n",
      "2022-07-08 13:11:43, INFO: Applying network cleanup 1 lanes 1 h\n",
      "2022-07-08 13:11:43, INFO: Applying Project to Roadway Network: network cleanup 1 lanes 1 h\n",
      "2022-07-08 13:11:43, INFO: Applying Project to Roadway Network: network cleanup 1 lanes 1 h\n"
     ]
    },
    {
     "name": "stderr",
     "output_type": "stream",
     "text": [
      "C:\\ProgramData\\Anaconda3\\envs\\lasso_env\\lib\\site-packages\\geopandas\\geodataframe.py:1351: SettingWithCopyWarning: \n",
      "A value is trying to be set on a copy of a slice from a DataFrame.\n",
      "Try using .loc[row_indexer,col_indexer] = value instead\n",
      "\n",
      "See the caveats in the documentation: https://pandas.pydata.org/pandas-docs/stable/user_guide/indexing.html#returning-a-view-versus-a-copy\n",
      "  super().__setitem__(key, value)\n"
     ]
    },
    {
     "name": "stdout",
     "output_type": "stream",
     "text": [
      "2022-07-08 13:11:48, INFO: Applying network cleanup 1 lanes 1 g\n",
      "2022-07-08 13:11:48, INFO: Applying network cleanup 1 lanes 1 g\n",
      "2022-07-08 13:11:48, INFO: Applying network cleanup 1 lanes 1 g\n",
      "2022-07-08 13:11:48, INFO: Applying network cleanup 1 lanes 1 g\n",
      "2022-07-08 13:11:48, INFO: Applying Project to Roadway Network: network cleanup 1 lanes 1 g\n",
      "2022-07-08 13:11:48, INFO: Applying Project to Roadway Network: network cleanup 1 lanes 1 g\n"
     ]
    },
    {
     "name": "stderr",
     "output_type": "stream",
     "text": [
      "C:\\ProgramData\\Anaconda3\\envs\\lasso_env\\lib\\site-packages\\geopandas\\geodataframe.py:1351: SettingWithCopyWarning: \n",
      "A value is trying to be set on a copy of a slice from a DataFrame.\n",
      "Try using .loc[row_indexer,col_indexer] = value instead\n",
      "\n",
      "See the caveats in the documentation: https://pandas.pydata.org/pandas-docs/stable/user_guide/indexing.html#returning-a-view-versus-a-copy\n",
      "  super().__setitem__(key, value)\n"
     ]
    },
    {
     "name": "stdout",
     "output_type": "stream",
     "text": [
      "2022-07-08 13:12:23, INFO: Applying network cleanup 1 lanes 1 f part 2\n",
      "2022-07-08 13:12:23, INFO: Applying network cleanup 1 lanes 1 f part 2\n",
      "2022-07-08 13:12:23, INFO: Applying network cleanup 1 lanes 1 f part 2\n",
      "2022-07-08 13:12:23, INFO: Applying network cleanup 1 lanes 1 f part 2\n",
      "2022-07-08 13:12:23, INFO: Applying Project to Roadway Network: network cleanup 1 lanes 1 f part 2\n",
      "2022-07-08 13:12:23, INFO: Applying Project to Roadway Network: network cleanup 1 lanes 1 f part 2\n"
     ]
    },
    {
     "name": "stderr",
     "output_type": "stream",
     "text": [
      "C:\\ProgramData\\Anaconda3\\envs\\lasso_env\\lib\\site-packages\\geopandas\\geodataframe.py:1351: SettingWithCopyWarning: \n",
      "A value is trying to be set on a copy of a slice from a DataFrame.\n",
      "Try using .loc[row_indexer,col_indexer] = value instead\n",
      "\n",
      "See the caveats in the documentation: https://pandas.pydata.org/pandas-docs/stable/user_guide/indexing.html#returning-a-view-versus-a-copy\n",
      "  super().__setitem__(key, value)\n"
     ]
    },
    {
     "name": "stdout",
     "output_type": "stream",
     "text": [
      "2022-07-08 13:12:25, INFO: Applying network cleanup 1 lanes 1 f\n",
      "2022-07-08 13:12:25, INFO: Applying network cleanup 1 lanes 1 f\n",
      "2022-07-08 13:12:25, INFO: Applying network cleanup 1 lanes 1 f\n",
      "2022-07-08 13:12:25, INFO: Applying network cleanup 1 lanes 1 f\n",
      "2022-07-08 13:12:25, INFO: Applying Project to Roadway Network: network cleanup 1 lanes 1 f\n",
      "2022-07-08 13:12:25, INFO: Applying Project to Roadway Network: network cleanup 1 lanes 1 f\n"
     ]
    },
    {
     "name": "stderr",
     "output_type": "stream",
     "text": [
      "C:\\ProgramData\\Anaconda3\\envs\\lasso_env\\lib\\site-packages\\geopandas\\geodataframe.py:1351: SettingWithCopyWarning: \n",
      "A value is trying to be set on a copy of a slice from a DataFrame.\n",
      "Try using .loc[row_indexer,col_indexer] = value instead\n",
      "\n",
      "See the caveats in the documentation: https://pandas.pydata.org/pandas-docs/stable/user_guide/indexing.html#returning-a-view-versus-a-copy\n",
      "  super().__setitem__(key, value)\n"
     ]
    },
    {
     "name": "stdout",
     "output_type": "stream",
     "text": [
      "2022-07-08 13:12:48, INFO: Applying network cleanup 1 lanes 1 e part 2\n",
      "2022-07-08 13:12:48, INFO: Applying network cleanup 1 lanes 1 e part 2\n",
      "2022-07-08 13:12:48, INFO: Applying network cleanup 1 lanes 1 e part 2\n",
      "2022-07-08 13:12:48, INFO: Applying network cleanup 1 lanes 1 e part 2\n",
      "2022-07-08 13:12:48, INFO: Applying Project to Roadway Network: network cleanup 1 lanes 1 e part 2\n",
      "2022-07-08 13:12:48, INFO: Applying Project to Roadway Network: network cleanup 1 lanes 1 e part 2\n"
     ]
    },
    {
     "name": "stderr",
     "output_type": "stream",
     "text": [
      "C:\\ProgramData\\Anaconda3\\envs\\lasso_env\\lib\\site-packages\\geopandas\\geodataframe.py:1351: SettingWithCopyWarning: \n",
      "A value is trying to be set on a copy of a slice from a DataFrame.\n",
      "Try using .loc[row_indexer,col_indexer] = value instead\n",
      "\n",
      "See the caveats in the documentation: https://pandas.pydata.org/pandas-docs/stable/user_guide/indexing.html#returning-a-view-versus-a-copy\n",
      "  super().__setitem__(key, value)\n"
     ]
    },
    {
     "name": "stdout",
     "output_type": "stream",
     "text": [
      "2022-07-08 13:12:49, INFO: Applying network cleanup 1 lanes 1 e\n",
      "2022-07-08 13:12:49, INFO: Applying network cleanup 1 lanes 1 e\n",
      "2022-07-08 13:12:49, INFO: Applying network cleanup 1 lanes 1 e\n",
      "2022-07-08 13:12:49, INFO: Applying network cleanup 1 lanes 1 e\n",
      "2022-07-08 13:12:49, INFO: Applying Project to Roadway Network: network cleanup 1 lanes 1 e\n",
      "2022-07-08 13:12:49, INFO: Applying Project to Roadway Network: network cleanup 1 lanes 1 e\n"
     ]
    },
    {
     "name": "stderr",
     "output_type": "stream",
     "text": [
      "C:\\ProgramData\\Anaconda3\\envs\\lasso_env\\lib\\site-packages\\geopandas\\geodataframe.py:1351: SettingWithCopyWarning: \n",
      "A value is trying to be set on a copy of a slice from a DataFrame.\n",
      "Try using .loc[row_indexer,col_indexer] = value instead\n",
      "\n",
      "See the caveats in the documentation: https://pandas.pydata.org/pandas-docs/stable/user_guide/indexing.html#returning-a-view-versus-a-copy\n",
      "  super().__setitem__(key, value)\n"
     ]
    },
    {
     "name": "stdout",
     "output_type": "stream",
     "text": [
      "2022-07-08 13:13:14, INFO: Applying network cleanup 1 lanes 1 d part 2\n",
      "2022-07-08 13:13:14, INFO: Applying network cleanup 1 lanes 1 d part 2\n",
      "2022-07-08 13:13:14, INFO: Applying network cleanup 1 lanes 1 d part 2\n",
      "2022-07-08 13:13:14, INFO: Applying network cleanup 1 lanes 1 d part 2\n",
      "2022-07-08 13:13:14, INFO: Applying Project to Roadway Network: network cleanup 1 lanes 1 d part 2\n",
      "2022-07-08 13:13:14, INFO: Applying Project to Roadway Network: network cleanup 1 lanes 1 d part 2\n"
     ]
    },
    {
     "name": "stderr",
     "output_type": "stream",
     "text": [
      "C:\\ProgramData\\Anaconda3\\envs\\lasso_env\\lib\\site-packages\\geopandas\\geodataframe.py:1351: SettingWithCopyWarning: \n",
      "A value is trying to be set on a copy of a slice from a DataFrame.\n",
      "Try using .loc[row_indexer,col_indexer] = value instead\n",
      "\n",
      "See the caveats in the documentation: https://pandas.pydata.org/pandas-docs/stable/user_guide/indexing.html#returning-a-view-versus-a-copy\n",
      "  super().__setitem__(key, value)\n"
     ]
    },
    {
     "name": "stdout",
     "output_type": "stream",
     "text": [
      "2022-07-08 13:13:18, INFO: Applying network cleanup 1 lanes 1 d\n",
      "2022-07-08 13:13:18, INFO: Applying network cleanup 1 lanes 1 d\n",
      "2022-07-08 13:13:18, INFO: Applying network cleanup 1 lanes 1 d\n",
      "2022-07-08 13:13:18, INFO: Applying network cleanup 1 lanes 1 d\n",
      "2022-07-08 13:13:18, INFO: Applying Project to Roadway Network: network cleanup 1 lanes 1 d\n",
      "2022-07-08 13:13:18, INFO: Applying Project to Roadway Network: network cleanup 1 lanes 1 d\n"
     ]
    },
    {
     "name": "stderr",
     "output_type": "stream",
     "text": [
      "C:\\ProgramData\\Anaconda3\\envs\\lasso_env\\lib\\site-packages\\geopandas\\geodataframe.py:1351: SettingWithCopyWarning: \n",
      "A value is trying to be set on a copy of a slice from a DataFrame.\n",
      "Try using .loc[row_indexer,col_indexer] = value instead\n",
      "\n",
      "See the caveats in the documentation: https://pandas.pydata.org/pandas-docs/stable/user_guide/indexing.html#returning-a-view-versus-a-copy\n",
      "  super().__setitem__(key, value)\n"
     ]
    },
    {
     "name": "stdout",
     "output_type": "stream",
     "text": [
      "2022-07-08 13:13:40, INFO: Applying network cleanup 1 lanes 1 c part 2\n",
      "2022-07-08 13:13:40, INFO: Applying network cleanup 1 lanes 1 c part 2\n",
      "2022-07-08 13:13:40, INFO: Applying network cleanup 1 lanes 1 c part 2\n",
      "2022-07-08 13:13:40, INFO: Applying network cleanup 1 lanes 1 c part 2\n",
      "2022-07-08 13:13:40, INFO: Applying Project to Roadway Network: network cleanup 1 lanes 1 c part 2\n",
      "2022-07-08 13:13:40, INFO: Applying Project to Roadway Network: network cleanup 1 lanes 1 c part 2\n"
     ]
    },
    {
     "name": "stderr",
     "output_type": "stream",
     "text": [
      "C:\\ProgramData\\Anaconda3\\envs\\lasso_env\\lib\\site-packages\\geopandas\\geodataframe.py:1351: SettingWithCopyWarning: \n",
      "A value is trying to be set on a copy of a slice from a DataFrame.\n",
      "Try using .loc[row_indexer,col_indexer] = value instead\n",
      "\n",
      "See the caveats in the documentation: https://pandas.pydata.org/pandas-docs/stable/user_guide/indexing.html#returning-a-view-versus-a-copy\n",
      "  super().__setitem__(key, value)\n"
     ]
    },
    {
     "name": "stdout",
     "output_type": "stream",
     "text": [
      "2022-07-08 13:13:41, INFO: Applying network cleanup 1 lanes 1 c\n",
      "2022-07-08 13:13:41, INFO: Applying network cleanup 1 lanes 1 c\n",
      "2022-07-08 13:13:41, INFO: Applying network cleanup 1 lanes 1 c\n",
      "2022-07-08 13:13:41, INFO: Applying network cleanup 1 lanes 1 c\n",
      "2022-07-08 13:13:41, INFO: Applying Project to Roadway Network: network cleanup 1 lanes 1 c\n",
      "2022-07-08 13:13:41, INFO: Applying Project to Roadway Network: network cleanup 1 lanes 1 c\n"
     ]
    },
    {
     "name": "stderr",
     "output_type": "stream",
     "text": [
      "C:\\ProgramData\\Anaconda3\\envs\\lasso_env\\lib\\site-packages\\geopandas\\geodataframe.py:1351: SettingWithCopyWarning: \n",
      "A value is trying to be set on a copy of a slice from a DataFrame.\n",
      "Try using .loc[row_indexer,col_indexer] = value instead\n",
      "\n",
      "See the caveats in the documentation: https://pandas.pydata.org/pandas-docs/stable/user_guide/indexing.html#returning-a-view-versus-a-copy\n",
      "  super().__setitem__(key, value)\n"
     ]
    },
    {
     "name": "stdout",
     "output_type": "stream",
     "text": [
      "2022-07-08 13:14:04, INFO: Applying network cleanup 1 lanes 1 b part 2\n",
      "2022-07-08 13:14:04, INFO: Applying network cleanup 1 lanes 1 b part 2\n",
      "2022-07-08 13:14:04, INFO: Applying network cleanup 1 lanes 1 b part 2\n",
      "2022-07-08 13:14:04, INFO: Applying network cleanup 1 lanes 1 b part 2\n",
      "2022-07-08 13:14:04, INFO: Applying Project to Roadway Network: network cleanup 1 lanes 1 b part 2\n",
      "2022-07-08 13:14:04, INFO: Applying Project to Roadway Network: network cleanup 1 lanes 1 b part 2\n"
     ]
    },
    {
     "name": "stderr",
     "output_type": "stream",
     "text": [
      "C:\\ProgramData\\Anaconda3\\envs\\lasso_env\\lib\\site-packages\\geopandas\\geodataframe.py:1351: SettingWithCopyWarning: \n",
      "A value is trying to be set on a copy of a slice from a DataFrame.\n",
      "Try using .loc[row_indexer,col_indexer] = value instead\n",
      "\n",
      "See the caveats in the documentation: https://pandas.pydata.org/pandas-docs/stable/user_guide/indexing.html#returning-a-view-versus-a-copy\n",
      "  super().__setitem__(key, value)\n"
     ]
    },
    {
     "name": "stdout",
     "output_type": "stream",
     "text": [
      "2022-07-08 13:14:09, INFO: Applying network cleanup 1 lanes 1 b\n",
      "2022-07-08 13:14:09, INFO: Applying network cleanup 1 lanes 1 b\n",
      "2022-07-08 13:14:09, INFO: Applying network cleanup 1 lanes 1 b\n",
      "2022-07-08 13:14:09, INFO: Applying network cleanup 1 lanes 1 b\n",
      "2022-07-08 13:14:09, INFO: Applying Project to Roadway Network: network cleanup 1 lanes 1 b\n",
      "2022-07-08 13:14:09, INFO: Applying Project to Roadway Network: network cleanup 1 lanes 1 b\n"
     ]
    },
    {
     "name": "stderr",
     "output_type": "stream",
     "text": [
      "C:\\ProgramData\\Anaconda3\\envs\\lasso_env\\lib\\site-packages\\geopandas\\geodataframe.py:1351: SettingWithCopyWarning: \n",
      "A value is trying to be set on a copy of a slice from a DataFrame.\n",
      "Try using .loc[row_indexer,col_indexer] = value instead\n",
      "\n",
      "See the caveats in the documentation: https://pandas.pydata.org/pandas-docs/stable/user_guide/indexing.html#returning-a-view-versus-a-copy\n",
      "  super().__setitem__(key, value)\n"
     ]
    },
    {
     "name": "stdout",
     "output_type": "stream",
     "text": [
      "2022-07-08 13:14:32, INFO: Applying network cleanup 1 lanes 1 a part2\n",
      "2022-07-08 13:14:32, INFO: Applying network cleanup 1 lanes 1 a part2\n",
      "2022-07-08 13:14:32, INFO: Applying network cleanup 1 lanes 1 a part2\n",
      "2022-07-08 13:14:32, INFO: Applying network cleanup 1 lanes 1 a part2\n",
      "2022-07-08 13:14:32, INFO: Applying Project to Roadway Network: network cleanup 1 lanes 1 a part2\n",
      "2022-07-08 13:14:32, INFO: Applying Project to Roadway Network: network cleanup 1 lanes 1 a part2\n"
     ]
    },
    {
     "name": "stderr",
     "output_type": "stream",
     "text": [
      "C:\\ProgramData\\Anaconda3\\envs\\lasso_env\\lib\\site-packages\\geopandas\\geodataframe.py:1351: SettingWithCopyWarning: \n",
      "A value is trying to be set on a copy of a slice from a DataFrame.\n",
      "Try using .loc[row_indexer,col_indexer] = value instead\n",
      "\n",
      "See the caveats in the documentation: https://pandas.pydata.org/pandas-docs/stable/user_guide/indexing.html#returning-a-view-versus-a-copy\n",
      "  super().__setitem__(key, value)\n"
     ]
    },
    {
     "name": "stdout",
     "output_type": "stream",
     "text": [
      "2022-07-08 13:14:38, INFO: Applying network cleanup 1 lanes 1 a\n",
      "2022-07-08 13:14:38, INFO: Applying network cleanup 1 lanes 1 a\n",
      "2022-07-08 13:14:38, INFO: Applying network cleanup 1 lanes 1 a\n",
      "2022-07-08 13:14:38, INFO: Applying network cleanup 1 lanes 1 a\n",
      "2022-07-08 13:14:38, INFO: Applying Project to Roadway Network: network cleanup 1 lanes 1 a\n",
      "2022-07-08 13:14:38, INFO: Applying Project to Roadway Network: network cleanup 1 lanes 1 a\n"
     ]
    },
    {
     "name": "stderr",
     "output_type": "stream",
     "text": [
      "C:\\ProgramData\\Anaconda3\\envs\\lasso_env\\lib\\site-packages\\geopandas\\geodataframe.py:1351: SettingWithCopyWarning: \n",
      "A value is trying to be set on a copy of a slice from a DataFrame.\n",
      "Try using .loc[row_indexer,col_indexer] = value instead\n",
      "\n",
      "See the caveats in the documentation: https://pandas.pydata.org/pandas-docs/stable/user_guide/indexing.html#returning-a-view-versus-a-copy\n",
      "  super().__setitem__(key, value)\n"
     ]
    },
    {
     "name": "stdout",
     "output_type": "stream",
     "text": [
      "2022-07-08 13:14:59, INFO: Applying Year 2015 Add centroid connector at External Stations\n",
      "2022-07-08 13:14:59, INFO: Applying Year 2015 Add centroid connector at External Stations\n",
      "2022-07-08 13:14:59, INFO: Applying Year 2015 Add centroid connector at External Stations\n",
      "2022-07-08 13:14:59, INFO: Applying Year 2015 Add centroid connector at External Stations\n",
      "2022-07-08 13:14:59, INFO: Applying Project to Roadway Network: Year 2015 Add centroid connector at External Stations\n",
      "2022-07-08 13:14:59, INFO: Applying Project to Roadway Network: Year 2015 Add centroid connector at External Stations\n"
     ]
    },
    {
     "name": "stderr",
     "output_type": "stream",
     "text": [
      "C:\\ProgramData\\Anaconda3\\envs\\lasso_env\\lib\\site-packages\\geopandas\\geodataframe.py:1351: SettingWithCopyWarning: \n",
      "A value is trying to be set on a copy of a slice from a DataFrame.\n",
      "Try using .loc[row_indexer,col_indexer] = value instead\n",
      "\n",
      "See the caveats in the documentation: https://pandas.pydata.org/pandas-docs/stable/user_guide/indexing.html#returning-a-view-versus-a-copy\n",
      "  super().__setitem__(key, value)\n",
      "C:\\ProgramData\\Anaconda3\\envs\\lasso_env\\lib\\site-packages\\pandas\\core\\dtypes\\cast.py:118: ShapelyDeprecationWarning: The array interface is deprecated and will no longer work in Shapely 2.0. Convert the '.coords' to a numpy array instead.\n",
      "  arr = construct_1d_object_array_from_listlike(values)\n",
      "C:\\ProgramData\\Anaconda3\\envs\\lasso_env\\lib\\site-packages\\pandas\\core\\dtypes\\cast.py:118: ShapelyDeprecationWarning: The array interface is deprecated and will no longer work in Shapely 2.0. Convert the '.coords' to a numpy array instead.\n",
      "  arr = construct_1d_object_array_from_listlike(values)\n"
     ]
    },
    {
     "name": "stdout",
     "output_type": "stream",
     "text": [
      "2022-07-08 13:20:04, INFO: Applying network cleanup 1 asgngrp 7\n",
      "2022-07-08 13:20:04, INFO: Applying network cleanup 1 asgngrp 7\n",
      "2022-07-08 13:20:04, INFO: Applying network cleanup 1 asgngrp 7\n",
      "2022-07-08 13:20:04, INFO: Applying network cleanup 1 asgngrp 7\n",
      "2022-07-08 13:20:04, INFO: Applying Project to Roadway Network: network cleanup 1 asgngrp 7\n",
      "2022-07-08 13:20:04, INFO: Applying Project to Roadway Network: network cleanup 1 asgngrp 7\n",
      "2022-07-08 13:20:05, INFO: Applying network cleanup 1 asgngrp 6\n",
      "2022-07-08 13:20:05, INFO: Applying network cleanup 1 asgngrp 6\n",
      "2022-07-08 13:20:05, INFO: Applying network cleanup 1 asgngrp 6\n",
      "2022-07-08 13:20:05, INFO: Applying network cleanup 1 asgngrp 6\n",
      "2022-07-08 13:20:05, INFO: Applying Project to Roadway Network: network cleanup 1 asgngrp 6\n",
      "2022-07-08 13:20:05, INFO: Applying Project to Roadway Network: network cleanup 1 asgngrp 6\n"
     ]
    },
    {
     "name": "stderr",
     "output_type": "stream",
     "text": [
      "C:\\ProgramData\\Anaconda3\\envs\\lasso_env\\lib\\site-packages\\geopandas\\geodataframe.py:1351: SettingWithCopyWarning: \n",
      "A value is trying to be set on a copy of a slice from a DataFrame.\n",
      "Try using .loc[row_indexer,col_indexer] = value instead\n",
      "\n",
      "See the caveats in the documentation: https://pandas.pydata.org/pandas-docs/stable/user_guide/indexing.html#returning-a-view-versus-a-copy\n",
      "  super().__setitem__(key, value)\n"
     ]
    },
    {
     "name": "stdout",
     "output_type": "stream",
     "text": [
      "2022-07-08 13:20:05, INFO: Applying network cleanup 1 asgngrp 50\n",
      "2022-07-08 13:20:05, INFO: Applying network cleanup 1 asgngrp 50\n",
      "2022-07-08 13:20:05, INFO: Applying network cleanup 1 asgngrp 50\n",
      "2022-07-08 13:20:05, INFO: Applying network cleanup 1 asgngrp 50\n",
      "2022-07-08 13:20:05, INFO: Applying Project to Roadway Network: network cleanup 1 asgngrp 50\n",
      "2022-07-08 13:20:05, INFO: Applying Project to Roadway Network: network cleanup 1 asgngrp 50\n",
      "2022-07-08 13:20:05, INFO: Applying network cleanup 1 asgngrp 4\n",
      "2022-07-08 13:20:05, INFO: Applying network cleanup 1 asgngrp 4\n",
      "2022-07-08 13:20:05, INFO: Applying network cleanup 1 asgngrp 4\n",
      "2022-07-08 13:20:05, INFO: Applying network cleanup 1 asgngrp 4\n",
      "2022-07-08 13:20:05, INFO: Applying Project to Roadway Network: network cleanup 1 asgngrp 4\n",
      "2022-07-08 13:20:05, INFO: Applying Project to Roadway Network: network cleanup 1 asgngrp 4\n"
     ]
    },
    {
     "name": "stderr",
     "output_type": "stream",
     "text": [
      "C:\\ProgramData\\Anaconda3\\envs\\lasso_env\\lib\\site-packages\\geopandas\\geodataframe.py:1351: SettingWithCopyWarning: \n",
      "A value is trying to be set on a copy of a slice from a DataFrame.\n",
      "Try using .loc[row_indexer,col_indexer] = value instead\n",
      "\n",
      "See the caveats in the documentation: https://pandas.pydata.org/pandas-docs/stable/user_guide/indexing.html#returning-a-view-versus-a-copy\n",
      "  super().__setitem__(key, value)\n",
      "C:\\ProgramData\\Anaconda3\\envs\\lasso_env\\lib\\site-packages\\geopandas\\geodataframe.py:1351: SettingWithCopyWarning: \n",
      "A value is trying to be set on a copy of a slice from a DataFrame.\n",
      "Try using .loc[row_indexer,col_indexer] = value instead\n",
      "\n",
      "See the caveats in the documentation: https://pandas.pydata.org/pandas-docs/stable/user_guide/indexing.html#returning-a-view-versus-a-copy\n",
      "  super().__setitem__(key, value)\n"
     ]
    },
    {
     "name": "stdout",
     "output_type": "stream",
     "text": [
      "2022-07-08 13:20:07, INFO: Applying network cleanup 1 asgngrp 2\n",
      "2022-07-08 13:20:07, INFO: Applying network cleanup 1 asgngrp 2\n",
      "2022-07-08 13:20:07, INFO: Applying network cleanup 1 asgngrp 2\n",
      "2022-07-08 13:20:07, INFO: Applying network cleanup 1 asgngrp 2\n",
      "2022-07-08 13:20:07, INFO: Applying Project to Roadway Network: network cleanup 1 asgngrp 2\n",
      "2022-07-08 13:20:07, INFO: Applying Project to Roadway Network: network cleanup 1 asgngrp 2\n"
     ]
    },
    {
     "name": "stderr",
     "output_type": "stream",
     "text": [
      "C:\\ProgramData\\Anaconda3\\envs\\lasso_env\\lib\\site-packages\\geopandas\\geodataframe.py:1351: SettingWithCopyWarning: \n",
      "A value is trying to be set on a copy of a slice from a DataFrame.\n",
      "Try using .loc[row_indexer,col_indexer] = value instead\n",
      "\n",
      "See the caveats in the documentation: https://pandas.pydata.org/pandas-docs/stable/user_guide/indexing.html#returning-a-view-versus-a-copy\n",
      "  super().__setitem__(key, value)\n"
     ]
    },
    {
     "name": "stdout",
     "output_type": "stream",
     "text": [
      "2022-07-08 13:20:07, INFO: Applying network cleanup 1 asgngrp 15\n",
      "2022-07-08 13:20:07, INFO: Applying network cleanup 1 asgngrp 15\n",
      "2022-07-08 13:20:07, INFO: Applying network cleanup 1 asgngrp 15\n",
      "2022-07-08 13:20:07, INFO: Applying network cleanup 1 asgngrp 15\n",
      "2022-07-08 13:20:07, INFO: Applying Project to Roadway Network: network cleanup 1 asgngrp 15\n",
      "2022-07-08 13:20:07, INFO: Applying Project to Roadway Network: network cleanup 1 asgngrp 15\n"
     ]
    },
    {
     "name": "stderr",
     "output_type": "stream",
     "text": [
      "C:\\ProgramData\\Anaconda3\\envs\\lasso_env\\lib\\site-packages\\geopandas\\geodataframe.py:1351: SettingWithCopyWarning: \n",
      "A value is trying to be set on a copy of a slice from a DataFrame.\n",
      "Try using .loc[row_indexer,col_indexer] = value instead\n",
      "\n",
      "See the caveats in the documentation: https://pandas.pydata.org/pandas-docs/stable/user_guide/indexing.html#returning-a-view-versus-a-copy\n",
      "  super().__setitem__(key, value)\n"
     ]
    },
    {
     "name": "stdout",
     "output_type": "stream",
     "text": [
      "2022-07-08 13:20:09, INFO: Applying network cleanup 1 asgngrp 1\n",
      "2022-07-08 13:20:09, INFO: Applying network cleanup 1 asgngrp 1\n",
      "2022-07-08 13:20:09, INFO: Applying network cleanup 1 asgngrp 1\n",
      "2022-07-08 13:20:09, INFO: Applying network cleanup 1 asgngrp 1\n",
      "2022-07-08 13:20:09, INFO: Applying Project to Roadway Network: network cleanup 1 asgngrp 1\n",
      "2022-07-08 13:20:09, INFO: Applying Project to Roadway Network: network cleanup 1 asgngrp 1\n"
     ]
    },
    {
     "name": "stderr",
     "output_type": "stream",
     "text": [
      "C:\\ProgramData\\Anaconda3\\envs\\lasso_env\\lib\\site-packages\\geopandas\\geodataframe.py:1351: SettingWithCopyWarning: \n",
      "A value is trying to be set on a copy of a slice from a DataFrame.\n",
      "Try using .loc[row_indexer,col_indexer] = value instead\n",
      "\n",
      "See the caveats in the documentation: https://pandas.pydata.org/pandas-docs/stable/user_guide/indexing.html#returning-a-view-versus-a-copy\n",
      "  super().__setitem__(key, value)\n"
     ]
    },
    {
     "name": "stdout",
     "output_type": "stream",
     "text": [
      "2022-07-08 13:20:15, INFO: Applying Add walk and bike attributes\n",
      "2022-07-08 13:20:15, INFO: Applying Add walk and bike attributes\n",
      "2022-07-08 13:20:15, INFO: Applying Project to Roadway Network: Add walk and bike attributes\n",
      "2022-07-08 13:20:15, INFO: Applying Project to Roadway Network: Add walk and bike attributes\n"
     ]
    },
    {
     "name": "stderr",
     "output_type": "stream",
     "text": [
      "C:\\ProgramData\\Anaconda3\\envs\\lasso_env\\lib\\site-packages\\geopandas\\geodataframe.py:1351: SettingWithCopyWarning: \n",
      "A value is trying to be set on a copy of a slice from a DataFrame.\n",
      "Try using .loc[row_indexer,col_indexer] = value instead\n",
      "\n",
      "See the caveats in the documentation: https://pandas.pydata.org/pandas-docs/stable/user_guide/indexing.html#returning-a-view-versus-a-copy\n",
      "  super().__setitem__(key, value)\n"
     ]
    }
   ],
   "source": [
    "version_01_scenario.apply_all_projects()"
   ]
  },
  {
   "cell_type": "code",
   "execution_count": 29,
   "id": "61acfdc7",
   "metadata": {},
   "outputs": [
    {
     "data": {
      "text/plain": [
       "['correct year 2018 assignment group and roadway class',\n",
       " 'correct year 2018 assignment group',\n",
       " 'network cleanup remove link',\n",
       " 'Manual Changes to Assignment Group and Roadway Class',\n",
       " 'network cleanup 1 lanes 7',\n",
       " 'network cleanup 1 lanes 6',\n",
       " 'network cleanup 1 lanes 5',\n",
       " 'network cleanup 1 lanes 4',\n",
       " 'network cleanup 1 lanes 3',\n",
       " 'network cleanup 1 lanes 2e',\n",
       " 'network cleanup 1 lanes 2d part 2',\n",
       " 'network cleanup 1 lanes 2d',\n",
       " 'network cleanup 1 lanes 2c part 2',\n",
       " 'network cleanup 1 lanes 2c',\n",
       " 'network cleanup 1 lanes 2b',\n",
       " 'network cleanup 1 lanes 2a',\n",
       " 'network cleanup 1 lanes 1 h',\n",
       " 'network cleanup 1 lanes 1 g',\n",
       " 'network cleanup 1 lanes 1 f part 2',\n",
       " 'network cleanup 1 lanes 1 f',\n",
       " 'network cleanup 1 lanes 1 e part 2',\n",
       " 'network cleanup 1 lanes 1 e',\n",
       " 'network cleanup 1 lanes 1 d part 2',\n",
       " 'network cleanup 1 lanes 1 d',\n",
       " 'network cleanup 1 lanes 1 c part 2',\n",
       " 'network cleanup 1 lanes 1 c',\n",
       " 'network cleanup 1 lanes 1 b part 2',\n",
       " 'network cleanup 1 lanes 1 b',\n",
       " 'network cleanup 1 lanes 1 a part2',\n",
       " 'network cleanup 1 lanes 1 a',\n",
       " 'Year 2015 Add centroid connector at External Stations',\n",
       " 'network cleanup 1 asgngrp 7',\n",
       " 'network cleanup 1 asgngrp 6',\n",
       " 'network cleanup 1 asgngrp 50',\n",
       " 'network cleanup 1 asgngrp 4',\n",
       " 'network cleanup 1 asgngrp 2',\n",
       " 'network cleanup 1 asgngrp 15',\n",
       " 'network cleanup 1 asgngrp 1',\n",
       " 'Add walk and bike attributes']"
      ]
     },
     "execution_count": 29,
     "metadata": {},
     "output_type": "execute_result"
    }
   ],
   "source": [
    "version_01_scenario.applied_projects"
   ]
  },
  {
   "cell_type": "code",
   "execution_count": 30,
   "id": "4252b3af",
   "metadata": {},
   "outputs": [
    {
     "data": {
      "text/plain": [
       "(1061709, 52)"
      ]
     },
     "execution_count": 30,
     "metadata": {},
     "output_type": "execute_result"
    }
   ],
   "source": [
    "version_01_scenario.road_net.links_df.shape"
   ]
  },
  {
   "cell_type": "code",
   "execution_count": 31,
   "id": "c3628cd7",
   "metadata": {},
   "outputs": [
    {
     "data": {
      "text/plain": [
       "1061709"
      ]
     },
     "execution_count": 31,
     "metadata": {},
     "output_type": "execute_result"
    }
   ],
   "source": [
    "version_01_scenario.road_net.links_df.model_link_id.nunique()"
   ]
  },
  {
   "cell_type": "code",
   "execution_count": 32,
   "id": "c1ccf474",
   "metadata": {},
   "outputs": [
    {
     "data": {
      "text/plain": [
       "(414253, 11)"
      ]
     },
     "execution_count": 32,
     "metadata": {},
     "output_type": "execute_result"
    }
   ],
   "source": [
    "version_01_scenario.road_net.nodes_df.shape"
   ]
  },
  {
   "cell_type": "code",
   "execution_count": 33,
   "id": "9e38a759",
   "metadata": {},
   "outputs": [
    {
     "data": {
      "text/plain": [
       "414253"
      ]
     },
     "execution_count": 33,
     "metadata": {},
     "output_type": "execute_result"
    }
   ],
   "source": [
    "version_01_scenario.road_net.nodes_df.model_node_id.nunique()"
   ]
  },
  {
   "cell_type": "code",
   "execution_count": 34,
   "id": "0c96408c",
   "metadata": {},
   "outputs": [],
   "source": [
    "version_01_scenario.road_net.links_df['access'] = version_01_scenario.road_net.links_df['access'].fillna('')\n",
    "version_01_scenario.road_net.links_df['access'] = version_01_scenario.road_net.links_df['access'].apply(\n",
    "    lambda x: util.shorten_name(x)\n",
    ")"
   ]
  },
  {
   "cell_type": "code",
   "execution_count": 35,
   "id": "26a234bf",
   "metadata": {},
   "outputs": [],
   "source": [
    "version_01_scenario.road_net.links_df['name'] = version_01_scenario.road_net.links_df['name'].fillna('')\n",
    "version_01_scenario.road_net.links_df['name'] = version_01_scenario.road_net.links_df['name'].apply(\n",
    "    lambda x: util.shorten_name(x)\n",
    ")"
   ]
  },
  {
   "cell_type": "markdown",
   "id": "97f8bab1",
   "metadata": {},
   "source": [
    "# Save version 01 standard networks"
   ]
  },
  {
   "cell_type": "code",
   "execution_count": 36,
   "id": "e9016352",
   "metadata": {},
   "outputs": [],
   "source": [
    "version_01_scenario.road_net.write(path = os.path.join(output_dir, 'standard_networks'))"
   ]
  },
  {
   "cell_type": "markdown",
   "id": "bd17ec83",
   "metadata": {},
   "source": [
    "# Save version 01 standard network as pickle file"
   ]
  },
  {
   "cell_type": "code",
   "execution_count": 37,
   "id": "1e6e230b",
   "metadata": {},
   "outputs": [],
   "source": [
    "working_scenario_filename = os.path.join(output_dir, 'version_01_standard_network.pickle')\n",
    "pickle.dump(version_01_scenario, open(working_scenario_filename, 'wb'))"
   ]
  },
  {
   "cell_type": "markdown",
   "id": "7ac17508",
   "metadata": {},
   "source": [
    "# Make Travel Model Network"
   ]
  },
  {
   "cell_type": "code",
   "execution_count": 38,
   "id": "15515aed",
   "metadata": {},
   "outputs": [
    {
     "name": "stdout",
     "output_type": "stream",
     "text": [
      "2022-07-08 13:44:05, INFO: Lasso base directory set as: C:/Lasso\n",
      "2022-07-08 13:44:05, INFO: Lasso base directory set as: C:/Lasso\n"
     ]
    }
   ],
   "source": [
    "m_net = ModelRoadwayNetwork.from_RoadwayNetwork(\n",
    "    roadway_network_object = version_01_scenario.road_net, \n",
    "    parameters = parameters\n",
    ")"
   ]
  },
  {
   "cell_type": "markdown",
   "id": "4e384a19",
   "metadata": {},
   "source": [
    "### Add centroid and centroid connectors"
   ]
  },
  {
   "cell_type": "code",
   "execution_count": 39,
   "id": "49491393",
   "metadata": {},
   "outputs": [
    {
     "name": "stdout",
     "output_type": "stream",
     "text": [
      "2022-07-08 13:44:05, INFO: Adding centroid and centroid connector to standard network\n",
      "2022-07-08 13:44:05, INFO: Adding centroid and centroid connector to standard network\n",
      "2022-07-08 13:44:05, INFO: Lasso base directory set as: C:/Lasso\n",
      "2022-07-08 13:44:05, INFO: Lasso base directory set as: C:/Lasso\n",
      "2022-07-08 13:44:10, INFO: Finished adding centroid and centroid connectors\n",
      "2022-07-08 13:44:10, INFO: Finished adding centroid and centroid connectors\n"
     ]
    }
   ],
   "source": [
    "m_net = metcouncil.add_centroid_and_centroid_connector(\n",
    "    roadway_network = m_net,\n",
    "    parameters = parameters,\n",
    "    centroid_file = os.path.join(input_dir, 'standard_networks', 'centroid_node.pickle'),\n",
    "    centroid_connector_link_file = os.path.join(input_dir, 'standard_networks', 'cc_link.pickle'),\n",
    "    centroid_connector_shape_file = os.path.join(input_dir, 'standard_networks', 'cc_shape.pickle'),\n",
    ")"
   ]
  },
  {
   "cell_type": "markdown",
   "id": "3d7a988d",
   "metadata": {},
   "source": [
    "### Add Rail access and egress links"
   ]
  },
  {
   "cell_type": "code",
   "execution_count": 40,
   "id": "7ecb35bb",
   "metadata": {},
   "outputs": [
    {
     "name": "stdout",
     "output_type": "stream",
     "text": [
      "2022-07-08 13:44:11, INFO: Creating rail access and egress connection links\n",
      "2022-07-08 13:44:11, INFO: Creating rail access and egress connection links\n"
     ]
    },
    {
     "name": "stderr",
     "output_type": "stream",
     "text": [
      "C:\\ProgramData\\Anaconda3\\envs\\lasso_env\\lib\\site-packages\\pandas\\core\\dtypes\\cast.py:118: ShapelyDeprecationWarning: The array interface is deprecated and will no longer work in Shapely 2.0. Convert the '.coords' to a numpy array instead.\n",
      "  arr = construct_1d_object_array_from_listlike(values)\n"
     ]
    }
   ],
   "source": [
    "m_net = metcouncil.add_rail_ae_connections(\n",
    "    m_net,\n",
    "    parameters\n",
    ")"
   ]
  },
  {
   "cell_type": "code",
   "execution_count": 41,
   "id": "626dcc9d",
   "metadata": {},
   "outputs": [
    {
     "name": "stdout",
     "output_type": "stream",
     "text": [
      "2022-07-08 13:44:47, INFO: Renaming roadway attributes to be consistent with what metcouncil's model is expecting\n",
      "2022-07-08 13:44:47, INFO: Renaming roadway attributes to be consistent with what metcouncil's model is expecting\n",
      "2022-07-08 13:44:47, INFO: Didn't detect managed lanes in network.\n",
      "2022-07-08 13:44:47, INFO: Didn't detect managed lanes in network.\n",
      "2022-07-08 13:44:47, INFO: Creating calculated roadway variables.\n",
      "2022-07-08 13:44:47, INFO: Creating calculated roadway variables.\n",
      "2022-07-08 13:44:47, INFO: Area Type Variable 'area_type' already in network. Returning without overwriting.\n",
      "2022-07-08 13:44:47, INFO: Area Type Variable 'area_type' already in network. Returning without overwriting.\n",
      "2022-07-08 13:44:47, INFO: Overwriting existing County Variable 'county' already in network\n",
      "2022-07-08 13:44:47, INFO: Overwriting existing County Variable 'county' already in network\n",
      "2022-07-08 13:44:47, INFO: Adding roadway network variable for county using a spatial join with: C:/Lasso\\metcouncil_data\\county\\cb_2017_us_county_5m.shp\n",
      "2022-07-08 13:44:47, INFO: Adding roadway network variable for county using a spatial join with: C:/Lasso\\metcouncil_data\\county\\cb_2017_us_county_5m.shp\n"
     ]
    },
    {
     "name": "stderr",
     "output_type": "stream",
     "text": [
      "c:\\lasso\\lasso\\roadway.py:288: UserWarning: Geometry is in a geographic CRS. Results from 'centroid' are likely incorrect. Use 'GeoSeries.to_crs()' to re-project geometries to a projected CRS before this operation.\n",
      "\n",
      "  centroids_gdf[\"geometry\"] = centroids_gdf[\"geometry\"].centroid\n",
      "c:\\lasso\\lasso\\roadway.py:1225: FutureWarning: The `op` parameter is deprecated and will be removed in a future release. Please use the `predicate` parameter instead.\n",
      "  self.create_calculated_variables()\n",
      "c:\\lasso\\lasso\\roadway.py:292: UserWarning: CRS mismatch between the CRS of left geometries and the CRS of right geometries.\n",
      "Use `to_crs()` to reproject one of the input geometries to match the CRS of the other.\n",
      "\n",
      "Left CRS: EPSG:4326\n",
      "Right CRS: EPSG:4269\n",
      "\n",
      "  joined_gdf = gpd.sjoin(centroids_gdf, county_gdf, how=\"left\", op=\"intersects\")\n",
      "c:\\lasso\\lasso\\roadway.py:1225: FutureWarning: The `op` parameter is deprecated and will be removed in a future release. Please use the `predicate` parameter instead.\n",
      "  self.create_calculated_variables()\n"
     ]
    },
    {
     "name": "stdout",
     "output_type": "stream",
     "text": [
      "2022-07-08 13:50:11, INFO: Finished Calculating county variable: county\n",
      "2022-07-08 13:50:11, INFO: Finished Calculating county variable: county\n",
      "2022-07-08 13:50:17, INFO: Calculating MPO as roadway network variable: mpo\n",
      "2022-07-08 13:50:17, INFO: Calculating MPO as roadway network variable: mpo\n",
      "2022-07-08 13:50:17, INFO: Finished calculating MPO variable: mpo\n",
      "2022-07-08 13:50:17, INFO: Finished calculating MPO variable: mpo\n",
      "2022-07-08 13:50:17, INFO: Adding Counts\n",
      "2022-07-08 13:50:17, INFO: Adding Counts\n",
      "2022-07-08 13:50:17, INFO: Adding Variable AADT using Shared Streets Reference from C:/Lasso\\metcouncil_data\\count_mn\\mn_count_ShSt_API_match.csv\n",
      "2022-07-08 13:50:17, INFO: Adding Variable AADT using Shared Streets Reference from C:/Lasso\\metcouncil_data\\count_mn\\mn_count_ShSt_API_match.csv\n",
      "2022-07-08 13:50:34, INFO: Added variable: AADT using Shared Streets Reference\n",
      "2022-07-08 13:50:34, INFO: Added variable: AADT using Shared Streets Reference\n",
      "2022-07-08 13:50:34, INFO: Adding Variable AADT using Shared Streets Reference from C:/Lasso\\metcouncil_data\\Wisconsin_Lanes_Counts_Median\\wi_count_ShSt_API_match.csv\n",
      "2022-07-08 13:50:34, INFO: Adding Variable AADT using Shared Streets Reference from C:/Lasso\\metcouncil_data\\Wisconsin_Lanes_Counts_Median\\wi_count_ShSt_API_match.csv\n",
      "2022-07-08 13:50:51, INFO: Added variable: AADT using Shared Streets Reference\n",
      "2022-07-08 13:50:51, INFO: Added variable: AADT using Shared Streets Reference\n",
      "2022-07-08 13:50:52, INFO: Finished adding counts variable: AADT\n",
      "2022-07-08 13:50:52, INFO: Finished adding counts variable: AADT\n",
      "2022-07-08 13:50:52, INFO: Finished creating ML lanes variable: ML_lanes\n",
      "2022-07-08 13:50:52, INFO: Finished creating ML lanes variable: ML_lanes\n",
      "2022-07-08 13:50:52, INFO: Finished creating hov corridor variable: segment_id\n",
      "2022-07-08 13:50:52, INFO: Finished creating hov corridor variable: segment_id\n",
      "2022-07-08 13:50:52, INFO: Finished creating managed variable: managed\n",
      "2022-07-08 13:50:52, INFO: Finished creating managed variable: managed\n",
      "2022-07-08 13:52:20, INFO: Calculating distance for all links\n",
      "2022-07-08 13:52:20, INFO: Calculating distance for all links\n",
      "2022-07-08 13:52:29, INFO: Filling nan for network from network wrangler\n",
      "2022-07-08 13:52:29, INFO: Filling nan for network from network wrangler\n",
      "2022-07-08 13:52:59, INFO: Splitting variables by time period and category\n",
      "2022-07-08 13:52:59, INFO: Splitting variables by time period and category\n",
      "2022-07-08 13:52:59, WARNING: Specified variable to split: trn_priority not in network variables: Index(['shstReferenceId', 'id', 'shstGeometryId', 'fromIntersectionId',\n",
      "       'toIntersectionId', 'u', 'v', 'nodeIds', 'wayId', 'roadClass', 'oneWay',\n",
      "       'roundabout', 'link', 'oneway', 'ref', 'name', 'highway', 'service',\n",
      "       'width', 'maxspeed', 'access', 'junction', 'bridge', 'tunnel',\n",
      "       'landuse', 'area', 'key', 'forward', 'backReferenceId', 'metadata',\n",
      "       'source', 'roadway', 'drive_access', 'walk_access', 'bike_access',\n",
      "       'county', 'length', 'A', 'B', 'model_link_id', 'locationReferences',\n",
      "       'rail_only', 'geometry', 'bus_only', 'centroidconnect', 'lanes',\n",
      "       'assign_group', 'roadway_class', 'area_type', 'ramp_flag', 'bike',\n",
      "       'walk', 'mpo', 'AADT', 'count_AM', 'count_MD', 'count_PM', 'count_NT',\n",
      "       'count_daily', 'count_year', 'segment_id', 'managed', 'distance'],\n",
      "      dtype='object'). Returning 0.\n",
      "2022-07-08 13:52:59, WARNING: Specified variable to split: trn_priority not in network variables: Index(['shstReferenceId', 'id', 'shstGeometryId', 'fromIntersectionId',\n",
      "       'toIntersectionId', 'u', 'v', 'nodeIds', 'wayId', 'roadClass', 'oneWay',\n",
      "       'roundabout', 'link', 'oneway', 'ref', 'name', 'highway', 'service',\n",
      "       'width', 'maxspeed', 'access', 'junction', 'bridge', 'tunnel',\n",
      "       'landuse', 'area', 'key', 'forward', 'backReferenceId', 'metadata',\n",
      "       'source', 'roadway', 'drive_access', 'walk_access', 'bike_access',\n",
      "       'county', 'length', 'A', 'B', 'model_link_id', 'locationReferences',\n",
      "       'rail_only', 'geometry', 'bus_only', 'centroidconnect', 'lanes',\n",
      "       'assign_group', 'roadway_class', 'area_type', 'ramp_flag', 'bike',\n",
      "       'walk', 'mpo', 'AADT', 'count_AM', 'count_MD', 'count_PM', 'count_NT',\n",
      "       'count_daily', 'count_year', 'segment_id', 'managed', 'distance'],\n",
      "      dtype='object'). Returning 0.\n",
      "2022-07-08 13:52:59, WARNING: Specified variable to split: ttime_assert not in network variables: Index(['shstReferenceId', 'id', 'shstGeometryId', 'fromIntersectionId',\n",
      "       'toIntersectionId', 'u', 'v', 'nodeIds', 'wayId', 'roadClass', 'oneWay',\n",
      "       'roundabout', 'link', 'oneway', 'ref', 'name', 'highway', 'service',\n",
      "       'width', 'maxspeed', 'access', 'junction', 'bridge', 'tunnel',\n",
      "       'landuse', 'area', 'key', 'forward', 'backReferenceId', 'metadata',\n",
      "       'source', 'roadway', 'drive_access', 'walk_access', 'bike_access',\n",
      "       'county', 'length', 'A', 'B', 'model_link_id', 'locationReferences',\n",
      "       'rail_only', 'geometry', 'bus_only', 'centroidconnect', 'lanes',\n",
      "       'assign_group', 'roadway_class', 'area_type', 'ramp_flag', 'bike',\n",
      "       'walk', 'mpo', 'AADT', 'count_AM', 'count_MD', 'count_PM', 'count_NT',\n",
      "       'count_daily', 'count_year', 'segment_id', 'managed', 'distance',\n",
      "       'trn_priority_AM', 'trn_priority_MD', 'trn_priority_PM',\n",
      "       'trn_priority_NT'],\n",
      "      dtype='object'). Returning 0.\n",
      "2022-07-08 13:52:59, WARNING: Specified variable to split: ttime_assert not in network variables: Index(['shstReferenceId', 'id', 'shstGeometryId', 'fromIntersectionId',\n",
      "       'toIntersectionId', 'u', 'v', 'nodeIds', 'wayId', 'roadClass', 'oneWay',\n",
      "       'roundabout', 'link', 'oneway', 'ref', 'name', 'highway', 'service',\n",
      "       'width', 'maxspeed', 'access', 'junction', 'bridge', 'tunnel',\n",
      "       'landuse', 'area', 'key', 'forward', 'backReferenceId', 'metadata',\n",
      "       'source', 'roadway', 'drive_access', 'walk_access', 'bike_access',\n",
      "       'county', 'length', 'A', 'B', 'model_link_id', 'locationReferences',\n",
      "       'rail_only', 'geometry', 'bus_only', 'centroidconnect', 'lanes',\n",
      "       'assign_group', 'roadway_class', 'area_type', 'ramp_flag', 'bike',\n",
      "       'walk', 'mpo', 'AADT', 'count_AM', 'count_MD', 'count_PM', 'count_NT',\n",
      "       'count_daily', 'count_year', 'segment_id', 'managed', 'distance',\n",
      "       'trn_priority_AM', 'trn_priority_MD', 'trn_priority_PM',\n",
      "       'trn_priority_NT'],\n",
      "      dtype='object'). Returning 0.\n",
      "2022-07-08 13:53:04, WARNING: Specified variable to split: ML_lanes not in network variables: Index(['shstReferenceId', 'id', 'shstGeometryId', 'fromIntersectionId',\n",
      "       'toIntersectionId', 'u', 'v', 'nodeIds', 'wayId', 'roadClass', 'oneWay',\n",
      "       'roundabout', 'link', 'oneway', 'ref', 'name', 'highway', 'service',\n",
      "       'width', 'maxspeed', 'access', 'junction', 'bridge', 'tunnel',\n",
      "       'landuse', 'area', 'key', 'forward', 'backReferenceId', 'metadata',\n",
      "       'source', 'roadway', 'drive_access', 'walk_access', 'bike_access',\n",
      "       'county', 'length', 'A', 'B', 'model_link_id', 'locationReferences',\n",
      "       'rail_only', 'geometry', 'bus_only', 'centroidconnect', 'lanes',\n",
      "       'assign_group', 'roadway_class', 'area_type', 'ramp_flag', 'bike',\n",
      "       'walk', 'mpo', 'AADT', 'count_AM', 'count_MD', 'count_PM', 'count_NT',\n",
      "       'count_daily', 'count_year', 'segment_id', 'managed', 'distance',\n",
      "       'trn_priority_AM', 'trn_priority_MD', 'trn_priority_PM',\n",
      "       'trn_priority_NT', 'ttime_assert_AM', 'ttime_assert_MD',\n",
      "       'ttime_assert_PM', 'ttime_assert_NT', 'lanes_AM', 'lanes_MD',\n",
      "       'lanes_PM', 'lanes_NT'],\n",
      "      dtype='object'). Returning 0.\n",
      "2022-07-08 13:53:04, WARNING: Specified variable to split: ML_lanes not in network variables: Index(['shstReferenceId', 'id', 'shstGeometryId', 'fromIntersectionId',\n",
      "       'toIntersectionId', 'u', 'v', 'nodeIds', 'wayId', 'roadClass', 'oneWay',\n",
      "       'roundabout', 'link', 'oneway', 'ref', 'name', 'highway', 'service',\n",
      "       'width', 'maxspeed', 'access', 'junction', 'bridge', 'tunnel',\n",
      "       'landuse', 'area', 'key', 'forward', 'backReferenceId', 'metadata',\n",
      "       'source', 'roadway', 'drive_access', 'walk_access', 'bike_access',\n",
      "       'county', 'length', 'A', 'B', 'model_link_id', 'locationReferences',\n",
      "       'rail_only', 'geometry', 'bus_only', 'centroidconnect', 'lanes',\n",
      "       'assign_group', 'roadway_class', 'area_type', 'ramp_flag', 'bike',\n",
      "       'walk', 'mpo', 'AADT', 'count_AM', 'count_MD', 'count_PM', 'count_NT',\n",
      "       'count_daily', 'count_year', 'segment_id', 'managed', 'distance',\n",
      "       'trn_priority_AM', 'trn_priority_MD', 'trn_priority_PM',\n",
      "       'trn_priority_NT', 'ttime_assert_AM', 'ttime_assert_MD',\n",
      "       'ttime_assert_PM', 'ttime_assert_NT', 'lanes_AM', 'lanes_MD',\n",
      "       'lanes_PM', 'lanes_NT'],\n",
      "      dtype='object'). Returning 0.\n"
     ]
    },
    {
     "name": "stdout",
     "output_type": "stream",
     "text": [
      "2022-07-08 13:53:04, WARNING: Specified variable to split: price not in network variables: Index(['shstReferenceId', 'id', 'shstGeometryId', 'fromIntersectionId',\n",
      "       'toIntersectionId', 'u', 'v', 'nodeIds', 'wayId', 'roadClass', 'oneWay',\n",
      "       'roundabout', 'link', 'oneway', 'ref', 'name', 'highway', 'service',\n",
      "       'width', 'maxspeed', 'access', 'junction', 'bridge', 'tunnel',\n",
      "       'landuse', 'area', 'key', 'forward', 'backReferenceId', 'metadata',\n",
      "       'source', 'roadway', 'drive_access', 'walk_access', 'bike_access',\n",
      "       'county', 'length', 'A', 'B', 'model_link_id', 'locationReferences',\n",
      "       'rail_only', 'geometry', 'bus_only', 'centroidconnect', 'lanes',\n",
      "       'assign_group', 'roadway_class', 'area_type', 'ramp_flag', 'bike',\n",
      "       'walk', 'mpo', 'AADT', 'count_AM', 'count_MD', 'count_PM', 'count_NT',\n",
      "       'count_daily', 'count_year', 'segment_id', 'managed', 'distance',\n",
      "       'trn_priority_AM', 'trn_priority_MD', 'trn_priority_PM',\n",
      "       'trn_priority_NT', 'ttime_assert_AM', 'ttime_assert_MD',\n",
      "       'ttime_assert_PM', 'ttime_assert_NT', 'lanes_AM', 'lanes_MD',\n",
      "       'lanes_PM', 'lanes_NT', 'ML_lanes_AM', 'ML_lanes_MD', 'ML_lanes_PM',\n",
      "       'ML_lanes_NT'],\n",
      "      dtype='object'). Returning 0.\n",
      "2022-07-08 13:53:04, WARNING: Specified variable to split: price not in network variables: Index(['shstReferenceId', 'id', 'shstGeometryId', 'fromIntersectionId',\n",
      "       'toIntersectionId', 'u', 'v', 'nodeIds', 'wayId', 'roadClass', 'oneWay',\n",
      "       'roundabout', 'link', 'oneway', 'ref', 'name', 'highway', 'service',\n",
      "       'width', 'maxspeed', 'access', 'junction', 'bridge', 'tunnel',\n",
      "       'landuse', 'area', 'key', 'forward', 'backReferenceId', 'metadata',\n",
      "       'source', 'roadway', 'drive_access', 'walk_access', 'bike_access',\n",
      "       'county', 'length', 'A', 'B', 'model_link_id', 'locationReferences',\n",
      "       'rail_only', 'geometry', 'bus_only', 'centroidconnect', 'lanes',\n",
      "       'assign_group', 'roadway_class', 'area_type', 'ramp_flag', 'bike',\n",
      "       'walk', 'mpo', 'AADT', 'count_AM', 'count_MD', 'count_PM', 'count_NT',\n",
      "       'count_daily', 'count_year', 'segment_id', 'managed', 'distance',\n",
      "       'trn_priority_AM', 'trn_priority_MD', 'trn_priority_PM',\n",
      "       'trn_priority_NT', 'ttime_assert_AM', 'ttime_assert_MD',\n",
      "       'ttime_assert_PM', 'ttime_assert_NT', 'lanes_AM', 'lanes_MD',\n",
      "       'lanes_PM', 'lanes_NT', 'ML_lanes_AM', 'ML_lanes_MD', 'ML_lanes_PM',\n",
      "       'ML_lanes_NT'],\n",
      "      dtype='object'). Returning 0.\n",
      "2022-07-08 13:53:08, INFO: Converting variable type to MetCouncil standard\n",
      "2022-07-08 13:53:08, INFO: Converting variable type to MetCouncil standard\n",
      "2022-07-08 13:53:34, INFO: Setting Coordinate Reference System to EPSG 26915\n",
      "2022-07-08 13:53:34, INFO: Setting Coordinate Reference System to EPSG 26915\n"
     ]
    }
   ],
   "source": [
    "m_net.roadway_standard_to_met_council_network()"
   ]
  },
  {
   "cell_type": "code",
   "execution_count": 42,
   "id": "a0392bdb",
   "metadata": {},
   "outputs": [
    {
     "name": "stdout",
     "output_type": "stream",
     "text": [
      "0\n",
      "414223\n",
      "417283\n",
      "0\n",
      "1061648\n",
      "1109533\n",
      "0\n",
      "0\n"
     ]
    }
   ],
   "source": [
    "# check if missing IDs\n",
    "# centroids does not have osm and shst IDs\n",
    "# centroid connectors does not have osm and shst IDs\n",
    "\n",
    "# if node missing shst id\n",
    "print(m_net.nodes_df.shst_node_id.isnull().sum())\n",
    "print(m_net.nodes_df.shst_node_id.nunique())\n",
    "\n",
    "# if node missing model node id\n",
    "print(m_net.nodes_df.model_node_id.nunique())\n",
    "\n",
    "# if link missing \n",
    "print(m_net.links_df.shstReferenceId.isnull().sum())\n",
    "print(m_net.links_df.shstReferenceId.nunique())\n",
    "print(m_net.links_df.model_link_id.nunique())\n",
    "\n",
    "# if link missing node id\n",
    "print(m_net.links_df.fromIntersectionId.isnull().sum())\n",
    "print(m_net.links_df.toIntersectionId.isnull().sum())"
   ]
  },
  {
   "cell_type": "code",
   "execution_count": 43,
   "id": "4c858ab2",
   "metadata": {},
   "outputs": [
    {
     "data": {
      "text/plain": [
       "(417283, 11)"
      ]
     },
     "execution_count": 43,
     "metadata": {},
     "output_type": "execute_result"
    }
   ],
   "source": [
    "m_net.nodes_df.shape"
   ]
  },
  {
   "cell_type": "code",
   "execution_count": 44,
   "id": "8415a6d5",
   "metadata": {},
   "outputs": [
    {
     "data": {
      "text/plain": [
       "Index(['osm_node_id', 'shst_node_id', 'drive_access', 'walk_access',\n",
       "       'bike_access', 'N', 'rail_only', 'geometry', 'X', 'Y', 'county'],\n",
       "      dtype='object')"
      ]
     },
     "execution_count": 44,
     "metadata": {},
     "output_type": "execute_result"
    }
   ],
   "source": [
    "m_net.nodes_metcouncil_df.columns"
   ]
  },
  {
   "cell_type": "code",
   "execution_count": 45,
   "id": "9abee6f0",
   "metadata": {},
   "outputs": [
    {
     "data": {
      "text/plain": [
       "Index(['shstReferenceId', 'id', 'shstGeometryId', 'fromIntersectionId',\n",
       "       'toIntersectionId', 'u', 'v', 'nodeIds', 'wayId', 'roadClass', 'oneWay',\n",
       "       'roundabout', 'link', 'oneway', 'ref', 'name', 'highway', 'service',\n",
       "       'width', 'maxspeed', 'access', 'junction', 'bridge', 'tunnel',\n",
       "       'landuse', 'area', 'key', 'forward', 'backReferenceId', 'metadata',\n",
       "       'source', 'roadway', 'drive_access', 'walk_access', 'bike_access',\n",
       "       'county', 'length', 'A', 'B', 'model_link_id', 'locationReferences',\n",
       "       'rail_only', 'bus_only', 'centroidconnect', 'lanes', 'assign_group',\n",
       "       'roadway_class', 'area_type', 'ramp_flag', 'bike', 'walk', 'mpo',\n",
       "       'AADT', 'count_AM', 'count_MD', 'count_PM', 'count_NT', 'count_daily',\n",
       "       'count_year', 'segment_id', 'managed', 'distance', 'trn_priority_AM',\n",
       "       'trn_priority_MD', 'trn_priority_PM', 'trn_priority_NT',\n",
       "       'ttime_assert_AM', 'ttime_assert_MD', 'ttime_assert_PM',\n",
       "       'ttime_assert_NT', 'lanes_AM', 'lanes_MD', 'lanes_PM', 'lanes_NT',\n",
       "       'ML_lanes_AM', 'ML_lanes_MD', 'ML_lanes_PM', 'ML_lanes_NT',\n",
       "       'price_AM_sov', 'price_AM_hov2', 'price_AM_hov3', 'price_AM_truck',\n",
       "       'price_MD_sov', 'price_MD_hov2', 'price_MD_hov3', 'price_MD_truck',\n",
       "       'price_PM_sov', 'price_PM_hov2', 'price_PM_hov3', 'price_PM_truck',\n",
       "       'price_NT_sov', 'price_NT_hov2', 'price_NT_hov3', 'price_NT_truck',\n",
       "       'access_AM', 'access_MD', 'access_PM', 'access_NT', 'geometry'],\n",
       "      dtype='object')"
      ]
     },
     "execution_count": 45,
     "metadata": {},
     "output_type": "execute_result"
    }
   ],
   "source": [
    "m_net.links_metcouncil_df.columns"
   ]
  },
  {
   "cell_type": "markdown",
   "id": "d154eeb8",
   "metadata": {},
   "source": [
    "# Write model network as shapefile"
   ]
  },
  {
   "cell_type": "code",
   "execution_count": 46,
   "id": "e73c1189",
   "metadata": {},
   "outputs": [
    {
     "name": "stdout",
     "output_type": "stream",
     "text": [
      "2022-07-08 13:55:59, INFO: Writing Network as Shapefile\n",
      "2022-07-08 13:55:59, INFO: Writing Network as Shapefile\n",
      "2022-07-08 13:55:59, INFO: Renaming DBF Node Variables\n",
      "2022-07-08 13:55:59, INFO: Renaming DBF Node Variables\n",
      "2022-07-08 13:55:59, INFO: Renaming variables so that they are DBF-safe\n",
      "2022-07-08 13:55:59, INFO: Renaming variables so that they are DBF-safe\n",
      "2022-07-08 13:56:14, INFO: Renaming DBF Link Variables\n",
      "2022-07-08 13:56:14, INFO: Renaming DBF Link Variables\n",
      "2022-07-08 13:56:14, INFO: Renaming variables so that they are DBF-safe\n",
      "2022-07-08 13:56:14, INFO: Renaming variables so that they are DBF-safe\n",
      "2022-07-08 13:56:15, INFO: Writing Node Shapes:\n",
      " - C:/MetC_LassoData/data/processed/version_01\\model_networks\\shapefiles\\nodesRW2.shp\n",
      "2022-07-08 13:56:15, INFO: Writing Node Shapes:\n",
      " - C:/MetC_LassoData/data/processed/version_01\\model_networks\\shapefiles\\nodesRW2.shp\n",
      "2022-07-08 13:57:38, INFO: Writing Link Shapes:\n",
      " - C:/MetC_LassoData/data/processed/version_01\\model_networks\\shapefiles\\linksRW2.shp\n",
      "2022-07-08 13:57:38, INFO: Writing Link Shapes:\n",
      " - C:/MetC_LassoData/data/processed/version_01\\model_networks\\shapefiles\\linksRW2.shp\n"
     ]
    }
   ],
   "source": [
    "out_cols = ['A', 'B','model_link_id', 'id', 'assign_group', 'drive_access', 'roadway_class',\n",
    "            'lanes_AM', 'lanes_MD', 'lanes_PM', 'lanes_NT', 'segment_id', 'HOV', 'bike', 'walk','roadway',\n",
    "            'price_sov_AM', 'geometry', 'managed']\n",
    "\n",
    "m_net.write_roadway_as_shp(\n",
    "    output_link_shp = os.path.join(output_dir, 'model_networks', 'shapefiles', 'linksRW2.shp'),\n",
    "    output_node_shp = os.path.join(output_dir, 'model_networks', 'shapefiles', 'nodesRW2.shp'),\n",
    "    link_output_variables = out_cols,\n",
    "    data_to_csv = False,\n",
    "    data_to_dbf = True,\n",
    "    export_drive_only = False, # if user only wants drive links/nodes in the shapefile\n",
    ")"
   ]
  },
  {
   "cell_type": "markdown",
   "id": "be872616",
   "metadata": {},
   "source": [
    "# Write model network for Cube"
   ]
  },
  {
   "cell_type": "code",
   "execution_count": 47,
   "id": "d16ebc88",
   "metadata": {},
   "outputs": [
    {
     "name": "stdout",
     "output_type": "stream",
     "text": [
      "2022-06-30 11:51:49, INFO: Starting fixed width conversion\n",
      "2022-06-30 11:51:49, INFO: Starting fixed width conversion\n",
      "2022-06-30 12:13:29, INFO: Writing out link database\n",
      "2022-06-30 12:13:29, INFO: Writing out link database\n",
      "2022-06-30 12:13:56, INFO: Writing out link header and width ----\n",
      "2022-06-30 12:13:56, INFO: Writing out link header and width ----\n",
      "2022-06-30 12:13:56, INFO: Starting fixed width conversion\n",
      "2022-06-30 12:13:56, INFO: Starting fixed width conversion\n",
      "2022-06-30 12:15:12, INFO: Writing out node database\n",
      "2022-06-30 12:15:12, INFO: Writing out node database\n",
      "2022-06-30 12:15:14, INFO: Writing out node header and width\n",
      "2022-06-30 12:15:14, INFO: Writing out node header and width\n"
     ]
    }
   ],
   "source": [
    "m_net.write_roadway_as_fixedwidth(\n",
    "    output_link_txt = os.path.join(output_dir, 'model_networks', 'links.txt'),\n",
    "    output_node_txt = os.path.join(output_dir, 'model_networks', 'nodes.txt'),\n",
    "    output_link_header_width_txt = os.path.join(output_dir, 'model_networks', 'links_header_width.txt'),\n",
    "    output_node_header_width_txt = os.path.join(output_dir, 'model_networks', 'nodes_header_width.txt'),\n",
    "    output_cube_network_script = os.path.join(output_dir, 'model_networks', 'make_complete_network_from_fixed_width_file.s'),\n",
    ")"
   ]
  },
  {
   "cell_type": "code",
   "execution_count": 48,
   "id": "f0ac3b24",
   "metadata": {},
   "outputs": [
    {
     "ename": "AttributeError",
     "evalue": "module 'osmnx' has no attribute 'gdfs_to_graph'",
     "output_type": "error",
     "traceback": [
      "\u001b[1;31m---------------------------------------------------------------------------\u001b[0m",
      "\u001b[1;31mTypeError\u001b[0m                                 Traceback (most recent call last)",
      "\u001b[1;32mc:\\netw\\network_wrangler\\roadwaynetwork.py\u001b[0m in \u001b[0;36mox_graph\u001b[1;34m(nodes_df, links_df)\u001b[0m\n\u001b[0;32m    796\u001b[0m         \u001b[1;32mtry\u001b[0m\u001b[1;33m:\u001b[0m\u001b[1;33m\u001b[0m\u001b[1;33m\u001b[0m\u001b[0m\n\u001b[1;32m--> 797\u001b[1;33m             \u001b[0mG\u001b[0m \u001b[1;33m=\u001b[0m \u001b[0mox\u001b[0m\u001b[1;33m.\u001b[0m\u001b[0mgraph_from_gdfs\u001b[0m\u001b[1;33m(\u001b[0m\u001b[0mgraph_nodes\u001b[0m\u001b[1;33m,\u001b[0m \u001b[0mgraph_links\u001b[0m\u001b[1;33m)\u001b[0m\u001b[1;33m\u001b[0m\u001b[1;33m\u001b[0m\u001b[0m\n\u001b[0m\u001b[0;32m    798\u001b[0m         \u001b[1;32mexcept\u001b[0m\u001b[1;33m:\u001b[0m\u001b[1;33m\u001b[0m\u001b[1;33m\u001b[0m\u001b[0m\n",
      "\u001b[1;32mC:\\ProgramData\\Anaconda3\\envs\\lasso_env\\lib\\site-packages\\osmnx\\utils_graph.py\u001b[0m in \u001b[0;36mgraph_from_gdfs\u001b[1;34m(gdf_nodes, gdf_edges, graph_attrs)\u001b[0m\n\u001b[0;32m    168\u001b[0m     \u001b[0mattr_names\u001b[0m \u001b[1;33m=\u001b[0m \u001b[0mgdf_edges\u001b[0m\u001b[1;33m.\u001b[0m\u001b[0mcolumns\u001b[0m\u001b[1;33m.\u001b[0m\u001b[0mto_list\u001b[0m\u001b[1;33m(\u001b[0m\u001b[1;33m)\u001b[0m\u001b[1;33m\u001b[0m\u001b[1;33m\u001b[0m\u001b[0m\n\u001b[1;32m--> 169\u001b[1;33m     \u001b[1;32mfor\u001b[0m \u001b[1;33m(\u001b[0m\u001b[0mu\u001b[0m\u001b[1;33m,\u001b[0m \u001b[0mv\u001b[0m\u001b[1;33m,\u001b[0m \u001b[0mk\u001b[0m\u001b[1;33m)\u001b[0m\u001b[1;33m,\u001b[0m \u001b[0mattr_vals\u001b[0m \u001b[1;32min\u001b[0m \u001b[0mzip\u001b[0m\u001b[1;33m(\u001b[0m\u001b[0mgdf_edges\u001b[0m\u001b[1;33m.\u001b[0m\u001b[0mindex\u001b[0m\u001b[1;33m,\u001b[0m \u001b[0mgdf_edges\u001b[0m\u001b[1;33m.\u001b[0m\u001b[0mvalues\u001b[0m\u001b[1;33m)\u001b[0m\u001b[1;33m:\u001b[0m\u001b[1;33m\u001b[0m\u001b[1;33m\u001b[0m\u001b[0m\n\u001b[0m\u001b[0;32m    170\u001b[0m         \u001b[0mdata_all\u001b[0m \u001b[1;33m=\u001b[0m \u001b[0mzip\u001b[0m\u001b[1;33m(\u001b[0m\u001b[0mattr_names\u001b[0m\u001b[1;33m,\u001b[0m \u001b[0mattr_vals\u001b[0m\u001b[1;33m)\u001b[0m\u001b[1;33m\u001b[0m\u001b[1;33m\u001b[0m\u001b[0m\n",
      "\u001b[1;31mTypeError\u001b[0m: cannot unpack non-iterable int object",
      "\nDuring handling of the above exception, another exception occurred:\n",
      "\u001b[1;31mAttributeError\u001b[0m                            Traceback (most recent call last)",
      "\u001b[1;32m~\\AppData\\Local\\Temp\\ipykernel_28548\\3044587105.py\u001b[0m in \u001b[0;36m<module>\u001b[1;34m\u001b[0m\n\u001b[1;32m----> 1\u001b[1;33m \u001b[0mversion_01_scenario\u001b[0m\u001b[1;33m.\u001b[0m\u001b[0mtransit_net\u001b[0m\u001b[1;33m.\u001b[0m\u001b[0mset_roadnet\u001b[0m\u001b[1;33m(\u001b[0m\u001b[0mversion_01_scenario\u001b[0m\u001b[1;33m.\u001b[0m\u001b[0mroad_net\u001b[0m\u001b[1;33m,\u001b[0m \u001b[0mvalidate_consistency\u001b[0m\u001b[1;33m=\u001b[0m\u001b[1;32mFalse\u001b[0m\u001b[1;33m)\u001b[0m\u001b[1;33m\u001b[0m\u001b[1;33m\u001b[0m\u001b[0m\n\u001b[0m",
      "\u001b[1;32mc:\\netw\\network_wrangler\\transitnetwork.py\u001b[0m in \u001b[0;36mset_roadnet\u001b[1;34m(self, road_net, graph_shapes, graph_stops, validate_consistency)\u001b[0m\n\u001b[0;32m    482\u001b[0m         \u001b[0mself\u001b[0m\u001b[1;33m.\u001b[0m\u001b[0mroad_net\u001b[0m\u001b[1;33m:\u001b[0m \u001b[0mRoadwayNetwork\u001b[0m \u001b[1;33m=\u001b[0m \u001b[0mroad_net\u001b[0m\u001b[1;33m\u001b[0m\u001b[1;33m\u001b[0m\u001b[0m\n\u001b[0;32m    483\u001b[0m         self.graph: nx.MultiDiGraph = RoadwayNetwork.ox_graph(\n\u001b[1;32m--> 484\u001b[1;33m             \u001b[0mroad_net\u001b[0m\u001b[1;33m.\u001b[0m\u001b[0mnodes_df\u001b[0m\u001b[1;33m,\u001b[0m \u001b[0mroad_net\u001b[0m\u001b[1;33m.\u001b[0m\u001b[0mlinks_df\u001b[0m\u001b[1;33m\u001b[0m\u001b[1;33m\u001b[0m\u001b[0m\n\u001b[0m\u001b[0;32m    485\u001b[0m         )\n\u001b[0;32m    486\u001b[0m         \u001b[1;32mif\u001b[0m \u001b[0mgraph_shapes\u001b[0m\u001b[1;33m:\u001b[0m\u001b[1;33m\u001b[0m\u001b[1;33m\u001b[0m\u001b[0m\n",
      "\u001b[1;32mc:\\netw\\network_wrangler\\roadwaynetwork.py\u001b[0m in \u001b[0;36mox_graph\u001b[1;34m(nodes_df, links_df)\u001b[0m\n\u001b[0;32m    800\u001b[0m                 \u001b[1;34m\"Please upgrade your OSMNX package. For now, using depricated osmnx.gdfs_to_graph because osmnx.graph_from_gdfs not found\"\u001b[0m\u001b[1;33m\u001b[0m\u001b[1;33m\u001b[0m\u001b[0m\n\u001b[0;32m    801\u001b[0m             )\n\u001b[1;32m--> 802\u001b[1;33m             \u001b[0mG\u001b[0m \u001b[1;33m=\u001b[0m \u001b[0mox\u001b[0m\u001b[1;33m.\u001b[0m\u001b[0mgdfs_to_graph\u001b[0m\u001b[1;33m(\u001b[0m\u001b[0mgraph_nodes\u001b[0m\u001b[1;33m,\u001b[0m \u001b[0mgraph_links\u001b[0m\u001b[1;33m)\u001b[0m\u001b[1;33m\u001b[0m\u001b[1;33m\u001b[0m\u001b[0m\n\u001b[0m\u001b[0;32m    803\u001b[0m \u001b[1;33m\u001b[0m\u001b[0m\n\u001b[0;32m    804\u001b[0m         \u001b[0mWranglerLogger\u001b[0m\u001b[1;33m.\u001b[0m\u001b[0mdebug\u001b[0m\u001b[1;33m(\u001b[0m\u001b[1;34m\"finished ox.gdfs_to_graph()\"\u001b[0m\u001b[1;33m)\u001b[0m\u001b[1;33m\u001b[0m\u001b[1;33m\u001b[0m\u001b[0m\n",
      "\u001b[1;31mAttributeError\u001b[0m: module 'osmnx' has no attribute 'gdfs_to_graph'"
     ]
    }
   ],
   "source": [
    "version_01_scenario.transit_net.set_roadnet(version_01_scenario.road_net, validate_consistency=False)"
   ]
  },
  {
   "cell_type": "code",
   "execution_count": null,
   "id": "92c7cac0",
   "metadata": {},
   "outputs": [],
   "source": [
    "standard_transit_net = StandardTransit.fromTransitNetwork(version_01_scenario.transit_net, parameters=parameters)\n",
    "standard_transit_net.write_as_cube_lin(outpath = os.path.join(output_dir, 'model_networks', \"transit.lin\"))"
   ]
  },
  {
   "cell_type": "code",
   "execution_count": 49,
   "id": "b57a5526",
   "metadata": {},
   "outputs": [
    {
     "ename": "ModuleNotFoundError",
     "evalue": "No module named 'packagename'",
     "output_type": "error",
     "traceback": [
      "\u001b[1;31m---------------------------------------------------------------------------\u001b[0m",
      "\u001b[1;31mModuleNotFoundError\u001b[0m                       Traceback (most recent call last)",
      "\u001b[1;32m~\\AppData\\Local\\Temp\\ipykernel_28548\\3663461470.py\u001b[0m in \u001b[0;36m<module>\u001b[1;34m\u001b[0m\n\u001b[1;32m----> 1\u001b[1;33m \u001b[1;32mimport\u001b[0m \u001b[0mpackagename\u001b[0m\u001b[1;33m\u001b[0m\u001b[1;33m\u001b[0m\u001b[0m\n\u001b[0m",
      "\u001b[1;31mModuleNotFoundError\u001b[0m: No module named 'packagename'"
     ]
    }
   ],
   "source": []
  },
  {
   "cell_type": "code",
   "execution_count": 61,
   "id": "242ec1c8",
   "metadata": {},
   "outputs": [
    {
     "data": {
      "text/plain": [
       "417322"
      ]
     },
     "execution_count": 61,
     "metadata": {},
     "output_type": "execute_result"
    }
   ],
   "source": [
    "version_00_scenario.road_net.nodes_df.model_node_id.max()"
   ]
  },
  {
   "cell_type": "code",
   "execution_count": 67,
   "id": "3321406a",
   "metadata": {},
   "outputs": [
    {
     "data": {
      "text/plain": [
       "(414222,)"
      ]
     },
     "execution_count": 67,
     "metadata": {},
     "output_type": "execute_result"
    }
   ],
   "source": [
    "version_00_scenario.road_net.nodes_df.model_node_id.shape"
   ]
  },
  {
   "cell_type": "code",
   "execution_count": 68,
   "id": "9de7e3cd",
   "metadata": {},
   "outputs": [
    {
     "data": {
      "text/plain": [
       "417322"
      ]
     },
     "execution_count": 68,
     "metadata": {},
     "output_type": "execute_result"
    }
   ],
   "source": [
    "version_01_scenario.road_net.nodes_df.model_node_id.max()"
   ]
  },
  {
   "cell_type": "code",
   "execution_count": 69,
   "id": "341c876e",
   "metadata": {},
   "outputs": [
    {
     "data": {
      "text/plain": [
       "(414253,)"
      ]
     },
     "execution_count": 69,
     "metadata": {},
     "output_type": "execute_result"
    }
   ],
   "source": [
    "version_01_scenario.road_net.nodes_df.model_node_id.shape"
   ]
  },
  {
   "cell_type": "code",
   "execution_count": 70,
   "id": "498effe5",
   "metadata": {},
   "outputs": [
    {
     "data": {
      "text/plain": [
       "417322"
      ]
     },
     "execution_count": 70,
     "metadata": {},
     "output_type": "execute_result"
    }
   ],
   "source": [
    "m_net.nodes_df.model_node_id.max()"
   ]
  },
  {
   "cell_type": "code",
   "execution_count": 71,
   "id": "16b20958",
   "metadata": {},
   "outputs": [
    {
     "data": {
      "text/plain": [
       "(417283,)"
      ]
     },
     "execution_count": 71,
     "metadata": {},
     "output_type": "execute_result"
    }
   ],
   "source": [
    "m_net.nodes_df.model_node_id.shape"
   ]
  }
 ],
 "metadata": {
  "kernelspec": {
   "display_name": "Python 3 (ipykernel)",
   "language": "python",
   "name": "python3"
  },
  "language_info": {
   "codemirror_mode": {
    "name": "ipython",
    "version": 3
   },
   "file_extension": ".py",
   "mimetype": "text/x-python",
   "name": "python",
   "nbconvert_exporter": "python",
   "pygments_lexer": "ipython3",
   "version": "3.7.12"
  }
 },
 "nbformat": 4,
 "nbformat_minor": 5
}
