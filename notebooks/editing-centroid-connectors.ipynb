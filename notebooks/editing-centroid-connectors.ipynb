{
 "cells": [
  {
   "cell_type": "markdown",
   "metadata": {},
   "source": [
    "This notebook is intended for editing the connector records without creating project cards. The reasons of not doing this in project cards are: 1) Applying them in project cards requires having centroids in the network before the project cards are applied. metcouncil.add_centroid_and_centroid_connector() step needs to be called before the model network is created, and the centroids will be added into the standard network. We will need to revise the notebook, and if necessary, related Lasso codes. 2) it keeps centroids separate from the standard network, no confusion, and 3) if in the future we want to rebuild centroids, it will not touch standard network."
   ]
  },
  {
   "cell_type": "code",
   "execution_count": 1,
   "metadata": {},
   "outputs": [],
   "source": [
    "import geopandas as gpd\n",
    "import pandas as pd\n",
    "import os\n",
    "import hashlib\n",
    "from shapely.geometry import Point, LineString"
   ]
  },
  {
   "cell_type": "code",
   "execution_count": 2,
   "metadata": {},
   "outputs": [],
   "source": [
    "# user to define the paths to the data directory\n",
    "centroid_data_dir = r\"D:\\metcouncil_network_rebuild\\data\\processed\\version_00\\standard_networks\"\n",
    "\n",
    "input_dir = r\"D:\\metcouncil_network_rebuild\\data\\processed\\version_00\\standard_networks\"\n",
    "\n",
    "output_dir = r\"D:\\metcouncil_network_rebuild\\data\\processed\\version_00\\standard_networks\\new_centroids\""
   ]
  },
  {
   "cell_type": "code",
   "execution_count": 16,
   "metadata": {},
   "outputs": [],
   "source": [
    "taz_node_gdf = pd.read_pickle(os.path.join(centroid_data_dir, \"centroid_node.pickle\"))\n",
    "taz_cc_link_gdf = pd.read_pickle(os.path.join(centroid_data_dir, \"cc_link.pickle\"))\n",
    "taz_cc_shape_gdf = pd.read_pickle(os.path.join(centroid_data_dir, \"cc_shape.pickle\"))"
   ]
  },
  {
   "cell_type": "code",
   "execution_count": 17,
   "metadata": {},
   "outputs": [
    {
     "name": "stdout",
     "output_type": "stream",
     "text": [
      "(3030, 8)\n",
      "(41812, 14)\n",
      "(20904, 4)\n"
     ]
    }
   ],
   "source": [
    "print(taz_node_gdf.shape)\n",
    "print(taz_cc_link_gdf.shape)\n",
    "print(taz_cc_shape_gdf.shape)"
   ]
  },
  {
   "cell_type": "markdown",
   "metadata": {},
   "source": [
    "## Example of deleting centroid connectors and associated records"
   ]
  },
  {
   "cell_type": "code",
   "execution_count": 19,
   "metadata": {},
   "outputs": [],
   "source": [
    "# deleting the connectors based on A Node, B Node. \n",
    "# The user to supply the A/B nodes of targeted connectors. links are uniquely identified by A/B nodes tuple such as (1,6452)\n",
    "\n",
    "a_b_tuples_list = [(1874, 125480), (125480, 1874)]\n",
    "\n",
    "# to define more than one link records, and more tuples to the list.\n",
    "# a_b_tuples_list = [(1874, 125480)]\n",
    "# a_b_tuples_list = [(1874, 125480), (1874, 125481), (1874, 125481)]\n",
    "\n",
    "# to delete the links based on the A/B nodes tuple list\n",
    "taz_cc_link_gdf = taz_cc_link_gdf[~taz_cc_link_gdf.set_index(['A', 'B']).index.isin(a_b_tuples_list)].reset_index(drop=True)\n",
    "\n",
    "# update the shapes records based on the updated links\n",
    "taz_cc_shape_gdf = taz_cc_shape_gdf[taz_cc_shape_gdf.id.isin(taz_cc_link_gdf.shstGeometryId)]"
   ]
  },
  {
   "cell_type": "code",
   "execution_count": 20,
   "metadata": {},
   "outputs": [
    {
     "name": "stdout",
     "output_type": "stream",
     "text": [
      "(3030, 8)\n",
      "(41810, 14)\n",
      "(20903, 4)\n"
     ]
    }
   ],
   "source": [
    "print(taz_node_gdf.shape)\n",
    "print(taz_cc_link_gdf.shape)\n",
    "print(taz_cc_shape_gdf.shape)"
   ]
  },
  {
   "cell_type": "code",
   "execution_count": 21,
   "metadata": {},
   "outputs": [
    {
     "data": {
      "text/html": [
       "<div>\n",
       "<style scoped>\n",
       "    .dataframe tbody tr th:only-of-type {\n",
       "        vertical-align: middle;\n",
       "    }\n",
       "\n",
       "    .dataframe tbody tr th {\n",
       "        vertical-align: top;\n",
       "    }\n",
       "\n",
       "    .dataframe thead th {\n",
       "        text-align: right;\n",
       "    }\n",
       "</style>\n",
       "<table border=\"1\" class=\"dataframe\">\n",
       "  <thead>\n",
       "    <tr style=\"text-align: right;\">\n",
       "      <th></th>\n",
       "      <th>id</th>\n",
       "      <th>fromIntersectionId</th>\n",
       "      <th>county</th>\n",
       "      <th>geometry</th>\n",
       "    </tr>\n",
       "  </thead>\n",
       "  <tbody>\n",
       "  </tbody>\n",
       "</table>\n",
       "</div>"
      ],
      "text/plain": [
       "Empty GeoDataFrame\n",
       "Columns: [id, fromIntersectionId, county, geometry]\n",
       "Index: []"
      ]
     },
     "execution_count": 21,
     "metadata": {},
     "output_type": "execute_result"
    }
   ],
   "source": [
    "taz_cc_shape_gdf[taz_cc_shape_gdf.id == 'e1c3ebad0eca043c4ddff68a64b782da']"
   ]
  },
  {
   "cell_type": "markdown",
   "metadata": {},
   "source": [
    "## Example of adding centroid connectors and associated records"
   ]
  },
  {
   "cell_type": "code",
   "execution_count": 22,
   "metadata": {},
   "outputs": [],
   "source": [
    "# requires the standard network node data\n",
    "node_file = os.path.join(input_dir, 'nodes.geojson')\n",
    "\n",
    "nodes_gdf = gpd.read_file(node_file)"
   ]
  },
  {
   "cell_type": "code",
   "execution_count": 23,
   "metadata": {},
   "outputs": [
    {
     "data": {
      "text/plain": [
       "A                                                                   1.0\n",
       "B                                                               38291.0\n",
       "drive_access                                                          1\n",
       "walk_access                                                           0\n",
       "bike_access                                                           0\n",
       "shstGeometryId                         5f5213170c569d0ac15786e7e6fbc43b\n",
       "id                                     5f5213170c569d0ac15786e7e6fbc43b\n",
       "u                                                                   NaN\n",
       "v                                                           186172989.0\n",
       "fromIntersectionId                                                 None\n",
       "toIntersectionId                       1d37520ff9747f51e7a9754693a19a8d\n",
       "county                                                            Anoka\n",
       "roadway                                                             taz\n",
       "geometry              LINESTRING (-93.47923800000001 45.406446, -93....\n",
       "Name: 0, dtype: object"
      ]
     },
     "execution_count": 23,
     "metadata": {},
     "output_type": "execute_result"
    }
   ],
   "source": [
    "# how the links data looks like\n",
    "taz_cc_link_gdf.iloc[0]"
   ]
  },
  {
   "cell_type": "code",
   "execution_count": 24,
   "metadata": {},
   "outputs": [],
   "source": [
    "# Adding the connectors based on A Node, B Node. \n",
    "# The user to supply the A/B nodes of targeted connectors. links are uniquely identified by A/B nodes tuple such as (1,6452)\n",
    "\n",
    "# input fields that need users to define values\n",
    "# A, B, drive_access, walk_access, bike_access, county, roadway\n",
    "# the rest of the field can be automatically populated\n",
    "\n",
    "# for example, to add a link between A node 1874 and B node 125482:\n",
    "add_link_dict = {\n",
    "    \"A\": [1874],\n",
    "    \"B\": [125482],\n",
    "    \"drive_access\": [1],\n",
    "    \"walk_access\": [1],\n",
    "    \"bike_access\": [1],\n",
    "    \"county\": ['Ramsey'],\n",
    "    \"roadway\": ['taz'],\n",
    "}\n",
    "\n",
    "# to add more than one records\n",
    "# add_link_dict = {\n",
    "#     \"A\": [1874, 1874],\n",
    "#     \"B\": [125482, 125483],\n",
    "#     \"drive_access\": [1, 1],\n",
    "#     \"walk_access\": [1, 1],\n",
    "#     \"bike_access\": [1, 1],\n",
    "#     \"county\": ['Ramsey', 'Ramsey'],\n",
    "#     \"roadway\": ['taz', 'taz'],\n",
    "# }\n",
    "\n",
    "# new centroid links\n",
    "new_centroid_links_df = pd.DataFrame(add_link_dict)"
   ]
  },
  {
   "cell_type": "code",
   "execution_count": 26,
   "metadata": {},
   "outputs": [],
   "source": [
    "# link geometries are created based on nodes\n",
    "# create a node data base that includes both street nodes and centroids\n",
    "\n",
    "all_nodes_gdf = pd.concat([nodes_gdf, taz_node_gdf], ignore_index=True)\n",
    "all_nodes_gdf = all_nodes_gdf[[\"model_node_id\", \"osm_node_id\", \"shst_node_id\", \"geometry\"]].drop_duplicates()\n",
    "\n",
    "osm_dict = dict(zip(nodes_gdf.model_node_id, nodes_gdf.osm_node_id))\n",
    "shst_dict = dict(zip(all_nodes_gdf.model_node_id, all_nodes_gdf.shst_node_id))"
   ]
  },
  {
   "cell_type": "code",
   "execution_count": 27,
   "metadata": {},
   "outputs": [],
   "source": [
    "# map u,v,fromIntersectionId,toIntersectionId\n",
    "\n",
    "new_centroid_links_df['u'] = new_centroid_links_df.A.map(osm_dict)\n",
    "new_centroid_links_df['v'] = new_centroid_links_df.B.map(osm_dict)\n",
    "new_centroid_links_df['fromIntersectionId'] = new_centroid_links_df.A.map(shst_dict)\n",
    "new_centroid_links_df['toIntersectionId'] = new_centroid_links_df.B.map(shst_dict)"
   ]
  },
  {
   "cell_type": "code",
   "execution_count": 28,
   "metadata": {},
   "outputs": [
    {
     "data": {
      "text/plain": [
       "id                                     0000f69d16eddb948334f8e35764f164\n",
       "fromIntersectionId                     9a855a66aa837802031a97e161d42831\n",
       "county                                                         Hennepin\n",
       "geometry              LINESTRING (-93.42102840000001 44.908365, -93....\n",
       "Name: 0, dtype: object"
      ]
     },
     "execution_count": 28,
     "metadata": {},
     "output_type": "execute_result"
    }
   ],
   "source": [
    "# check how shapes data look like\n",
    "taz_cc_shape_gdf.iloc[0]"
   ]
  },
  {
   "cell_type": "code",
   "execution_count": 29,
   "metadata": {},
   "outputs": [
    {
     "name": "stderr",
     "output_type": "stream",
     "text": [
      "c:\\Users\\wangs1\\AppData\\Local\\Continuum\\anaconda3\\envs\\lasso_wsp\\lib\\site-packages\\pandas\\core\\dtypes\\cast.py:118: ShapelyDeprecationWarning: The array interface is deprecated and will no longer work in Shapely 2.0. Convert the '.coords' to a numpy array instead.\n",
      "  arr = construct_1d_object_array_from_listlike(values)\n"
     ]
    }
   ],
   "source": [
    "# create geometry based on A node B node coordinates\n",
    "new_centroid_links_df['a_node_geometry'] = new_centroid_links_df.A.map(all_nodes_gdf.set_index('model_node_id').geometry)\n",
    "new_centroid_links_df['b_node_geometry'] = new_centroid_links_df.B.map(all_nodes_gdf.set_index('model_node_id').geometry)\n",
    "\n",
    "# create link geometry based on A node B node geometires\n",
    "new_centroid_links_df['geometry'] = new_centroid_links_df.apply(lambda x: LineString([x.a_node_geometry, x.b_node_geometry]), axis=1)"
   ]
  },
  {
   "cell_type": "code",
   "execution_count": 30,
   "metadata": {},
   "outputs": [],
   "source": [
    "def create_unique_shape_id(line_string: LineString):\n",
    "    \"\"\"\n",
    "    Creates a unique hash id using the coordinates of the geomtery\n",
    "\n",
    "    Args:\n",
    "    line_string: Line Geometry as a LineString\n",
    "\n",
    "    Returns: string\n",
    "    \"\"\"\n",
    "\n",
    "    x1, y1 = list(line_string.coords)[0]  # first co-ordinate (A node)\n",
    "    x2, y2 = list(line_string.coords)[-1]  # last co-ordinate (B node)\n",
    "\n",
    "    message = \"Geometry {} {} {} {}\".format(x1, y1, x2, y2)\n",
    "    unhashed = message.encode(\"utf-8\")\n",
    "    hash = hashlib.md5(unhashed).hexdigest()\n",
    "\n",
    "    return hash"
   ]
  },
  {
   "cell_type": "code",
   "execution_count": 31,
   "metadata": {},
   "outputs": [],
   "source": [
    "# create unique shape id for the new links\n",
    "new_centroid_links_df[\"shstGeometryId\"] = new_centroid_links_df[\"geometry\"].apply(\n",
    "        lambda x: create_unique_shape_id(x)\n",
    "    )\n",
    "new_centroid_links_df[\"id\"] = new_centroid_links_df[\"shstGeometryId\"]"
   ]
  },
  {
   "cell_type": "code",
   "execution_count": 32,
   "metadata": {},
   "outputs": [],
   "source": [
    "# get unique new shape records\n",
    "\n",
    "new_centroid_shapes_df = new_centroid_links_df[[\"id\", \"geometry\", \"county\", \"fromIntersectionId\"]].drop_duplicates(subset=['id'])\n",
    "\n",
    "# check they do not overlap with existing shapes\n",
    "\n",
    "assert len(new_centroid_shapes_df[new_centroid_shapes_df.id.isin(taz_cc_shape_gdf.id)]) == 0"
   ]
  },
  {
   "cell_type": "code",
   "execution_count": 33,
   "metadata": {},
   "outputs": [],
   "source": [
    "# append the new links and shapes to the existing links and shapes\n",
    "\n",
    "taz_cc_link_gdf = pd.concat([taz_cc_link_gdf, new_centroid_links_df[[c for c in new_centroid_links_df.columns if c in taz_cc_link_gdf.columns]]], ignore_index=True, sort=False)\n",
    "taz_cc_shape_gdf = pd.concat([taz_cc_shape_gdf, new_centroid_shapes_df[[c for c in new_centroid_shapes_df.columns if c in taz_cc_shape_gdf.columns]]], ignore_index=True, sort=False)"
   ]
  },
  {
   "cell_type": "code",
   "execution_count": 34,
   "metadata": {},
   "outputs": [
    {
     "name": "stdout",
     "output_type": "stream",
     "text": [
      "(3030, 8)\n",
      "(41811, 14)\n",
      "(20904, 4)\n"
     ]
    }
   ],
   "source": [
    "print(taz_node_gdf.shape)\n",
    "print(taz_cc_link_gdf.shape)\n",
    "print(taz_cc_shape_gdf.shape)"
   ]
  },
  {
   "cell_type": "markdown",
   "metadata": {},
   "source": [
    "## Write out"
   ]
  },
  {
   "cell_type": "code",
   "execution_count": 36,
   "metadata": {},
   "outputs": [],
   "source": [
    "# write out back to pickle\n",
    "\n",
    "taz_node_gdf.to_pickle(os.path.join(output_dir, \"centroid_node.pickle\"))\n",
    "taz_cc_link_gdf.to_pickle(os.path.join(output_dir, \"cc_link.pickle\"))\n",
    "taz_cc_shape_gdf.to_pickle(os.path.join(output_dir, \"cc_shape.pickle\"))"
   ]
  },
  {
   "cell_type": "code",
   "execution_count": 37,
   "metadata": {},
   "outputs": [],
   "source": [
    "# write nodes and shapes to geojson, write links to json\n",
    "\n",
    "taz_node_gdf.to_file(os.path.join(output_dir, \"centroid_node.geojson\"), driver=\"GeoJSON\")\n",
    "with open(os.path.join(output_dir, \"cc_link.json\"), 'w') as f:\n",
    "    f.write(pd.DataFrame(taz_cc_link_gdf.drop(columns=['geometry'])).to_json(orient='records'))\n",
    "taz_cc_link_gdf.to_file(os.path.join(output_dir, \"cc_link.geojson\"), driver=\"GeoJSON\")\n",
    "taz_cc_shape_gdf.to_file(os.path.join(output_dir, \"cc_shape.geojson\"), driver=\"GeoJSON\")"
   ]
  }
 ],
 "metadata": {
  "kernelspec": {
   "display_name": "lasso_wsp",
   "language": "python",
   "name": "python3"
  },
  "language_info": {
   "codemirror_mode": {
    "name": "ipython",
    "version": 3
   },
   "file_extension": ".py",
   "mimetype": "text/x-python",
   "name": "python",
   "nbconvert_exporter": "python",
   "pygments_lexer": "ipython3",
   "version": "3.7.12"
  },
  "orig_nbformat": 4
 },
 "nbformat": 4,
 "nbformat_minor": 2
}
