{
 "cells": [
  {
   "cell_type": "markdown",
   "metadata": {},
   "source": [
    "# 03 Make Network Version 02 (with Assignment Group Updates)"
   ]
  },
  {
   "cell_type": "code",
   "execution_count": 14,
   "metadata": {},
   "outputs": [],
   "source": [
    "import os\n",
    "import sys\n",
    "import yaml\n",
    "from subprocess import Popen\n",
    "import pickle\n",
    "\n",
    "import pandas as pd\n",
    "import geopandas as gpd\n",
    "import numpy as np\n",
    "\n",
    "\n",
    "from network_wrangler import RoadwayNetwork\n",
    "from network_wrangler import TransitNetwork\n",
    "from network_wrangler import WranglerLogger\n",
    "from network_wrangler import ProjectCard\n",
    "from network_wrangler import Scenario\n",
    "\n",
    "from lasso import ModelRoadwayNetwork\n",
    "from lasso import StandardTransit\n",
    "from lasso import Parameters\n",
    "from lasso import metcouncil\n",
    "from lasso import util"
   ]
  },
  {
   "cell_type": "code",
   "execution_count": 2,
   "metadata": {},
   "outputs": [],
   "source": [
    "%load_ext autoreload\n",
    "%autoreload 2"
   ]
  },
  {
   "cell_type": "code",
   "execution_count": 3,
   "metadata": {},
   "outputs": [],
   "source": [
    "import logging\n",
    "logger = logging.getLogger(\"WranglerLogger\")\n",
    "logger.handlers[0].stream = sys.stdout\n",
    "logger.setLevel(logging.INFO)"
   ]
  },
  {
   "cell_type": "markdown",
   "metadata": {},
   "source": [
    "### Remote I/O and Parameters"
   ]
  },
  {
   "cell_type": "code",
   "execution_count": 4,
   "metadata": {},
   "outputs": [],
   "source": [
    "# root_dir = os.path.join('C:\\\\', 'Users', 'david.ory', 'Documents', 'GitHub', 'client_met_council_network')\n",
    "root_dir = os.path.join(\"D:/metcouncil_network_rebuild\")\n",
    "input_dir = os.path.join(root_dir, 'data', 'processed', 'version_01')\n",
    "output_dir = input_dir\n",
    "card_dir = os.path.join(root_dir, 'project_cards')\n",
    "# lasso_dir = os.path.join('C:\\\\', 'Users', 'david.ory', 'Documents', 'GitHub', 'lasso')\n",
    "lasso_dir = os.path.join('Z:/Data/Users/Sijia/Met_Council/github/client_met_council_wrangler_utilities')"
   ]
  },
  {
   "cell_type": "code",
   "execution_count": 5,
   "metadata": {},
   "outputs": [
    {
     "name": "stdout",
     "output_type": "stream",
     "text": [
      "2022-03-22 20:31:01, INFO: Lasso base directory set as: Z:/Data/Users/Sijia/Met_Council/github/client_met_council_wrangler_utilities\n",
      "2022-03-22 20:31:01, INFO: Lasso base directory set as: Z:/Data/Users/Sijia/Met_Council/github/client_met_council_wrangler_utilities\n"
     ]
    }
   ],
   "source": [
    "parameters = Parameters(lasso_base_dir = lasso_dir)"
   ]
  },
  {
   "cell_type": "markdown",
   "metadata": {},
   "source": [
    "### Read Version 01 Scenario"
   ]
  },
  {
   "cell_type": "code",
   "execution_count": 6,
   "metadata": {},
   "outputs": [],
   "source": [
    "version_01_pickle_file_name = os.path.join(input_dir, 'working_scenario_01.pickle')\n",
    "v_01_scenario = pickle.load(open(version_01_pickle_file_name, 'rb'))"
   ]
  },
  {
   "cell_type": "markdown",
   "metadata": {},
   "source": [
    "### Apply Project Cards"
   ]
  },
  {
   "cell_type": "code",
   "execution_count": 7,
   "metadata": {},
   "outputs": [
    {
     "name": "stdout",
     "output_type": "stream",
     "text": [
      "2022-03-22 20:31:42, INFO: Creating Scenario\n",
      "2022-03-22 20:31:42, INFO: Creating Scenario\n"
     ]
    },
    {
     "name": "stderr",
     "output_type": "stream",
     "text": [
      "z:\\data\\users\\sijia\\met_council\\github\\network_wrangler\\network_wrangler\\network_wrangler\\projectcard.py:114: YAMLLoadWarning: calling yaml.load() without Loader=... is deprecated, as the default Loader is unsafe. Please read https://msg.pyyaml.org/load for full details.\n",
      "  attribute_dictionary = yaml.load(_yaml)\n"
     ]
    }
   ],
   "source": [
    "v_02_scenario = Scenario.create_scenario(\n",
    "    base_scenario={\"road_net\": v_01_scenario.road_net, \"transit_net\": v_01_scenario.transit_net},\n",
    "    card_directory = card_dir,\n",
    "    tags = ['Network Cleanup AsgnGrp', 'Network Cleanup Lanes'],\n",
    "    validate_project_cards=False)"
   ]
  },
  {
   "cell_type": "code",
   "execution_count": 8,
   "metadata": {},
   "outputs": [
    {
     "data": {
      "text/plain": [
       "[]"
      ]
     },
     "execution_count": 8,
     "metadata": {},
     "output_type": "execute_result"
    }
   ],
   "source": [
    "v_02_scenario.applied_projects"
   ]
  },
  {
   "cell_type": "code",
   "execution_count": 9,
   "metadata": {
    "scrolled": true
   },
   "outputs": [
    {
     "name": "stdout",
     "output_type": "stream",
     "text": [
      "2022-03-22 20:31:45, INFO: Applying Network Cleanup 1 Lanes 7\n",
      "2022-03-22 20:31:45, INFO: Applying Network Cleanup 1 Lanes 7\n",
      "2022-03-22 20:31:45, INFO: Applying Network Cleanup 1 Lanes 7\n",
      "2022-03-22 20:31:45, INFO: Applying Network Cleanup 1 Lanes 7\n",
      "2022-03-22 20:31:45, INFO: Applying Project to Roadway Network: Network Cleanup 1 Lanes 7\n",
      "2022-03-22 20:31:45, INFO: Applying Project to Roadway Network: Network Cleanup 1 Lanes 7\n",
      "2022-03-22 20:31:45, INFO: Applying Network Cleanup 1 Lanes 6\n",
      "2022-03-22 20:31:45, INFO: Applying Network Cleanup 1 Lanes 6\n",
      "2022-03-22 20:31:45, INFO: Applying Network Cleanup 1 Lanes 6\n",
      "2022-03-22 20:31:45, INFO: Applying Network Cleanup 1 Lanes 6\n",
      "2022-03-22 20:31:45, INFO: Applying Project to Roadway Network: Network Cleanup 1 Lanes 6\n",
      "2022-03-22 20:31:45, INFO: Applying Project to Roadway Network: Network Cleanup 1 Lanes 6\n",
      "2022-03-22 20:31:45, INFO: Applying Network Cleanup 1 Lanes 5\n",
      "2022-03-22 20:31:45, INFO: Applying Network Cleanup 1 Lanes 5\n",
      "2022-03-22 20:31:45, INFO: Applying Network Cleanup 1 Lanes 5\n",
      "2022-03-22 20:31:45, INFO: Applying Network Cleanup 1 Lanes 5\n",
      "2022-03-22 20:31:45, INFO: Applying Project to Roadway Network: Network Cleanup 1 Lanes 5\n",
      "2022-03-22 20:31:45, INFO: Applying Project to Roadway Network: Network Cleanup 1 Lanes 5\n"
     ]
    },
    {
     "name": "stderr",
     "output_type": "stream",
     "text": [
      "C:\\Users\\wangs1\\AppData\\Local\\Continuum\\anaconda3\\envs\\lasso_wsp\\lib\\site-packages\\geopandas\\geodataframe.py:1351: SettingWithCopyWarning: \n",
      "A value is trying to be set on a copy of a slice from a DataFrame.\n",
      "Try using .loc[row_indexer,col_indexer] = value instead\n",
      "\n",
      "See the caveats in the documentation: https://pandas.pydata.org/pandas-docs/stable/user_guide/indexing.html#returning-a-view-versus-a-copy\n",
      "  super().__setitem__(key, value)\n",
      "C:\\Users\\wangs1\\AppData\\Local\\Continuum\\anaconda3\\envs\\lasso_wsp\\lib\\site-packages\\geopandas\\geodataframe.py:1351: SettingWithCopyWarning: \n",
      "A value is trying to be set on a copy of a slice from a DataFrame.\n",
      "Try using .loc[row_indexer,col_indexer] = value instead\n",
      "\n",
      "See the caveats in the documentation: https://pandas.pydata.org/pandas-docs/stable/user_guide/indexing.html#returning-a-view-versus-a-copy\n",
      "  super().__setitem__(key, value)\n"
     ]
    },
    {
     "name": "stdout",
     "output_type": "stream",
     "text": [
      "2022-03-22 20:31:46, INFO: Applying Network Cleanup 1 Lanes 4\n",
      "2022-03-22 20:31:46, INFO: Applying Network Cleanup 1 Lanes 4\n",
      "2022-03-22 20:31:46, INFO: Applying Network Cleanup 1 Lanes 4\n",
      "2022-03-22 20:31:46, INFO: Applying Network Cleanup 1 Lanes 4\n",
      "2022-03-22 20:31:46, INFO: Applying Project to Roadway Network: Network Cleanup 1 Lanes 4\n",
      "2022-03-22 20:31:46, INFO: Applying Project to Roadway Network: Network Cleanup 1 Lanes 4\n"
     ]
    },
    {
     "name": "stderr",
     "output_type": "stream",
     "text": [
      "C:\\Users\\wangs1\\AppData\\Local\\Continuum\\anaconda3\\envs\\lasso_wsp\\lib\\site-packages\\geopandas\\geodataframe.py:1351: SettingWithCopyWarning: \n",
      "A value is trying to be set on a copy of a slice from a DataFrame.\n",
      "Try using .loc[row_indexer,col_indexer] = value instead\n",
      "\n",
      "See the caveats in the documentation: https://pandas.pydata.org/pandas-docs/stable/user_guide/indexing.html#returning-a-view-versus-a-copy\n",
      "  super().__setitem__(key, value)\n"
     ]
    },
    {
     "name": "stdout",
     "output_type": "stream",
     "text": [
      "2022-03-22 20:31:46, INFO: Applying Network Cleanup 1 Lanes 3\n",
      "2022-03-22 20:31:46, INFO: Applying Network Cleanup 1 Lanes 3\n",
      "2022-03-22 20:31:46, INFO: Applying Network Cleanup 1 Lanes 3\n",
      "2022-03-22 20:31:46, INFO: Applying Network Cleanup 1 Lanes 3\n",
      "2022-03-22 20:31:46, INFO: Applying Project to Roadway Network: Network Cleanup 1 Lanes 3\n",
      "2022-03-22 20:31:46, INFO: Applying Project to Roadway Network: Network Cleanup 1 Lanes 3\n"
     ]
    },
    {
     "name": "stderr",
     "output_type": "stream",
     "text": [
      "C:\\Users\\wangs1\\AppData\\Local\\Continuum\\anaconda3\\envs\\lasso_wsp\\lib\\site-packages\\geopandas\\geodataframe.py:1351: SettingWithCopyWarning: \n",
      "A value is trying to be set on a copy of a slice from a DataFrame.\n",
      "Try using .loc[row_indexer,col_indexer] = value instead\n",
      "\n",
      "See the caveats in the documentation: https://pandas.pydata.org/pandas-docs/stable/user_guide/indexing.html#returning-a-view-versus-a-copy\n",
      "  super().__setitem__(key, value)\n"
     ]
    },
    {
     "name": "stdout",
     "output_type": "stream",
     "text": [
      "2022-03-22 20:32:06, INFO: Applying Network Cleanup 1 Lanes 2E\n",
      "2022-03-22 20:32:06, INFO: Applying Network Cleanup 1 Lanes 2E\n",
      "2022-03-22 20:32:06, INFO: Applying Network Cleanup 1 Lanes 2E\n",
      "2022-03-22 20:32:06, INFO: Applying Network Cleanup 1 Lanes 2E\n",
      "2022-03-22 20:32:06, INFO: Applying Project to Roadway Network: Network Cleanup 1 Lanes 2E\n",
      "2022-03-22 20:32:06, INFO: Applying Project to Roadway Network: Network Cleanup 1 Lanes 2E\n"
     ]
    },
    {
     "name": "stderr",
     "output_type": "stream",
     "text": [
      "C:\\Users\\wangs1\\AppData\\Local\\Continuum\\anaconda3\\envs\\lasso_wsp\\lib\\site-packages\\geopandas\\geodataframe.py:1351: SettingWithCopyWarning: \n",
      "A value is trying to be set on a copy of a slice from a DataFrame.\n",
      "Try using .loc[row_indexer,col_indexer] = value instead\n",
      "\n",
      "See the caveats in the documentation: https://pandas.pydata.org/pandas-docs/stable/user_guide/indexing.html#returning-a-view-versus-a-copy\n",
      "  super().__setitem__(key, value)\n"
     ]
    },
    {
     "name": "stdout",
     "output_type": "stream",
     "text": [
      "2022-03-22 20:32:17, INFO: Applying Network Cleanup 1 Lanes 2D Part 2\n",
      "2022-03-22 20:32:17, INFO: Applying Network Cleanup 1 Lanes 2D Part 2\n",
      "2022-03-22 20:32:17, INFO: Applying Network Cleanup 1 Lanes 2D Part 2\n",
      "2022-03-22 20:32:17, INFO: Applying Network Cleanup 1 Lanes 2D Part 2\n",
      "2022-03-22 20:32:17, INFO: Applying Project to Roadway Network: Network Cleanup 1 Lanes 2D Part 2\n",
      "2022-03-22 20:32:17, INFO: Applying Project to Roadway Network: Network Cleanup 1 Lanes 2D Part 2\n"
     ]
    },
    {
     "name": "stderr",
     "output_type": "stream",
     "text": [
      "C:\\Users\\wangs1\\AppData\\Local\\Continuum\\anaconda3\\envs\\lasso_wsp\\lib\\site-packages\\geopandas\\geodataframe.py:1351: SettingWithCopyWarning: \n",
      "A value is trying to be set on a copy of a slice from a DataFrame.\n",
      "Try using .loc[row_indexer,col_indexer] = value instead\n",
      "\n",
      "See the caveats in the documentation: https://pandas.pydata.org/pandas-docs/stable/user_guide/indexing.html#returning-a-view-versus-a-copy\n",
      "  super().__setitem__(key, value)\n"
     ]
    },
    {
     "name": "stdout",
     "output_type": "stream",
     "text": [
      "2022-03-22 20:32:21, INFO: Applying Network Cleanup 1 Lanes 2D Part 1\n",
      "2022-03-22 20:32:21, INFO: Applying Network Cleanup 1 Lanes 2D Part 1\n",
      "2022-03-22 20:32:21, INFO: Applying Network Cleanup 1 Lanes 2D Part 1\n",
      "2022-03-22 20:32:21, INFO: Applying Network Cleanup 1 Lanes 2D Part 1\n",
      "2022-03-22 20:32:21, INFO: Applying Project to Roadway Network: Network Cleanup 1 Lanes 2D Part 1\n",
      "2022-03-22 20:32:21, INFO: Applying Project to Roadway Network: Network Cleanup 1 Lanes 2D Part 1\n"
     ]
    },
    {
     "name": "stderr",
     "output_type": "stream",
     "text": [
      "C:\\Users\\wangs1\\AppData\\Local\\Continuum\\anaconda3\\envs\\lasso_wsp\\lib\\site-packages\\geopandas\\geodataframe.py:1351: SettingWithCopyWarning: \n",
      "A value is trying to be set on a copy of a slice from a DataFrame.\n",
      "Try using .loc[row_indexer,col_indexer] = value instead\n",
      "\n",
      "See the caveats in the documentation: https://pandas.pydata.org/pandas-docs/stable/user_guide/indexing.html#returning-a-view-versus-a-copy\n",
      "  super().__setitem__(key, value)\n"
     ]
    },
    {
     "name": "stdout",
     "output_type": "stream",
     "text": [
      "2022-03-22 20:32:31, INFO: Applying Network Cleanup 1 Lanes 2C Part 2\n",
      "2022-03-22 20:32:31, INFO: Applying Network Cleanup 1 Lanes 2C Part 2\n",
      "2022-03-22 20:32:31, INFO: Applying Network Cleanup 1 Lanes 2C Part 2\n",
      "2022-03-22 20:32:31, INFO: Applying Network Cleanup 1 Lanes 2C Part 2\n",
      "2022-03-22 20:32:31, INFO: Applying Project to Roadway Network: Network Cleanup 1 Lanes 2C Part 2\n",
      "2022-03-22 20:32:31, INFO: Applying Project to Roadway Network: Network Cleanup 1 Lanes 2C Part 2\n"
     ]
    },
    {
     "name": "stderr",
     "output_type": "stream",
     "text": [
      "C:\\Users\\wangs1\\AppData\\Local\\Continuum\\anaconda3\\envs\\lasso_wsp\\lib\\site-packages\\geopandas\\geodataframe.py:1351: SettingWithCopyWarning: \n",
      "A value is trying to be set on a copy of a slice from a DataFrame.\n",
      "Try using .loc[row_indexer,col_indexer] = value instead\n",
      "\n",
      "See the caveats in the documentation: https://pandas.pydata.org/pandas-docs/stable/user_guide/indexing.html#returning-a-view-versus-a-copy\n",
      "  super().__setitem__(key, value)\n"
     ]
    },
    {
     "name": "stdout",
     "output_type": "stream",
     "text": [
      "2022-03-22 20:32:35, INFO: Applying Network Cleanup 1 Lanes 2C Part 1\n",
      "2022-03-22 20:32:35, INFO: Applying Network Cleanup 1 Lanes 2C Part 1\n",
      "2022-03-22 20:32:35, INFO: Applying Network Cleanup 1 Lanes 2C Part 1\n",
      "2022-03-22 20:32:35, INFO: Applying Network Cleanup 1 Lanes 2C Part 1\n",
      "2022-03-22 20:32:35, INFO: Applying Project to Roadway Network: Network Cleanup 1 Lanes 2C Part 1\n",
      "2022-03-22 20:32:35, INFO: Applying Project to Roadway Network: Network Cleanup 1 Lanes 2C Part 1\n"
     ]
    },
    {
     "name": "stderr",
     "output_type": "stream",
     "text": [
      "C:\\Users\\wangs1\\AppData\\Local\\Continuum\\anaconda3\\envs\\lasso_wsp\\lib\\site-packages\\geopandas\\geodataframe.py:1351: SettingWithCopyWarning: \n",
      "A value is trying to be set on a copy of a slice from a DataFrame.\n",
      "Try using .loc[row_indexer,col_indexer] = value instead\n",
      "\n",
      "See the caveats in the documentation: https://pandas.pydata.org/pandas-docs/stable/user_guide/indexing.html#returning-a-view-versus-a-copy\n",
      "  super().__setitem__(key, value)\n"
     ]
    },
    {
     "name": "stdout",
     "output_type": "stream",
     "text": [
      "2022-03-22 20:32:44, INFO: Applying Network Cleanup 1 Lanes 2B\n",
      "2022-03-22 20:32:44, INFO: Applying Network Cleanup 1 Lanes 2B\n",
      "2022-03-22 20:32:44, INFO: Applying Network Cleanup 1 Lanes 2B\n",
      "2022-03-22 20:32:44, INFO: Applying Network Cleanup 1 Lanes 2B\n",
      "2022-03-22 20:32:44, INFO: Applying Project to Roadway Network: Network Cleanup 1 Lanes 2B\n",
      "2022-03-22 20:32:44, INFO: Applying Project to Roadway Network: Network Cleanup 1 Lanes 2B\n"
     ]
    },
    {
     "name": "stderr",
     "output_type": "stream",
     "text": [
      "C:\\Users\\wangs1\\AppData\\Local\\Continuum\\anaconda3\\envs\\lasso_wsp\\lib\\site-packages\\geopandas\\geodataframe.py:1351: SettingWithCopyWarning: \n",
      "A value is trying to be set on a copy of a slice from a DataFrame.\n",
      "Try using .loc[row_indexer,col_indexer] = value instead\n",
      "\n",
      "See the caveats in the documentation: https://pandas.pydata.org/pandas-docs/stable/user_guide/indexing.html#returning-a-view-versus-a-copy\n",
      "  super().__setitem__(key, value)\n"
     ]
    },
    {
     "name": "stdout",
     "output_type": "stream",
     "text": [
      "2022-03-22 20:33:03, INFO: Applying Network Cleanup 1 Lanes 2A\n",
      "2022-03-22 20:33:03, INFO: Applying Network Cleanup 1 Lanes 2A\n",
      "2022-03-22 20:33:03, INFO: Applying Network Cleanup 1 Lanes 2A\n",
      "2022-03-22 20:33:03, INFO: Applying Network Cleanup 1 Lanes 2A\n",
      "2022-03-22 20:33:03, INFO: Applying Project to Roadway Network: Network Cleanup 1 Lanes 2A\n",
      "2022-03-22 20:33:03, INFO: Applying Project to Roadway Network: Network Cleanup 1 Lanes 2A\n"
     ]
    },
    {
     "name": "stderr",
     "output_type": "stream",
     "text": [
      "C:\\Users\\wangs1\\AppData\\Local\\Continuum\\anaconda3\\envs\\lasso_wsp\\lib\\site-packages\\geopandas\\geodataframe.py:1351: SettingWithCopyWarning: \n",
      "A value is trying to be set on a copy of a slice from a DataFrame.\n",
      "Try using .loc[row_indexer,col_indexer] = value instead\n",
      "\n",
      "See the caveats in the documentation: https://pandas.pydata.org/pandas-docs/stable/user_guide/indexing.html#returning-a-view-versus-a-copy\n",
      "  super().__setitem__(key, value)\n"
     ]
    },
    {
     "name": "stdout",
     "output_type": "stream",
     "text": [
      "2022-03-22 20:33:17, INFO: Applying Network Cleanup 1 Lanes 1 H\n",
      "2022-03-22 20:33:17, INFO: Applying Network Cleanup 1 Lanes 1 H\n",
      "2022-03-22 20:33:17, INFO: Applying Network Cleanup 1 Lanes 1 H\n",
      "2022-03-22 20:33:17, INFO: Applying Network Cleanup 1 Lanes 1 H\n",
      "2022-03-22 20:33:17, INFO: Applying Project to Roadway Network: Network Cleanup 1 Lanes 1 H\n",
      "2022-03-22 20:33:17, INFO: Applying Project to Roadway Network: Network Cleanup 1 Lanes 1 H\n"
     ]
    },
    {
     "name": "stderr",
     "output_type": "stream",
     "text": [
      "C:\\Users\\wangs1\\AppData\\Local\\Continuum\\anaconda3\\envs\\lasso_wsp\\lib\\site-packages\\geopandas\\geodataframe.py:1351: SettingWithCopyWarning: \n",
      "A value is trying to be set on a copy of a slice from a DataFrame.\n",
      "Try using .loc[row_indexer,col_indexer] = value instead\n",
      "\n",
      "See the caveats in the documentation: https://pandas.pydata.org/pandas-docs/stable/user_guide/indexing.html#returning-a-view-versus-a-copy\n",
      "  super().__setitem__(key, value)\n"
     ]
    },
    {
     "name": "stdout",
     "output_type": "stream",
     "text": [
      "2022-03-22 20:33:21, INFO: Applying Network Cleanup 1 Lanes 1 G\n",
      "2022-03-22 20:33:21, INFO: Applying Network Cleanup 1 Lanes 1 G\n",
      "2022-03-22 20:33:21, INFO: Applying Network Cleanup 1 Lanes 1 G\n",
      "2022-03-22 20:33:21, INFO: Applying Network Cleanup 1 Lanes 1 G\n",
      "2022-03-22 20:33:21, INFO: Applying Project to Roadway Network: Network Cleanup 1 Lanes 1 G\n",
      "2022-03-22 20:33:21, INFO: Applying Project to Roadway Network: Network Cleanup 1 Lanes 1 G\n"
     ]
    },
    {
     "name": "stderr",
     "output_type": "stream",
     "text": [
      "C:\\Users\\wangs1\\AppData\\Local\\Continuum\\anaconda3\\envs\\lasso_wsp\\lib\\site-packages\\geopandas\\geodataframe.py:1351: SettingWithCopyWarning: \n",
      "A value is trying to be set on a copy of a slice from a DataFrame.\n",
      "Try using .loc[row_indexer,col_indexer] = value instead\n",
      "\n",
      "See the caveats in the documentation: https://pandas.pydata.org/pandas-docs/stable/user_guide/indexing.html#returning-a-view-versus-a-copy\n",
      "  super().__setitem__(key, value)\n"
     ]
    },
    {
     "name": "stdout",
     "output_type": "stream",
     "text": [
      "2022-03-22 20:33:39, INFO: Applying Network Cleanup 1 Lanes 1 F Part 2\n",
      "2022-03-22 20:33:39, INFO: Applying Network Cleanup 1 Lanes 1 F Part 2\n",
      "2022-03-22 20:33:39, INFO: Applying Network Cleanup 1 Lanes 1 F Part 2\n",
      "2022-03-22 20:33:39, INFO: Applying Network Cleanup 1 Lanes 1 F Part 2\n",
      "2022-03-22 20:33:39, INFO: Applying Project to Roadway Network: Network Cleanup 1 Lanes 1 F Part 2\n",
      "2022-03-22 20:33:39, INFO: Applying Project to Roadway Network: Network Cleanup 1 Lanes 1 F Part 2\n"
     ]
    },
    {
     "name": "stderr",
     "output_type": "stream",
     "text": [
      "C:\\Users\\wangs1\\AppData\\Local\\Continuum\\anaconda3\\envs\\lasso_wsp\\lib\\site-packages\\geopandas\\geodataframe.py:1351: SettingWithCopyWarning: \n",
      "A value is trying to be set on a copy of a slice from a DataFrame.\n",
      "Try using .loc[row_indexer,col_indexer] = value instead\n",
      "\n",
      "See the caveats in the documentation: https://pandas.pydata.org/pandas-docs/stable/user_guide/indexing.html#returning-a-view-versus-a-copy\n",
      "  super().__setitem__(key, value)\n"
     ]
    },
    {
     "name": "stdout",
     "output_type": "stream",
     "text": [
      "2022-03-22 20:33:41, INFO: Applying Network Cleanup 1 Lanes 1 F Part 1\n",
      "2022-03-22 20:33:41, INFO: Applying Network Cleanup 1 Lanes 1 F Part 1\n",
      "2022-03-22 20:33:41, INFO: Applying Network Cleanup 1 Lanes 1 F Part 1\n",
      "2022-03-22 20:33:41, INFO: Applying Network Cleanup 1 Lanes 1 F Part 1\n",
      "2022-03-22 20:33:41, INFO: Applying Project to Roadway Network: Network Cleanup 1 Lanes 1 F Part 1\n",
      "2022-03-22 20:33:41, INFO: Applying Project to Roadway Network: Network Cleanup 1 Lanes 1 F Part 1\n"
     ]
    },
    {
     "name": "stderr",
     "output_type": "stream",
     "text": [
      "C:\\Users\\wangs1\\AppData\\Local\\Continuum\\anaconda3\\envs\\lasso_wsp\\lib\\site-packages\\geopandas\\geodataframe.py:1351: SettingWithCopyWarning: \n",
      "A value is trying to be set on a copy of a slice from a DataFrame.\n",
      "Try using .loc[row_indexer,col_indexer] = value instead\n",
      "\n",
      "See the caveats in the documentation: https://pandas.pydata.org/pandas-docs/stable/user_guide/indexing.html#returning-a-view-versus-a-copy\n",
      "  super().__setitem__(key, value)\n"
     ]
    },
    {
     "name": "stdout",
     "output_type": "stream",
     "text": [
      "2022-03-22 20:33:52, INFO: Applying Network Cleanup 1 Lanes 1 E Part 2\n",
      "2022-03-22 20:33:52, INFO: Applying Network Cleanup 1 Lanes 1 E Part 2\n",
      "2022-03-22 20:33:52, INFO: Applying Network Cleanup 1 Lanes 1 E Part 2\n",
      "2022-03-22 20:33:52, INFO: Applying Network Cleanup 1 Lanes 1 E Part 2\n",
      "2022-03-22 20:33:52, INFO: Applying Project to Roadway Network: Network Cleanup 1 Lanes 1 E Part 2\n",
      "2022-03-22 20:33:52, INFO: Applying Project to Roadway Network: Network Cleanup 1 Lanes 1 E Part 2\n"
     ]
    },
    {
     "name": "stderr",
     "output_type": "stream",
     "text": [
      "C:\\Users\\wangs1\\AppData\\Local\\Continuum\\anaconda3\\envs\\lasso_wsp\\lib\\site-packages\\geopandas\\geodataframe.py:1351: SettingWithCopyWarning: \n",
      "A value is trying to be set on a copy of a slice from a DataFrame.\n",
      "Try using .loc[row_indexer,col_indexer] = value instead\n",
      "\n",
      "See the caveats in the documentation: https://pandas.pydata.org/pandas-docs/stable/user_guide/indexing.html#returning-a-view-versus-a-copy\n",
      "  super().__setitem__(key, value)\n"
     ]
    },
    {
     "name": "stdout",
     "output_type": "stream",
     "text": [
      "2022-03-22 20:33:54, INFO: Applying Network Cleanup 1 Lanes 1 E Part 1\n",
      "2022-03-22 20:33:54, INFO: Applying Network Cleanup 1 Lanes 1 E Part 1\n",
      "2022-03-22 20:33:54, INFO: Applying Network Cleanup 1 Lanes 1 E Part 1\n",
      "2022-03-22 20:33:54, INFO: Applying Network Cleanup 1 Lanes 1 E Part 1\n",
      "2022-03-22 20:33:54, INFO: Applying Project to Roadway Network: Network Cleanup 1 Lanes 1 E Part 1\n",
      "2022-03-22 20:33:54, INFO: Applying Project to Roadway Network: Network Cleanup 1 Lanes 1 E Part 1\n"
     ]
    },
    {
     "name": "stderr",
     "output_type": "stream",
     "text": [
      "C:\\Users\\wangs1\\AppData\\Local\\Continuum\\anaconda3\\envs\\lasso_wsp\\lib\\site-packages\\geopandas\\geodataframe.py:1351: SettingWithCopyWarning: \n",
      "A value is trying to be set on a copy of a slice from a DataFrame.\n",
      "Try using .loc[row_indexer,col_indexer] = value instead\n",
      "\n",
      "See the caveats in the documentation: https://pandas.pydata.org/pandas-docs/stable/user_guide/indexing.html#returning-a-view-versus-a-copy\n",
      "  super().__setitem__(key, value)\n"
     ]
    },
    {
     "name": "stdout",
     "output_type": "stream",
     "text": [
      "2022-03-22 20:34:04, INFO: Applying Network Cleanup 1 Lanes 1 D Part 2\n",
      "2022-03-22 20:34:04, INFO: Applying Network Cleanup 1 Lanes 1 D Part 2\n",
      "2022-03-22 20:34:04, INFO: Applying Network Cleanup 1 Lanes 1 D Part 2\n",
      "2022-03-22 20:34:04, INFO: Applying Network Cleanup 1 Lanes 1 D Part 2\n",
      "2022-03-22 20:34:04, INFO: Applying Project to Roadway Network: Network Cleanup 1 Lanes 1 D Part 2\n",
      "2022-03-22 20:34:04, INFO: Applying Project to Roadway Network: Network Cleanup 1 Lanes 1 D Part 2\n"
     ]
    },
    {
     "name": "stderr",
     "output_type": "stream",
     "text": [
      "C:\\Users\\wangs1\\AppData\\Local\\Continuum\\anaconda3\\envs\\lasso_wsp\\lib\\site-packages\\geopandas\\geodataframe.py:1351: SettingWithCopyWarning: \n",
      "A value is trying to be set on a copy of a slice from a DataFrame.\n",
      "Try using .loc[row_indexer,col_indexer] = value instead\n",
      "\n",
      "See the caveats in the documentation: https://pandas.pydata.org/pandas-docs/stable/user_guide/indexing.html#returning-a-view-versus-a-copy\n",
      "  super().__setitem__(key, value)\n"
     ]
    },
    {
     "name": "stdout",
     "output_type": "stream",
     "text": [
      "2022-03-22 20:34:08, INFO: Applying Network Cleanup 1 Lanes 1 D Part 1\n",
      "2022-03-22 20:34:08, INFO: Applying Network Cleanup 1 Lanes 1 D Part 1\n",
      "2022-03-22 20:34:08, INFO: Applying Network Cleanup 1 Lanes 1 D Part 1\n",
      "2022-03-22 20:34:08, INFO: Applying Network Cleanup 1 Lanes 1 D Part 1\n",
      "2022-03-22 20:34:08, INFO: Applying Project to Roadway Network: Network Cleanup 1 Lanes 1 D Part 1\n",
      "2022-03-22 20:34:08, INFO: Applying Project to Roadway Network: Network Cleanup 1 Lanes 1 D Part 1\n"
     ]
    },
    {
     "name": "stderr",
     "output_type": "stream",
     "text": [
      "C:\\Users\\wangs1\\AppData\\Local\\Continuum\\anaconda3\\envs\\lasso_wsp\\lib\\site-packages\\geopandas\\geodataframe.py:1351: SettingWithCopyWarning: \n",
      "A value is trying to be set on a copy of a slice from a DataFrame.\n",
      "Try using .loc[row_indexer,col_indexer] = value instead\n",
      "\n",
      "See the caveats in the documentation: https://pandas.pydata.org/pandas-docs/stable/user_guide/indexing.html#returning-a-view-versus-a-copy\n",
      "  super().__setitem__(key, value)\n"
     ]
    },
    {
     "name": "stdout",
     "output_type": "stream",
     "text": [
      "2022-03-22 20:34:17, INFO: Applying Network Cleanup 1 Lanes 1 C Part 2\n",
      "2022-03-22 20:34:17, INFO: Applying Network Cleanup 1 Lanes 1 C Part 2\n",
      "2022-03-22 20:34:17, INFO: Applying Network Cleanup 1 Lanes 1 C Part 2\n",
      "2022-03-22 20:34:17, INFO: Applying Network Cleanup 1 Lanes 1 C Part 2\n",
      "2022-03-22 20:34:17, INFO: Applying Project to Roadway Network: Network Cleanup 1 Lanes 1 C Part 2\n",
      "2022-03-22 20:34:17, INFO: Applying Project to Roadway Network: Network Cleanup 1 Lanes 1 C Part 2\n"
     ]
    },
    {
     "name": "stderr",
     "output_type": "stream",
     "text": [
      "C:\\Users\\wangs1\\AppData\\Local\\Continuum\\anaconda3\\envs\\lasso_wsp\\lib\\site-packages\\geopandas\\geodataframe.py:1351: SettingWithCopyWarning: \n",
      "A value is trying to be set on a copy of a slice from a DataFrame.\n",
      "Try using .loc[row_indexer,col_indexer] = value instead\n",
      "\n",
      "See the caveats in the documentation: https://pandas.pydata.org/pandas-docs/stable/user_guide/indexing.html#returning-a-view-versus-a-copy\n",
      "  super().__setitem__(key, value)\n"
     ]
    },
    {
     "name": "stdout",
     "output_type": "stream",
     "text": [
      "2022-03-22 20:34:20, INFO: Applying Network Cleanup 1 Lanes 1 C Part 1\n",
      "2022-03-22 20:34:20, INFO: Applying Network Cleanup 1 Lanes 1 C Part 1\n",
      "2022-03-22 20:34:20, INFO: Applying Network Cleanup 1 Lanes 1 C Part 1\n",
      "2022-03-22 20:34:20, INFO: Applying Network Cleanup 1 Lanes 1 C Part 1\n",
      "2022-03-22 20:34:20, INFO: Applying Project to Roadway Network: Network Cleanup 1 Lanes 1 C Part 1\n",
      "2022-03-22 20:34:20, INFO: Applying Project to Roadway Network: Network Cleanup 1 Lanes 1 C Part 1\n"
     ]
    },
    {
     "name": "stderr",
     "output_type": "stream",
     "text": [
      "C:\\Users\\wangs1\\AppData\\Local\\Continuum\\anaconda3\\envs\\lasso_wsp\\lib\\site-packages\\geopandas\\geodataframe.py:1351: SettingWithCopyWarning: \n",
      "A value is trying to be set on a copy of a slice from a DataFrame.\n",
      "Try using .loc[row_indexer,col_indexer] = value instead\n",
      "\n",
      "See the caveats in the documentation: https://pandas.pydata.org/pandas-docs/stable/user_guide/indexing.html#returning-a-view-versus-a-copy\n",
      "  super().__setitem__(key, value)\n"
     ]
    },
    {
     "name": "stdout",
     "output_type": "stream",
     "text": [
      "2022-03-22 20:34:29, INFO: Applying Network Cleanup 1 Lanes 1 B Part 2\n",
      "2022-03-22 20:34:29, INFO: Applying Network Cleanup 1 Lanes 1 B Part 2\n",
      "2022-03-22 20:34:29, INFO: Applying Network Cleanup 1 Lanes 1 B Part 2\n",
      "2022-03-22 20:34:29, INFO: Applying Network Cleanup 1 Lanes 1 B Part 2\n",
      "2022-03-22 20:34:29, INFO: Applying Project to Roadway Network: Network Cleanup 1 Lanes 1 B Part 2\n",
      "2022-03-22 20:34:29, INFO: Applying Project to Roadway Network: Network Cleanup 1 Lanes 1 B Part 2\n"
     ]
    },
    {
     "name": "stderr",
     "output_type": "stream",
     "text": [
      "C:\\Users\\wangs1\\AppData\\Local\\Continuum\\anaconda3\\envs\\lasso_wsp\\lib\\site-packages\\geopandas\\geodataframe.py:1351: SettingWithCopyWarning: \n",
      "A value is trying to be set on a copy of a slice from a DataFrame.\n",
      "Try using .loc[row_indexer,col_indexer] = value instead\n",
      "\n",
      "See the caveats in the documentation: https://pandas.pydata.org/pandas-docs/stable/user_guide/indexing.html#returning-a-view-versus-a-copy\n",
      "  super().__setitem__(key, value)\n"
     ]
    },
    {
     "name": "stdout",
     "output_type": "stream",
     "text": [
      "2022-03-22 20:34:35, INFO: Applying Network Cleanup 1 Lanes 1 B Part 1\n",
      "2022-03-22 20:34:35, INFO: Applying Network Cleanup 1 Lanes 1 B Part 1\n",
      "2022-03-22 20:34:35, INFO: Applying Network Cleanup 1 Lanes 1 B Part 1\n",
      "2022-03-22 20:34:35, INFO: Applying Network Cleanup 1 Lanes 1 B Part 1\n",
      "2022-03-22 20:34:35, INFO: Applying Project to Roadway Network: Network Cleanup 1 Lanes 1 B Part 1\n",
      "2022-03-22 20:34:35, INFO: Applying Project to Roadway Network: Network Cleanup 1 Lanes 1 B Part 1\n"
     ]
    },
    {
     "name": "stderr",
     "output_type": "stream",
     "text": [
      "C:\\Users\\wangs1\\AppData\\Local\\Continuum\\anaconda3\\envs\\lasso_wsp\\lib\\site-packages\\geopandas\\geodataframe.py:1351: SettingWithCopyWarning: \n",
      "A value is trying to be set on a copy of a slice from a DataFrame.\n",
      "Try using .loc[row_indexer,col_indexer] = value instead\n",
      "\n",
      "See the caveats in the documentation: https://pandas.pydata.org/pandas-docs/stable/user_guide/indexing.html#returning-a-view-versus-a-copy\n",
      "  super().__setitem__(key, value)\n"
     ]
    },
    {
     "name": "stdout",
     "output_type": "stream",
     "text": [
      "2022-03-22 20:34:44, INFO: Applying Network Cleanup 1 Lanes 1 A Part 2\n",
      "2022-03-22 20:34:44, INFO: Applying Network Cleanup 1 Lanes 1 A Part 2\n",
      "2022-03-22 20:34:44, INFO: Applying Network Cleanup 1 Lanes 1 A Part 2\n",
      "2022-03-22 20:34:44, INFO: Applying Network Cleanup 1 Lanes 1 A Part 2\n",
      "2022-03-22 20:34:44, INFO: Applying Project to Roadway Network: Network Cleanup 1 Lanes 1 A Part 2\n",
      "2022-03-22 20:34:44, INFO: Applying Project to Roadway Network: Network Cleanup 1 Lanes 1 A Part 2\n"
     ]
    },
    {
     "name": "stderr",
     "output_type": "stream",
     "text": [
      "C:\\Users\\wangs1\\AppData\\Local\\Continuum\\anaconda3\\envs\\lasso_wsp\\lib\\site-packages\\geopandas\\geodataframe.py:1351: SettingWithCopyWarning: \n",
      "A value is trying to be set on a copy of a slice from a DataFrame.\n",
      "Try using .loc[row_indexer,col_indexer] = value instead\n",
      "\n",
      "See the caveats in the documentation: https://pandas.pydata.org/pandas-docs/stable/user_guide/indexing.html#returning-a-view-versus-a-copy\n",
      "  super().__setitem__(key, value)\n"
     ]
    },
    {
     "name": "stdout",
     "output_type": "stream",
     "text": [
      "2022-03-22 20:34:49, INFO: Applying Network Cleanup 1 Lanes 1 A Part 1\n",
      "2022-03-22 20:34:49, INFO: Applying Network Cleanup 1 Lanes 1 A Part 1\n",
      "2022-03-22 20:34:49, INFO: Applying Network Cleanup 1 Lanes 1 A Part 1\n",
      "2022-03-22 20:34:49, INFO: Applying Network Cleanup 1 Lanes 1 A Part 1\n",
      "2022-03-22 20:34:49, INFO: Applying Project to Roadway Network: Network Cleanup 1 Lanes 1 A Part 1\n",
      "2022-03-22 20:34:49, INFO: Applying Project to Roadway Network: Network Cleanup 1 Lanes 1 A Part 1\n"
     ]
    },
    {
     "name": "stderr",
     "output_type": "stream",
     "text": [
      "C:\\Users\\wangs1\\AppData\\Local\\Continuum\\anaconda3\\envs\\lasso_wsp\\lib\\site-packages\\geopandas\\geodataframe.py:1351: SettingWithCopyWarning: \n",
      "A value is trying to be set on a copy of a slice from a DataFrame.\n",
      "Try using .loc[row_indexer,col_indexer] = value instead\n",
      "\n",
      "See the caveats in the documentation: https://pandas.pydata.org/pandas-docs/stable/user_guide/indexing.html#returning-a-view-versus-a-copy\n",
      "  super().__setitem__(key, value)\n"
     ]
    },
    {
     "name": "stdout",
     "output_type": "stream",
     "text": [
      "2022-03-22 20:34:59, INFO: Applying Network Cleanup 1 AsgnGrp 7\n",
      "2022-03-22 20:34:59, INFO: Applying Network Cleanup 1 AsgnGrp 7\n",
      "2022-03-22 20:34:59, INFO: Applying Network Cleanup 1 AsgnGrp 7\n",
      "2022-03-22 20:34:59, INFO: Applying Network Cleanup 1 AsgnGrp 7\n",
      "2022-03-22 20:34:59, INFO: Applying Project to Roadway Network: Network Cleanup 1 AsgnGrp 7\n",
      "2022-03-22 20:34:59, INFO: Applying Project to Roadway Network: Network Cleanup 1 AsgnGrp 7\n",
      "2022-03-22 20:34:59, INFO: Applying Network Cleanup 1 AsgnGrp 6\n",
      "2022-03-22 20:34:59, INFO: Applying Network Cleanup 1 AsgnGrp 6\n",
      "2022-03-22 20:34:59, INFO: Applying Network Cleanup 1 AsgnGrp 6\n",
      "2022-03-22 20:34:59, INFO: Applying Network Cleanup 1 AsgnGrp 6\n",
      "2022-03-22 20:34:59, INFO: Applying Project to Roadway Network: Network Cleanup 1 AsgnGrp 6\n",
      "2022-03-22 20:34:59, INFO: Applying Project to Roadway Network: Network Cleanup 1 AsgnGrp 6\n"
     ]
    },
    {
     "name": "stderr",
     "output_type": "stream",
     "text": [
      "C:\\Users\\wangs1\\AppData\\Local\\Continuum\\anaconda3\\envs\\lasso_wsp\\lib\\site-packages\\geopandas\\geodataframe.py:1351: SettingWithCopyWarning: \n",
      "A value is trying to be set on a copy of a slice from a DataFrame.\n",
      "Try using .loc[row_indexer,col_indexer] = value instead\n",
      "\n",
      "See the caveats in the documentation: https://pandas.pydata.org/pandas-docs/stable/user_guide/indexing.html#returning-a-view-versus-a-copy\n",
      "  super().__setitem__(key, value)\n",
      "C:\\Users\\wangs1\\AppData\\Local\\Continuum\\anaconda3\\envs\\lasso_wsp\\lib\\site-packages\\geopandas\\geodataframe.py:1351: SettingWithCopyWarning: \n",
      "A value is trying to be set on a copy of a slice from a DataFrame.\n",
      "Try using .loc[row_indexer,col_indexer] = value instead\n",
      "\n",
      "See the caveats in the documentation: https://pandas.pydata.org/pandas-docs/stable/user_guide/indexing.html#returning-a-view-versus-a-copy\n",
      "  super().__setitem__(key, value)\n"
     ]
    },
    {
     "name": "stdout",
     "output_type": "stream",
     "text": [
      "2022-03-22 20:34:59, INFO: Applying Network Cleanup 1 AsgnGrp 50\n",
      "2022-03-22 20:34:59, INFO: Applying Network Cleanup 1 AsgnGrp 50\n",
      "2022-03-22 20:34:59, INFO: Applying Network Cleanup 1 AsgnGrp 50\n",
      "2022-03-22 20:34:59, INFO: Applying Network Cleanup 1 AsgnGrp 50\n",
      "2022-03-22 20:34:59, INFO: Applying Project to Roadway Network: Network Cleanup 1 AsgnGrp 50\n",
      "2022-03-22 20:34:59, INFO: Applying Project to Roadway Network: Network Cleanup 1 AsgnGrp 50\n",
      "2022-03-22 20:35:00, INFO: Applying Network Cleanup 1 AsgnGrp 4\n",
      "2022-03-22 20:35:00, INFO: Applying Network Cleanup 1 AsgnGrp 4\n",
      "2022-03-22 20:35:00, INFO: Applying Network Cleanup 1 AsgnGrp 4\n",
      "2022-03-22 20:35:00, INFO: Applying Network Cleanup 1 AsgnGrp 4\n",
      "2022-03-22 20:35:00, INFO: Applying Project to Roadway Network: Network Cleanup 1 AsgnGrp 4\n",
      "2022-03-22 20:35:00, INFO: Applying Project to Roadway Network: Network Cleanup 1 AsgnGrp 4\n"
     ]
    },
    {
     "name": "stderr",
     "output_type": "stream",
     "text": [
      "C:\\Users\\wangs1\\AppData\\Local\\Continuum\\anaconda3\\envs\\lasso_wsp\\lib\\site-packages\\geopandas\\geodataframe.py:1351: SettingWithCopyWarning: \n",
      "A value is trying to be set on a copy of a slice from a DataFrame.\n",
      "Try using .loc[row_indexer,col_indexer] = value instead\n",
      "\n",
      "See the caveats in the documentation: https://pandas.pydata.org/pandas-docs/stable/user_guide/indexing.html#returning-a-view-versus-a-copy\n",
      "  super().__setitem__(key, value)\n",
      "C:\\Users\\wangs1\\AppData\\Local\\Continuum\\anaconda3\\envs\\lasso_wsp\\lib\\site-packages\\geopandas\\geodataframe.py:1351: SettingWithCopyWarning: \n",
      "A value is trying to be set on a copy of a slice from a DataFrame.\n",
      "Try using .loc[row_indexer,col_indexer] = value instead\n",
      "\n",
      "See the caveats in the documentation: https://pandas.pydata.org/pandas-docs/stable/user_guide/indexing.html#returning-a-view-versus-a-copy\n",
      "  super().__setitem__(key, value)\n"
     ]
    },
    {
     "name": "stdout",
     "output_type": "stream",
     "text": [
      "2022-03-22 20:35:01, INFO: Applying Network Cleanup 1 AsgnGrp 2\n",
      "2022-03-22 20:35:01, INFO: Applying Network Cleanup 1 AsgnGrp 2\n",
      "2022-03-22 20:35:01, INFO: Applying Network Cleanup 1 AsgnGrp 2\n",
      "2022-03-22 20:35:01, INFO: Applying Network Cleanup 1 AsgnGrp 2\n",
      "2022-03-22 20:35:01, INFO: Applying Project to Roadway Network: Network Cleanup 1 AsgnGrp 2\n",
      "2022-03-22 20:35:01, INFO: Applying Project to Roadway Network: Network Cleanup 1 AsgnGrp 2\n"
     ]
    },
    {
     "name": "stderr",
     "output_type": "stream",
     "text": [
      "C:\\Users\\wangs1\\AppData\\Local\\Continuum\\anaconda3\\envs\\lasso_wsp\\lib\\site-packages\\geopandas\\geodataframe.py:1351: SettingWithCopyWarning: \n",
      "A value is trying to be set on a copy of a slice from a DataFrame.\n",
      "Try using .loc[row_indexer,col_indexer] = value instead\n",
      "\n",
      "See the caveats in the documentation: https://pandas.pydata.org/pandas-docs/stable/user_guide/indexing.html#returning-a-view-versus-a-copy\n",
      "  super().__setitem__(key, value)\n"
     ]
    },
    {
     "name": "stdout",
     "output_type": "stream",
     "text": [
      "2022-03-22 20:35:01, INFO: Applying Network Cleanup 1 AsgnGrp 15\n",
      "2022-03-22 20:35:01, INFO: Applying Network Cleanup 1 AsgnGrp 15\n",
      "2022-03-22 20:35:01, INFO: Applying Network Cleanup 1 AsgnGrp 15\n",
      "2022-03-22 20:35:01, INFO: Applying Network Cleanup 1 AsgnGrp 15\n",
      "2022-03-22 20:35:01, INFO: Applying Project to Roadway Network: Network Cleanup 1 AsgnGrp 15\n",
      "2022-03-22 20:35:01, INFO: Applying Project to Roadway Network: Network Cleanup 1 AsgnGrp 15\n"
     ]
    },
    {
     "name": "stderr",
     "output_type": "stream",
     "text": [
      "C:\\Users\\wangs1\\AppData\\Local\\Continuum\\anaconda3\\envs\\lasso_wsp\\lib\\site-packages\\geopandas\\geodataframe.py:1351: SettingWithCopyWarning: \n",
      "A value is trying to be set on a copy of a slice from a DataFrame.\n",
      "Try using .loc[row_indexer,col_indexer] = value instead\n",
      "\n",
      "See the caveats in the documentation: https://pandas.pydata.org/pandas-docs/stable/user_guide/indexing.html#returning-a-view-versus-a-copy\n",
      "  super().__setitem__(key, value)\n"
     ]
    },
    {
     "name": "stdout",
     "output_type": "stream",
     "text": [
      "2022-03-22 20:35:03, INFO: Applying Network Cleanup 1 AsgnGrp 1\n",
      "2022-03-22 20:35:03, INFO: Applying Network Cleanup 1 AsgnGrp 1\n",
      "2022-03-22 20:35:03, INFO: Applying Network Cleanup 1 AsgnGrp 1\n",
      "2022-03-22 20:35:03, INFO: Applying Network Cleanup 1 AsgnGrp 1\n",
      "2022-03-22 20:35:03, INFO: Applying Project to Roadway Network: Network Cleanup 1 AsgnGrp 1\n",
      "2022-03-22 20:35:03, INFO: Applying Project to Roadway Network: Network Cleanup 1 AsgnGrp 1\n"
     ]
    },
    {
     "name": "stderr",
     "output_type": "stream",
     "text": [
      "C:\\Users\\wangs1\\AppData\\Local\\Continuum\\anaconda3\\envs\\lasso_wsp\\lib\\site-packages\\geopandas\\geodataframe.py:1351: SettingWithCopyWarning: \n",
      "A value is trying to be set on a copy of a slice from a DataFrame.\n",
      "Try using .loc[row_indexer,col_indexer] = value instead\n",
      "\n",
      "See the caveats in the documentation: https://pandas.pydata.org/pandas-docs/stable/user_guide/indexing.html#returning-a-view-versus-a-copy\n",
      "  super().__setitem__(key, value)\n",
      "C:\\Users\\wangs1\\AppData\\Local\\Continuum\\anaconda3\\envs\\lasso_wsp\\lib\\site-packages\\geopandas\\geodataframe.py:1351: SettingWithCopyWarning: \n",
      "A value is trying to be set on a copy of a slice from a DataFrame.\n",
      "Try using .loc[row_indexer,col_indexer] = value instead\n",
      "\n",
      "See the caveats in the documentation: https://pandas.pydata.org/pandas-docs/stable/user_guide/indexing.html#returning-a-view-versus-a-copy\n",
      "  super().__setitem__(key, value)\n"
     ]
    }
   ],
   "source": [
    "v_02_scenario.apply_all_projects()"
   ]
  },
  {
   "cell_type": "code",
   "execution_count": 10,
   "metadata": {},
   "outputs": [
    {
     "data": {
      "text/plain": [
       "['Network Cleanup 1 Lanes 7',\n",
       " 'Network Cleanup 1 Lanes 6',\n",
       " 'Network Cleanup 1 Lanes 5',\n",
       " 'Network Cleanup 1 Lanes 4',\n",
       " 'Network Cleanup 1 Lanes 3',\n",
       " 'Network Cleanup 1 Lanes 2E',\n",
       " 'Network Cleanup 1 Lanes 2D Part 2',\n",
       " 'Network Cleanup 1 Lanes 2D Part 1',\n",
       " 'Network Cleanup 1 Lanes 2C Part 2',\n",
       " 'Network Cleanup 1 Lanes 2C Part 1',\n",
       " 'Network Cleanup 1 Lanes 2B',\n",
       " 'Network Cleanup 1 Lanes 2A',\n",
       " 'Network Cleanup 1 Lanes 1 H',\n",
       " 'Network Cleanup 1 Lanes 1 G',\n",
       " 'Network Cleanup 1 Lanes 1 F Part 2',\n",
       " 'Network Cleanup 1 Lanes 1 F Part 1',\n",
       " 'Network Cleanup 1 Lanes 1 E Part 2',\n",
       " 'Network Cleanup 1 Lanes 1 E Part 1',\n",
       " 'Network Cleanup 1 Lanes 1 D Part 2',\n",
       " 'Network Cleanup 1 Lanes 1 D Part 1',\n",
       " 'Network Cleanup 1 Lanes 1 C Part 2',\n",
       " 'Network Cleanup 1 Lanes 1 C Part 1',\n",
       " 'Network Cleanup 1 Lanes 1 B Part 2',\n",
       " 'Network Cleanup 1 Lanes 1 B Part 1',\n",
       " 'Network Cleanup 1 Lanes 1 A Part 2',\n",
       " 'Network Cleanup 1 Lanes 1 A Part 1',\n",
       " 'Network Cleanup 1 AsgnGrp 7',\n",
       " 'Network Cleanup 1 AsgnGrp 6',\n",
       " 'Network Cleanup 1 AsgnGrp 50',\n",
       " 'Network Cleanup 1 AsgnGrp 4',\n",
       " 'Network Cleanup 1 AsgnGrp 2',\n",
       " 'Network Cleanup 1 AsgnGrp 15',\n",
       " 'Network Cleanup 1 AsgnGrp 1']"
      ]
     },
     "execution_count": 10,
     "metadata": {},
     "output_type": "execute_result"
    }
   ],
   "source": [
    "v_02_scenario.applied_projects"
   ]
  },
  {
   "cell_type": "markdown",
   "metadata": {},
   "source": [
    "### Make Travel Model Network"
   ]
  },
  {
   "cell_type": "code",
   "execution_count": 11,
   "metadata": {},
   "outputs": [
    {
     "name": "stdout",
     "output_type": "stream",
     "text": [
      "2022-03-22 20:36:31, INFO: Lasso base directory set as: Z:/Data/Users/Sijia/Met_Council/github/client_met_council_wrangler_utilities\n",
      "2022-03-22 20:36:31, INFO: Lasso base directory set as: Z:/Data/Users/Sijia/Met_Council/github/client_met_council_wrangler_utilities\n"
     ]
    }
   ],
   "source": [
    "m_net = ModelRoadwayNetwork.from_RoadwayNetwork(\n",
    "    roadway_network_object = v_02_scenario.road_net, \n",
    "    parameters = parameters)"
   ]
  },
  {
   "cell_type": "code",
   "execution_count": 15,
   "metadata": {},
   "outputs": [],
   "source": [
    "m_net.links_df['name'] = m_net.links_df['name'].apply(lambda x: util.shorten_name(x))"
   ]
  },
  {
   "cell_type": "code",
   "execution_count": 16,
   "metadata": {
    "scrolled": true
   },
   "outputs": [
    {
     "name": "stdout",
     "output_type": "stream",
     "text": [
      "2022-03-22 20:38:08, INFO: Renaming roadway attributes to be consistent with what metcouncil's model is expecting\n",
      "2022-03-22 20:38:08, INFO: Renaming roadway attributes to be consistent with what metcouncil's model is expecting\n",
      "2022-03-22 20:38:08, INFO: Creating managed lane network.\n",
      "2022-03-22 20:38:08, INFO: Creating managed lane network.\n",
      "2022-03-22 20:38:08, INFO: Creating network with duplicated managed lanes\n",
      "2022-03-22 20:38:08, INFO: Creating network with duplicated managed lanes\n"
     ]
    },
    {
     "name": "stderr",
     "output_type": "stream",
     "text": [
      "C:\\Users\\wangs1\\AppData\\Local\\Continuum\\anaconda3\\envs\\lasso_wsp\\lib\\site-packages\\geopandas\\geodataframe.py:1351: SettingWithCopyWarning: \n",
      "A value is trying to be set on a copy of a slice from a DataFrame.\n",
      "Try using .loc[row_indexer,col_indexer] = value instead\n",
      "\n",
      "See the caveats in the documentation: https://pandas.pydata.org/pandas-docs/stable/user_guide/indexing.html#returning-a-view-versus-a-copy\n",
      "  super().__setitem__(key, value)\n",
      "C:\\Users\\wangs1\\AppData\\Local\\Continuum\\anaconda3\\envs\\lasso_wsp\\lib\\site-packages\\geopandas\\geodataframe.py:1350: UserWarning: Geometry column does not contain geometry.\n",
      "  warnings.warn(\"Geometry column does not contain geometry.\")\n",
      "C:\\Users\\wangs1\\AppData\\Local\\Continuum\\anaconda3\\envs\\lasso_wsp\\lib\\site-packages\\pandas\\core\\indexing.py:1773: SettingWithCopyWarning: \n",
      "A value is trying to be set on a copy of a slice from a DataFrame.\n",
      "Try using .loc[row_indexer,col_indexer] = value instead\n",
      "\n",
      "See the caveats in the documentation: https://pandas.pydata.org/pandas-docs/stable/user_guide/indexing.html#returning-a-view-versus-a-copy\n",
      "  self._setitem_single_column(ilocs[0], value, pi)\n",
      "C:\\Users\\wangs1\\AppData\\Local\\Continuum\\anaconda3\\envs\\lasso_wsp\\lib\\site-packages\\pandas\\core\\dtypes\\cast.py:118: ShapelyDeprecationWarning: The array interface is deprecated and will no longer work in Shapely 2.0. Convert the '.coords' to a numpy array instead.\n",
      "  arr = construct_1d_object_array_from_listlike(values)\n",
      "C:\\Users\\wangs1\\AppData\\Local\\Continuum\\anaconda3\\envs\\lasso_wsp\\lib\\site-packages\\pandas\\core\\dtypes\\cast.py:118: ShapelyDeprecationWarning: The array interface is deprecated and will no longer work in Shapely 2.0. Convert the '.coords' to a numpy array instead.\n",
      "  arr = construct_1d_object_array_from_listlike(values)\n",
      "C:\\Users\\wangs1\\AppData\\Local\\Continuum\\anaconda3\\envs\\lasso_wsp\\lib\\site-packages\\pandas\\core\\dtypes\\cast.py:118: ShapelyDeprecationWarning: The array interface is deprecated and will no longer work in Shapely 2.0. Convert the '.coords' to a numpy array instead.\n",
      "  arr = construct_1d_object_array_from_listlike(values)\n",
      "C:\\Users\\wangs1\\AppData\\Local\\Continuum\\anaconda3\\envs\\lasso_wsp\\lib\\site-packages\\pandas\\core\\dtypes\\cast.py:118: ShapelyDeprecationWarning: The array interface is deprecated and will no longer work in Shapely 2.0. Convert the '.coords' to a numpy array instead.\n",
      "  arr = construct_1d_object_array_from_listlike(values)\n",
      "C:\\Users\\wangs1\\AppData\\Local\\Continuum\\anaconda3\\envs\\lasso_wsp\\lib\\site-packages\\pandas\\core\\dtypes\\cast.py:118: ShapelyDeprecationWarning: The array interface is deprecated and will no longer work in Shapely 2.0. Convert the '.coords' to a numpy array instead.\n",
      "  arr = construct_1d_object_array_from_listlike(values)\n",
      "C:\\Users\\wangs1\\AppData\\Local\\Continuum\\anaconda3\\envs\\lasso_wsp\\lib\\site-packages\\pandas\\core\\dtypes\\cast.py:118: ShapelyDeprecationWarning: The array interface is deprecated and will no longer work in Shapely 2.0. Convert the '.coords' to a numpy array instead.\n",
      "  arr = construct_1d_object_array_from_listlike(values)\n",
      "C:\\Users\\wangs1\\AppData\\Local\\Continuum\\anaconda3\\envs\\lasso_wsp\\lib\\site-packages\\pandas\\core\\dtypes\\cast.py:118: ShapelyDeprecationWarning: The array interface is deprecated and will no longer work in Shapely 2.0. Convert the '.coords' to a numpy array instead.\n",
      "  arr = construct_1d_object_array_from_listlike(values)\n",
      "C:\\Users\\wangs1\\AppData\\Local\\Continuum\\anaconda3\\envs\\lasso_wsp\\lib\\site-packages\\pandas\\core\\dtypes\\cast.py:118: ShapelyDeprecationWarning: The array interface is deprecated and will no longer work in Shapely 2.0. Convert the '.coords' to a numpy array instead.\n",
      "  arr = construct_1d_object_array_from_listlike(values)\n"
     ]
    },
    {
     "name": "stdout",
     "output_type": "stream",
     "text": [
      "2022-03-22 20:39:01, INFO: Creating calculated roadway variables.\n",
      "2022-03-22 20:39:01, INFO: Creating calculated roadway variables.\n",
      "2022-03-22 20:39:01, INFO: Area Type Variable 'area_type' already in network. Returning without overwriting.\n",
      "2022-03-22 20:39:01, INFO: Area Type Variable 'area_type' already in network. Returning without overwriting.\n",
      "2022-03-22 20:39:01, INFO: Overwriting existing County Variable 'county' already in network\n",
      "2022-03-22 20:39:01, INFO: Overwriting existing County Variable 'county' already in network\n",
      "2022-03-22 20:39:01, INFO: Adding roadway network variable for county using a spatial join with: Z:/Data/Users/Sijia/Met_Council/github/client_met_council_wrangler_utilities\\metcouncil_data\\county\\cb_2017_us_county_5m.shp\n",
      "2022-03-22 20:39:01, INFO: Adding roadway network variable for county using a spatial join with: Z:/Data/Users/Sijia/Met_Council/github/client_met_council_wrangler_utilities\\metcouncil_data\\county\\cb_2017_us_county_5m.shp\n"
     ]
    },
    {
     "name": "stderr",
     "output_type": "stream",
     "text": [
      "z:\\data\\users\\sijia\\met_council\\github\\client_met_council_wrangler_utilities\\lasso\\roadway.py:288: UserWarning: Geometry is in a geographic CRS. Results from 'centroid' are likely incorrect. Use 'GeoSeries.to_crs()' to re-project geometries to a projected CRS before this operation.\n",
      "\n",
      "  centroids_gdf[\"geometry\"] = centroids_gdf[\"geometry\"].centroid\n",
      "z:\\data\\users\\sijia\\met_council\\github\\client_met_council_wrangler_utilities\\lasso\\roadway.py:292: UserWarning: CRS mismatch between the CRS of left geometries and the CRS of right geometries.\n",
      "Use `to_crs()` to reproject one of the input geometries to match the CRS of the other.\n",
      "\n",
      "Left CRS: EPSG:4326\n",
      "Right CRS: EPSG:4269\n",
      "\n",
      "  joined_gdf = gpd.sjoin(centroids_gdf, county_gdf, how=\"left\", predicate=\"intersects\")\n",
      "z:\\data\\users\\sijia\\met_council\\github\\client_met_council_wrangler_utilities\\lasso\\roadway.py:304: UserWarning: CRS mismatch between the CRS of left geometries and the CRS of right geometries.\n",
      "Use `to_crs()` to reproject one of the input geometries to match the CRS of the other.\n",
      "\n",
      "Left CRS: EPSG:4326\n",
      "Right CRS: EPSG:4269\n",
      "\n",
      "  joined_gdf = gpd.sjoin(nodes_gdf, county_gdf, how=\"left\", predicate=\"intersects\")\n"
     ]
    },
    {
     "name": "stdout",
     "output_type": "stream",
     "text": [
      "2022-03-22 20:41:54, INFO: Finished Calculating county variable: county\n",
      "2022-03-22 20:41:54, INFO: Finished Calculating county variable: county\n",
      "2022-03-22 20:41:58, INFO: Calculating MPO as roadway network variable: mpo\n",
      "2022-03-22 20:41:58, INFO: Calculating MPO as roadway network variable: mpo\n",
      "2022-03-22 20:41:58, INFO: Finished calculating MPO variable: mpo\n",
      "2022-03-22 20:41:58, INFO: Finished calculating MPO variable: mpo\n",
      "2022-03-22 20:41:58, INFO: Adding Counts\n",
      "2022-03-22 20:41:58, INFO: Adding Counts\n",
      "2022-03-22 20:41:58, INFO: Adding Variable AADT using Shared Streets Reference from Z:/Data/Users/Sijia/Met_Council/github/client_met_council_wrangler_utilities\\metcouncil_data\\count_mn\\mn_count_ShSt_API_match.csv\n",
      "2022-03-22 20:41:58, INFO: Adding Variable AADT using Shared Streets Reference from Z:/Data/Users/Sijia/Met_Council/github/client_met_council_wrangler_utilities\\metcouncil_data\\count_mn\\mn_count_ShSt_API_match.csv\n",
      "2022-03-22 20:42:09, INFO: Added variable: AADT using Shared Streets Reference\n",
      "2022-03-22 20:42:09, INFO: Added variable: AADT using Shared Streets Reference\n",
      "2022-03-22 20:42:10, INFO: Adding Variable AADT using Shared Streets Reference from Z:/Data/Users/Sijia/Met_Council/github/client_met_council_wrangler_utilities\\metcouncil_data\\Wisconsin_Lanes_Counts_Median\\wi_count_ShSt_API_match.csv\n",
      "2022-03-22 20:42:10, INFO: Adding Variable AADT using Shared Streets Reference from Z:/Data/Users/Sijia/Met_Council/github/client_met_council_wrangler_utilities\\metcouncil_data\\Wisconsin_Lanes_Counts_Median\\wi_count_ShSt_API_match.csv\n",
      "2022-03-22 20:42:18, INFO: Added variable: AADT using Shared Streets Reference\n",
      "2022-03-22 20:42:18, INFO: Added variable: AADT using Shared Streets Reference\n",
      "2022-03-22 20:42:19, INFO: Finished adding counts variable: AADT\n",
      "2022-03-22 20:42:19, INFO: Finished adding counts variable: AADT\n",
      "2022-03-22 20:42:19, INFO: Finished creating ML lanes variable: ML_lanes\n",
      "2022-03-22 20:42:19, INFO: Finished creating ML lanes variable: ML_lanes\n",
      "2022-03-22 20:42:19, INFO: Hov corridor Variable 'segment_id' already in network. Returning without overwriting.\n",
      "2022-03-22 20:42:19, INFO: Hov corridor Variable 'segment_id' already in network. Returning without overwriting.\n",
      "2022-03-22 20:42:19, INFO: Managed Variable 'managed' already in network. Returning without overwriting.\n",
      "2022-03-22 20:42:19, INFO: Managed Variable 'managed' already in network. Returning without overwriting.\n",
      "2022-03-22 20:42:19, INFO: Overwriting existing distance Variable 'distance' already in network\n",
      "2022-03-22 20:42:19, INFO: Overwriting existing distance Variable 'distance' already in network\n",
      "2022-03-22 20:43:05, INFO: Calculating distance for all links\n",
      "2022-03-22 20:43:05, INFO: Calculating distance for all links\n",
      "2022-03-22 20:43:12, INFO: Filling nan for network from network wrangler\n",
      "2022-03-22 20:43:12, INFO: Filling nan for network from network wrangler\n",
      "2022-03-22 20:43:30, INFO: Splitting variables by time period and category\n",
      "2022-03-22 20:43:30, INFO: Splitting variables by time period and category\n",
      "2022-03-22 20:43:30, WARNING: Specified variable to split: trn_priority not in network variables: Index(['index', 'shstReferenceId', 'id', 'shstGeometryId',\n",
      "       'fromIntersectionId', 'toIntersectionId', 'u', 'v', 'nodeIds', 'wayId',\n",
      "       'roadClass', 'oneWay', 'roundabout', 'link', 'oneway', 'ref', 'name',\n",
      "       'highway', 'service', 'width', 'maxspeed', 'junction', 'bridge',\n",
      "       'tunnel', 'landuse', 'area', 'key', 'forward', 'roadway',\n",
      "       'drive_access', 'walk_access', 'bike_access', 'county', 'length',\n",
      "       'model_link_id', 'A', 'B', 'locationReferences', 'rail_only',\n",
      "       'geometry', 'centroidconnect', 'lanes', 'bus_only', 'assign_group',\n",
      "       'roadway_class', 'area_type', 'ramp_flag', 'managed', 'segment_id',\n",
      "       'price', 'distance', 'mpo', 'AADT', 'count_AM', 'count_MD', 'count_PM',\n",
      "       'count_NT', 'count_daily', 'count_year'],\n",
      "      dtype='object'). Returning 0.\n",
      "2022-03-22 20:43:30, WARNING: Specified variable to split: trn_priority not in network variables: Index(['index', 'shstReferenceId', 'id', 'shstGeometryId',\n",
      "       'fromIntersectionId', 'toIntersectionId', 'u', 'v', 'nodeIds', 'wayId',\n",
      "       'roadClass', 'oneWay', 'roundabout', 'link', 'oneway', 'ref', 'name',\n",
      "       'highway', 'service', 'width', 'maxspeed', 'junction', 'bridge',\n",
      "       'tunnel', 'landuse', 'area', 'key', 'forward', 'roadway',\n",
      "       'drive_access', 'walk_access', 'bike_access', 'county', 'length',\n",
      "       'model_link_id', 'A', 'B', 'locationReferences', 'rail_only',\n",
      "       'geometry', 'centroidconnect', 'lanes', 'bus_only', 'assign_group',\n",
      "       'roadway_class', 'area_type', 'ramp_flag', 'managed', 'segment_id',\n",
      "       'price', 'distance', 'mpo', 'AADT', 'count_AM', 'count_MD', 'count_PM',\n",
      "       'count_NT', 'count_daily', 'count_year'],\n",
      "      dtype='object'). Returning 0.\n",
      "2022-03-22 20:43:30, WARNING: Specified variable to split: ttime_assert not in network variables: Index(['index', 'shstReferenceId', 'id', 'shstGeometryId',\n",
      "       'fromIntersectionId', 'toIntersectionId', 'u', 'v', 'nodeIds', 'wayId',\n",
      "       'roadClass', 'oneWay', 'roundabout', 'link', 'oneway', 'ref', 'name',\n",
      "       'highway', 'service', 'width', 'maxspeed', 'junction', 'bridge',\n",
      "       'tunnel', 'landuse', 'area', 'key', 'forward', 'roadway',\n",
      "       'drive_access', 'walk_access', 'bike_access', 'county', 'length',\n",
      "       'model_link_id', 'A', 'B', 'locationReferences', 'rail_only',\n",
      "       'geometry', 'centroidconnect', 'lanes', 'bus_only', 'assign_group',\n",
      "       'roadway_class', 'area_type', 'ramp_flag', 'managed', 'segment_id',\n",
      "       'price', 'distance', 'mpo', 'AADT', 'count_AM', 'count_MD', 'count_PM',\n",
      "       'count_NT', 'count_daily', 'count_year', 'trn_priority_AM',\n",
      "       'trn_priority_MD', 'trn_priority_PM', 'trn_priority_NT'],\n",
      "      dtype='object'). Returning 0.\n",
      "2022-03-22 20:43:30, WARNING: Specified variable to split: ttime_assert not in network variables: Index(['index', 'shstReferenceId', 'id', 'shstGeometryId',\n",
      "       'fromIntersectionId', 'toIntersectionId', 'u', 'v', 'nodeIds', 'wayId',\n",
      "       'roadClass', 'oneWay', 'roundabout', 'link', 'oneway', 'ref', 'name',\n",
      "       'highway', 'service', 'width', 'maxspeed', 'junction', 'bridge',\n",
      "       'tunnel', 'landuse', 'area', 'key', 'forward', 'roadway',\n",
      "       'drive_access', 'walk_access', 'bike_access', 'county', 'length',\n",
      "       'model_link_id', 'A', 'B', 'locationReferences', 'rail_only',\n",
      "       'geometry', 'centroidconnect', 'lanes', 'bus_only', 'assign_group',\n",
      "       'roadway_class', 'area_type', 'ramp_flag', 'managed', 'segment_id',\n",
      "       'price', 'distance', 'mpo', 'AADT', 'count_AM', 'count_MD', 'count_PM',\n",
      "       'count_NT', 'count_daily', 'count_year', 'trn_priority_AM',\n",
      "       'trn_priority_MD', 'trn_priority_PM', 'trn_priority_NT'],\n",
      "      dtype='object'). Returning 0.\n",
      "2022-03-22 20:43:33, WARNING: Specified variable to split: ML_lanes not in network variables: Index(['index', 'shstReferenceId', 'id', 'shstGeometryId',\n",
      "       'fromIntersectionId', 'toIntersectionId', 'u', 'v', 'nodeIds', 'wayId',\n",
      "       'roadClass', 'oneWay', 'roundabout', 'link', 'oneway', 'ref', 'name',\n",
      "       'highway', 'service', 'width', 'maxspeed', 'junction', 'bridge',\n",
      "       'tunnel', 'landuse', 'area', 'key', 'forward', 'roadway',\n",
      "       'drive_access', 'walk_access', 'bike_access', 'county', 'length',\n",
      "       'model_link_id', 'A', 'B', 'locationReferences', 'rail_only',\n",
      "       'geometry', 'centroidconnect', 'lanes', 'bus_only', 'assign_group',\n",
      "       'roadway_class', 'area_type', 'ramp_flag', 'managed', 'segment_id',\n",
      "       'price', 'distance', 'mpo', 'AADT', 'count_AM', 'count_MD', 'count_PM',\n",
      "       'count_NT', 'count_daily', 'count_year', 'trn_priority_AM',\n",
      "       'trn_priority_MD', 'trn_priority_PM', 'trn_priority_NT',\n",
      "       'ttime_assert_AM', 'ttime_assert_MD', 'ttime_assert_PM',\n",
      "       'ttime_assert_NT', 'lanes_AM', 'lanes_MD', 'lanes_PM', 'lanes_NT'],\n",
      "      dtype='object'). Returning 0.\n",
      "2022-03-22 20:43:33, WARNING: Specified variable to split: ML_lanes not in network variables: Index(['index', 'shstReferenceId', 'id', 'shstGeometryId',\n",
      "       'fromIntersectionId', 'toIntersectionId', 'u', 'v', 'nodeIds', 'wayId',\n",
      "       'roadClass', 'oneWay', 'roundabout', 'link', 'oneway', 'ref', 'name',\n",
      "       'highway', 'service', 'width', 'maxspeed', 'junction', 'bridge',\n",
      "       'tunnel', 'landuse', 'area', 'key', 'forward', 'roadway',\n",
      "       'drive_access', 'walk_access', 'bike_access', 'county', 'length',\n",
      "       'model_link_id', 'A', 'B', 'locationReferences', 'rail_only',\n",
      "       'geometry', 'centroidconnect', 'lanes', 'bus_only', 'assign_group',\n",
      "       'roadway_class', 'area_type', 'ramp_flag', 'managed', 'segment_id',\n",
      "       'price', 'distance', 'mpo', 'AADT', 'count_AM', 'count_MD', 'count_PM',\n",
      "       'count_NT', 'count_daily', 'count_year', 'trn_priority_AM',\n",
      "       'trn_priority_MD', 'trn_priority_PM', 'trn_priority_NT',\n",
      "       'ttime_assert_AM', 'ttime_assert_MD', 'ttime_assert_PM',\n",
      "       'ttime_assert_NT', 'lanes_AM', 'lanes_MD', 'lanes_PM', 'lanes_NT'],\n",
      "      dtype='object'). Returning 0.\n"
     ]
    },
    {
     "name": "stdout",
     "output_type": "stream",
     "text": [
      "CAT: sov ['sov']\n",
      "CAT: sov ['sov']\n",
      "CAT: sov ['sov']\n",
      "CAT: sov ['sov']\n",
      "CAT: sov ['sov']\n",
      "CAT: sov ['sov']\n",
      "CAT: sov ['sov']\n",
      "CAT: hov2 ['sov']\n",
      "CAT: default ['sov']\n",
      "CAT: sov ['sov']\n",
      "CAT: hov2 ['sov']\n",
      "CAT: default ['sov']\n",
      "CAT: sov ['sov']\n",
      "CAT: hov2 ['sov']\n",
      "CAT: default ['sov']\n",
      "CAT: sov ['sov']\n",
      "CAT: hov2 ['sov']\n",
      "CAT: default ['sov']\n",
      "CAT: sov ['sov']\n",
      "CAT: hov2 ['sov']\n",
      "CAT: default ['sov']\n",
      "CAT: sov ['sov']\n",
      "CAT: hov2 ['sov']\n",
      "CAT: default ['sov']\n",
      "CAT: sov ['sov']\n",
      "CAT: hov2 ['sov']\n",
      "CAT: default ['sov']\n",
      "CAT: sov ['sov']\n",
      "CAT: hov3 ['sov']\n",
      "CAT: hov2 ['sov']\n",
      "CAT: default ['sov']\n",
      "CAT: sov ['sov']\n",
      "CAT: hov3 ['sov']\n",
      "CAT: hov2 ['sov']\n",
      "CAT: default ['sov']\n",
      "CAT: sov ['sov']\n",
      "CAT: hov3 ['sov']\n",
      "CAT: hov2 ['sov']\n",
      "CAT: default ['sov']\n",
      "CAT: sov ['sov']\n",
      "CAT: hov3 ['sov']\n",
      "CAT: hov2 ['sov']\n",
      "CAT: default ['sov']\n",
      "CAT: sov ['sov']\n",
      "CAT: hov3 ['sov']\n",
      "CAT: hov2 ['sov']\n",
      "CAT: default ['sov']\n",
      "CAT: sov ['sov']\n",
      "CAT: hov3 ['sov']\n",
      "CAT: hov2 ['sov']\n",
      "CAT: default ['sov']\n",
      "CAT: sov ['sov']\n",
      "CAT: hov3 ['sov']\n",
      "CAT: hov2 ['sov']\n",
      "CAT: default ['sov']\n",
      "CAT: sov ['sov']\n",
      "CAT: trk ['sov']\n",
      "CAT: sov ['sov']\n",
      "CAT: trk ['sov']\n",
      "CAT: sov ['sov']\n",
      "CAT: trk ['sov']\n",
      "CAT: sov ['sov']\n",
      "CAT: trk ['sov']\n",
      "CAT: sov ['sov']\n",
      "CAT: trk ['sov']\n",
      "CAT: sov ['sov']\n",
      "CAT: trk ['sov']\n",
      "CAT: sov ['sov']\n",
      "CAT: trk ['sov']\n",
      "CAT: sov ['sov']\n",
      "CAT: sov ['sov']\n",
      "CAT: sov ['sov']\n",
      "CAT: sov ['sov']\n",
      "CAT: sov ['sov']\n",
      "CAT: sov ['sov']\n",
      "CAT: sov ['sov']\n",
      "CAT: sov ['sov']\n",
      "CAT: hov2 ['sov']\n",
      "CAT: default ['sov']\n",
      "CAT: sov ['sov']\n",
      "CAT: hov2 ['sov']\n",
      "CAT: default ['sov']\n",
      "CAT: sov ['sov']\n",
      "CAT: hov2 ['sov']\n",
      "CAT: default ['sov']\n",
      "CAT: sov ['sov']\n",
      "CAT: hov2 ['sov']\n",
      "CAT: default ['sov']\n",
      "CAT: sov ['sov']\n",
      "CAT: hov2 ['sov']\n",
      "CAT: default ['sov']\n",
      "CAT: sov ['sov']\n",
      "CAT: hov2 ['sov']\n",
      "CAT: default ['sov']\n",
      "CAT: sov ['sov']\n",
      "CAT: hov2 ['sov']\n",
      "CAT: default ['sov']\n",
      "CAT: sov ['sov']\n",
      "CAT: hov3 ['sov']\n",
      "CAT: hov2 ['sov']\n",
      "CAT: default ['sov']\n",
      "CAT: sov ['sov']\n",
      "CAT: hov3 ['sov']\n",
      "CAT: hov2 ['sov']\n",
      "CAT: default ['sov']\n",
      "CAT: sov ['sov']\n",
      "CAT: hov3 ['sov']\n",
      "CAT: hov2 ['sov']\n",
      "CAT: default ['sov']\n",
      "CAT: sov ['sov']\n",
      "CAT: hov3 ['sov']\n",
      "CAT: hov2 ['sov']\n",
      "CAT: default ['sov']\n",
      "CAT: sov ['sov']\n",
      "CAT: hov3 ['sov']\n",
      "CAT: hov2 ['sov']\n",
      "CAT: default ['sov']\n",
      "CAT: sov ['sov']\n",
      "CAT: hov3 ['sov']\n",
      "CAT: hov2 ['sov']\n",
      "CAT: default ['sov']\n",
      "CAT: sov ['sov']\n",
      "CAT: hov3 ['sov']\n",
      "CAT: hov2 ['sov']\n",
      "CAT: default ['sov']\n",
      "CAT: sov ['sov']\n",
      "CAT: trk ['sov']\n",
      "CAT: sov ['sov']\n",
      "CAT: trk ['sov']\n",
      "CAT: sov ['sov']\n",
      "CAT: trk ['sov']\n",
      "CAT: sov ['sov']\n",
      "CAT: trk ['sov']\n",
      "CAT: sov ['sov']\n",
      "CAT: trk ['sov']\n",
      "CAT: sov ['sov']\n",
      "CAT: trk ['sov']\n",
      "CAT: sov ['sov']\n",
      "CAT: trk ['sov']\n",
      "CAT: sov ['sov']\n",
      "2022-03-22 20:43:48, WARNING: Specified variable to split: access not in network variables: Index(['index', 'shstReferenceId', 'id', 'shstGeometryId',\n",
      "       'fromIntersectionId', 'toIntersectionId', 'u', 'v', 'nodeIds', 'wayId',\n",
      "       'roadClass', 'oneWay', 'roundabout', 'link', 'oneway', 'ref', 'name',\n",
      "       'highway', 'service', 'width', 'maxspeed', 'junction', 'bridge',\n",
      "       'tunnel', 'landuse', 'area', 'key', 'forward', 'roadway',\n",
      "       'drive_access', 'walk_access', 'bike_access', 'county', 'length',\n",
      "       'model_link_id', 'A', 'B', 'locationReferences', 'rail_only',\n",
      "       'geometry', 'centroidconnect', 'lanes', 'bus_only', 'assign_group',\n",
      "       'roadway_class', 'area_type', 'ramp_flag', 'managed', 'segment_id',\n",
      "       'price', 'distance', 'mpo', 'AADT', 'count_AM', 'count_MD', 'count_PM',\n",
      "       'count_NT', 'count_daily', 'count_year', 'trn_priority_AM',\n",
      "       'trn_priority_MD', 'trn_priority_PM', 'trn_priority_NT',\n",
      "       'ttime_assert_AM', 'ttime_assert_MD', 'ttime_assert_PM',\n",
      "       'ttime_assert_NT', 'lanes_AM', 'lanes_MD', 'lanes_PM', 'lanes_NT',\n",
      "       'ML_lanes_AM', 'ML_lanes_MD', 'ML_lanes_PM', 'ML_lanes_NT',\n",
      "       'price_sov_AM', 'price_hov2_AM', 'price_hov3_AM', 'price_truck_AM',\n",
      "       'price_sov_MD', 'price_hov2_MD', 'price_hov3_MD', 'price_truck_MD',\n",
      "       'price_sov_PM', 'price_hov2_PM', 'price_hov3_PM', 'price_truck_PM',\n",
      "       'price_sov_NT', 'price_hov2_NT', 'price_hov3_NT', 'price_truck_NT'],\n",
      "      dtype='object'). Returning 0.\n",
      "2022-03-22 20:43:48, WARNING: Specified variable to split: access not in network variables: Index(['index', 'shstReferenceId', 'id', 'shstGeometryId',\n",
      "       'fromIntersectionId', 'toIntersectionId', 'u', 'v', 'nodeIds', 'wayId',\n",
      "       'roadClass', 'oneWay', 'roundabout', 'link', 'oneway', 'ref', 'name',\n",
      "       'highway', 'service', 'width', 'maxspeed', 'junction', 'bridge',\n",
      "       'tunnel', 'landuse', 'area', 'key', 'forward', 'roadway',\n",
      "       'drive_access', 'walk_access', 'bike_access', 'county', 'length',\n",
      "       'model_link_id', 'A', 'B', 'locationReferences', 'rail_only',\n",
      "       'geometry', 'centroidconnect', 'lanes', 'bus_only', 'assign_group',\n",
      "       'roadway_class', 'area_type', 'ramp_flag', 'managed', 'segment_id',\n",
      "       'price', 'distance', 'mpo', 'AADT', 'count_AM', 'count_MD', 'count_PM',\n",
      "       'count_NT', 'count_daily', 'count_year', 'trn_priority_AM',\n",
      "       'trn_priority_MD', 'trn_priority_PM', 'trn_priority_NT',\n",
      "       'ttime_assert_AM', 'ttime_assert_MD', 'ttime_assert_PM',\n",
      "       'ttime_assert_NT', 'lanes_AM', 'lanes_MD', 'lanes_PM', 'lanes_NT',\n",
      "       'ML_lanes_AM', 'ML_lanes_MD', 'ML_lanes_PM', 'ML_lanes_NT',\n",
      "       'price_sov_AM', 'price_hov2_AM', 'price_hov3_AM', 'price_truck_AM',\n",
      "       'price_sov_MD', 'price_hov2_MD', 'price_hov3_MD', 'price_truck_MD',\n",
      "       'price_sov_PM', 'price_hov2_PM', 'price_hov3_PM', 'price_truck_PM',\n",
      "       'price_sov_NT', 'price_hov2_NT', 'price_hov3_NT', 'price_truck_NT'],\n",
      "      dtype='object'). Returning 0.\n",
      "2022-03-22 20:43:48, INFO: Converting variable type to MetCouncil standard\n",
      "2022-03-22 20:43:48, INFO: Converting variable type to MetCouncil standard\n",
      "2022-03-22 20:44:01, INFO: Setting Coordinate Reference System to EPSG 26915\n",
      "2022-03-22 20:44:01, INFO: Setting Coordinate Reference System to EPSG 26915\n"
     ]
    }
   ],
   "source": [
    "m_net.roadway_standard_to_met_council_network()"
   ]
  },
  {
   "cell_type": "code",
   "execution_count": 17,
   "metadata": {},
   "outputs": [
    {
     "name": "stdout",
     "output_type": "stream",
     "text": [
      "Index(['index', 'osm_node_id', 'shst_node_id', 'drive_access', 'walk_access',\n",
      "       'bike_access', 'model_node_id', 'rail_only', 'geometry', 'X', 'Y',\n",
      "       'drive_node', 'county'],\n",
      "      dtype='object')\n",
      "Index(['index', 'osm_node_id', 'shst_node_id', 'drive_access', 'walk_access',\n",
      "       'bike_access', 'N', 'rail_only', 'geometry', 'X', 'Y', 'drive_node',\n",
      "       'county'],\n",
      "      dtype='object')\n"
     ]
    }
   ],
   "source": [
    "# CUBE requires N, not model_node_id\n",
    "\n",
    "print(m_net.nodes_df.columns)\n",
    "print(m_net.nodes_metcouncil_df.columns)"
   ]
  },
  {
   "cell_type": "code",
   "execution_count": 18,
   "metadata": {},
   "outputs": [
    {
     "name": "stdout",
     "output_type": "stream",
     "text": [
      "epsg:4326\n",
      "epsg:26915\n"
     ]
    }
   ],
   "source": [
    "# links_df and nodes_df are in the lat-long projection\n",
    "# links_metcouncil_df and nodes_metcouncil_df are in the metcouncil projection\n",
    "\n",
    "print(m_net.links_df.crs)\n",
    "print(m_net.links_metcouncil_df.crs)"
   ]
  },
  {
   "cell_type": "markdown",
   "metadata": {},
   "source": [
    "## Write to Disk"
   ]
  },
  {
   "cell_type": "markdown",
   "metadata": {},
   "source": [
    "### As Shapefile"
   ]
  },
  {
   "cell_type": "markdown",
   "metadata": {},
   "source": [
    "the write methods write out links_metcouncil_df and nodes_metcouncil_df"
   ]
  },
  {
   "cell_type": "code",
   "execution_count": 19,
   "metadata": {},
   "outputs": [
    {
     "name": "stdout",
     "output_type": "stream",
     "text": [
      "2022-03-22 20:49:07, INFO: Writing Network as Shapefile\n",
      "2022-03-22 20:49:07, INFO: Writing Network as Shapefile\n",
      "2022-03-22 20:49:07, INFO: Renaming DBF Node Variables\n",
      "2022-03-22 20:49:07, INFO: Renaming DBF Node Variables\n",
      "2022-03-22 20:49:07, INFO: Renaming variables so that they are DBF-safe\n",
      "2022-03-22 20:49:07, INFO: Renaming variables so that they are DBF-safe\n",
      "2022-03-22 20:49:17, INFO: Renaming DBF Link Variables\n",
      "2022-03-22 20:49:17, INFO: Renaming DBF Link Variables\n",
      "2022-03-22 20:49:17, INFO: Renaming variables so that they are DBF-safe\n",
      "2022-03-22 20:49:17, INFO: Renaming variables so that they are DBF-safe\n",
      "2022-03-22 20:49:19, INFO: Writing Node Shapes:\n",
      " - D:/metcouncil_network_rebuild\\data\\processed\\version_01\\v02_nodes.shp\n",
      "2022-03-22 20:49:19, INFO: Writing Node Shapes:\n",
      " - D:/metcouncil_network_rebuild\\data\\processed\\version_01\\v02_nodes.shp\n",
      "Index(['osmnodeid', 'drive', 'walk', 'bike', 'N', 'rail_only', 'geometry', 'X',\n",
      "       'Y', 'drive_node', 'county'],\n",
      "      dtype='object')\n",
      "2022-03-22 20:49:19, INFO: Writing Link Shapes:\n",
      " - D:/metcouncil_network_rebuild\\data\\processed\\version_01\\v02_links.shp\n",
      "2022-03-22 20:49:19, INFO: Writing Link Shapes:\n",
      " - D:/metcouncil_network_rebuild\\data\\processed\\version_01\\v02_links.shp\n"
     ]
    }
   ],
   "source": [
    "#out_cols = ['model_link_id', 'shape_id', 'assign_group', 'drive_access', 'roadway_class',\n",
    "#            'lanes_AM', 'lanes_MD', 'lanes_PM', 'lanes_NT', 'segment_id', 'HOV', \n",
    "#            'price_sov_AM', 'geometry']\n",
    "\n",
    "m_net.write_roadway_as_shp(\n",
    "    output_link_shp = os.path.join(output_dir, 'v02_links.shp'),\n",
    "    output_node_shp = os.path.join(output_dir, 'v02_nodes.shp'),\n",
    "    #link_output_variables = out_cols,\n",
    "    data_to_csv = False,\n",
    "    data_to_dbf = True,\n",
    "    export_drive_only = True, # if user only wants drive links/nodes in the shapefile\n",
    ")"
   ]
  },
  {
   "cell_type": "markdown",
   "metadata": {},
   "source": [
    "### As Fixed Width for Cube"
   ]
  },
  {
   "cell_type": "markdown",
   "metadata": {},
   "source": [
    "write out complete network to Cube, if subset of network is needed (e.g. drive only), use cube scripts to extract from complete network"
   ]
  },
  {
   "cell_type": "code",
   "execution_count": 20,
   "metadata": {},
   "outputs": [
    {
     "name": "stdout",
     "output_type": "stream",
     "text": [
      "2022-03-22 21:03:28, INFO: Starting fixed width conversion\n",
      "2022-03-22 21:03:28, INFO: Starting fixed width conversion\n",
      "2022-03-22 21:21:23, INFO: Writing out link database\n",
      "2022-03-22 21:21:23, INFO: Writing out link database\n",
      "2022-03-22 21:21:41, INFO: Writing out link header and width ----\n",
      "2022-03-22 21:21:41, INFO: Writing out link header and width ----\n",
      "2022-03-22 21:21:41, INFO: Starting fixed width conversion\n",
      "2022-03-22 21:21:41, INFO: Starting fixed width conversion\n",
      "2022-03-22 21:22:40, INFO: Writing out node database\n",
      "2022-03-22 21:22:40, INFO: Writing out node database\n",
      "2022-03-22 21:22:42, INFO: Writing out node header and width\n",
      "2022-03-22 21:22:42, INFO: Writing out node header and width\n"
     ]
    }
   ],
   "source": [
    "m_net.write_roadway_as_fixedwidth(\n",
    "    output_link_txt = os.path.join(output_dir, 'v02_links.txt'),\n",
    "    output_node_txt = os.path.join(output_dir, 'v02_nodes.txt'),\n",
    "    output_link_header_width_txt = os.path.join(output_dir, 'links_header_width.txt'),\n",
    "    output_node_header_width_txt = os.path.join(output_dir, 'nodes_header_width.txt'),\n",
    "    output_cube_network_script = os.path.join(output_dir, 'make_complete_network_from_fixed_width_file.s'),\n",
    ")"
   ]
  },
  {
   "cell_type": "markdown",
   "metadata": {},
   "source": [
    "### Write out Cube transit"
   ]
  },
  {
   "cell_type": "code",
   "execution_count": 21,
   "metadata": {},
   "outputs": [],
   "source": [
    "v_02_scenario.transit_net.set_roadnet(v_02_scenario.road_net, validate_consistency=False)"
   ]
  },
  {
   "cell_type": "code",
   "execution_count": 22,
   "metadata": {},
   "outputs": [
    {
     "name": "stdout",
     "output_type": "stream",
     "text": [
      "2022-03-22 21:25:34, INFO: Lasso base directory set as: Z:/Data/Users/Sijia/Met_Council/github/client_met_council_wrangler_utilities\n",
      "2022-03-22 21:25:34, INFO: Lasso base directory set as: Z:/Data/Users/Sijia/Met_Council/github/client_met_council_wrangler_utilities\n",
      "2022-03-22 21:25:34, INFO: Converting GTFS Standard Properties to MetCouncil's Cube Standard\n",
      "2022-03-22 21:25:34, INFO: Converting GTFS Standard Properties to MetCouncil's Cube Standard\n"
     ]
    }
   ],
   "source": [
    "standard_transit_net = StandardTransit.fromTransitNetwork(v_02_scenario.transit_net, parameters=parameters)\n",
    "standard_transit_net.write_as_cube_lin(outpath = os.path.join(output_dir, \"v02_transit.lin\"))"
   ]
  },
  {
   "cell_type": "markdown",
   "metadata": {},
   "source": [
    "### Write out pickle"
   ]
  },
  {
   "cell_type": "code",
   "execution_count": 23,
   "metadata": {},
   "outputs": [],
   "source": [
    "scenario_filename = os.path.join(output_dir, 'working_scenario_02.pickle')\n",
    "pickle.dump(v_02_scenario, open(scenario_filename, 'wb'))"
   ]
  },
  {
   "cell_type": "code",
   "execution_count": null,
   "metadata": {},
   "outputs": [],
   "source": []
  }
 ],
 "metadata": {
  "kernelspec": {
   "display_name": "Python 3 (ipykernel)",
   "language": "python",
   "name": "python3"
  },
  "language_info": {
   "codemirror_mode": {
    "name": "ipython",
    "version": 3
   },
   "file_extension": ".py",
   "mimetype": "text/x-python",
   "name": "python",
   "nbconvert_exporter": "python",
   "pygments_lexer": "ipython3",
   "version": "3.7.12"
  }
 },
 "nbformat": 4,
 "nbformat_minor": 4
}
