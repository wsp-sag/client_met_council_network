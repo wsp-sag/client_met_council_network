{
 "cells": [
  {
   "cell_type": "markdown",
   "metadata": {},
   "source": [
    "# 01 Attribute and Pickle the Network\n",
    "Step 01: Add key attributes to the 'raw' network and create pickles"
   ]
  },
  {
   "cell_type": "code",
   "execution_count": 1,
   "metadata": {},
   "outputs": [],
   "source": [
    "import os\n",
    "import sys\n",
    "import pickle\n",
    "\n",
    "from network_wrangler import RoadwayNetwork\n",
    "from network_wrangler import TransitNetwork\n",
    "from network_wrangler import Scenario\n",
    "from network_wrangler import WranglerLogger\n",
    "\n",
    "from lasso import Parameters\n",
    "from lasso import metcouncil"
   ]
  },
  {
   "cell_type": "code",
   "execution_count": 2,
   "metadata": {},
   "outputs": [],
   "source": [
    "%load_ext autoreload\n",
    "%autoreload 2"
   ]
  },
  {
   "cell_type": "code",
   "execution_count": 3,
   "metadata": {},
   "outputs": [],
   "source": [
    "import logging\n",
    "logger = logging.getLogger(\"WranglerLogger\")\n",
    "logger.handlers[0].stream = sys.stdout\n",
    "logger.setLevel(logging.INFO)"
   ]
  },
  {
   "cell_type": "markdown",
   "metadata": {},
   "source": [
    "## Remote I/O"
   ]
  },
  {
   "cell_type": "code",
   "execution_count": 4,
   "metadata": {},
   "outputs": [],
   "source": [
    "lasso_dir = os.path.join('C:/Users', 'david.ory', 'Documents', 'GitHub', 'lasso')\n",
    "input_dir = os.path.join(lasso_dir, 'examples', 'stpaul')\n",
    "output_dir = input_dir"
   ]
  },
  {
   "cell_type": "markdown",
   "metadata": {},
   "source": [
    "## Read Roadway and Transit Networks"
   ]
  },
  {
   "cell_type": "code",
   "execution_count": 5,
   "metadata": {},
   "outputs": [
    {
     "name": "stdout",
     "output_type": "stream",
     "text": [
      "2021-03-12 08:37:16, INFO: Reading from following files:\n",
      "-C:/Users\\david.ory\\Documents\\GitHub\\lasso\\examples\\stpaul\\link.json\n",
      "-C:/Users\\david.ory\\Documents\\GitHub\\lasso\\examples\\stpaul\\node.geojson\n",
      "-C:/Users\\david.ory\\Documents\\GitHub\\lasso\\examples\\stpaul\\shape.geojson.\n",
      "2021-03-12 08:37:16, INFO: Reading from following files:\n",
      "-C:/Users\\david.ory\\Documents\\GitHub\\lasso\\examples\\stpaul\\link.json\n",
      "-C:/Users\\david.ory\\Documents\\GitHub\\lasso\\examples\\stpaul\\node.geojson\n",
      "-C:/Users\\david.ory\\Documents\\GitHub\\lasso\\examples\\stpaul\\shape.geojson.\n",
      "2021-03-12 08:37:36, INFO: Read 66253 links from C:/Users\\david.ory\\Documents\\GitHub\\lasso\\examples\\stpaul\\link.json\n",
      "2021-03-12 08:37:36, INFO: Read 66253 links from C:/Users\\david.ory\\Documents\\GitHub\\lasso\\examples\\stpaul\\link.json\n",
      "2021-03-12 08:37:36, INFO: Read 17159 nodes from C:/Users\\david.ory\\Documents\\GitHub\\lasso\\examples\\stpaul\\node.geojson\n",
      "2021-03-12 08:37:36, INFO: Read 17159 nodes from C:/Users\\david.ory\\Documents\\GitHub\\lasso\\examples\\stpaul\\node.geojson\n",
      "2021-03-12 08:37:36, INFO: Read 66253 shapes from C:/Users\\david.ory\\Documents\\GitHub\\lasso\\examples\\stpaul\\shape.geojson\n",
      "2021-03-12 08:37:36, INFO: Read 66253 shapes from C:/Users\\david.ory\\Documents\\GitHub\\lasso\\examples\\stpaul\\shape.geojson\n"
     ]
    }
   ],
   "source": [
    "link_file = os.path.join(input_dir, 'link.json')\n",
    "node_file = os.path.join(input_dir, 'node.geojson')\n",
    "shape_file = os.path.join(input_dir, 'shape.geojson')\n",
    "\n",
    "roadway_net = RoadwayNetwork.read(link_file = link_file, node_file = node_file, shape_file = shape_file)"
   ]
  },
  {
   "cell_type": "code",
   "execution_count": 6,
   "metadata": {},
   "outputs": [
    {
     "name": "stdout",
     "output_type": "stream",
     "text": [
      "2021-03-12 08:38:05, INFO: Read in transit feed from: C:/Users\\david.ory\\Documents\\GitHub\\lasso\\examples\\stpaul\n",
      "2021-03-12 08:38:05, INFO: Read in transit feed from: C:/Users\\david.ory\\Documents\\GitHub\\lasso\\examples\\stpaul\n",
      "2021-03-12 08:38:05, INFO: Removing calendar.txt from transit network config because file not found\n",
      "2021-03-12 08:38:05, INFO: Removing calendar.txt from transit network config because file not found\n",
      "2021-03-12 08:38:05, INFO: Removing calendar_dates.txt from transit network config because file not found\n",
      "2021-03-12 08:38:05, INFO: Removing calendar_dates.txt from transit network config because file not found\n",
      "2021-03-12 08:38:05, INFO: Removing fare_attributes.txt from transit network config because file not found\n",
      "2021-03-12 08:38:05, INFO: Removing fare_attributes.txt from transit network config because file not found\n",
      "2021-03-12 08:38:05, INFO: Removing fare_rules.txt from transit network config because file not found\n",
      "2021-03-12 08:38:05, INFO: Removing fare_rules.txt from transit network config because file not found\n",
      "2021-03-12 08:38:06, INFO: Removing transfers.txt from transit network config because file not found\n",
      "2021-03-12 08:38:06, INFO: Removing transfers.txt from transit network config because file not found\n",
      "2021-03-12 08:38:06, INFO: Removing feed_info.txt from transit network config because file not found\n",
      "2021-03-12 08:38:06, INFO: Removing feed_info.txt from transit network config because file not found\n"
     ]
    }
   ],
   "source": [
    "transit_net = TransitNetwork.read(feed_path = input_dir)"
   ]
  },
  {
   "cell_type": "markdown",
   "metadata": {},
   "source": [
    "## Attribute the Network"
   ]
  },
  {
   "cell_type": "code",
   "execution_count": 7,
   "metadata": {},
   "outputs": [
    {
     "name": "stdout",
     "output_type": "stream",
     "text": [
      "2021-03-12 08:38:12, INFO: Lasso base directory set as: C:/Users\\david.ory\\Documents\\GitHub\\lasso\n",
      "2021-03-12 08:38:12, INFO: Lasso base directory set as: C:/Users\\david.ory\\Documents\\GitHub\\lasso\n"
     ]
    }
   ],
   "source": [
    "parameters = Parameters(lasso_base_dir = lasso_dir)"
   ]
  },
  {
   "cell_type": "code",
   "execution_count": 8,
   "metadata": {},
   "outputs": [
    {
     "name": "stdout",
     "output_type": "stream",
     "text": [
      "2021-03-12 08:38:13, INFO: Calculating Number of Lanes as network variable: 'lanes'\n",
      "2021-03-12 08:38:13, INFO: Calculating Number of Lanes as network variable: 'lanes'\n",
      "2021-03-12 08:38:13, INFO: Lasso base directory set as: C:/Users\\david.ory\\Documents\\GitHub\\lasso\n",
      "2021-03-12 08:38:13, INFO: Lasso base directory set as: C:/Users\\david.ory\\Documents\\GitHub\\lasso\n",
      "2021-03-12 08:38:13, INFO: Calculating Centroid Connector and adding as roadway network variable: centroidconnect\n",
      "2021-03-12 08:38:13, INFO: Calculating Centroid Connector and adding as roadway network variable: centroidconnect\n",
      "2021-03-12 08:38:13, INFO: Finished calculating centroid connector variable: centroidconnect\n",
      "2021-03-12 08:38:13, INFO: Finished calculating centroid connector variable: centroidconnect\n",
      "2021-03-12 08:38:45, INFO: Finished calculating number of lanes to: lanes\n",
      "2021-03-12 08:38:45, INFO: Finished calculating number of lanes to: lanes\n"
     ]
    },
    {
     "data": {
      "text/plain": [
       "1.0    9052\n",
       "2.0     805\n",
       "4.0      77\n",
       "3.0      62\n",
       "5.0      29\n",
       "6.0       2\n",
       "Name: lanes, dtype: int64"
      ]
     },
     "execution_count": 8,
     "metadata": {},
     "output_type": "execute_result"
    }
   ],
   "source": [
    "roadway_net.links_df = roadway_net.links_df.drop('lanes', axis = 1)\n",
    "r_net = metcouncil.calculate_number_of_lanes(\n",
    "        roadway_net=roadway_net,\n",
    "        parameters=parameters,\n",
    ")\n",
    "r_net.links_df.lanes.value_counts()"
   ]
  },
  {
   "cell_type": "code",
   "execution_count": 9,
   "metadata": {},
   "outputs": [
    {
     "name": "stdout",
     "output_type": "stream",
     "text": [
      "2021-03-12 08:38:46, INFO: Calculating Assignment Group and Roadway Class as network variables: 'assign_group' and 'roadway_class'\n",
      "2021-03-12 08:38:46, INFO: Calculating Assignment Group and Roadway Class as network variables: 'assign_group' and 'roadway_class'\n",
      "2021-03-12 08:38:46, INFO: Centroid Connector Variable 'centroidconnect' already in network. Returning without overwriting.\n",
      "2021-03-12 08:38:46, INFO: Centroid Connector Variable 'centroidconnect' already in network. Returning without overwriting.\n",
      "2021-03-12 08:40:16, INFO: Finished calculating assignment group variable assign_group and roadway class variable roadway_class\n",
      "2021-03-12 08:40:16, INFO: Finished calculating assignment group variable assign_group and roadway class variable roadway_class\n"
     ]
    },
    {
     "data": {
      "text/plain": [
       "101    56619\n",
       "50      4973\n",
       "9       1856\n",
       "7       1648\n",
       "6        787\n",
       "4        166\n",
       "2        108\n",
       "1         76\n",
       "100       15\n",
       "11         3\n",
       "15         2\n",
       "Name: assign_group, dtype: int64"
      ]
     },
     "execution_count": 9,
     "metadata": {},
     "output_type": "execute_result"
    }
   ],
   "source": [
    "r_net = metcouncil.calculate_assign_group_and_roadway_class(\n",
    "        roadway_net=r_net,\n",
    "        parameters=parameters,\n",
    ")\n",
    "r_net.links_df.assign_group.value_counts()"
   ]
  },
  {
   "cell_type": "code",
   "execution_count": 10,
   "metadata": {},
   "outputs": [
    {
     "data": {
      "text/plain": [
       "101    56619\n",
       "50      4973\n",
       "99      1856\n",
       "40      1651\n",
       "30       600\n",
       "20       297\n",
       "60       166\n",
       "10        76\n",
       "100       15\n",
       "Name: roadway_class, dtype: int64"
      ]
     },
     "execution_count": 10,
     "metadata": {},
     "output_type": "execute_result"
    }
   ],
   "source": [
    "r_net.links_df.roadway_class.value_counts()"
   ]
  },
  {
   "cell_type": "code",
   "execution_count": 11,
   "metadata": {},
   "outputs": [
    {
     "data": {
      "text/plain": [
       "Index(['model_link_id', 'osm_link_id', 'shstReferenceId', 'shstGeometryId',\n",
       "       'shape_id', 'u', 'v', 'A', 'B', 'locationReferences', 'distance',\n",
       "       'roadway', 'name', 'ref', 'bridge', 'tunnel', 'width', 'max_speed',\n",
       "       'bike_facility', 'drive_access', 'walk_access', 'bike_access',\n",
       "       'truck_access', 'bus_only', 'rail_only', 'access', 'price',\n",
       "       'trn_priority', 'ttime_assert', 'geometry', 'centroidconnect', 'lanes',\n",
       "       'mrcc_id', 'ROUTE_SYS', 'RDWY_CTGY_', 'assign_group', 'roadway_class'],\n",
       "      dtype='object')"
      ]
     },
     "execution_count": 11,
     "metadata": {},
     "output_type": "execute_result"
    }
   ],
   "source": [
    "r_net.links_df.columns"
   ]
  },
  {
   "cell_type": "markdown",
   "metadata": {},
   "source": [
    "## Create a Scenario and Pickle it"
   ]
  },
  {
   "cell_type": "code",
   "execution_count": 12,
   "metadata": {},
   "outputs": [
    {
     "name": "stdout",
     "output_type": "stream",
     "text": [
      "2021-03-12 08:41:00, INFO: Creating Scenario\n",
      "2021-03-12 08:41:00, INFO: Creating Scenario\n"
     ]
    }
   ],
   "source": [
    "working_scenario = Scenario.create_scenario(base_scenario = {\"road_net\": r_net, \"transit_net\": transit_net})"
   ]
  },
  {
   "cell_type": "code",
   "execution_count": 13,
   "metadata": {},
   "outputs": [],
   "source": [
    "working_scenario_filename = os.path.join(output_dir, 'working_scenario_full_00.pickle')\n",
    "pickle.dump(working_scenario, open(working_scenario_filename, 'wb'))"
   ]
  },
  {
   "cell_type": "code",
   "execution_count": null,
   "metadata": {},
   "outputs": [],
   "source": []
  }
 ],
 "metadata": {
  "kernelspec": {
   "display_name": "Python 3",
   "language": "python",
   "name": "python3"
  },
  "language_info": {
   "codemirror_mode": {
    "name": "ipython",
    "version": 3
   },
   "file_extension": ".py",
   "mimetype": "text/x-python",
   "name": "python",
   "nbconvert_exporter": "python",
   "pygments_lexer": "ipython3",
   "version": "3.7.7"
  }
 },
 "nbformat": 4,
 "nbformat_minor": 4
}
