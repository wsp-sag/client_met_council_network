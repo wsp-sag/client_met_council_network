{
 "cells": [
  {
   "cell_type": "markdown",
   "metadata": {},
   "source": [
    "# Re-create Rachel Error"
   ]
  },
  {
   "cell_type": "code",
   "execution_count": 1,
   "metadata": {},
   "outputs": [],
   "source": [
    "import os\n",
    "import sys\n",
    "import yaml\n",
    "from subprocess import Popen\n",
    "import pickle\n",
    "\n",
    "import pandas as pd\n",
    "import geopandas as gpd\n",
    "import numpy as np\n",
    "\n",
    "\n",
    "from network_wrangler import RoadwayNetwork\n",
    "from network_wrangler import TransitNetwork\n",
    "from network_wrangler import WranglerLogger\n",
    "from network_wrangler import ProjectCard\n",
    "\n",
    "from lasso import ModelRoadwayNetwork\n",
    "from lasso import StandardTransit\n",
    "from lasso import Parameters\n",
    "from lasso import metcouncil"
   ]
  },
  {
   "cell_type": "code",
   "execution_count": 2,
   "metadata": {},
   "outputs": [],
   "source": [
    "%load_ext autoreload\n",
    "%autoreload 2"
   ]
  },
  {
   "cell_type": "code",
   "execution_count": 3,
   "metadata": {},
   "outputs": [],
   "source": [
    "import logging\n",
    "logger = logging.getLogger(\"WranglerLogger\")\n",
    "logger.handlers[0].stream = sys.stdout\n",
    "logger.setLevel(logging.INFO)"
   ]
  },
  {
   "cell_type": "markdown",
   "metadata": {},
   "source": [
    "### Remote I/O and Parameters"
   ]
  },
  {
   "cell_type": "code",
   "execution_count": 4,
   "metadata": {},
   "outputs": [],
   "source": [
    "# root_dir = os.path.join('C:\\\\', 'Users', 'david.ory', 'Documents', 'GitHub', 'client_met_council_network')\n",
    "root_dir = os.path.join('/Users', 'wsp', 'Documents', 'GitHub', 'client_met_council_network')\n",
    "input_dir = os.path.join(root_dir, 'network_standard')\n",
    "pickle_dir = input_dir\n",
    "output_dir = input_dir\n",
    "card_dir = os.path.join(root_dir, 'project_cards')\n",
    "# lasso_dir = os.path.join('C:\\\\', 'Users', 'david.ory', 'Documents', 'GitHub', 'lasso')\n",
    "lasso_dir = os.path.join('/Users', 'wsp', 'Documents', 'GitHub', 'lasso')"
   ]
  },
  {
   "cell_type": "code",
   "execution_count": 5,
   "metadata": {},
   "outputs": [
    {
     "name": "stdout",
     "output_type": "stream",
     "text": [
      "2020-10-20 15:22:17, INFO: Lasso base directory set as: /Users/wsp/Documents/GitHub/lasso\n",
      "2020-10-20 15:22:17, INFO: Lasso base directory set as: /Users/wsp/Documents/GitHub/lasso\n"
     ]
    }
   ],
   "source": [
    "parameters = Parameters(lasso_base_dir = lasso_dir)"
   ]
  },
  {
   "cell_type": "markdown",
   "metadata": {},
   "source": [
    "### Read Version 00 Scenario"
   ]
  },
  {
   "cell_type": "code",
   "execution_count": 6,
   "metadata": {},
   "outputs": [],
   "source": [
    "version_00_pickle_file_name = os.path.join(pickle_dir, 'working_scenario_00.pickle')\n",
    "v_01_scenario = pickle.load(open(version_00_pickle_file_name, 'rb'))"
   ]
  },
  {
   "cell_type": "markdown",
   "metadata": {},
   "source": [
    "### Compute Number of Lanes "
   ]
  },
  {
   "cell_type": "code",
   "execution_count": 7,
   "metadata": {},
   "outputs": [
    {
     "data": {
      "text/plain": [
       "Index(['model_link_id', 'osm_link_id', 'shstReferenceId', 'shstGeometryId',\n",
       "       'shape_id', 'u', 'v', 'A', 'B', 'locationReferences', 'distance',\n",
       "       'roadway', 'name', 'ref', 'bridge', 'tunnel', 'width', 'max_speed',\n",
       "       'bike_facility', 'drive_access', 'walk_access', 'bike_access',\n",
       "       'truck_access', 'bus_only', 'rail_only', 'access', 'price',\n",
       "       'trn_priority', 'ttime_assert', 'geometry'],\n",
       "      dtype='object')"
      ]
     },
     "execution_count": 7,
     "metadata": {},
     "output_type": "execute_result"
    }
   ],
   "source": [
    "v_01_scenario.road_net.links_df = v_01_scenario.road_net.links_df.drop('lanes', axis = 1)\n",
    "v_01_scenario.road_net.links_df.columns"
   ]
  },
  {
   "cell_type": "code",
   "execution_count": 8,
   "metadata": {},
   "outputs": [
    {
     "name": "stdout",
     "output_type": "stream",
     "text": [
      "2020-10-20 15:22:32, INFO: Calculating Number of Lanes as network variable: 'lanes'\n",
      "2020-10-20 15:22:32, INFO: Calculating Number of Lanes as network variable: 'lanes'\n",
      "2020-10-20 15:22:32, INFO: Lasso base directory set as: /Users/wsp/Documents/GitHub/lasso\n",
      "2020-10-20 15:22:32, INFO: Lasso base directory set as: /Users/wsp/Documents/GitHub/lasso\n",
      "2020-10-20 15:22:55, INFO: Finished calculating number of lanes to: lanes\n",
      "2020-10-20 15:22:55, INFO: Finished calculating number of lanes to: lanes\n"
     ]
    },
    {
     "data": {
      "text/plain": [
       "1.0    301047\n",
       "2.0     26560\n",
       "3.0      1734\n",
       "4.0       545\n",
       "5.0        66\n",
       "6.0         6\n",
       "Name: lanes, dtype: int64"
      ]
     },
     "execution_count": 8,
     "metadata": {},
     "output_type": "execute_result"
    }
   ],
   "source": [
    "v_01_scenario.road_net = metcouncil.calculate_number_of_lanes(\n",
    "        roadway_net=v_01_scenario.road_net,\n",
    "        parameters=parameters,\n",
    ")\n",
    "v_01_scenario.road_net.links_df.lanes.value_counts()"
   ]
  },
  {
   "cell_type": "markdown",
   "metadata": {},
   "source": [
    "### Apply Project Cards"
   ]
  },
  {
   "cell_type": "code",
   "execution_count": 9,
   "metadata": {},
   "outputs": [],
   "source": [
    "project_card_list = []\n",
    "card_01_file_name = os.path.join(card_dir, 'test_35W_ML.yml')\n",
    "\n",
    "card = ProjectCard.read(card_01_file_name, validate = False)\n",
    "project_card_list.append(card)\n"
   ]
  },
  {
   "cell_type": "code",
   "execution_count": 10,
   "metadata": {},
   "outputs": [
    {
     "name": "stdout",
     "output_type": "stream",
     "text": [
      "2020-10-20 15:22:55, INFO: Applying 35W south managed lane\n",
      "2020-10-20 15:22:55, INFO: Applying 35W south managed lane\n",
      "2020-10-20 15:22:55, INFO: Applying Project to Roadway Network: 35W south managed lane\n",
      "2020-10-20 15:22:55, INFO: Applying Project to Roadway Network: 35W south managed lane\n"
     ]
    },
    {
     "name": "stderr",
     "output_type": "stream",
     "text": [
      "/Users/wsp/opt/anaconda3/envs/lasso_x/lib/python3.7/site-packages/geopandas/geodataframe.py:853: SettingWithCopyWarning: \n",
      "A value is trying to be set on a copy of a slice from a DataFrame.\n",
      "Try using .loc[row_indexer,col_indexer] = value instead\n",
      "\n",
      "See the caveats in the documentation: https://pandas.pydata.org/pandas-docs/stable/user_guide/indexing.html#returning-a-view-versus-a-copy\n",
      "  super(GeoDataFrame, self).__setitem__(key, value)\n"
     ]
    }
   ],
   "source": [
    "for project_card in project_card_list:\n",
    "    v_01_scenario.apply_project(project_card)"
   ]
  },
  {
   "cell_type": "code",
   "execution_count": 11,
   "metadata": {},
   "outputs": [
    {
     "data": {
      "text/plain": [
       "['35W south managed lane']"
      ]
     },
     "execution_count": 11,
     "metadata": {},
     "output_type": "execute_result"
    }
   ],
   "source": [
    "v_01_scenario.applied_projects"
   ]
  },
  {
   "cell_type": "markdown",
   "metadata": {},
   "source": [
    "### Make Travel Model Networks (for manual fixes)"
   ]
  },
  {
   "cell_type": "code",
   "execution_count": 12,
   "metadata": {},
   "outputs": [
    {
     "name": "stdout",
     "output_type": "stream",
     "text": [
      "2020-10-20 15:23:55, INFO: Lasso base directory set as: /Users/wsp/Documents/GitHub/lasso\n",
      "2020-10-20 15:23:55, INFO: Lasso base directory set as: /Users/wsp/Documents/GitHub/lasso\n"
     ]
    }
   ],
   "source": [
    "m_net = ModelRoadwayNetwork.from_RoadwayNetwork(\n",
    "    roadway_network_object = v_01_scenario.road_net, \n",
    "    parameters = parameters)"
   ]
  },
  {
   "cell_type": "code",
   "execution_count": 13,
   "metadata": {},
   "outputs": [
    {
     "name": "stdout",
     "output_type": "stream",
     "text": [
      "2020-10-20 15:23:55, INFO: Overwriting existing Centroid Connector Variable 'centroidconnect' already in network\n",
      "2020-10-20 15:23:55, INFO: Overwriting existing Centroid Connector Variable 'centroidconnect' already in network\n",
      "2020-10-20 15:23:55, INFO: Calculating Centroid Connector and adding as roadway network variable: centroidconnect\n",
      "2020-10-20 15:23:55, INFO: Calculating Centroid Connector and adding as roadway network variable: centroidconnect\n",
      "2020-10-20 15:23:55, INFO: Finished calculating centroid connector variable: centroidconnect\n",
      "2020-10-20 15:23:55, INFO: Finished calculating centroid connector variable: centroidconnect\n"
     ]
    }
   ],
   "source": [
    "# need to recalculate centroid connectors from lanes calculation\n",
    "m_net.calculate_centroidconnect(overwrite=True)"
   ]
  },
  {
   "cell_type": "code",
   "execution_count": 14,
   "metadata": {},
   "outputs": [
    {
     "data": {
      "text/plain": [
       "Index(['model_link_id', 'osm_link_id', 'shstReferenceId', 'shstGeometryId',\n",
       "       'shape_id', 'u', 'v', 'A', 'B', 'locationReferences', 'distance',\n",
       "       'roadway', 'name', 'ref', 'bridge', 'tunnel', 'width', 'max_speed',\n",
       "       'bike_facility', 'drive_access', 'walk_access', 'bike_access',\n",
       "       'truck_access', 'bus_only', 'rail_only', 'access', 'price',\n",
       "       'trn_priority', 'ttime_assert', 'geometry', 'centroidconnect', 'lanes',\n",
       "       'managed', 'ML_lanes', 'ML_price', 'segment_id', 'ML_access',\n",
       "       'ML_egress'],\n",
       "      dtype='object')"
      ]
     },
     "execution_count": 14,
     "metadata": {},
     "output_type": "execute_result"
    }
   ],
   "source": [
    "m_net.links_df.columns"
   ]
  },
  {
   "cell_type": "code",
   "execution_count": 15,
   "metadata": {},
   "outputs": [
    {
     "name": "stdout",
     "output_type": "stream",
     "text": [
      "2020-10-20 15:23:55, INFO: Renaming roadway attributes to be consistent with what metcouncil's model is expecting\n",
      "2020-10-20 15:23:55, INFO: Renaming roadway attributes to be consistent with what metcouncil's model is expecting\n",
      "2020-10-20 15:23:55, INFO: Creating managed lane network.\n",
      "2020-10-20 15:23:55, INFO: Creating managed lane network.\n",
      "2020-10-20 15:23:55, INFO: Creating network with duplicated managed lanes\n",
      "2020-10-20 15:23:55, INFO: Creating network with duplicated managed lanes\n"
     ]
    },
    {
     "name": "stderr",
     "output_type": "stream",
     "text": [
      "/Users/wsp/opt/anaconda3/envs/lasso_x/lib/python3.7/site-packages/geopandas/geodataframe.py:853: SettingWithCopyWarning: \n",
      "A value is trying to be set on a copy of a slice from a DataFrame.\n",
      "Try using .loc[row_indexer,col_indexer] = value instead\n",
      "\n",
      "See the caveats in the documentation: https://pandas.pydata.org/pandas-docs/stable/user_guide/indexing.html#returning-a-view-versus-a-copy\n",
      "  super(GeoDataFrame, self).__setitem__(key, value)\n",
      "/Users/wsp/opt/anaconda3/envs/lasso_x/lib/python3.7/site-packages/geopandas/geodataframe.py:852: UserWarning: Geometry column does not contain geometry.\n",
      "  warnings.warn(\"Geometry column does not contain geometry.\")\n",
      "/Users/wsp/opt/anaconda3/envs/lasso_x/lib/python3.7/site-packages/pandas/core/indexing.py:1745: SettingWithCopyWarning: \n",
      "A value is trying to be set on a copy of a slice from a DataFrame.\n",
      "Try using .loc[row_indexer,col_indexer] = value instead\n",
      "\n",
      "See the caveats in the documentation: https://pandas.pydata.org/pandas-docs/stable/user_guide/indexing.html#returning-a-view-versus-a-copy\n",
      "  isetter(ilocs[0], value)\n"
     ]
    },
    {
     "name": "stdout",
     "output_type": "stream",
     "text": [
      "2020-10-20 15:24:04, INFO: Creating calculated roadway variables.\n",
      "2020-10-20 15:24:04, INFO: Creating calculated roadway variables.\n",
      "2020-10-20 15:24:04, INFO: Calculating Area Type from Spatial Data and adding as roadway network variable: area_type\n",
      "2020-10-20 15:24:04, INFO: Calculating Area Type from Spatial Data and adding as roadway network variable: area_type\n"
     ]
    },
    {
     "name": "stderr",
     "output_type": "stream",
     "text": [
      "/Users/wsp/Documents/GitHub/Lasso/lasso/roadway.py:427: UserWarning: Geometry is in a geographic CRS. Results from 'centroid' are likely incorrect. Use 'GeoSeries.to_crs()' to re-project geometries to a projected CRS before this operation.\n",
      "\n",
      "  centroids_gdf[\"geometry\"] = centroids_gdf[\"geometry\"].centroid\n"
     ]
    },
    {
     "name": "stdout",
     "output_type": "stream",
     "text": [
      "2020-10-20 15:24:53, INFO: Finished Calculating Area Type from Spatial Data into variable: area_type\n",
      "2020-10-20 15:24:53, INFO: Finished Calculating Area Type from Spatial Data into variable: area_type\n",
      "2020-10-20 15:24:53, INFO: Adding roadway network variable for county using a spatial join with: /Users/wsp/Documents/GitHub/lasso/metcouncil_data/county/cb_2017_us_county_5m.shp\n",
      "2020-10-20 15:24:53, INFO: Adding roadway network variable for county using a spatial join with: /Users/wsp/Documents/GitHub/lasso/metcouncil_data/county/cb_2017_us_county_5m.shp\n"
     ]
    },
    {
     "name": "stderr",
     "output_type": "stream",
     "text": [
      "/Users/wsp/Documents/GitHub/Lasso/lasso/roadway.py:292: UserWarning: Geometry is in a geographic CRS. Results from 'centroid' are likely incorrect. Use 'GeoSeries.to_crs()' to re-project geometries to a projected CRS before this operation.\n",
      "\n",
      "  centroids_gdf[\"geometry\"] = centroids_gdf[\"geometry\"].centroid\n"
     ]
    },
    {
     "name": "stdout",
     "output_type": "stream",
     "text": [
      "2020-10-20 15:25:32, INFO: Finished Calculating county variable: county\n",
      "2020-10-20 15:25:32, INFO: Finished Calculating county variable: county\n",
      "2020-10-20 15:25:33, INFO: Centroid Connector Variable 'centroidconnect' already in network. Returning without overwriting.\n",
      "2020-10-20 15:25:33, INFO: Centroid Connector Variable 'centroidconnect' already in network. Returning without overwriting.\n",
      "2020-10-20 15:25:33, INFO: Calculating MPO as roadway network variable: mpo\n",
      "2020-10-20 15:25:33, INFO: Calculating MPO as roadway network variable: mpo\n",
      "2020-10-20 15:25:33, INFO: Finished calculating MPO variable: mpo\n",
      "2020-10-20 15:25:33, INFO: Finished calculating MPO variable: mpo\n",
      "2020-10-20 15:25:33, INFO: Calculating Assignment Group and Roadway Class as network variables: 'assign_group' and 'roadway_class'\n",
      "2020-10-20 15:25:33, INFO: Calculating Assignment Group and Roadway Class as network variables: 'assign_group' and 'roadway_class'\n",
      "2020-10-20 15:25:33, INFO: Centroid Connector Variable 'centroidconnect' already in network. Returning without overwriting.\n",
      "2020-10-20 15:25:33, INFO: Centroid Connector Variable 'centroidconnect' already in network. Returning without overwriting.\n",
      "2020-10-20 15:26:32, INFO: Finished calculating assignment group variable assign_group and roadway class variable roadway_class\n",
      "2020-10-20 15:26:32, INFO: Finished calculating assignment group variable assign_group and roadway class variable roadway_class\n",
      "2020-10-20 15:26:33, INFO: Adding Counts\n",
      "2020-10-20 15:26:33, INFO: Adding Counts\n",
      "2020-10-20 15:26:33, INFO: Adding Variable AADT using Shared Streets Reference from /Users/wsp/Documents/GitHub/lasso/metcouncil_data/count_mn/mn_count_ShSt_API_match.csv\n",
      "2020-10-20 15:26:33, INFO: Adding Variable AADT using Shared Streets Reference from /Users/wsp/Documents/GitHub/lasso/metcouncil_data/count_mn/mn_count_ShSt_API_match.csv\n",
      "2020-10-20 15:26:33, INFO: Added variable: AADT using Shared Streets Reference\n",
      "2020-10-20 15:26:33, INFO: Added variable: AADT using Shared Streets Reference\n",
      "2020-10-20 15:26:33, INFO: Adding Variable AADT using Shared Streets Reference from /Users/wsp/Documents/GitHub/lasso/metcouncil_data/Wisconsin_Lanes_Counts_Median/wi_count_ShSt_API_match.csv\n",
      "2020-10-20 15:26:33, INFO: Adding Variable AADT using Shared Streets Reference from /Users/wsp/Documents/GitHub/lasso/metcouncil_data/Wisconsin_Lanes_Counts_Median/wi_count_ShSt_API_match.csv\n",
      "2020-10-20 15:26:34, INFO: Added variable: AADT using Shared Streets Reference\n",
      "2020-10-20 15:26:34, INFO: Added variable: AADT using Shared Streets Reference\n",
      "2020-10-20 15:26:34, INFO: Finished adding counts variable: AADT\n",
      "2020-10-20 15:26:34, INFO: Finished adding counts variable: AADT\n",
      "2020-10-20 15:26:34, INFO: Finished creating ML lanes variable: ML_lanes\n",
      "2020-10-20 15:26:34, INFO: Finished creating ML lanes variable: ML_lanes\n",
      "2020-10-20 15:26:34, INFO: Hov corridor Variable 'segment_id' already in network. Returning without overwriting.\n",
      "2020-10-20 15:26:34, INFO: Hov corridor Variable 'segment_id' already in network. Returning without overwriting.\n",
      "2020-10-20 15:26:34, INFO: Managed Variable 'managed' already in network. Returning without overwriting.\n",
      "2020-10-20 15:26:34, INFO: Managed Variable 'managed' already in network. Returning without overwriting.\n",
      "2020-10-20 15:26:34, INFO: Overwriting existing distance Variable 'distance' already in network\n",
      "2020-10-20 15:26:34, INFO: Overwriting existing distance Variable 'distance' already in network\n",
      "2020-10-20 15:26:45, INFO: Calculating distance for centroid connectors\n",
      "2020-10-20 15:26:45, INFO: Calculating distance for centroid connectors\n",
      "2020-10-20 15:26:46, INFO: Filling nan for network from network wrangler\n",
      "2020-10-20 15:26:46, INFO: Filling nan for network from network wrangler\n",
      "2020-10-20 15:26:51, INFO: Splitting variables by time period and category\n",
      "2020-10-20 15:26:51, INFO: Splitting variables by time period and category\n",
      "2020-10-20 15:26:53, WARNING: Specified variable to split: ML_lanes not in network variables: Index(['index', 'model_link_id', 'osm_link_id', 'shstReferenceId',\n",
      "       'shstGeometryId', 'shape_id', 'u', 'v', 'A', 'B', 'locationReferences',\n",
      "       'distance', 'roadway', 'name', 'ref', 'bridge', 'tunnel', 'width',\n",
      "       'max_speed', 'bike_facility', 'drive_access', 'walk_access',\n",
      "       'bike_access', 'truck_access', 'bus_only', 'rail_only', 'access',\n",
      "       'price', 'trn_priority', 'ttime_assert', 'geometry', 'centroidconnect',\n",
      "       'lanes', 'managed', 'segment_id', 'egress', 'area_type', 'county',\n",
      "       'mpo', 'mrcc_id', 'ROUTE_SYS', 'RDWY_CTGY_', 'assign_group',\n",
      "       'roadway_class', 'AADT', 'count_AM', 'count_MD', 'count_PM', 'count_NT',\n",
      "       'count_daily', 'count_year', 'trn_priority_AM', 'trn_priority_MD',\n",
      "       'trn_priority_PM', 'trn_priority_NT', 'ttime_assert_AM',\n",
      "       'ttime_assert_MD', 'ttime_assert_PM', 'ttime_assert_NT', 'lanes_AM',\n",
      "       'lanes_MD', 'lanes_PM', 'lanes_NT'],\n",
      "      dtype='object'). Returning 0.\n",
      "2020-10-20 15:26:53, WARNING: Specified variable to split: ML_lanes not in network variables: Index(['index', 'model_link_id', 'osm_link_id', 'shstReferenceId',\n",
      "       'shstGeometryId', 'shape_id', 'u', 'v', 'A', 'B', 'locationReferences',\n",
      "       'distance', 'roadway', 'name', 'ref', 'bridge', 'tunnel', 'width',\n",
      "       'max_speed', 'bike_facility', 'drive_access', 'walk_access',\n",
      "       'bike_access', 'truck_access', 'bus_only', 'rail_only', 'access',\n",
      "       'price', 'trn_priority', 'ttime_assert', 'geometry', 'centroidconnect',\n",
      "       'lanes', 'managed', 'segment_id', 'egress', 'area_type', 'county',\n",
      "       'mpo', 'mrcc_id', 'ROUTE_SYS', 'RDWY_CTGY_', 'assign_group',\n",
      "       'roadway_class', 'AADT', 'count_AM', 'count_MD', 'count_PM', 'count_NT',\n",
      "       'count_daily', 'count_year', 'trn_priority_AM', 'trn_priority_MD',\n",
      "       'trn_priority_PM', 'trn_priority_NT', 'ttime_assert_AM',\n",
      "       'ttime_assert_MD', 'ttime_assert_PM', 'ttime_assert_NT', 'lanes_AM',\n",
      "       'lanes_MD', 'lanes_PM', 'lanes_NT'],\n",
      "      dtype='object'). Returning 0.\n",
      "CAT: sov ['sov']\n",
      "CAT: sov ['sov']\n",
      "CAT: sov ['sov']\n",
      "CAT: sov ['sov']\n",
      "CAT: sov ['sov']\n",
      "CAT: sov ['sov']\n",
      "CAT: sov ['sov']\n",
      "CAT: hov2 ['sov']\n",
      "CAT: default ['sov']\n",
      "CAT: sov ['sov']\n",
      "CAT: hov2 ['sov']\n",
      "CAT: default ['sov']\n",
      "CAT: sov ['sov']\n",
      "CAT: hov2 ['sov']\n",
      "CAT: default ['sov']\n",
      "CAT: sov ['sov']\n",
      "CAT: hov2 ['sov']\n",
      "CAT: default ['sov']\n",
      "CAT: sov ['sov']\n",
      "CAT: hov2 ['sov']\n",
      "CAT: default ['sov']\n",
      "CAT: sov ['sov']\n",
      "CAT: hov2 ['sov']\n",
      "CAT: default ['sov']\n",
      "CAT: sov ['sov']\n",
      "CAT: hov2 ['sov']\n",
      "CAT: default ['sov']\n",
      "CAT: sov ['sov']\n",
      "CAT: hov3 ['sov']\n",
      "CAT: hov2 ['sov']\n",
      "CAT: default ['sov']\n",
      "CAT: sov ['sov']\n",
      "CAT: hov3 ['sov']\n",
      "CAT: hov2 ['sov']\n",
      "CAT: default ['sov']\n",
      "CAT: sov ['sov']\n",
      "CAT: hov3 ['sov']\n",
      "CAT: hov2 ['sov']\n",
      "CAT: default ['sov']\n",
      "CAT: sov ['sov']\n",
      "CAT: hov3 ['sov']\n",
      "CAT: hov2 ['sov']\n",
      "CAT: default ['sov']\n",
      "CAT: sov ['sov']\n",
      "CAT: hov3 ['sov']\n",
      "CAT: hov2 ['sov']\n",
      "CAT: default ['sov']\n",
      "CAT: sov ['sov']\n",
      "CAT: hov3 ['sov']\n",
      "CAT: hov2 ['sov']\n",
      "CAT: default ['sov']\n",
      "CAT: sov ['sov']\n",
      "CAT: hov3 ['sov']\n",
      "CAT: hov2 ['sov']\n",
      "CAT: default ['sov']\n",
      "CAT: sov ['sov']\n",
      "CAT: trk ['sov']\n",
      "CAT: sov ['sov']\n",
      "CAT: trk ['sov']\n",
      "CAT: sov ['sov']\n",
      "CAT: trk ['sov']\n",
      "CAT: sov ['sov']\n",
      "CAT: trk ['sov']\n",
      "CAT: sov ['sov']\n",
      "CAT: trk ['sov']\n",
      "CAT: sov ['sov']\n",
      "CAT: trk ['sov']\n",
      "CAT: sov ['sov']\n",
      "CAT: trk ['sov']\n",
      "CAT: sov ['sov']\n",
      "CAT: sov ['sov']\n",
      "CAT: sov ['sov']\n",
      "CAT: sov ['sov']\n",
      "CAT: sov ['sov']\n",
      "CAT: sov ['sov']\n",
      "CAT: sov ['sov']\n",
      "CAT: sov ['sov']\n",
      "CAT: hov2 ['sov']\n",
      "CAT: default ['sov']\n",
      "CAT: sov ['sov']\n",
      "CAT: hov2 ['sov']\n",
      "CAT: default ['sov']\n",
      "CAT: sov ['sov']\n",
      "CAT: hov2 ['sov']\n",
      "CAT: default ['sov']\n",
      "CAT: sov ['sov']\n",
      "CAT: hov2 ['sov']\n",
      "CAT: default ['sov']\n",
      "CAT: sov ['sov']\n",
      "CAT: hov2 ['sov']\n",
      "CAT: default ['sov']\n",
      "CAT: sov ['sov']\n",
      "CAT: hov2 ['sov']\n",
      "CAT: default ['sov']\n",
      "CAT: sov ['sov']\n",
      "CAT: hov2 ['sov']\n",
      "CAT: default ['sov']\n",
      "CAT: sov ['sov']\n",
      "CAT: hov3 ['sov']\n",
      "CAT: hov2 ['sov']\n",
      "CAT: default ['sov']\n",
      "CAT: sov ['sov']\n",
      "CAT: hov3 ['sov']\n",
      "CAT: hov2 ['sov']\n",
      "CAT: default ['sov']\n",
      "CAT: sov ['sov']\n",
      "CAT: hov3 ['sov']\n",
      "CAT: hov2 ['sov']\n",
      "CAT: default ['sov']\n",
      "CAT: sov ['sov']\n",
      "CAT: hov3 ['sov']\n",
      "CAT: hov2 ['sov']\n",
      "CAT: default ['sov']\n",
      "CAT: sov ['sov']\n",
      "CAT: hov3 ['sov']\n",
      "CAT: hov2 ['sov']\n",
      "CAT: default ['sov']\n",
      "CAT: sov ['sov']\n",
      "CAT: hov3 ['sov']\n",
      "CAT: hov2 ['sov']\n",
      "CAT: default ['sov']\n",
      "CAT: sov ['sov']\n",
      "CAT: hov3 ['sov']\n",
      "CAT: hov2 ['sov']\n",
      "CAT: default ['sov']\n",
      "CAT: sov ['sov']\n",
      "CAT: trk ['sov']\n",
      "CAT: sov ['sov']\n",
      "CAT: trk ['sov']\n",
      "CAT: sov ['sov']\n",
      "CAT: trk ['sov']\n",
      "CAT: sov ['sov']\n",
      "CAT: trk ['sov']\n",
      "CAT: sov ['sov']\n",
      "CAT: trk ['sov']\n",
      "CAT: sov ['sov']\n",
      "CAT: trk ['sov']\n",
      "CAT: sov ['sov']\n",
      "CAT: trk ['sov']\n",
      "CAT: sov ['sov']\n",
      "CAT: sov ['sov']\n",
      "CAT: sov ['sov']\n",
      "CAT: sov ['sov']\n",
      "CAT: sov ['sov']\n",
      "CAT: sov ['sov']\n",
      "CAT: sov ['sov']\n",
      "CAT: sov ['sov']\n",
      "CAT: hov2 ['sov']\n",
      "CAT: default ['sov']\n",
      "CAT: sov ['sov']\n",
      "CAT: hov2 ['sov']\n",
      "CAT: default ['sov']\n",
      "CAT: sov ['sov']\n",
      "CAT: hov2 ['sov']\n",
      "CAT: default ['sov']\n",
      "CAT: sov ['sov']\n",
      "CAT: hov2 ['sov']\n",
      "CAT: default ['sov']\n",
      "CAT: sov ['sov']\n",
      "CAT: hov2 ['sov']\n",
      "CAT: default ['sov']\n",
      "CAT: sov ['sov']\n",
      "CAT: hov2 ['sov']\n",
      "CAT: default ['sov']\n",
      "CAT: sov ['sov']\n",
      "CAT: hov2 ['sov']\n",
      "CAT: default ['sov']\n",
      "CAT: sov ['sov']\n",
      "CAT: hov3 ['sov']\n",
      "CAT: hov2 ['sov']\n",
      "CAT: default ['sov']\n",
      "CAT: sov ['sov']\n",
      "CAT: hov3 ['sov']\n",
      "CAT: hov2 ['sov']\n",
      "CAT: default ['sov']\n",
      "CAT: sov ['sov']\n",
      "CAT: hov3 ['sov']\n",
      "CAT: hov2 ['sov']\n",
      "CAT: default ['sov']\n",
      "CAT: sov ['sov']\n",
      "CAT: hov3 ['sov']\n",
      "CAT: hov2 ['sov']\n",
      "CAT: default ['sov']\n",
      "CAT: sov ['sov']\n",
      "CAT: hov3 ['sov']\n",
      "CAT: hov2 ['sov']\n",
      "CAT: default ['sov']\n",
      "CAT: sov ['sov']\n",
      "CAT: hov3 ['sov']\n",
      "CAT: hov2 ['sov']\n",
      "CAT: default ['sov']\n",
      "CAT: sov ['sov']\n",
      "CAT: hov3 ['sov']\n",
      "CAT: hov2 ['sov']\n",
      "CAT: default ['sov']\n",
      "CAT: sov ['sov']\n",
      "CAT: trk ['sov']\n",
      "CAT: sov ['sov']\n",
      "CAT: trk ['sov']\n",
      "CAT: sov ['sov']\n",
      "CAT: trk ['sov']\n",
      "CAT: sov ['sov']\n",
      "CAT: trk ['sov']\n",
      "CAT: sov ['sov']\n",
      "CAT: trk ['sov']\n",
      "CAT: sov ['sov']\n",
      "CAT: trk ['sov']\n",
      "CAT: sov ['sov']\n",
      "CAT: trk ['sov']\n",
      "CAT: sov ['sov']\n",
      "2020-10-20 15:26:57, INFO: Converting variable type to MetCouncil standard\n",
      "2020-10-20 15:26:57, INFO: Converting variable type to MetCouncil standard\n",
      "2020-10-20 15:27:01, INFO: Setting Coordinate Reference System to EPSG 26915\n",
      "2020-10-20 15:27:01, INFO: Setting Coordinate Reference System to EPSG 26915\n"
     ]
    }
   ],
   "source": [
    "m_net.roadway_standard_to_met_council_network()"
   ]
  },
  {
   "cell_type": "code",
   "execution_count": null,
   "metadata": {},
   "outputs": [],
   "source": []
  }
 ],
 "metadata": {
  "kernelspec": {
   "display_name": "Python 3",
   "language": "python",
   "name": "python3"
  },
  "language_info": {
   "codemirror_mode": {
    "name": "ipython",
    "version": 3
   },
   "file_extension": ".py",
   "mimetype": "text/x-python",
   "name": "python",
   "nbconvert_exporter": "python",
   "pygments_lexer": "ipython3",
   "version": "3.7.7"
  }
 },
 "nbformat": 4,
 "nbformat_minor": 4
}
