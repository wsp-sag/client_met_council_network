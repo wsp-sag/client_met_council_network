{
 "cells": [
  {
   "cell_type": "markdown",
   "metadata": {},
   "source": [
    "The drive and walk/bike centroid connectors are created separately, because they use different rules. But in many cases, they can be connected to the same network street nodes.  When that happens, currently we keep the drive and walk/bike connector links as separate records, although they do have the same A/B nodes and the same shape. They can be differentiated by the drive_access, bike_access, walk_access fields. Now thinking more about this, I think it’s probably better to consolidate such connectors into one record."
   ]
  },
  {
   "cell_type": "markdown",
   "metadata": {},
   "source": [
    "This notebook was created to be run after Ranch, to consolidate the connectors. The result connectors will be loaded and written out to model network in notebooks such as CreateVersion01.ipynb."
   ]
  },
  {
   "cell_type": "code",
   "execution_count": 1,
   "metadata": {},
   "outputs": [],
   "source": [
    "import pandas as pd\n",
    "import geopandas as gpd\n",
    "import os"
   ]
  },
  {
   "cell_type": "code",
   "execution_count": 2,
   "metadata": {},
   "outputs": [],
   "source": [
    "centroid_data_dir = r\"D:\\metcouncil_network_rebuild\\data\\interim\"\n",
    "\n",
    "consolidated_centroid_data_dir = r\"D:\\metcouncil_network_rebuild\\data\\processed\\version_00\\standard_networks\""
   ]
  },
  {
   "cell_type": "code",
   "execution_count": 3,
   "metadata": {},
   "outputs": [],
   "source": [
    "taz_node_gdf = pd.read_pickle(os.path.join(centroid_data_dir, \"centroid_node.pickle\"))\n",
    "taz_cc_link_gdf = pd.read_pickle(os.path.join(centroid_data_dir, \"cc_link.pickle\"))\n",
    "taz_cc_shape_gdf = pd.read_pickle(os.path.join(centroid_data_dir, \"cc_shape.pickle\"))"
   ]
  },
  {
   "cell_type": "code",
   "execution_count": 4,
   "metadata": {},
   "outputs": [
    {
     "name": "stdout",
     "output_type": "stream",
     "text": [
      "(3030, 8)\n",
      "(47642, 14)\n",
      "(23819, 4)\n"
     ]
    }
   ],
   "source": [
    "print(taz_node_gdf.shape)\n",
    "print(taz_cc_link_gdf.shape)\n",
    "print(taz_cc_shape_gdf.shape)"
   ]
  },
  {
   "cell_type": "code",
   "execution_count": 5,
   "metadata": {},
   "outputs": [],
   "source": [
    "# archive crs of links\n",
    "crs = taz_cc_link_gdf.crs"
   ]
  },
  {
   "cell_type": "markdown",
   "metadata": {},
   "source": [
    "# Process"
   ]
  },
  {
   "cell_type": "markdown",
   "metadata": {},
   "source": [
    "## nodes"
   ]
  },
  {
   "cell_type": "code",
   "execution_count": 6,
   "metadata": {},
   "outputs": [
    {
     "data": {
      "text/html": [
       "<div>\n",
       "<style scoped>\n",
       "    .dataframe tbody tr th:only-of-type {\n",
       "        vertical-align: middle;\n",
       "    }\n",
       "\n",
       "    .dataframe tbody tr th {\n",
       "        vertical-align: top;\n",
       "    }\n",
       "\n",
       "    .dataframe thead th {\n",
       "        text-align: right;\n",
       "    }\n",
       "</style>\n",
       "<table border=\"1\" class=\"dataframe\">\n",
       "  <thead>\n",
       "    <tr style=\"text-align: right;\">\n",
       "      <th></th>\n",
       "      <th>OBJECTID</th>\n",
       "      <th>N</th>\n",
       "      <th>X</th>\n",
       "      <th>Y</th>\n",
       "      <th>taz_id</th>\n",
       "      <th>model_node</th>\n",
       "      <th>model_node_id</th>\n",
       "      <th>geometry</th>\n",
       "    </tr>\n",
       "  </thead>\n",
       "  <tbody>\n",
       "    <tr>\n",
       "      <th>0</th>\n",
       "      <td>1</td>\n",
       "      <td>1</td>\n",
       "      <td>462454.755934</td>\n",
       "      <td>5.027410e+06</td>\n",
       "      <td>1</td>\n",
       "      <td>1</td>\n",
       "      <td>1</td>\n",
       "      <td>POINT (-93.47971 45.39920)</td>\n",
       "    </tr>\n",
       "    <tr>\n",
       "      <th>1</th>\n",
       "      <td>2</td>\n",
       "      <td>2</td>\n",
       "      <td>468423.045357</td>\n",
       "      <td>5.028244e+06</td>\n",
       "      <td>2</td>\n",
       "      <td>2</td>\n",
       "      <td>2</td>\n",
       "      <td>POINT (-93.40351 45.40700)</td>\n",
       "    </tr>\n",
       "    <tr>\n",
       "      <th>2</th>\n",
       "      <td>3</td>\n",
       "      <td>3</td>\n",
       "      <td>466398.768445</td>\n",
       "      <td>5.026811e+06</td>\n",
       "      <td>3</td>\n",
       "      <td>3</td>\n",
       "      <td>3</td>\n",
       "      <td>POINT (-93.42928 45.39401)</td>\n",
       "    </tr>\n",
       "  </tbody>\n",
       "</table>\n",
       "</div>"
      ],
      "text/plain": [
       "   OBJECTID  N              X             Y  taz_id  model_node  \\\n",
       "0         1  1  462454.755934  5.027410e+06       1           1   \n",
       "1         2  2  468423.045357  5.028244e+06       2           2   \n",
       "2         3  3  466398.768445  5.026811e+06       3           3   \n",
       "\n",
       "   model_node_id                    geometry  \n",
       "0              1  POINT (-93.47971 45.39920)  \n",
       "1              2  POINT (-93.40351 45.40700)  \n",
       "2              3  POINT (-93.42928 45.39401)  "
      ]
     },
     "execution_count": 6,
     "metadata": {},
     "output_type": "execute_result"
    }
   ],
   "source": [
    "taz_node_gdf.head(3)"
   ]
  },
  {
   "cell_type": "code",
   "execution_count": 7,
   "metadata": {},
   "outputs": [],
   "source": [
    "# check if centroid node records are unique\n",
    "assert taz_node_gdf.shape[0] == taz_node_gdf.taz_id.nunique()"
   ]
  },
  {
   "cell_type": "markdown",
   "metadata": {},
   "source": [
    "## links"
   ]
  },
  {
   "cell_type": "code",
   "execution_count": 8,
   "metadata": {},
   "outputs": [
    {
     "data": {
      "text/html": [
       "<div>\n",
       "<style scoped>\n",
       "    .dataframe tbody tr th:only-of-type {\n",
       "        vertical-align: middle;\n",
       "    }\n",
       "\n",
       "    .dataframe tbody tr th {\n",
       "        vertical-align: top;\n",
       "    }\n",
       "\n",
       "    .dataframe thead th {\n",
       "        text-align: right;\n",
       "    }\n",
       "</style>\n",
       "<table border=\"1\" class=\"dataframe\">\n",
       "  <thead>\n",
       "    <tr style=\"text-align: right;\">\n",
       "      <th></th>\n",
       "      <th>A</th>\n",
       "      <th>B</th>\n",
       "      <th>drive_access</th>\n",
       "      <th>walk_access</th>\n",
       "      <th>bike_access</th>\n",
       "      <th>shstGeometryId</th>\n",
       "      <th>id</th>\n",
       "      <th>u</th>\n",
       "      <th>v</th>\n",
       "      <th>fromIntersectionId</th>\n",
       "      <th>toIntersectionId</th>\n",
       "      <th>county</th>\n",
       "      <th>roadway</th>\n",
       "      <th>geometry</th>\n",
       "    </tr>\n",
       "  </thead>\n",
       "  <tbody>\n",
       "    <tr>\n",
       "      <th>0</th>\n",
       "      <td>225259.0</td>\n",
       "      <td>1460.0</td>\n",
       "      <td>1</td>\n",
       "      <td>0</td>\n",
       "      <td>0</td>\n",
       "      <td>be68d5105155224803a916f1b7673a60</td>\n",
       "      <td>be68d5105155224803a916f1b7673a60</td>\n",
       "      <td>980049814.0</td>\n",
       "      <td>NaN</td>\n",
       "      <td>e3809600ae9687b10115883a13a3bf4c</td>\n",
       "      <td>NaN</td>\n",
       "      <td>NaN</td>\n",
       "      <td>taz</td>\n",
       "      <td>LINESTRING (-93.28633 44.93045, -93.28632 44.9...</td>\n",
       "    </tr>\n",
       "    <tr>\n",
       "      <th>1</th>\n",
       "      <td>218458.0</td>\n",
       "      <td>1460.0</td>\n",
       "      <td>1</td>\n",
       "      <td>0</td>\n",
       "      <td>0</td>\n",
       "      <td>bd96aa983487595e203ce16ab2a453a5</td>\n",
       "      <td>bd96aa983487595e203ce16ab2a453a5</td>\n",
       "      <td>814491420.0</td>\n",
       "      <td>NaN</td>\n",
       "      <td>8b73508201be5b4e066bf0d3fcac1048</td>\n",
       "      <td>NaN</td>\n",
       "      <td>NaN</td>\n",
       "      <td>taz</td>\n",
       "      <td>LINESTRING (-93.28504 44.93045, -93.28632 44.9...</td>\n",
       "    </tr>\n",
       "    <tr>\n",
       "      <th>2</th>\n",
       "      <td>225258.0</td>\n",
       "      <td>1460.0</td>\n",
       "      <td>1</td>\n",
       "      <td>0</td>\n",
       "      <td>0</td>\n",
       "      <td>a068b76ce96e7d6dc4b6a5856cda2d3a</td>\n",
       "      <td>a068b76ce96e7d6dc4b6a5856cda2d3a</td>\n",
       "      <td>980049813.0</td>\n",
       "      <td>NaN</td>\n",
       "      <td>d02eb23520161ef8cb557f486f8380b9</td>\n",
       "      <td>NaN</td>\n",
       "      <td>Hennepin</td>\n",
       "      <td>taz</td>\n",
       "      <td>LINESTRING (-93.28632 44.92864, -93.28632 44.9...</td>\n",
       "    </tr>\n",
       "  </tbody>\n",
       "</table>\n",
       "</div>"
      ],
      "text/plain": [
       "          A       B  drive_access  walk_access  bike_access  \\\n",
       "0  225259.0  1460.0             1            0            0   \n",
       "1  218458.0  1460.0             1            0            0   \n",
       "2  225258.0  1460.0             1            0            0   \n",
       "\n",
       "                     shstGeometryId                                id  \\\n",
       "0  be68d5105155224803a916f1b7673a60  be68d5105155224803a916f1b7673a60   \n",
       "1  bd96aa983487595e203ce16ab2a453a5  bd96aa983487595e203ce16ab2a453a5   \n",
       "2  a068b76ce96e7d6dc4b6a5856cda2d3a  a068b76ce96e7d6dc4b6a5856cda2d3a   \n",
       "\n",
       "             u   v                fromIntersectionId toIntersectionId  \\\n",
       "0  980049814.0 NaN  e3809600ae9687b10115883a13a3bf4c              NaN   \n",
       "1  814491420.0 NaN  8b73508201be5b4e066bf0d3fcac1048              NaN   \n",
       "2  980049813.0 NaN  d02eb23520161ef8cb557f486f8380b9              NaN   \n",
       "\n",
       "     county roadway                                           geometry  \n",
       "0       NaN     taz  LINESTRING (-93.28633 44.93045, -93.28632 44.9...  \n",
       "1       NaN     taz  LINESTRING (-93.28504 44.93045, -93.28632 44.9...  \n",
       "2  Hennepin     taz  LINESTRING (-93.28632 44.92864, -93.28632 44.9...  "
      ]
     },
     "execution_count": 8,
     "metadata": {},
     "output_type": "execute_result"
    }
   ],
   "source": [
    "taz_cc_link_gdf.head(3)"
   ]
  },
  {
   "cell_type": "code",
   "execution_count": 9,
   "metadata": {},
   "outputs": [
    {
     "data": {
      "text/plain": [
       "A         B       \n",
       "1874.0    125480.0    2\n",
       "308049.0  1926.0      2\n",
       "56800.0   54.0        2\n",
       "1293.0    228928.0    2\n",
       "          28735.0     2\n",
       "                     ..\n",
       "2166.0    141570.0    1\n",
       "          142103.0    1\n",
       "          142104.0    1\n",
       "          352699.0    1\n",
       "415324.0  2575.0      1\n",
       "Name: drive_access, Length: 41812, dtype: int64"
      ]
     },
     "execution_count": 9,
     "metadata": {},
     "output_type": "execute_result"
    }
   ],
   "source": [
    "# count records by 'A', 'B' pairs, count records and sort from high to low\n",
    "taz_cc_link_gdf.groupby(['A','B'])['drive_access'].count().sort_values(ascending=False)"
   ]
  },
  {
   "cell_type": "code",
   "execution_count": 10,
   "metadata": {},
   "outputs": [
    {
     "data": {
      "text/html": [
       "<div>\n",
       "<style scoped>\n",
       "    .dataframe tbody tr th:only-of-type {\n",
       "        vertical-align: middle;\n",
       "    }\n",
       "\n",
       "    .dataframe tbody tr th {\n",
       "        vertical-align: top;\n",
       "    }\n",
       "\n",
       "    .dataframe thead th {\n",
       "        text-align: right;\n",
       "    }\n",
       "</style>\n",
       "<table border=\"1\" class=\"dataframe\">\n",
       "  <thead>\n",
       "    <tr style=\"text-align: right;\">\n",
       "      <th></th>\n",
       "      <th>A</th>\n",
       "      <th>B</th>\n",
       "      <th>drive_access</th>\n",
       "      <th>walk_access</th>\n",
       "      <th>bike_access</th>\n",
       "      <th>shstGeometryId</th>\n",
       "      <th>id</th>\n",
       "      <th>u</th>\n",
       "      <th>v</th>\n",
       "      <th>fromIntersectionId</th>\n",
       "      <th>toIntersectionId</th>\n",
       "      <th>county</th>\n",
       "      <th>roadway</th>\n",
       "      <th>geometry</th>\n",
       "    </tr>\n",
       "  </thead>\n",
       "  <tbody>\n",
       "    <tr>\n",
       "      <th>13201</th>\n",
       "      <td>1874.0</td>\n",
       "      <td>125480.0</td>\n",
       "      <td>1</td>\n",
       "      <td>0</td>\n",
       "      <td>0</td>\n",
       "      <td>e1c3ebad0eca043c4ddff68a64b782da</td>\n",
       "      <td>e1c3ebad0eca043c4ddff68a64b782da</td>\n",
       "      <td>NaN</td>\n",
       "      <td>187878022.0</td>\n",
       "      <td>NaN</td>\n",
       "      <td>acb78640dc99c5bca1fab8d42ad03534</td>\n",
       "      <td>Ramsey</td>\n",
       "      <td>taz</td>\n",
       "      <td>LINESTRING (-93.17836 45.00820, -93.18188 45.0...</td>\n",
       "    </tr>\n",
       "    <tr>\n",
       "      <th>39067</th>\n",
       "      <td>1874.0</td>\n",
       "      <td>125480.0</td>\n",
       "      <td>0</td>\n",
       "      <td>1</td>\n",
       "      <td>1</td>\n",
       "      <td>e1c3ebad0eca043c4ddff68a64b782da</td>\n",
       "      <td>e1c3ebad0eca043c4ddff68a64b782da</td>\n",
       "      <td>NaN</td>\n",
       "      <td>187878022.0</td>\n",
       "      <td>NaN</td>\n",
       "      <td>acb78640dc99c5bca1fab8d42ad03534</td>\n",
       "      <td>Ramsey</td>\n",
       "      <td>taz</td>\n",
       "      <td>LINESTRING (-93.17836 45.00820, -93.18188 45.0...</td>\n",
       "    </tr>\n",
       "  </tbody>\n",
       "</table>\n",
       "</div>"
      ],
      "text/plain": [
       "            A         B  drive_access  walk_access  bike_access  \\\n",
       "13201  1874.0  125480.0             1            0            0   \n",
       "39067  1874.0  125480.0             0            1            1   \n",
       "\n",
       "                         shstGeometryId                                id   u  \\\n",
       "13201  e1c3ebad0eca043c4ddff68a64b782da  e1c3ebad0eca043c4ddff68a64b782da NaN   \n",
       "39067  e1c3ebad0eca043c4ddff68a64b782da  e1c3ebad0eca043c4ddff68a64b782da NaN   \n",
       "\n",
       "                 v fromIntersectionId                  toIntersectionId  \\\n",
       "13201  187878022.0                NaN  acb78640dc99c5bca1fab8d42ad03534   \n",
       "39067  187878022.0                NaN  acb78640dc99c5bca1fab8d42ad03534   \n",
       "\n",
       "       county roadway                                           geometry  \n",
       "13201  Ramsey     taz  LINESTRING (-93.17836 45.00820, -93.18188 45.0...  \n",
       "39067  Ramsey     taz  LINESTRING (-93.17836 45.00820, -93.18188 45.0...  "
      ]
     },
     "execution_count": 10,
     "metadata": {},
     "output_type": "execute_result"
    }
   ],
   "source": [
    "taz_cc_link_gdf[(taz_cc_link_gdf['A'] == 1874) & (taz_cc_link_gdf['B'] == 125480)]"
   ]
  },
  {
   "cell_type": "code",
   "execution_count": 11,
   "metadata": {},
   "outputs": [],
   "source": [
    "# groupby 'A', 'B' pairs, and aggregate 'drive_access' by max, keep the rest of the columns\n",
    "\n",
    "taz_cc_link_gdf = taz_cc_link_gdf.groupby(['A','B']).agg(\n",
    "    {\n",
    "        'drive_access':'max', # consolidating drive and bike/walk\n",
    "        'walk_access':'max', # consolidating drive and bike/walk\n",
    "        'bike_access':'max', # consolidating drive and bike/walk\n",
    "        'shstGeometryId':'first', \n",
    "        'id':'first',\n",
    "        'u':'first',\n",
    "        'v':'first',\n",
    "        'fromIntersectionId':'first',\n",
    "        'toIntersectionId':'first',\n",
    "        'county':'first',\n",
    "        'roadway':'first', \n",
    "        'geometry':'first'\n",
    "    }\n",
    ").reset_index()\n",
    "\n",
    "# convert links to geodataframe\n",
    "taz_cc_link_gdf = gpd.GeoDataFrame(taz_cc_link_gdf, geometry='geometry', crs=crs)"
   ]
  },
  {
   "cell_type": "code",
   "execution_count": 12,
   "metadata": {},
   "outputs": [
    {
     "name": "stdout",
     "output_type": "stream",
     "text": [
      "<class 'geopandas.geodataframe.GeoDataFrame'>\n",
      "RangeIndex: 41812 entries, 0 to 41811\n",
      "Data columns (total 14 columns):\n",
      " #   Column              Non-Null Count  Dtype   \n",
      "---  ------              --------------  -----   \n",
      " 0   A                   41812 non-null  float64 \n",
      " 1   B                   41812 non-null  float64 \n",
      " 2   drive_access        41812 non-null  int64   \n",
      " 3   walk_access         41812 non-null  int64   \n",
      " 4   bike_access         41812 non-null  int64   \n",
      " 5   shstGeometryId      41812 non-null  object  \n",
      " 6   id                  41812 non-null  object  \n",
      " 7   u                   20906 non-null  float64 \n",
      " 8   v                   20906 non-null  float64 \n",
      " 9   fromIntersectionId  20906 non-null  object  \n",
      " 10  toIntersectionId    20906 non-null  object  \n",
      " 11  county              41808 non-null  object  \n",
      " 12  roadway             41812 non-null  object  \n",
      " 13  geometry            41812 non-null  geometry\n",
      "dtypes: float64(4), geometry(1), int64(3), object(6)\n",
      "memory usage: 4.5+ MB\n"
     ]
    }
   ],
   "source": [
    "taz_cc_link_gdf.info()"
   ]
  },
  {
   "cell_type": "code",
   "execution_count": 13,
   "metadata": {},
   "outputs": [],
   "source": [
    "# check if centroid link records are unique\n",
    "assert taz_cc_link_gdf.groupby(['A','B']).ngroups == taz_cc_link_gdf.shape[0]"
   ]
  },
  {
   "cell_type": "markdown",
   "metadata": {},
   "source": [
    "## shapes"
   ]
  },
  {
   "cell_type": "code",
   "execution_count": 14,
   "metadata": {},
   "outputs": [
    {
     "data": {
      "text/html": [
       "<div>\n",
       "<style scoped>\n",
       "    .dataframe tbody tr th:only-of-type {\n",
       "        vertical-align: middle;\n",
       "    }\n",
       "\n",
       "    .dataframe tbody tr th {\n",
       "        vertical-align: top;\n",
       "    }\n",
       "\n",
       "    .dataframe thead th {\n",
       "        text-align: right;\n",
       "    }\n",
       "</style>\n",
       "<table border=\"1\" class=\"dataframe\">\n",
       "  <thead>\n",
       "    <tr style=\"text-align: right;\">\n",
       "      <th></th>\n",
       "      <th>id</th>\n",
       "      <th>geometry</th>\n",
       "      <th>fromIntersectionId</th>\n",
       "      <th>county</th>\n",
       "    </tr>\n",
       "  </thead>\n",
       "  <tbody>\n",
       "    <tr>\n",
       "      <th>0</th>\n",
       "      <td>be68d5105155224803a916f1b7673a60</td>\n",
       "      <td>LINESTRING (-93.28633 44.93045, -93.28632 44.9...</td>\n",
       "      <td>e3809600ae9687b10115883a13a3bf4c</td>\n",
       "      <td>NaN</td>\n",
       "    </tr>\n",
       "    <tr>\n",
       "      <th>1</th>\n",
       "      <td>bd96aa983487595e203ce16ab2a453a5</td>\n",
       "      <td>LINESTRING (-93.28504 44.93045, -93.28632 44.9...</td>\n",
       "      <td>8b73508201be5b4e066bf0d3fcac1048</td>\n",
       "      <td>NaN</td>\n",
       "    </tr>\n",
       "    <tr>\n",
       "      <th>2</th>\n",
       "      <td>a068b76ce96e7d6dc4b6a5856cda2d3a</td>\n",
       "      <td>LINESTRING (-93.28632 44.92864, -93.28632 44.9...</td>\n",
       "      <td>d02eb23520161ef8cb557f486f8380b9</td>\n",
       "      <td>Hennepin</td>\n",
       "    </tr>\n",
       "  </tbody>\n",
       "</table>\n",
       "</div>"
      ],
      "text/plain": [
       "                                 id  \\\n",
       "0  be68d5105155224803a916f1b7673a60   \n",
       "1  bd96aa983487595e203ce16ab2a453a5   \n",
       "2  a068b76ce96e7d6dc4b6a5856cda2d3a   \n",
       "\n",
       "                                            geometry  \\\n",
       "0  LINESTRING (-93.28633 44.93045, -93.28632 44.9...   \n",
       "1  LINESTRING (-93.28504 44.93045, -93.28632 44.9...   \n",
       "2  LINESTRING (-93.28632 44.92864, -93.28632 44.9...   \n",
       "\n",
       "                 fromIntersectionId    county  \n",
       "0  e3809600ae9687b10115883a13a3bf4c       NaN  \n",
       "1  8b73508201be5b4e066bf0d3fcac1048       NaN  \n",
       "2  d02eb23520161ef8cb557f486f8380b9  Hennepin  "
      ]
     },
     "execution_count": 14,
     "metadata": {},
     "output_type": "execute_result"
    }
   ],
   "source": [
    "taz_cc_shape_gdf.head(3)"
   ]
  },
  {
   "cell_type": "code",
   "execution_count": 15,
   "metadata": {},
   "outputs": [
    {
     "data": {
      "text/plain": [
       "id\n",
       "26da46413bcf0fd055980bd57e3539ae    2\n",
       "71330b11196dc3877941d32bfea6b232    2\n",
       "7132801f56755db5cc4048b5e246334b    2\n",
       "712d1ba2bc628fef08c17e3b1e6b7fb5    2\n",
       "3cb932714ade81e7a5f23191c45cbebf    2\n",
       "                                   ..\n",
       "5a5a562318dd1156e44df85b0585e0e5    1\n",
       "5a5a09e7c8af04b447a180a92d97abe9    1\n",
       "5a547a8ff784950df055f2a914a8318d    1\n",
       "5a5444aabbec428d5cce2a7a74916630    1\n",
       "fffbaa5695b4e8716fecbbb23a9fc720    1\n",
       "Length: 20904, dtype: int64"
      ]
     },
     "execution_count": 15,
     "metadata": {},
     "output_type": "execute_result"
    }
   ],
   "source": [
    "taz_cc_shape_gdf.groupby(['id']).size().sort_values(ascending=False)"
   ]
  },
  {
   "cell_type": "code",
   "execution_count": 16,
   "metadata": {},
   "outputs": [],
   "source": [
    "# drop duplicate records in shapes\n",
    "\n",
    "taz_cc_shape_gdf = taz_cc_shape_gdf.groupby(['id']).agg(\n",
    "    {\n",
    "        'fromIntersectionId':'first',\n",
    "        'county':'first',\n",
    "        'geometry':'first'\n",
    "    }\n",
    ").reset_index()\n",
    "\n",
    "# convert shapes to geodataframe\n",
    "taz_cc_shape_gdf = gpd.GeoDataFrame(taz_cc_shape_gdf, geometry='geometry', crs=crs)"
   ]
  },
  {
   "cell_type": "code",
   "execution_count": 17,
   "metadata": {},
   "outputs": [
    {
     "data": {
      "text/html": [
       "<div>\n",
       "<style scoped>\n",
       "    .dataframe tbody tr th:only-of-type {\n",
       "        vertical-align: middle;\n",
       "    }\n",
       "\n",
       "    .dataframe tbody tr th {\n",
       "        vertical-align: top;\n",
       "    }\n",
       "\n",
       "    .dataframe thead th {\n",
       "        text-align: right;\n",
       "    }\n",
       "</style>\n",
       "<table border=\"1\" class=\"dataframe\">\n",
       "  <thead>\n",
       "    <tr style=\"text-align: right;\">\n",
       "      <th></th>\n",
       "      <th>id</th>\n",
       "      <th>fromIntersectionId</th>\n",
       "      <th>county</th>\n",
       "      <th>geometry</th>\n",
       "    </tr>\n",
       "  </thead>\n",
       "  <tbody>\n",
       "    <tr>\n",
       "      <th>15619</th>\n",
       "      <td>be68d5105155224803a916f1b7673a60</td>\n",
       "      <td>e3809600ae9687b10115883a13a3bf4c</td>\n",
       "      <td>Hennepin</td>\n",
       "      <td>LINESTRING (-93.28633 44.93045, -93.28632 44.9...</td>\n",
       "    </tr>\n",
       "  </tbody>\n",
       "</table>\n",
       "</div>"
      ],
      "text/plain": [
       "                                     id                fromIntersectionId  \\\n",
       "15619  be68d5105155224803a916f1b7673a60  e3809600ae9687b10115883a13a3bf4c   \n",
       "\n",
       "         county                                           geometry  \n",
       "15619  Hennepin  LINESTRING (-93.28633 44.93045, -93.28632 44.9...  "
      ]
     },
     "execution_count": 17,
     "metadata": {},
     "output_type": "execute_result"
    }
   ],
   "source": [
    "taz_cc_shape_gdf[taz_cc_shape_gdf.id == 'be68d5105155224803a916f1b7673a60']"
   ]
  },
  {
   "cell_type": "code",
   "execution_count": 18,
   "metadata": {},
   "outputs": [],
   "source": [
    "assert taz_cc_shape_gdf.id.nunique() == taz_cc_shape_gdf.shape[0]"
   ]
  },
  {
   "cell_type": "code",
   "execution_count": 19,
   "metadata": {},
   "outputs": [
    {
     "name": "stdout",
     "output_type": "stream",
     "text": [
      "(3030, 8)\n",
      "(41812, 14)\n",
      "(20904, 4)\n"
     ]
    }
   ],
   "source": [
    "print(taz_node_gdf.shape)\n",
    "print(taz_cc_link_gdf.shape)\n",
    "print(taz_cc_shape_gdf.shape)"
   ]
  },
  {
   "cell_type": "markdown",
   "metadata": {},
   "source": [
    "# Write out"
   ]
  },
  {
   "cell_type": "code",
   "execution_count": 20,
   "metadata": {},
   "outputs": [],
   "source": [
    "# write out back to pickle\n",
    "\n",
    "taz_node_gdf.to_pickle(os.path.join(consolidated_centroid_data_dir, \"centroid_node.pickle\"))\n",
    "taz_cc_link_gdf.to_pickle(os.path.join(consolidated_centroid_data_dir, \"cc_link.pickle\"))\n",
    "taz_cc_shape_gdf.to_pickle(os.path.join(consolidated_centroid_data_dir, \"cc_shape.pickle\"))"
   ]
  },
  {
   "cell_type": "code",
   "execution_count": 21,
   "metadata": {},
   "outputs": [],
   "source": [
    "# write nodes and shapes to geojson, write links to json\n",
    "\n",
    "taz_node_gdf.to_file(os.path.join(consolidated_centroid_data_dir, \"centroid_node.geojson\"), driver=\"GeoJSON\")\n",
    "with open(os.path.join(consolidated_centroid_data_dir, \"cc_link.json\"), 'w') as f:\n",
    "    f.write(pd.DataFrame(taz_cc_link_gdf.drop(columns=['geometry'])).to_json(orient='records'))\n",
    "taz_cc_link_gdf.to_file(os.path.join(consolidated_centroid_data_dir, \"cc_link.geojson\"), driver=\"GeoJSON\")\n",
    "taz_cc_shape_gdf.to_file(os.path.join(consolidated_centroid_data_dir, \"cc_shape.geojson\"), driver=\"GeoJSON\")"
   ]
  }
 ],
 "metadata": {
  "kernelspec": {
   "display_name": "lasso_wsp",
   "language": "python",
   "name": "python3"
  },
  "language_info": {
   "codemirror_mode": {
    "name": "ipython",
    "version": 3
   },
   "file_extension": ".py",
   "mimetype": "text/x-python",
   "name": "python",
   "nbconvert_exporter": "python",
   "pygments_lexer": "ipython3",
   "version": "3.7.12"
  },
  "orig_nbformat": 4
 },
 "nbformat": 4,
 "nbformat_minor": 2
}
