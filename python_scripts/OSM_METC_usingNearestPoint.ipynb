{
 "cells": [
  {
   "cell_type": "code",
   "execution_count": 1,
   "metadata": {},
   "outputs": [],
   "source": [
    "import pandas as pd\n",
    "import numpy as np\n",
    "import osmnx as ox\n",
    "import networkx as nx\n",
    "import geopandas as gpd\n",
    "import sharedstreets.tile\n",
    "import mercantile\n",
    "from shapely.geometry import Point, shape, MultiPoint\n",
    "from functools import partial\n",
    "import pyproj\n",
    "from shapely.ops import transform, nearest_points"
   ]
  },
  {
   "cell_type": "markdown",
   "metadata": {},
   "source": [
    "#references\n",
    "https://platform.sharedstreets.io/40.71297/-74.00428/17.117/\n",
    "https://automating-gis-processes.github.io/2017/lessons/L7/network-analysis.html\n",
    "https://automating-gis-processes.github.io/2017/lessons/L3/nearest-neighbour.html"
   ]
  },
  {
   "cell_type": "markdown",
   "metadata": {},
   "source": [
    "# download the street map from OSM"
   ]
  },
  {
   "cell_type": "code",
   "execution_count": 2,
   "metadata": {},
   "outputs": [],
   "source": [
    "# polygon boundry\n",
    "client_ploys_gdf = gpd.read_file(\"GIS/TAZOfficialWCurrentForecasts.shp\")"
   ]
  },
  {
   "cell_type": "code",
   "execution_count": 3,
   "metadata": {},
   "outputs": [],
   "source": [
    "# project to lat-long\n",
    "polygon_df_new = client_ploys_gdf.to_crs(epsg = 4326)"
   ]
  },
  {
   "cell_type": "code",
   "execution_count": 4,
   "metadata": {},
   "outputs": [],
   "source": [
    "# get street network from polygon\n",
    "G = ox.graph_from_polygon(polygon_df_new['geometry'].unary_union, network_type='drive')"
   ]
  },
  {
   "cell_type": "markdown",
   "metadata": {},
   "source": [
    "#plot street network\n",
    "#ox.plot_graph(G)"
   ]
  },
  {
   "cell_type": "code",
   "execution_count": 5,
   "metadata": {},
   "outputs": [],
   "source": [
    "# save network as shapefile, two one-way links will be merged as one two-way link\n",
    "# will help in runtime\n",
    "#ox.save_graph_shapefile(G, filename='network-shape_MetCouncil_full')"
   ]
  },
  {
   "cell_type": "markdown",
   "metadata": {},
   "source": [
    "# Read local OSM network"
   ]
  },
  {
   "cell_type": "code",
   "execution_count": 6,
   "metadata": {},
   "outputs": [
    {
     "data": {
      "text/plain": [
       "(230373, 20)"
      ]
     },
     "execution_count": 6,
     "metadata": {},
     "output_type": "execute_result"
    }
   ],
   "source": [
    "# read shapefile as geopandas df\n",
    "osm_edges_gdf = gpd.read_file(\"data/network-shape_MetCouncil_full/edges/edges.shp\")\n",
    "osm_edges_gdf['mid_point'] = osm_edges_gdf['geometry'].interpolate(0.5, normalized = True)\n",
    "osm_edges_gdf.shape"
   ]
  },
  {
   "cell_type": "markdown",
   "metadata": {},
   "source": [
    "# Getting SharedStreets"
   ]
  },
  {
   "cell_type": "code",
   "execution_count": 7,
   "metadata": {},
   "outputs": [],
   "source": [
    "# generate a GeoJSON which represents the parsed protobuf vector tiles from SharedStreets, \n",
    "# representing all tiles related to the networkx\n",
    "\n",
    "def generate_geojson_of_coverage_area_streets(G, z=12, buffer_size = 0.015):\n",
    "    geojson_master = None\n",
    "    for mt in _generate_tile_coordinates(G, z, buffer_size):\n",
    "        tile = sharedstreets.tile.get_tile(z, mt.x, mt.y)\n",
    "        geojson = sharedstreets.tile.make_geojson(tile)\n",
    "\n",
    "        if geojson_master is None:\n",
    "            geojson_master = geojson\n",
    "\n",
    "        else:\n",
    "            # Updates both the features and references keys\n",
    "            for key in ['features', 'references']:\n",
    "                fs = _filter_new_objects(geojson_master, geojson, key)\n",
    "                geojson_master[key].extend(fs)\n",
    "    return geojson_master\n",
    "\n",
    "\n",
    "\n",
    "def _generate_tile_coordinates(G, z, buffer_size = 0.015):\n",
    "    '''\n",
    "    :G: is either a networkX graph instance or a tuple of lat/long\n",
    "    :z: is zoom level. Default is 12\n",
    "    :buffer_size: is in degrees. Default: 0.015 is approx 1 mile, 0.03 is about 2 miles\n",
    "    # parts of this are from http://kuanbutts.com/2018/06/07/sharedstreets-explore/\n",
    "    # convert lat-long to XYZ tiles, use mercantile, https://media.readthedocs.org/pdf/mercantile/latest/mercantile.pdf\n",
    "    '''\n",
    "    mts = []\n",
    "    for i, n in list(G.nodes(data=True)):\n",
    "        # Now perform a buffer around the node points\n",
    "        # to get a rough estimate of everything within\n",
    "        # about 1 miles of the node\n",
    "        p = Point(n['x'], n['y'])\n",
    "        bp = p.buffer(buffer_size)  \n",
    "        bpe = bp.simplify(0.005).exterior\n",
    "        for x, y in zip(*bpe.coords.xy):\n",
    "            mt = mercantile.tile(x, y, z)\n",
    "            mts.append(mt)\n",
    "\n",
    "    # Dedupe results\n",
    "    return set(mts)\n",
    "\n",
    "\n",
    "def _filter_new_objects(master, new_gj, key):\n",
    "    keep = []\n",
    "    gm_ids = [f['id'] for f in master[key]]\n",
    "    for f2 in new_gj[key]:\n",
    "        if f2['id'] not in gm_ids:\n",
    "            keep.append(f2)\n",
    "    return keep"
   ]
  },
  {
   "cell_type": "code",
   "execution_count": 8,
   "metadata": {},
   "outputs": [],
   "source": [
    "# Generate a GeoJSON Feature Collection of the total coverage area, 1hr to run for the Met Council Core region\n",
    "ssgj = generate_geojson_of_coverage_area_streets(G)"
   ]
  },
  {
   "cell_type": "markdown",
   "metadata": {},
   "source": [
    "# Tag SSID to existing OSM graph"
   ]
  },
  {
   "cell_type": "code",
   "execution_count": 9,
   "metadata": {},
   "outputs": [],
   "source": [
    "# creating a look up from the reference to the geometries\n",
    "geometry_lookup = {}\n",
    "for feature in ssgj['features']:\n",
    "    i = feature['id']\n",
    "    geometry_lookup[i] = feature\n",
    "    \n",
    "shaped_references = []\n",
    "for r in ssgj['references']:\n",
    "    feature = geometry_lookup[r['geometryId']]\n",
    "    r['feature'] = feature\n",
    "    \n",
    "    # Also convert all distances to meter from centimeter\n",
    "    for lr in r['locationReferences']:\n",
    "        d = lr['distanceToNextRef']\n",
    "        if d is not None:\n",
    "            lr['distanceToNextRef'] = d/100.0\n",
    "\n",
    "    shaped_references.append(r)"
   ]
  },
  {
   "cell_type": "code",
   "execution_count": 18,
   "metadata": {},
   "outputs": [
    {
     "data": {
      "text/plain": [
       "(458030, 6)"
      ]
     },
     "execution_count": 18,
     "metadata": {},
     "output_type": "execute_result"
    }
   ],
   "source": [
    "# Create the sharestreets edges geo dataframe\n",
    "ss_edges = []\n",
    "for sr in shaped_references:\n",
    "    # Only do for direct edges (which should be all)\n",
    "    if len(sr['locationReferences']) == 2:\n",
    "        lrs = sr['locationReferences']\n",
    "        if lrs[0]['sequence'] == 0:\n",
    "            first = 0\n",
    "            last = 1\n",
    "        else:\n",
    "            first = 1\n",
    "            last = 0\n",
    "            \n",
    "        lrs = sr['locationReferences']\n",
    "        fr = lrs[first]['intersectionId']\n",
    "        to = lrs[last]['intersectionId']\n",
    "        d = lrs[first]['distanceToNextRef']\n",
    "        ss_edges.append({\n",
    "            'id': sr['id'],\n",
    "            'from': fr,\n",
    "            'to': to,\n",
    "            'length': d,\n",
    "            'geometry': shape(sr['feature']['geometry'])\n",
    "        })\n",
    "\n",
    "    # This should not ever happen\n",
    "    else:\n",
    "        # Could actually use logger instead of a print statement\n",
    "        print('Skipped an edge - not length 2')\n",
    "        \n",
    "ss_edges_df = pd.DataFrame(ss_edges)\n",
    "ss_edges_df = ss_edges_df.drop_duplicates(subset=['id'], keep='first')\n",
    "ss_edges_gdf = gpd.GeoDataFrame(ss_edges_df, geometry=ss_edges_df.geometry)\n",
    "\n",
    "ss_edges_gdf['mid_point'] = ss_edges_gdf['geometry'].interpolate(0.5, normalized = True)\n",
    "ss_edges_gdf.shape"
   ]
  },
  {
   "cell_type": "code",
   "execution_count": 22,
   "metadata": {},
   "outputs": [],
   "source": [
    "# Reproject project in equal area meter\n",
    "project = partial(\n",
    "    pyproj.transform,\n",
    "    pyproj.Proj(init='epsg:4326'),  # source coordinate system\n",
    "    pyproj.Proj(init='epsg:2163'))  # destination coordinate system\n",
    "\n",
    "ss_edges_gdf_reproj = ss_edges_gdf.copy()\n",
    "ss_edges_gdf_reproj['geometry'] = ss_edges_gdf_reproj['geometry'].apply(lambda g: transform(project, g))"
   ]
  },
  {
   "cell_type": "markdown",
   "metadata": {},
   "source": [
    "unary_union = polygon_df_new['geometry'].unary_union\n",
    "ss_edges_gdf = ss_edges_gdf[ss_edges_gdf.within(unary_union)]\n",
    "ss_edges_gdf.shape"
   ]
  },
  {
   "cell_type": "code",
   "execution_count": 12,
   "metadata": {},
   "outputs": [
    {
     "name": "stderr",
     "output_type": "stream",
     "text": [
      "C:\\ProgramData\\Anaconda3\\lib\\site-packages\\geopandas\\io\\file.py:108: FionaDeprecationWarning: Use fiona.Env() instead.\n",
      "  with fiona.drivers():\n"
     ]
    }
   ],
   "source": [
    "#ss_edges_gdf.drop('mid_point', axis = 1).to_file(\"data/metcouncil_ss.shp\")"
   ]
  },
  {
   "cell_type": "code",
   "execution_count": 13,
   "metadata": {},
   "outputs": [],
   "source": [
    "def nearest(row, geom_union, df1, df2, geom1_col, geom2_col, src_column=None):\n",
    "    \"\"\"Find the nearest point and return the corresponding value from specified column.\"\"\"\n",
    "    # Find the geometry that is closest\n",
    "    nearest = df2[geom2_col] == nearest_points(row[geom1_col], geom_union)[1]\n",
    "    # Get the corresponding value from df2 (matching is based on the geometry)\n",
    "    value = df2[nearest][src_column].get_values()[0]\n",
    "    return value"
   ]
  },
  {
   "cell_type": "code",
   "execution_count": 19,
   "metadata": {},
   "outputs": [
    {
     "data": {
      "text/plain": [
       "shapely.geometry.multipoint.MultiPoint"
      ]
     },
     "execution_count": 19,
     "metadata": {},
     "output_type": "execute_result"
    }
   ],
   "source": [
    "#unary_union = ss_edges_gdf['mid_point'].unary_union\n",
    "unary_union = MultiPoint(ss_edges_gdf['mid_point'])\n",
    "type(unary_union)"
   ]
  },
  {
   "cell_type": "code",
   "execution_count": null,
   "metadata": {},
   "outputs": [
    {
     "name": "stdout",
     "output_type": "stream",
     "text": [
      "Eval 230373 nodes\n"
     ]
    }
   ],
   "source": [
    "nodes_to_consider = []\n",
    "for i, node, from_node, to_node in zip(osm_edges_gdf['osmid'], osm_edges_gdf['mid_point'], osm_edges_gdf['from'], osm_edges_gdf['to']):\n",
    "    node_p = transform(project, node)  # apply projection\n",
    "    nodes_to_consider.append((i, node_p, from_node, to_node))\n",
    "\n",
    "print('Eval {} nodes'.format(len(nodes_to_consider)))\n",
    "\n",
    "def min_dist(point, gdf, max_d):\n",
    "    # Get all possible road segments that are within 20 meters of the node\n",
    "    gdf_sub = gdf[gdf.intersects(point.buffer(20))]\n",
    "    gdf_sub = gdf_sub.reset_index(drop=True)\n",
    "    \n",
    "    # Calculate the shortest distance to all these subset segments    \n",
    "    dists = []\n",
    "    for geom in gdf_sub.geometry:\n",
    "        d = point.distance(geom)\n",
    "        dists.append(d)\n",
    "        \n",
    "    # Bail early if nothing to compare with\n",
    "    if len(dists) == 0:\n",
    "        return None\n",
    "    \n",
    "    # Note: min_dist is in meters\n",
    "    dists = np.array(dists)\n",
    "    dm = dists.min()\n",
    "    \n",
    "    # Do not allow \"too-far\" distances\n",
    "    if dm > max_d:\n",
    "        return None\n",
    "    \n",
    "    # Otherwise return the smallest distance row\n",
    "    row = gdf_sub.iloc[dists == dm].head(1).squeeze()\n",
    "    distance_along = row.geometry.project(point)\n",
    "    return {\n",
    "        'row': row,\n",
    "        'distance_along': distance_along,\n",
    "        'percentage_along': distance_along/row.geometry.length}\n",
    "\n",
    "assoc_segments = []\n",
    "for i, node_p, from_node, to_node in nodes_to_consider:\n",
    "    closest = min_dist(node_p, ss_edges_gdf_reproj, 50)\n",
    "\n",
    "    # Only if there is one found\n",
    "    if closest is not None:\n",
    "        g = closest['row'].geometry\n",
    "        ss_id = closest['row']['id']\n",
    "        fr_ss_id = closest['row']['from']\n",
    "        to_ss_id = closest['row']['to']\n",
    "        distance_along = closest['distance_along']\n",
    "        percentage_along = closest['percentage_along']\n",
    "    else:\n",
    "        g = None\n",
    "        ss_id = None\n",
    "        fr_ss_id = None\n",
    "        to_ss_id = None\n",
    "        distance_along = None\n",
    "        percentage_along = None\n",
    "    assoc_segments.append({\n",
    "        'osmid': i,\n",
    "        'osmid_from_node' : from_node,\n",
    "        'osmid_to_node' : to_node,\n",
    "        'ssid_edge': ss_id,\n",
    "        'ssid_from': fr_ss_id,\n",
    "        'ssid_to': to_ss_id,\n",
    "        'geometry': g,\n",
    "        'distance_along': distance_along,\n",
    "        'percentage_along': percentage_along})\n",
    "\n",
    "assoc_segments_df = pd.DataFrame(assoc_segments)\n",
    "assoc_segments_gdf_meter = gpd.GeoDataFrame(assoc_segments_df, geometry=assoc_segments_df.geometry)"
   ]
  },
  {
   "cell_type": "code",
   "execution_count": null,
   "metadata": {},
   "outputs": [],
   "source": [
    "osm_edges_gdf['ss_id'] = osm_edges_gdf.apply(nearest, \n",
    "                                        geom_union = unary_union, \n",
    "                                        df1 = osm_edges_gdf, \n",
    "                                        df2 = ss_edges_gdf, \n",
    "                                        geom1_col = 'mid_point', \n",
    "                                        geom2_col = 'mid_point',\n",
    "                                        src_column='id', \n",
    "                                        axis=1)"
   ]
  },
  {
   "cell_type": "code",
   "execution_count": null,
   "metadata": {},
   "outputs": [],
   "source": [
    "osm_edges_gdf.drop('mid_point', axis = 1).to_file(\"data/paired_osm_ss.shp\")"
   ]
  },
  {
   "cell_type": "code",
   "execution_count": null,
   "metadata": {},
   "outputs": [],
   "source": [
    "ss_assoc_gdf = ss_edges_gdf[ss_edges_gdf['id'].isin(osm_edges_gdf['ss_id'])]"
   ]
  },
  {
   "cell_type": "code",
   "execution_count": null,
   "metadata": {},
   "outputs": [],
   "source": [
    "ss_assoc_gdf.plot()"
   ]
  }
 ],
 "metadata": {
  "kernelspec": {
   "display_name": "Python 3",
   "language": "python",
   "name": "python3"
  },
  "language_info": {
   "codemirror_mode": {
    "name": "ipython",
    "version": 3
   },
   "file_extension": ".py",
   "mimetype": "text/x-python",
   "name": "python",
   "nbconvert_exporter": "python",
   "pygments_lexer": "ipython3",
   "version": "3.7.1"
  }
 },
 "nbformat": 4,
 "nbformat_minor": 2
}
