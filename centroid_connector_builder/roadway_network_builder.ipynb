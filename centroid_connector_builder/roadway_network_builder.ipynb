{
 "cells": [
  {
   "cell_type": "markdown",
   "metadata": {},
   "source": [
    "roadway network builder\n",
    "description: create roadway features after centroid connector builder\n",
    "Sijia.Wang@wsp.com\n",
    "Feb 21, 2019"
   ]
  },
  {
   "cell_type": "code",
   "execution_count": 1,
   "metadata": {},
   "outputs": [],
   "source": [
    "import pandas as pd\n",
    "import numpy as np\n",
    "import geopandas as gpd\n",
    "from shapely.geometry import Point, shape, LineString\n",
    "from osgeo import ogr"
   ]
  },
  {
   "cell_type": "code",
   "execution_count": 2,
   "metadata": {},
   "outputs": [],
   "source": [
    "#define input files\n",
    "#osm drive network (edge/node), centroid connector file, node coordinates\n",
    "cd = \"C:/Users/wangs1/Documents/Met_Council/\"\n",
    "osm_drive_edge_file = cd + \"centroid_connector_builder/osm_drive_edges_with_cc_new.shp\"\n",
    "osm_walk_edge_file = cd + \"centroid_connector_builder/osm_walk_edges_with_cc_new.shp\"\n",
    "county_shape_file = cd + \"GIS/cb_2017_us_county_5m/cb_2017_us_county_5m.shp\"\n",
    "mn_count_file = cd + \"osm_roadway_network_builder/count_corresp/AADT_2017_Count_Loca_corresp.csv\"\n",
    "wi_count_file = cd + \"osm_roadway_network_builder/count_corresp/TRADAS_(counts)_corresp.csv\"\n",
    "mn_fc_file = cd + \"osm_roadway_network_builder/RC_corresp/trans_mrcc_centerlines.csv\"\n",
    "wi_fc_file = cd + \"osm_roadway_network_builder/RC_corresp/WISLR.csv\" \n",
    "fc_corrsp_file = cd + \"osm_roadway_network_builder/RC_corresp/osm_drive_edges_with_fc_id.csv\"\n",
    "\n",
    "#define county name codes\n",
    "county_name_dict = {'Anoka':1, 'Carver':2, 'Dakota':3, 'Hennepin':4, 'Ramsey':5, 'Scott':6, 'Washington':7, 'external':10,\n",
    "                    'Chisago':11, 'Goodhue':12, 'Isanti':13, 'Le Sueur':14, 'McLeod':15, 'Pierce':16, 'Polk':17, 'Rice':18,\n",
    "                    'Sherburne':19, 'Sibley':20, 'St. Croix':21, 'Wright':22}\n",
    "\n",
    "#area corresp\n",
    "area_file = cd + \"GIS/shp_society_thrive_msp2040_com_des/ThriveMSP2040CommunityDesignation.shp\"\n",
    "area_code_dict = {23 : 4, 24 : 3, 25 : 2, 35 : 2, 36 : 1, 41 : 1, 51 : 1, 52 : 1, 53 : 1, 60 : 1}\n",
    "\n",
    "#asgngrp corresp\n",
    "mn_asgngrp_dict = {1 : 1, 2 : 2, 3 : 6, 4 : 7, 5 : 7, 7 : 6, 8 : 6, 9 : 11, 10 : 7, 13 : 7, 15 : 7, 16 : 7, 18 : 101, \n",
    "                   19 : 7, 20 : 7, 21 : 3, 22 : 5, 23 : 11, 25 : 11, 26 : 11, 30 : 7, 32 : 7, 34 : 98, 41 : 8, 52 : 2, \n",
    "                   53 : 6, 70 : 11}\n",
    "wi_asgngrp_dict = {4 : 7, 5 : 6, 7 : 7, 8 : 11, 9 : 11, 10 : 1, 20 : 6, 26 : 6, 30 : 15, 36 : 2, 40 : 3, 41 : 7, 42 : 101,\n",
    "                   43 : 11, 44 : 11, 45 : 7, 46 : 7, 99 : 11}\n",
    "\n",
    "#rc_num corresp\n",
    "mn_rc_num_dict = {1 : 10, 2 : 20, 3 : 30, 4 : 10, 5 : 20, 7 : 40, 8 : 50, 9 : 50, 10 : 30, 13 : 30, 15 : 30, 16 : 40,\n",
    "                       18 : 101, 19 : 40, 20 : 50, 21 : 60, 22 : 40, 23 : 40, 25 : 50, 26 : 50, 30 : 50, 32 : 50, 34 : 101, \n",
    "                       41 : 10, 52 : 20, 53 : 30, 70 : 50}\n",
    "wi_rc_num_dict = {4 : 20, 5 : 30, 7 : 40, 8 : 50, 9 : 50, 10 : 10, 20 : 20, 26 : 30, 30 : 20, 36 : 30, 40 : 60, 41 : 40, \n",
    "                  42 : 101, 43 : 50, 44 : 50, 45 : 50, 46 : 30, 99 : 50}"
   ]
  },
  {
   "cell_type": "code",
   "execution_count": 3,
   "metadata": {},
   "outputs": [],
   "source": [
    "osm_drive_node_df = pd.read_csv(cd + \"centroid_connector_builder/osm_drive_nodes_with_centroid_new.csv\")[['N', 'OSMID']]\n",
    "osm_walk_node_df = pd.read_csv(cd + \"centroid_connector_builder/osm_walk_nodes_with_centroid_new.csv\")[['N', 'OSMID']]"
   ]
  },
  {
   "cell_type": "code",
   "execution_count": 4,
   "metadata": {},
   "outputs": [],
   "source": [
    "osm_drive_edge_gdf = gpd.read_file(osm_drive_edge_file)\n",
    "osm_drive_edge_gdf = osm_drive_edge_gdf.to_crs({'init': 'epsg:26915', 'no_defs': True})\n",
    "\n",
    "osm_walk_edge_gdf = gpd.read_file(osm_walk_edge_file)\n",
    "osm_walk_edge_gdf = osm_walk_edge_gdf.to_crs({'init': 'epsg:26915', 'no_defs': True})\n",
    "\n",
    "county_shape_gdf = gpd.read_file(county_shape_file)\n",
    "county_shape_gdf = county_shape_gdf.to_crs(epsg = 26915)\n",
    "\n",
    "area_gdf = gpd.read_file(area_file)[['COMDES2040', 'geometry']]\n",
    "area_gdf = area_gdf.to_crs({'init': 'epsg:26915', 'no_defs': True})"
   ]
  },
  {
   "cell_type": "code",
   "execution_count": 7,
   "metadata": {},
   "outputs": [],
   "source": [
    "mn_count_df = pd.read_csv(mn_count_file)[['id_count', 'CURR_VOL', 'LINK_ID']].drop_duplicates(['LINK_ID'])\n",
    "wi_count_df = pd.read_csv(wi_count_file)[['id_count', 'RDWY_AADT', 'LINK_ID']].drop_duplicates(['LINK_ID'])"
   ]
  },
  {
   "cell_type": "code",
   "execution_count": 8,
   "metadata": {},
   "outputs": [
    {
     "name": "stderr",
     "output_type": "stream",
     "text": [
      "C:\\ProgramData\\Anaconda3\\lib\\site-packages\\IPython\\core\\interactiveshell.py:3020: DtypeWarning: Columns (3,6,7,8,9,11,12,20,21,22,23,24,29,30,31,32,35,36,49,51,52,53,54,60,61,62,66) have mixed types. Specify dtype option on import or set low_memory=False.\n",
      "  interactivity=interactivity, compiler=compiler, result=result)\n",
      "C:\\ProgramData\\Anaconda3\\lib\\site-packages\\IPython\\core\\interactiveshell.py:3020: DtypeWarning: Columns (7,16,19,20) have mixed types. Specify dtype option on import or set low_memory=False.\n",
      "  interactivity=interactivity, compiler=compiler, result=result)\n"
     ]
    }
   ],
   "source": [
    "mn_fc_df = pd.read_csv(mn_fc_file)[['OBJECTID', 'ROUTE_SYS']]\n",
    "wi_fc_df = pd.read_csv(wi_fc_file)[['OBJECTID', 'RDWY_CTGY_']]\n",
    "\n",
    "fc_corresp_df = pd.read_csv(fc_corrsp_file)[['LINK_ID', 'mn_fc_id', 'wi_fc_id']]"
   ]
  },
  {
   "cell_type": "code",
   "execution_count": 11,
   "metadata": {},
   "outputs": [],
   "source": [
    "#map consecutive A, B node id\n",
    "def map_AB_osmid_to_consecutive_id(osm_edge_gdf, osm_node_df):\n",
    "    node_dict = dict(zip(osm_node_df.OSMID, osm_node_df.N))\n",
    "    osm_edge_gdf['osmid_from'] = pd.to_numeric(osm_edge_gdf['osmid_from'], downcast = 'integer')\n",
    "    osm_edge_gdf['osmid_to'] = pd.to_numeric(osm_edge_gdf['osmid_to'], downcast = 'integer')\n",
    "    osm_edge_gdf['A'] = osm_edge_gdf['osmid_from'].map(node_dict)\n",
    "    osm_edge_gdf['B'] = osm_edge_gdf['osmid_to'].map(node_dict)\n",
    "    osm_edge_gdf.dropna(subset = ['A', 'B'], axis = 0, inplace = True)\n",
    "    osm_edge_gdf['A'] = osm_edge_gdf['A'].astype(int)\n",
    "    osm_edge_gdf['B'] = osm_edge_gdf['B'].astype(int)\n",
    "    \n",
    "    return osm_edge_gdf"
   ]
  },
  {
   "cell_type": "code",
   "execution_count": 12,
   "metadata": {
    "scrolled": true
   },
   "outputs": [],
   "source": [
    "#add county, area\n",
    "def add_county_and_area_code(osm_edge_gdf, county_shape, area_shape):\n",
    "    osm_edge_gdf['mid_point'] = osm_edge_gdf['geometry'].interpolate(0.5, normalized = True)\n",
    "    osm_edge_gdf.rename(columns = {'mid_point' : 'geometry', 'geometry' : 'line_geom'}, inplace = True)\n",
    "\n",
    "    osm_edge_gdf = gpd.sjoin(osm_edge_gdf, \n",
    "                        county_shape, \n",
    "                        how = 'left', \n",
    "                        op = 'intersects')\n",
    "    osm_edge_gdf.drop('index_right', axis = 1, inplace = True)\n",
    "    osm_edge_gdf = gpd.sjoin(osm_edge_gdf, \n",
    "                        area_shape, \n",
    "                        how = 'left', \n",
    "                        op = 'intersects')\n",
    "\n",
    "    osm_edge_gdf.rename(columns = {'geometry' : 'mid_point', 'line_geom' : 'geometry'}, inplace = True)\n",
    "\n",
    "    #add county\n",
    "    osm_edge_gdf['COUNTY'] = osm_edge_gdf['NAME_right'].map(county_name_dict).fillna(10).astype(int)\n",
    "    #add area\n",
    "    osm_edge_gdf['AREA'] = osm_edge_gdf['COMDES2040'].map(area_code_dict).fillna(10).astype(int)\n",
    "    \n",
    "    return osm_edge_gdf"
   ]
  },
  {
   "cell_type": "code",
   "execution_count": 13,
   "metadata": {
    "scrolled": true
   },
   "outputs": [],
   "source": [
    "#add name\n",
    "def add_road_name(osm_edge_gdf):\n",
    "    osm_edge_gdf['NAME'] = osm_edge_gdf['NAME_left']\n",
    "    \n",
    "    return osm_edge_gdf"
   ]
  },
  {
   "cell_type": "code",
   "execution_count": 14,
   "metadata": {},
   "outputs": [],
   "source": [
    "#add AADT\n",
    "def add_counts(osm_edge_gdf, mn_count_df, wi_count_df):\n",
    "    osm_edge_gdf = pd.merge(osm_edge_gdf, mn_count_df,\n",
    "                       how = 'left',\n",
    "                       on = 'LINK_ID')\n",
    "    osm_edge_gdf = pd.merge(osm_edge_gdf, wi_count_df,\n",
    "                       how = 'left',\n",
    "                       on = 'LINK_ID')\n",
    "    \n",
    "    osm_edge_gdf['AADT'] = osm_edge_gdf[['CURR_VOL', 'RDWY_AADT']].max(axis = 1).fillna(0).astype(int)\n",
    "    \n",
    "    osm_edge_gdf['AM_CNT'] = (osm_edge_gdf['AADT'] / 4).astype(int)\n",
    "    osm_edge_gdf['MD_CNT'] = (osm_edge_gdf['AADT'] / 4).astype(int)\n",
    "    osm_edge_gdf['PM_CNT'] = (osm_edge_gdf['AADT'] / 4).astype(int)\n",
    "    osm_edge_gdf['NT_CNT'] = (osm_edge_gdf['AADT'] / 4).astype(int)\n",
    "    osm_edge_gdf['DY_CNT'] = osm_edge_gdf['AADT']\n",
    "    \n",
    "    return osm_edge_gdf"
   ]
  },
  {
   "cell_type": "code",
   "execution_count": 15,
   "metadata": {},
   "outputs": [],
   "source": [
    "#add asgngrp, rc_num\n",
    "def add_asgngrp_rc_num(osm_edge_gdf_in, mn_fc, wi_fc, fc_corresp):\n",
    "    osm_edge_gdf = osm_edge_gdf_in.copy()\n",
    "    osm_edge_gdf = pd.merge(osm_edge_gdf, fc_corresp,\n",
    "                           how = 'left',\n",
    "                           on = 'LINK_ID')\n",
    "    osm_edge_gdf = pd.merge(osm_edge_gdf, mn_fc,\n",
    "                           how = 'left',\n",
    "                           left_on = 'mn_fc_id',\n",
    "                           right_on = 'OBJECTID')\n",
    "    osm_edge_gdf = pd.merge(osm_edge_gdf, wi_fc,\n",
    "                           how = 'left',\n",
    "                           left_on = 'wi_fc_id',\n",
    "                           right_on = 'OBJECTID')\n",
    "    osm_edge_gdf['mn_ASGN'] = osm_edge_gdf['ROUTE_SYS'].map(mn_asgngrp_dict).fillna(0).astype(int)\n",
    "    osm_edge_gdf['wi_ASGN'] = osm_edge_gdf['RDWY_CTGY_'].map(wi_asgngrp_dict).fillna(0).astype(int)\n",
    "    osm_edge_gdf['ASGNGRP'] = np.where(osm_edge_gdf['CENTROID'] == 0,\n",
    "                                       osm_edge_gdf[['mn_ASGN', 'wi_ASGN']].max(axis = 1).astype(int),\n",
    "                                       9)\n",
    "    \n",
    "    osm_edge_gdf['mn_RC'] = osm_edge_gdf['ROUTE_SYS'].map(mn_rc_num_dict).fillna(0).astype(int)\n",
    "    osm_edge_gdf['wi_RC'] = osm_edge_gdf['RDWY_CTGY_'].map(wi_rc_num_dict).fillna(0).astype(int)\n",
    "    osm_edge_gdf['RC_NUM'] = np.where(osm_edge_gdf['CENTROID'] == 0,\n",
    "                                      osm_edge_gdf[['mn_RC', 'wi_RC']].max(axis = 1).astype(int),\n",
    "                                      99)\n",
    "    \n",
    "    return osm_edge_gdf"
   ]
  },
  {
   "cell_type": "code",
   "execution_count": 16,
   "metadata": {},
   "outputs": [],
   "source": [
    "#add lanes\n",
    "def change_lane_name(osm_edge_gdf):\n",
    "    osm_edge_gdf.rename(columns = {'LANES' :'osm_lanes', 'LANES_CONS' : 'LANES'}, inplace = True)\n",
    "    osm_edge_gdf['LANES'] = osm_edge_gdf['LANES'].astype(int)\n",
    "    \n",
    "    return osm_edge_gdf"
   ]
  },
  {
   "cell_type": "code",
   "execution_count": 17,
   "metadata": {
    "scrolled": true
   },
   "outputs": [],
   "source": [
    "#Other Attributes\n",
    "def add_other_attributes(osm_edge_gdf):\n",
    "    osm_edge_gdf['T_PRIORITY'] = np.int(0)\n",
    "\n",
    "    osm_edge_gdf['BIKE'] = np.where((osm_edge_gdf['RC_NUM'] < 30) | (osm_edge_gdf['RC_NUM'] == 60),\n",
    "                                  0,\n",
    "                                  np.where(osm_edge_gdf['RC_NUM'] == 101,\n",
    "                                          1,\n",
    "                                          3))\n",
    "    osm_edge_gdf['HOV'] = np.where((osm_edge_gdf['ASGNGRP'] == 8) | (osm_edge_gdf['ASGNGRP'] == 10),\n",
    "                                  100,\n",
    "                                  0)\n",
    "    return osm_edge_gdf"
   ]
  },
  {
   "cell_type": "code",
   "execution_count": 18,
   "metadata": {},
   "outputs": [],
   "source": [
    "def remove_duplicate_a_b_links(osm_edge_gdf):\n",
    "    osm_edge_gdf.drop_duplicates(['A', 'B'], inplace = True)\n",
    "    \n",
    "    return osm_edge_gdf\n",
    "\n",
    "def remove_cul_de_sacs(osm_edge_gdf):\n",
    "    osm_edge_gdf = osm_edge_gdf[osm_edge_gdf['A'] != osm_edge_gdf['B']]\n",
    "    \n",
    "    return osm_edge_gdf"
   ]
  },
  {
   "cell_type": "code",
   "execution_count": 19,
   "metadata": {},
   "outputs": [],
   "source": [
    "def refresh_id(osm_edge_gdf):\n",
    "    osm_edge_gdf['LINK_ID'] = range(1, 1+len(osm_edge_gdf))\n",
    "    return osm_edge_gdf"
   ]
  },
  {
   "cell_type": "code",
   "execution_count": 20,
   "metadata": {},
   "outputs": [],
   "source": [
    "def add_length(osm_edge_gdf):\n",
    "    osm_edge_gdf['DISTANCE'] = osm_edge_gdf['geometry'].length/1609.34\n",
    "    osm_edge_gdf['DISTANCE'] = osm_edge_gdf['DISTANCE'].round(10).astype(np.float16)\n",
    "    return osm_edge_gdf"
   ]
  },
  {
   "cell_type": "code",
   "execution_count": 21,
   "metadata": {},
   "outputs": [],
   "source": [
    "def build_roadway_network(osm_edge_gdf_input, osm_node_df_input, county_shape, area_shape, mn_count, wi_count, \n",
    "                          mn_fc, wi_fc, fc_corresp):\n",
    "    osm_edge_gdf = osm_edge_gdf_input.copy()\n",
    "    osm_edge_gdf = map_AB_osmid_to_consecutive_id(osm_edge_gdf, osm_node_df_input)\n",
    "    osm_edge_gdf = add_county_and_area_code(osm_edge_gdf, county_shape, area_shape)\n",
    "    osm_edge_gdf = add_road_name(osm_edge_gdf)\n",
    "    osm_edge_gdf = add_counts(osm_edge_gdf, mn_count, wi_count)\n",
    "    osm_edge_gdf = add_asgngrp_rc_num(osm_edge_gdf, mn_fc, wi_fc, fc_corresp)\n",
    "    osm_edge_gdf = change_lane_name(osm_edge_gdf)\n",
    "    osm_edge_gdf = add_other_attributes(osm_edge_gdf)\n",
    "    osm_edge_gdf = remove_duplicate_a_b_links(osm_edge_gdf)\n",
    "    osm_edge_gdf = remove_cul_de_sacs(osm_edge_gdf)\n",
    "    osm_edge_gdf = refresh_id(osm_edge_gdf)\n",
    "    osm_edge_gdf = add_length(osm_edge_gdf)\n",
    "    \n",
    "    column_list = ['A', 'B', 'LINK_ID', 'COUNTY', 'T_PRIORITY', 'AREA',\n",
    "       'HOV', 'AADT', 'AM_CNT', 'MD_CNT', 'PM_CNT', 'NT_CNT', 'DY_CNT',\n",
    "       'ASGNGRP', 'LANES', 'CENTROID', 'RC_NUM', 'geometry']\n",
    "    \n",
    "    osm_edge_gdf[column_list].to_file(cd + \"/osm_roadway_network_builder/drive_link.shp\")\n",
    "    \n",
    "    return osm_edge_gdf[column_list]\n",
    "\n",
    "def build_walk_network(osm_edge_gdf_input, osm_node_df_input, county_shape, area_shape):\n",
    "    osm_edge_gdf = osm_edge_gdf_input.copy()\n",
    "    osm_edge_gdf = map_AB_osmid_to_consecutive_id(osm_edge_gdf, osm_node_df_input)\n",
    "    osm_edge_gdf = add_county_and_area_code(osm_edge_gdf, county_shape, area_shape)\n",
    "    osm_edge_gdf = add_road_name(osm_edge_gdf)\n",
    "    osm_edge_gdf = remove_duplicate_a_b_links(osm_edge_gdf)\n",
    "    osm_edge_gdf = remove_cul_de_sacs(osm_edge_gdf)\n",
    "    osm_edge_gdf = refresh_id(osm_edge_gdf)\n",
    "    osm_edge_gdf = add_length(osm_edge_gdf)\n",
    "    \n",
    "    column_list = ['A', 'B', 'LINK_ID', 'COUNTY', 'AREA', 'CENTROID', 'geometry']\n",
    "    \n",
    "    osm_edge_gdf[column_list].to_file(cd + \"/osm_roadway_network_builder/walk_link.shp\")\n",
    "    \n",
    "    return osm_edge_gdf[column_list]"
   ]
  },
  {
   "cell_type": "code",
   "execution_count": 27,
   "metadata": {},
   "outputs": [],
   "source": [
    "def build_bike_network(build_drive_gdf):\n",
    "    build_bike_gdf = build_drive_gdf.copy()\n",
    "    #build_bike_gdf = build_bike_gdf[build_bike_gdf['BIKE'] > 0]\n",
    "    build_bike_gdf['BIKE'] = np.int(3)\n",
    "    build_bike_gdf['LINK_ID'] = range(1, 1+len(build_bike_gdf))\n",
    "    \n",
    "    column_list = ['A', 'B', 'LINK_ID', 'COUNTY', 'AREA', 'BIKE', 'CENTROID', 'geometry']\n",
    "    \n",
    "    build_bike_gdf[column_list].to_file(cd + \"/osm_roadway_network_builder/bike_link.shp\")\n",
    "    \n",
    "    return build_bike_gdf[column_list]"
   ]
  },
  {
   "cell_type": "code",
   "execution_count": null,
   "metadata": {},
   "outputs": [],
   "source": []
  },
  {
   "cell_type": "code",
   "execution_count": 28,
   "metadata": {
    "scrolled": true
   },
   "outputs": [],
   "source": [
    "#build_osm_drive_edge_gdf = build_roadway_network(osm_drive_edge_gdf, osm_drive_node_df, county_shape_gdf, area_gdf, \n",
    "   #                                              mn_count_df, wi_count_df, mn_fc_df, wi_fc_df, fc_corresp_df)\n",
    "#build_osm_walk_edge_gdf = build_walk_network(osm_walk_edge_gdf, osm_walk_node_df, county_shape_gdf, area_gdf)\n",
    "build_osm_bike_edge_gdf = build_bike_network(build_osm_drive_edge_gdf)"
   ]
  },
  {
   "cell_type": "code",
   "execution_count": 29,
   "metadata": {},
   "outputs": [
    {
     "data": {
      "text/plain": [
       "0"
      ]
     },
     "execution_count": 29,
     "metadata": {},
     "output_type": "execute_result"
    }
   ],
   "source": [
    "(build_osm_drive_edge_gdf['A']==build_osm_drive_edge_gdf['B']).sum()"
   ]
  },
  {
   "cell_type": "code",
   "execution_count": 30,
   "metadata": {},
   "outputs": [
    {
     "data": {
      "text/plain": [
       "0"
      ]
     },
     "execution_count": 30,
     "metadata": {},
     "output_type": "execute_result"
    }
   ],
   "source": [
    "(build_osm_drive_edge_gdf.groupby(['A', 'B'])['LINK_ID'].count()>=2).sum()"
   ]
  },
  {
   "cell_type": "code",
   "execution_count": 32,
   "metadata": {},
   "outputs": [
    {
     "name": "stdout",
     "output_type": "stream",
     "text": [
      "17\n",
      "6\n",
      "7\n"
     ]
    }
   ],
   "source": [
    "def shp_float_fields(network_type):\n",
    "    #additional step to add float fields\n",
    "    source = ogr.Open(cd + \"/osm_roadway_network_builder/\" + network_type + \"_link.shp\", update=True)\n",
    "    layer = source.GetLayer()\n",
    "    layer_defn = layer.GetLayerDefn()\n",
    "    field_names = [layer_defn.GetFieldDefn(i).GetName() for i in range(layer_defn.GetFieldCount())]\n",
    "    print(len(field_names))\n",
    "\n",
    "    #Add a new field - DISTANCE\n",
    "    new_field = ogr.FieldDefn('DISTANCE', ogr.OFTReal)\n",
    "    new_field.SetWidth(10)\n",
    "    new_field.SetPrecision(5)\n",
    "    if ('DISTANCE' in field_names) == False:\n",
    "        layer.CreateField(new_field)\n",
    "\n",
    "    #for i in layer:\n",
    "    #    geom = i.GetGeometryRef()\n",
    "    #    length = (geom.Length())/1609.344\n",
    "    #    i.SetField( \"DISTANCE\", length)\n",
    "    #    layer.SetFeature(i)\n",
    "\n",
    "    #Add a new field - T_MANTIME\n",
    "    if network_type == 'drive':\n",
    "        new_field = ogr.FieldDefn('T_MANTIME', ogr.OFTReal)\n",
    "        new_field.SetWidth(10) \n",
    "        new_field.SetPrecision(5)\n",
    "        if ('T_MANTIME' in field_names) == False:\n",
    "            layer.CreateField(new_field)\n",
    "\n",
    "    for i in layer:\n",
    "        geom = i.GetGeometryRef()\n",
    "        length = (geom.Length())/1609.344\n",
    "        i.SetField( \"DISTANCE\", length)\n",
    "        if network_type == 'drive':\n",
    "            i.SetField( \"T_MANTIME\", 0)\n",
    "        layer.SetFeature(i)\n",
    "\n",
    "    # Close the Shapefile\n",
    "    source = None\n",
    "\n",
    "\n",
    "for i in ['drive', 'walk', 'bike']:\n",
    "    shp_float_fields(i)"
   ]
  },
  {
   "cell_type": "code",
   "execution_count": 38,
   "metadata": {},
   "outputs": [
    {
     "data": {
      "text/plain": [
       "7     301777\n",
       "6      87986\n",
       "9      24180\n",
       "3      10387\n",
       "11      8507\n",
       "5       4415\n",
       "2       3254\n",
       "15      2180\n",
       "1       1561\n",
       "0         12\n",
       "8          7\n",
       "Name: ASGNGRP, dtype: int64"
      ]
     },
     "execution_count": 38,
     "metadata": {},
     "output_type": "execute_result"
    }
   ],
   "source": [
    "build_osm_drive_edge_gdf.ASGNGRP.value_counts()"
   ]
  },
  {
   "cell_type": "code",
   "execution_count": null,
   "metadata": {},
   "outputs": [],
   "source": [
    "# save to csv\n",
    "build_osm_drive_edge_gdf['isDriveLink'] = np.int(1)\n",
    "build_osm_walk_edge_gdf['isPedLink'] = np.int(1)\n",
    "build_osm_bike_edge_gdf['isBikeLink'] = np.int(1)\n",
    "\n",
    "build_all_edge_gdf = pd.concat([build_osm_drive_edge_gdf, build_osm_walk_edge_gdf, build_osm_bike_edge_gdf], \n",
    "                               ignore_index=True, sort = False)\n",
    "\n",
    "build_osm_drive_edge_gdf.to_csv(cd + \"osm_roadway_network_builder/drive_network_for_modeling.csv\", index = False)\n",
    "build_osm_walk_edge_gdf.to_csv(cd + \"osm_roadway_network_builder/walk_network_for_modeling.csv\", index = False)\n",
    "build_osm_bike_edge_gdf.to_csv(cd + \"osm_roadway_network_builder/bike_network_for_modeling.csv\", index = False)\n",
    "\n",
    "build_all_edge_gdf.to_csv(cd + \"osm_roadway_network_builder/network_for_modeling.csv\", index = False)"
   ]
  }
 ],
 "metadata": {
  "kernelspec": {
   "display_name": "Python 3",
   "language": "python",
   "name": "python3"
  },
  "language_info": {
   "codemirror_mode": {
    "name": "ipython",
    "version": 3
   },
   "file_extension": ".py",
   "mimetype": "text/x-python",
   "name": "python",
   "nbconvert_exporter": "python",
   "pygments_lexer": "ipython3",
   "version": "3.7.1"
  }
 },
 "nbformat": 4,
 "nbformat_minor": 2
}
