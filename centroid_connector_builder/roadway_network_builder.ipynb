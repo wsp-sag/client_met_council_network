{
 "cells": [
  {
   "cell_type": "markdown",
   "metadata": {},
   "source": [
    "roadway network builder\n",
    "description: create roadway features after centroid connector builder\n",
    "Sijia.Wang@wsp.com\n",
    "Feb 12, 2019"
   ]
  },
  {
   "cell_type": "code",
   "execution_count": 1,
   "metadata": {},
   "outputs": [],
   "source": [
    "import pandas as pd\n",
    "import numpy as np\n",
    "import geopandas as gpd\n",
    "from shapely.geometry import Point, shape, LineString"
   ]
  },
  {
   "cell_type": "code",
   "execution_count": 17,
   "metadata": {},
   "outputs": [],
   "source": [
    "#define input files\n",
    "#osm drive network (edge/node), centroid connector file, node coordinates\n",
    "cd = \"C:/Users/wangs1/Documents/Met_Council/\"\n",
    "osm_edge_file = cd + \"centroid_connector_builder/osm_edges_with_cc.shp\"\n",
    "county_shape_file = cd + \"GIS/cb_2017_us_county_5m/cb_2017_us_county_5m.shp\"\n",
    "\n",
    "#define county name codes\n",
    "county_name_dict = {'Anoka':1, 'Carver':2, 'Dakota':3, 'Hennepin':4, 'Ramsey':5, 'Scott':6, 'Washington':7, 'external':10,\n",
    "                    'Chisago':11, 'Goodhue':12, 'Isanti':13, 'Le Sueur':14, 'McLeod':15, 'Pierce':16, 'Polk':17, 'Rice':18,\n",
    "                    'Sherburne':19, 'Sibley':20, 'St. Croix':21, 'Wright':22}"
   ]
  },
  {
   "cell_type": "code",
   "execution_count": 18,
   "metadata": {},
   "outputs": [],
   "source": [
    "osm_edge_gdf = gpd.read_file(osm_edge_file)\n",
    "osm_edge_gdf = osm_edge_gdf.to_crs({'init': 'epsg:26915', 'no_defs': True})\n",
    "county_shape_gdf = gpd.read_file(county_shape_file)\n",
    "county_shape_gdf = county_shape_gdf.to_crs(epsg = 26915)"
   ]
  },
  {
   "cell_type": "code",
   "execution_count": 19,
   "metadata": {
    "scrolled": true
   },
   "outputs": [],
   "source": [
    "# add county\n",
    "#osm_edge_gdf['ID'] = range(1, 1+len(osm_edge_gdf))\n",
    "osm_edge_gdf['mid_point'] = osm_edge_gdf['geometry'].interpolate(0.5, normalized = True)\n",
    "osm_edge_gdf.rename(columns = {'mid_point' : 'geometry', 'geometry' : 'line_geom'}, inplace = True)\n",
    "\n",
    "osm_edge_gdf = gpd.sjoin(osm_edge_gdf, \n",
    "                        county_shape_gdf, \n",
    "                        how = 'left', \n",
    "                        op = 'intersects')\n",
    "\n",
    "osm_edge_gdf.rename(columns = {'geometry' : 'mid_point', 'line_geom' : 'geometry'}, inplace = True)\n",
    "\n",
    "osm_edge_gdf['COUNTY'] = osm_edge_gdf['NAME_right'].map(county_name_dict).fillna(10).astype(int)"
   ]
  },
  {
   "cell_type": "code",
   "execution_count": 36,
   "metadata": {
    "scrolled": true
   },
   "outputs": [],
   "source": [
    "#add link distance in miles\n",
    "osm_edge_gdf['DISTANCE'] = osm_edge_gdf['geometry'].length/1609.344\n",
    "osm_edge_gdf['DISTANCE'] = osm_edge_gdf['DISTANCE'].astype(np.float16)"
   ]
  },
  {
   "cell_type": "code",
   "execution_count": 37,
   "metadata": {
    "scrolled": true
   },
   "outputs": [],
   "source": [
    "#Other Attributes\n",
    "osm_edge_gdf['T_PRIORITY'] = np.float16(0)\n",
    "osm_edge_gdf['T_MANTIME'] = np.float16(0)\n",
    "osm_edge_gdf['BIKE'] = 0\n",
    "osm_edge_gdf['AREA'] = 0\n",
    "osm_edge_gdf['HOV'] = 0\n",
    "osm_edge_gdf['AADT'] = 0\n",
    "osm_edge_gdf['AM_CNT'] = 0\n",
    "osm_edge_gdf['MD_CNT'] = 0\n",
    "osm_edge_gdf['PM_CNT'] = 0\n",
    "osm_edge_gdf['NT_CNT'] = 0\n",
    "osm_edge_gdf['DY_CNT'] = 0\n",
    "osm_edge_gdf['ASGNGRP'] = 0\n",
    "#osm_edge_gdf.rename(columns = {'LANES' :'osm_lanes', 'LANES_CONS' : 'LANES'}, inplace = True)\n",
    "osm_edge_gdf['LANES'] = osm_edge_gdf['LANES'].astype(int)\n",
    "osm_edge_gdf['RC_NUM'] = 0"
   ]
  },
  {
   "cell_type": "code",
   "execution_count": 40,
   "metadata": {
    "scrolled": true
   },
   "outputs": [],
   "source": [
    "column_list = ['ID', 'osmid_from', 'osmid_to', 'COUNTY', 'T_PRIORITY', 'T_MANTIME', 'DISTANCE', 'BIKE', 'AREA',\n",
    "       'HOV', 'AADT', 'AM_CNT', 'MD_CNT', 'PM_CNT', 'NT_CNT', 'DY_CNT',\n",
    "       'ASGNGRP', 'LANES', 'CENTROID', 'RC_NUM', 'geometry']\n",
    "osm_edge_gdf[column_list].to_file(cd + \"/osm_roadway_network_builder/osm_roadway_for_modeling.shp\")"
   ]
  },
  {
   "cell_type": "code",
   "execution_count": 41,
   "metadata": {},
   "outputs": [],
   "source": [
    "pd.DataFrame(osm_edge_gdf[column_list]).rename(columns = {'ID' :'id'}).to_csv(cd + \"osm_roadway_network_builder/osm_roadway_for_modeling.csv\",\n",
    "                                              index = False)"
   ]
  },
  {
   "cell_type": "code",
   "execution_count": null,
   "metadata": {},
   "outputs": [],
   "source": []
  }
 ],
 "metadata": {
  "kernelspec": {
   "display_name": "Python 3",
   "language": "python",
   "name": "python3"
  },
  "language_info": {
   "codemirror_mode": {
    "name": "ipython",
    "version": 3
   },
   "file_extension": ".py",
   "mimetype": "text/x-python",
   "name": "python",
   "nbconvert_exporter": "python",
   "pygments_lexer": "ipython3",
   "version": "3.7.1"
  }
 },
 "nbformat": 4,
 "nbformat_minor": 2
}
