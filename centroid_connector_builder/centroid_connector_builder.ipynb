{
 "cells": [
  {
   "cell_type": "markdown",
   "metadata": {},
   "source": [
    "centroid connector builder\n",
    "description: generate centroid connectors for OSM drive network\n",
    "Sijia.Wang@wsp.com\n",
    "Feb 7, 2019"
   ]
  },
  {
   "cell_type": "code",
   "execution_count": 1,
   "metadata": {},
   "outputs": [],
   "source": [
    "import pandas as pd\n",
    "import numpy as np\n",
    "import geopandas as gpd\n",
    "from shapely.geometry import Point, shape, LineString\n",
    "from scipy.spatial import cKDTree"
   ]
  },
  {
   "cell_type": "code",
   "execution_count": 2,
   "metadata": {},
   "outputs": [],
   "source": [
    "#run option\n",
    "run_drive = True\n",
    "run_walk = True\n",
    "#define input files\n",
    "#osm drive network (edge/node), centroid connector file, node coordinates\n",
    "cd = \"C:/Users/wangs1/Documents/Met_Council/\"\n",
    "osm_drive_edge_file = cd + \"data/network-shape_MetCouncil_full/osm_networktype_drive/consolidate_lane/osm_complete_lanes.shp\"\n",
    "osm_drive_node_file = cd + \"data/network-shape_MetCouncil_full/osm_networktype_drive/drive_node.shp\"\n",
    "osm_walk_edge_file = cd + \"data/network-shape_MetCouncil_full/osm_networktype_walk/walk_edge.shp\"\n",
    "osm_walk_node_file = cd + \"data/network-shape_MetCouncil_full/osm_networktype_walk/walk_node.shp\"\n",
    "centroid_connector_file = cd + \"centroid_connector_builder/centroid_links.csv\"\n",
    "node_coordinates_file = cd + \"centroid_connector_builder/node_coordinates.csv\""
   ]
  },
  {
   "cell_type": "code",
   "execution_count": 3,
   "metadata": {},
   "outputs": [],
   "source": [
    "#read input files\n",
    "osm_drive_edge_gdf = gpd.read_file(osm_drive_edge_file)\n",
    "osm_drive_node_gdf = gpd.read_file(osm_drive_node_file)\n",
    "osm_walk_edge_gdf = gpd.read_file(osm_walk_edge_file)\n",
    "osm_walk_node_gdf = gpd.read_file(osm_walk_node_file)\n",
    "centroid_connector_df = pd.read_csv(centroid_connector_file)\n",
    "node_coordinates_df = pd.read_csv(node_coordinates_file)"
   ]
  },
  {
   "cell_type": "code",
   "execution_count": 17,
   "metadata": {},
   "outputs": [
    {
     "data": {
      "text/plain": [
       "(167538, 8)"
      ]
     },
     "execution_count": 17,
     "metadata": {},
     "output_type": "execute_result"
    }
   ],
   "source": [
    "osm_drive_node_gdf.shape"
   ]
  },
  {
   "cell_type": "code",
   "execution_count": 13,
   "metadata": {},
   "outputs": [],
   "source": [
    "#define key param\n",
    "#zone_hi = 3030\n",
    "external_hi = 3061"
   ]
  },
  {
   "cell_type": "code",
   "execution_count": 4,
   "metadata": {},
   "outputs": [],
   "source": [
    "osm_drive_edge_gdf = osm_drive_edge_gdf.to_crs(epsg = 26915)\n",
    "osm_drive_node_gdf = osm_drive_node_gdf.to_crs(epsg = 26915)\n",
    "osm_walk_edge_gdf = osm_walk_edge_gdf.to_crs(epsg = 26915)\n",
    "osm_walk_node_gdf = osm_walk_node_gdf.to_crs(epsg = 26915)"
   ]
  },
  {
   "cell_type": "code",
   "execution_count": 5,
   "metadata": {},
   "outputs": [],
   "source": [
    "osm_walk_edge_gdf.columns = [x.upper() if x is not 'geometry' else x for x in osm_walk_edge_gdf.columns]"
   ]
  },
  {
   "cell_type": "code",
   "execution_count": null,
   "metadata": {
    "scrolled": true
   },
   "outputs": [],
   "source": [
    "#osm_node_gdf = osm_node_gdf.to_crs(epsg = 26915)\n",
    "#osm_node_gdf['x_reproj'] = osm_node_gdf['geometry'].apply(lambda p: p.x)\n",
    "#osm_node_gdf['y_reproj'] = osm_node_gdf['geometry'].apply(lambda p: p.y)"
   ]
  },
  {
   "cell_type": "code",
   "execution_count": 6,
   "metadata": {},
   "outputs": [],
   "source": [
    "centroid_connector_df['c'] = centroid_connector_df[['A', 'B']].min(axis = 1)\n",
    "centroid_connector_df['non_c'] = centroid_connector_df[['A', 'B']].max(axis = 1)"
   ]
  },
  {
   "cell_type": "code",
   "execution_count": 7,
   "metadata": {
    "scrolled": true
   },
   "outputs": [],
   "source": [
    "def num_of_drive_loadpoint_per_centroid(existing_drive_cc_df, node_coordinates_df):\n",
    "    existing_pairs_of_centroid_loadpoint_df = existing_drive_cc_df.groupby(['c', 'non_c']).count().reset_index().drop(['A','B'], axis = 1)\n",
    "    existing_num_of_loadpoint_per_c_df = existing_drive_cc_df.groupby(['c', 'non_c']).count().groupby('c').count()[['A']].rename(columns = {'A':'abm_num_load'}).reset_index()\n",
    "    num_drive_loadpoint_new_near_old = pd.merge(existing_pairs_of_centroid_loadpoint_df,\n",
    "                                                        existing_num_of_loadpoint_per_c_df,\n",
    "                                                        how = 'left',\n",
    "                                                        on = 'c')\n",
    "    num_drive_loadpoint_new_near_old['osm_num_load'] = (4 / num_drive_loadpoint_new_near_old['abm_num_load']).astype(int)\n",
    "    num_drive_loadpoint_new_near_old = pd.merge(num_drive_loadpoint_new_near_old,\n",
    "                                                        node_coordinates_df[['N', 'X', 'Y']],\n",
    "                                                        how = 'left',\n",
    "                                                        left_on = 'non_c',\n",
    "                                                        right_on = 'N')\n",
    "    return num_drive_loadpoint_new_near_old\n",
    "\n",
    "def num_of_walk_loadpoint_per_centroid(node_coordinates_df):\n",
    "    num_walk_loadpoint = node_coordinates_df[['N', 'X', 'Y']].copy()\n",
    "    num_walk_loadpoint = num_walk_loadpoint[num_walk_loadpoint['N'] <= external_hi]\n",
    "    num_walk_loadpoint['osm_num_load'] = np.int(5)\n",
    "    num_walk_loadpoint.rename(columns = {'N':'c'}, inplace = True)\n",
    "    \n",
    "    return num_walk_loadpoint\n",
    "#develop_new_cc_df = pd.merge(existing_drive_cc_df.groupby(['c', 'non_c']).count().reset_index().drop(['A','B'], axis = 1),\n",
    "#         existing_drive_cc_df.groupby(['c', 'non_c']).count().groupby('c').count()[['A']].rename(columns = {'A':'abm_num_load'}).reset_index(),\n",
    "#         how = 'left', \n",
    "#         on = 'c')\n",
    "#develop_new_cc_df['osm_num_load'] = (4 / develop_new_cc_df['abm_num_load']).astype(int)\n",
    "#develop_new_cc_df = pd.merge(develop_new_cc_df, \n",
    "#                            node_coordinates_df[['N', 'X', 'Y']],\n",
    "#                            how = 'left',\n",
    "#                            left_on = 'non_c',\n",
    "#                            right_on = 'N')"
   ]
  },
  {
   "cell_type": "code",
   "execution_count": 8,
   "metadata": {},
   "outputs": [],
   "source": [
    "def find_new_load_point(abm_load_ref_df, osm_node_gdf):\n",
    "    osm_node_gdf['x_reproj'] = osm_node_gdf['geometry'].apply(lambda p: p.x)\n",
    "    osm_node_gdf['y_reproj'] = osm_node_gdf['geometry'].apply(lambda p: p.y)\n",
    "    inventory_node_ref = osm_node_gdf[['x_reproj', 'y_reproj']].values\n",
    "    tree = cKDTree(inventory_node_ref)\n",
    "    new_load_point_gdf = gpd.GeoDataFrame()\n",
    "    for i in range(len(abm_load_ref_df)):\n",
    "        point = abm_load_ref_df.iloc[i][['X', 'Y']].values\n",
    "        n_neigh = abm_load_ref_df.iloc[i]['osm_num_load']\n",
    "        dd, ii = tree.query(point, k = n_neigh)\n",
    "        if n_neigh == 1:\n",
    "            add_gdf = gpd.GeoDataFrame(osm_node_gdf[['osmid', 'geometry']].iloc[ii]).transpose().reset_index(drop = True)\n",
    "        else:\n",
    "            add_gdf = gpd.GeoDataFrame(osm_node_gdf[['osmid', 'geometry']].iloc[ii]).reset_index(drop = True)\n",
    "        add_gdf['c'] = int(abm_load_ref_df.iloc[i]['c'])\n",
    "        if i == 0:\n",
    "            new_load_point_gdf = add_gdf.copy()\n",
    "        else:\n",
    "            new_load_point_gdf = new_load_point_gdf.append(add_gdf, ignore_index=True, sort=False)\n",
    "        #print(i)\n",
    "        #print(add_gdf)\n",
    "    return new_load_point_gdf.rename(columns = {'geometry' : 'geometry_ld'})"
   ]
  },
  {
   "cell_type": "code",
   "execution_count": 9,
   "metadata": {},
   "outputs": [],
   "source": [
    "def generate_centroid_connectors(run_type, existing_drive_cc_df, osm_node_gdf, abm_node_df):\n",
    "    if run_type == 'drive':\n",
    "        abm_load_ref_df = num_of_drive_loadpoint_per_centroid(existing_drive_cc_df, abm_node_df)\n",
    "    if run_type == 'walk':\n",
    "        abm_load_ref_df = num_of_walk_loadpoint_per_centroid(abm_node_df)\n",
    "\n",
    "    new_load_point_gdf = find_new_load_point(abm_load_ref_df, osm_node_gdf)\n",
    "    new_load_point_gdf = pd.merge(new_load_point_gdf,\n",
    "                                 abm_node_df[['N', 'X', 'Y']],\n",
    "                                 how = 'left', \n",
    "                                 left_on = 'c',\n",
    "                                 right_on = 'N')\n",
    "    new_load_point_gdf['geometry_c'] = [Point(xy) for xy in zip(new_load_point_gdf['X'], new_load_point_gdf['Y'])]\n",
    "    new_load_point_gdf.drop(['N', 'X', 'Y'], axis = 1, inplace = True)\n",
    "    \n",
    "    #centroid coordinates\n",
    "    new_centroid_gdf = new_load_point_gdf.copy()[['c', 'geometry_c']]\n",
    "    new_centroid_gdf.rename(columns = {'c' : 'osmid', 'geometry_c' : 'geometry'}, inplace = True)\n",
    "    new_centroid_gdf.drop_duplicates(['osmid'], inplace = True)\n",
    "    \n",
    "    #inbound cc\n",
    "    new_cc_in_gdf = new_load_point_gdf.copy()\n",
    "    new_cc_in_gdf['geometry'] = [LineString(xy) for xy in zip(new_cc_in_gdf['geometry_ld'], new_cc_in_gdf['geometry_c'])]\n",
    "    new_cc_in_gdf = new_cc_in_gdf.rename(columns = {'osmid' : 'osmid_from', 'c' : 'osmid_to'})\n",
    "    \n",
    "    #outbound cc\n",
    "    new_cc_out_gdf = new_load_point_gdf.copy()\n",
    "    new_cc_out_gdf['geometry'] = [LineString(xy) for xy in zip(new_cc_out_gdf['geometry_c'], new_cc_out_gdf['geometry_ld'])]\n",
    "    new_cc_out_gdf = new_cc_out_gdf.rename(columns = {'osmid' : 'osmid_to', 'c' : 'osmid_from'})\n",
    "    \n",
    "    #bind\n",
    "    new_cc_gdf = new_cc_in_gdf.append(new_cc_out_gdf, ignore_index = True, sort = False)\n",
    "    new_cc_gdf.drop(['geometry_ld', 'geometry_c'], axis = 1, inplace = True)\n",
    "    \n",
    "    #remove duplicates\n",
    "    new_cc_gdf.drop_duplicates(['osmid_from', 'osmid_to'], inplace = True)\n",
    "    \n",
    "    new_cc_gdf.crs = {'init' : 'epsg:26915'}\n",
    "    new_centroid_gdf.crs = {'init' : 'epsg:26915'}\n",
    "    \n",
    "    return new_cc_gdf, new_centroid_gdf"
   ]
  },
  {
   "cell_type": "code",
   "execution_count": 10,
   "metadata": {
    "scrolled": true
   },
   "outputs": [],
   "source": [
    "def format_and_export(run_type, new_cc_gdf, osm_edge_gdf, new_centroid_gdf, osm_node_gdf):\n",
    "    #new_cc_gdf.crs = {'init' : 'epsg:26915'}\n",
    "    #osm_edge_gdf = osm_edge_gdf.to_crs(epsg = 26915)\n",
    "    new_cc_gdf['LANES_CONS'] = 1\n",
    "    if ('LANES_CONS' in osm_edge_gdf) == False:\n",
    "        osm_edge_gdf['LANES_CONS'] = 1\n",
    "    new_cc_gdf['CENTROID'] = int(1)\n",
    "    osm_edge_gdf['CENTROID'] = int(0)\n",
    "    osm_edge_gdf.rename(columns = {'U' : 'osmid_from', 'V' : 'osmid_to'}, inplace = True)\n",
    "    osm_edge_with_cc_gdf = osm_edge_gdf.append(new_cc_gdf, ignore_index = True, sort = False)\n",
    "    osm_edge_with_cc_gdf['LINK_ID'] = range(1, 1+len(osm_edge_with_cc_gdf))\n",
    "    osm_edge_with_cc_gdf.to_file(cd + \"/centroid_connector_builder/osm_\" + run_type + \"_edges_with_cc_new.shp\")\n",
    "    \n",
    "    osm_node_with_centroid_gdf = osm_node_gdf.append(new_centroid_gdf, ignore_index = True, sort = False)\n",
    "    osm_node_with_centroid_gdf['osmid'] = pd.to_numeric(osm_node_with_centroid_gdf['osmid'], downcast = 'integer')\n",
    "    #osm_node_with_centroid_gdf.crs = {'init' : 'epsg:26915'}\n",
    "    \n",
    "    #create consecutive node id\n",
    "    osm_node_reindex_gdf = osm_node_with_centroid_gdf[['osmid', 'geometry']].copy()\n",
    "    osm_node_reindex_gdf.sort_values(by = ['osmid'], inplace = True)\n",
    "    osm_node_reindex_gdf['N'] = range(1, 1+len(osm_node_reindex_gdf))\n",
    "    \n",
    "    #create X, Y\n",
    "    osm_node_reindex_gdf['X'] = osm_node_reindex_gdf['geometry'].apply(lambda p: p.x)\n",
    "    osm_node_reindex_gdf['Y'] = osm_node_reindex_gdf['geometry'].apply(lambda p: p.y)\n",
    "    osm_node_reindex_gdf.rename(columns = {'osmid' : 'OSMID'}, inplace = True)\n",
    "    \n",
    "    #save output\n",
    "    pd.DataFrame(osm_node_reindex_gdf[['N', 'X', 'Y', 'OSMID']]).to_csv(cd + \"/centroid_connector_builder/\" + run_type + \"_node.csv\",\n",
    "                                                                      index = False)\n",
    "    osm_node_reindex_gdf[['N', 'X', 'Y', 'OSMID', 'geometry']].to_file(cd + \"/centroid_connector_builder/\" + run_type + \"_node.shp\")\n",
    "    \n",
    "    return osm_edge_with_cc_gdf, osm_node_reindex_gdf"
   ]
  },
  {
   "cell_type": "code",
   "execution_count": 11,
   "metadata": {},
   "outputs": [
    {
     "name": "stderr",
     "output_type": "stream",
     "text": [
      "C:\\ProgramData\\Anaconda3\\lib\\site-packages\\geopandas\\io\\file.py:108: FionaDeprecationWarning: Use fiona.Env() instead.\n",
      "  with fiona.drivers():\n"
     ]
    }
   ],
   "source": [
    "if run_drive == True:\n",
    "    new_drive_cc_gdf, new_drive_centroid_gdf = generate_centroid_connectors('drive',\n",
    "                                                                        centroid_connector_df,\n",
    "                                                                        osm_drive_node_gdf, \n",
    "                                                                        node_coordinates_df)\n",
    "    osm_drive_edge_with_cc_gdf, osm_drive_node_with_c_gdf = format_and_export('drive', \n",
    "                                                                              new_drive_cc_gdf, \n",
    "                                                                              osm_drive_edge_gdf,\n",
    "                                                                              new_drive_centroid_gdf,\n",
    "                                                                              osm_drive_node_gdf)"
   ]
  },
  {
   "cell_type": "code",
   "execution_count": 14,
   "metadata": {},
   "outputs": [
    {
     "name": "stderr",
     "output_type": "stream",
     "text": [
      "C:\\ProgramData\\Anaconda3\\lib\\site-packages\\geopandas\\io\\file.py:108: FionaDeprecationWarning: Use fiona.Env() instead.\n",
      "  with fiona.drivers():\n"
     ]
    }
   ],
   "source": [
    "if run_walk == True:\n",
    "    new_walk_cc_gdf, new_walk_centroid_gdf = generate_centroid_connectors('walk',\n",
    "                                                                        centroid_connector_df,\n",
    "                                                                        osm_walk_node_gdf, \n",
    "                                                                        node_coordinates_df)\n",
    "    osm_walk_edge_with_cc_gdf, osm_walk_node_with_c_gdf = format_and_export('walk', \n",
    "                                                                            new_walk_cc_gdf,\n",
    "                                                                            osm_walk_edge_gdf, \n",
    "                                                                            new_walk_centroid_gdf,\n",
    "                                                                            osm_walk_node_gdf)"
   ]
  },
  {
   "cell_type": "code",
   "execution_count": 15,
   "metadata": {},
   "outputs": [],
   "source": [
    "osm_drive_node_with_c_gdf[['N', 'X', 'Y', 'OSMID', 'geometry']].to_file(cd + \"/centroid_connector_builder/\" + 'drive' + \"_node.shp\")\n",
    "osm_drive_node_with_c_gdf[['N', 'X', 'Y', 'OSMID', 'geometry']].to_file(cd + \"/centroid_connector_builder/\" + 'bike' + \"_node.shp\")\n",
    "osm_walk_node_with_c_gdf[['N', 'X', 'Y', 'OSMID', 'geometry']].to_file(cd + \"/centroid_connector_builder/\" + 'walk' + \"_node.shp\")"
   ]
  },
  {
   "cell_type": "markdown",
   "metadata": {},
   "source": [
    "osm_drive_node_with_c_gdf['isDriveNode'] = np.int(1)\n",
    "osm_bike_node_with_c_gdf = osm_drive_node_with_c_gdf.copy()\n",
    "osm_bike_node_with_c_gdf['isBikeNode'] = np.int(1)\n",
    "osm_walk_node_with_c_gdf['isWalkNode'] = np.int(1)\n",
    "\n",
    "node_all_gdf = pd.concat([osm_drive_node_with_c_gdf, osm_bike_node_with_c_gdf, osm_walk_node_with_c_gdf],\n",
    "                         ignore_index=True, sort = False)\n",
    "node_all_gdf.to_csv(cd + \"/centroid_connector_builder/all_nodes_with_centroid.csv\",\n",
    "                                                                      index = False)"
   ]
  }
 ],
 "metadata": {
  "kernelspec": {
   "display_name": "Python 3",
   "language": "python",
   "name": "python3"
  },
  "language_info": {
   "codemirror_mode": {
    "name": "ipython",
    "version": 3
   },
   "file_extension": ".py",
   "mimetype": "text/x-python",
   "name": "python",
   "nbconvert_exporter": "python",
   "pygments_lexer": "ipython3",
   "version": "3.7.1"
  }
 },
 "nbformat": 4,
 "nbformat_minor": 2
}
