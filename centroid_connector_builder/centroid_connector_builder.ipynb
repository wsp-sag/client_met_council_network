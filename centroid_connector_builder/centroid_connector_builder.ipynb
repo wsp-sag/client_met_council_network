{
 "cells": [
  {
   "cell_type": "markdown",
   "metadata": {},
   "source": [
    "centroid connector builder\n",
    "description: generate centroid connectors for OSM drive network\n",
    "Sijia.Wang@wsp.com\n",
    "Feb 7, 2019"
   ]
  },
  {
   "cell_type": "code",
   "execution_count": 239,
   "metadata": {},
   "outputs": [],
   "source": [
    "import pandas as pd\n",
    "import numpy as np\n",
    "import geopandas as gpd\n",
    "from shapely.geometry import Point, shape, LineString\n",
    "from scipy.spatial import cKDTree"
   ]
  },
  {
   "cell_type": "code",
   "execution_count": 306,
   "metadata": {},
   "outputs": [],
   "source": [
    "#define input files\n",
    "#osm drive network (edge/node), centroid connector file, node coordinates\n",
    "cd = \"C:/Users/wangs1/Documents/Met_Council/\"\n",
    "osm_edge_file = cd + \"data/network-shape_MetCouncil_full/osm_networktype_drive/consolidate_lane/osm_complete_lanes.shp\"\n",
    "osm_node_file = cd + \"data/network-shape_MetCouncil_full/osm_networktype_drive/drive_node.shp\"\n",
    "centroid_connector_file = cd + \"centroid_connector_builder/centroid_links.csv\"\n",
    "node_coordinates_file = cd + \"centroid_connector_builder/node_coordinates.csv\""
   ]
  },
  {
   "cell_type": "code",
   "execution_count": 307,
   "metadata": {},
   "outputs": [],
   "source": [
    "#read input files\n",
    "osm_edge_gdf = gpd.read_file(osm_edge_file)\n",
    "osm_node_gdf = gpd.read_file(osm_node_file)\n",
    "centroid_connector_df = pd.read_csv(centroid_connector_file)\n",
    "node_coordinates_df = pd.read_csv(node_coordinates_file)"
   ]
  },
  {
   "cell_type": "code",
   "execution_count": 8,
   "metadata": {},
   "outputs": [],
   "source": [
    "#define key param\n",
    "zone_hi = 3030\n",
    "external_hi = 3061"
   ]
  },
  {
   "cell_type": "code",
   "execution_count": 308,
   "metadata": {
    "scrolled": true
   },
   "outputs": [],
   "source": [
    "osm_node_gdf = osm_node_gdf.to_crs(epsg = 26915)\n",
    "osm_node_gdf['x_reproj'] = osm_node_gdf['geometry'].apply(lambda p: p.x)\n",
    "osm_node_gdf['y_reproj'] = osm_node_gdf['geometry'].apply(lambda p: p.y)"
   ]
  },
  {
   "cell_type": "code",
   "execution_count": 309,
   "metadata": {},
   "outputs": [],
   "source": [
    "centroid_connector_df['c'] = centroid_connector_df[['A', 'B']].min(axis = 1)\n",
    "centroid_connector_df['non_c'] = centroid_connector_df[['A', 'B']].max(axis = 1)"
   ]
  },
  {
   "cell_type": "code",
   "execution_count": 310,
   "metadata": {
    "scrolled": true
   },
   "outputs": [],
   "source": [
    "develop_new_cc_df = pd.merge(centroid_connector_df.groupby(['c', 'non_c']).count().reset_index().drop(['A','B'], axis = 1),\n",
    "         centroid_connector_df.groupby(['c', 'non_c']).count().groupby('c').count()[['A']].rename(columns = {'A':'abm_num_load'}).reset_index(),\n",
    "         how = 'left', \n",
    "         on = 'c')\n",
    "develop_new_cc_df['osm_num_load'] = (4 / develop_new_cc_df['abm_num_load']).astype(int)\n",
    "develop_new_cc_df = pd.merge(develop_new_cc_df, \n",
    "                            node_coordinates_df[['N', 'X', 'Y']],\n",
    "                            how = 'left',\n",
    "                            left_on = 'non_c',\n",
    "                            right_on = 'N')"
   ]
  },
  {
   "cell_type": "code",
   "execution_count": 329,
   "metadata": {},
   "outputs": [],
   "source": [
    "def find_new_load_point(abm_node_df, osm_node_gdf):\n",
    "    inventory_node_ref = osm_node_gdf[['x_reproj', 'y_reproj']].values\n",
    "    tree = cKDTree(inventory_node_ref)\n",
    "    new_load_point_gdf = gpd.GeoDataFrame()\n",
    "    for i in range(len(abm_node_df)):\n",
    "        point = abm_node_df.iloc[i][['X', 'Y']].values\n",
    "        n_neigh = abm_node_df.iloc[i]['osm_num_load']\n",
    "        dd, ii = tree.query(point, k = n_neigh)\n",
    "        if n_neigh == 1:\n",
    "            add_gdf = gpd.GeoDataFrame(osm_node_gdf[['osmid', 'geometry']].iloc[ii]).transpose().reset_index(drop = True)\n",
    "        else:\n",
    "            add_gdf = gpd.GeoDataFrame(osm_node_gdf[['osmid', 'geometry']].iloc[ii]).reset_index(drop = True)\n",
    "        add_gdf['c'] = int(abm_node_df.iloc[i]['c'])\n",
    "        if i == 0:\n",
    "            new_load_point_gdf = add_gdf.copy()\n",
    "        else:\n",
    "            new_load_point_gdf = new_load_point_gdf.append(add_gdf, ignore_index=True, sort=False)\n",
    "        #print(i)\n",
    "        #print(add_gdf)\n",
    "    return new_load_point_gdf.rename(columns = {'geometry' : 'geometry_l'})"
   ]
  },
  {
   "cell_type": "code",
   "execution_count": 359,
   "metadata": {},
   "outputs": [],
   "source": [
    "def generate_centroid_connectors(abm_load_ref_df, osm_node_gdf, abm_node_df):\n",
    "    new_load_point_gdf = find_new_load_point(abm_load_ref_df, osm_node_gdf)\n",
    "    new_load_point_gdf = pd.merge(new_load_point_gdf,\n",
    "                                 abm_node_df[['N', 'X', 'Y']],\n",
    "                                 how = 'left', \n",
    "                                 left_on = 'c',\n",
    "                                 right_on = 'N')\n",
    "    new_load_point_gdf['geometry_c'] = [Point(xy) for xy in zip(new_load_point_gdf['X'], new_load_point_gdf['Y'])]\n",
    "    new_load_point_gdf.drop(['N', 'X', 'Y'], axis = 1, inplace = True)\n",
    "    \n",
    "    #centroid coordinates\n",
    "    new_centroid_gdf = new_load_point_gdf.copy()[['c', 'geometry_c']]\n",
    "    new_centroid_gdf.rename(columns = {'c' : 'osmid', 'geometry_c' : 'geometry'}, inplace = True)\n",
    "    new_centroid_gdf.drop_duplicates(['osmid'], inplace = True)\n",
    "    \n",
    "    #inbound cc\n",
    "    new_cc_in_gdf = new_load_point_gdf.copy()\n",
    "    new_cc_in_gdf['geometry'] = [LineString(xy) for xy in zip(new_cc_in_gdf['geometry_l'], new_cc_in_gdf['geometry_c'])]\n",
    "    new_cc_in_gdf = new_cc_in_gdf.rename(columns = {'osmid' : 'osmid_from', 'c' : 'osmid_to'})\n",
    "    \n",
    "    #outbound cc\n",
    "    new_cc_out_gdf = new_load_point_gdf.copy()\n",
    "    new_cc_out_gdf['geometry'] = [LineString(xy) for xy in zip(new_cc_out_gdf['geometry_c'], new_cc_out_gdf['geometry_l'])]\n",
    "    new_cc_out_gdf = new_cc_out_gdf.rename(columns = {'osmid' : 'osmid_to', 'c' : 'osmid_from'})\n",
    "    \n",
    "    #bind\n",
    "    new_cc_gdf = new_cc_in_gdf.append(new_cc_out_gdf, ignore_index = True, sort = False)\n",
    "    new_cc_gdf.drop(['geometry_l', 'geometry_c'], axis = 1, inplace = True)\n",
    "    \n",
    "    #remove duplicates\n",
    "    new_cc_gdf.drop_duplicates(['osmid_from', 'osmid_to'], inplace = True)\n",
    "    \n",
    "    return new_cc_gdf, new_centroid_gdf"
   ]
  },
  {
   "cell_type": "code",
   "execution_count": 360,
   "metadata": {},
   "outputs": [],
   "source": [
    "new_cc_gdf, new_centroid_gdf = generate_centroid_connectors(develop_new_cc_df, osm_node_gdf, node_coordinates_df)"
   ]
  },
  {
   "cell_type": "code",
   "execution_count": 423,
   "metadata": {
    "scrolled": true
   },
   "outputs": [
    {
     "name": "stderr",
     "output_type": "stream",
     "text": [
      "C:\\ProgramData\\Anaconda3\\lib\\site-packages\\geopandas\\io\\file.py:108: FionaDeprecationWarning: Use fiona.Env() instead.\n",
      "  with fiona.drivers():\n"
     ]
    }
   ],
   "source": [
    "new_cc_gdf.crs = {'init' : 'epsg:26915'}\n",
    "new_cc_gdf['LANES_CONS'] = 1\n",
    "new_cc_gdf['CENTROID'] = int(1)\n",
    "osm_edge_gdf = osm_edge_gdf.to_crs(epsg = 26915)\n",
    "osm_edge_gdf['CENTROID'] = int(0)\n",
    "osm_edge_gdf.rename(columns = {'U' : 'osmid_from', 'V' : 'osmid_to'}, inplace = True)\n",
    "osm_edge_with_cc_gdf = osm_edge_gdf.append(new_cc_gdf, ignore_index = True, sort = False)\n",
    "osm_edge_with_cc_gdf['ID'] = range(1, 1+len(osm_edge_with_cc_gdf))\n",
    "osm_edge_with_cc_gdf.to_file(cd + \"/centroid_connector_builder/osm_edges_with_cc.shp\")"
   ]
  },
  {
   "cell_type": "code",
   "execution_count": 362,
   "metadata": {
    "scrolled": true
   },
   "outputs": [],
   "source": [
    "osm_node_with_centroid_gdf = osm_node_gdf.append(new_centroid_gdf, ignore_index = True, sort = False)\n",
    "osm_node_with_centroid_gdf.crs = {'init' : 'epsg:26915'}\n",
    "osm_node_with_centroid_gdf[['osmid', 'geometry']].to_file(cd + \"/centroid_connector_builder/osm_nodes_with_centroid.shp\")"
   ]
  },
  {
   "cell_type": "code",
   "execution_count": 424,
   "metadata": {},
   "outputs": [],
   "source": [
    "pd.DataFrame(osm_node_with_centroid_gdf[['osmid', 'geometry']]).to_csv(cd + \"/centroid_connector_builder/osm_nodes_with_centroid.csv\",\n",
    "                                                                      index = False)"
   ]
  }
 ],
 "metadata": {
  "kernelspec": {
   "display_name": "Python 3",
   "language": "python",
   "name": "python3"
  },
  "language_info": {
   "codemirror_mode": {
    "name": "ipython",
    "version": 3
   },
   "file_extension": ".py",
   "mimetype": "text/x-python",
   "name": "python",
   "nbconvert_exporter": "python",
   "pygments_lexer": "ipython3",
   "version": "3.7.1"
  }
 },
 "nbformat": 4,
 "nbformat_minor": 2
}
